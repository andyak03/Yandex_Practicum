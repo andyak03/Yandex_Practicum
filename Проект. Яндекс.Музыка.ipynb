{
 "cells": [
  {
   "cell_type": "markdown",
   "metadata": {},
   "source": [
    "<div class=\"alert alert-success\">\n",
    "<font size=\"5\", color = \"seagreen\"><b>✔️ Комментарий ревьюера в3</b></font>\n",
    "    <br /> \n",
    "    <font size=\"4\", color = \"black\">\n",
    "<br /> Привет, Андрей :)  На проекте порядок \n",
    "\n",
    "<b>Поздравляю с успешно сданным первым проектом на факультете дата-аналитики Я.Практикум</b>\n",
    "\n",
    "<div class=\"alert alert-success\">\n",
    "    <font size=\"5\", color = \"seagreen\"><b>Успехов в дальнейшей учебе 🤝</b></font><br />"
   ]
  },
  {
   "cell_type": "markdown",
   "metadata": {},
   "source": [
    "<div class=\"alert alert-success\">\n",
    "<font size=\"4\"><b>Комментарий ревьюера в2</b></font>\n",
    "    <br /> \n",
    "    <font size=\"3\", color = \"black\">\n",
    "<br />\n",
    "    Привет, Андрей :) группировка таблиц — базовый навык, без которого принять проект невозможно, подсказку для исправления оставил"
   ]
  },
  {
   "cell_type": "markdown",
   "metadata": {},
   "source": [
    "<div class=\"alert alert-success\">\n",
    "<font size=\"4\"><b>Комментарий ревьюера</b></font>\n",
    "    <br /> \n",
    "    <font size=\"3\", color = \"black\">\n",
    "<br />\n",
    "    Привет, Андрей :) Спасибо, что прислал задание :) Меня зовут Ринат Хисамов и я буду проверять твой проект. Предлагаю обращаться друг к другу на ты. Так нам будет гораздо проще и удобней общаться).\n",
    "\n",
    "Мои комментарии обозначены пометкой <b>Комментарий ревьюера</b>. Далее в файле сможешь найти их в похожих ячейках (если фон комментария зелёный — всё сделано правильно (✔️), рекомендации таким же цветом. Отдельным цветом — блок ссылок (примеры ниже, 🍕). Оранжевым или светло желтым рекомендации, которые, хоть и не обязательны, но точно сделают ревью лучше. (⚠️); <u> красный комментарий</u>: код, график или вывод стоит переделать (❌)). \n",
    "\n",
    "Не удаляй все эти комментарии и постарайся учесть их в ходе выполнения данного проекта. \n",
    "Будет замечательно, если добавишь свои комментарии и пояснения✍\n",
    "        \n",
    "Поехали 🚀\n",
    "    <br />\n",
    "    </font>\n",
    "\n",
    "</div>"
   ]
  },
  {
   "cell_type": "markdown",
   "metadata": {},
   "source": [
    "<div style=\"border:solid steelblue 1px; padding: 20px\">\n",
    "    \n",
    "<font size=\"4\"><p style=\"text-align:center\"><b>Примеры комментариев </b></p></font>\n",
    "    \n",
    "<div style=\"border:solid steelblue 3px; padding: 20px\">\n",
    "<font size=\"4\"><b>🍕 Пример комментария - совета, здесь м.б. просто ссылка</b></font>\n",
    "    <br /> \n",
    "        <font size=\"3\", color = \"black\">\n",
    "<br />\n",
    "    Тут всего такого разного и вкусного :), есть способы прокачать проект визуализациями (ценит большинство \"боссов\")  <br /><br />\n",
    "        <a href=\"https://pyprog.pro/mpl/mpl_short_guide.html\">Краткое руководство по Matplotlib</a>\n",
    "        На сайте много полезных материалов, мне самому очень помогло в свое время, до сих пор подсматриваю :)\n",
    "\n",
    "\n",
    "</div>\n",
    "    \n",
    "<div class=\"alert alert-warning\", style=\"border:solid coral 3px; padding: 20px\">\n",
    "    <font size=\"3\"><b>⚠️ Пример оформления некритичного комментария</b>\n",
    "    <br /> \n",
    "    <font size=\"2\", color = \"black\">\n",
    "<br />\n",
    "    Рекомендации, которые, хоть и не обязательны, но точно сделают ревью лучше\n",
    "    <br />\n",
    "    </font>\n",
    "\n",
    "</div>\n",
    "    \n",
    "<div class=\"alert alert-danger\">\n",
    "<font size=\"3\"><b>❌ Пример оформления комментария к блоку(строке) программного кода (или выводу), который стоит переделать</b></font>\n",
    "    <br /> \n",
    "    <font size=\"2\", color = \"black\">\n",
    "<br />\n",
    "    Отправлен не тот проект, напиши в своих комментариях, что случилось? жду — <b>это пример</b>\n",
    "    <br />\n",
    "    </font>\n",
    "\n",
    "</div>\n",
    "    \n",
    "<div class=\"alert alert-success\">\n",
    "<font size=\"4\"><b>✔️ Пример оформления комментария, который нравится большинству студентов</b></font>\n",
    "    <br /> \n",
    "    <font size=\"3\", color = \"black\">\n",
    "<br />\n",
    "    Круто, молодец, отлично, логично, или — 👌, 👍, или — выводы отвечают на все вопросы к данным и проекту\n",
    "    <br />\n",
    "    </font>\n",
    "\n",
    "</div>"
   ]
  },
  {
   "cell_type": "markdown",
   "metadata": {
    "id": "E0vqbgi9ay0H"
   },
   "source": [
    "# Яндекс.Музыка"
   ]
  },
  {
   "cell_type": "markdown",
   "metadata": {
    "id": "VUC88oWjTJw2"
   },
   "source": [
    "Сравнение Москвы и Петербурга окружено мифами. Например:\n",
    " * Москва — мегаполис, подчинённый жёсткому ритму рабочей недели;\n",
    " * Петербург — культурная столица, со своими вкусами.\n",
    "\n",
    "На данных Яндекс.Музыки вы сравните поведение пользователей двух столиц.\n",
    "\n",
    "**Цель исследования** — проверьте три гипотезы:\n",
    "1. Активность пользователей зависит от дня недели. Причём в Москве и Петербурге это проявляется по-разному.\n",
    "2. В понедельник утром в Москве преобладают одни жанры, а в Петербурге — другие. Так же и вечером пятницы преобладают разные жанры — в зависимости от города. \n",
    "3. Москва и Петербург предпочитают разные жанры музыки. В Москве чаще слушают поп-музыку, в Петербурге — русский рэп.\n",
    "\n",
    "**Ход исследования**\n",
    "\n",
    "Данные о поведении пользователей вы получите из файла `yandex_music_project.csv`. О качестве данных ничего не известно. Поэтому перед проверкой гипотез понадобится обзор данных. \n",
    "\n",
    "Вы проверите данные на ошибки и оцените их влияние на исследование. Затем, на этапе предобработки вы поищете возможность исправить самые критичные ошибки данных.\n",
    " \n",
    "Таким образом, исследование пройдёт в три этапа:\n",
    " 1. Обзор данных.\n",
    " 2. Предобработка данных.\n",
    " 3. Проверка гипотез.\n",
    "\n"
   ]
  },
  {
   "cell_type": "markdown",
   "metadata": {},
   "source": [
    "# Начинаем исследовать твой проект 🧐\n",
    "(если смайлы раздражают - выключим)"
   ]
  },
  {
   "cell_type": "markdown",
   "metadata": {},
   "source": [
    "<div style=\"border:solid steelblue 3px; padding: 20px\">\n",
    "<font size=\"4\"><b>🍕 Комментарий ревьюера</b></font>\n",
    "    <br /> \n",
    "        <font size=\"3\", color = \"black\">\n",
    "            <br />\n",
    "Обрати внимание, что на этом проекте уже обозначены: название проекта, вводная часть, цель и ход исследования. Это поможет тебе на будущих проектах самостоятельно определять цели и основные шаги, если будут вопросы — задавай/пиши в комментариях :)            \n",
    "<br />    \n",
    "            <br />    \n",
    "<font size=\"2\">                \n",
    "Тип такой ячейки называется «Markdown» (изменяется на панели в окошке под командой Navigate). Чтобы посмотреть, как создаются подобные ячейки — дважды щелкни здесь лев.кнопкой мыши, чтобы она стала прежней необходимо исполнить ее командой «Run»\n",
    "\n",
    "</font>\n",
    "</div>"
   ]
  },
  {
   "cell_type": "markdown",
   "metadata": {
    "id": "Ml1hmfXC_Zcs"
   },
   "source": [
    "## Обзор данных\n",
    "\n",
    "Составьте первое представление о данных Яндекс.Музыки.\n",
    "\n",
    "\n"
   ]
  },
  {
   "cell_type": "markdown",
   "metadata": {
    "id": "57eAOGIz_Zcs"
   },
   "source": [
    "Основной инструмент аналитика — `pandas`. Импортируйте эту библиотеку."
   ]
  },
  {
   "cell_type": "code",
   "execution_count": 1,
   "metadata": {
    "id": "AXN7PHPN_Zcs"
   },
   "outputs": [],
   "source": [
    "# импорт библиотеки pandas\n",
    "import pandas as pd"
   ]
  },
  {
   "cell_type": "markdown",
   "metadata": {
    "id": "SG23P8tt_Zcs"
   },
   "source": [
    "Прочитайте файл `yandex_music_project.csv` из папки `/datasets` и сохраните его в переменной `df`:"
   ]
  },
  {
   "cell_type": "code",
   "execution_count": 2,
   "metadata": {
    "id": "fFVu7vqh_Zct"
   },
   "outputs": [],
   "source": [
    "# чтение файла с данными и сохранение в df\n",
    "#df=pd.read_csv('C:\\Users\\ASUS\\OneDrive\\Desktop\\yandex_music_project.csv')\n",
    "df = pd.read_csv('/datasets/yandex_music_project.csv')"
   ]
  },
  {
   "cell_type": "markdown",
   "metadata": {
    "id": "rDoOMd3uTqnZ"
   },
   "source": [
    "Выведите на экран первые десять строк таблицы:"
   ]
  },
  {
   "cell_type": "code",
   "execution_count": 3,
   "metadata": {
    "id": "oWTVX3gW_Zct",
    "scrolled": true
   },
   "outputs": [
    {
     "data": {
      "text/html": [
       "<div>\n",
       "<style scoped>\n",
       "    .dataframe tbody tr th:only-of-type {\n",
       "        vertical-align: middle;\n",
       "    }\n",
       "\n",
       "    .dataframe tbody tr th {\n",
       "        vertical-align: top;\n",
       "    }\n",
       "\n",
       "    .dataframe thead th {\n",
       "        text-align: right;\n",
       "    }\n",
       "</style>\n",
       "<table border=\"1\" class=\"dataframe\">\n",
       "  <thead>\n",
       "    <tr style=\"text-align: right;\">\n",
       "      <th></th>\n",
       "      <th>userID</th>\n",
       "      <th>Track</th>\n",
       "      <th>artist</th>\n",
       "      <th>genre</th>\n",
       "      <th>City</th>\n",
       "      <th>time</th>\n",
       "      <th>Day</th>\n",
       "    </tr>\n",
       "  </thead>\n",
       "  <tbody>\n",
       "    <tr>\n",
       "      <th>0</th>\n",
       "      <td>FFB692EC</td>\n",
       "      <td>Kamigata To Boots</td>\n",
       "      <td>The Mass Missile</td>\n",
       "      <td>rock</td>\n",
       "      <td>Saint-Petersburg</td>\n",
       "      <td>20:28:33</td>\n",
       "      <td>Wednesday</td>\n",
       "    </tr>\n",
       "    <tr>\n",
       "      <th>1</th>\n",
       "      <td>55204538</td>\n",
       "      <td>Delayed Because of Accident</td>\n",
       "      <td>Andreas Rönnberg</td>\n",
       "      <td>rock</td>\n",
       "      <td>Moscow</td>\n",
       "      <td>14:07:09</td>\n",
       "      <td>Friday</td>\n",
       "    </tr>\n",
       "    <tr>\n",
       "      <th>2</th>\n",
       "      <td>20EC38</td>\n",
       "      <td>Funiculì funiculà</td>\n",
       "      <td>Mario Lanza</td>\n",
       "      <td>pop</td>\n",
       "      <td>Saint-Petersburg</td>\n",
       "      <td>20:58:07</td>\n",
       "      <td>Wednesday</td>\n",
       "    </tr>\n",
       "    <tr>\n",
       "      <th>3</th>\n",
       "      <td>A3DD03C9</td>\n",
       "      <td>Dragons in the Sunset</td>\n",
       "      <td>Fire + Ice</td>\n",
       "      <td>folk</td>\n",
       "      <td>Saint-Petersburg</td>\n",
       "      <td>08:37:09</td>\n",
       "      <td>Monday</td>\n",
       "    </tr>\n",
       "    <tr>\n",
       "      <th>4</th>\n",
       "      <td>E2DC1FAE</td>\n",
       "      <td>Soul People</td>\n",
       "      <td>Space Echo</td>\n",
       "      <td>dance</td>\n",
       "      <td>Moscow</td>\n",
       "      <td>08:34:34</td>\n",
       "      <td>Monday</td>\n",
       "    </tr>\n",
       "    <tr>\n",
       "      <th>5</th>\n",
       "      <td>842029A1</td>\n",
       "      <td>Преданная</td>\n",
       "      <td>IMPERVTOR</td>\n",
       "      <td>rusrap</td>\n",
       "      <td>Saint-Petersburg</td>\n",
       "      <td>13:09:41</td>\n",
       "      <td>Friday</td>\n",
       "    </tr>\n",
       "    <tr>\n",
       "      <th>6</th>\n",
       "      <td>4CB90AA5</td>\n",
       "      <td>True</td>\n",
       "      <td>Roman Messer</td>\n",
       "      <td>dance</td>\n",
       "      <td>Moscow</td>\n",
       "      <td>13:00:07</td>\n",
       "      <td>Wednesday</td>\n",
       "    </tr>\n",
       "    <tr>\n",
       "      <th>7</th>\n",
       "      <td>F03E1C1F</td>\n",
       "      <td>Feeling This Way</td>\n",
       "      <td>Polina Griffith</td>\n",
       "      <td>dance</td>\n",
       "      <td>Moscow</td>\n",
       "      <td>20:47:49</td>\n",
       "      <td>Wednesday</td>\n",
       "    </tr>\n",
       "    <tr>\n",
       "      <th>8</th>\n",
       "      <td>8FA1D3BE</td>\n",
       "      <td>И вновь продолжается бой</td>\n",
       "      <td>NaN</td>\n",
       "      <td>ruspop</td>\n",
       "      <td>Moscow</td>\n",
       "      <td>09:17:40</td>\n",
       "      <td>Friday</td>\n",
       "    </tr>\n",
       "    <tr>\n",
       "      <th>9</th>\n",
       "      <td>E772D5C0</td>\n",
       "      <td>Pessimist</td>\n",
       "      <td>NaN</td>\n",
       "      <td>dance</td>\n",
       "      <td>Saint-Petersburg</td>\n",
       "      <td>21:20:49</td>\n",
       "      <td>Wednesday</td>\n",
       "    </tr>\n",
       "  </tbody>\n",
       "</table>\n",
       "</div>"
      ],
      "text/plain": [
       "     userID                        Track            artist   genre  \\\n",
       "0  FFB692EC            Kamigata To Boots  The Mass Missile    rock   \n",
       "1  55204538  Delayed Because of Accident  Andreas Rönnberg    rock   \n",
       "2    20EC38            Funiculì funiculà       Mario Lanza     pop   \n",
       "3  A3DD03C9        Dragons in the Sunset        Fire + Ice    folk   \n",
       "4  E2DC1FAE                  Soul People        Space Echo   dance   \n",
       "5  842029A1                    Преданная         IMPERVTOR  rusrap   \n",
       "6  4CB90AA5                         True      Roman Messer   dance   \n",
       "7  F03E1C1F             Feeling This Way   Polina Griffith   dance   \n",
       "8  8FA1D3BE     И вновь продолжается бой               NaN  ruspop   \n",
       "9  E772D5C0                    Pessimist               NaN   dance   \n",
       "\n",
       "             City        time        Day  \n",
       "0  Saint-Petersburg  20:28:33  Wednesday  \n",
       "1            Moscow  14:07:09     Friday  \n",
       "2  Saint-Petersburg  20:58:07  Wednesday  \n",
       "3  Saint-Petersburg  08:37:09     Monday  \n",
       "4            Moscow  08:34:34     Monday  \n",
       "5  Saint-Petersburg  13:09:41     Friday  \n",
       "6            Moscow  13:00:07  Wednesday  \n",
       "7            Moscow  20:47:49  Wednesday  \n",
       "8            Moscow  09:17:40     Friday  \n",
       "9  Saint-Petersburg  21:20:49  Wednesday  "
      ]
     },
     "metadata": {},
     "output_type": "display_data"
    }
   ],
   "source": [
    "# получение первых 10 строк таблицы df\n",
    "display(df.head(10))#исправление"
   ]
  },
  {
   "cell_type": "markdown",
   "metadata": {},
   "source": [
    "<div class=\"alert alert-success\">\n",
    "<font size=\"4\"><b>✔️ Комментарий ревьюера</b></font>\n",
    "    <br /> \n",
    "    <font size=\"3\", color = \"black\">\n",
    "<br />\n",
    "Отлично! Напомню, что помимо метода head() есть метод tail(), который выводит последние n строк.\n",
    "\n",
    "display() вместо print(), поможет навести красоту на проекте\n",
    "</div>"
   ]
  },
  {
   "cell_type": "markdown",
   "metadata": {
    "id": "EO73Kwic_Zct"
   },
   "source": [
    "Одной командой получить общую информацию о таблице:"
   ]
  },
  {
   "cell_type": "code",
   "execution_count": 4,
   "metadata": {
    "id": "DSf2kIb-_Zct"
   },
   "outputs": [
    {
     "name": "stdout",
     "output_type": "stream",
     "text": [
      "<class 'pandas.core.frame.DataFrame'>\n",
      "RangeIndex: 65079 entries, 0 to 65078\n",
      "Data columns (total 7 columns):\n",
      " #   Column    Non-Null Count  Dtype \n",
      "---  ------    --------------  ----- \n",
      " 0     userID  65079 non-null  object\n",
      " 1   Track     63848 non-null  object\n",
      " 2   artist    57876 non-null  object\n",
      " 3   genre     63881 non-null  object\n",
      " 4     City    65079 non-null  object\n",
      " 5   time      65079 non-null  object\n",
      " 6   Day       65079 non-null  object\n",
      "dtypes: object(7)\n",
      "memory usage: 3.5+ MB\n"
     ]
    }
   ],
   "source": [
    "# получение общей информации о данных в таблице df\n",
    "df.info()"
   ]
  },
  {
   "cell_type": "markdown",
   "metadata": {
    "id": "TaQ2Iwbr_Zct"
   },
   "source": [
    "Итак, в таблице семь столбцов. Тип данных во всех столбцах — `object`.\n",
    "\n",
    "Согласно документации к данным:\n",
    "* `userID` — идентификатор пользователя;\n",
    "* `Track` — название трека;  \n",
    "* `artist` — имя исполнителя;\n",
    "* `genre` — название жанра;\n",
    "* `City` — город пользователя;\n",
    "* `time` — время начала прослушивания;\n",
    "* `Day` — день недели.\n",
    "\n",
    "В названиях колонок видны три нарушения стиля:\n",
    "1. Строчные буквы сочетаются с прописными.\n",
    "2. Встречаются пробелы.\n",
    "3. Встречается не \"змеиный_регистр\".\n",
    "\n",
    "\n",
    "\n",
    "Количество значений в столбцах различается. Значит, в данных есть пропущенные значения.\n"
   ]
  },
  {
   "cell_type": "markdown",
   "metadata": {},
   "source": [
    "<div class=\"alert alert-success\">\n",
    "<font size=\"4\"><b>✔️ Комментарий ревьюера</b></font>\n",
    "    <br /> \n",
    "    <font size=\"3\", color = \"black\">\n",
    "<br />\n",
    "внимательность при чтении технического задания проекта очень важна, спасибо"
   ]
  },
  {
   "cell_type": "markdown",
   "metadata": {
    "id": "MCB6-dXG_Zct"
   },
   "source": [
    "**Выводы**\n",
    "\n",
    "В каждой строке таблицы — данные о прослушанном треке. Часть колонок описывает саму композицию: название, исполнителя и жанр. Остальные данные рассказывают о пользователе: из какого он города, когда он слушал музыку. \n",
    "\n",
    "Предварительно можно утверждать, что, данных достаточно для проверки гипотез. Но встречаются пропуски в данных, а в названиях колонок — расхождения с хорошим стилем.\n",
    "\n",
    "Чтобы двигаться дальше, нужно устранить проблемы в данных."
   ]
  },
  {
   "cell_type": "markdown",
   "metadata": {},
   "source": [
    "<div class=\"alert alert-success\">\n",
    "<font size=\"4\"><b>✔️ Комментарий ревьюера</b></font>\n",
    "    <br /> \n",
    "    <font size=\"3\", color = \"black\">\n",
    "<br />\n",
    "Отлично справился с обзором данных \n",
    "        \n",
    "4 строчки кода и как много информации можно узнать про наш датафрейм: сколько всего записей, какой у них тип, есть ли пропуски (artist, ...), корректные ли названия у столбцов («  City»), какой объем памяти занимает сам датафрейм в Мб. и естественно загрузить сами данные\n",
    "        \n",
    "        \n",
    "</div>"
   ]
  },
  {
   "cell_type": "markdown",
   "metadata": {
    "id": "SjYF6Ub9_Zct"
   },
   "source": [
    "## Предобработка данных\n",
    "Исправьте стиль в заголовках столбцов, исключите пропуски. Затем проверьте данные на дубликаты."
   ]
  },
  {
   "cell_type": "markdown",
   "metadata": {
    "id": "dIaKXr29_Zct"
   },
   "source": [
    "### Стиль заголовков\n",
    "Выведите на экран названия столбцов:"
   ]
  },
  {
   "cell_type": "code",
   "execution_count": 5,
   "metadata": {
    "id": "oKOTdF_Q_Zct"
   },
   "outputs": [
    {
     "data": {
      "text/plain": [
       "Index(['  userID', 'Track', 'artist', 'genre', '  City  ', 'time', 'Day'], dtype='object')"
      ]
     },
     "execution_count": 5,
     "metadata": {},
     "output_type": "execute_result"
    }
   ],
   "source": [
    "# перечень названий столбцов таблицы df\n",
    "df.columns"
   ]
  },
  {
   "cell_type": "markdown",
   "metadata": {
    "id": "FPZA3ki8xe7T"
   },
   "source": []
  },
  {
   "cell_type": "markdown",
   "metadata": {
    "id": "zj5534cv_Zct"
   },
   "source": [
    "Приведите названия в соответствие с хорошим стилем:\n",
    "* несколько слов в названии запишите в «змеином_регистре»,\n",
    "* все символы сделайте строчными,\n",
    "* устраните пробелы.\n",
    "\n",
    "Для этого переименуйте колонки так:\n",
    "* `'  userID'` → `'user_id'`;\n",
    "* `'Track'` → `'track'`;\n",
    "* `'  City  '` → `'city'`;\n",
    "* `'Day'` → `'day'`."
   ]
  },
  {
   "cell_type": "code",
   "execution_count": 6,
   "metadata": {
    "id": "ISlFqs5y_Zct"
   },
   "outputs": [],
   "source": [
    "# переименование столбцов\n",
    "df=df.rename(columns={'  userID':'user_id','Track':'track','  City  ':'city','Day':'day'})"
   ]
  },
  {
   "cell_type": "markdown",
   "metadata": {},
   "source": [
    "<div class=\"alert alert-success\">\n",
    "<font size=\"4\"><b>✔️ Комментарий ревьюера</b></font>\n",
    "    <br /> \n",
    "    <font size=\"3\", color = \"black\">\n",
    "<br />\n",
    "Оптимальный выбор изменения названий, если порядок столбцов в датафрейме поменяется, то у нас все будет работать как прежде :)\n",
    "    <br /> \n",
    "    </font>\n",
    "\n",
    "</div>"
   ]
  },
  {
   "cell_type": "markdown",
   "metadata": {
    "id": "1dqbh00J_Zct"
   },
   "source": [
    "Проверьте результат. Для этого ещё раз выведите на экран названия столбцов:"
   ]
  },
  {
   "cell_type": "code",
   "execution_count": 7,
   "metadata": {
    "id": "d4NOAmTW_Zct"
   },
   "outputs": [
    {
     "data": {
      "text/plain": [
       "Index(['user_id', 'track', 'artist', 'genre', 'city', 'time', 'day'], dtype='object')"
      ]
     },
     "execution_count": 7,
     "metadata": {},
     "output_type": "execute_result"
    }
   ],
   "source": [
    "# проверка результатов - перечень названий столбцов\n",
    "df.columns"
   ]
  },
  {
   "cell_type": "markdown",
   "metadata": {
    "id": "5ISfbcfY_Zct"
   },
   "source": [
    "### Пропуски значений\n",
    "Сначала посчитайте, сколько в таблице пропущенных значений. Для этого достаточно двух методов `pandas`:"
   ]
  },
  {
   "cell_type": "code",
   "execution_count": 8,
   "metadata": {
    "id": "RskX29qr_Zct"
   },
   "outputs": [
    {
     "data": {
      "text/plain": [
       "user_id       0\n",
       "track      1231\n",
       "artist     7203\n",
       "genre      1198\n",
       "city          0\n",
       "time          0\n",
       "day           0\n",
       "dtype: int64"
      ]
     },
     "execution_count": 8,
     "metadata": {},
     "output_type": "execute_result"
    }
   ],
   "source": [
    "# подсчёт пропусков\n",
    "df.isna().sum()"
   ]
  },
  {
   "cell_type": "markdown",
   "metadata": {},
   "source": [
    "<div class=\"alert alert-success\">\n",
    "<font size=\"4\"><b>✔️ Комментарий ревьюера</b></font>\n",
    "    <br /> \n",
    "    <font size=\"3\", color = \"black\">\n",
    "<br />\n",
    "Выбран метод isna() для нахождения пропущенных значений, это отлично! \n",
    "        \n",
    "isnull() и isna() делают одно и то же, но использование isna() предпочтительнее. Звучание методов: <b>isna(), notna() и  fillna(), dropna()</b> помогает запомнить их быстрее :) \n",
    "    <br /> \n",
    "    </font>\n",
    "\n",
    "</div>"
   ]
  },
  {
   "cell_type": "markdown",
   "metadata": {
    "id": "qubhgnlO_Zct"
   },
   "source": [
    "Не все пропущенные значения влияют на исследование. Так в `track` и `artist` пропуски не важны для вашей работы. Достаточно заменить их явными обозначениями.\n",
    "\n",
    "Но пропуски в `genre` могут помешать сравнению музыкальных вкусов в Москве и Санкт-Петербурге. На практике было бы правильно установить причину пропусков и восстановить данные. Такой возможности нет в учебном проекте. Придётся:\n",
    "* заполнить и эти пропуски явными обозначениями,\n",
    "* оценить, насколько они повредят расчётам. "
   ]
  },
  {
   "cell_type": "markdown",
   "metadata": {
    "id": "fSv2laPA_Zct"
   },
   "source": [
    "Замените пропущенные значения в столбцах `track`, `artist` и `genre` на строку `'unknown'`. Для этого создайте список `columns_to_replace`, переберите его элементы циклом `for` и для каждого столбца выполните замену пропущенных значений:"
   ]
  },
  {
   "cell_type": "code",
   "execution_count": 9,
   "metadata": {
    "id": "KplB5qWs_Zct"
   },
   "outputs": [],
   "source": [
    "# перебор названий столбцов в цикле и замена пропущенных значений на 'unknown'\n",
    "columns_to_replace=['track','artist','genre']\n",
    "for i in columns_to_replace:\n",
    "    df[i]=df[i].fillna('unknown')"
   ]
  },
  {
   "cell_type": "markdown",
   "metadata": {},
   "source": [
    "<div class=\"alert alert-success\">\n",
    "<font size=\"4\"><b>✔️ Комментарий ревьюера</b></font>\n",
    "    <br /> \n",
    "    <font size=\"3\", color = \"black\">\n",
    "<br />\n",
    "Первый цикл for на первом проекте запущен в работу, отлично, + пригодился метод .fillna() :)\n",
    "\n",
    "Причина по которой ограничиваем перечень столбцов \n",
    "        \n",
    "        columns_to_replace = ['track', 'artist', 'genre']\n",
    "        \n",
    "— закрепляем умение выделять часть данных и форматировать выделенный фрагмент в цикле\n",
    "\n",
    "</div>"
   ]
  },
  {
   "cell_type": "markdown",
   "metadata": {
    "id": "Ilsm-MZo_Zct"
   },
   "source": [
    "Убедитесь, что в таблице не осталось пропусков. Для этого ещё раз посчитайте пропущенные значения."
   ]
  },
  {
   "cell_type": "code",
   "execution_count": 10,
   "metadata": {
    "id": "Tq4nYRX4_Zct"
   },
   "outputs": [
    {
     "data": {
      "text/plain": [
       "user_id    0\n",
       "track      0\n",
       "artist     0\n",
       "genre      0\n",
       "city       0\n",
       "time       0\n",
       "day        0\n",
       "dtype: int64"
      ]
     },
     "execution_count": 10,
     "metadata": {},
     "output_type": "execute_result"
    }
   ],
   "source": [
    "# подсчёт пропусков\n",
    "df.isna().sum()"
   ]
  },
  {
   "cell_type": "markdown",
   "metadata": {
    "id": "BWKRtBJ3_Zct"
   },
   "source": [
    "### Дубликаты\n",
    "Посчитайте явные дубликаты в таблице одной командой:"
   ]
  },
  {
   "cell_type": "code",
   "execution_count": 11,
   "metadata": {
    "id": "36eES_S0_Zct"
   },
   "outputs": [
    {
     "data": {
      "text/plain": [
       "3826"
      ]
     },
     "execution_count": 11,
     "metadata": {},
     "output_type": "execute_result"
    }
   ],
   "source": [
    "# подсчёт явных дубликатов\n",
    "df.duplicated().sum()"
   ]
  },
  {
   "cell_type": "markdown",
   "metadata": {
    "id": "Ot25h6XR_Zct"
   },
   "source": [
    "Вызовите специальный метод `pandas`, чтобы удалить явные дубликаты:"
   ]
  },
  {
   "cell_type": "code",
   "execution_count": 12,
   "metadata": {
    "id": "exFHq6tt_Zct"
   },
   "outputs": [],
   "source": [
    "# удаление явных дубликатов (с удалением старых индексов и формированием новых)\n",
    "df=df.drop_duplicates().reset_index(drop=True)"
   ]
  },
  {
   "cell_type": "markdown",
   "metadata": {},
   "source": [
    "<div style=\"border:solid steelblue 3px; padding: 20px\">\n",
    "<font size=\"4\"><b>🍕 Комментарий ревьюера</b></font>\n",
    "    <br /> \n",
    "        <font size=\"3\", color = \"black\">\n",
    "            <br />\n",
    "Метод .reset_index(drop=True) необходим для упорядочивания индексов, в будущем он поможет тебе приводить в нормальный вид датафреймы со сложной системой индексов — «упрощать сводные или сгруппированные таблицы» :)\n",
    "\n",
    "</font>\n",
    "</div>"
   ]
  },
  {
   "cell_type": "markdown",
   "metadata": {
    "id": "Im2YwBEG_Zct"
   },
   "source": [
    "Ещё раз посчитайте явные дубликаты в таблице — убедитесь, что полностью от них избавились:"
   ]
  },
  {
   "cell_type": "code",
   "execution_count": 13,
   "metadata": {
    "id": "-8PuNWQ0_Zct"
   },
   "outputs": [
    {
     "data": {
      "text/plain": [
       "0"
      ]
     },
     "execution_count": 13,
     "metadata": {},
     "output_type": "execute_result"
    }
   ],
   "source": [
    "# проверка на отсутствие дубликатов\n",
    "df.duplicated().sum()"
   ]
  },
  {
   "cell_type": "markdown",
   "metadata": {
    "id": "QlFBsxAr_Zct"
   },
   "source": [
    "Теперь избавьтесь от неявных дубликатов в колонке `genre`. Например, название одного и того же жанра может быть записано немного по-разному. Такие ошибки тоже повлияют на результат исследования."
   ]
  },
  {
   "cell_type": "markdown",
   "metadata": {
    "id": "eSjWwsOh_Zct"
   },
   "source": [
    "Выведите на экран список уникальных названий жанров, отсортированный в алфавитном порядке. Для этого:\n",
    "* извлеките нужный столбец датафрейма, \n",
    "* примените к нему метод сортировки,\n",
    "* для отсортированного столбца вызовите метод, который вернёт уникальные значения из столбца."
   ]
  },
  {
   "cell_type": "code",
   "execution_count": 14,
   "metadata": {
    "id": "JIUcqzZN_Zct"
   },
   "outputs": [
    {
     "data": {
      "text/plain": [
       "array(['acid', 'acoustic', 'action', 'adult', 'africa', 'afrikaans',\n",
       "       'alternative', 'alternativepunk', 'ambient', 'americana',\n",
       "       'animated', 'anime', 'arabesk', 'arabic', 'arena',\n",
       "       'argentinetango', 'art', 'audiobook', 'author', 'avantgarde',\n",
       "       'axé', 'baile', 'balkan', 'beats', 'bigroom', 'black', 'bluegrass',\n",
       "       'blues', 'bollywood', 'bossa', 'brazilian', 'breakbeat', 'breaks',\n",
       "       'broadway', 'cantautori', 'cantopop', 'canzone', 'caribbean',\n",
       "       'caucasian', 'celtic', 'chamber', 'chanson', 'children', 'chill',\n",
       "       'chinese', 'choral', 'christian', 'christmas', 'classical',\n",
       "       'classicmetal', 'club', 'colombian', 'comedy', 'conjazz',\n",
       "       'contemporary', 'country', 'cuban', 'dance', 'dancehall',\n",
       "       'dancepop', 'dark', 'death', 'deep', 'deutschrock', 'deutschspr',\n",
       "       'dirty', 'disco', 'dnb', 'documentary', 'downbeat', 'downtempo',\n",
       "       'drum', 'dub', 'dubstep', 'eastern', 'easy', 'electronic',\n",
       "       'electropop', 'emo', 'entehno', 'epicmetal', 'estrada', 'ethnic',\n",
       "       'eurofolk', 'european', 'experimental', 'extrememetal', 'fado',\n",
       "       'fairytail', 'film', 'fitness', 'flamenco', 'folk', 'folklore',\n",
       "       'folkmetal', 'folkrock', 'folktronica', 'forró', 'frankreich',\n",
       "       'französisch', 'french', 'funk', 'future', 'gangsta', 'garage',\n",
       "       'german', 'ghazal', 'gitarre', 'glitch', 'gospel', 'gothic',\n",
       "       'grime', 'grunge', 'gypsy', 'handsup', \"hard'n'heavy\", 'hardcore',\n",
       "       'hardstyle', 'hardtechno', 'hip', 'hip-hop', 'hiphop',\n",
       "       'historisch', 'holiday', 'hop', 'horror', 'house', 'hymn', 'idm',\n",
       "       'independent', 'indian', 'indie', 'indipop', 'industrial',\n",
       "       'inspirational', 'instrumental', 'international', 'irish', 'jam',\n",
       "       'japanese', 'jazz', 'jewish', 'jpop', 'jungle', 'k-pop',\n",
       "       'karadeniz', 'karaoke', 'kayokyoku', 'korean', 'laiko', 'latin',\n",
       "       'latino', 'leftfield', 'local', 'lounge', 'loungeelectronic',\n",
       "       'lovers', 'malaysian', 'mandopop', 'marschmusik', 'meditative',\n",
       "       'mediterranean', 'melodic', 'metal', 'metalcore', 'mexican',\n",
       "       'middle', 'minimal', 'miscellaneous', 'modern', 'mood', 'mpb',\n",
       "       'muslim', 'native', 'neoklassik', 'neue', 'new', 'newage',\n",
       "       'newwave', 'nu', 'nujazz', 'numetal', 'oceania', 'old', 'opera',\n",
       "       'orchestral', 'other', 'piano', 'podcasts', 'pop', 'popdance',\n",
       "       'popelectronic', 'popeurodance', 'poprussian', 'post',\n",
       "       'posthardcore', 'postrock', 'power', 'progmetal', 'progressive',\n",
       "       'psychedelic', 'punjabi', 'punk', 'quebecois', 'ragga', 'ram',\n",
       "       'rancheras', 'rap', 'rave', 'reggae', 'reggaeton', 'regional',\n",
       "       'relax', 'religious', 'retro', 'rhythm', 'rnb', 'rnr', 'rock',\n",
       "       'rockabilly', 'rockalternative', 'rockindie', 'rockother',\n",
       "       'romance', 'roots', 'ruspop', 'rusrap', 'rusrock', 'russian',\n",
       "       'salsa', 'samba', 'scenic', 'schlager', 'self', 'sertanejo',\n",
       "       'shanson', 'shoegazing', 'showtunes', 'singer', 'ska', 'skarock',\n",
       "       'slow', 'smooth', 'soft', 'soul', 'soulful', 'sound', 'soundtrack',\n",
       "       'southern', 'specialty', 'speech', 'spiritual', 'sport',\n",
       "       'stonerrock', 'surf', 'swing', 'synthpop', 'synthrock',\n",
       "       'sängerportrait', 'tango', 'tanzorchester', 'taraftar', 'tatar',\n",
       "       'tech', 'techno', 'teen', 'thrash', 'top', 'traditional',\n",
       "       'tradjazz', 'trance', 'tribal', 'trip', 'triphop', 'tropical',\n",
       "       'türk', 'türkçe', 'ukrrock', 'unknown', 'urban', 'uzbek',\n",
       "       'variété', 'vi', 'videogame', 'vocal', 'western', 'world',\n",
       "       'worldbeat', 'ïîï', 'электроника'], dtype=object)"
      ]
     },
     "execution_count": 14,
     "metadata": {},
     "output_type": "execute_result"
    }
   ],
   "source": [
    "# Просмотр уникальных названий жанров\n",
    "df['genre'].sort_values().unique()#исправление"
   ]
  },
  {
   "cell_type": "markdown",
   "metadata": {},
   "source": [
    "<div class=\"alert alert-warning\", style=\"border:solid coral 3px; padding: 20px\">\n",
    "<font size=\"4\", color = \"DimGrey\"><b>⚠️ Комментарий ревьюера</b></font>\n",
    "    <br /> \n",
    "    <font size=\"3\", color = \"black\">\n",
    "<br />\n",
    "Список с уникальными названиями жанров найден успешно\n",
    "\n",
    "По заданию нужно было отсортировать массив с названиями жанров: ведь так намного удобнее искать потенциальные неявные дубликаты"
   ]
  },
  {
   "cell_type": "markdown",
   "metadata": {
    "id": "qej-Qmuo_Zct"
   },
   "source": [
    "Просмотрите список и найдите неявные дубликаты названия `hiphop`. Это могут быть названия с ошибками или альтернативные названия того же жанра.\n",
    "\n",
    "Вы увидите следующие неявные дубликаты:\n",
    "* *hip*,\n",
    "* *hop*,\n",
    "* *hip-hop*.\n",
    "\n",
    "Чтобы очистить от них таблицу, напишите функцию `replace_wrong_genres()` с двумя параметрами: \n",
    "* `wrong_genres` — список дубликатов,\n",
    "* `correct_genre` — строка с правильным значением.\n",
    "\n",
    "Функция должна исправить колонку `genre` в таблице `df`: заменить каждое значение из списка `wrong_genres` на значение из `correct_genre`."
   ]
  },
  {
   "cell_type": "code",
   "execution_count": 15,
   "metadata": {
    "id": "ErNDkmns_Zct"
   },
   "outputs": [],
   "source": [
    "# Функция для замены неявных дубликатов\n",
    "def replace_wrong_genres(wrong_genres,correct_genre):\n",
    "    for wrong_genre in wrong_genres:\n",
    "        df['genre']=df['genre'].replace(wrong_genre,correct_genre)"
   ]
  },
  {
   "cell_type": "markdown",
   "metadata": {},
   "source": [
    "<div class=\"alert alert-success\">\n",
    "<font size=\"4\"><b>✔️ Комментарий ревьюера</b></font>\n",
    "    <br /> \n",
    "    <font size=\"3\", color = \"black\">\n",
    "<br />\n",
    "Прекрасно, твоя первая функция на проекте, тебе огромный +"
   ]
  },
  {
   "cell_type": "markdown",
   "metadata": {
    "id": "aDoBJxbA_Zct"
   },
   "source": [
    "Вызовите `replace_wrong_genres()` и передайте ей такие аргументы, чтобы она устранила неявные дубликаты: вместо `hip`, `hop` и `hip-hop` в таблице должно быть значение `hiphop`:"
   ]
  },
  {
   "cell_type": "code",
   "execution_count": 16,
   "metadata": {
    "id": "YN5i2hpmSo09"
   },
   "outputs": [],
   "source": [
    "# Устранение неявных дубликатов\n",
    "wrong_genres=['hip','hop','hip-hop']\n",
    "replace_wrong_genres(wrong_genres,'hiphop')"
   ]
  },
  {
   "cell_type": "markdown",
   "metadata": {
    "id": "zQKF16_RG15m"
   },
   "source": [
    "Проверьте, что заменили неправильные названия:\n",
    "\n",
    "*   hip\n",
    "*   hop\n",
    "*   hip-hop\n",
    "\n",
    "Выведите отсортированный список уникальных значений столбца `genre`:"
   ]
  },
  {
   "cell_type": "code",
   "execution_count": 17,
   "metadata": {
    "id": "wvixALnFG15m"
   },
   "outputs": [
    {
     "data": {
      "text/plain": [
       "array(['acid', 'acoustic', 'action', 'adult', 'africa', 'afrikaans',\n",
       "       'alternative', 'alternativepunk', 'ambient', 'americana',\n",
       "       'animated', 'anime', 'arabesk', 'arabic', 'arena',\n",
       "       'argentinetango', 'art', 'audiobook', 'author', 'avantgarde',\n",
       "       'axé', 'baile', 'balkan', 'beats', 'bigroom', 'black', 'bluegrass',\n",
       "       'blues', 'bollywood', 'bossa', 'brazilian', 'breakbeat', 'breaks',\n",
       "       'broadway', 'cantautori', 'cantopop', 'canzone', 'caribbean',\n",
       "       'caucasian', 'celtic', 'chamber', 'chanson', 'children', 'chill',\n",
       "       'chinese', 'choral', 'christian', 'christmas', 'classical',\n",
       "       'classicmetal', 'club', 'colombian', 'comedy', 'conjazz',\n",
       "       'contemporary', 'country', 'cuban', 'dance', 'dancehall',\n",
       "       'dancepop', 'dark', 'death', 'deep', 'deutschrock', 'deutschspr',\n",
       "       'dirty', 'disco', 'dnb', 'documentary', 'downbeat', 'downtempo',\n",
       "       'drum', 'dub', 'dubstep', 'eastern', 'easy', 'electronic',\n",
       "       'electropop', 'emo', 'entehno', 'epicmetal', 'estrada', 'ethnic',\n",
       "       'eurofolk', 'european', 'experimental', 'extrememetal', 'fado',\n",
       "       'fairytail', 'film', 'fitness', 'flamenco', 'folk', 'folklore',\n",
       "       'folkmetal', 'folkrock', 'folktronica', 'forró', 'frankreich',\n",
       "       'französisch', 'french', 'funk', 'future', 'gangsta', 'garage',\n",
       "       'german', 'ghazal', 'gitarre', 'glitch', 'gospel', 'gothic',\n",
       "       'grime', 'grunge', 'gypsy', 'handsup', \"hard'n'heavy\", 'hardcore',\n",
       "       'hardstyle', 'hardtechno', 'hiphop', 'historisch', 'holiday',\n",
       "       'horror', 'house', 'hymn', 'idm', 'independent', 'indian', 'indie',\n",
       "       'indipop', 'industrial', 'inspirational', 'instrumental',\n",
       "       'international', 'irish', 'jam', 'japanese', 'jazz', 'jewish',\n",
       "       'jpop', 'jungle', 'k-pop', 'karadeniz', 'karaoke', 'kayokyoku',\n",
       "       'korean', 'laiko', 'latin', 'latino', 'leftfield', 'local',\n",
       "       'lounge', 'loungeelectronic', 'lovers', 'malaysian', 'mandopop',\n",
       "       'marschmusik', 'meditative', 'mediterranean', 'melodic', 'metal',\n",
       "       'metalcore', 'mexican', 'middle', 'minimal', 'miscellaneous',\n",
       "       'modern', 'mood', 'mpb', 'muslim', 'native', 'neoklassik', 'neue',\n",
       "       'new', 'newage', 'newwave', 'nu', 'nujazz', 'numetal', 'oceania',\n",
       "       'old', 'opera', 'orchestral', 'other', 'piano', 'podcasts', 'pop',\n",
       "       'popdance', 'popelectronic', 'popeurodance', 'poprussian', 'post',\n",
       "       'posthardcore', 'postrock', 'power', 'progmetal', 'progressive',\n",
       "       'psychedelic', 'punjabi', 'punk', 'quebecois', 'ragga', 'ram',\n",
       "       'rancheras', 'rap', 'rave', 'reggae', 'reggaeton', 'regional',\n",
       "       'relax', 'religious', 'retro', 'rhythm', 'rnb', 'rnr', 'rock',\n",
       "       'rockabilly', 'rockalternative', 'rockindie', 'rockother',\n",
       "       'romance', 'roots', 'ruspop', 'rusrap', 'rusrock', 'russian',\n",
       "       'salsa', 'samba', 'scenic', 'schlager', 'self', 'sertanejo',\n",
       "       'shanson', 'shoegazing', 'showtunes', 'singer', 'ska', 'skarock',\n",
       "       'slow', 'smooth', 'soft', 'soul', 'soulful', 'sound', 'soundtrack',\n",
       "       'southern', 'specialty', 'speech', 'spiritual', 'sport',\n",
       "       'stonerrock', 'surf', 'swing', 'synthpop', 'synthrock',\n",
       "       'sängerportrait', 'tango', 'tanzorchester', 'taraftar', 'tatar',\n",
       "       'tech', 'techno', 'teen', 'thrash', 'top', 'traditional',\n",
       "       'tradjazz', 'trance', 'tribal', 'trip', 'triphop', 'tropical',\n",
       "       'türk', 'türkçe', 'ukrrock', 'unknown', 'urban', 'uzbek',\n",
       "       'variété', 'vi', 'videogame', 'vocal', 'western', 'world',\n",
       "       'worldbeat', 'ïîï', 'электроника'], dtype=object)"
      ]
     },
     "execution_count": 17,
     "metadata": {},
     "output_type": "execute_result"
    }
   ],
   "source": [
    "# Проверка на неявные дубликаты\n",
    "df['genre'].sort_values().unique()#исправление"
   ]
  },
  {
   "cell_type": "markdown",
   "metadata": {},
   "source": [
    "<div class=\"alert alert-success\">\n",
    "<font size=\"4\"><b>✔️ Комментарий ревьюера</b></font>\n",
    "    <br /> \n",
    "        <font size=\"3\", color = \"black\">\n",
    "            <br />\n",
    "Самопроверка всегда играет роль незаменимого помощника, особенно важно проверять себя после сложных этапов:\n",
    "    \n",
    " + удаления данных, в т.ч. через фильтрацию крайних значений или выбросов \n",
    " + слияния или обьединения данных из разных таблиц\n",
    " + категоризации данных: например, присвоения категории Клиенту по уровню дохода или семейному положению\n",
    "\n",
    "и т.д., чем больше самопроверок будет до и после сложных блоков кода, изменяющих данные, тем меньше переделок нас ждет на учебных и рабочих проектах"
   ]
  },
  {
   "cell_type": "markdown",
   "metadata": {
    "id": "jz6a9-7HQUDd"
   },
   "source": [
    "**Выводы**\n",
    "\n",
    "Предобработка обнаружила три проблемы в данных:\n",
    "\n",
    "- нарушения в стиле заголовков,\n",
    "- пропущенные значения,\n",
    "- дубликаты — явные и неявные.\n",
    "\n",
    "Вы исправили заголовки, чтобы упростить работу с таблицей. Без дубликатов исследование станет более точным.\n",
    "\n",
    "Пропущенные значения вы заменили на `'unknown'`. Ещё предстоит увидеть, не повредят ли исследованию пропуски в колонке `genre`.\n",
    "\n",
    "Теперь можно перейти к проверке гипотез. "
   ]
  },
  {
   "cell_type": "markdown",
   "metadata": {},
   "source": [
    "<div class=\"alert alert-success\">\n",
    "<font size=\"4\"><b>✔️ Комментарий ревьюера</b></font>\n",
    "    <br /> \n",
    "    <font size=\"3\", color = \"black\">\n",
    "<br />\n",
    "Отлично справился с предобработкой данных \n",
    "        \n",
    "Удалил дубликаты, заменил пропуски и некорректные названия (столбцов и жанров), использовал цикл for и функцию \n",
    "        \n",
    "Вспомним методы, которые применил:\n",
    "\n",
    "+ .columns,\n",
    "+ .rename(),\n",
    "+ .isna(),\n",
    "+ .fillna()\n",
    "+ .drop_duplicates(), \n",
    "+ .reset_index(drop=True), \n",
    "+ .duplicated(), \n",
    "+ .sum(),\n",
    "+ .sort_values() — в ожидании\n",
    "+ .unique(), \n",
    "+ .replace()\n",
    "\n",
    "       \n",
    "Данные подготовлены для проверки первых гипотез, в твою копилку снова много +ов\n",
    "        \n",
    "</div>"
   ]
  },
  {
   "cell_type": "markdown",
   "metadata": {
    "id": "WttZHXH0SqKk"
   },
   "source": [
    "## Проверка гипотез"
   ]
  },
  {
   "cell_type": "markdown",
   "metadata": {
    "id": "Im936VVi_Zcu"
   },
   "source": [
    "### Сравнение поведения пользователей двух столиц"
   ]
  },
  {
   "cell_type": "markdown",
   "metadata": {
    "id": "nwt_MuaL_Zcu"
   },
   "source": [
    "Первая гипотеза утверждает, что пользователи по-разному слушают музыку в Москве и Санкт-Петербурге. Проверьте это предположение по данным о трёх днях недели — понедельнике, среде и пятнице. Для этого:\n",
    "\n",
    "* Разделите пользователей Москвы и Санкт-Петербурга\n",
    "* Сравните, сколько треков послушала каждая группа пользователей в понедельник, среду и пятницу.\n"
   ]
  },
  {
   "cell_type": "markdown",
   "metadata": {
    "id": "8Dw_YMmT_Zcu"
   },
   "source": [
    "Для тренировки сначала выполните каждый из расчётов по отдельности. \n",
    "\n",
    "Оцените активность пользователей в каждом городе. Сгруппируйте данные по городу и посчитайте прослушивания в каждой группе.\n",
    "\n"
   ]
  },
  {
   "cell_type": "code",
   "execution_count": 23,
   "metadata": {
    "id": "0_Qs96oh_Zcu"
   },
   "outputs": [
    {
     "data": {
      "text/plain": [
       "city\n",
       "Moscow              42741\n",
       "Saint-Petersburg    18512\n",
       "Name: user_id, dtype: int64"
      ]
     },
     "execution_count": 23,
     "metadata": {},
     "output_type": "execute_result"
    }
   ],
   "source": [
    "# Подсчёт прослушиваний в каждом городе\n",
    "#moscow_kol_listen=df[df['city']=='Moscow']['city'].count()\n",
    "#spb_kol_listen=df[df['city']=='Saint-Petersburg']['city'].count()\n",
    "#print('Количство прослушиваний в Москве: ',moscow_kol_listen)\n",
    "#print('Количство прослушиваний в Санкт-Петербурге: ',spb_kol_listen)\n",
    "df.groupby('city')['user_id'].count()#исправление"
   ]
  },
  {
   "cell_type": "markdown",
   "metadata": {},
   "source": [
    "<div class=\"alert alert-anger\">\n",
    "<font size=\"4\"><b>❌ Комментарий ревьюера</b></font>\n",
    "    <br /> \n",
    "    <font size=\"3\", color = \"black\">\n",
    "<br /> Необходимо было сгруппировать с помощью .groupby() данные по столбцу с городами city и подсчитать кол-во"
   ]
  },
  {
   "cell_type": "markdown",
   "metadata": {},
   "source": [
    "<div class=\"alert alert-anger\">\n",
    "<font size=\"4\"><b>❌ Комментарий ревьюера в2</b></font>\n",
    "    <br /> \n",
    "    <font size=\"3\", color = \"black\">\n",
    "<br />\n",
    "Не выбран столбец после группировки.\n",
    "            \n",
    "Чтобы группировка заработала — надо добавить столбец по которому будет происходить расчет показателей, т.е. в коде мы сказали, программа сгруппируй нам датасет по городу, и подсчитай кол-во записей, а по какому столбцу не сказали... и программа честно выводит все столбцы, которые у нее есть"
   ]
  },
  {
   "cell_type": "markdown",
   "metadata": {
    "id": "dzli3w8o_Zcu"
   },
   "source": [
    "В Москве прослушиваний больше, чем в Петербурге. Из этого не следует, что московские пользователи чаще слушают музыку. Просто самих пользователей в Москве больше.\n",
    "\n",
    "Теперь сгруппируйте данные по дню недели и подсчитайте прослушивания в понедельник, среду и пятницу. Учтите, что в данных есть информация о прослушиваниях только за эти дни.\n"
   ]
  },
  {
   "cell_type": "code",
   "execution_count": 20,
   "metadata": {
    "id": "uZMKjiJz_Zcu",
    "scrolled": true
   },
   "outputs": [
    {
     "data": {
      "text/plain": [
       "day\n",
       "Friday       21840\n",
       "Monday       21354\n",
       "Wednesday    18059\n",
       "Name: user_id, dtype: int64"
      ]
     },
     "execution_count": 20,
     "metadata": {},
     "output_type": "execute_result"
    }
   ],
   "source": [
    "# Подсчёт прослушиваний в каждый из трёх дней\n",
    "#monday_kol_listen=df[df['day']=='Monday']['day'].count()\n",
    "#wednesday_kol_listen=df[df['day']=='Wednesday']['day'].count()\n",
    "#friday_kol_listen=df[df['day']=='Friday']['day'].count()\n",
    "#print('Количство прослушиваний в понедельник: ',monday_kol_listen)\n",
    "#print('Количство прослушиваний в среду: ',wednesday_kol_listen)\n",
    "#print('Количство прослушиваний в пятницу: ',friday_kol_listen)\n",
    "df.groupby('day')['user_id'].count()#исправление"
   ]
  },
  {
   "cell_type": "markdown",
   "metadata": {},
   "source": [
    "<div class=\"alert alert-anger\">\n",
    "<font size=\"4\"><b>❌ Комментарий ревьюера в2</b></font>\n",
    "    <br /> \n",
    "    <font size=\"3\", color = \"black\">\n",
    "<br />\n",
    "Не выбран столбец после группировки ..."
   ]
  },
  {
   "cell_type": "markdown",
   "metadata": {},
   "source": [
    "<div class=\"alert alert-anger\">\n",
    "<font size=\"4\"><b>❌ Комментарий ревьюера</b></font>\n",
    "    <br /> \n",
    "    <font size=\"3\", color = \"black\">\n",
    "<br /> Необходимо было сгруппировать с помощью .groupby() данные по столбцу с днями day и подсчитать кол-во"
   ]
  },
  {
   "cell_type": "markdown",
   "metadata": {
    "id": "cC2tNrlL_Zcu"
   },
   "source": [
    "В среднем пользователи из двух городов менее активны по средам. Но картина может измениться, если рассмотреть каждый город в отдельности."
   ]
  },
  {
   "cell_type": "markdown",
   "metadata": {
    "id": "POzs8bGa_Zcu"
   },
   "source": [
    "Вы видели, как работает группировка по городу и по дням недели. Теперь напишите функцию, которая объединит два эти расчёта.\n",
    "\n",
    "Создайте функцию `number_tracks()`, которая посчитает прослушивания для заданного дня и города. Ей понадобятся два параметра:\n",
    "* день недели,\n",
    "* название города.\n",
    "\n",
    "В функции сохраните в переменную строки исходной таблицы, у которых значение:\n",
    "  * в колонке `day` равно параметру `day`,\n",
    "  * в колонке `city` равно параметру `city`.\n",
    "\n",
    "Для этого примените последовательную фильтрацию с логической индексацией.\n",
    "\n",
    "Затем посчитайте значения в столбце `user_id` получившейся таблицы. Результат сохраните в новую переменную. Верните эту переменную из функции."
   ]
  },
  {
   "cell_type": "code",
   "execution_count": 20,
   "metadata": {
    "id": "Nz3GdQB1_Zcu"
   },
   "outputs": [],
   "source": [
    "# <создание функции number_tracks()>\n",
    "# Объявляется функция с двумя параметрами: day, city.\n",
    "def number_tracks(city,day):\n",
    "# В переменной track_list сохраняются те строки таблицы df, для которых \n",
    "# значение в столбце 'day' равно параметру day и одновременно значение\n",
    "# в столбце 'city' равно параметру city (используйте последовательную фильтрацию\n",
    "# с помощью логической индексации).\n",
    "    track_list=df[df['city']==city]\n",
    "    track_list=track_list[track_list['day']==day]\n",
    "# В переменной track_list_count сохраняется число значений столбца 'user_id',\n",
    "# рассчитанное методом count() для таблицы track_list.\n",
    "# Функция возвращает число - значение track_list_count.\n",
    "    track_list_count=track_list['user_id'].count()\n",
    "    return track_list_count\n",
    "# Функция для подсчёта прослушиваний для конкретного города и дня.\n",
    "# С помощью последовательной фильтрации с логической индексацией она \n",
    "# сначала получит из исходной таблицы строки с нужным днём,\n",
    "# затем из результата отфильтрует строки с нужным городом,\n",
    "# методом count() посчитает количество значений в колонке user_id. \n",
    "# Это количество функция вернёт в качестве результата"
   ]
  },
  {
   "cell_type": "markdown",
   "metadata": {},
   "source": [
    "<div class=\"alert alert-success\">\n",
    "<font size=\"4\"><b>✔️ Комментарий ревьюера</b></font>\n",
    "    <br /> \n",
    "    <font size=\"3\", color = \"black\">\n",
    "<br />        \n",
    "В теле функции использован один из методов «фильтрации» столбца — <b>df[df['day'] == day]</b>, подобный метод фильтрации еще много раз тебя выручит :)\n",
    "  \n",
    "\n",
    "</div>"
   ]
  },
  {
   "cell_type": "markdown",
   "metadata": {
    "id": "ytf7xFrFJQ2r"
   },
   "source": [
    "Вызовите `number_tracks()` шесть раз, меняя значение параметров — так, чтобы получить данные для каждого города в каждый из трёх дней."
   ]
  },
  {
   "cell_type": "code",
   "execution_count": 21,
   "metadata": {
    "id": "rJcRATNQ_Zcu"
   },
   "outputs": [
    {
     "data": {
      "text/plain": [
       "15740"
      ]
     },
     "execution_count": 21,
     "metadata": {},
     "output_type": "execute_result"
    }
   ],
   "source": [
    "# количество прослушиваний в Москве по понедельникам\n",
    "number_tracks('Moscow','Monday')"
   ]
  },
  {
   "cell_type": "code",
   "execution_count": 22,
   "metadata": {
    "id": "hq_ncZ5T_Zcu"
   },
   "outputs": [
    {
     "data": {
      "text/plain": [
       "5614"
      ]
     },
     "execution_count": 22,
     "metadata": {},
     "output_type": "execute_result"
    }
   ],
   "source": [
    "# количество прослушиваний в Санкт-Петербурге по понедельникам\n",
    "number_tracks('Saint-Petersburg','Monday')"
   ]
  },
  {
   "cell_type": "code",
   "execution_count": 23,
   "metadata": {
    "id": "_NTy2VPU_Zcu"
   },
   "outputs": [
    {
     "data": {
      "text/plain": [
       "11056"
      ]
     },
     "execution_count": 23,
     "metadata": {},
     "output_type": "execute_result"
    }
   ],
   "source": [
    "# количество прослушиваний в Москве по средам\n",
    "number_tracks('Moscow','Wednesday')"
   ]
  },
  {
   "cell_type": "code",
   "execution_count": 24,
   "metadata": {
    "id": "j2y3TAwo_Zcu"
   },
   "outputs": [
    {
     "data": {
      "text/plain": [
       "7003"
      ]
     },
     "execution_count": 24,
     "metadata": {},
     "output_type": "execute_result"
    }
   ],
   "source": [
    "# количество прослушиваний в Санкт-Петербурге по средам\n",
    "number_tracks('Saint-Petersburg','Wednesday')"
   ]
  },
  {
   "cell_type": "code",
   "execution_count": 25,
   "metadata": {
    "id": "vYDw5u_K_Zcu"
   },
   "outputs": [
    {
     "data": {
      "text/plain": [
       "15945"
      ]
     },
     "execution_count": 25,
     "metadata": {},
     "output_type": "execute_result"
    }
   ],
   "source": [
    "# количество прослушиваний в Москве по пятницам\n",
    "number_tracks('Moscow','Friday')"
   ]
  },
  {
   "cell_type": "code",
   "execution_count": 26,
   "metadata": {
    "id": "8_yzFtW3_Zcu"
   },
   "outputs": [
    {
     "data": {
      "text/plain": [
       "5895"
      ]
     },
     "execution_count": 26,
     "metadata": {},
     "output_type": "execute_result"
    }
   ],
   "source": [
    "# количество прослушиваний в Санкт-Петербурге по пятницам\n",
    "number_tracks('Saint-Petersburg','Friday')"
   ]
  },
  {
   "cell_type": "markdown",
   "metadata": {
    "id": "7QXffbO-_Zcu"
   },
   "source": [
    "Создайте c помощью конструктора `pd.DataFrame` таблицу, где\n",
    "* названия колонок — `['city', 'monday', 'wednesday', 'friday']`;\n",
    "* данные — результаты, которые вы получили с помощью `number_tracks`."
   ]
  },
  {
   "cell_type": "code",
   "execution_count": 27,
   "metadata": {
    "id": "APAcLpOr_Zcu"
   },
   "outputs": [
    {
     "data": {
      "text/html": [
       "<div>\n",
       "<style scoped>\n",
       "    .dataframe tbody tr th:only-of-type {\n",
       "        vertical-align: middle;\n",
       "    }\n",
       "\n",
       "    .dataframe tbody tr th {\n",
       "        vertical-align: top;\n",
       "    }\n",
       "\n",
       "    .dataframe thead th {\n",
       "        text-align: right;\n",
       "    }\n",
       "</style>\n",
       "<table border=\"1\" class=\"dataframe\">\n",
       "  <thead>\n",
       "    <tr style=\"text-align: right;\">\n",
       "      <th></th>\n",
       "      <th>city</th>\n",
       "      <th>monday</th>\n",
       "      <th>wednesday</th>\n",
       "      <th>friday</th>\n",
       "    </tr>\n",
       "  </thead>\n",
       "  <tbody>\n",
       "    <tr>\n",
       "      <th>0</th>\n",
       "      <td>Moscow</td>\n",
       "      <td>15740</td>\n",
       "      <td>11056</td>\n",
       "      <td>15945</td>\n",
       "    </tr>\n",
       "    <tr>\n",
       "      <th>1</th>\n",
       "      <td>Saint-Petersburg</td>\n",
       "      <td>5614</td>\n",
       "      <td>7003</td>\n",
       "      <td>5895</td>\n",
       "    </tr>\n",
       "  </tbody>\n",
       "</table>\n",
       "</div>"
      ],
      "text/plain": [
       "               city  monday  wednesday  friday\n",
       "0            Moscow   15740      11056   15945\n",
       "1  Saint-Petersburg    5614       7003    5895"
      ]
     },
     "execution_count": 27,
     "metadata": {},
     "output_type": "execute_result"
    }
   ],
   "source": [
    "# Таблица с результатами\n",
    "columns=['city', 'monday', 'wednesday', 'friday']\n",
    "data_table=[['Moscow',number_tracks('Moscow','Monday'),number_tracks('Moscow','Wednesday'),number_tracks('Moscow','Friday')\n",
    "            ],\n",
    "           ['Saint-Petersburg',number_tracks('Saint-Petersburg','Monday'),number_tracks('Saint-Petersburg','Wednesday'),\n",
    "           number_tracks('Saint-Petersburg','Friday')]]\n",
    "table_of_users=pd.DataFrame(data=data_table,columns=columns)\n",
    "table_of_users"
   ]
  },
  {
   "cell_type": "markdown",
   "metadata": {},
   "source": [
    "<div class=\"alert alert-success\">\n",
    "<font size=\"4\"><b>✔️ Комментарий ревьюера</b></font>\n",
    "    <br /> \n",
    "    <font size=\"3\", color = \"black\">\n",
    "<br />        \n",
    "Создан собственный датафрейм, теперь на нем можно практиковать все полученные знания :), \n",
    "        \n",
    "      \n",
    "\n",
    "<b>Главное — на такой таблице удобно доказывать выводы нашей гипотезы</b>\n",
    "  \n",
    "\n",
    "</div>"
   ]
  },
  {
   "cell_type": "markdown",
   "metadata": {
    "id": "-EgPIHYu_Zcu"
   },
   "source": [
    "**Выводы**\n",
    "\n",
    "Данные показывают разницу поведения пользователей:\n",
    "\n",
    "- В Москве пик прослушиваний приходится на понедельник и пятницу, а в среду заметен спад.\n",
    "- В Петербурге, наоборот, больше слушают музыку по средам. Активность в понедельник и пятницу здесь почти в равной мере уступает среде.\n",
    "\n",
    "Значит, данные говорят в пользу первой гипотезы."
   ]
  },
  {
   "cell_type": "markdown",
   "metadata": {
    "id": "atZAxtq4_Zcu"
   },
   "source": [
    "### Музыка в начале и в конце недели"
   ]
  },
  {
   "cell_type": "markdown",
   "metadata": {
    "id": "eXrQqXFH_Zcu"
   },
   "source": [
    "Согласно второй гипотезе, утром в понедельник в Москве преобладают одни жанры, а в Петербурге — другие. Так же и вечером пятницы преобладают разные жанры — в зависимости от города."
   ]
  },
  {
   "cell_type": "markdown",
   "metadata": {
    "id": "S8UcW6Hw_Zcu"
   },
   "source": [
    "Сохраните таблицы с данными в две переменные:\n",
    "* по Москве — в `moscow_general`;\n",
    "* по Санкт-Петербургу — в `spb_general`."
   ]
  },
  {
   "cell_type": "code",
   "execution_count": 28,
   "metadata": {
    "id": "qeaFfM_P_Zcu"
   },
   "outputs": [
    {
     "data": {
      "text/html": [
       "<div>\n",
       "<style scoped>\n",
       "    .dataframe tbody tr th:only-of-type {\n",
       "        vertical-align: middle;\n",
       "    }\n",
       "\n",
       "    .dataframe tbody tr th {\n",
       "        vertical-align: top;\n",
       "    }\n",
       "\n",
       "    .dataframe thead th {\n",
       "        text-align: right;\n",
       "    }\n",
       "</style>\n",
       "<table border=\"1\" class=\"dataframe\">\n",
       "  <thead>\n",
       "    <tr style=\"text-align: right;\">\n",
       "      <th></th>\n",
       "      <th>user_id</th>\n",
       "      <th>track</th>\n",
       "      <th>artist</th>\n",
       "      <th>genre</th>\n",
       "      <th>city</th>\n",
       "      <th>time</th>\n",
       "      <th>day</th>\n",
       "    </tr>\n",
       "  </thead>\n",
       "  <tbody>\n",
       "    <tr>\n",
       "      <th>1</th>\n",
       "      <td>55204538</td>\n",
       "      <td>Delayed Because of Accident</td>\n",
       "      <td>Andreas Rönnberg</td>\n",
       "      <td>rock</td>\n",
       "      <td>Moscow</td>\n",
       "      <td>14:07:09</td>\n",
       "      <td>Friday</td>\n",
       "    </tr>\n",
       "    <tr>\n",
       "      <th>4</th>\n",
       "      <td>E2DC1FAE</td>\n",
       "      <td>Soul People</td>\n",
       "      <td>Space Echo</td>\n",
       "      <td>dance</td>\n",
       "      <td>Moscow</td>\n",
       "      <td>08:34:34</td>\n",
       "      <td>Monday</td>\n",
       "    </tr>\n",
       "    <tr>\n",
       "      <th>6</th>\n",
       "      <td>4CB90AA5</td>\n",
       "      <td>True</td>\n",
       "      <td>Roman Messer</td>\n",
       "      <td>dance</td>\n",
       "      <td>Moscow</td>\n",
       "      <td>13:00:07</td>\n",
       "      <td>Wednesday</td>\n",
       "    </tr>\n",
       "    <tr>\n",
       "      <th>7</th>\n",
       "      <td>F03E1C1F</td>\n",
       "      <td>Feeling This Way</td>\n",
       "      <td>Polina Griffith</td>\n",
       "      <td>dance</td>\n",
       "      <td>Moscow</td>\n",
       "      <td>20:47:49</td>\n",
       "      <td>Wednesday</td>\n",
       "    </tr>\n",
       "    <tr>\n",
       "      <th>8</th>\n",
       "      <td>8FA1D3BE</td>\n",
       "      <td>И вновь продолжается бой</td>\n",
       "      <td>unknown</td>\n",
       "      <td>ruspop</td>\n",
       "      <td>Moscow</td>\n",
       "      <td>09:17:40</td>\n",
       "      <td>Friday</td>\n",
       "    </tr>\n",
       "    <tr>\n",
       "      <th>...</th>\n",
       "      <td>...</td>\n",
       "      <td>...</td>\n",
       "      <td>...</td>\n",
       "      <td>...</td>\n",
       "      <td>...</td>\n",
       "      <td>...</td>\n",
       "      <td>...</td>\n",
       "    </tr>\n",
       "    <tr>\n",
       "      <th>61247</th>\n",
       "      <td>83A474E7</td>\n",
       "      <td>I Worship Only What You Bleed</td>\n",
       "      <td>The Black Dahlia Murder</td>\n",
       "      <td>extrememetal</td>\n",
       "      <td>Moscow</td>\n",
       "      <td>21:07:12</td>\n",
       "      <td>Monday</td>\n",
       "    </tr>\n",
       "    <tr>\n",
       "      <th>61248</th>\n",
       "      <td>729CBB09</td>\n",
       "      <td>My Name</td>\n",
       "      <td>McLean</td>\n",
       "      <td>rnb</td>\n",
       "      <td>Moscow</td>\n",
       "      <td>13:32:28</td>\n",
       "      <td>Wednesday</td>\n",
       "    </tr>\n",
       "    <tr>\n",
       "      <th>61250</th>\n",
       "      <td>C5E3A0D5</td>\n",
       "      <td>Jalopiina</td>\n",
       "      <td>unknown</td>\n",
       "      <td>industrial</td>\n",
       "      <td>Moscow</td>\n",
       "      <td>20:09:26</td>\n",
       "      <td>Friday</td>\n",
       "    </tr>\n",
       "    <tr>\n",
       "      <th>61251</th>\n",
       "      <td>321D0506</td>\n",
       "      <td>Freight Train</td>\n",
       "      <td>Chas McDevitt</td>\n",
       "      <td>rock</td>\n",
       "      <td>Moscow</td>\n",
       "      <td>21:43:59</td>\n",
       "      <td>Friday</td>\n",
       "    </tr>\n",
       "    <tr>\n",
       "      <th>61252</th>\n",
       "      <td>3A64EF84</td>\n",
       "      <td>Tell Me Sweet Little Lies</td>\n",
       "      <td>Monica Lopez</td>\n",
       "      <td>country</td>\n",
       "      <td>Moscow</td>\n",
       "      <td>21:59:46</td>\n",
       "      <td>Friday</td>\n",
       "    </tr>\n",
       "  </tbody>\n",
       "</table>\n",
       "<p>42741 rows × 7 columns</p>\n",
       "</div>"
      ],
      "text/plain": [
       "        user_id                          track                   artist  \\\n",
       "1      55204538    Delayed Because of Accident         Andreas Rönnberg   \n",
       "4      E2DC1FAE                    Soul People               Space Echo   \n",
       "6      4CB90AA5                           True             Roman Messer   \n",
       "7      F03E1C1F               Feeling This Way          Polina Griffith   \n",
       "8      8FA1D3BE       И вновь продолжается бой                  unknown   \n",
       "...         ...                            ...                      ...   \n",
       "61247  83A474E7  I Worship Only What You Bleed  The Black Dahlia Murder   \n",
       "61248  729CBB09                        My Name                   McLean   \n",
       "61250  C5E3A0D5                      Jalopiina                  unknown   \n",
       "61251  321D0506                  Freight Train            Chas McDevitt   \n",
       "61252  3A64EF84      Tell Me Sweet Little Lies             Monica Lopez   \n",
       "\n",
       "              genre    city      time        day  \n",
       "1              rock  Moscow  14:07:09     Friday  \n",
       "4             dance  Moscow  08:34:34     Monday  \n",
       "6             dance  Moscow  13:00:07  Wednesday  \n",
       "7             dance  Moscow  20:47:49  Wednesday  \n",
       "8            ruspop  Moscow  09:17:40     Friday  \n",
       "...             ...     ...       ...        ...  \n",
       "61247  extrememetal  Moscow  21:07:12     Monday  \n",
       "61248           rnb  Moscow  13:32:28  Wednesday  \n",
       "61250    industrial  Moscow  20:09:26     Friday  \n",
       "61251          rock  Moscow  21:43:59     Friday  \n",
       "61252       country  Moscow  21:59:46     Friday  \n",
       "\n",
       "[42741 rows x 7 columns]"
      ]
     },
     "execution_count": 28,
     "metadata": {},
     "output_type": "execute_result"
    }
   ],
   "source": [
    "# получение таблицы moscow_general из тех строк таблицы df, \n",
    "# для которых значение в столбце 'city' равно 'Moscow'\n",
    "moscow_general=df[df['city']=='Moscow']\n",
    "moscow_general"
   ]
  },
  {
   "cell_type": "code",
   "execution_count": 29,
   "metadata": {
    "id": "ORaVRKto_Zcu"
   },
   "outputs": [
    {
     "data": {
      "text/html": [
       "<div>\n",
       "<style scoped>\n",
       "    .dataframe tbody tr th:only-of-type {\n",
       "        vertical-align: middle;\n",
       "    }\n",
       "\n",
       "    .dataframe tbody tr th {\n",
       "        vertical-align: top;\n",
       "    }\n",
       "\n",
       "    .dataframe thead th {\n",
       "        text-align: right;\n",
       "    }\n",
       "</style>\n",
       "<table border=\"1\" class=\"dataframe\">\n",
       "  <thead>\n",
       "    <tr style=\"text-align: right;\">\n",
       "      <th></th>\n",
       "      <th>user_id</th>\n",
       "      <th>track</th>\n",
       "      <th>artist</th>\n",
       "      <th>genre</th>\n",
       "      <th>city</th>\n",
       "      <th>time</th>\n",
       "      <th>day</th>\n",
       "    </tr>\n",
       "  </thead>\n",
       "  <tbody>\n",
       "    <tr>\n",
       "      <th>0</th>\n",
       "      <td>FFB692EC</td>\n",
       "      <td>Kamigata To Boots</td>\n",
       "      <td>The Mass Missile</td>\n",
       "      <td>rock</td>\n",
       "      <td>Saint-Petersburg</td>\n",
       "      <td>20:28:33</td>\n",
       "      <td>Wednesday</td>\n",
       "    </tr>\n",
       "    <tr>\n",
       "      <th>2</th>\n",
       "      <td>20EC38</td>\n",
       "      <td>Funiculì funiculà</td>\n",
       "      <td>Mario Lanza</td>\n",
       "      <td>pop</td>\n",
       "      <td>Saint-Petersburg</td>\n",
       "      <td>20:58:07</td>\n",
       "      <td>Wednesday</td>\n",
       "    </tr>\n",
       "    <tr>\n",
       "      <th>3</th>\n",
       "      <td>A3DD03C9</td>\n",
       "      <td>Dragons in the Sunset</td>\n",
       "      <td>Fire + Ice</td>\n",
       "      <td>folk</td>\n",
       "      <td>Saint-Petersburg</td>\n",
       "      <td>08:37:09</td>\n",
       "      <td>Monday</td>\n",
       "    </tr>\n",
       "    <tr>\n",
       "      <th>5</th>\n",
       "      <td>842029A1</td>\n",
       "      <td>Преданная</td>\n",
       "      <td>IMPERVTOR</td>\n",
       "      <td>rusrap</td>\n",
       "      <td>Saint-Petersburg</td>\n",
       "      <td>13:09:41</td>\n",
       "      <td>Friday</td>\n",
       "    </tr>\n",
       "    <tr>\n",
       "      <th>9</th>\n",
       "      <td>E772D5C0</td>\n",
       "      <td>Pessimist</td>\n",
       "      <td>unknown</td>\n",
       "      <td>dance</td>\n",
       "      <td>Saint-Petersburg</td>\n",
       "      <td>21:20:49</td>\n",
       "      <td>Wednesday</td>\n",
       "    </tr>\n",
       "    <tr>\n",
       "      <th>...</th>\n",
       "      <td>...</td>\n",
       "      <td>...</td>\n",
       "      <td>...</td>\n",
       "      <td>...</td>\n",
       "      <td>...</td>\n",
       "      <td>...</td>\n",
       "      <td>...</td>\n",
       "    </tr>\n",
       "    <tr>\n",
       "      <th>61239</th>\n",
       "      <td>D94F810B</td>\n",
       "      <td>Theme from the Walking Dead</td>\n",
       "      <td>Proyecto Halloween</td>\n",
       "      <td>film</td>\n",
       "      <td>Saint-Petersburg</td>\n",
       "      <td>21:14:40</td>\n",
       "      <td>Monday</td>\n",
       "    </tr>\n",
       "    <tr>\n",
       "      <th>61240</th>\n",
       "      <td>BC8EC5CF</td>\n",
       "      <td>Red Lips: Gta (Rover Rework)</td>\n",
       "      <td>Rover</td>\n",
       "      <td>electronic</td>\n",
       "      <td>Saint-Petersburg</td>\n",
       "      <td>21:06:50</td>\n",
       "      <td>Monday</td>\n",
       "    </tr>\n",
       "    <tr>\n",
       "      <th>61241</th>\n",
       "      <td>29E04611</td>\n",
       "      <td>Bre Petrunko</td>\n",
       "      <td>Perunika Trio</td>\n",
       "      <td>world</td>\n",
       "      <td>Saint-Petersburg</td>\n",
       "      <td>13:56:00</td>\n",
       "      <td>Monday</td>\n",
       "    </tr>\n",
       "    <tr>\n",
       "      <th>61242</th>\n",
       "      <td>1B91C621</td>\n",
       "      <td>(Hello) Cloud Mountain</td>\n",
       "      <td>sleepmakeswaves</td>\n",
       "      <td>postrock</td>\n",
       "      <td>Saint-Petersburg</td>\n",
       "      <td>09:22:13</td>\n",
       "      <td>Monday</td>\n",
       "    </tr>\n",
       "    <tr>\n",
       "      <th>61249</th>\n",
       "      <td>D08D4A55</td>\n",
       "      <td>Maybe One Day (feat. Black Spade)</td>\n",
       "      <td>Blu &amp; Exile</td>\n",
       "      <td>hiphop</td>\n",
       "      <td>Saint-Petersburg</td>\n",
       "      <td>10:00:00</td>\n",
       "      <td>Monday</td>\n",
       "    </tr>\n",
       "  </tbody>\n",
       "</table>\n",
       "<p>18512 rows × 7 columns</p>\n",
       "</div>"
      ],
      "text/plain": [
       "        user_id                              track              artist  \\\n",
       "0      FFB692EC                  Kamigata To Boots    The Mass Missile   \n",
       "2        20EC38                  Funiculì funiculà         Mario Lanza   \n",
       "3      A3DD03C9              Dragons in the Sunset          Fire + Ice   \n",
       "5      842029A1                          Преданная           IMPERVTOR   \n",
       "9      E772D5C0                          Pessimist             unknown   \n",
       "...         ...                                ...                 ...   \n",
       "61239  D94F810B        Theme from the Walking Dead  Proyecto Halloween   \n",
       "61240  BC8EC5CF       Red Lips: Gta (Rover Rework)               Rover   \n",
       "61241  29E04611                       Bre Petrunko       Perunika Trio   \n",
       "61242  1B91C621             (Hello) Cloud Mountain     sleepmakeswaves   \n",
       "61249  D08D4A55  Maybe One Day (feat. Black Spade)         Blu & Exile   \n",
       "\n",
       "            genre              city      time        day  \n",
       "0            rock  Saint-Petersburg  20:28:33  Wednesday  \n",
       "2             pop  Saint-Petersburg  20:58:07  Wednesday  \n",
       "3            folk  Saint-Petersburg  08:37:09     Monday  \n",
       "5          rusrap  Saint-Petersburg  13:09:41     Friday  \n",
       "9           dance  Saint-Petersburg  21:20:49  Wednesday  \n",
       "...           ...               ...       ...        ...  \n",
       "61239        film  Saint-Petersburg  21:14:40     Monday  \n",
       "61240  electronic  Saint-Petersburg  21:06:50     Monday  \n",
       "61241       world  Saint-Petersburg  13:56:00     Monday  \n",
       "61242    postrock  Saint-Petersburg  09:22:13     Monday  \n",
       "61249      hiphop  Saint-Petersburg  10:00:00     Monday  \n",
       "\n",
       "[18512 rows x 7 columns]"
      ]
     },
     "execution_count": 29,
     "metadata": {},
     "output_type": "execute_result"
    }
   ],
   "source": [
    "# получение таблицы spb_general из тех строк таблицы df,\n",
    "# для которых значение в столбце 'city' равно 'Saint-Petersburg'\n",
    "spb_general=df[df['city']=='Saint-Petersburg']\n",
    "spb_general"
   ]
  },
  {
   "cell_type": "markdown",
   "metadata": {
    "id": "MEJV-CX2_Zcu"
   },
   "source": [
    "Создайте функцию `genre_weekday()` с четырьмя параметрами:\n",
    "* таблица (датафрейм) с данными,\n",
    "* день недели,\n",
    "* начальная временная метка в формате 'hh:mm', \n",
    "* последняя временная метка в формате 'hh:mm'.\n",
    "\n",
    "Функция должна вернуть информацию о топ-10 жанров тех треков, которые прослушивали в указанный день, в промежутке между двумя отметками времени."
   ]
  },
  {
   "cell_type": "code",
   "execution_count": 30,
   "metadata": {
    "id": "laJT9BYl_Zcu"
   },
   "outputs": [],
   "source": [
    "# Объявление функции genre_weekday() с параметрами table, day, time1, time2,\n",
    "# которая возвращает информацию о самых популярных жанрах в указанный день в\n",
    "# заданное время:\n",
    "# 1) в переменную genre_df сохраняются те строки переданного датафрейма table, для\n",
    "#    которых одновременно:\n",
    "#    - значение в столбце day равно значению аргумента day\n",
    "#    - значение в столбце time больше значения аргумента time1\n",
    "#    - значение в столбце time меньше значения аргумента time2\n",
    "#    Используйте последовательную фильтрацию с помощью логической индексации.\n",
    "# 2) сгруппировать датафрейм genre_df по столбцу genre, взять один из его\n",
    "#    столбцов и посчитать методом count() количество записей для каждого из\n",
    "#    присутствующих жанров, получившийся Series записать в переменную\n",
    "#    genre_df_count\n",
    "# 3) отсортировать genre_df_count по убыванию встречаемости и сохранить\n",
    "#    в переменную genre_df_sorted\n",
    "# 4) вернуть Series из 10 первых значений genre_df_sorted, это будут топ-10\n",
    "#    популярных жанров (в указанный день, в заданное время)\n",
    "def genre_weekday(table,day,time1,time2):\n",
    "    genre_df=table[table['day']==day]\n",
    "    genre_df=genre_df[genre_df['time']>time1]\n",
    "    genre_df=genre_df[genre_df['time']<time2]\n",
    "    genre_df_count=genre_df.groupby('genre')['genre'].count()\n",
    "    genre_df_sorted=genre_df_count.sort_values(ascending=False)\n",
    "    return genre_df_sorted.head(10)"
   ]
  },
  {
   "cell_type": "markdown",
   "metadata": {
    "id": "la2s2_PF_Zcu"
   },
   "source": [
    "Cравните результаты функции `genre_weekday()` для Москвы и Санкт-Петербурга в понедельник утром (с 7:00 до 11:00) и в пятницу вечером (с 17:00 до 23:00):"
   ]
  },
  {
   "cell_type": "code",
   "execution_count": 31,
   "metadata": {
    "id": "yz7itPUQ_Zcu",
    "scrolled": true
   },
   "outputs": [
    {
     "data": {
      "text/plain": [
       "genre\n",
       "pop            781\n",
       "dance          549\n",
       "electronic     480\n",
       "rock           474\n",
       "hiphop         286\n",
       "ruspop         186\n",
       "world          181\n",
       "rusrap         175\n",
       "alternative    164\n",
       "unknown        161\n",
       "Name: genre, dtype: int64"
      ]
     },
     "execution_count": 31,
     "metadata": {},
     "output_type": "execute_result"
    }
   ],
   "source": [
    "# вызов функции для утра понедельника в Москве (вместо df — таблица moscow_general)\n",
    "# объекты, хранящие время, являются строками и сравниваются как строки\n",
    "# пример вызова: genre_weekday(moscow_general, 'Monday', '07:00', '11:00')\n",
    "genre_weekday(moscow_general, 'Monday', '07:00', '11:00')"
   ]
  },
  {
   "cell_type": "code",
   "execution_count": 32,
   "metadata": {
    "id": "kwUcHPdy_Zcu"
   },
   "outputs": [
    {
     "data": {
      "text/plain": [
       "genre\n",
       "pop            218\n",
       "dance          182\n",
       "rock           162\n",
       "electronic     147\n",
       "hiphop          80\n",
       "ruspop          64\n",
       "alternative     58\n",
       "rusrap          55\n",
       "jazz            44\n",
       "classical       40\n",
       "Name: genre, dtype: int64"
      ]
     },
     "execution_count": 32,
     "metadata": {},
     "output_type": "execute_result"
    }
   ],
   "source": [
    "# вызов функции для утра понедельника в Петербурге (вместо df — таблица spb_general)\n",
    "genre_weekday(spb_general, 'Monday', '07:00', '11:00')"
   ]
  },
  {
   "cell_type": "code",
   "execution_count": 33,
   "metadata": {
    "id": "EzXVRE1o_Zcu"
   },
   "outputs": [
    {
     "data": {
      "text/plain": [
       "genre\n",
       "pop            717\n",
       "dance          524\n",
       "rock           518\n",
       "electronic     485\n",
       "hiphop         238\n",
       "alternative    182\n",
       "classical      172\n",
       "world          172\n",
       "ruspop         149\n",
       "rusrap         133\n",
       "Name: genre, dtype: int64"
      ]
     },
     "execution_count": 33,
     "metadata": {},
     "output_type": "execute_result"
    }
   ],
   "source": [
    "# вызов функции для вечера пятницы в Москве\n",
    "genre_weekday(moscow_general, 'Monday', '17:00', '23:00')"
   ]
  },
  {
   "cell_type": "code",
   "execution_count": 34,
   "metadata": {
    "id": "JZaEKu5v_Zcu"
   },
   "outputs": [
    {
     "data": {
      "text/plain": [
       "genre\n",
       "pop            263\n",
       "rock           208\n",
       "electronic     192\n",
       "dance          191\n",
       "hiphop         104\n",
       "alternative     72\n",
       "classical       71\n",
       "jazz            57\n",
       "rusrap          54\n",
       "ruspop          53\n",
       "Name: genre, dtype: int64"
      ]
     },
     "execution_count": 34,
     "metadata": {},
     "output_type": "execute_result"
    }
   ],
   "source": [
    "# вызов функции для вечера пятницы в Петербурге\n",
    "genre_weekday(spb_general, 'Monday', '17:00', '23:00')"
   ]
  },
  {
   "cell_type": "markdown",
   "metadata": {
    "id": "wrCe4MNX_Zcu"
   },
   "source": [
    "**Выводы**\n",
    "\n",
    "Если сравнить топ-10 жанров в понедельник утром, можно сделать такие выводы:\n",
    "\n",
    "1. В Москве и Петербурге слушают похожую музыку. Единственное отличие — в московский рейтинг вошёл жанр “world”, а в петербургский — джаз и классика.\n",
    "\n",
    "2. В Москве пропущенных значений оказалось так много, что значение `'unknown'` заняло десятое место среди самых популярных жанров. Значит, пропущенные значения занимают существенную долю в данных и угрожают достоверности исследования.\n",
    "\n",
    "Вечер пятницы не меняет эту картину. Некоторые жанры поднимаются немного выше, другие спускаются, но в целом топ-10 остаётся тем же самым.\n",
    "\n",
    "Таким образом, вторая гипотеза подтвердилась лишь частично:\n",
    "* Пользователи слушают похожую музыку в начале недели и в конце.\n",
    "* Разница между Москвой и Петербургом не слишком выражена. В Москве чаще слушают русскую популярную музыку, в Петербурге - джаз.\n",
    "\n",
    "Однако пропуски в данных ставят под сомнение этот результат. В Москве их так много, что рейтинг топ-10 мог бы выглядеть иначе, если бы не утерянные  данные о жанрах."
   ]
  },
  {
   "cell_type": "markdown",
   "metadata": {
    "id": "JolODAqr_Zcu"
   },
   "source": [
    "### Жанровые предпочтения в Москве и Петербурге\n",
    "\n",
    "Гипотеза: Петербург — столица рэпа, музыку этого жанра там слушают чаще, чем в Москве.  А Москва — город контрастов, в котором, тем не менее, преобладает поп-музыка."
   ]
  },
  {
   "cell_type": "markdown",
   "metadata": {
    "id": "DlegSvaT_Zcu"
   },
   "source": [
    "Сгруппируйте таблицу `moscow_general` по жанру и посчитайте прослушивания треков каждого жанра методом `count()`. Затем отсортируйте результат в порядке убывания и сохраните его в таблице `moscow_genres`."
   ]
  },
  {
   "cell_type": "code",
   "execution_count": 35,
   "metadata": {
    "id": "r19lIPke_Zcu"
   },
   "outputs": [],
   "source": [
    "# одной строкой: группировка таблицы moscow_general по столбцу 'genre', \n",
    "# подсчёт числа значений 'genre' в этой группировке методом count(), \n",
    "# сортировка получившегося Series в порядке убывания и сохранение в moscow_genres\n",
    "moscow_genres=moscow_general.groupby('genre')['genre'].count().sort_values(ascending=False)"
   ]
  },
  {
   "cell_type": "markdown",
   "metadata": {},
   "source": [
    "<div class=\"alert alert-success\">\n",
    "<font size=\"4\"><b>✔️ Комментарий ревьюера</b></font>\n",
    "    <br /> \n",
    "        <font size=\"3\", color = \"black\">\n",
    "            <br />\n",
    "Pandas позволяет применять сразу несколько методов к одному объекту"
   ]
  },
  {
   "cell_type": "markdown",
   "metadata": {
    "id": "6kMuomxTiIr8"
   },
   "source": [
    "Выведите на экран первые десять строк `moscow_genres`:"
   ]
  },
  {
   "cell_type": "code",
   "execution_count": 36,
   "metadata": {
    "id": "WhCSooF8_Zcv"
   },
   "outputs": [
    {
     "data": {
      "text/plain": [
       "genre\n",
       "pop            5892\n",
       "dance          4435\n",
       "rock           3965\n",
       "electronic     3786\n",
       "hiphop         2096\n",
       "classical      1616\n",
       "world          1432\n",
       "alternative    1379\n",
       "ruspop         1372\n",
       "rusrap         1161\n",
       "Name: genre, dtype: int64"
      ]
     },
     "execution_count": 36,
     "metadata": {},
     "output_type": "execute_result"
    }
   ],
   "source": [
    "# просмотр первых 10 строк moscow_genres\n",
    "moscow_genres.head(10)"
   ]
  },
  {
   "cell_type": "markdown",
   "metadata": {
    "id": "cnPG2vnN_Zcv"
   },
   "source": [
    "Теперь повторите то же и для Петербурга.\n",
    "\n",
    "Сгруппируйте таблицу `spb_general` по жанру. Посчитайте прослушивания треков каждого жанра. Результат отсортируйте в порядке убывания и сохраните в таблице `spb_genres`:\n"
   ]
  },
  {
   "cell_type": "code",
   "execution_count": 37,
   "metadata": {
    "id": "gluLIpE7_Zcv"
   },
   "outputs": [],
   "source": [
    "# одной строкой: группировка таблицы spb_general по столбцу 'genre', \n",
    "# подсчёт числа значений 'genre' в этой группировке методом count(), \n",
    "# сортировка получившегося Series в порядке убывания и сохранение в spb_genres\n",
    "spb_genres=spb_general.groupby('genre')['genre'].count().sort_values(ascending=False)"
   ]
  },
  {
   "cell_type": "markdown",
   "metadata": {
    "id": "5Doha_ODgyQ8"
   },
   "source": [
    "Выведите на экран первые десять строк `spb_genres`:"
   ]
  },
  {
   "cell_type": "code",
   "execution_count": 38,
   "metadata": {
    "id": "uaGJHjVU_Zcv"
   },
   "outputs": [
    {
     "data": {
      "text/plain": [
       "genre\n",
       "pop            2431\n",
       "dance          1932\n",
       "rock           1879\n",
       "electronic     1736\n",
       "hiphop          960\n",
       "alternative     649\n",
       "classical       646\n",
       "rusrap          564\n",
       "ruspop          538\n",
       "world           515\n",
       "Name: genre, dtype: int64"
      ]
     },
     "execution_count": 38,
     "metadata": {},
     "output_type": "execute_result"
    }
   ],
   "source": [
    "# просмотр первых 10 строк spb_genres\n",
    "spb_genres.head(10)"
   ]
  },
  {
   "cell_type": "markdown",
   "metadata": {
    "id": "RY51YJYu_Zcv"
   },
   "source": [
    "**Выводы**"
   ]
  },
  {
   "cell_type": "markdown",
   "metadata": {
    "id": "nVhnJEm__Zcv"
   },
   "source": [
    "Гипотеза частично подтвердилась:\n",
    "* Поп-музыка — самый популярный жанр в Москве, как и предполагала гипотеза. Более того, в топ-10 жанров встречается близкий жанр — русская популярная музыка.\n",
    "* Вопреки ожиданиям, рэп одинаково популярен в Москве и Петербурге. \n"
   ]
  },
  {
   "cell_type": "markdown",
   "metadata": {
    "id": "ykKQ0N65_Zcv"
   },
   "source": [
    "## Итоги исследования"
   ]
  },
  {
   "cell_type": "markdown",
   "metadata": {
    "id": "tjUwbHb3_Zcv"
   },
   "source": [
    "Вы проверили три гипотезы и установили:\n",
    "\n",
    "1. День недели по-разному влияет на активность пользователей в Москве и Петербурге. \n",
    "\n",
    "Первая гипотеза полностью подтвердилась.\n",
    "\n",
    "2. Музыкальные предпочтения не сильно меняются в течение недели — будь то Москва или Петербург. Небольшие различия заметны в начале недели, по понедельникам:\n",
    "* в Москве слушают музыку жанра “world”,\n",
    "* в Петербурге — джаз и классику.\n",
    "\n",
    "Таким образом, вторая гипотеза подтвердилась лишь отчасти. Этот результат мог оказаться иным, если бы не пропуски в данных.\n",
    "\n",
    "3. Во вкусах пользователей Москвы и Петербурга больше общего чем различий. Вопреки ожиданиям, предпочтения жанров в Петербурге напоминают московские.\n",
    "\n",
    "Третья гипотеза не подтвердилась. Если различия в предпочтениях и существуют, на основной массе пользователей они незаметны.\n",
    "\n",
    "**На практике исследования содержат проверки статистических гипотез.**\n",
    "Из данных одного сервиса не всегда можно сделать вывод о всех жителях города.\n",
    "Проверки статистических гипотез покажут, насколько они достоверны, исходя из имеющихся данных. \n",
    "С методами проверок гипотез вы ещё познакомитесь в следующих темах."
   ]
  },
  {
   "cell_type": "markdown",
   "metadata": {},
   "source": [
    "<div style=\"border:solid steelblue 3px; padding: 20px\">\n",
    "<font size=\"4\"><b>🍕 Комментарий ревьюера</b></font>\n",
    "    <br /> \n",
    "        <font size=\"3\", color = \"black\">\n",
    "            <br />\n",
    "Как и в начале проекта — здесь уже подготовлены основные тезисы вывода, можно взять как пример или переработать согласно твоим собственным выводам, взглядам </p>\n",
    "\n",
    "<div class=\"alert alert\">\n",
    "            \n",
    "<p> Доп. материал. Интересные методы группировки и расчета суммы, средних и т.д.\n",
    "        \n",
    "[Подробное руководство по группировке и агрегированию с помощью pandas](https://dfedorov.spb.ru/pandas/%D0%9F%D0%BE%D0%B4%D1%80%D0%BE%D0%B1%D0%BD%D0%BE%D0%B5%20%D1%80%D1%83%D0%BA%D0%BE%D0%B2%D0%BE%D0%B4%D1%81%D1%82%D0%B2%D0%BE%20%D0%BF%D0%BE%20%D0%B3%D1%80%D1%83%D0%BF%D0%BF%D0%B8%D1%80%D0%BE%D0%B2%D0%BA%D0%B5%20%D0%B8%20%D0%B0%D0%B3%D1%80%D0%B5%D0%B3%D0%B8%D1%80%D0%BE%D0%B2%D0%B0%D0%BD%D0%B8%D1%8E%20%D1%81%20%D0%BF%D0%BE%D0%BC%D0%BE%D1%89%D1%8C%D1%8E%20pandas.html)\n",
    "\n",
    "<p> Если будут вопросы по группировке таблиц, обязательно напиши в комментариях, постараюсь помочь</p>             \n",
    "\n",
    "\n",
    "</div>"
   ]
  },
  {
   "cell_type": "markdown",
   "metadata": {},
   "source": [
    "<div class=\"alert alert-success\">\n",
    "<font size=\"5\", color = \"seagreen\"><b>✔️ Комментарий ревьюера</b></font>\n",
    "    <br /> \n",
    "    <font size=\"4\", color = \"black\">\n",
    "<br />    \n",
    "<b>Ты выполнил практически все пункты работы, молодец!</b> На практике применил свои знания по очень важным темам — успешно можешь: загружать и предобрабатывать данные, проверять гипотезы, использовать больше 14-ти методов библиотеки pandas, применять функции и циклы, создавать сводные таблицы и датафреймы\n",
    "\n",
    "Критический ❌ комментарий один — группировка данных\n",
    "        \n",
    "Если будут вопросы про мои комментарии - задавай, если какой-то формат взаимодействия не устраивает или есть какие-то другие пожелания - пиши :)\n",
    "\n",
    "<div class=\"alert alert-success\">\n",
    "    <font size=\"5\", color = \"seagreen\"><b>Жду твой проект и твои комментарии 🤝</b></font><br />\n",
    "\n",
    "\n",
    "<b>-------------------------------------------------------<br />\n",
    "\n",
    "<b>Все понятно! Спасибо большое, надеюсь верно исправил :)<br />"
   ]
  },
  {
   "cell_type": "code",
   "execution_count": 39,
   "metadata": {},
   "outputs": [
    {
     "data": {
      "text/html": [
       "<div>\n",
       "<style scoped>\n",
       "    .dataframe tbody tr th:only-of-type {\n",
       "        vertical-align: middle;\n",
       "    }\n",
       "\n",
       "    .dataframe tbody tr th {\n",
       "        vertical-align: top;\n",
       "    }\n",
       "\n",
       "    .dataframe thead th {\n",
       "        text-align: right;\n",
       "    }\n",
       "</style>\n",
       "<table border=\"1\" class=\"dataframe\">\n",
       "  <thead>\n",
       "    <tr style=\"text-align: right;\">\n",
       "      <th></th>\n",
       "      <th>city</th>\n",
       "      <th>monday</th>\n",
       "      <th>wednesday</th>\n",
       "      <th>friday</th>\n",
       "    </tr>\n",
       "  </thead>\n",
       "  <tbody>\n",
       "    <tr>\n",
       "      <th>0</th>\n",
       "      <td>Moscow</td>\n",
       "      <td>15740</td>\n",
       "      <td>11056</td>\n",
       "      <td>15945</td>\n",
       "    </tr>\n",
       "    <tr>\n",
       "      <th>1</th>\n",
       "      <td>Saint-Petersburg</td>\n",
       "      <td>5614</td>\n",
       "      <td>7003</td>\n",
       "      <td>5895</td>\n",
       "    </tr>\n",
       "  </tbody>\n",
       "</table>\n",
       "</div>"
      ],
      "text/plain": [
       "               city  monday  wednesday  friday\n",
       "0            Moscow   15740      11056   15945\n",
       "1  Saint-Petersburg    5614       7003    5895"
      ]
     },
     "execution_count": 39,
     "metadata": {},
     "output_type": "execute_result"
    }
   ],
   "source": [
    "# вариант создания таблицы через группировку\n",
    "\n",
    "(\n",
    "    (df\n",
    "         .groupby(['city', 'day']) # разные методы группировки\n",
    "         .agg({'genre':'count'}) # подсчет значений\n",
    "         .reset_index() #  убираем индексы, чтобы можно было собрать другую группировку данных\n",
    "    )\n",
    "             .pivot_table(index= 'city', columns = 'day', values = 'genre', aggfunc = 'sum') # разные методы группировки\n",
    "             .reset_index()\n",
    "             .rename_axis('', axis='columns') # убираем лишние названия\n",
    "             .reindex(columns=['city','Monday','Wednesday','Friday']) # перестановка столбцов\n",
    "             .rename(columns={'Friday': 'friday', 'Monday':'monday', 'Wednesday':'wednesday' })\n",
    "             .sort_values(by='city', ascending = True)   \n",
    ")"
   ]
  }
 ],
 "metadata": {
  "ExecuteTimeLog": [
   {
    "duration": 468,
    "start_time": "2022-04-18T10:18:38.427Z"
   },
   {
    "duration": 208,
    "start_time": "2022-04-18T10:21:00.434Z"
   },
   {
    "duration": 220,
    "start_time": "2022-04-18T10:21:09.141Z"
   },
   {
    "duration": 97,
    "start_time": "2022-04-18T10:21:11.346Z"
   },
   {
    "duration": 197,
    "start_time": "2022-04-18T10:21:54.969Z"
   },
   {
    "duration": 117,
    "start_time": "2022-04-18T10:25:45.340Z"
   },
   {
    "duration": 205,
    "start_time": "2022-04-18T10:26:46.980Z"
   },
   {
    "duration": 190,
    "start_time": "2022-04-18T10:28:13.368Z"
   },
   {
    "duration": 8,
    "start_time": "2022-04-18T10:28:16.107Z"
   },
   {
    "duration": 33,
    "start_time": "2022-04-18T10:28:45.331Z"
   },
   {
    "duration": 11,
    "start_time": "2022-04-18T10:32:54.044Z"
   },
   {
    "duration": 32,
    "start_time": "2022-04-18T10:34:31.265Z"
   },
   {
    "duration": 6,
    "start_time": "2022-04-18T10:34:47.230Z"
   },
   {
    "duration": 12,
    "start_time": "2022-04-18T10:34:55.576Z"
   },
   {
    "duration": 4,
    "start_time": "2022-04-18T10:34:56.867Z"
   },
   {
    "duration": 10,
    "start_time": "2022-04-18T10:35:26.067Z"
   },
   {
    "duration": 5,
    "start_time": "2022-04-18T10:35:28.611Z"
   },
   {
    "duration": 51,
    "start_time": "2022-04-18T10:35:55.408Z"
   },
   {
    "duration": 29,
    "start_time": "2022-04-18T10:36:11.735Z"
   },
   {
    "duration": 26,
    "start_time": "2022-04-18T10:38:27.224Z"
   },
   {
    "duration": 37,
    "start_time": "2022-04-18T10:38:28.413Z"
   },
   {
    "duration": 68,
    "start_time": "2022-04-18T10:38:43.841Z"
   },
   {
    "duration": 68,
    "start_time": "2022-04-18T10:38:51.576Z"
   },
   {
    "duration": 13,
    "start_time": "2022-04-18T10:40:01.980Z"
   },
   {
    "duration": 157,
    "start_time": "2022-04-18T10:40:29.968Z"
   },
   {
    "duration": 69,
    "start_time": "2022-04-18T10:40:37.292Z"
   },
   {
    "duration": 8,
    "start_time": "2022-04-18T10:41:20.596Z"
   },
   {
    "duration": 7,
    "start_time": "2022-04-18T10:45:56.761Z"
   },
   {
    "duration": 6,
    "start_time": "2022-04-18T10:46:01.213Z"
   },
   {
    "duration": 9,
    "start_time": "2022-04-18T10:58:00.420Z"
   },
   {
    "duration": 3,
    "start_time": "2022-04-18T10:58:06.064Z"
   },
   {
    "duration": 16414,
    "start_time": "2022-04-18T10:58:06.725Z"
   },
   {
    "duration": 6,
    "start_time": "2022-04-18T10:58:28.860Z"
   },
   {
    "duration": 60394,
    "start_time": "2022-04-18T10:59:09.195Z"
   },
   {
    "duration": 10,
    "start_time": "2022-04-18T11:00:09.592Z"
   },
   {
    "duration": 4,
    "start_time": "2022-04-18T16:26:28.758Z"
   },
   {
    "duration": 11,
    "start_time": "2022-04-18T16:26:29.782Z"
   },
   {
    "duration": 12,
    "start_time": "2022-04-18T16:26:33.144Z"
   },
   {
    "duration": 7,
    "start_time": "2022-04-18T16:27:52.911Z"
   },
   {
    "duration": 170,
    "start_time": "2022-04-18T16:28:14.296Z"
   },
   {
    "duration": 8,
    "start_time": "2022-04-18T16:28:16.077Z"
   },
   {
    "duration": 29,
    "start_time": "2022-04-18T16:28:19.950Z"
   },
   {
    "duration": 5,
    "start_time": "2022-04-18T16:28:20.934Z"
   },
   {
    "duration": 9,
    "start_time": "2022-04-18T16:28:21.456Z"
   },
   {
    "duration": 4,
    "start_time": "2022-04-18T16:28:21.807Z"
   },
   {
    "duration": 26,
    "start_time": "2022-04-18T16:28:22.160Z"
   },
   {
    "duration": 19,
    "start_time": "2022-04-18T16:28:22.769Z"
   },
   {
    "duration": 29,
    "start_time": "2022-04-18T16:28:23.223Z"
   },
   {
    "duration": 68,
    "start_time": "2022-04-18T16:28:23.886Z"
   },
   {
    "duration": 74,
    "start_time": "2022-04-18T16:28:24.317Z"
   },
   {
    "duration": 63,
    "start_time": "2022-04-18T16:28:24.733Z"
   },
   {
    "duration": 8,
    "start_time": "2022-04-18T16:28:25.319Z"
   },
   {
    "duration": 3,
    "start_time": "2022-04-18T16:28:25.861Z"
   },
   {
    "duration": 11,
    "start_time": "2022-04-18T16:28:30.022Z"
   },
   {
    "duration": 8,
    "start_time": "2022-04-18T16:28:31.334Z"
   },
   {
    "duration": 21,
    "start_time": "2022-04-18T21:13:13.569Z"
   },
   {
    "duration": 23,
    "start_time": "2022-04-18T21:13:33.510Z"
   },
   {
    "duration": 29,
    "start_time": "2022-04-18T21:16:21.218Z"
   },
   {
    "duration": 21,
    "start_time": "2022-04-18T21:17:39.551Z"
   },
   {
    "duration": 29,
    "start_time": "2022-04-18T21:17:41.744Z"
   },
   {
    "duration": 2921,
    "start_time": "2022-04-18T21:20:59.871Z"
   },
   {
    "duration": 2925,
    "start_time": "2022-04-18T21:21:18.705Z"
   },
   {
    "duration": 4692,
    "start_time": "2022-04-18T21:21:31.719Z"
   },
   {
    "duration": 5,
    "start_time": "2022-04-18T21:23:26.642Z"
   },
   {
    "duration": 5,
    "start_time": "2022-04-18T21:23:42.289Z"
   },
   {
    "duration": 5,
    "start_time": "2022-04-18T21:23:53.716Z"
   },
   {
    "duration": 4,
    "start_time": "2022-04-18T21:25:04.748Z"
   },
   {
    "duration": 38,
    "start_time": "2022-04-18T21:26:37.344Z"
   },
   {
    "duration": 34,
    "start_time": "2022-04-18T21:27:03.804Z"
   },
   {
    "duration": 38,
    "start_time": "2022-04-18T21:27:10.779Z"
   },
   {
    "duration": 38,
    "start_time": "2022-04-18T21:27:17.259Z"
   },
   {
    "duration": 42,
    "start_time": "2022-04-18T21:27:37.449Z"
   },
   {
    "duration": 29,
    "start_time": "2022-04-18T21:33:17.572Z"
   },
   {
    "duration": 4,
    "start_time": "2022-04-18T21:33:19.063Z"
   },
   {
    "duration": 22,
    "start_time": "2022-04-18T21:33:21.316Z"
   },
   {
    "duration": 20,
    "start_time": "2022-04-18T21:33:22.055Z"
   },
   {
    "duration": 22,
    "start_time": "2022-04-18T21:33:22.974Z"
   },
   {
    "duration": 19,
    "start_time": "2022-04-18T21:33:23.631Z"
   },
   {
    "duration": 22,
    "start_time": "2022-04-18T21:33:24.141Z"
   },
   {
    "duration": 21,
    "start_time": "2022-04-18T21:33:24.751Z"
   },
   {
    "duration": 4,
    "start_time": "2022-04-18T21:33:53.150Z"
   },
   {
    "duration": 20,
    "start_time": "2022-04-18T21:33:54.246Z"
   },
   {
    "duration": 14,
    "start_time": "2022-04-18T21:33:54.804Z"
   },
   {
    "duration": 18,
    "start_time": "2022-04-18T21:33:55.412Z"
   },
   {
    "duration": 15,
    "start_time": "2022-04-18T21:33:55.926Z"
   },
   {
    "duration": 19,
    "start_time": "2022-04-18T21:33:56.510Z"
   },
   {
    "duration": 14,
    "start_time": "2022-04-18T21:33:57.679Z"
   },
   {
    "duration": 67,
    "start_time": "2022-04-18T21:38:23.460Z"
   },
   {
    "duration": 72,
    "start_time": "2022-04-18T21:38:34.299Z"
   },
   {
    "duration": 51,
    "start_time": "2022-04-19T08:33:28.335Z"
   },
   {
    "duration": 445,
    "start_time": "2022-04-19T08:33:38.432Z"
   },
   {
    "duration": 206,
    "start_time": "2022-04-19T08:33:39.445Z"
   },
   {
    "duration": 11,
    "start_time": "2022-04-19T08:33:39.784Z"
   },
   {
    "duration": 34,
    "start_time": "2022-04-19T08:33:40.136Z"
   },
   {
    "duration": 13,
    "start_time": "2022-04-19T08:33:40.987Z"
   },
   {
    "duration": 13,
    "start_time": "2022-04-19T08:33:41.445Z"
   },
   {
    "duration": 5,
    "start_time": "2022-04-19T08:33:41.718Z"
   },
   {
    "duration": 47,
    "start_time": "2022-04-19T08:33:41.995Z"
   },
   {
    "duration": 20,
    "start_time": "2022-04-19T08:33:42.538Z"
   },
   {
    "duration": 47,
    "start_time": "2022-04-19T08:33:42.785Z"
   },
   {
    "duration": 74,
    "start_time": "2022-04-19T08:33:43.026Z"
   },
   {
    "duration": 93,
    "start_time": "2022-04-19T08:33:43.241Z"
   },
   {
    "duration": 83,
    "start_time": "2022-04-19T08:33:43.585Z"
   },
   {
    "duration": 15,
    "start_time": "2022-04-19T08:33:44.417Z"
   },
   {
    "duration": 4,
    "start_time": "2022-04-19T08:33:44.879Z"
   },
   {
    "duration": 17,
    "start_time": "2022-04-19T08:33:45.401Z"
   },
   {
    "duration": 8,
    "start_time": "2022-04-19T08:33:45.738Z"
   },
   {
    "duration": 35,
    "start_time": "2022-04-19T08:33:47.106Z"
   },
   {
    "duration": 46,
    "start_time": "2022-04-19T08:33:47.377Z"
   },
   {
    "duration": 8,
    "start_time": "2022-04-19T08:33:47.819Z"
   },
   {
    "duration": 25,
    "start_time": "2022-04-19T08:33:48.122Z"
   },
   {
    "duration": 15,
    "start_time": "2022-04-19T08:33:48.265Z"
   },
   {
    "duration": 27,
    "start_time": "2022-04-19T08:33:48.418Z"
   },
   {
    "duration": 22,
    "start_time": "2022-04-19T08:33:48.611Z"
   },
   {
    "duration": 33,
    "start_time": "2022-04-19T08:33:48.777Z"
   },
   {
    "duration": 14,
    "start_time": "2022-04-19T08:33:48.964Z"
   },
   {
    "duration": 99,
    "start_time": "2022-04-19T08:33:49.339Z"
   },
   {
    "duration": 36,
    "start_time": "2022-04-19T08:33:50.598Z"
   },
   {
    "duration": 16,
    "start_time": "2022-04-19T08:33:59.923Z"
   },
   {
    "duration": 10,
    "start_time": "2022-04-19T08:34:02.230Z"
   },
   {
    "duration": 4,
    "start_time": "2022-04-19T08:38:01.951Z"
   },
   {
    "duration": 70,
    "start_time": "2022-04-19T08:38:23.467Z"
   },
   {
    "duration": 3,
    "start_time": "2022-04-19T08:38:31.743Z"
   },
   {
    "duration": 5,
    "start_time": "2022-04-19T08:39:11.286Z"
   },
   {
    "duration": 25,
    "start_time": "2022-04-19T08:39:14.423Z"
   },
   {
    "duration": 4,
    "start_time": "2022-04-19T08:39:31.182Z"
   },
   {
    "duration": 42,
    "start_time": "2022-04-19T08:39:35.485Z"
   },
   {
    "duration": 6,
    "start_time": "2022-04-19T08:39:40.843Z"
   },
   {
    "duration": 25,
    "start_time": "2022-04-19T08:39:41.350Z"
   },
   {
    "duration": 4,
    "start_time": "2022-04-19T08:40:02.757Z"
   },
   {
    "duration": 25,
    "start_time": "2022-04-19T08:40:03.445Z"
   },
   {
    "duration": 4,
    "start_time": "2022-04-19T08:40:09.985Z"
   },
   {
    "duration": 4,
    "start_time": "2022-04-19T08:42:38.371Z"
   },
   {
    "duration": 37,
    "start_time": "2022-04-19T08:42:38.881Z"
   },
   {
    "duration": 4,
    "start_time": "2022-04-19T08:43:10.430Z"
   },
   {
    "duration": 46,
    "start_time": "2022-04-19T08:43:11.090Z"
   },
   {
    "duration": 5,
    "start_time": "2022-04-19T08:43:32.165Z"
   },
   {
    "duration": 23,
    "start_time": "2022-04-19T08:43:33.064Z"
   },
   {
    "duration": 5,
    "start_time": "2022-04-19T08:43:59.630Z"
   },
   {
    "duration": 32,
    "start_time": "2022-04-19T08:44:00.073Z"
   },
   {
    "duration": 5,
    "start_time": "2022-04-19T08:45:08.066Z"
   },
   {
    "duration": 36,
    "start_time": "2022-04-19T08:45:08.814Z"
   },
   {
    "duration": 15,
    "start_time": "2022-04-19T08:47:21.914Z"
   },
   {
    "duration": 14,
    "start_time": "2022-04-19T08:47:33.724Z"
   },
   {
    "duration": 25,
    "start_time": "2022-04-19T08:47:37.632Z"
   },
   {
    "duration": 32,
    "start_time": "2022-04-19T08:47:59.334Z"
   },
   {
    "duration": 38,
    "start_time": "2022-04-19T08:47:59.864Z"
   },
   {
    "duration": 22,
    "start_time": "2022-04-19T08:49:30.569Z"
   },
   {
    "duration": 36,
    "start_time": "2022-04-19T08:49:37.790Z"
   },
   {
    "duration": 47,
    "start_time": "2022-04-19T08:49:46.089Z"
   },
   {
    "duration": 33,
    "start_time": "2022-04-19T08:49:46.910Z"
   },
   {
    "duration": 6,
    "start_time": "2022-04-19T08:50:07.671Z"
   },
   {
    "duration": 34,
    "start_time": "2022-04-19T08:50:08.510Z"
   },
   {
    "duration": 15,
    "start_time": "2022-04-19T08:50:08.936Z"
   },
   {
    "duration": 33,
    "start_time": "2022-04-19T08:51:04.694Z"
   },
   {
    "duration": 16,
    "start_time": "2022-04-19T08:51:05.118Z"
   },
   {
    "duration": 8,
    "start_time": "2022-04-19T08:58:30.870Z"
   },
   {
    "duration": 29,
    "start_time": "2022-04-19T08:58:42.956Z"
   },
   {
    "duration": 16,
    "start_time": "2022-04-19T08:58:44.503Z"
   },
   {
    "duration": 14,
    "start_time": "2022-04-19T08:59:21.422Z"
   },
   {
    "duration": 6,
    "start_time": "2022-04-19T08:59:23.209Z"
   },
   {
    "duration": 16,
    "start_time": "2022-04-19T08:59:58.015Z"
   },
   {
    "duration": 5,
    "start_time": "2022-04-19T08:59:58.838Z"
   },
   {
    "duration": 7,
    "start_time": "2022-04-19T09:00:18.777Z"
   },
   {
    "duration": 6,
    "start_time": "2022-04-19T09:00:19.390Z"
   },
   {
    "duration": 49,
    "start_time": "2022-04-27T11:59:43.425Z"
   },
   {
    "duration": 157,
    "start_time": "2022-04-27T12:00:04.830Z"
   },
   {
    "duration": 6,
    "start_time": "2022-04-27T12:00:46.016Z"
   },
   {
    "duration": 6,
    "start_time": "2022-04-27T12:00:54.824Z"
   },
   {
    "duration": 7,
    "start_time": "2022-04-27T12:01:03.824Z"
   },
   {
    "duration": 7,
    "start_time": "2022-04-27T12:01:18.113Z"
   },
   {
    "duration": 7,
    "start_time": "2022-04-27T12:01:28.807Z"
   },
   {
    "duration": 4,
    "start_time": "2022-04-27T12:01:42.593Z"
   },
   {
    "duration": 6,
    "start_time": "2022-04-27T12:01:57.003Z"
   },
   {
    "duration": 7,
    "start_time": "2022-04-27T12:02:43.396Z"
   },
   {
    "duration": 4,
    "start_time": "2022-04-27T12:03:17.964Z"
   },
   {
    "duration": 12,
    "start_time": "2022-04-27T12:03:28.981Z"
   },
   {
    "duration": 152,
    "start_time": "2022-04-27T12:03:38.555Z"
   },
   {
    "duration": 7,
    "start_time": "2022-04-27T12:03:57.116Z"
   },
   {
    "duration": 156,
    "start_time": "2022-04-27T12:04:06.781Z"
   },
   {
    "duration": 9,
    "start_time": "2022-04-27T12:04:34.837Z"
   },
   {
    "duration": 416,
    "start_time": "2022-04-27T12:05:12.862Z"
   },
   {
    "duration": 166,
    "start_time": "2022-04-27T12:05:13.280Z"
   },
   {
    "duration": 9,
    "start_time": "2022-04-27T12:05:13.448Z"
   },
   {
    "duration": 48,
    "start_time": "2022-04-27T12:05:13.459Z"
   },
   {
    "duration": 13,
    "start_time": "2022-04-27T12:05:13.509Z"
   },
   {
    "duration": 13,
    "start_time": "2022-04-27T12:05:13.524Z"
   },
   {
    "duration": 13,
    "start_time": "2022-04-27T12:05:13.539Z"
   },
   {
    "duration": 46,
    "start_time": "2022-04-27T12:05:13.553Z"
   },
   {
    "duration": 24,
    "start_time": "2022-04-27T12:05:13.602Z"
   },
   {
    "duration": 27,
    "start_time": "2022-04-27T12:05:13.628Z"
   },
   {
    "duration": 102,
    "start_time": "2022-04-27T12:05:13.657Z"
   },
   {
    "duration": 123,
    "start_time": "2022-04-27T12:05:13.761Z"
   },
   {
    "duration": 72,
    "start_time": "2022-04-27T12:05:13.886Z"
   },
   {
    "duration": 8,
    "start_time": "2022-04-27T12:05:13.960Z"
   },
   {
    "duration": 5,
    "start_time": "2022-04-27T12:05:13.970Z"
   },
   {
    "duration": 19,
    "start_time": "2022-04-27T12:05:13.993Z"
   },
   {
    "duration": 11,
    "start_time": "2022-04-27T12:05:14.014Z"
   },
   {
    "duration": 24,
    "start_time": "2022-04-27T12:05:14.027Z"
   },
   {
    "duration": 68,
    "start_time": "2022-04-27T12:05:14.052Z"
   },
   {
    "duration": 4,
    "start_time": "2022-04-27T12:05:14.122Z"
   },
   {
    "duration": 25,
    "start_time": "2022-04-27T12:05:14.128Z"
   },
   {
    "duration": 38,
    "start_time": "2022-04-27T12:05:14.155Z"
   },
   {
    "duration": 28,
    "start_time": "2022-04-27T12:05:14.195Z"
   },
   {
    "duration": 16,
    "start_time": "2022-04-27T12:05:14.226Z"
   },
   {
    "duration": 21,
    "start_time": "2022-04-27T12:05:14.244Z"
   },
   {
    "duration": 39,
    "start_time": "2022-04-27T12:05:14.267Z"
   },
   {
    "duration": 110,
    "start_time": "2022-04-27T12:05:14.309Z"
   },
   {
    "duration": 23,
    "start_time": "2022-04-27T12:05:14.423Z"
   },
   {
    "duration": 19,
    "start_time": "2022-04-27T12:05:14.449Z"
   },
   {
    "duration": 8,
    "start_time": "2022-04-27T12:05:14.497Z"
   },
   {
    "duration": 40,
    "start_time": "2022-04-27T12:05:14.506Z"
   },
   {
    "duration": 13,
    "start_time": "2022-04-27T12:05:14.548Z"
   },
   {
    "duration": 17,
    "start_time": "2022-04-27T12:05:14.562Z"
   },
   {
    "duration": 25,
    "start_time": "2022-04-27T12:05:14.581Z"
   },
   {
    "duration": 16,
    "start_time": "2022-04-27T12:05:14.609Z"
   },
   {
    "duration": 6,
    "start_time": "2022-04-27T12:05:14.627Z"
   },
   {
    "duration": 10,
    "start_time": "2022-04-27T12:05:14.635Z"
   },
   {
    "duration": 9,
    "start_time": "2022-04-27T12:05:14.647Z"
   },
   {
    "duration": 59,
    "start_time": "2022-04-27T12:05:14.658Z"
   },
   {
    "duration": 104,
    "start_time": "2022-04-27T18:41:44.785Z"
   },
   {
    "duration": 564,
    "start_time": "2022-04-27T18:42:16.905Z"
   },
   {
    "duration": 279,
    "start_time": "2022-04-27T18:42:17.721Z"
   },
   {
    "duration": 41,
    "start_time": "2022-04-27T18:42:18.615Z"
   },
   {
    "duration": 17,
    "start_time": "2022-04-27T18:42:25.726Z"
   },
   {
    "duration": 17,
    "start_time": "2022-04-27T18:42:31.262Z"
   },
   {
    "duration": 4,
    "start_time": "2022-04-27T18:46:55.052Z"
   },
   {
    "duration": 239,
    "start_time": "2022-04-27T18:46:55.979Z"
   },
   {
    "duration": 24,
    "start_time": "2022-04-27T18:46:56.882Z"
   },
   {
    "duration": 54,
    "start_time": "2022-04-27T18:46:58.914Z"
   },
   {
    "duration": 6,
    "start_time": "2022-04-27T18:47:00.748Z"
   },
   {
    "duration": 14,
    "start_time": "2022-04-27T18:47:01.264Z"
   },
   {
    "duration": 7,
    "start_time": "2022-04-27T18:47:01.848Z"
   },
   {
    "duration": 34,
    "start_time": "2022-04-27T18:47:02.250Z"
   },
   {
    "duration": 32,
    "start_time": "2022-04-27T18:47:02.963Z"
   },
   {
    "duration": 35,
    "start_time": "2022-04-27T18:47:03.545Z"
   },
   {
    "duration": 117,
    "start_time": "2022-04-27T18:47:03.966Z"
   },
   {
    "duration": 141,
    "start_time": "2022-04-27T18:47:04.889Z"
   },
   {
    "duration": 120,
    "start_time": "2022-04-27T18:47:05.915Z"
   },
   {
    "duration": 69,
    "start_time": "2022-04-27T18:47:09.817Z"
   },
   {
    "duration": 5,
    "start_time": "2022-04-27T18:48:29.112Z"
   },
   {
    "duration": 13,
    "start_time": "2022-04-27T18:48:30.451Z"
   },
   {
    "duration": 65,
    "start_time": "2022-04-27T18:48:31.390Z"
   },
   {
    "duration": 63,
    "start_time": "2022-04-27T18:50:12.618Z"
   },
   {
    "duration": 53,
    "start_time": "2022-04-27T18:51:21.212Z"
   },
   {
    "duration": 386,
    "start_time": "2022-04-27T23:25:37.038Z"
   },
   {
    "duration": 139,
    "start_time": "2022-04-27T23:25:37.426Z"
   },
   {
    "duration": 16,
    "start_time": "2022-04-27T23:25:37.567Z"
   },
   {
    "duration": 29,
    "start_time": "2022-04-27T23:25:37.585Z"
   },
   {
    "duration": 4,
    "start_time": "2022-04-27T23:25:37.622Z"
   },
   {
    "duration": 13,
    "start_time": "2022-04-27T23:25:37.627Z"
   },
   {
    "duration": 9,
    "start_time": "2022-04-27T23:25:37.642Z"
   },
   {
    "duration": 27,
    "start_time": "2022-04-27T23:25:37.652Z"
   },
   {
    "duration": 19,
    "start_time": "2022-04-27T23:25:37.680Z"
   },
   {
    "duration": 44,
    "start_time": "2022-04-27T23:25:37.701Z"
   },
   {
    "duration": 59,
    "start_time": "2022-04-27T23:25:37.746Z"
   },
   {
    "duration": 85,
    "start_time": "2022-04-27T23:25:37.807Z"
   },
   {
    "duration": 67,
    "start_time": "2022-04-27T23:25:37.894Z"
   },
   {
    "duration": 37,
    "start_time": "2022-04-27T23:25:37.965Z"
   },
   {
    "duration": 2,
    "start_time": "2022-04-27T23:25:38.004Z"
   },
   {
    "duration": 23,
    "start_time": "2022-04-27T23:25:38.008Z"
   },
   {
    "duration": 38,
    "start_time": "2022-04-27T23:25:38.032Z"
   },
   {
    "duration": 51,
    "start_time": "2022-04-27T23:25:38.072Z"
   },
   {
    "duration": 34,
    "start_time": "2022-04-27T23:25:38.125Z"
   },
   {
    "duration": 3,
    "start_time": "2022-04-27T23:25:38.161Z"
   },
   {
    "duration": 24,
    "start_time": "2022-04-27T23:25:38.166Z"
   },
   {
    "duration": 39,
    "start_time": "2022-04-27T23:25:38.191Z"
   },
   {
    "duration": 17,
    "start_time": "2022-04-27T23:25:38.232Z"
   },
   {
    "duration": 13,
    "start_time": "2022-04-27T23:25:38.250Z"
   },
   {
    "duration": 19,
    "start_time": "2022-04-27T23:25:38.265Z"
   },
   {
    "duration": 37,
    "start_time": "2022-04-27T23:25:38.286Z"
   },
   {
    "duration": 70,
    "start_time": "2022-04-27T23:25:38.325Z"
   },
   {
    "duration": 30,
    "start_time": "2022-04-27T23:25:38.397Z"
   },
   {
    "duration": 17,
    "start_time": "2022-04-27T23:25:38.428Z"
   },
   {
    "duration": 4,
    "start_time": "2022-04-27T23:25:38.446Z"
   },
   {
    "duration": 21,
    "start_time": "2022-04-27T23:25:38.451Z"
   },
   {
    "duration": 11,
    "start_time": "2022-04-27T23:25:38.473Z"
   },
   {
    "duration": 44,
    "start_time": "2022-04-27T23:25:38.485Z"
   },
   {
    "duration": 10,
    "start_time": "2022-04-27T23:25:38.530Z"
   },
   {
    "duration": 8,
    "start_time": "2022-04-27T23:25:38.542Z"
   },
   {
    "duration": 4,
    "start_time": "2022-04-27T23:25:38.551Z"
   },
   {
    "duration": 10,
    "start_time": "2022-04-27T23:25:38.556Z"
   },
   {
    "duration": 8,
    "start_time": "2022-04-27T23:25:38.567Z"
   },
   {
    "duration": 47,
    "start_time": "2022-04-27T23:25:38.576Z"
   },
   {
    "duration": 183,
    "start_time": "2022-04-27T23:28:11.293Z"
   },
   {
    "duration": 399,
    "start_time": "2022-04-27T23:28:54.983Z"
   },
   {
    "duration": 146,
    "start_time": "2022-04-27T23:28:55.384Z"
   },
   {
    "duration": 16,
    "start_time": "2022-04-27T23:28:55.532Z"
   },
   {
    "duration": 28,
    "start_time": "2022-04-27T23:28:55.550Z"
   },
   {
    "duration": 5,
    "start_time": "2022-04-27T23:28:55.580Z"
   },
   {
    "duration": 42,
    "start_time": "2022-04-27T23:28:55.586Z"
   },
   {
    "duration": 6,
    "start_time": "2022-04-27T23:28:55.630Z"
   },
   {
    "duration": 25,
    "start_time": "2022-04-27T23:28:55.638Z"
   },
   {
    "duration": 18,
    "start_time": "2022-04-27T23:28:55.665Z"
   },
   {
    "duration": 48,
    "start_time": "2022-04-27T23:28:55.686Z"
   },
   {
    "duration": 59,
    "start_time": "2022-04-27T23:28:55.736Z"
   },
   {
    "duration": 85,
    "start_time": "2022-04-27T23:28:55.797Z"
   },
   {
    "duration": 72,
    "start_time": "2022-04-27T23:28:55.884Z"
   },
   {
    "duration": 39,
    "start_time": "2022-04-27T23:28:55.958Z"
   },
   {
    "duration": 3,
    "start_time": "2022-04-27T23:28:55.999Z"
   },
   {
    "duration": 9,
    "start_time": "2022-04-27T23:28:56.022Z"
   },
   {
    "duration": 40,
    "start_time": "2022-04-27T23:28:56.033Z"
   },
   {
    "duration": 59,
    "start_time": "2022-04-27T23:28:56.075Z"
   },
   {
    "duration": 35,
    "start_time": "2022-04-27T23:28:56.135Z"
   },
   {
    "duration": 4,
    "start_time": "2022-04-27T23:28:56.171Z"
   },
   {
    "duration": 25,
    "start_time": "2022-04-27T23:28:56.176Z"
   },
   {
    "duration": 30,
    "start_time": "2022-04-27T23:28:56.203Z"
   },
   {
    "duration": 16,
    "start_time": "2022-04-27T23:28:56.235Z"
   },
   {
    "duration": 16,
    "start_time": "2022-04-27T23:28:56.252Z"
   },
   {
    "duration": 27,
    "start_time": "2022-04-27T23:28:56.270Z"
   },
   {
    "duration": 33,
    "start_time": "2022-04-27T23:28:56.299Z"
   },
   {
    "duration": 69,
    "start_time": "2022-04-27T23:28:56.333Z"
   },
   {
    "duration": 18,
    "start_time": "2022-04-27T23:28:56.422Z"
   },
   {
    "duration": 16,
    "start_time": "2022-04-27T23:28:56.442Z"
   },
   {
    "duration": 4,
    "start_time": "2022-04-27T23:28:56.459Z"
   },
   {
    "duration": 20,
    "start_time": "2022-04-27T23:28:56.464Z"
   },
   {
    "duration": 36,
    "start_time": "2022-04-27T23:28:56.486Z"
   },
   {
    "duration": 22,
    "start_time": "2022-04-27T23:28:56.524Z"
   },
   {
    "duration": 15,
    "start_time": "2022-04-27T23:28:56.548Z"
   },
   {
    "duration": 12,
    "start_time": "2022-04-27T23:28:56.564Z"
   },
   {
    "duration": 5,
    "start_time": "2022-04-27T23:28:56.577Z"
   },
   {
    "duration": 38,
    "start_time": "2022-04-27T23:28:56.584Z"
   },
   {
    "duration": 6,
    "start_time": "2022-04-27T23:28:56.624Z"
   },
   {
    "duration": 47,
    "start_time": "2022-04-27T23:28:56.632Z"
   },
   {
    "duration": 414,
    "start_time": "2022-04-28T05:50:33.019Z"
   },
   {
    "duration": 154,
    "start_time": "2022-04-28T05:50:33.475Z"
   },
   {
    "duration": 17,
    "start_time": "2022-04-28T05:50:33.818Z"
   },
   {
    "duration": 28,
    "start_time": "2022-04-28T05:50:34.367Z"
   },
   {
    "duration": 4,
    "start_time": "2022-04-28T05:50:35.630Z"
   },
   {
    "duration": 13,
    "start_time": "2022-04-28T05:50:36.114Z"
   },
   {
    "duration": 4,
    "start_time": "2022-04-28T05:50:36.620Z"
   },
   {
    "duration": 26,
    "start_time": "2022-04-28T05:50:36.970Z"
   },
   {
    "duration": 19,
    "start_time": "2022-04-28T05:50:37.749Z"
   },
   {
    "duration": 25,
    "start_time": "2022-04-28T05:50:38.338Z"
   },
   {
    "duration": 69,
    "start_time": "2022-04-28T05:50:38.763Z"
   },
   {
    "duration": 78,
    "start_time": "2022-04-28T05:50:39.211Z"
   },
   {
    "duration": 60,
    "start_time": "2022-04-28T05:50:40.099Z"
   },
   {
    "duration": 41,
    "start_time": "2022-04-28T05:50:47.874Z"
   },
   {
    "duration": 3,
    "start_time": "2022-04-28T05:50:51.081Z"
   },
   {
    "duration": 10,
    "start_time": "2022-04-28T05:50:52.490Z"
   },
   {
    "duration": 40,
    "start_time": "2022-04-28T05:50:53.561Z"
   },
   {
    "duration": 14,
    "start_time": "2022-04-28T05:50:56.101Z"
   },
   {
    "duration": 14,
    "start_time": "2022-04-28T05:51:16.408Z"
   },
   {
    "duration": 375,
    "start_time": "2022-05-16T18:40:41.682Z"
   },
   {
    "duration": 154,
    "start_time": "2022-05-16T18:40:42.058Z"
   },
   {
    "duration": 18,
    "start_time": "2022-05-16T18:40:42.337Z"
   },
   {
    "duration": 31,
    "start_time": "2022-05-16T18:40:42.824Z"
   },
   {
    "duration": 4,
    "start_time": "2022-05-16T18:40:43.938Z"
   },
   {
    "duration": 17,
    "start_time": "2022-05-16T18:40:44.425Z"
   },
   {
    "duration": 5,
    "start_time": "2022-05-16T18:40:44.953Z"
   },
   {
    "duration": 44,
    "start_time": "2022-05-16T18:40:45.297Z"
   },
   {
    "duration": 31,
    "start_time": "2022-05-16T18:40:46.033Z"
   },
   {
    "duration": 42,
    "start_time": "2022-05-16T18:40:46.552Z"
   },
   {
    "duration": 64,
    "start_time": "2022-05-16T18:40:46.921Z"
   },
   {
    "duration": 82,
    "start_time": "2022-05-16T18:40:47.304Z"
   },
   {
    "duration": 63,
    "start_time": "2022-05-16T18:40:47.952Z"
   },
   {
    "duration": 40,
    "start_time": "2022-05-16T18:40:48.584Z"
   },
   {
    "duration": 3,
    "start_time": "2022-05-16T18:40:49.559Z"
   },
   {
    "duration": 10,
    "start_time": "2022-05-16T18:40:51.080Z"
   },
   {
    "duration": 40,
    "start_time": "2022-05-16T18:40:52.504Z"
   },
   {
    "duration": 5,
    "start_time": "2022-05-16T18:41:06.944Z"
   },
   {
    "duration": 12,
    "start_time": "2022-05-16T18:41:39.651Z"
   },
   {
    "duration": 65,
    "start_time": "2022-05-16T18:43:58.256Z"
   },
   {
    "duration": 11,
    "start_time": "2022-05-16T18:44:54.968Z"
   },
   {
    "duration": 59,
    "start_time": "2022-05-16T18:45:01.428Z"
   },
   {
    "duration": 15,
    "start_time": "2022-05-16T18:45:17.676Z"
   }
  ],
  "colab": {
   "collapsed_sections": [
    "E0vqbgi9ay0H",
    "VUC88oWjTJw2"
   ],
   "name": "yandex_music_project.ipynb",
   "provenance": []
  },
  "kernelspec": {
   "display_name": "Python 3 (ipykernel)",
   "language": "python",
   "name": "python3"
  },
  "language_info": {
   "codemirror_mode": {
    "name": "ipython",
    "version": 3
   },
   "file_extension": ".py",
   "mimetype": "text/x-python",
   "name": "python",
   "nbconvert_exporter": "python",
   "pygments_lexer": "ipython3",
   "version": "3.8.8"
  },
  "toc": {
   "base_numbering": 1,
   "nav_menu": {},
   "number_sections": true,
   "sideBar": true,
   "skip_h1_title": true,
   "title_cell": "Table of Contents",
   "title_sidebar": "Contents",
   "toc_cell": false,
   "toc_position": {
    "height": "476px",
    "left": "62px",
    "top": "223.125px",
    "width": "289.6px"
   },
   "toc_section_display": true,
   "toc_window_display": true
  }
 },
 "nbformat": 4,
 "nbformat_minor": 1
}
