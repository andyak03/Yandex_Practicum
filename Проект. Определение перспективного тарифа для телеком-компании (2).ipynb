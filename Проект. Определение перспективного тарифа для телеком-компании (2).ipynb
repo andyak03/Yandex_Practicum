{
 "cells": [
  {
   "cell_type": "markdown",
   "id": "4c591c9d",
   "metadata": {},
   "source": [
    "<div class=\"alert alert-info\">\n",
    "\n",
    "<b>Привет!</b>\n",
    "\n",
    "Меня зовут Антон Оленев, я буду проверять твою работу :)\n",
    "\n",
    "Ты можешь обращаться ко мне на \"ты\"😏 Надеюсь, тебя также не смутит, если я буду обращаться к тебе на \"ты\", но если это неудобно, обязательно скажи об этом!\n",
    "\n",
    "Пожалуйста, не удаляй мои комментарии, они будут особенно полезны для нашей работы в случае повторной проверки проекта. \n",
    "\n",
    "Ты также можешь реагировать на мои комментарии своими, выделяя их цветами и наиболее понравившимся тебе способом оформления, но явно  отличающимся от моих комментариев. Это нужно, чтобы не создавалась путаница😉\n",
    "\n",
    "Ты можешь найти мои комментарии, обозначенные <font color='green'>зеленым</font>, <font color='gold'>желтым</font> и <font color='red'>красным</font> цветами, например:\n",
    "\n",
    "<br/>\n",
    "\n",
    "<div class=\"alert alert-success\">\n",
    "<h2> Комментарий ревьюера <a class=\"tocSkip\"> </h2>\n",
    "\n",
    "<b>Все отлично!✅:</b> В случае, если решение на отдельном шаге является полностью правильным.\n",
    "</div>\n",
    "\n",
    "<br/>\n",
    "\n",
    "<div class=\"alert alert-warning\">\n",
    "    <h2> Комментарий ревьюера <a class=\"tocSkip\"> </h2>\n",
    "    \n",
    "<b>Некоторые замечания и рекомендации💡:</b> В случае, когда решение на отдельном шаге станет еще лучше, если внести небольшие коррективы.\n",
    "</div>\n",
    "\n",
    "\n",
    "<br/>\n",
    "<div class=\"alert alert-block alert-danger\">\n",
    "<h2> Комментарий ревьюера <a class=\"tocSkip\"></h2>\n",
    "\n",
    "    \n",
    "<b>На доработку🤔:</b>\n",
    " В случае, когда решение на отдельном шаге требует существенной переработки и внесения правок. Напоминаю, что проект не может быть принят с первого раза, если ревью содержит комментарии, рекомендующие доработать шаги.\n",
    "</div>\n",
    "    \n",
    "Увидев у тебя неточность, в первый раз я лишь укажу на ее наличие и дам тебе возможность самому найти и исправить ее. На реальной работе твой руководитель будет поступать также, и я пытаюсь подготовить тебя именно к работе аналитиком. Но если ты пока не справишься с такой задачей - при следующей проверке я дам более точную подсказку!🤓\n",
    "</div>"
   ]
  },
  {
   "cell_type": "markdown",
   "id": "dbd2a4e4",
   "metadata": {},
   "source": [
    "# Определение перспективного тарифа для телеком-компании"
   ]
  },
  {
   "cell_type": "markdown",
   "id": "e5defe30",
   "metadata": {},
   "source": [
    "## Описание проекта\n",
    "Вы аналитик компании «Мегалайн» — федерального оператора сотовой связи. Клиентам предлагают два тарифных плана: «Смарт» и «Ультра». Чтобы скорректировать рекламный бюджет, коммерческий департамент хочет понять, какой тариф приносит больше денег.\n",
    "Вам предстоит сделать предварительный анализ тарифов на небольшой выборке клиентов. В вашем распоряжении данные 500 пользователей «Мегалайна»: кто они, откуда, каким тарифом пользуются, сколько звонков и сообщений каждый отправил за 2018 год. Нужно проанализировать поведение клиентов и сделать вывод — какой тариф лучше."
   ]
  },
  {
   "cell_type": "markdown",
   "id": "351f6142",
   "metadata": {},
   "source": [
    "## Файл с данными и изучение общей информации"
   ]
  },
  {
   "cell_type": "markdown",
   "id": "7aa50929",
   "metadata": {},
   "source": [
    "<div class=\"alert alert-warning\">\n",
    "<h3> Комментарий ревьюера: Антон Оленев <a class=\"tocSkip\"> </h3>\n",
    "        \n",
    "<b>💡 Некоторые замечания и рекомендации:</b> если используются знаки # в заголовке, то можно самому не писать номер раздела, он проставится автоматически. Сейчас у все заголовково получается двойная нумерация- твоя и проставленая jupyter-ом\n",
    "    \n",
    "    2  1.Файл с данными и изучение общей информации\n",
    "        \n",
    "</div>"
   ]
  },
  {
   "cell_type": "code",
   "execution_count": 1,
   "id": "38c88000",
   "metadata": {},
   "outputs": [],
   "source": [
    "import pandas as pd\n",
    "from scipy import stats as st\n",
    "import datetime as dt\n",
    "import numpy as np"
   ]
  },
  {
   "cell_type": "markdown",
   "id": "2202ccc1",
   "metadata": {},
   "source": [
    "Сохраним таблицы-csv в переменные и узнаем о ней информацию"
   ]
  },
  {
   "cell_type": "code",
   "execution_count": 10,
   "id": "7c547114",
   "metadata": {
    "scrolled": true
   },
   "outputs": [
    {
     "data": {
      "text/html": [
       "<div>\n",
       "<style scoped>\n",
       "    .dataframe tbody tr th:only-of-type {\n",
       "        vertical-align: middle;\n",
       "    }\n",
       "\n",
       "    .dataframe tbody tr th {\n",
       "        vertical-align: top;\n",
       "    }\n",
       "\n",
       "    .dataframe thead th {\n",
       "        text-align: right;\n",
       "    }\n",
       "</style>\n",
       "<table border=\"1\" class=\"dataframe\">\n",
       "  <thead>\n",
       "    <tr style=\"text-align: right;\">\n",
       "      <th></th>\n",
       "      <th>id</th>\n",
       "      <th>call_date</th>\n",
       "      <th>duration</th>\n",
       "      <th>user_id</th>\n",
       "    </tr>\n",
       "  </thead>\n",
       "  <tbody>\n",
       "    <tr>\n",
       "      <th>0</th>\n",
       "      <td>1000_0</td>\n",
       "      <td>2018-07-25</td>\n",
       "      <td>0.00</td>\n",
       "      <td>1000</td>\n",
       "    </tr>\n",
       "    <tr>\n",
       "      <th>1</th>\n",
       "      <td>1000_1</td>\n",
       "      <td>2018-08-17</td>\n",
       "      <td>0.00</td>\n",
       "      <td>1000</td>\n",
       "    </tr>\n",
       "    <tr>\n",
       "      <th>2</th>\n",
       "      <td>1000_2</td>\n",
       "      <td>2018-06-11</td>\n",
       "      <td>2.85</td>\n",
       "      <td>1000</td>\n",
       "    </tr>\n",
       "    <tr>\n",
       "      <th>3</th>\n",
       "      <td>1000_3</td>\n",
       "      <td>2018-09-21</td>\n",
       "      <td>13.80</td>\n",
       "      <td>1000</td>\n",
       "    </tr>\n",
       "    <tr>\n",
       "      <th>4</th>\n",
       "      <td>1000_4</td>\n",
       "      <td>2018-12-15</td>\n",
       "      <td>5.18</td>\n",
       "      <td>1000</td>\n",
       "    </tr>\n",
       "  </tbody>\n",
       "</table>\n",
       "</div>"
      ],
      "text/plain": [
       "       id   call_date  duration  user_id\n",
       "0  1000_0  2018-07-25      0.00     1000\n",
       "1  1000_1  2018-08-17      0.00     1000\n",
       "2  1000_2  2018-06-11      2.85     1000\n",
       "3  1000_3  2018-09-21     13.80     1000\n",
       "4  1000_4  2018-12-15      5.18     1000"
      ]
     },
     "execution_count": 10,
     "metadata": {},
     "output_type": "execute_result"
    }
   ],
   "source": [
    "try:\n",
    "    data_calls = pd.read_csv('C:\\\\Users\\\\ASUS\\\\Downloads\\\\/calls.csv.')\n",
    "except FileNotFoundError:\n",
    "    data_calls = pd.read_csv('/datasets/calls.csv')\n",
    "data_calls.head()"
   ]
  },
  {
   "cell_type": "code",
   "execution_count": 11,
   "id": "e203a8b1",
   "metadata": {},
   "outputs": [
    {
     "name": "stdout",
     "output_type": "stream",
     "text": [
      "<class 'pandas.core.frame.DataFrame'>\n",
      "RangeIndex: 202607 entries, 0 to 202606\n",
      "Data columns (total 4 columns):\n",
      " #   Column     Non-Null Count   Dtype  \n",
      "---  ------     --------------   -----  \n",
      " 0   id         202607 non-null  object \n",
      " 1   call_date  202607 non-null  object \n",
      " 2   duration   202607 non-null  float64\n",
      " 3   user_id    202607 non-null  int64  \n",
      "dtypes: float64(1), int64(1), object(2)\n",
      "memory usage: 6.2+ MB\n"
     ]
    }
   ],
   "source": [
    "data_calls.info()"
   ]
  },
  {
   "cell_type": "code",
   "execution_count": 12,
   "id": "75f64da1",
   "metadata": {},
   "outputs": [
    {
     "data": {
      "text/html": [
       "<div>\n",
       "<style scoped>\n",
       "    .dataframe tbody tr th:only-of-type {\n",
       "        vertical-align: middle;\n",
       "    }\n",
       "\n",
       "    .dataframe tbody tr th {\n",
       "        vertical-align: top;\n",
       "    }\n",
       "\n",
       "    .dataframe thead th {\n",
       "        text-align: right;\n",
       "    }\n",
       "</style>\n",
       "<table border=\"1\" class=\"dataframe\">\n",
       "  <thead>\n",
       "    <tr style=\"text-align: right;\">\n",
       "      <th></th>\n",
       "      <th>Unnamed: 0</th>\n",
       "      <th>id</th>\n",
       "      <th>mb_used</th>\n",
       "      <th>session_date</th>\n",
       "      <th>user_id</th>\n",
       "    </tr>\n",
       "  </thead>\n",
       "  <tbody>\n",
       "    <tr>\n",
       "      <th>0</th>\n",
       "      <td>0</td>\n",
       "      <td>1000_0</td>\n",
       "      <td>112.95</td>\n",
       "      <td>2018-11-25</td>\n",
       "      <td>1000</td>\n",
       "    </tr>\n",
       "    <tr>\n",
       "      <th>1</th>\n",
       "      <td>1</td>\n",
       "      <td>1000_1</td>\n",
       "      <td>1052.81</td>\n",
       "      <td>2018-09-07</td>\n",
       "      <td>1000</td>\n",
       "    </tr>\n",
       "    <tr>\n",
       "      <th>2</th>\n",
       "      <td>2</td>\n",
       "      <td>1000_2</td>\n",
       "      <td>1197.26</td>\n",
       "      <td>2018-06-25</td>\n",
       "      <td>1000</td>\n",
       "    </tr>\n",
       "    <tr>\n",
       "      <th>3</th>\n",
       "      <td>3</td>\n",
       "      <td>1000_3</td>\n",
       "      <td>550.27</td>\n",
       "      <td>2018-08-22</td>\n",
       "      <td>1000</td>\n",
       "    </tr>\n",
       "    <tr>\n",
       "      <th>4</th>\n",
       "      <td>4</td>\n",
       "      <td>1000_4</td>\n",
       "      <td>302.56</td>\n",
       "      <td>2018-09-24</td>\n",
       "      <td>1000</td>\n",
       "    </tr>\n",
       "  </tbody>\n",
       "</table>\n",
       "</div>"
      ],
      "text/plain": [
       "   Unnamed: 0      id  mb_used session_date  user_id\n",
       "0           0  1000_0   112.95   2018-11-25     1000\n",
       "1           1  1000_1  1052.81   2018-09-07     1000\n",
       "2           2  1000_2  1197.26   2018-06-25     1000\n",
       "3           3  1000_3   550.27   2018-08-22     1000\n",
       "4           4  1000_4   302.56   2018-09-24     1000"
      ]
     },
     "execution_count": 12,
     "metadata": {},
     "output_type": "execute_result"
    }
   ],
   "source": [
    "try:\n",
    "    data_internet = pd.read_csv('C:\\\\Users\\\\ASUS\\\\Downloads\\\\/internet.csv.')\n",
    "except FileNotFoundError:\n",
    "    data_internet = pd.read_csv('/datasets/internet.csv')\n",
    "data_internet.head()"
   ]
  },
  {
   "cell_type": "code",
   "execution_count": 13,
   "id": "28c7b670",
   "metadata": {},
   "outputs": [
    {
     "name": "stdout",
     "output_type": "stream",
     "text": [
      "<class 'pandas.core.frame.DataFrame'>\n",
      "RangeIndex: 149396 entries, 0 to 149395\n",
      "Data columns (total 5 columns):\n",
      " #   Column        Non-Null Count   Dtype  \n",
      "---  ------        --------------   -----  \n",
      " 0   Unnamed: 0    149396 non-null  int64  \n",
      " 1   id            149396 non-null  object \n",
      " 2   mb_used       149396 non-null  float64\n",
      " 3   session_date  149396 non-null  object \n",
      " 4   user_id       149396 non-null  int64  \n",
      "dtypes: float64(1), int64(2), object(2)\n",
      "memory usage: 5.7+ MB\n"
     ]
    }
   ],
   "source": [
    "data_internet.info()"
   ]
  },
  {
   "cell_type": "code",
   "execution_count": 14,
   "id": "33aa417a",
   "metadata": {},
   "outputs": [
    {
     "data": {
      "text/html": [
       "<div>\n",
       "<style scoped>\n",
       "    .dataframe tbody tr th:only-of-type {\n",
       "        vertical-align: middle;\n",
       "    }\n",
       "\n",
       "    .dataframe tbody tr th {\n",
       "        vertical-align: top;\n",
       "    }\n",
       "\n",
       "    .dataframe thead th {\n",
       "        text-align: right;\n",
       "    }\n",
       "</style>\n",
       "<table border=\"1\" class=\"dataframe\">\n",
       "  <thead>\n",
       "    <tr style=\"text-align: right;\">\n",
       "      <th></th>\n",
       "      <th>id</th>\n",
       "      <th>message_date</th>\n",
       "      <th>user_id</th>\n",
       "    </tr>\n",
       "  </thead>\n",
       "  <tbody>\n",
       "    <tr>\n",
       "      <th>0</th>\n",
       "      <td>1000_0</td>\n",
       "      <td>2018-06-27</td>\n",
       "      <td>1000</td>\n",
       "    </tr>\n",
       "    <tr>\n",
       "      <th>1</th>\n",
       "      <td>1000_1</td>\n",
       "      <td>2018-10-08</td>\n",
       "      <td>1000</td>\n",
       "    </tr>\n",
       "    <tr>\n",
       "      <th>2</th>\n",
       "      <td>1000_2</td>\n",
       "      <td>2018-08-04</td>\n",
       "      <td>1000</td>\n",
       "    </tr>\n",
       "    <tr>\n",
       "      <th>3</th>\n",
       "      <td>1000_3</td>\n",
       "      <td>2018-06-16</td>\n",
       "      <td>1000</td>\n",
       "    </tr>\n",
       "    <tr>\n",
       "      <th>4</th>\n",
       "      <td>1000_4</td>\n",
       "      <td>2018-12-05</td>\n",
       "      <td>1000</td>\n",
       "    </tr>\n",
       "  </tbody>\n",
       "</table>\n",
       "</div>"
      ],
      "text/plain": [
       "       id message_date  user_id\n",
       "0  1000_0   2018-06-27     1000\n",
       "1  1000_1   2018-10-08     1000\n",
       "2  1000_2   2018-08-04     1000\n",
       "3  1000_3   2018-06-16     1000\n",
       "4  1000_4   2018-12-05     1000"
      ]
     },
     "execution_count": 14,
     "metadata": {},
     "output_type": "execute_result"
    }
   ],
   "source": [
    "try:\n",
    "    data_messages = pd.read_csv('C:\\\\Users\\\\ASUS\\\\Downloads\\\\/messages.csv.')\n",
    "except FileNotFoundError:\n",
    "    data_messages = pd.read_csv('/datasets/messages.csv')\n",
    "data_messages.head()"
   ]
  },
  {
   "cell_type": "code",
   "execution_count": 15,
   "id": "70d2f296",
   "metadata": {},
   "outputs": [
    {
     "name": "stdout",
     "output_type": "stream",
     "text": [
      "<class 'pandas.core.frame.DataFrame'>\n",
      "RangeIndex: 123036 entries, 0 to 123035\n",
      "Data columns (total 3 columns):\n",
      " #   Column        Non-Null Count   Dtype \n",
      "---  ------        --------------   ----- \n",
      " 0   id            123036 non-null  object\n",
      " 1   message_date  123036 non-null  object\n",
      " 2   user_id       123036 non-null  int64 \n",
      "dtypes: int64(1), object(2)\n",
      "memory usage: 2.8+ MB\n"
     ]
    }
   ],
   "source": [
    "data_messages.info()"
   ]
  },
  {
   "cell_type": "code",
   "execution_count": 16,
   "id": "3de1bf66",
   "metadata": {},
   "outputs": [
    {
     "data": {
      "text/html": [
       "<div>\n",
       "<style scoped>\n",
       "    .dataframe tbody tr th:only-of-type {\n",
       "        vertical-align: middle;\n",
       "    }\n",
       "\n",
       "    .dataframe tbody tr th {\n",
       "        vertical-align: top;\n",
       "    }\n",
       "\n",
       "    .dataframe thead th {\n",
       "        text-align: right;\n",
       "    }\n",
       "</style>\n",
       "<table border=\"1\" class=\"dataframe\">\n",
       "  <thead>\n",
       "    <tr style=\"text-align: right;\">\n",
       "      <th></th>\n",
       "      <th>messages_included</th>\n",
       "      <th>mb_per_month_included</th>\n",
       "      <th>minutes_included</th>\n",
       "      <th>rub_monthly_fee</th>\n",
       "      <th>rub_per_gb</th>\n",
       "      <th>rub_per_message</th>\n",
       "      <th>rub_per_minute</th>\n",
       "      <th>tariff_name</th>\n",
       "    </tr>\n",
       "  </thead>\n",
       "  <tbody>\n",
       "    <tr>\n",
       "      <th>0</th>\n",
       "      <td>50</td>\n",
       "      <td>15360</td>\n",
       "      <td>500</td>\n",
       "      <td>550</td>\n",
       "      <td>200</td>\n",
       "      <td>3</td>\n",
       "      <td>3</td>\n",
       "      <td>smart</td>\n",
       "    </tr>\n",
       "    <tr>\n",
       "      <th>1</th>\n",
       "      <td>1000</td>\n",
       "      <td>30720</td>\n",
       "      <td>3000</td>\n",
       "      <td>1950</td>\n",
       "      <td>150</td>\n",
       "      <td>1</td>\n",
       "      <td>1</td>\n",
       "      <td>ultra</td>\n",
       "    </tr>\n",
       "  </tbody>\n",
       "</table>\n",
       "</div>"
      ],
      "text/plain": [
       "   messages_included  mb_per_month_included  minutes_included  \\\n",
       "0                 50                  15360               500   \n",
       "1               1000                  30720              3000   \n",
       "\n",
       "   rub_monthly_fee  rub_per_gb  rub_per_message  rub_per_minute tariff_name  \n",
       "0              550         200                3               3       smart  \n",
       "1             1950         150                1               1       ultra  "
      ]
     },
     "execution_count": 16,
     "metadata": {},
     "output_type": "execute_result"
    }
   ],
   "source": [
    "try:\n",
    "    data_tariffs = pd.read_csv('C:\\\\Users\\\\ASUS\\\\Downloads\\\\/tariffs.csv.')\n",
    "except FileNotFoundError:\n",
    "    data_tariffs = pd.read_csv('/datasets/tariffs.csv')\n",
    "data_tariffs.head()"
   ]
  },
  {
   "cell_type": "code",
   "execution_count": 17,
   "id": "ba617880",
   "metadata": {},
   "outputs": [
    {
     "name": "stdout",
     "output_type": "stream",
     "text": [
      "<class 'pandas.core.frame.DataFrame'>\n",
      "RangeIndex: 2 entries, 0 to 1\n",
      "Data columns (total 8 columns):\n",
      " #   Column                 Non-Null Count  Dtype \n",
      "---  ------                 --------------  ----- \n",
      " 0   messages_included      2 non-null      int64 \n",
      " 1   mb_per_month_included  2 non-null      int64 \n",
      " 2   minutes_included       2 non-null      int64 \n",
      " 3   rub_monthly_fee        2 non-null      int64 \n",
      " 4   rub_per_gb             2 non-null      int64 \n",
      " 5   rub_per_message        2 non-null      int64 \n",
      " 6   rub_per_minute         2 non-null      int64 \n",
      " 7   tariff_name            2 non-null      object\n",
      "dtypes: int64(7), object(1)\n",
      "memory usage: 256.0+ bytes\n"
     ]
    }
   ],
   "source": [
    "data_tariffs.info()"
   ]
  },
  {
   "cell_type": "code",
   "execution_count": 20,
   "id": "bb7a9803",
   "metadata": {
    "scrolled": true
   },
   "outputs": [
    {
     "data": {
      "text/html": [
       "<div>\n",
       "<style scoped>\n",
       "    .dataframe tbody tr th:only-of-type {\n",
       "        vertical-align: middle;\n",
       "    }\n",
       "\n",
       "    .dataframe tbody tr th {\n",
       "        vertical-align: top;\n",
       "    }\n",
       "\n",
       "    .dataframe thead th {\n",
       "        text-align: right;\n",
       "    }\n",
       "</style>\n",
       "<table border=\"1\" class=\"dataframe\">\n",
       "  <thead>\n",
       "    <tr style=\"text-align: right;\">\n",
       "      <th></th>\n",
       "      <th>user_id</th>\n",
       "      <th>age</th>\n",
       "      <th>churn_date</th>\n",
       "      <th>city</th>\n",
       "      <th>first_name</th>\n",
       "      <th>last_name</th>\n",
       "      <th>reg_date</th>\n",
       "      <th>tariff</th>\n",
       "    </tr>\n",
       "  </thead>\n",
       "  <tbody>\n",
       "    <tr>\n",
       "      <th>0</th>\n",
       "      <td>1000</td>\n",
       "      <td>52</td>\n",
       "      <td>NaN</td>\n",
       "      <td>Краснодар</td>\n",
       "      <td>Рафаил</td>\n",
       "      <td>Верещагин</td>\n",
       "      <td>2018-05-25</td>\n",
       "      <td>ultra</td>\n",
       "    </tr>\n",
       "    <tr>\n",
       "      <th>1</th>\n",
       "      <td>1001</td>\n",
       "      <td>41</td>\n",
       "      <td>NaN</td>\n",
       "      <td>Москва</td>\n",
       "      <td>Иван</td>\n",
       "      <td>Ежов</td>\n",
       "      <td>2018-11-01</td>\n",
       "      <td>smart</td>\n",
       "    </tr>\n",
       "    <tr>\n",
       "      <th>2</th>\n",
       "      <td>1002</td>\n",
       "      <td>59</td>\n",
       "      <td>NaN</td>\n",
       "      <td>Стерлитамак</td>\n",
       "      <td>Евгений</td>\n",
       "      <td>Абрамович</td>\n",
       "      <td>2018-06-17</td>\n",
       "      <td>smart</td>\n",
       "    </tr>\n",
       "    <tr>\n",
       "      <th>3</th>\n",
       "      <td>1003</td>\n",
       "      <td>23</td>\n",
       "      <td>NaN</td>\n",
       "      <td>Москва</td>\n",
       "      <td>Белла</td>\n",
       "      <td>Белякова</td>\n",
       "      <td>2018-08-17</td>\n",
       "      <td>ultra</td>\n",
       "    </tr>\n",
       "    <tr>\n",
       "      <th>4</th>\n",
       "      <td>1004</td>\n",
       "      <td>68</td>\n",
       "      <td>NaN</td>\n",
       "      <td>Новокузнецк</td>\n",
       "      <td>Татьяна</td>\n",
       "      <td>Авдеенко</td>\n",
       "      <td>2018-05-14</td>\n",
       "      <td>ultra</td>\n",
       "    </tr>\n",
       "  </tbody>\n",
       "</table>\n",
       "</div>"
      ],
      "text/plain": [
       "   user_id  age churn_date         city first_name  last_name    reg_date  \\\n",
       "0     1000   52        NaN    Краснодар     Рафаил  Верещагин  2018-05-25   \n",
       "1     1001   41        NaN       Москва       Иван       Ежов  2018-11-01   \n",
       "2     1002   59        NaN  Стерлитамак    Евгений  Абрамович  2018-06-17   \n",
       "3     1003   23        NaN       Москва      Белла   Белякова  2018-08-17   \n",
       "4     1004   68        NaN  Новокузнецк    Татьяна   Авдеенко  2018-05-14   \n",
       "\n",
       "  tariff  \n",
       "0  ultra  \n",
       "1  smart  \n",
       "2  smart  \n",
       "3  ultra  \n",
       "4  ultra  "
      ]
     },
     "execution_count": 20,
     "metadata": {},
     "output_type": "execute_result"
    }
   ],
   "source": [
    "try:\n",
    "    data_users = pd.read_csv('C:\\\\Users\\\\ASUS\\\\Downloads\\\\/users.csv.')\n",
    "except FileNotFoundError:\n",
    "    data_users = pd.read_csv('/datasets/users.csv')\n",
    "data_users.head()"
   ]
  },
  {
   "cell_type": "code",
   "execution_count": 21,
   "id": "0958b60a",
   "metadata": {},
   "outputs": [
    {
     "name": "stdout",
     "output_type": "stream",
     "text": [
      "<class 'pandas.core.frame.DataFrame'>\n",
      "RangeIndex: 500 entries, 0 to 499\n",
      "Data columns (total 8 columns):\n",
      " #   Column      Non-Null Count  Dtype \n",
      "---  ------      --------------  ----- \n",
      " 0   user_id     500 non-null    int64 \n",
      " 1   age         500 non-null    int64 \n",
      " 2   churn_date  38 non-null     object\n",
      " 3   city        500 non-null    object\n",
      " 4   first_name  500 non-null    object\n",
      " 5   last_name   500 non-null    object\n",
      " 6   reg_date    500 non-null    object\n",
      " 7   tariff      500 non-null    object\n",
      "dtypes: int64(2), object(6)\n",
      "memory usage: 31.4+ KB\n"
     ]
    }
   ],
   "source": [
    "data_users.info()"
   ]
  },
  {
   "cell_type": "markdown",
   "id": "ea6789e0",
   "metadata": {},
   "source": [
    "<div class=\"alert alert-warning\">\n",
    "<h3> Комментарий ревьюера: Антон Оленев <a class=\"tocSkip\"> </h3>\n",
    "        \n",
    "<b>💡 Некоторые замечания и рекомендации:</b>\n",
    "\n",
    "Кажется, работа над проектом велась локально и пути к файлам не были изменены на общедоступные. Стоит переписать код таким образом, что бы он запускался и в jupiter hub на сервере, и локально без внесения дополнительных правок. Этого можно добиться многими способами. Например, использовать конструкцию `try-except` для путей файлов: `try` - пути на локальном компьютере, `except` - пути на сервере. Или применить библиотеку `os`:\n",
    "\n",
    "```\n",
    "import os\n",
    "\n",
    "pth1 = '/folder_1/data.csv'\n",
    "pth2 = './folder_2/data.csv'\n",
    "\n",
    "if os.path.exists(pth1):\n",
    "    query_1 = pd.read_csv(pth1)\n",
    "elif os.path.exists(pth2):\n",
    "    query_1 = pd.read_csv(pth2)\n",
    "else:\n",
    "    print('Something is wrong)\n",
    "```\n",
    "        \n",
    "</div>"
   ]
  },
  {
   "cell_type": "markdown",
   "id": "5051a8b3",
   "metadata": {},
   "source": [
    "<div class=\"alert alert-block alert-info\">\n",
    "<b>Комментарий студента:</b> Буду иметь в виду!</div>"
   ]
  },
  {
   "cell_type": "markdown",
   "id": "cb578062",
   "metadata": {},
   "source": [
    "### Вывод"
   ]
  },
  {
   "cell_type": "markdown",
   "id": "4b920467",
   "metadata": {},
   "source": [
    "Согласно документации к данным:\n",
    "Таблица users (информация о пользователях):\n",
    "* user_id — уникальный идентификатор пользователя\n",
    "* first_name — имя пользователя\n",
    "* last_name — фамилия пользователя\n",
    "* age — возраст пользователя (годы)\n",
    "* reg_date — дата подключения тарифа (день, месяц, год)\n",
    "* churn_date — дата прекращения пользования тарифом (если значение пропущено, то тариф ещё действовал на момент выгрузки данных)\n",
    "* city — город проживания пользователя\n",
    "* tariff — название тарифного плана\n",
    "Таблица calls (информация о звонках):\n",
    "* id — уникальный номер звонка\n",
    "* call_date — дата звонка\n",
    "* duration — длительность звонка в минутах\n",
    "* user_id — идентификатор пользователя, сделавшего звонок\n",
    "Таблица messages (информация о сообщениях):\n",
    "* id — уникальный номер сообщения\n",
    "* message_date — дата сообщения\n",
    "* user_id — идентификатор пользователя, отправившего сообщение\n",
    "Таблица internet (информация об интернет-сессиях):\n",
    "* id — уникальный номер сессии\n",
    "* mb_used — объём потраченного за сессию интернет-трафика (в мегабайтах)\n",
    "* session_date — дата интернет-сессии\n",
    "* user_id — идентификатор пользователя\n",
    "Таблица tariffs (информация о тарифах):\n",
    "* tariff_name — название тарифа\n",
    "* rub_monthly_fee — ежемесячная абонентская плата в рублях\n",
    "* minutes_included — количество минут разговора в месяц, включённых в абонентскую плату\n",
    "* messages_included — количество сообщений в месяц, включённых в абонентскую плату\n",
    "* mb_per_month_included — объём интернет-трафика, включённого в абонентскую плату (в мегабайтах)\n",
    "* rub_per_minute — стоимость минуты разговора сверх тарифного пакета (например, если в тарифе 100 минут разговора в месяц, то со 101 минуты будет взиматься плата)\n",
    "* rub_per_message — стоимость отправки сообщения сверх тарифного пакета\n",
    "* rub_per_gb — стоимость дополнительного гигабайта интернет-трафика сверх тарифного пакета (1 гигабайт = 1024 мегабайта)"
   ]
  },
  {
   "cell_type": "markdown",
   "id": "945f0fb9",
   "metadata": {},
   "source": [
    "Пропуски присутствуют в таблице data_users в колонке churn_date."
   ]
  },
  {
   "cell_type": "markdown",
   "id": "37c01407",
   "metadata": {},
   "source": [
    "<div class=\"alert alert-block alert-danger\">\n",
    "<h3> Комментарий ревьюера: Антон Оленев <a class=\"tocSkip\"/></h3>\n",
    "\n",
    "    \n",
    "<b>🤔 На доработку :</b> еще важным этапом загрузки данных является проверка на дубликаты, её тоже необходимо выполнить.\n",
    "</div>\n",
    "    "
   ]
  },
  {
   "cell_type": "markdown",
   "id": "00ceb6ea",
   "metadata": {},
   "source": [
    "<div class=\"alert alert-block alert-info\">\n",
    "<b>Комментарий студента:</b> Исправление ниже</div>"
   ]
  },
  {
   "cell_type": "markdown",
   "id": "837585d7",
   "metadata": {},
   "source": [
    "## Предобработка данных"
   ]
  },
  {
   "cell_type": "markdown",
   "id": "898efee9",
   "metadata": {},
   "source": [
    "Проверка на дубликаты:"
   ]
  },
  {
   "cell_type": "code",
   "execution_count": 22,
   "id": "af87a861",
   "metadata": {},
   "outputs": [
    {
     "data": {
      "text/plain": [
       "0"
      ]
     },
     "execution_count": 22,
     "metadata": {},
     "output_type": "execute_result"
    }
   ],
   "source": [
    "data_users.duplicated().sum()"
   ]
  },
  {
   "cell_type": "code",
   "execution_count": 23,
   "id": "0bbcfa96",
   "metadata": {},
   "outputs": [
    {
     "data": {
      "text/plain": [
       "0"
      ]
     },
     "execution_count": 23,
     "metadata": {},
     "output_type": "execute_result"
    }
   ],
   "source": [
    "data_internet.duplicated().sum()"
   ]
  },
  {
   "cell_type": "code",
   "execution_count": 24,
   "id": "b8f2b29d",
   "metadata": {},
   "outputs": [
    {
     "data": {
      "text/plain": [
       "0"
      ]
     },
     "execution_count": 24,
     "metadata": {},
     "output_type": "execute_result"
    }
   ],
   "source": [
    "data_messages.duplicated().sum()"
   ]
  },
  {
   "cell_type": "code",
   "execution_count": 25,
   "id": "4b0955e2",
   "metadata": {},
   "outputs": [
    {
     "data": {
      "text/plain": [
       "0"
      ]
     },
     "execution_count": 25,
     "metadata": {},
     "output_type": "execute_result"
    }
   ],
   "source": [
    "data_calls.duplicated().sum()"
   ]
  },
  {
   "cell_type": "code",
   "execution_count": 26,
   "id": "0e989310",
   "metadata": {},
   "outputs": [
    {
     "data": {
      "text/plain": [
       "0"
      ]
     },
     "execution_count": 26,
     "metadata": {},
     "output_type": "execute_result"
    }
   ],
   "source": [
    "data_tariffs.duplicated().sum()"
   ]
  },
  {
   "cell_type": "markdown",
   "id": "042d5e3a",
   "metadata": {},
   "source": [
    "Дубликатов нет."
   ]
  },
  {
   "cell_type": "code",
   "execution_count": 27,
   "id": "946a71ac",
   "metadata": {
    "scrolled": true
   },
   "outputs": [
    {
     "data": {
      "text/html": [
       "<div>\n",
       "<style scoped>\n",
       "    .dataframe tbody tr th:only-of-type {\n",
       "        vertical-align: middle;\n",
       "    }\n",
       "\n",
       "    .dataframe tbody tr th {\n",
       "        vertical-align: top;\n",
       "    }\n",
       "\n",
       "    .dataframe thead th {\n",
       "        text-align: right;\n",
       "    }\n",
       "</style>\n",
       "<table border=\"1\" class=\"dataframe\">\n",
       "  <thead>\n",
       "    <tr style=\"text-align: right;\">\n",
       "      <th></th>\n",
       "      <th>id</th>\n",
       "      <th>mb_used</th>\n",
       "      <th>session_date</th>\n",
       "      <th>user_id</th>\n",
       "    </tr>\n",
       "  </thead>\n",
       "  <tbody>\n",
       "    <tr>\n",
       "      <th>0</th>\n",
       "      <td>1000_0</td>\n",
       "      <td>112.95</td>\n",
       "      <td>2018-11-25</td>\n",
       "      <td>1000</td>\n",
       "    </tr>\n",
       "    <tr>\n",
       "      <th>1</th>\n",
       "      <td>1000_1</td>\n",
       "      <td>1052.81</td>\n",
       "      <td>2018-09-07</td>\n",
       "      <td>1000</td>\n",
       "    </tr>\n",
       "    <tr>\n",
       "      <th>2</th>\n",
       "      <td>1000_2</td>\n",
       "      <td>1197.26</td>\n",
       "      <td>2018-06-25</td>\n",
       "      <td>1000</td>\n",
       "    </tr>\n",
       "    <tr>\n",
       "      <th>3</th>\n",
       "      <td>1000_3</td>\n",
       "      <td>550.27</td>\n",
       "      <td>2018-08-22</td>\n",
       "      <td>1000</td>\n",
       "    </tr>\n",
       "    <tr>\n",
       "      <th>4</th>\n",
       "      <td>1000_4</td>\n",
       "      <td>302.56</td>\n",
       "      <td>2018-09-24</td>\n",
       "      <td>1000</td>\n",
       "    </tr>\n",
       "  </tbody>\n",
       "</table>\n",
       "</div>"
      ],
      "text/plain": [
       "       id  mb_used session_date  user_id\n",
       "0  1000_0   112.95   2018-11-25     1000\n",
       "1  1000_1  1052.81   2018-09-07     1000\n",
       "2  1000_2  1197.26   2018-06-25     1000\n",
       "3  1000_3   550.27   2018-08-22     1000\n",
       "4  1000_4   302.56   2018-09-24     1000"
      ]
     },
     "execution_count": 27,
     "metadata": {},
     "output_type": "execute_result"
    }
   ],
   "source": [
    "#Удалим столбец в таблице data_internet\n",
    "data_internet=data_internet.drop('Unnamed: 0',axis=1)\n",
    "data_internet.head()"
   ]
  },
  {
   "cell_type": "markdown",
   "id": "2230f2b2",
   "metadata": {},
   "source": [
    "По правилу: каждый звонок округляется отдельно: даже если он длился всего 1 секунду, будет засчитан как 1 минута."
   ]
  },
  {
   "cell_type": "code",
   "execution_count": 28,
   "id": "d30d87c1",
   "metadata": {},
   "outputs": [
    {
     "data": {
      "text/html": [
       "<div>\n",
       "<style scoped>\n",
       "    .dataframe tbody tr th:only-of-type {\n",
       "        vertical-align: middle;\n",
       "    }\n",
       "\n",
       "    .dataframe tbody tr th {\n",
       "        vertical-align: top;\n",
       "    }\n",
       "\n",
       "    .dataframe thead th {\n",
       "        text-align: right;\n",
       "    }\n",
       "</style>\n",
       "<table border=\"1\" class=\"dataframe\">\n",
       "  <thead>\n",
       "    <tr style=\"text-align: right;\">\n",
       "      <th></th>\n",
       "      <th>duration</th>\n",
       "      <th>user_id</th>\n",
       "    </tr>\n",
       "  </thead>\n",
       "  <tbody>\n",
       "    <tr>\n",
       "      <th>count</th>\n",
       "      <td>202607.000000</td>\n",
       "      <td>202607.000000</td>\n",
       "    </tr>\n",
       "    <tr>\n",
       "      <th>mean</th>\n",
       "      <td>6.755887</td>\n",
       "      <td>1253.940619</td>\n",
       "    </tr>\n",
       "    <tr>\n",
       "      <th>std</th>\n",
       "      <td>5.843365</td>\n",
       "      <td>144.722751</td>\n",
       "    </tr>\n",
       "    <tr>\n",
       "      <th>min</th>\n",
       "      <td>0.000000</td>\n",
       "      <td>1000.000000</td>\n",
       "    </tr>\n",
       "    <tr>\n",
       "      <th>25%</th>\n",
       "      <td>1.300000</td>\n",
       "      <td>1126.000000</td>\n",
       "    </tr>\n",
       "    <tr>\n",
       "      <th>50%</th>\n",
       "      <td>6.000000</td>\n",
       "      <td>1260.000000</td>\n",
       "    </tr>\n",
       "    <tr>\n",
       "      <th>75%</th>\n",
       "      <td>10.700000</td>\n",
       "      <td>1379.000000</td>\n",
       "    </tr>\n",
       "    <tr>\n",
       "      <th>max</th>\n",
       "      <td>38.000000</td>\n",
       "      <td>1499.000000</td>\n",
       "    </tr>\n",
       "  </tbody>\n",
       "</table>\n",
       "</div>"
      ],
      "text/plain": [
       "            duration        user_id\n",
       "count  202607.000000  202607.000000\n",
       "mean        6.755887    1253.940619\n",
       "std         5.843365     144.722751\n",
       "min         0.000000    1000.000000\n",
       "25%         1.300000    1126.000000\n",
       "50%         6.000000    1260.000000\n",
       "75%        10.700000    1379.000000\n",
       "max        38.000000    1499.000000"
      ]
     },
     "execution_count": 28,
     "metadata": {},
     "output_type": "execute_result"
    }
   ],
   "source": [
    "data_calls.describe()"
   ]
  },
  {
   "cell_type": "code",
   "execution_count": 29,
   "id": "19b587dd",
   "metadata": {},
   "outputs": [],
   "source": [
    "#перевод длительность звонка в таблице calls в тип int\n",
    "data_calls['duration']=np.ceil(data_calls['duration'])\n",
    "data_calls['duration']=data_calls['duration'].astype('int')"
   ]
  },
  {
   "cell_type": "markdown",
   "id": "957bb3eb",
   "metadata": {},
   "source": [
    "<div class=\"alert alert-block alert-danger\">\n",
    "<h3> Комментарий ревьюера: Антон Оленев <a class=\"tocSkip\"/></h3>\n",
    "\n",
    "    \n",
    "<b>🤔 На доработку :</b> тут лучше воспользоваться методом `np.ceil()`, чтобы случайно не было ошибок при округлении и приедении типа.\n",
    "</div>\n",
    "    "
   ]
  },
  {
   "cell_type": "markdown",
   "id": "bfb4fde2",
   "metadata": {},
   "source": [
    "<div class=\"alert alert-block alert-info\">\n",
    "<b>Комментарий студента:</b> Исправил!)</div>"
   ]
  },
  {
   "cell_type": "code",
   "execution_count": 30,
   "id": "4ccf9670",
   "metadata": {},
   "outputs": [
    {
     "data": {
      "text/html": [
       "<div>\n",
       "<style scoped>\n",
       "    .dataframe tbody tr th:only-of-type {\n",
       "        vertical-align: middle;\n",
       "    }\n",
       "\n",
       "    .dataframe tbody tr th {\n",
       "        vertical-align: top;\n",
       "    }\n",
       "\n",
       "    .dataframe thead th {\n",
       "        text-align: right;\n",
       "    }\n",
       "</style>\n",
       "<table border=\"1\" class=\"dataframe\">\n",
       "  <thead>\n",
       "    <tr style=\"text-align: right;\">\n",
       "      <th></th>\n",
       "      <th>id</th>\n",
       "      <th>call_date</th>\n",
       "      <th>duration</th>\n",
       "      <th>user_id</th>\n",
       "    </tr>\n",
       "  </thead>\n",
       "  <tbody>\n",
       "    <tr>\n",
       "      <th>0</th>\n",
       "      <td>1000_0</td>\n",
       "      <td>2018-07-25</td>\n",
       "      <td>0</td>\n",
       "      <td>1000</td>\n",
       "    </tr>\n",
       "    <tr>\n",
       "      <th>1</th>\n",
       "      <td>1000_1</td>\n",
       "      <td>2018-08-17</td>\n",
       "      <td>0</td>\n",
       "      <td>1000</td>\n",
       "    </tr>\n",
       "    <tr>\n",
       "      <th>2</th>\n",
       "      <td>1000_2</td>\n",
       "      <td>2018-06-11</td>\n",
       "      <td>3</td>\n",
       "      <td>1000</td>\n",
       "    </tr>\n",
       "    <tr>\n",
       "      <th>3</th>\n",
       "      <td>1000_3</td>\n",
       "      <td>2018-09-21</td>\n",
       "      <td>14</td>\n",
       "      <td>1000</td>\n",
       "    </tr>\n",
       "    <tr>\n",
       "      <th>4</th>\n",
       "      <td>1000_4</td>\n",
       "      <td>2018-12-15</td>\n",
       "      <td>6</td>\n",
       "      <td>1000</td>\n",
       "    </tr>\n",
       "  </tbody>\n",
       "</table>\n",
       "</div>"
      ],
      "text/plain": [
       "       id   call_date  duration  user_id\n",
       "0  1000_0  2018-07-25         0     1000\n",
       "1  1000_1  2018-08-17         0     1000\n",
       "2  1000_2  2018-06-11         3     1000\n",
       "3  1000_3  2018-09-21        14     1000\n",
       "4  1000_4  2018-12-15         6     1000"
      ]
     },
     "execution_count": 30,
     "metadata": {},
     "output_type": "execute_result"
    }
   ],
   "source": [
    "data_calls.head()"
   ]
  },
  {
   "cell_type": "code",
   "execution_count": 31,
   "id": "cfb37e41",
   "metadata": {},
   "outputs": [
    {
     "data": {
      "text/html": [
       "<div>\n",
       "<style scoped>\n",
       "    .dataframe tbody tr th:only-of-type {\n",
       "        vertical-align: middle;\n",
       "    }\n",
       "\n",
       "    .dataframe tbody tr th {\n",
       "        vertical-align: top;\n",
       "    }\n",
       "\n",
       "    .dataframe thead th {\n",
       "        text-align: right;\n",
       "    }\n",
       "</style>\n",
       "<table border=\"1\" class=\"dataframe\">\n",
       "  <thead>\n",
       "    <tr style=\"text-align: right;\">\n",
       "      <th></th>\n",
       "      <th>duration</th>\n",
       "      <th>user_id</th>\n",
       "    </tr>\n",
       "  </thead>\n",
       "  <tbody>\n",
       "    <tr>\n",
       "      <th>count</th>\n",
       "      <td>202607.000000</td>\n",
       "      <td>202607.000000</td>\n",
       "    </tr>\n",
       "    <tr>\n",
       "      <th>mean</th>\n",
       "      <td>7.158198</td>\n",
       "      <td>1253.940619</td>\n",
       "    </tr>\n",
       "    <tr>\n",
       "      <th>std</th>\n",
       "      <td>5.959173</td>\n",
       "      <td>144.722751</td>\n",
       "    </tr>\n",
       "    <tr>\n",
       "      <th>min</th>\n",
       "      <td>0.000000</td>\n",
       "      <td>1000.000000</td>\n",
       "    </tr>\n",
       "    <tr>\n",
       "      <th>25%</th>\n",
       "      <td>2.000000</td>\n",
       "      <td>1126.000000</td>\n",
       "    </tr>\n",
       "    <tr>\n",
       "      <th>50%</th>\n",
       "      <td>6.000000</td>\n",
       "      <td>1260.000000</td>\n",
       "    </tr>\n",
       "    <tr>\n",
       "      <th>75%</th>\n",
       "      <td>11.000000</td>\n",
       "      <td>1379.000000</td>\n",
       "    </tr>\n",
       "    <tr>\n",
       "      <th>max</th>\n",
       "      <td>38.000000</td>\n",
       "      <td>1499.000000</td>\n",
       "    </tr>\n",
       "  </tbody>\n",
       "</table>\n",
       "</div>"
      ],
      "text/plain": [
       "            duration        user_id\n",
       "count  202607.000000  202607.000000\n",
       "mean        7.158198    1253.940619\n",
       "std         5.959173     144.722751\n",
       "min         0.000000    1000.000000\n",
       "25%         2.000000    1126.000000\n",
       "50%         6.000000    1260.000000\n",
       "75%        11.000000    1379.000000\n",
       "max        38.000000    1499.000000"
      ]
     },
     "execution_count": 31,
     "metadata": {},
     "output_type": "execute_result"
    }
   ],
   "source": [
    "data_calls.describe()"
   ]
  },
  {
   "cell_type": "markdown",
   "id": "1cf295d0",
   "metadata": {},
   "source": [
    "<div class=\"alert alert-warning\">\n",
    "<h3> Комментарий ревьюера: Антон Оленев <a class=\"tocSkip\"> </h3>\n",
    "        \n",
    "<b>💡 Некоторые замечания и рекомендации:</b> после преобразований и до, хорошо бы посмотреть на преобразованные данные через метод .describe(), чтобы проверить, что все преоразовалось корректно.\n",
    "        \n",
    "</div>"
   ]
  },
  {
   "cell_type": "markdown",
   "id": "de00ded1",
   "metadata": {},
   "source": [
    "По правилу \"Мегалайн\" округляет мегабайты в гигабайты"
   ]
  },
  {
   "cell_type": "markdown",
   "id": "222986b8",
   "metadata": {},
   "source": [
    "<div class=\"alert alert-block alert-danger\">\n",
    "<h3> Комментарий ревьюера: Антон Оленев <a class=\"tocSkip\"/></h3>\n",
    "\n",
    "    \n",
    "<b>🤔 На доработку :</b> не совсем так, по правилам тарифа мегабайты округляются до гигабайт только по сумме всех сессий за месяц. Ошибка видна по итоговой таблице, тут получилось что была одна сессия на 112 мб, и она округлилась до 1 гб, что странно и дорого )\n",
    "</div>\n",
    "    "
   ]
  },
  {
   "cell_type": "markdown",
   "id": "69d8fb82",
   "metadata": {},
   "source": [
    "<div class=\"alert alert-block alert-info\">\n",
    "<b>Комментарий студента:</b> Удалил столбец 'gb_used'. Исправил таблицу с трафиком ниже</div>"
   ]
  },
  {
   "cell_type": "markdown",
   "id": "456ca8f2",
   "metadata": {},
   "source": [
    "Тип во всех остальных данных указан верно."
   ]
  },
  {
   "cell_type": "markdown",
   "id": "59668486",
   "metadata": {},
   "source": [
    "Пропуски присутствуют в таблице data_users в колонке churn_date. Их следует оставить, т.к. они будут указывать, что тариф у пользователя еще действует."
   ]
  },
  {
   "cell_type": "code",
   "execution_count": 32,
   "id": "d3bf2bc1",
   "metadata": {},
   "outputs": [
    {
     "data": {
      "text/plain": [
       "0         2018-07-25\n",
       "1         2018-08-17\n",
       "2         2018-06-11\n",
       "3         2018-09-21\n",
       "4         2018-12-15\n",
       "             ...    \n",
       "202602    2018-12-26\n",
       "202603    2018-10-18\n",
       "202604    2018-11-10\n",
       "202605    2018-10-06\n",
       "202606    2018-12-14\n",
       "Name: call_date, Length: 202607, dtype: object"
      ]
     },
     "execution_count": 32,
     "metadata": {},
     "output_type": "execute_result"
    }
   ],
   "source": [
    "data_calls['call_date']"
   ]
  },
  {
   "cell_type": "code",
   "execution_count": 33,
   "id": "c0ad2340",
   "metadata": {},
   "outputs": [],
   "source": [
    "#изменим тип даты в таблице call_date\n",
    "data_calls['call_date']=data_calls['call_date'].astype('datetime64')"
   ]
  },
  {
   "cell_type": "markdown",
   "id": "e27ddc33",
   "metadata": {},
   "source": [
    "<div class=\"alert alert-success\">\n",
    "    <h3> Комментарий ревьюера: Антон Оленев <a class=\"tocSkip\"> </h3>\n",
    "    \n",
    "<b>✅ Все отлично!:</b> верно, но можно было бы проконтролировать преобразование данных, через info() и describe(). А так же использовать строку формата даты. https://pandas.pydata.org/pandas-docs/stable/reference/api/pandas.to_datetime.html\n",
    "</div>"
   ]
  },
  {
   "cell_type": "code",
   "execution_count": 34,
   "id": "32587e57",
   "metadata": {},
   "outputs": [
    {
     "data": {
      "text/html": [
       "<div>\n",
       "<style scoped>\n",
       "    .dataframe tbody tr th:only-of-type {\n",
       "        vertical-align: middle;\n",
       "    }\n",
       "\n",
       "    .dataframe tbody tr th {\n",
       "        vertical-align: top;\n",
       "    }\n",
       "\n",
       "    .dataframe thead th {\n",
       "        text-align: right;\n",
       "    }\n",
       "</style>\n",
       "<table border=\"1\" class=\"dataframe\">\n",
       "  <thead>\n",
       "    <tr style=\"text-align: right;\">\n",
       "      <th></th>\n",
       "      <th>id</th>\n",
       "      <th>call_date</th>\n",
       "      <th>duration</th>\n",
       "      <th>user_id</th>\n",
       "      <th>month</th>\n",
       "    </tr>\n",
       "  </thead>\n",
       "  <tbody>\n",
       "    <tr>\n",
       "      <th>0</th>\n",
       "      <td>1000_0</td>\n",
       "      <td>2018-07-25</td>\n",
       "      <td>0</td>\n",
       "      <td>1000</td>\n",
       "      <td>7</td>\n",
       "    </tr>\n",
       "    <tr>\n",
       "      <th>1</th>\n",
       "      <td>1000_1</td>\n",
       "      <td>2018-08-17</td>\n",
       "      <td>0</td>\n",
       "      <td>1000</td>\n",
       "      <td>8</td>\n",
       "    </tr>\n",
       "    <tr>\n",
       "      <th>2</th>\n",
       "      <td>1000_2</td>\n",
       "      <td>2018-06-11</td>\n",
       "      <td>3</td>\n",
       "      <td>1000</td>\n",
       "      <td>6</td>\n",
       "    </tr>\n",
       "    <tr>\n",
       "      <th>3</th>\n",
       "      <td>1000_3</td>\n",
       "      <td>2018-09-21</td>\n",
       "      <td>14</td>\n",
       "      <td>1000</td>\n",
       "      <td>9</td>\n",
       "    </tr>\n",
       "    <tr>\n",
       "      <th>4</th>\n",
       "      <td>1000_4</td>\n",
       "      <td>2018-12-15</td>\n",
       "      <td>6</td>\n",
       "      <td>1000</td>\n",
       "      <td>12</td>\n",
       "    </tr>\n",
       "  </tbody>\n",
       "</table>\n",
       "</div>"
      ],
      "text/plain": [
       "       id  call_date  duration  user_id  month\n",
       "0  1000_0 2018-07-25         0     1000      7\n",
       "1  1000_1 2018-08-17         0     1000      8\n",
       "2  1000_2 2018-06-11         3     1000      6\n",
       "3  1000_3 2018-09-21        14     1000      9\n",
       "4  1000_4 2018-12-15         6     1000     12"
      ]
     },
     "execution_count": 34,
     "metadata": {},
     "output_type": "execute_result"
    }
   ],
   "source": [
    "#добавим номер месяц в таблицу data_calls к каждой строке\n",
    "data_calls['month']=data_calls['call_date'].dt.month\n",
    "data_calls.head()"
   ]
  },
  {
   "cell_type": "code",
   "execution_count": 35,
   "id": "250a2d2a",
   "metadata": {},
   "outputs": [
    {
     "data": {
      "text/html": [
       "<div>\n",
       "<style scoped>\n",
       "    .dataframe tbody tr th:only-of-type {\n",
       "        vertical-align: middle;\n",
       "    }\n",
       "\n",
       "    .dataframe tbody tr th {\n",
       "        vertical-align: top;\n",
       "    }\n",
       "\n",
       "    .dataframe thead th {\n",
       "        text-align: right;\n",
       "    }\n",
       "</style>\n",
       "<table border=\"1\" class=\"dataframe\">\n",
       "  <thead>\n",
       "    <tr style=\"text-align: right;\">\n",
       "      <th></th>\n",
       "      <th>user_id</th>\n",
       "      <th>month</th>\n",
       "      <th>call_date</th>\n",
       "      <th>duration</th>\n",
       "      <th>id</th>\n",
       "    </tr>\n",
       "  </thead>\n",
       "  <tbody>\n",
       "    <tr>\n",
       "      <th>0</th>\n",
       "      <td>1000</td>\n",
       "      <td>5</td>\n",
       "      <td>22</td>\n",
       "      <td>22</td>\n",
       "      <td>22</td>\n",
       "    </tr>\n",
       "    <tr>\n",
       "      <th>1</th>\n",
       "      <td>1000</td>\n",
       "      <td>6</td>\n",
       "      <td>43</td>\n",
       "      <td>43</td>\n",
       "      <td>43</td>\n",
       "    </tr>\n",
       "    <tr>\n",
       "      <th>2</th>\n",
       "      <td>1000</td>\n",
       "      <td>7</td>\n",
       "      <td>47</td>\n",
       "      <td>47</td>\n",
       "      <td>47</td>\n",
       "    </tr>\n",
       "    <tr>\n",
       "      <th>3</th>\n",
       "      <td>1000</td>\n",
       "      <td>8</td>\n",
       "      <td>52</td>\n",
       "      <td>52</td>\n",
       "      <td>52</td>\n",
       "    </tr>\n",
       "    <tr>\n",
       "      <th>4</th>\n",
       "      <td>1000</td>\n",
       "      <td>9</td>\n",
       "      <td>58</td>\n",
       "      <td>58</td>\n",
       "      <td>58</td>\n",
       "    </tr>\n",
       "    <tr>\n",
       "      <th>...</th>\n",
       "      <td>...</td>\n",
       "      <td>...</td>\n",
       "      <td>...</td>\n",
       "      <td>...</td>\n",
       "      <td>...</td>\n",
       "    </tr>\n",
       "    <tr>\n",
       "      <th>3169</th>\n",
       "      <td>1498</td>\n",
       "      <td>10</td>\n",
       "      <td>41</td>\n",
       "      <td>41</td>\n",
       "      <td>41</td>\n",
       "    </tr>\n",
       "    <tr>\n",
       "      <th>3170</th>\n",
       "      <td>1499</td>\n",
       "      <td>9</td>\n",
       "      <td>9</td>\n",
       "      <td>9</td>\n",
       "      <td>9</td>\n",
       "    </tr>\n",
       "    <tr>\n",
       "      <th>3171</th>\n",
       "      <td>1499</td>\n",
       "      <td>10</td>\n",
       "      <td>68</td>\n",
       "      <td>68</td>\n",
       "      <td>68</td>\n",
       "    </tr>\n",
       "    <tr>\n",
       "      <th>3172</th>\n",
       "      <td>1499</td>\n",
       "      <td>11</td>\n",
       "      <td>74</td>\n",
       "      <td>74</td>\n",
       "      <td>74</td>\n",
       "    </tr>\n",
       "    <tr>\n",
       "      <th>3173</th>\n",
       "      <td>1499</td>\n",
       "      <td>12</td>\n",
       "      <td>69</td>\n",
       "      <td>69</td>\n",
       "      <td>69</td>\n",
       "    </tr>\n",
       "  </tbody>\n",
       "</table>\n",
       "<p>3174 rows × 5 columns</p>\n",
       "</div>"
      ],
      "text/plain": [
       "      user_id  month  call_date  duration  id\n",
       "0        1000      5         22        22  22\n",
       "1        1000      6         43        43  43\n",
       "2        1000      7         47        47  47\n",
       "3        1000      8         52        52  52\n",
       "4        1000      9         58        58  58\n",
       "...       ...    ...        ...       ...  ..\n",
       "3169     1498     10         41        41  41\n",
       "3170     1499      9          9         9   9\n",
       "3171     1499     10         68        68  68\n",
       "3172     1499     11         74        74  74\n",
       "3173     1499     12         69        69  69\n",
       "\n",
       "[3174 rows x 5 columns]"
      ]
     },
     "execution_count": 35,
     "metadata": {},
     "output_type": "execute_result"
    }
   ],
   "source": [
    "#таблица с количеством сделанных звонков по месяцам для каждого пользователя\n",
    "calls_user_month=pd.pivot_table(data_calls,index=['user_id','month'],aggfunc='count').reset_index()\n",
    "calls_user_month"
   ]
  },
  {
   "cell_type": "code",
   "execution_count": 36,
   "id": "abfa1438",
   "metadata": {},
   "outputs": [
    {
     "data": {
      "text/html": [
       "<div>\n",
       "<style scoped>\n",
       "    .dataframe tbody tr th:only-of-type {\n",
       "        vertical-align: middle;\n",
       "    }\n",
       "\n",
       "    .dataframe tbody tr th {\n",
       "        vertical-align: top;\n",
       "    }\n",
       "\n",
       "    .dataframe thead th {\n",
       "        text-align: right;\n",
       "    }\n",
       "</style>\n",
       "<table border=\"1\" class=\"dataframe\">\n",
       "  <thead>\n",
       "    <tr style=\"text-align: right;\">\n",
       "      <th></th>\n",
       "      <th></th>\n",
       "      <th>duration</th>\n",
       "    </tr>\n",
       "    <tr>\n",
       "      <th>user_id</th>\n",
       "      <th>month</th>\n",
       "      <th></th>\n",
       "    </tr>\n",
       "  </thead>\n",
       "  <tbody>\n",
       "    <tr>\n",
       "      <th rowspan=\"5\" valign=\"top\">1000</th>\n",
       "      <th>5</th>\n",
       "      <td>159</td>\n",
       "    </tr>\n",
       "    <tr>\n",
       "      <th>6</th>\n",
       "      <td>172</td>\n",
       "    </tr>\n",
       "    <tr>\n",
       "      <th>7</th>\n",
       "      <td>340</td>\n",
       "    </tr>\n",
       "    <tr>\n",
       "      <th>8</th>\n",
       "      <td>408</td>\n",
       "    </tr>\n",
       "    <tr>\n",
       "      <th>9</th>\n",
       "      <td>466</td>\n",
       "    </tr>\n",
       "    <tr>\n",
       "      <th>...</th>\n",
       "      <th>...</th>\n",
       "      <td>...</td>\n",
       "    </tr>\n",
       "    <tr>\n",
       "      <th>1498</th>\n",
       "      <th>10</th>\n",
       "      <td>247</td>\n",
       "    </tr>\n",
       "    <tr>\n",
       "      <th rowspan=\"4\" valign=\"top\">1499</th>\n",
       "      <th>9</th>\n",
       "      <td>70</td>\n",
       "    </tr>\n",
       "    <tr>\n",
       "      <th>10</th>\n",
       "      <td>449</td>\n",
       "    </tr>\n",
       "    <tr>\n",
       "      <th>11</th>\n",
       "      <td>612</td>\n",
       "    </tr>\n",
       "    <tr>\n",
       "      <th>12</th>\n",
       "      <td>492</td>\n",
       "    </tr>\n",
       "  </tbody>\n",
       "</table>\n",
       "<p>3174 rows × 1 columns</p>\n",
       "</div>"
      ],
      "text/plain": [
       "               duration\n",
       "user_id month          \n",
       "1000    5           159\n",
       "        6           172\n",
       "        7           340\n",
       "        8           408\n",
       "        9           466\n",
       "...                 ...\n",
       "1498    10          247\n",
       "1499    9            70\n",
       "        10          449\n",
       "        11          612\n",
       "        12          492\n",
       "\n",
       "[3174 rows x 1 columns]"
      ]
     },
     "execution_count": 36,
     "metadata": {},
     "output_type": "execute_result"
    }
   ],
   "source": [
    "#таблица израсходованных минут разговора по месяцам для каждого пользователя\n",
    "minutes_user_month=pd.pivot_table(data_calls,values='duration',index=['user_id','month'],aggfunc='sum')\n",
    "minutes_user_month"
   ]
  },
  {
   "cell_type": "code",
   "execution_count": 37,
   "id": "2467746d",
   "metadata": {},
   "outputs": [],
   "source": [
    "#изменим тип даты в таблице call_date\n",
    "data_messages['message_date']=data_messages['message_date'].astype('datetime64')"
   ]
  },
  {
   "cell_type": "code",
   "execution_count": 38,
   "id": "a7e29a15",
   "metadata": {},
   "outputs": [],
   "source": [
    "#добавим номер месяц в таблицу data_messages к каждой строке\n",
    "data_messages['month']=data_messages['message_date'].dt.month"
   ]
  },
  {
   "cell_type": "code",
   "execution_count": 39,
   "id": "683b5379",
   "metadata": {},
   "outputs": [
    {
     "data": {
      "text/html": [
       "<div>\n",
       "<style scoped>\n",
       "    .dataframe tbody tr th:only-of-type {\n",
       "        vertical-align: middle;\n",
       "    }\n",
       "\n",
       "    .dataframe tbody tr th {\n",
       "        vertical-align: top;\n",
       "    }\n",
       "\n",
       "    .dataframe thead th {\n",
       "        text-align: right;\n",
       "    }\n",
       "</style>\n",
       "<table border=\"1\" class=\"dataframe\">\n",
       "  <thead>\n",
       "    <tr style=\"text-align: right;\">\n",
       "      <th></th>\n",
       "      <th></th>\n",
       "      <th>id</th>\n",
       "      <th>message_date</th>\n",
       "    </tr>\n",
       "    <tr>\n",
       "      <th>user_id</th>\n",
       "      <th>month</th>\n",
       "      <th></th>\n",
       "      <th></th>\n",
       "    </tr>\n",
       "  </thead>\n",
       "  <tbody>\n",
       "    <tr>\n",
       "      <th rowspan=\"5\" valign=\"top\">1000</th>\n",
       "      <th>5</th>\n",
       "      <td>22</td>\n",
       "      <td>22</td>\n",
       "    </tr>\n",
       "    <tr>\n",
       "      <th>6</th>\n",
       "      <td>60</td>\n",
       "      <td>60</td>\n",
       "    </tr>\n",
       "    <tr>\n",
       "      <th>7</th>\n",
       "      <td>75</td>\n",
       "      <td>75</td>\n",
       "    </tr>\n",
       "    <tr>\n",
       "      <th>8</th>\n",
       "      <td>81</td>\n",
       "      <td>81</td>\n",
       "    </tr>\n",
       "    <tr>\n",
       "      <th>9</th>\n",
       "      <td>57</td>\n",
       "      <td>57</td>\n",
       "    </tr>\n",
       "    <tr>\n",
       "      <th>...</th>\n",
       "      <th>...</th>\n",
       "      <td>...</td>\n",
       "      <td>...</td>\n",
       "    </tr>\n",
       "    <tr>\n",
       "      <th>1498</th>\n",
       "      <th>10</th>\n",
       "      <td>42</td>\n",
       "      <td>42</td>\n",
       "    </tr>\n",
       "    <tr>\n",
       "      <th rowspan=\"4\" valign=\"top\">1499</th>\n",
       "      <th>9</th>\n",
       "      <td>11</td>\n",
       "      <td>11</td>\n",
       "    </tr>\n",
       "    <tr>\n",
       "      <th>10</th>\n",
       "      <td>48</td>\n",
       "      <td>48</td>\n",
       "    </tr>\n",
       "    <tr>\n",
       "      <th>11</th>\n",
       "      <td>59</td>\n",
       "      <td>59</td>\n",
       "    </tr>\n",
       "    <tr>\n",
       "      <th>12</th>\n",
       "      <td>66</td>\n",
       "      <td>66</td>\n",
       "    </tr>\n",
       "  </tbody>\n",
       "</table>\n",
       "<p>2717 rows × 2 columns</p>\n",
       "</div>"
      ],
      "text/plain": [
       "               id  message_date\n",
       "user_id month                  \n",
       "1000    5      22            22\n",
       "        6      60            60\n",
       "        7      75            75\n",
       "        8      81            81\n",
       "        9      57            57\n",
       "...            ..           ...\n",
       "1498    10     42            42\n",
       "1499    9      11            11\n",
       "        10     48            48\n",
       "        11     59            59\n",
       "        12     66            66\n",
       "\n",
       "[2717 rows x 2 columns]"
      ]
     },
     "execution_count": 39,
     "metadata": {},
     "output_type": "execute_result"
    }
   ],
   "source": [
    "#количество отправленных сообщений по месяцам\n",
    "message_user_month=pd.pivot_table(data_messages,index=['user_id','month'],aggfunc='count')\n",
    "message_user_month"
   ]
  },
  {
   "cell_type": "code",
   "execution_count": 40,
   "id": "21e62943",
   "metadata": {},
   "outputs": [],
   "source": [
    "#изменение типа даты интернет-сессии в таблице data_internet\n",
    "data_internet['session_date']=data_internet['session_date'].astype('datetime64')"
   ]
  },
  {
   "cell_type": "code",
   "execution_count": 41,
   "id": "fa29ee03",
   "metadata": {},
   "outputs": [],
   "source": [
    "#добавим номер месяц в таблицу data_internet к каждой строке\n",
    "data_internet['month']=data_internet['session_date'].dt.month"
   ]
  },
  {
   "cell_type": "code",
   "execution_count": 42,
   "id": "adfd6300",
   "metadata": {},
   "outputs": [
    {
     "data": {
      "text/html": [
       "<div>\n",
       "<style scoped>\n",
       "    .dataframe tbody tr th:only-of-type {\n",
       "        vertical-align: middle;\n",
       "    }\n",
       "\n",
       "    .dataframe tbody tr th {\n",
       "        vertical-align: top;\n",
       "    }\n",
       "\n",
       "    .dataframe thead th {\n",
       "        text-align: right;\n",
       "    }\n",
       "</style>\n",
       "<table border=\"1\" class=\"dataframe\">\n",
       "  <thead>\n",
       "    <tr style=\"text-align: right;\">\n",
       "      <th></th>\n",
       "      <th></th>\n",
       "      <th>mb_used</th>\n",
       "    </tr>\n",
       "    <tr>\n",
       "      <th>user_id</th>\n",
       "      <th>month</th>\n",
       "      <th></th>\n",
       "    </tr>\n",
       "  </thead>\n",
       "  <tbody>\n",
       "    <tr>\n",
       "      <th rowspan=\"5\" valign=\"top\">1000</th>\n",
       "      <th>5</th>\n",
       "      <td>3.0</td>\n",
       "    </tr>\n",
       "    <tr>\n",
       "      <th>6</th>\n",
       "      <td>23.0</td>\n",
       "    </tr>\n",
       "    <tr>\n",
       "      <th>7</th>\n",
       "      <td>14.0</td>\n",
       "    </tr>\n",
       "    <tr>\n",
       "      <th>8</th>\n",
       "      <td>14.0</td>\n",
       "    </tr>\n",
       "    <tr>\n",
       "      <th>9</th>\n",
       "      <td>15.0</td>\n",
       "    </tr>\n",
       "    <tr>\n",
       "      <th>...</th>\n",
       "      <th>...</th>\n",
       "      <td>...</td>\n",
       "    </tr>\n",
       "    <tr>\n",
       "      <th>1498</th>\n",
       "      <th>10</th>\n",
       "      <td>21.0</td>\n",
       "    </tr>\n",
       "    <tr>\n",
       "      <th rowspan=\"4\" valign=\"top\">1499</th>\n",
       "      <th>9</th>\n",
       "      <td>2.0</td>\n",
       "    </tr>\n",
       "    <tr>\n",
       "      <th>10</th>\n",
       "      <td>18.0</td>\n",
       "    </tr>\n",
       "    <tr>\n",
       "      <th>11</th>\n",
       "      <td>18.0</td>\n",
       "    </tr>\n",
       "    <tr>\n",
       "      <th>12</th>\n",
       "      <td>13.0</td>\n",
       "    </tr>\n",
       "  </tbody>\n",
       "</table>\n",
       "<p>3203 rows × 1 columns</p>\n",
       "</div>"
      ],
      "text/plain": [
       "               mb_used\n",
       "user_id month         \n",
       "1000    5          3.0\n",
       "        6         23.0\n",
       "        7         14.0\n",
       "        8         14.0\n",
       "        9         15.0\n",
       "...                ...\n",
       "1498    10        21.0\n",
       "1499    9          2.0\n",
       "        10        18.0\n",
       "        11        18.0\n",
       "        12        13.0\n",
       "\n",
       "[3203 rows x 1 columns]"
      ]
     },
     "execution_count": 42,
     "metadata": {},
     "output_type": "execute_result"
    }
   ],
   "source": [
    "#таблица объема израсходованного интернет-трафика по месяцам для каждого пользователя\n",
    "volume_user_month=pd.pivot_table(data_internet,values='mb_used',index=['user_id','month'],aggfunc='sum')\n",
    "volume_user_month=np.ceil(volume_user_month/1024)\n",
    "volume_user_month"
   ]
  },
  {
   "cell_type": "markdown",
   "id": "1a57e0a2",
   "metadata": {},
   "source": [
    "<div class=\"alert alert-success\">\n",
    "    <h3> Комментарий ревьюера: Антон Оленев <a class=\"tocSkip\"> </h3>\n",
    "    \n",
    "<b>✅ Все отлично!:</b> таблицы правильные, но в таблице с трафиком - неверные числа, из-за неправильного округления ранее\n",
    "</div>"
   ]
  },
  {
   "cell_type": "code",
   "execution_count": 43,
   "id": "cb1d7fdd",
   "metadata": {},
   "outputs": [],
   "source": [
    "#функция подсчета выручки с пользователя для каждого тарифа\n",
    "def money(data):\n",
    "    if data['tariff']=='smart':\n",
    "        if data['call']<=500:\n",
    "            data['call']=500\n",
    "        if data['message']<=50:\n",
    "            data['message']=50\n",
    "        if data['trafic']<=15:\n",
    "            data['trafic']=15\n",
    "        return (data['call']-500)*3 + (data['message']-50)*3 + (data['trafic']-15)*200 +550\n",
    "    else:\n",
    "        if data['call']<=3000:\n",
    "            data['call']=3000\n",
    "        if data['message']<=1000:\n",
    "            data['message']=1000\n",
    "        if data['trafic']<=30:\n",
    "            data['trafic']=30\n",
    "        return (data['call']-3000)*1 + (data['message']-1000)*1 + (data['trafic']-30)*150 +1950"
   ]
  },
  {
   "cell_type": "markdown",
   "id": "ffe362c6",
   "metadata": {},
   "source": [
    "<div class=\"alert alert-warning\">\n",
    "<h3> Комментарий ревьюера: Антон Оленев <a class=\"tocSkip\"> </h3>\n",
    "        \n",
    "<b>💡 Некоторые замечания и рекомендации:</b> в этой функции очень много констант, которые придется менять руками если они изменятся для тарифа, или добавлять новые if если добавятся новые тарифы. Этого можно избежать, если сделать merge таблиц с таблией tarrifs. Тогда в каждой строке данных у нас будут и параметры тарифа на которые можно будет домножать, не будет if .. else конструкций.\n",
    "        \n",
    "</div>"
   ]
  },
  {
   "cell_type": "markdown",
   "id": "eb321150",
   "metadata": {},
   "source": [
    "<div class=\"alert alert-block alert-info\">\n",
    "<b>Комментарий студента:</b> Буду иметь в виду</div>"
   ]
  },
  {
   "cell_type": "code",
   "execution_count": 44,
   "id": "de9ec4a3",
   "metadata": {},
   "outputs": [
    {
     "data": {
      "text/html": [
       "<div>\n",
       "<style scoped>\n",
       "    .dataframe tbody tr th:only-of-type {\n",
       "        vertical-align: middle;\n",
       "    }\n",
       "\n",
       "    .dataframe tbody tr th {\n",
       "        vertical-align: top;\n",
       "    }\n",
       "\n",
       "    .dataframe thead th {\n",
       "        text-align: right;\n",
       "    }\n",
       "</style>\n",
       "<table border=\"1\" class=\"dataframe\">\n",
       "  <thead>\n",
       "    <tr style=\"text-align: right;\">\n",
       "      <th></th>\n",
       "      <th>user_id</th>\n",
       "      <th>call</th>\n",
       "      <th>message</th>\n",
       "      <th>trafic</th>\n",
       "      <th>city</th>\n",
       "      <th>tariff</th>\n",
       "    </tr>\n",
       "  </thead>\n",
       "  <tbody>\n",
       "    <tr>\n",
       "      <th>0</th>\n",
       "      <td>1000</td>\n",
       "      <td>159</td>\n",
       "      <td>22</td>\n",
       "      <td>3.0</td>\n",
       "      <td>Краснодар</td>\n",
       "      <td>ultra</td>\n",
       "    </tr>\n",
       "    <tr>\n",
       "      <th>1</th>\n",
       "      <td>1000</td>\n",
       "      <td>172</td>\n",
       "      <td>60</td>\n",
       "      <td>23.0</td>\n",
       "      <td>Краснодар</td>\n",
       "      <td>ultra</td>\n",
       "    </tr>\n",
       "    <tr>\n",
       "      <th>2</th>\n",
       "      <td>1000</td>\n",
       "      <td>340</td>\n",
       "      <td>75</td>\n",
       "      <td>14.0</td>\n",
       "      <td>Краснодар</td>\n",
       "      <td>ultra</td>\n",
       "    </tr>\n",
       "    <tr>\n",
       "      <th>3</th>\n",
       "      <td>1000</td>\n",
       "      <td>408</td>\n",
       "      <td>81</td>\n",
       "      <td>14.0</td>\n",
       "      <td>Краснодар</td>\n",
       "      <td>ultra</td>\n",
       "    </tr>\n",
       "    <tr>\n",
       "      <th>4</th>\n",
       "      <td>1000</td>\n",
       "      <td>466</td>\n",
       "      <td>57</td>\n",
       "      <td>15.0</td>\n",
       "      <td>Краснодар</td>\n",
       "      <td>ultra</td>\n",
       "    </tr>\n",
       "    <tr>\n",
       "      <th>...</th>\n",
       "      <td>...</td>\n",
       "      <td>...</td>\n",
       "      <td>...</td>\n",
       "      <td>...</td>\n",
       "      <td>...</td>\n",
       "      <td>...</td>\n",
       "    </tr>\n",
       "    <tr>\n",
       "      <th>2662</th>\n",
       "      <td>1498</td>\n",
       "      <td>247</td>\n",
       "      <td>42</td>\n",
       "      <td>21.0</td>\n",
       "      <td>Владикавказ</td>\n",
       "      <td>smart</td>\n",
       "    </tr>\n",
       "    <tr>\n",
       "      <th>2663</th>\n",
       "      <td>1499</td>\n",
       "      <td>70</td>\n",
       "      <td>11</td>\n",
       "      <td>2.0</td>\n",
       "      <td>Пермь</td>\n",
       "      <td>smart</td>\n",
       "    </tr>\n",
       "    <tr>\n",
       "      <th>2664</th>\n",
       "      <td>1499</td>\n",
       "      <td>449</td>\n",
       "      <td>48</td>\n",
       "      <td>18.0</td>\n",
       "      <td>Пермь</td>\n",
       "      <td>smart</td>\n",
       "    </tr>\n",
       "    <tr>\n",
       "      <th>2665</th>\n",
       "      <td>1499</td>\n",
       "      <td>612</td>\n",
       "      <td>59</td>\n",
       "      <td>18.0</td>\n",
       "      <td>Пермь</td>\n",
       "      <td>smart</td>\n",
       "    </tr>\n",
       "    <tr>\n",
       "      <th>2666</th>\n",
       "      <td>1499</td>\n",
       "      <td>492</td>\n",
       "      <td>66</td>\n",
       "      <td>13.0</td>\n",
       "      <td>Пермь</td>\n",
       "      <td>smart</td>\n",
       "    </tr>\n",
       "  </tbody>\n",
       "</table>\n",
       "<p>2667 rows × 6 columns</p>\n",
       "</div>"
      ],
      "text/plain": [
       "      user_id  call  message  trafic         city tariff\n",
       "0        1000   159       22     3.0    Краснодар  ultra\n",
       "1        1000   172       60    23.0    Краснодар  ultra\n",
       "2        1000   340       75    14.0    Краснодар  ultra\n",
       "3        1000   408       81    14.0    Краснодар  ultra\n",
       "4        1000   466       57    15.0    Краснодар  ultra\n",
       "...       ...   ...      ...     ...          ...    ...\n",
       "2662     1498   247       42    21.0  Владикавказ  smart\n",
       "2663     1499    70       11     2.0        Пермь  smart\n",
       "2664     1499   449       48    18.0        Пермь  smart\n",
       "2665     1499   612       59    18.0        Пермь  smart\n",
       "2666     1499   492       66    13.0        Пермь  smart\n",
       "\n",
       "[2667 rows x 6 columns]"
      ]
     },
     "execution_count": 44,
     "metadata": {},
     "output_type": "execute_result"
    }
   ],
   "source": [
    "#Объединение трех сводных таблиц и присоединение к ним имя тарифа\n",
    "data=minutes_user_month.merge(message_user_month,on=['user_id','month'])\n",
    "data=data.merge(volume_user_month,on=['user_id','month'])\n",
    "data=data.merge(data_users[['user_id', 'city', 'tariff']], on='user_id',how='left')\n",
    "data=data.drop('message_date',axis=1)\n",
    "data=data.rename(columns={'duration':'call','id':'message','mb_used':'trafic'})\n",
    "data"
   ]
  },
  {
   "cell_type": "markdown",
   "id": "f7e40bcb",
   "metadata": {},
   "source": [
    "<div class=\"alert alert-block alert-danger\">\n",
    "<h3> Комментарий ревьюера: Антон Оленев <a class=\"tocSkip\"/></h3>\n",
    "\n",
    "    \n",
    "<b>🤔 На доработку :</b> в принципе можно и так, но pandas как раз позволяет избавиться от сложного кода на питоне, и выполнять вычисления сразу над всеми данными. Можно ли как то это упросить, например используя метод `.apply()`, для применнеия функции к dataframe?\n",
    "</div>\n",
    "    "
   ]
  },
  {
   "cell_type": "markdown",
   "id": "8c682652",
   "metadata": {},
   "source": [
    "<div class=\"alert alert-block alert-info\">\n",
    "<b>Комментарий студента:</b> Не очень понял как с помощью метода .apply() можно это сделать, если мне его нужно использовать к датафрейму, а я его только пытаюсь создать кодом выше</div>"
   ]
  },
  {
   "cell_type": "markdown",
   "id": "3fc83b53",
   "metadata": {},
   "source": [
    "<div class=\"alert alert-block alert-danger\">\n",
    "<h3> Комментарий ревьюера V2: Антон Оленев <a class=\"tocSkip\"/></h3>\n",
    "\n",
    "    \n",
    "<b>🤔 На доработку :</b> я имел ввиду вычисление через функцию money() ) А можно ли этот датафрейм построитть используя методы pandas, посчитать суммы без использованя циклов, с помощью операций над датафреймом?\n",
    "</div>\n",
    "    "
   ]
  },
  {
   "cell_type": "markdown",
   "id": "9d86c546",
   "metadata": {},
   "source": [
    "<div class=\"alert alert-block alert-info\">\n",
    "<b>Комментарий студента:</b> Можно. Создал новый датафрейм и к нему применил функцию apply. Дальше работал с этим датафреймом, т.к. с ним стало очень удобно</div>"
   ]
  },
  {
   "cell_type": "markdown",
   "id": "8000d745",
   "metadata": {},
   "source": [
    "<div class=\"alert alert-success\">\n",
    "    <h3> Комментарий ревьюера V3: Антон Оленев <a class=\"tocSkip\"> </h3>\n",
    "    \n",
    "<b>✅ Все отлично!:</b> 💪👌👍\n",
    "</div>"
   ]
  },
  {
   "cell_type": "code",
   "execution_count": 45,
   "id": "801fcf3e",
   "metadata": {},
   "outputs": [
    {
     "data": {
      "text/html": [
       "<div>\n",
       "<style scoped>\n",
       "    .dataframe tbody tr th:only-of-type {\n",
       "        vertical-align: middle;\n",
       "    }\n",
       "\n",
       "    .dataframe tbody tr th {\n",
       "        vertical-align: top;\n",
       "    }\n",
       "\n",
       "    .dataframe thead th {\n",
       "        text-align: right;\n",
       "    }\n",
       "</style>\n",
       "<table border=\"1\" class=\"dataframe\">\n",
       "  <thead>\n",
       "    <tr style=\"text-align: right;\">\n",
       "      <th></th>\n",
       "      <th>user_id</th>\n",
       "      <th>call</th>\n",
       "      <th>message</th>\n",
       "      <th>trafic</th>\n",
       "      <th>city</th>\n",
       "      <th>tariff</th>\n",
       "      <th>profit</th>\n",
       "    </tr>\n",
       "  </thead>\n",
       "  <tbody>\n",
       "    <tr>\n",
       "      <th>0</th>\n",
       "      <td>1000</td>\n",
       "      <td>159</td>\n",
       "      <td>22</td>\n",
       "      <td>3.0</td>\n",
       "      <td>Краснодар</td>\n",
       "      <td>ultra</td>\n",
       "      <td>1950.0</td>\n",
       "    </tr>\n",
       "    <tr>\n",
       "      <th>1</th>\n",
       "      <td>1000</td>\n",
       "      <td>172</td>\n",
       "      <td>60</td>\n",
       "      <td>23.0</td>\n",
       "      <td>Краснодар</td>\n",
       "      <td>ultra</td>\n",
       "      <td>1950.0</td>\n",
       "    </tr>\n",
       "    <tr>\n",
       "      <th>2</th>\n",
       "      <td>1000</td>\n",
       "      <td>340</td>\n",
       "      <td>75</td>\n",
       "      <td>14.0</td>\n",
       "      <td>Краснодар</td>\n",
       "      <td>ultra</td>\n",
       "      <td>1950.0</td>\n",
       "    </tr>\n",
       "    <tr>\n",
       "      <th>3</th>\n",
       "      <td>1000</td>\n",
       "      <td>408</td>\n",
       "      <td>81</td>\n",
       "      <td>14.0</td>\n",
       "      <td>Краснодар</td>\n",
       "      <td>ultra</td>\n",
       "      <td>1950.0</td>\n",
       "    </tr>\n",
       "    <tr>\n",
       "      <th>4</th>\n",
       "      <td>1000</td>\n",
       "      <td>466</td>\n",
       "      <td>57</td>\n",
       "      <td>15.0</td>\n",
       "      <td>Краснодар</td>\n",
       "      <td>ultra</td>\n",
       "      <td>1950.0</td>\n",
       "    </tr>\n",
       "    <tr>\n",
       "      <th>...</th>\n",
       "      <td>...</td>\n",
       "      <td>...</td>\n",
       "      <td>...</td>\n",
       "      <td>...</td>\n",
       "      <td>...</td>\n",
       "      <td>...</td>\n",
       "      <td>...</td>\n",
       "    </tr>\n",
       "    <tr>\n",
       "      <th>2662</th>\n",
       "      <td>1498</td>\n",
       "      <td>247</td>\n",
       "      <td>42</td>\n",
       "      <td>21.0</td>\n",
       "      <td>Владикавказ</td>\n",
       "      <td>smart</td>\n",
       "      <td>1750.0</td>\n",
       "    </tr>\n",
       "    <tr>\n",
       "      <th>2663</th>\n",
       "      <td>1499</td>\n",
       "      <td>70</td>\n",
       "      <td>11</td>\n",
       "      <td>2.0</td>\n",
       "      <td>Пермь</td>\n",
       "      <td>smart</td>\n",
       "      <td>550.0</td>\n",
       "    </tr>\n",
       "    <tr>\n",
       "      <th>2664</th>\n",
       "      <td>1499</td>\n",
       "      <td>449</td>\n",
       "      <td>48</td>\n",
       "      <td>18.0</td>\n",
       "      <td>Пермь</td>\n",
       "      <td>smart</td>\n",
       "      <td>1150.0</td>\n",
       "    </tr>\n",
       "    <tr>\n",
       "      <th>2665</th>\n",
       "      <td>1499</td>\n",
       "      <td>612</td>\n",
       "      <td>59</td>\n",
       "      <td>18.0</td>\n",
       "      <td>Пермь</td>\n",
       "      <td>smart</td>\n",
       "      <td>1513.0</td>\n",
       "    </tr>\n",
       "    <tr>\n",
       "      <th>2666</th>\n",
       "      <td>1499</td>\n",
       "      <td>492</td>\n",
       "      <td>66</td>\n",
       "      <td>13.0</td>\n",
       "      <td>Пермь</td>\n",
       "      <td>smart</td>\n",
       "      <td>598.0</td>\n",
       "    </tr>\n",
       "  </tbody>\n",
       "</table>\n",
       "<p>2667 rows × 7 columns</p>\n",
       "</div>"
      ],
      "text/plain": [
       "      user_id  call  message  trafic         city tariff  profit\n",
       "0        1000   159       22     3.0    Краснодар  ultra  1950.0\n",
       "1        1000   172       60    23.0    Краснодар  ultra  1950.0\n",
       "2        1000   340       75    14.0    Краснодар  ultra  1950.0\n",
       "3        1000   408       81    14.0    Краснодар  ultra  1950.0\n",
       "4        1000   466       57    15.0    Краснодар  ultra  1950.0\n",
       "...       ...   ...      ...     ...          ...    ...     ...\n",
       "2662     1498   247       42    21.0  Владикавказ  smart  1750.0\n",
       "2663     1499    70       11     2.0        Пермь  smart   550.0\n",
       "2664     1499   449       48    18.0        Пермь  smart  1150.0\n",
       "2665     1499   612       59    18.0        Пермь  smart  1513.0\n",
       "2666     1499   492       66    13.0        Пермь  smart   598.0\n",
       "\n",
       "[2667 rows x 7 columns]"
      ]
     },
     "execution_count": 45,
     "metadata": {},
     "output_type": "execute_result"
    }
   ],
   "source": [
    "#нахождение помесячной выручки с помощью метода apply()\n",
    "data_profit=data.apply(money,axis=1)\n",
    "data['profit']=data_profit\n",
    "data"
   ]
  },
  {
   "cell_type": "markdown",
   "id": "875b0932",
   "metadata": {},
   "source": [
    "<div class=\"alert alert-block alert-danger\">\n",
    "<h3> Комментарий ревьюера: Антон Оленев <a class=\"tocSkip\"/></h3>\n",
    "\n",
    "    \n",
    "<b>🤔 На доработку :</b> пользователь 1000 не пользовался никакими услугами в 1, 2 , 3 и 4 месяце. Скорее всего он не был еще подключен, но ему начислена абоненсткая плата. Скорее всего где-то есть ошибка в вычислениях\n",
    "</div>\n",
    "    "
   ]
  },
  {
   "cell_type": "markdown",
   "id": "46fd96de",
   "metadata": {},
   "source": [
    "<div class=\"alert alert-block alert-info\">\n",
    "<b>Комментарий студента:</b> Исправил выше.</div>"
   ]
  },
  {
   "cell_type": "markdown",
   "id": "f3364722",
   "metadata": {},
   "source": [
    "<div class=\"alert alert-success\">\n",
    "    <h3> Комментарий ревьюера: Антон Оленев <a class=\"tocSkip\"> </h3>\n",
    "    \n",
    "<b>✅ Все отлично!:</b> 👌\n",
    "</div>"
   ]
  },
  {
   "cell_type": "markdown",
   "id": "1d831694",
   "metadata": {},
   "source": [
    "### Вывод"
   ]
  },
  {
   "cell_type": "markdown",
   "id": "46581f21",
   "metadata": {},
   "source": [
    "Тип данных в необходимом месте исправлен. Таблицы для разных показателей по месяцам для каждого пользователя были сделаны для их анализа."
   ]
  },
  {
   "cell_type": "markdown",
   "id": "6a544415",
   "metadata": {},
   "source": [
    "## Анализ данных"
   ]
  },
  {
   "cell_type": "code",
   "execution_count": 46,
   "id": "d1514fdd",
   "metadata": {},
   "outputs": [],
   "source": [
    "#значения количества минут для пользователей тарифа ultra\n",
    "minutes_user_ultra=data[data['tariff']=='ultra']['call']\n",
    "#значения количества минут для пользователей тарифа smart в декабре\n",
    "minutes_user_smart=data[data['tariff']=='smart']['call']\n",
    "#значения количества сообщений для пользователей тарифа ultra в декабре\n",
    "message_user_ultra=data[data['tariff']=='ultra']['message']\n",
    "#значения количества сообщений для пользователей тарифа smart в декабре\n",
    "message_user_smart=data[data['tariff']=='smart']['message']\n",
    "#значения объем интернет-трафика для пользователей тарифа ultra в декабре\n",
    "trafic_user_ultra=data[data['tariff']=='ultra']['trafic']\n",
    "#значения объем интернет-трафика для пользователей тарифа smart в декабре\n",
    "trafic_user_smart=data[data['tariff']=='smart']['trafic']"
   ]
  },
  {
   "cell_type": "markdown",
   "id": "d427fe8a",
   "metadata": {},
   "source": [
    "<div class=\"alert alert-warning\">\n",
    "<h3> Комментарий ревьюера: Антон Оленев <a class=\"tocSkip\"> </h3>\n",
    "        \n",
    "<b>💡 Некоторые замечания и рекомендации:</b> этот код тоже можно было бы переписать короче и без использовать циклов for, и констант 1000 и 12\n",
    "        \n",
    "</div>"
   ]
  },
  {
   "cell_type": "markdown",
   "id": "942d1110",
   "metadata": {},
   "source": [
    "<div class=\"alert alert-block alert-info\">\n",
    "<b>Комментарий студента:</b> Не очень понял каким образом. Мне же нужно взять один конкретный месяц, как я понял? Возможно код можно переписать с помощью среза(попробовал, не получилось)? Или объединением трех таблиц и применением метода query()?</div>"
   ]
  },
  {
   "cell_type": "markdown",
   "id": "464cc1aa",
   "metadata": {},
   "source": [
    "<div class=\"alert alert-block alert-danger\">\n",
    "<h3> Комментарий ревьюера V2: Антон Оленев <a class=\"tocSkip\"/></h3>\n",
    "\n",
    "    \n",
    "<b>🤔 На доработку :</b> нет, надо взять не один конкретный, а среднее за все месяцы.\n",
    "Вот от такой констуркции можно избавиться, если обединить таблицу *_user_month с таблицей tarrifs заранее с помощью join.\n",
    "    if (data_users['tariff'][j-1000]=='ultra'\n",
    "</div>\n",
    "    "
   ]
  },
  {
   "cell_type": "markdown",
   "id": "5e2c757b",
   "metadata": {},
   "source": [
    "<div class=\"alert alert-block alert-info\">\n",
    "<b>Комментарий студента:</b> Подправил сверху.</div>"
   ]
  },
  {
   "cell_type": "code",
   "execution_count": 47,
   "id": "217b9692",
   "metadata": {},
   "outputs": [],
   "source": [
    "tarif_columns=['tarif','mean_min','std_min','var_min','mean_mess','std_mess','var_mess','mean_traf','std_traf','var_traf']\n",
    "ultra_table=['ultra',np.mean(minutes_user_ultra),np.std(minutes_user_ultra),np.var(minutes_user_ultra),\n",
    "             np.mean(message_user_ultra),np.std(message_user_ultra),np.var(message_user_ultra),\n",
    "             np.mean(trafic_user_ultra),np.std(trafic_user_ultra),np.var(trafic_user_ultra)]\n",
    "smart_table=['smart',np.mean(minutes_user_smart),np.std(minutes_user_smart),np.var(minutes_user_smart),\n",
    "             np.mean(message_user_smart),np.std(message_user_smart),np.var(message_user_smart),\n",
    "             np.mean(trafic_user_smart),np.std(trafic_user_smart),np.var(trafic_user_smart)]"
   ]
  },
  {
   "cell_type": "code",
   "execution_count": 48,
   "id": "0b7b30b1",
   "metadata": {},
   "outputs": [
    {
     "data": {
      "text/plain": [
       "{'tarif': ['ultra', 'smart'],\n",
       " 'mean_min': [556.8577127659574, 421.0349869451697],\n",
       " 'std_min': [311.6553857843397, 187.66378838345642],\n",
       " 'var_min': [97129.07948838561, 35217.697470430714],\n",
       " 'mean_mess': [61.640957446808514, 38.76710182767624],\n",
       " 'std_mess': [44.78704128616228, 26.803512175995547],\n",
       " 'var_mess': [2005.8790671684044, 718.4282649687415],\n",
       " 'mean_traf': [19.618351063829788, 16.362924281984334],\n",
       " 'std_traf': [9.38164422395345, 5.669798492651207],\n",
       " 'var_traf': [88.01524834483911, 32.1466149472699]}"
      ]
     },
     "execution_count": 48,
     "metadata": {},
     "output_type": "execute_result"
    }
   ],
   "source": [
    "#создание датафрейма по различным показателям для анализа данных\n",
    "tarif_data={tarif_columns[i]:[ultra_table[i],smart_table[i]] for i in range(len(tarif_columns))}\n",
    "tarif_data"
   ]
  },
  {
   "cell_type": "code",
   "execution_count": 49,
   "id": "1a32c488",
   "metadata": {
    "scrolled": true
   },
   "outputs": [
    {
     "data": {
      "text/html": [
       "<div>\n",
       "<style scoped>\n",
       "    .dataframe tbody tr th:only-of-type {\n",
       "        vertical-align: middle;\n",
       "    }\n",
       "\n",
       "    .dataframe tbody tr th {\n",
       "        vertical-align: top;\n",
       "    }\n",
       "\n",
       "    .dataframe thead th {\n",
       "        text-align: right;\n",
       "    }\n",
       "</style>\n",
       "<table border=\"1\" class=\"dataframe\">\n",
       "  <thead>\n",
       "    <tr style=\"text-align: right;\">\n",
       "      <th></th>\n",
       "      <th>tarif</th>\n",
       "      <th>mean_min</th>\n",
       "      <th>std_min</th>\n",
       "      <th>var_min</th>\n",
       "      <th>mean_mess</th>\n",
       "      <th>std_mess</th>\n",
       "      <th>var_mess</th>\n",
       "      <th>mean_traf</th>\n",
       "      <th>std_traf</th>\n",
       "      <th>var_traf</th>\n",
       "    </tr>\n",
       "  </thead>\n",
       "  <tbody>\n",
       "    <tr>\n",
       "      <th>0</th>\n",
       "      <td>ultra</td>\n",
       "      <td>556.857713</td>\n",
       "      <td>311.655386</td>\n",
       "      <td>97129.079488</td>\n",
       "      <td>61.640957</td>\n",
       "      <td>44.787041</td>\n",
       "      <td>2005.879067</td>\n",
       "      <td>19.618351</td>\n",
       "      <td>9.381644</td>\n",
       "      <td>88.015248</td>\n",
       "    </tr>\n",
       "    <tr>\n",
       "      <th>1</th>\n",
       "      <td>smart</td>\n",
       "      <td>421.034987</td>\n",
       "      <td>187.663788</td>\n",
       "      <td>35217.697470</td>\n",
       "      <td>38.767102</td>\n",
       "      <td>26.803512</td>\n",
       "      <td>718.428265</td>\n",
       "      <td>16.362924</td>\n",
       "      <td>5.669798</td>\n",
       "      <td>32.146615</td>\n",
       "    </tr>\n",
       "  </tbody>\n",
       "</table>\n",
       "</div>"
      ],
      "text/plain": [
       "   tarif    mean_min     std_min       var_min  mean_mess   std_mess  \\\n",
       "0  ultra  556.857713  311.655386  97129.079488  61.640957  44.787041   \n",
       "1  smart  421.034987  187.663788  35217.697470  38.767102  26.803512   \n",
       "\n",
       "      var_mess  mean_traf  std_traf   var_traf  \n",
       "0  2005.879067  19.618351  9.381644  88.015248  \n",
       "1   718.428265  16.362924  5.669798  32.146615  "
      ]
     },
     "execution_count": 49,
     "metadata": {},
     "output_type": "execute_result"
    }
   ],
   "source": [
    "tarif_table=pd.DataFrame(tarif_data)\n",
    "tarif_table.head()"
   ]
  },
  {
   "cell_type": "markdown",
   "id": "e8f1d7c7",
   "metadata": {},
   "source": [
    "### Построение гистограмм"
   ]
  },
  {
   "cell_type": "code",
   "execution_count": 50,
   "id": "f526bb89",
   "metadata": {},
   "outputs": [
    {
     "data": {
      "text/plain": [
       "<AxesSubplot:title={'center':'Длительность разговора по тарифу ultra'}, xlabel='Минуты', ylabel='Количество людей'>"
      ]
     },
     "execution_count": 50,
     "metadata": {},
     "output_type": "execute_result"
    },
    {
     "data": {
      "image/png": "[encoded data removed]",
      "text/plain": [
       "<Figure size 936x504 with 1 Axes>"
      ]
     },
     "metadata": {
      "needs_background": "light"
     },
     "output_type": "display_data"
    }
   ],
   "source": [
    "import matplotlib.pyplot as plt\n",
    "\n",
    "pd.Series(minutes_user_ultra).hist(bins=50, figsize=(13, 7), range=(0, 3000),alpha=0.7)\n",
    "\n",
    "plt.title('Длительность разговора по тарифу ultra')\n",
    "plt.xlabel('Минуты')\n",
    "plt.ylabel('Количество людей')\n",
    "\n",
    "None\n",
    "\n",
    "pd.Series(minutes_user_smart).hist(bins=50, figsize=(13, 7), range=(0, 2000),alpha=0.7)"
   ]
  },
  {
   "cell_type": "markdown",
   "id": "071b0449",
   "metadata": {},
   "source": [
    "Вверху на графиках представлено гамма-распределение."
   ]
  },
  {
   "cell_type": "markdown",
   "id": "ef97ab34",
   "metadata": {},
   "source": [
    "<div class=\"alert alert-warning\">\n",
    "<h3> Комментарий ревьюера: Антон Оленев <a class=\"tocSkip\"> </h3>\n",
    "        \n",
    "<b>💡 Некоторые замечания и рекомендации:</b> графики правильные, но для возможно лучше построить эти распределения на одно графике, разными цветами ,чтобы увидеть разницу между тарифами.\n",
    "        \n",
    "</div>"
   ]
  },
  {
   "cell_type": "markdown",
   "id": "4b504704",
   "metadata": {},
   "source": [
    "<div class=\"alert alert-block alert-info\">\n",
    "<b>Комментарий студента:</b> Буду иметь в виду.</div>"
   ]
  },
  {
   "cell_type": "markdown",
   "id": "d381df4b",
   "metadata": {},
   "source": [
    "<div class=\"alert alert-warning\">\n",
    "<h3> Комментарий ревьюера: Антон Оленев <a class=\"tocSkip\"> </h3>\n",
    "        \n",
    "<b>💡 Некоторые замечания и рекомендации:</b> можно ли добавить комментарий, почему именно гамма?\n",
    "        \n",
    "</div>"
   ]
  },
  {
   "cell_type": "markdown",
   "id": "e47ef63c",
   "metadata": {},
   "source": [
    "<div class=\"alert alert-block alert-info\">\n",
    "<b>Комментарий студента:</b> Смотрел шпоргалку по распределениям. Определял названия распределений только смотря на график. И два графика выше были похожи на гамма. Правильно ли я рассуждаю?</div>"
   ]
  },
  {
   "cell_type": "markdown",
   "id": "f5f3d6d7",
   "metadata": {},
   "source": [
    "<div class=\"alert alert-warning\">\n",
    "<h3> Комментарий ревьюера: Антон Оленев <a class=\"tocSkip\"> </h3>\n",
    "        \n",
    "<b>💡 Некоторые замечания и рекомендации:</b> ну строго сказать что это точно гамма или нормально можно если использовать стат.тесты - https://ru.wikipedia.org/wiki/%D0%9A%D1%80%D0%B8%D1%82%D0%B5%D1%80%D0%B8%D0%B9_%D1%81%D0%BE%D0%B3%D0%BB%D0%B0%D1%81%D0%B8%D1%8F_%D0%9A%D0%BE%D0%BB%D0%BC%D0%BE%D0%B3%D0%BE%D1%80%D0%BE%D0%B2%D0%B0, только по картинке графика - это скорее оценочное суждение )\n",
    "        \n",
    "</div>"
   ]
  },
  {
   "cell_type": "code",
   "execution_count": 51,
   "id": "0d960274",
   "metadata": {},
   "outputs": [
    {
     "data": {
      "text/plain": [
       "<AxesSubplot:title={'center':'Количество сообщений по тарифу ultra'}, xlabel='Сообщения', ylabel='Количество людей'>"
      ]
     },
     "execution_count": 51,
     "metadata": {},
     "output_type": "execute_result"
    },
    {
     "data": {
      "image/png": "[encoded data removed]",
      "text/plain": [
       "<Figure size 936x504 with 1 Axes>"
      ]
     },
     "metadata": {
      "needs_background": "light"
     },
     "output_type": "display_data"
    }
   ],
   "source": [
    "pd.Series(message_user_ultra).hist(bins=30, figsize=(13, 7), range=(0, 300),alpha=0.5)\n",
    "\n",
    "plt.title('Количество сообщений по тарифу ultra')\n",
    "plt.xlabel('Сообщения')\n",
    "plt.ylabel('Количество людей')\n",
    "\n",
    "None\n",
    "\n",
    "pd.Series(message_user_smart).hist(bins=50, figsize=(13, 7), range=(0, 250),alpha=0.5)"
   ]
  },
  {
   "cell_type": "markdown",
   "id": "22304bb2",
   "metadata": {},
   "source": [
    "Вверху на графиках представлено распределение хи-квадрат."
   ]
  },
  {
   "cell_type": "code",
   "execution_count": 52,
   "id": "db17bb3f",
   "metadata": {},
   "outputs": [
    {
     "data": {
      "text/plain": [
       "<AxesSubplot:title={'center':'Объем интернет-трафика по тарифу ultra'}, xlabel='Объем', ylabel='Количество людей'>"
      ]
     },
     "execution_count": 52,
     "metadata": {},
     "output_type": "execute_result"
    },
    {
     "data": {
      "image/png": "[encoded data removed]",
      "text/plain": [
       "<Figure size 936x504 with 1 Axes>"
      ]
     },
     "metadata": {
      "needs_background": "light"
     },
     "output_type": "display_data"
    }
   ],
   "source": [
    "pd.Series(trafic_user_ultra).hist(bins=30, figsize=(13, 7), range=(0, 200),alpha=0.5)\n",
    "\n",
    "plt.title('Объем интернет-трафика по тарифу ultra')\n",
    "plt.xlabel('Объем')\n",
    "plt.ylabel('Количество людей')\n",
    "\n",
    "None\n",
    "\n",
    "pd.Series(trafic_user_smart).hist(bins=30, figsize=(13, 7), range=(0, 200),alpha=0.5)"
   ]
  },
  {
   "cell_type": "markdown",
   "id": "0f5b8d02",
   "metadata": {},
   "source": [
    "Вверху на графиках представлено нормальное распределение."
   ]
  },
  {
   "cell_type": "markdown",
   "id": "6418fa68",
   "metadata": {},
   "source": [
    "<div class=\"alert alert-success\">\n",
    "    <h3> Комментарий ревьюера: Антон Оленев <a class=\"tocSkip\"> </h3>\n",
    "    \n",
    "<b>✅ Все отлично!:</b> графики хорошие, интересно, как определял тип распределений, и попробовать отобразить на одном графике параметры для обоих тарифов одновременно\n",
    "</div>"
   ]
  },
  {
   "cell_type": "markdown",
   "id": "f8af0fa9",
   "metadata": {},
   "source": [
    "### Вывод"
   ]
  },
  {
   "cell_type": "markdown",
   "id": "9c575841",
   "metadata": {},
   "source": [
    "Средний показатель количества израсходованных минут и сообщений больше у тарифа ultra. Средний объем интернет-трафика у тарифа smart немного выше, чем у тарифа ultra. Стандартное отклонение и дисперсия по всем показателям выше у тарифа ultra. "
   ]
  },
  {
   "cell_type": "markdown",
   "id": "20719cf7",
   "metadata": {},
   "source": [
    "## Проверка гипотез"
   ]
  },
  {
   "cell_type": "markdown",
   "id": "ec826bac",
   "metadata": {},
   "source": [
    "Пусть p - средняя выручка пользователей тарифа «Ультра», m - средняя выручка пользователей тарифа «Смарт». Сформулируем гипотезу \"средняя выручка пользователей тарифов «Ультра» и «Смарт» различаются\" таким образом:\n",
    " H0 - p=m;\n",
    " H1 - p≠m"
   ]
  },
  {
   "cell_type": "code",
   "execution_count": 60,
   "id": "35cf12dc",
   "metadata": {},
   "outputs": [
    {
     "data": {
      "text/html": [
       "<div>\n",
       "<style scoped>\n",
       "    .dataframe tbody tr th:only-of-type {\n",
       "        vertical-align: middle;\n",
       "    }\n",
       "\n",
       "    .dataframe tbody tr th {\n",
       "        vertical-align: top;\n",
       "    }\n",
       "\n",
       "    .dataframe thead th {\n",
       "        text-align: right;\n",
       "    }\n",
       "</style>\n",
       "<table border=\"1\" class=\"dataframe\">\n",
       "  <thead>\n",
       "    <tr style=\"text-align: right;\">\n",
       "      <th></th>\n",
       "      <th>profit</th>\n",
       "    </tr>\n",
       "    <tr>\n",
       "      <th>user_id</th>\n",
       "      <th></th>\n",
       "    </tr>\n",
       "  </thead>\n",
       "  <tbody>\n",
       "    <tr>\n",
       "      <th>1002</th>\n",
       "      <td>1035.714286</td>\n",
       "    </tr>\n",
       "    <tr>\n",
       "      <th>1005</th>\n",
       "      <td>827.000000</td>\n",
       "    </tr>\n",
       "    <tr>\n",
       "      <th>1007</th>\n",
       "      <td>913.444444</td>\n",
       "    </tr>\n",
       "    <tr>\n",
       "      <th>1008</th>\n",
       "      <td>568.000000</td>\n",
       "    </tr>\n",
       "    <tr>\n",
       "      <th>1009</th>\n",
       "      <td>1310.000000</td>\n",
       "    </tr>\n",
       "    <tr>\n",
       "      <th>...</th>\n",
       "      <td>...</td>\n",
       "    </tr>\n",
       "    <tr>\n",
       "      <th>1492</th>\n",
       "      <td>1803.142857</td>\n",
       "    </tr>\n",
       "    <tr>\n",
       "      <th>1496</th>\n",
       "      <td>2362.583333</td>\n",
       "    </tr>\n",
       "    <tr>\n",
       "      <th>1497</th>\n",
       "      <td>928.333333</td>\n",
       "    </tr>\n",
       "    <tr>\n",
       "      <th>1498</th>\n",
       "      <td>1659.000000</td>\n",
       "    </tr>\n",
       "    <tr>\n",
       "      <th>1499</th>\n",
       "      <td>952.750000</td>\n",
       "    </tr>\n",
       "  </tbody>\n",
       "</table>\n",
       "<p>301 rows × 1 columns</p>\n",
       "</div>"
      ],
      "text/plain": [
       "              profit\n",
       "user_id             \n",
       "1002     1035.714286\n",
       "1005      827.000000\n",
       "1007      913.444444\n",
       "1008      568.000000\n",
       "1009     1310.000000\n",
       "...              ...\n",
       "1492     1803.142857\n",
       "1496     2362.583333\n",
       "1497      928.333333\n",
       "1498     1659.000000\n",
       "1499      952.750000\n",
       "\n",
       "[301 rows x 1 columns]"
      ]
     },
     "execution_count": 60,
     "metadata": {},
     "output_type": "execute_result"
    }
   ],
   "source": [
    "#создание датафрейма с определеными столбцами, необходимые для определения средней выручки в месяц для каждого пользователя\n",
    "data_hyp_first=pd.DataFrame(data,columns=['user_id','profit','tariff'])\n",
    "#таблица для пользователей с тарифом ultra\n",
    "data_ultra=data_hyp_first[data_hyp_first['tariff']=='ultra']\n",
    "profit_ultra=data_ultra.groupby(by='user_id').mean()\n",
    "\n",
    "#таблица для пользователей с тарифом smart\n",
    "data_smart=data_hyp_first[data_hyp_first['tariff']=='smart']\n",
    "profit_smart=data_smart.groupby(by='user_id').mean()\n",
    "profit_smart"
   ]
  },
  {
   "cell_type": "code",
   "execution_count": 54,
   "id": "f20121e0",
   "metadata": {},
   "outputs": [],
   "source": [
    "#проверка 0-й гипотезы\n",
    "hyp0=st.ttest_ind(profit_ultra['profit'],profit_smart['profit'])"
   ]
  },
  {
   "cell_type": "markdown",
   "id": "bc66acef",
   "metadata": {},
   "source": [
    "<div class=\"alert alert-block alert-danger\">\n",
    "<h3> Комментарий ревьюера: Антон Оленев <a class=\"tocSkip\"/></h3>\n",
    "\n",
    "    \n",
    "<b>🤔 На доработку :</b> здесь лучше использовать не for, а объединение двух датафреймов, и потом `.query()` или срез через []\n",
    "</div>\n",
    "    "
   ]
  },
  {
   "cell_type": "markdown",
   "id": "453a9770",
   "metadata": {},
   "source": [
    "<div class=\"alert alert-block alert-info\">\n",
    "<b>Комментарий студента:</b> Исправил.</div>"
   ]
  },
  {
   "cell_type": "markdown",
   "id": "21e92ada",
   "metadata": {},
   "source": [
    "<div class=\"alert alert-block alert-danger\">\n",
    "<h3> Комментарий ревьюера V2: Антон Оленев <a class=\"tocSkip\"/></h3>\n",
    "\n",
    "    \n",
    "<b>🤔 На доработку :</b> скорее всего комерческому отделу интересно сколько в среднем пользователь тратит в месяц, и сравнение этой величины. Сейчас в тесте проверяется суммарные траты пользователя за весь период обслуживания.\n",
    "</div>\n",
    "    "
   ]
  },
  {
   "cell_type": "markdown",
   "id": "ed8fa8d7",
   "metadata": {},
   "source": [
    "<div class=\"alert alert-block alert-info\">\n",
    "<b>Комментарий студента:</b> Вроде исправил.</div>"
   ]
  },
  {
   "cell_type": "code",
   "execution_count": 55,
   "id": "9a49282c",
   "metadata": {},
   "outputs": [
    {
     "data": {
      "text/plain": [
       "6.912056487470472e-27"
      ]
     },
     "execution_count": 55,
     "metadata": {},
     "output_type": "execute_result"
    }
   ],
   "source": [
    "#p-value 0-й гиоптезы\n",
    "hyp0.pvalue "
   ]
  },
  {
   "cell_type": "markdown",
   "id": "7977bc31",
   "metadata": {},
   "source": [
    "Можно установить пороговое значени pvalue, как 5%. Значение pvalue показывает, что вероятность равенства двух показателей в разы меньше этого процента. Это значит, что 0-я гипотеза отвергается."
   ]
  },
  {
   "cell_type": "code",
   "execution_count": 56,
   "id": "ff559d65",
   "metadata": {},
   "outputs": [
    {
     "name": "stdout",
     "output_type": "stream",
     "text": [
      "2066.660154816934\n",
      "1339.8896012809632\n"
     ]
    }
   ],
   "source": [
    "#средние значения выручки разных тарифов\n",
    "print(np.mean(profit_ultra['profit']))\n",
    "print(np.mean(profit_smart['profit']))"
   ]
  },
  {
   "cell_type": "markdown",
   "id": "9b50c92c",
   "metadata": {},
   "source": [
    "<div class=\"alert alert-block alert-danger\">\n",
    "<h3> Комментарий ревьюера: Антон Оленев <a class=\"tocSkip\"/></h3>\n",
    "\n",
    "    \n",
    "<b>🤔 На доработку :</b> среднее значение выручки 35000 кажется слишком большим. Не было ли ошибки в вычислениях ранее?\n",
    "</div>\n",
    "    "
   ]
  },
  {
   "cell_type": "markdown",
   "id": "d8c66cfd",
   "metadata": {},
   "source": [
    "<div class=\"alert alert-block alert-info\">\n",
    "<b>Комментарий студента:</b> Кажется, сейчас как надо)</div>"
   ]
  },
  {
   "cell_type": "markdown",
   "id": "6c1abfec",
   "metadata": {},
   "source": [
    "<div class=\"alert alert-block alert-danger\">\n",
    "<h3> Комментарий ревьюера V2: Антон Оленев <a class=\"tocSkip\"/></h3>\n",
    "\n",
    "    \n",
    "<b>🤔 На доработку :</b> уже лучше ) Но средняя выручка - это сколько в среднем пользователь тратит в месяц, а сейчас - средняя выручка за все время жизни, которое у разных абонентов разное.\n",
    "</div>\n",
    "    "
   ]
  },
  {
   "cell_type": "markdown",
   "id": "e43303d9",
   "metadata": {},
   "source": [
    "<div class=\"alert alert-block alert-info\">\n",
    "<b>Комментарий студента:</b> Понятно, теперь выглядит правдоподобно</div>"
   ]
  },
  {
   "cell_type": "markdown",
   "id": "6d00a6cf",
   "metadata": {},
   "source": [
    "<div class=\"alert alert-success\">\n",
    "    <h3> Комментарий ревьюера: Антон Оленев <a class=\"tocSkip\"> </h3>\n",
    "    \n",
    "<b>✅ Все отлично!:</b> теперь - 👍\n",
    "</div>"
   ]
  },
  {
   "cell_type": "markdown",
   "id": "b1fa5d40",
   "metadata": {},
   "source": [
    "Пусть p - средняя выручка пользователей из Москвы, m - средняя выручка пользователей из других регионов. Сформулируем гипотезу \"средняя выручка пользователей из Москвы отличается от выручки пользователей из других регионов\" таким образом: H0 - p=m; H1 - p≠m"
   ]
  },
  {
   "cell_type": "code",
   "execution_count": 57,
   "id": "f1aa0c53",
   "metadata": {},
   "outputs": [],
   "source": [
    "#проверка 0-й гипотезы\n",
    "#создание датафрейма с определеными столбцами, необходимые для определения средней выручки в месяц для каждого пользователя\n",
    "data_hyp_second=pd.DataFrame(data,columns=['user_id','profit','city'])\n",
    "#таблица для пользователей из Москвы\n",
    "msk=data_hyp_second[data_hyp_second['city']=='Москва']\n",
    "msk=msk.groupby(by='user_id').mean()\n",
    "#таблица для пользователей из других городов\n",
    "russia=data_hyp_second[data_hyp_second['city']!='Москва']\n",
    "russia=russia.groupby(by='user_id').mean()\n",
    "hyp0=st.ttest_ind(msk['profit'],russia['profit'])"
   ]
  },
  {
   "cell_type": "markdown",
   "id": "c0278376",
   "metadata": {},
   "source": [
    "<div class=\"alert alert-block alert-danger\">\n",
    "<h3> Комментарий ревьюера V2: Антон Оленев <a class=\"tocSkip\"/></h3>\n",
    "\n",
    "    \n",
    "<b>🤔 На доработку :</b> тут тоже конструкции с for излишни. Например выше была таблица t, где в одной таблице есть и city, и тариф, и summary. Можно использовать её + метод query()\n",
    "</div>\n",
    "    "
   ]
  },
  {
   "cell_type": "markdown",
   "id": "6bac4e6c",
   "metadata": {},
   "source": [
    "<div class=\"alert alert-block alert-info\">\n",
    "<b>Комментарий студента:</b> Немного по-другому подправил.</div>"
   ]
  },
  {
   "cell_type": "markdown",
   "id": "18e8130a",
   "metadata": {},
   "source": [
    "<div class=\"alert alert-success\">\n",
    "    <h3> Комментарий ревьюера: Антон Оленев <a class=\"tocSkip\"> </h3>\n",
    "    \n",
    "<b>✅ Все отлично!:</b> 👍\n",
    "</div>"
   ]
  },
  {
   "cell_type": "code",
   "execution_count": 58,
   "id": "a6a7899e",
   "metadata": {},
   "outputs": [
    {
     "data": {
      "text/plain": [
       "0.7415919397208204"
      ]
     },
     "execution_count": 58,
     "metadata": {},
     "output_type": "execute_result"
    }
   ],
   "source": [
    "#p-value 0-й гиоптезы\n",
    "hyp0.pvalue"
   ]
  },
  {
   "cell_type": "markdown",
   "id": "425ae810",
   "metadata": {},
   "source": [
    "Значение pvalue показывает, что вероятность равенства двух показателей составляет чуть больше 74%. Это значит, что 0-я гипотеза не отвергается."
   ]
  },
  {
   "cell_type": "markdown",
   "id": "66f2b0c4",
   "metadata": {},
   "source": [
    "<div class=\"alert alert-success\">\n",
    "    <h3> Комментарий ревьюера: Антон Оленев <a class=\"tocSkip\"> </h3>\n",
    "    \n",
    "<b>✅ Все отлично!:</b> вывод правильный, но надо проверить останется ли он таким-же после исправления подсчетов ранее )\n",
    "</div>"
   ]
  },
  {
   "cell_type": "markdown",
   "id": "1077072b",
   "metadata": {},
   "source": [
    "### Вывод"
   ]
  },
  {
   "cell_type": "markdown",
   "id": "22a49f47",
   "metadata": {},
   "source": [
    "Средняя выручка пользователей тарифов 'Смарт' и 'Ультра' действительно отличаются. Гипотезу, что средняя выручка пользователей из Москвы отличается от пользователей из других регионов, удалось отвергнуть. \n",
    "Использовал метод ttest_1samp(), т.к. он проверят двустороннюю гипотезу."
   ]
  },
  {
   "cell_type": "markdown",
   "id": "81d7094e",
   "metadata": {},
   "source": [
    "## Общий вывод"
   ]
  },
  {
   "cell_type": "markdown",
   "id": "614da301",
   "metadata": {},
   "source": [
    "Средний показатель количества израсходованных минут, сообщений и объема интернет-трафика больше у тарифа ultra. Среднее значение выручки тарифа ultra выше, чем у тарифа smart, а значит можно сделать вывод, что тариф ultra приносит больше прибыли и он более предпочтителен для пользователей."
   ]
  },
  {
   "cell_type": "markdown",
   "id": "752c78d3",
   "metadata": {},
   "source": [
    "<div class=\"alert alert-info\">\n",
    "\n",
    "<b>Итого V1!</b>\n",
    "\n",
    "В общем работа хорошая, выводы по гипотезам верные, но были допущены ошибки при округлении трафиика, и не самая оптимальная работа с данными, через констркуции for.\n",
    "\n",
    "- проверить данные на дубликаты\n",
    "- исправить округление траффика, выполнять его только по результатам суммирования данных за месяц.\n",
    "- я бы посоветовал использовать немного другую структуру данных, со слеующими столбцами. Это во многих местах упростит вычисления и код.\n",
    "    \n",
    "    ['user_id', 'month', 'calls', ... , 'tariff', 'rub_per_minute' .... ]\n",
    "- проверить вычисление mean в разделе проверки гипотез, оно выглядит слишком большим.\n",
    "</div>"
   ]
  },
  {
   "cell_type": "markdown",
   "id": "05b4293c",
   "metadata": {},
   "source": [
    "<div class=\"alert alert-block alert-info\">\n",
    "<b>Комментарий студента:</b> Спасибо большое за рекомендации. Очень полезно для меня! Надеюсь исправил ошибки, как нужно.</div>"
   ]
  },
  {
   "cell_type": "markdown",
   "id": "612c1ee1",
   "metadata": {},
   "source": [
    "<div class=\"alert alert-info\">\n",
    "\n",
    "<b>Итого V2!</b>\n",
    "\n",
    "Стало гораздо лучше ) Остались замечания\n",
    "- перед проверкой гипотез надо посчитать среднее значение выручки в месяц\n",
    "- вместо конструкций вида\n",
    "    \n",
    "    russia=[data_profit['summary'][j-1000] for j in data_users['user_id'] if data_users['city'][j-1000]!='Москва']\n",
    "\n",
    "использовать объединение таблиц, и потом методе query(), как с таблицей t в разделе проверки гипотез.\n",
    "</div>"
   ]
  },
  {
   "cell_type": "markdown",
   "id": "55287984",
   "metadata": {},
   "source": [
    "<div class=\"alert alert-block alert-info\">\n",
    "<b>Комментарий студента:</b> Надеюсь все верно исправил. Спасибо за рекомендации!</div>"
   ]
  },
  {
   "cell_type": "markdown",
   "id": "5b75d344",
   "metadata": {},
   "source": [
    "<div class=\"alert alert-info\">\n",
    "\n",
    "<b>Итого V3!</b>\n",
    "\n",
    "Стало отлично! )\n",
    "</div>"
   ]
  },
  {
   "cell_type": "code",
   "execution_count": null,
   "id": "d2cefd30",
   "metadata": {},
   "outputs": [],
   "source": []
  }
 ],
 "metadata": {
  "ExecuteTimeLog": [
   {
    "duration": 761,
    "start_time": "2022-06-05T21:38:51.093Z"
   },
   {
    "duration": 841,
    "start_time": "2022-06-06T19:58:03.802Z"
   },
   {
    "duration": 96,
    "start_time": "2022-06-06T19:58:04.776Z"
   },
   {
    "duration": 42,
    "start_time": "2022-06-06T19:59:07.560Z"
   },
   {
    "duration": 248,
    "start_time": "2022-06-06T20:00:05.669Z"
   },
   {
    "duration": 163,
    "start_time": "2022-06-06T20:01:27.489Z"
   },
   {
    "duration": 26,
    "start_time": "2022-06-06T20:01:28.000Z"
   },
   {
    "duration": 325,
    "start_time": "2022-06-06T20:01:28.245Z"
   },
   {
    "duration": 19,
    "start_time": "2022-06-06T20:01:28.572Z"
   },
   {
    "duration": 298,
    "start_time": "2022-06-06T20:01:28.693Z"
   },
   {
    "duration": 18,
    "start_time": "2022-06-06T20:01:28.993Z"
   },
   {
    "duration": 65,
    "start_time": "2022-06-06T20:01:29.048Z"
   },
   {
    "duration": 13,
    "start_time": "2022-06-06T20:01:29.218Z"
   },
   {
    "duration": 59,
    "start_time": "2022-06-06T20:01:29.376Z"
   },
   {
    "duration": 14,
    "start_time": "2022-06-06T20:01:29.570Z"
   },
   {
    "duration": 8,
    "start_time": "2022-06-06T20:04:35.691Z"
   },
   {
    "duration": 6,
    "start_time": "2022-06-06T20:04:48.669Z"
   },
   {
    "duration": 10,
    "start_time": "2022-06-06T20:05:08.651Z"
   },
   {
    "duration": 6,
    "start_time": "2022-06-06T20:07:02.684Z"
   },
   {
    "duration": 74,
    "start_time": "2022-06-06T20:08:47.948Z"
   },
   {
    "duration": 53,
    "start_time": "2022-06-06T20:08:48.392Z"
   },
   {
    "duration": 108,
    "start_time": "2022-06-06T20:08:48.922Z"
   },
   {
    "duration": 5,
    "start_time": "2022-06-06T20:08:49.349Z"
   },
   {
    "duration": 7,
    "start_time": "2022-06-06T20:11:59.999Z"
   },
   {
    "duration": 28,
    "start_time": "2022-06-06T20:13:16.911Z"
   },
   {
    "duration": 24,
    "start_time": "2022-06-06T20:13:44.249Z"
   },
   {
    "duration": 3,
    "start_time": "2022-06-06T20:13:51.927Z"
   },
   {
    "duration": 162,
    "start_time": "2022-06-06T20:13:52.423Z"
   },
   {
    "duration": 27,
    "start_time": "2022-06-06T20:13:52.587Z"
   },
   {
    "duration": 134,
    "start_time": "2022-06-06T20:13:52.668Z"
   },
   {
    "duration": 19,
    "start_time": "2022-06-06T20:13:52.804Z"
   },
   {
    "duration": 87,
    "start_time": "2022-06-06T20:13:52.917Z"
   },
   {
    "duration": 19,
    "start_time": "2022-06-06T20:13:53.044Z"
   },
   {
    "duration": 20,
    "start_time": "2022-06-06T20:13:53.163Z"
   },
   {
    "duration": 11,
    "start_time": "2022-06-06T20:13:53.487Z"
   },
   {
    "duration": 42,
    "start_time": "2022-06-06T20:13:53.634Z"
   },
   {
    "duration": 15,
    "start_time": "2022-06-06T20:13:53.777Z"
   },
   {
    "duration": 9,
    "start_time": "2022-06-06T20:13:55.350Z"
   },
   {
    "duration": 55,
    "start_time": "2022-06-06T20:13:55.830Z"
   },
   {
    "duration": 42,
    "start_time": "2022-06-06T20:13:56.160Z"
   },
   {
    "duration": 86,
    "start_time": "2022-06-06T20:13:56.305Z"
   },
   {
    "duration": 6,
    "start_time": "2022-06-06T20:13:56.431Z"
   },
   {
    "duration": 12,
    "start_time": "2022-06-06T20:13:56.719Z"
   },
   {
    "duration": 27,
    "start_time": "2022-06-06T20:13:57.151Z"
   },
   {
    "duration": 6,
    "start_time": "2022-06-06T20:13:57.634Z"
   },
   {
    "duration": 8,
    "start_time": "2022-06-06T20:13:59.115Z"
   },
   {
    "duration": 25,
    "start_time": "2022-06-06T20:13:59.350Z"
   },
   {
    "duration": 1186,
    "start_time": "2022-06-06T20:14:00.079Z"
   },
   {
    "duration": 27,
    "start_time": "2022-06-06T20:17:40.062Z"
   },
   {
    "duration": 5,
    "start_time": "2022-06-06T20:18:39.297Z"
   },
   {
    "duration": 53,
    "start_time": "2022-06-06T20:18:39.818Z"
   },
   {
    "duration": 26,
    "start_time": "2022-06-06T20:18:40.594Z"
   },
   {
    "duration": 83,
    "start_time": "2022-06-06T20:18:40.802Z"
   },
   {
    "duration": 48,
    "start_time": "2022-06-06T20:18:40.987Z"
   },
   {
    "duration": 20,
    "start_time": "2022-06-06T20:18:41.217Z"
   },
   {
    "duration": 15,
    "start_time": "2022-06-06T20:18:41.418Z"
   },
   {
    "duration": 45,
    "start_time": "2022-06-06T20:18:41.686Z"
   },
   {
    "duration": 5,
    "start_time": "2022-06-06T20:18:42.239Z"
   },
   {
    "duration": 23,
    "start_time": "2022-06-06T20:18:42.682Z"
   },
   {
    "duration": 17,
    "start_time": "2022-06-06T20:18:43.129Z"
   },
   {
    "duration": 40,
    "start_time": "2022-06-06T20:18:43.469Z"
   },
   {
    "duration": 6,
    "start_time": "2022-06-06T20:18:44.464Z"
   },
   {
    "duration": 42,
    "start_time": "2022-06-06T20:20:40.384Z"
   },
   {
    "duration": 18222,
    "start_time": "2022-06-06T20:32:04.704Z"
   },
   {
    "duration": 15,
    "start_time": "2022-06-06T20:32:22.928Z"
   },
   {
    "duration": 42,
    "start_time": "2022-06-06T20:33:47.002Z"
   },
   {
    "duration": 44,
    "start_time": "2022-06-06T20:33:53.066Z"
   },
   {
    "duration": 45,
    "start_time": "2022-06-06T20:34:08.552Z"
   },
   {
    "duration": 40,
    "start_time": "2022-06-06T20:34:24.376Z"
   },
   {
    "duration": 43,
    "start_time": "2022-06-06T20:34:30.471Z"
   },
   {
    "duration": 43,
    "start_time": "2022-06-06T20:34:34.857Z"
   },
   {
    "duration": 4,
    "start_time": "2022-06-06T20:34:41.226Z"
   },
   {
    "duration": 17664,
    "start_time": "2022-06-06T20:34:42.544Z"
   },
   {
    "duration": 19,
    "start_time": "2022-06-06T20:35:00.210Z"
   },
   {
    "duration": 27,
    "start_time": "2022-06-06T20:37:11.092Z"
   },
   {
    "duration": 2,
    "start_time": "2022-06-06T20:40:31.091Z"
   },
   {
    "duration": 3,
    "start_time": "2022-06-06T20:41:37.240Z"
   },
   {
    "duration": 8,
    "start_time": "2022-06-06T20:43:39.944Z"
   },
   {
    "duration": 5,
    "start_time": "2022-06-06T20:43:46.239Z"
   },
   {
    "duration": 5,
    "start_time": "2022-06-06T20:43:46.855Z"
   },
   {
    "duration": 3,
    "start_time": "2022-06-06T20:47:15.115Z"
   },
   {
    "duration": 172,
    "start_time": "2022-06-06T20:47:16.114Z"
   },
   {
    "duration": 20,
    "start_time": "2022-06-06T20:47:16.287Z"
   },
   {
    "duration": 131,
    "start_time": "2022-06-06T20:47:16.567Z"
   },
   {
    "duration": 19,
    "start_time": "2022-06-06T20:47:16.700Z"
   },
   {
    "duration": 96,
    "start_time": "2022-06-06T20:47:16.850Z"
   },
   {
    "duration": 18,
    "start_time": "2022-06-06T20:47:16.990Z"
   },
   {
    "duration": 30,
    "start_time": "2022-06-06T20:47:17.125Z"
   },
   {
    "duration": 10,
    "start_time": "2022-06-06T20:47:17.268Z"
   },
   {
    "duration": 31,
    "start_time": "2022-06-06T20:47:17.410Z"
   },
   {
    "duration": 9,
    "start_time": "2022-06-06T20:47:17.683Z"
   },
   {
    "duration": 6,
    "start_time": "2022-06-06T20:47:19.083Z"
   },
   {
    "duration": 51,
    "start_time": "2022-06-06T20:47:19.265Z"
   },
   {
    "duration": 40,
    "start_time": "2022-06-06T20:47:19.372Z"
   },
   {
    "duration": 87,
    "start_time": "2022-06-06T20:47:19.507Z"
   },
   {
    "duration": 5,
    "start_time": "2022-06-06T20:47:19.796Z"
   },
   {
    "duration": 11,
    "start_time": "2022-06-06T20:47:20.076Z"
   },
   {
    "duration": 25,
    "start_time": "2022-06-06T20:47:20.396Z"
   },
   {
    "duration": 5,
    "start_time": "2022-06-06T20:47:20.674Z"
   },
   {
    "duration": 8,
    "start_time": "2022-06-06T20:47:21.211Z"
   },
   {
    "duration": 28,
    "start_time": "2022-06-06T20:47:21.348Z"
   },
   {
    "duration": 5,
    "start_time": "2022-06-06T20:47:22.483Z"
   },
   {
    "duration": 38,
    "start_time": "2022-06-06T20:47:22.638Z"
   },
   {
    "duration": 26,
    "start_time": "2022-06-06T20:47:22.906Z"
   },
   {
    "duration": 58,
    "start_time": "2022-06-06T20:47:23.076Z"
   },
   {
    "duration": 47,
    "start_time": "2022-06-06T20:47:23.251Z"
   },
   {
    "duration": 19,
    "start_time": "2022-06-06T20:47:23.428Z"
   },
   {
    "duration": 15,
    "start_time": "2022-06-06T20:47:23.603Z"
   },
   {
    "duration": 45,
    "start_time": "2022-06-06T20:47:23.742Z"
   },
   {
    "duration": 5,
    "start_time": "2022-06-06T20:47:23.891Z"
   },
   {
    "duration": 24,
    "start_time": "2022-06-06T20:47:24.064Z"
   },
   {
    "duration": 16,
    "start_time": "2022-06-06T20:47:24.204Z"
   },
   {
    "duration": 55,
    "start_time": "2022-06-06T20:47:24.372Z"
   },
   {
    "duration": 4,
    "start_time": "2022-06-06T20:47:24.701Z"
   },
   {
    "duration": 17203,
    "start_time": "2022-06-06T20:47:25.278Z"
   },
   {
    "duration": 20,
    "start_time": "2022-06-06T20:47:42.483Z"
   },
   {
    "duration": 275,
    "start_time": "2022-06-06T20:47:42.504Z"
   },
   {
    "duration": 5,
    "start_time": "2022-06-06T20:47:42.781Z"
   },
   {
    "duration": 10,
    "start_time": "2022-06-06T20:47:42.787Z"
   },
   {
    "duration": 12,
    "start_time": "2022-06-06T20:50:05.106Z"
   },
   {
    "duration": 716,
    "start_time": "2022-06-06T20:55:32.392Z"
   },
   {
    "duration": 304,
    "start_time": "2022-06-06T20:55:48.434Z"
   },
   {
    "duration": 321,
    "start_time": "2022-06-06T20:55:54.555Z"
   },
   {
    "duration": 358,
    "start_time": "2022-06-06T20:56:04.679Z"
   },
   {
    "duration": 305,
    "start_time": "2022-06-06T20:56:17.286Z"
   },
   {
    "duration": 382,
    "start_time": "2022-06-06T20:57:01.862Z"
   },
   {
    "duration": 301,
    "start_time": "2022-06-06T20:57:32.499Z"
   },
   {
    "duration": 238,
    "start_time": "2022-06-06T20:57:54.598Z"
   },
   {
    "duration": 230,
    "start_time": "2022-06-06T20:58:08.230Z"
   },
   {
    "duration": 234,
    "start_time": "2022-06-06T20:58:45.701Z"
   },
   {
    "duration": 230,
    "start_time": "2022-06-06T20:59:03.373Z"
   },
   {
    "duration": 334,
    "start_time": "2022-06-06T20:59:21.848Z"
   },
   {
    "duration": 281,
    "start_time": "2022-06-06T20:59:50.044Z"
   },
   {
    "duration": 291,
    "start_time": "2022-06-06T20:59:55.268Z"
   },
   {
    "duration": 230,
    "start_time": "2022-06-06T21:00:10.767Z"
   },
   {
    "duration": 236,
    "start_time": "2022-06-06T21:00:16.446Z"
   },
   {
    "duration": 7,
    "start_time": "2022-06-06T21:03:56.938Z"
   },
   {
    "duration": 25,
    "start_time": "2022-06-06T21:04:07.723Z"
   },
   {
    "duration": 3,
    "start_time": "2022-06-06T21:06:03.717Z"
   },
   {
    "duration": 151,
    "start_time": "2022-06-06T21:06:04.333Z"
   },
   {
    "duration": 21,
    "start_time": "2022-06-06T21:06:04.490Z"
   },
   {
    "duration": 136,
    "start_time": "2022-06-06T21:06:04.664Z"
   },
   {
    "duration": 24,
    "start_time": "2022-06-06T21:06:04.856Z"
   },
   {
    "duration": 95,
    "start_time": "2022-06-06T21:06:04.999Z"
   },
   {
    "duration": 23,
    "start_time": "2022-06-06T21:06:05.152Z"
   },
   {
    "duration": 22,
    "start_time": "2022-06-06T21:06:05.295Z"
   },
   {
    "duration": 10,
    "start_time": "2022-06-06T21:06:05.451Z"
   },
   {
    "duration": 42,
    "start_time": "2022-06-06T21:06:05.626Z"
   },
   {
    "duration": 10,
    "start_time": "2022-06-06T21:06:05.743Z"
   },
   {
    "duration": 6,
    "start_time": "2022-06-06T21:06:07.391Z"
   },
   {
    "duration": 51,
    "start_time": "2022-06-06T21:06:07.536Z"
   },
   {
    "duration": 43,
    "start_time": "2022-06-06T21:06:07.679Z"
   },
   {
    "duration": 84,
    "start_time": "2022-06-06T21:06:07.823Z"
   },
   {
    "duration": 5,
    "start_time": "2022-06-06T21:06:07.977Z"
   },
   {
    "duration": 13,
    "start_time": "2022-06-06T21:06:08.249Z"
   },
   {
    "duration": 25,
    "start_time": "2022-06-06T21:06:08.512Z"
   },
   {
    "duration": 5,
    "start_time": "2022-06-06T21:06:08.647Z"
   },
   {
    "duration": 8,
    "start_time": "2022-06-06T21:06:09.284Z"
   },
   {
    "duration": 24,
    "start_time": "2022-06-06T21:06:09.464Z"
   },
   {
    "duration": 5,
    "start_time": "2022-06-06T21:06:10.672Z"
   },
   {
    "duration": 29,
    "start_time": "2022-06-06T21:06:10.839Z"
   },
   {
    "duration": 24,
    "start_time": "2022-06-06T21:06:11.144Z"
   },
   {
    "duration": 57,
    "start_time": "2022-06-06T21:06:11.304Z"
   },
   {
    "duration": 44,
    "start_time": "2022-06-06T21:06:11.538Z"
   },
   {
    "duration": 19,
    "start_time": "2022-06-06T21:06:11.618Z"
   },
   {
    "duration": 15,
    "start_time": "2022-06-06T21:06:11.767Z"
   },
   {
    "duration": 42,
    "start_time": "2022-06-06T21:06:11.913Z"
   },
   {
    "duration": 5,
    "start_time": "2022-06-06T21:06:12.079Z"
   },
   {
    "duration": 23,
    "start_time": "2022-06-06T21:06:12.240Z"
   },
   {
    "duration": 17,
    "start_time": "2022-06-06T21:06:12.414Z"
   },
   {
    "duration": 45,
    "start_time": "2022-06-06T21:06:12.571Z"
   },
   {
    "duration": 4,
    "start_time": "2022-06-06T21:06:12.911Z"
   },
   {
    "duration": 16803,
    "start_time": "2022-06-06T21:06:13.400Z"
   },
   {
    "duration": 20,
    "start_time": "2022-06-06T21:06:30.205Z"
   },
   {
    "duration": 251,
    "start_time": "2022-06-06T21:06:30.226Z"
   },
   {
    "duration": 6,
    "start_time": "2022-06-06T21:06:30.479Z"
   },
   {
    "duration": 18,
    "start_time": "2022-06-06T21:06:30.487Z"
   },
   {
    "duration": 16,
    "start_time": "2022-06-06T21:06:30.507Z"
   },
   {
    "duration": 394,
    "start_time": "2022-06-06T21:06:30.525Z"
   },
   {
    "duration": 286,
    "start_time": "2022-06-06T21:06:30.921Z"
   },
   {
    "duration": 270,
    "start_time": "2022-06-06T21:06:31.209Z"
   },
   {
    "duration": 26,
    "start_time": "2022-06-06T21:06:31.481Z"
   },
   {
    "duration": 48,
    "start_time": "2022-06-06T21:08:30.383Z"
   },
   {
    "duration": 10,
    "start_time": "2022-06-06T21:10:36.121Z"
   },
   {
    "duration": 4,
    "start_time": "2022-06-06T21:10:40.010Z"
   },
   {
    "duration": 12,
    "start_time": "2022-06-06T21:12:31.980Z"
   },
   {
    "duration": 10,
    "start_time": "2022-06-06T21:13:07.623Z"
   },
   {
    "duration": 3,
    "start_time": "2022-06-06T21:13:08.476Z"
   },
   {
    "duration": 2,
    "start_time": "2022-06-06T21:14:42.939Z"
   },
   {
    "duration": 3,
    "start_time": "2022-06-06T21:14:43.514Z"
   },
   {
    "duration": 4,
    "start_time": "2022-06-06T21:14:44.140Z"
   },
   {
    "duration": 3,
    "start_time": "2022-06-06T21:14:48.474Z"
   },
   {
    "duration": 11,
    "start_time": "2022-06-06T21:15:24.114Z"
   },
   {
    "duration": 3,
    "start_time": "2022-06-06T21:15:24.789Z"
   },
   {
    "duration": 39,
    "start_time": "2022-06-06T21:17:53.209Z"
   },
   {
    "duration": 72,
    "start_time": "2022-06-07T17:50:28.638Z"
   },
   {
    "duration": 1000,
    "start_time": "2022-06-07T17:50:32.278Z"
   },
   {
    "duration": 378,
    "start_time": "2022-06-07T17:50:33.280Z"
   },
   {
    "duration": 46,
    "start_time": "2022-06-07T17:50:33.661Z"
   },
   {
    "duration": 462,
    "start_time": "2022-06-07T17:50:33.711Z"
   },
   {
    "duration": 26,
    "start_time": "2022-06-07T17:50:34.175Z"
   },
   {
    "duration": 465,
    "start_time": "2022-06-07T17:50:34.204Z"
   },
   {
    "duration": 29,
    "start_time": "2022-06-07T17:50:34.671Z"
   },
   {
    "duration": 108,
    "start_time": "2022-06-07T17:50:34.702Z"
   },
   {
    "duration": 19,
    "start_time": "2022-06-07T17:50:34.812Z"
   },
   {
    "duration": 87,
    "start_time": "2022-06-07T17:50:34.836Z"
   },
   {
    "duration": 23,
    "start_time": "2022-06-07T17:50:34.925Z"
   },
   {
    "duration": 22,
    "start_time": "2022-06-07T17:50:34.950Z"
   },
   {
    "duration": 105,
    "start_time": "2022-06-07T17:50:34.974Z"
   },
   {
    "duration": 85,
    "start_time": "2022-06-07T17:50:35.081Z"
   },
   {
    "duration": 184,
    "start_time": "2022-06-07T17:50:35.168Z"
   },
   {
    "duration": 7,
    "start_time": "2022-06-07T17:50:35.354Z"
   },
   {
    "duration": 24,
    "start_time": "2022-06-07T17:50:35.363Z"
   },
   {
    "duration": 56,
    "start_time": "2022-06-07T17:50:35.389Z"
   },
   {
    "duration": 6,
    "start_time": "2022-06-07T17:50:35.459Z"
   },
   {
    "duration": 13,
    "start_time": "2022-06-07T17:50:35.467Z"
   },
   {
    "duration": 41,
    "start_time": "2022-06-07T17:50:35.481Z"
   },
   {
    "duration": 7,
    "start_time": "2022-06-07T17:50:35.526Z"
   },
   {
    "duration": 74,
    "start_time": "2022-06-07T17:50:35.535Z"
   },
   {
    "duration": 38,
    "start_time": "2022-06-07T17:50:35.610Z"
   },
   {
    "duration": 65,
    "start_time": "2022-06-07T17:50:35.650Z"
   },
   {
    "duration": 68,
    "start_time": "2022-06-07T17:50:35.717Z"
   },
   {
    "duration": 45,
    "start_time": "2022-06-07T17:50:35.786Z"
   },
   {
    "duration": 18,
    "start_time": "2022-06-07T17:50:35.835Z"
   },
   {
    "duration": 56,
    "start_time": "2022-06-07T17:50:35.855Z"
   },
   {
    "duration": 6,
    "start_time": "2022-06-07T17:50:35.925Z"
   },
   {
    "duration": 59,
    "start_time": "2022-06-07T17:50:35.933Z"
   },
   {
    "duration": 22,
    "start_time": "2022-06-07T17:50:35.994Z"
   },
   {
    "duration": 77,
    "start_time": "2022-06-07T17:50:36.018Z"
   },
   {
    "duration": 6,
    "start_time": "2022-06-07T17:50:36.097Z"
   },
   {
    "duration": 22679,
    "start_time": "2022-06-07T17:50:36.105Z"
   },
   {
    "duration": 38,
    "start_time": "2022-06-07T17:51:02.414Z"
   },
   {
    "duration": 30,
    "start_time": "2022-06-07T17:51:20.457Z"
   },
   {
    "duration": 62,
    "start_time": "2022-06-07T18:04:20.415Z"
   },
   {
    "duration": 2,
    "start_time": "2022-06-07T18:04:24.321Z"
   },
   {
    "duration": 318,
    "start_time": "2022-06-07T18:04:24.332Z"
   },
   {
    "duration": 33,
    "start_time": "2022-06-07T18:04:24.653Z"
   },
   {
    "duration": 335,
    "start_time": "2022-06-07T18:04:24.688Z"
   },
   {
    "duration": 31,
    "start_time": "2022-06-07T18:04:25.025Z"
   },
   {
    "duration": 108,
    "start_time": "2022-06-07T18:04:25.058Z"
   },
   {
    "duration": 20,
    "start_time": "2022-06-07T18:04:25.168Z"
   },
   {
    "duration": 24,
    "start_time": "2022-06-07T18:04:25.190Z"
   },
   {
    "duration": 17,
    "start_time": "2022-06-07T18:04:25.229Z"
   },
   {
    "duration": 46,
    "start_time": "2022-06-07T18:04:25.247Z"
   },
   {
    "duration": 12,
    "start_time": "2022-06-07T18:04:25.297Z"
   },
   {
    "duration": 11,
    "start_time": "2022-06-07T18:04:25.311Z"
   },
   {
    "duration": 81,
    "start_time": "2022-06-07T18:04:25.323Z"
   },
   {
    "duration": 56,
    "start_time": "2022-06-07T18:04:25.406Z"
   },
   {
    "duration": 108,
    "start_time": "2022-06-07T18:04:25.463Z"
   },
   {
    "duration": 6,
    "start_time": "2022-06-07T18:04:25.572Z"
   },
   {
    "duration": 27,
    "start_time": "2022-06-07T18:04:25.579Z"
   },
   {
    "duration": 37,
    "start_time": "2022-06-07T18:04:25.608Z"
   },
   {
    "duration": 5,
    "start_time": "2022-06-07T18:04:25.647Z"
   },
   {
    "duration": 9,
    "start_time": "2022-06-07T18:04:25.654Z"
   },
   {
    "duration": 34,
    "start_time": "2022-06-07T18:04:25.664Z"
   },
   {
    "duration": 41,
    "start_time": "2022-06-07T18:04:25.699Z"
   },
   {
    "duration": 49,
    "start_time": "2022-06-07T18:04:25.743Z"
   },
   {
    "duration": 27,
    "start_time": "2022-06-07T18:04:25.793Z"
   },
   {
    "duration": 74,
    "start_time": "2022-06-07T18:04:25.821Z"
   },
   {
    "duration": 69,
    "start_time": "2022-06-07T18:04:25.897Z"
   },
   {
    "duration": 21,
    "start_time": "2022-06-07T18:04:25.968Z"
   },
   {
    "duration": 18,
    "start_time": "2022-06-07T18:04:25.991Z"
   },
   {
    "duration": 52,
    "start_time": "2022-06-07T18:04:26.032Z"
   },
   {
    "duration": 6,
    "start_time": "2022-06-07T18:04:26.086Z"
   },
   {
    "duration": 66,
    "start_time": "2022-06-07T18:04:26.094Z"
   },
   {
    "duration": 22,
    "start_time": "2022-06-07T18:04:26.162Z"
   },
   {
    "duration": 78,
    "start_time": "2022-06-07T18:04:26.186Z"
   },
   {
    "duration": 6,
    "start_time": "2022-06-07T18:04:26.266Z"
   },
   {
    "duration": 24384,
    "start_time": "2022-06-07T18:04:26.273Z"
   },
   {
    "duration": 33,
    "start_time": "2022-06-07T18:04:50.660Z"
   },
   {
    "duration": 373,
    "start_time": "2022-06-07T18:04:50.695Z"
   },
   {
    "duration": 11,
    "start_time": "2022-06-07T18:04:51.092Z"
   },
   {
    "duration": 129,
    "start_time": "2022-06-07T18:04:51.106Z"
   },
   {
    "duration": 296,
    "start_time": "2022-06-07T18:04:51.237Z"
   },
   {
    "duration": 2508,
    "start_time": "2022-06-07T18:04:51.536Z"
   },
   {
    "duration": 593,
    "start_time": "2022-06-07T18:04:54.047Z"
   },
   {
    "duration": 545,
    "start_time": "2022-06-07T18:04:54.643Z"
   },
   {
    "duration": 45,
    "start_time": "2022-06-07T18:04:55.191Z"
   },
   {
    "duration": 11,
    "start_time": "2022-06-07T18:05:35.914Z"
   },
   {
    "duration": 4,
    "start_time": "2022-06-07T18:05:41.061Z"
   },
   {
    "duration": 873,
    "start_time": "2022-06-09T17:49:40.208Z"
   },
   {
    "duration": 233,
    "start_time": "2022-06-09T17:49:41.083Z"
   },
   {
    "duration": 26,
    "start_time": "2022-06-09T17:49:41.317Z"
   },
   {
    "duration": 307,
    "start_time": "2022-06-09T17:49:41.344Z"
   },
   {
    "duration": 20,
    "start_time": "2022-06-09T17:49:41.653Z"
   },
   {
    "duration": 308,
    "start_time": "2022-06-09T17:49:41.674Z"
   },
   {
    "duration": 17,
    "start_time": "2022-06-09T17:49:41.983Z"
   },
   {
    "duration": 62,
    "start_time": "2022-06-09T17:49:42.001Z"
   },
   {
    "duration": 9,
    "start_time": "2022-06-09T17:49:42.064Z"
   },
   {
    "duration": 64,
    "start_time": "2022-06-09T17:49:42.074Z"
   },
   {
    "duration": 11,
    "start_time": "2022-06-09T17:49:42.139Z"
   },
   {
    "duration": 10,
    "start_time": "2022-06-09T17:49:42.152Z"
   },
   {
    "duration": 72,
    "start_time": "2022-06-09T17:49:42.163Z"
   },
   {
    "duration": 50,
    "start_time": "2022-06-09T17:49:42.238Z"
   },
   {
    "duration": 108,
    "start_time": "2022-06-09T17:49:42.289Z"
   },
   {
    "duration": 6,
    "start_time": "2022-06-09T17:49:42.398Z"
   },
   {
    "duration": 17,
    "start_time": "2022-06-09T17:49:42.405Z"
   },
   {
    "duration": 46,
    "start_time": "2022-06-09T17:49:42.424Z"
   },
   {
    "duration": 5,
    "start_time": "2022-06-09T17:49:42.472Z"
   },
   {
    "duration": 8,
    "start_time": "2022-06-09T17:49:42.478Z"
   },
   {
    "duration": 52,
    "start_time": "2022-06-09T17:49:42.488Z"
   },
   {
    "duration": 6,
    "start_time": "2022-06-09T17:49:42.541Z"
   },
   {
    "duration": 34,
    "start_time": "2022-06-09T17:49:42.549Z"
   },
   {
    "duration": 26,
    "start_time": "2022-06-09T17:49:42.585Z"
   },
   {
    "duration": 62,
    "start_time": "2022-06-09T17:49:42.612Z"
   },
   {
    "duration": 31,
    "start_time": "2022-06-09T17:49:42.676Z"
   },
   {
    "duration": 20,
    "start_time": "2022-06-09T17:49:42.709Z"
   },
   {
    "duration": 34,
    "start_time": "2022-06-09T17:49:42.731Z"
   },
   {
    "duration": 38,
    "start_time": "2022-06-09T17:49:42.767Z"
   },
   {
    "duration": 23,
    "start_time": "2022-06-09T17:49:42.807Z"
   },
   {
    "duration": 36,
    "start_time": "2022-06-09T17:49:42.832Z"
   },
   {
    "duration": 30,
    "start_time": "2022-06-09T17:49:42.869Z"
   },
   {
    "duration": 5,
    "start_time": "2022-06-09T17:49:42.900Z"
   },
   {
    "duration": 36,
    "start_time": "2022-06-09T17:49:42.906Z"
   },
   {
    "duration": 152,
    "start_time": "2022-06-09T17:49:42.944Z"
   },
   {
    "duration": 9,
    "start_time": "2022-06-09T17:49:43.098Z"
   },
   {
    "duration": 13,
    "start_time": "2022-06-09T17:49:43.108Z"
   },
   {
    "duration": 7,
    "start_time": "2022-06-09T17:49:43.123Z"
   },
   {
    "duration": 28,
    "start_time": "2022-06-09T17:49:43.132Z"
   },
   {
    "duration": 663,
    "start_time": "2022-06-09T17:49:43.161Z"
   },
   {
    "duration": 258,
    "start_time": "2022-06-09T17:49:43.828Z"
   },
   {
    "duration": 238,
    "start_time": "2022-06-09T17:49:44.088Z"
   },
   {
    "duration": 16,
    "start_time": "2022-06-09T17:49:44.328Z"
   },
   {
    "duration": 3,
    "start_time": "2022-06-09T17:49:44.359Z"
   },
   {
    "duration": 8,
    "start_time": "2022-06-09T17:49:44.364Z"
   },
   {
    "duration": 15,
    "start_time": "2022-06-09T17:50:11.508Z"
   },
   {
    "duration": 13,
    "start_time": "2022-06-09T17:50:56.959Z"
   },
   {
    "duration": 11,
    "start_time": "2022-06-09T17:51:03.539Z"
   },
   {
    "duration": 14,
    "start_time": "2022-06-09T17:51:13.372Z"
   },
   {
    "duration": 4,
    "start_time": "2022-06-09T17:51:22.851Z"
   },
   {
    "duration": 6,
    "start_time": "2022-06-09T17:52:37.454Z"
   }
  ],
  "kernelspec": {
   "display_name": "Python 3 (ipykernel)",
   "language": "python",
   "name": "python3"
  },
  "language_info": {
   "codemirror_mode": {
    "name": "ipython",
    "version": 3
   },
   "file_extension": ".py",
   "mimetype": "text/x-python",
   "name": "python",
   "nbconvert_exporter": "python",
   "pygments_lexer": "ipython3",
   "version": "3.8.8"
  },
  "toc": {
   "base_numbering": 1,
   "nav_menu": {},
   "number_sections": true,
   "sideBar": true,
   "skip_h1_title": true,
   "title_cell": "Table of Contents",
   "title_sidebar": "Contents",
   "toc_cell": false,
   "toc_position": {},
   "toc_section_display": true,
   "toc_window_display": false
  }
 },
 "nbformat": 4,
 "nbformat_minor": 5
}
