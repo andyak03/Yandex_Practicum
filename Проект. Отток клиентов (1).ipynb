{
 "cells": [
  {
   "cell_type": "markdown",
   "id": "e6adaf09",
   "metadata": {},
   "source": [
    "Привет, Андрей!)\n",
    "<br> Меня зовут Дуолан 👋 Буду проверять твой проект. Давай вместе доведем его до идеала 😉\n",
    "<br> Дальнейшее общение будет происходить на «ты», если это не вызывает никаких проблем.\n",
    "<br> Желательно реагировать на каждый мой комментарий («исправил», «не понятно как исправить ошибку», ...)\n",
    "<br> Пожалуйста, не удаляй мои комментарии, они будут необходимы для повторного ревью.\n",
    "\n",
    "Комментарии будут в <font color='green'>зеленой</font>, <font color='blue'>синей</font> или <font color='red'>красной</font> рамках:\n",
    "\n",
    "<div class=\"alert alert-block alert-success\">\n",
    "<b>✔️ Успех:</b> Если все сделано отлично\n",
    "</div>\n",
    "\n",
    "<div class=\"alert alert-block alert-warning\">\n",
    "<b>⚠️ Совет:</b> Если можно немного улучшить\n",
    "</div>\n",
    "\n",
    "<div class=\"alert alert-block alert-danger\">\n",
    "<b>❌ Замечание:</b> Если требуются исправления\n",
    "</div>\n",
    "\n",
    "Работа не может быть принята с красными комментариями.\n",
    "\n",
    "-------------------\n",
    "\n",
    "Будет очень хорошо, если ты будешь помечать свои действия следующим образом:\n",
    "\n",
    "<div class=\"alert alert-block alert-info\">\n",
    "<b>Комментарий студента:</b> ...\n",
    "</div>\n",
    "\n",
    "<div class=\"alert alert-block alert-info\">\n",
    "<b>Изменения:</b> Были внесены следующие изменения ...\n",
    "</div>"
   ]
  },
  {
   "cell_type": "markdown",
   "id": "c63eeb89",
   "metadata": {},
   "source": [
    "# Отток клиентов"
   ]
  },
  {
   "cell_type": "markdown",
   "id": "cb732e4b",
   "metadata": {},
   "source": [
    "## Описание проекта"
   ]
  },
  {
   "cell_type": "markdown",
   "id": "d028ae65",
   "metadata": {},
   "source": [
    "### Описание целей и задачи проекта"
   ]
  },
  {
   "cell_type": "markdown",
   "id": "b96c4ced",
   "metadata": {},
   "source": [
    "Из «Бета-Банка» стали уходить клиенты. Каждый месяц. Немного, но заметно. Банковские маркетологи посчитали: сохранять текущих клиентов дешевле, чем привлекать новых.\n",
    "Нужно спрогнозировать, уйдёт клиент из банка в ближайшее время или нет. Вам предоставлены исторические данные о поведении клиентов и расторжении договоров с банком.\n",
    "Постройте модель с предельно большим значением F1-меры. Чтобы сдать проект успешно, нужно довести метрику до 0.59. Проверьте F1-меру на тестовой выборке самостоятельно.\n",
    "Дополнительно измеряйте AUC-ROC, сравнивайте её значение с F1-мерой."
   ]
  },
  {
   "cell_type": "markdown",
   "id": "8f5d23f7",
   "metadata": {},
   "source": [
    "### Описание данных"
   ]
  },
  {
   "cell_type": "markdown",
   "id": "bebd9561",
   "metadata": {},
   "source": [
    "Признаки\n",
    "* RowNumber — индекс строки в данных\n",
    "* CustomerId — уникальный идентификатор клиента\n",
    "* Surname — фамилия\n",
    "* CreditScore — кредитный рейтинг\n",
    "* Geography — страна проживания\n",
    "* Gender — пол\n",
    "* Age — возраст\n",
    "* Tenure — сколько лет человек является клиентом банка\n",
    "* Balance — баланс на счёте\n",
    "* NumOfProducts — количество продуктов банка, используемых клиентом\n",
    "* HasCrCard — наличие кредитной карты\n",
    "* IsActiveMember — активность клиента\n",
    "* EstimatedSalary — предполагаемая зарплата\n",
    "\n",
    "Целевой признак\n",
    "* Exited — факт ухода клиента"
   ]
  },
  {
   "cell_type": "markdown",
   "id": "37dca4e3",
   "metadata": {},
   "source": [
    "### План работы"
   ]
  },
  {
   "cell_type": "markdown",
   "id": "43e70bf2",
   "metadata": {},
   "source": [
    "1)Загрузить и подготовить данные. Пояснить порядок действий.\n",
    "2)Исследовать баланс классов, обучить модель без учёта дисбаланса. Кратко описать выводы.\n",
    "3)Улучшить качество модели, учитывая дисбаланс классов. Обучить разные модели и найти лучшую. Кратко описать выводы.\n",
    "4)Провести финальное тестирование."
   ]
  },
  {
   "cell_type": "markdown",
   "id": "30f8af53",
   "metadata": {},
   "source": [
    "<div class=\"alert alert-block alert-warning\">\n",
    "<b>⚠️ Совет:</b> \n",
    "\n",
    "Важно чтобы в проектах было подробное описание: когда потенциальные работодатели будут смотреть твой проект в портфолио, им нужно будет понимать задачу, чтобы можно было оценить её решение. Вот что можно добавить:\n",
    "    \n",
    "* Описание целей и задачи проекта\n",
    "* Описание данных\n",
    "* План работы\n",
    "\n",
    "И рекомендую писать введение от первого лица множественного числа. Так работа выглядит более самостоятельной)\n",
    "</div>"
   ]
  },
  {
   "cell_type": "markdown",
   "id": "b043c4f3",
   "metadata": {},
   "source": [
    "<div class=\"alert alert-block alert-info\">\n",
    "<b>Изменения:</b> добавлено подробное описание\n",
    "</div>"
   ]
  },
  {
   "cell_type": "markdown",
   "id": "1ddae562",
   "metadata": {},
   "source": [
    "<div class=\"alert alert-block alert-success\">\n",
    "<b>V2 ✔️ Успешно исправлено</b>\n",
    "</div>"
   ]
  },
  {
   "cell_type": "markdown",
   "id": "728790f1",
   "metadata": {},
   "source": [
    "## Загрузка и подготовка данных"
   ]
  },
  {
   "cell_type": "code",
   "execution_count": 1,
   "id": "c7b6f454",
   "metadata": {},
   "outputs": [],
   "source": [
    "import pandas as pd\n",
    "import matplotlib.pyplot as plt\n",
    "import random\n",
    "\n",
    "from sklearn.tree import DecisionTreeClassifier\n",
    "from sklearn.ensemble import RandomForestClassifier\n",
    "from sklearn.linear_model import LogisticRegression\n",
    "from sklearn.model_selection import train_test_split\n",
    "from sklearn.preprocessing import StandardScaler\n",
    "from sklearn.utils import shuffle\n",
    "\n",
    "from sklearn.metrics import accuracy_score\n",
    "from sklearn.metrics import f1_score\n",
    "from sklearn.metrics import roc_auc_score\n",
    "from sklearn.metrics import recall_score\n",
    "from sklearn.metrics import precision_score"
   ]
  },
  {
   "cell_type": "markdown",
   "id": "c24631e0",
   "metadata": {},
   "source": [
    "<div class=\"alert alert-block alert-success\">\n",
    "<b>✔️ Успех:</b>\n",
    "\n",
    "Импорт выглядит отлично 👍\n",
    "</div>"
   ]
  },
  {
   "cell_type": "code",
   "execution_count": 2,
   "id": "d6ddcc4a",
   "metadata": {},
   "outputs": [
    {
     "data": {
      "text/html": [
       "<div>\n",
       "<style scoped>\n",
       "    .dataframe tbody tr th:only-of-type {\n",
       "        vertical-align: middle;\n",
       "    }\n",
       "\n",
       "    .dataframe tbody tr th {\n",
       "        vertical-align: top;\n",
       "    }\n",
       "\n",
       "    .dataframe thead th {\n",
       "        text-align: right;\n",
       "    }\n",
       "</style>\n",
       "<table border=\"1\" class=\"dataframe\">\n",
       "  <thead>\n",
       "    <tr style=\"text-align: right;\">\n",
       "      <th></th>\n",
       "      <th>RowNumber</th>\n",
       "      <th>CustomerId</th>\n",
       "      <th>Surname</th>\n",
       "      <th>CreditScore</th>\n",
       "      <th>Geography</th>\n",
       "      <th>Gender</th>\n",
       "      <th>Age</th>\n",
       "      <th>Tenure</th>\n",
       "      <th>Balance</th>\n",
       "      <th>NumOfProducts</th>\n",
       "      <th>HasCrCard</th>\n",
       "      <th>IsActiveMember</th>\n",
       "      <th>EstimatedSalary</th>\n",
       "      <th>Exited</th>\n",
       "    </tr>\n",
       "  </thead>\n",
       "  <tbody>\n",
       "    <tr>\n",
       "      <th>0</th>\n",
       "      <td>1</td>\n",
       "      <td>15634602</td>\n",
       "      <td>Hargrave</td>\n",
       "      <td>619</td>\n",
       "      <td>France</td>\n",
       "      <td>Female</td>\n",
       "      <td>42</td>\n",
       "      <td>2.0</td>\n",
       "      <td>0.00</td>\n",
       "      <td>1</td>\n",
       "      <td>1</td>\n",
       "      <td>1</td>\n",
       "      <td>101348.88</td>\n",
       "      <td>1</td>\n",
       "    </tr>\n",
       "    <tr>\n",
       "      <th>1</th>\n",
       "      <td>2</td>\n",
       "      <td>15647311</td>\n",
       "      <td>Hill</td>\n",
       "      <td>608</td>\n",
       "      <td>Spain</td>\n",
       "      <td>Female</td>\n",
       "      <td>41</td>\n",
       "      <td>1.0</td>\n",
       "      <td>83807.86</td>\n",
       "      <td>1</td>\n",
       "      <td>0</td>\n",
       "      <td>1</td>\n",
       "      <td>112542.58</td>\n",
       "      <td>0</td>\n",
       "    </tr>\n",
       "    <tr>\n",
       "      <th>2</th>\n",
       "      <td>3</td>\n",
       "      <td>15619304</td>\n",
       "      <td>Onio</td>\n",
       "      <td>502</td>\n",
       "      <td>France</td>\n",
       "      <td>Female</td>\n",
       "      <td>42</td>\n",
       "      <td>8.0</td>\n",
       "      <td>159660.80</td>\n",
       "      <td>3</td>\n",
       "      <td>1</td>\n",
       "      <td>0</td>\n",
       "      <td>113931.57</td>\n",
       "      <td>1</td>\n",
       "    </tr>\n",
       "    <tr>\n",
       "      <th>3</th>\n",
       "      <td>4</td>\n",
       "      <td>15701354</td>\n",
       "      <td>Boni</td>\n",
       "      <td>699</td>\n",
       "      <td>France</td>\n",
       "      <td>Female</td>\n",
       "      <td>39</td>\n",
       "      <td>1.0</td>\n",
       "      <td>0.00</td>\n",
       "      <td>2</td>\n",
       "      <td>0</td>\n",
       "      <td>0</td>\n",
       "      <td>93826.63</td>\n",
       "      <td>0</td>\n",
       "    </tr>\n",
       "    <tr>\n",
       "      <th>4</th>\n",
       "      <td>5</td>\n",
       "      <td>15737888</td>\n",
       "      <td>Mitchell</td>\n",
       "      <td>850</td>\n",
       "      <td>Spain</td>\n",
       "      <td>Female</td>\n",
       "      <td>43</td>\n",
       "      <td>2.0</td>\n",
       "      <td>125510.82</td>\n",
       "      <td>1</td>\n",
       "      <td>1</td>\n",
       "      <td>1</td>\n",
       "      <td>79084.10</td>\n",
       "      <td>0</td>\n",
       "    </tr>\n",
       "  </tbody>\n",
       "</table>\n",
       "</div>"
      ],
      "text/plain": [
       "   RowNumber  CustomerId   Surname  CreditScore Geography  Gender  Age  \\\n",
       "0          1    15634602  Hargrave          619    France  Female   42   \n",
       "1          2    15647311      Hill          608     Spain  Female   41   \n",
       "2          3    15619304      Onio          502    France  Female   42   \n",
       "3          4    15701354      Boni          699    France  Female   39   \n",
       "4          5    15737888  Mitchell          850     Spain  Female   43   \n",
       "\n",
       "   Tenure    Balance  NumOfProducts  HasCrCard  IsActiveMember  \\\n",
       "0     2.0       0.00              1          1               1   \n",
       "1     1.0   83807.86              1          0               1   \n",
       "2     8.0  159660.80              3          1               0   \n",
       "3     1.0       0.00              2          0               0   \n",
       "4     2.0  125510.82              1          1               1   \n",
       "\n",
       "   EstimatedSalary  Exited  \n",
       "0        101348.88       1  \n",
       "1        112542.58       0  \n",
       "2        113931.57       1  \n",
       "3         93826.63       0  \n",
       "4         79084.10       0  "
      ]
     },
     "execution_count": 2,
     "metadata": {},
     "output_type": "execute_result"
    }
   ],
   "source": [
    "#чтение файла\n",
    "df = pd.read_csv('C:\\\\Users\\\\ASUS\\\\Downloads\\\\Churn.csv')\n",
    "df.head()"
   ]
  },
  {
   "cell_type": "code",
   "execution_count": 3,
   "id": "fb877c3e",
   "metadata": {},
   "outputs": [
    {
     "name": "stdout",
     "output_type": "stream",
     "text": [
      "<class 'pandas.core.frame.DataFrame'>\n",
      "RangeIndex: 10000 entries, 0 to 9999\n",
      "Data columns (total 14 columns):\n",
      " #   Column           Non-Null Count  Dtype  \n",
      "---  ------           --------------  -----  \n",
      " 0   RowNumber        10000 non-null  int64  \n",
      " 1   CustomerId       10000 non-null  int64  \n",
      " 2   Surname          10000 non-null  object \n",
      " 3   CreditScore      10000 non-null  int64  \n",
      " 4   Geography        10000 non-null  object \n",
      " 5   Gender           10000 non-null  object \n",
      " 6   Age              10000 non-null  int64  \n",
      " 7   Tenure           9091 non-null   float64\n",
      " 8   Balance          10000 non-null  float64\n",
      " 9   NumOfProducts    10000 non-null  int64  \n",
      " 10  HasCrCard        10000 non-null  int64  \n",
      " 11  IsActiveMember   10000 non-null  int64  \n",
      " 12  EstimatedSalary  10000 non-null  float64\n",
      " 13  Exited           10000 non-null  int64  \n",
      "dtypes: float64(3), int64(8), object(3)\n",
      "memory usage: 1.1+ MB\n"
     ]
    }
   ],
   "source": [
    "df.info()"
   ]
  },
  {
   "cell_type": "code",
   "execution_count": 4,
   "id": "201d4ac9",
   "metadata": {
    "scrolled": true
   },
   "outputs": [
    {
     "data": {
      "text/plain": [
       "(10000, 14)"
      ]
     },
     "execution_count": 4,
     "metadata": {},
     "output_type": "execute_result"
    }
   ],
   "source": [
    "df.shape"
   ]
  },
  {
   "cell_type": "code",
   "execution_count": 5,
   "id": "29c88c53",
   "metadata": {},
   "outputs": [
    {
     "data": {
      "text/plain": [
       "0"
      ]
     },
     "execution_count": 5,
     "metadata": {},
     "output_type": "execute_result"
    }
   ],
   "source": [
    "df.duplicated().sum()"
   ]
  },
  {
   "cell_type": "markdown",
   "id": "9fe7ddb7",
   "metadata": {},
   "source": [
    "### Пропуски"
   ]
  },
  {
   "cell_type": "code",
   "execution_count": 6,
   "id": "44637022",
   "metadata": {},
   "outputs": [
    {
     "data": {
      "text/plain": [
       "1.0     952\n",
       "2.0     950\n",
       "8.0     933\n",
       "3.0     928\n",
       "5.0     927\n",
       "7.0     925\n",
       "4.0     885\n",
       "9.0     882\n",
       "6.0     881\n",
       "10.0    446\n",
       "0.0     382\n",
       "Name: Tenure, dtype: int64"
      ]
     },
     "execution_count": 6,
     "metadata": {},
     "output_type": "execute_result"
    }
   ],
   "source": [
    "df['Tenure'].value_counts()"
   ]
  },
  {
   "cell_type": "markdown",
   "id": "157613a8",
   "metadata": {},
   "source": [
    "В столбце 'Tenure' присутствуют пропуски. По этому столбцу известно сколько лет человек является клиентом банка. Возможные причины их появления: 1.человеческий фактор; 2.новые клиенты, которые должны иметь в рецепте значение 0. Значения 0 в рецептах присутствуют, а значит не стоит заполнять пропуски 0, чтобы не искозить метрики "
   ]
  },
  {
   "cell_type": "markdown",
   "id": "40f3b160",
   "metadata": {},
   "source": [
    "<div class=\"alert alert-block alert-success\">\n",
    "<b>✔️ Успех:</b>\n",
    "\n",
    "Ты хорошо владеешь методами первичного анализа данных 👍\n",
    "</div>"
   ]
  },
  {
   "cell_type": "markdown",
   "id": "f1b37f5b",
   "metadata": {},
   "source": [
    "### Изменение типов данных"
   ]
  },
  {
   "cell_type": "markdown",
   "id": "e1a249ef",
   "metadata": {},
   "source": [
    "В столбце 'Tenure' наблюдаются целые значения, которые обозначены типом float. Изменить на int не получится, т.к. присутствуют пропуски.\n",
    "В остальных столбцах все хорошо."
   ]
  },
  {
   "cell_type": "code",
   "execution_count": 7,
   "id": "869bc36c",
   "metadata": {
    "scrolled": true
   },
   "outputs": [
    {
     "data": {
      "text/html": [
       "<div>\n",
       "<style scoped>\n",
       "    .dataframe tbody tr th:only-of-type {\n",
       "        vertical-align: middle;\n",
       "    }\n",
       "\n",
       "    .dataframe tbody tr th {\n",
       "        vertical-align: top;\n",
       "    }\n",
       "\n",
       "    .dataframe thead th {\n",
       "        text-align: right;\n",
       "    }\n",
       "</style>\n",
       "<table border=\"1\" class=\"dataframe\">\n",
       "  <thead>\n",
       "    <tr style=\"text-align: right;\">\n",
       "      <th></th>\n",
       "      <th>RowNumber</th>\n",
       "      <th>CustomerId</th>\n",
       "      <th>Surname</th>\n",
       "      <th>CreditScore</th>\n",
       "      <th>Geography</th>\n",
       "      <th>Gender</th>\n",
       "      <th>Age</th>\n",
       "      <th>Tenure</th>\n",
       "      <th>Balance</th>\n",
       "      <th>NumOfProducts</th>\n",
       "      <th>HasCrCard</th>\n",
       "      <th>IsActiveMember</th>\n",
       "      <th>EstimatedSalary</th>\n",
       "      <th>Exited</th>\n",
       "    </tr>\n",
       "  </thead>\n",
       "  <tbody>\n",
       "    <tr>\n",
       "      <th>30</th>\n",
       "      <td>31</td>\n",
       "      <td>15589475</td>\n",
       "      <td>Azikiwe</td>\n",
       "      <td>591</td>\n",
       "      <td>Spain</td>\n",
       "      <td>Female</td>\n",
       "      <td>39</td>\n",
       "      <td>NaN</td>\n",
       "      <td>0.00</td>\n",
       "      <td>3</td>\n",
       "      <td>1</td>\n",
       "      <td>0</td>\n",
       "      <td>140469.38</td>\n",
       "      <td>1</td>\n",
       "    </tr>\n",
       "    <tr>\n",
       "      <th>48</th>\n",
       "      <td>49</td>\n",
       "      <td>15766205</td>\n",
       "      <td>Yin</td>\n",
       "      <td>550</td>\n",
       "      <td>Germany</td>\n",
       "      <td>Male</td>\n",
       "      <td>38</td>\n",
       "      <td>NaN</td>\n",
       "      <td>103391.38</td>\n",
       "      <td>1</td>\n",
       "      <td>0</td>\n",
       "      <td>1</td>\n",
       "      <td>90878.13</td>\n",
       "      <td>0</td>\n",
       "    </tr>\n",
       "    <tr>\n",
       "      <th>51</th>\n",
       "      <td>52</td>\n",
       "      <td>15768193</td>\n",
       "      <td>Trevisani</td>\n",
       "      <td>585</td>\n",
       "      <td>Germany</td>\n",
       "      <td>Male</td>\n",
       "      <td>36</td>\n",
       "      <td>NaN</td>\n",
       "      <td>146050.97</td>\n",
       "      <td>2</td>\n",
       "      <td>0</td>\n",
       "      <td>0</td>\n",
       "      <td>86424.57</td>\n",
       "      <td>0</td>\n",
       "    </tr>\n",
       "    <tr>\n",
       "      <th>53</th>\n",
       "      <td>54</td>\n",
       "      <td>15702298</td>\n",
       "      <td>Parkhill</td>\n",
       "      <td>655</td>\n",
       "      <td>Germany</td>\n",
       "      <td>Male</td>\n",
       "      <td>41</td>\n",
       "      <td>NaN</td>\n",
       "      <td>125561.97</td>\n",
       "      <td>1</td>\n",
       "      <td>0</td>\n",
       "      <td>0</td>\n",
       "      <td>164040.94</td>\n",
       "      <td>1</td>\n",
       "    </tr>\n",
       "    <tr>\n",
       "      <th>60</th>\n",
       "      <td>61</td>\n",
       "      <td>15651280</td>\n",
       "      <td>Hunter</td>\n",
       "      <td>742</td>\n",
       "      <td>Germany</td>\n",
       "      <td>Male</td>\n",
       "      <td>35</td>\n",
       "      <td>NaN</td>\n",
       "      <td>136857.00</td>\n",
       "      <td>1</td>\n",
       "      <td>0</td>\n",
       "      <td>0</td>\n",
       "      <td>84509.57</td>\n",
       "      <td>0</td>\n",
       "    </tr>\n",
       "    <tr>\n",
       "      <th>...</th>\n",
       "      <td>...</td>\n",
       "      <td>...</td>\n",
       "      <td>...</td>\n",
       "      <td>...</td>\n",
       "      <td>...</td>\n",
       "      <td>...</td>\n",
       "      <td>...</td>\n",
       "      <td>...</td>\n",
       "      <td>...</td>\n",
       "      <td>...</td>\n",
       "      <td>...</td>\n",
       "      <td>...</td>\n",
       "      <td>...</td>\n",
       "      <td>...</td>\n",
       "    </tr>\n",
       "    <tr>\n",
       "      <th>9944</th>\n",
       "      <td>9945</td>\n",
       "      <td>15703923</td>\n",
       "      <td>Cameron</td>\n",
       "      <td>744</td>\n",
       "      <td>Germany</td>\n",
       "      <td>Male</td>\n",
       "      <td>41</td>\n",
       "      <td>NaN</td>\n",
       "      <td>190409.34</td>\n",
       "      <td>2</td>\n",
       "      <td>1</td>\n",
       "      <td>1</td>\n",
       "      <td>138361.48</td>\n",
       "      <td>0</td>\n",
       "    </tr>\n",
       "    <tr>\n",
       "      <th>9956</th>\n",
       "      <td>9957</td>\n",
       "      <td>15707861</td>\n",
       "      <td>Nucci</td>\n",
       "      <td>520</td>\n",
       "      <td>France</td>\n",
       "      <td>Female</td>\n",
       "      <td>46</td>\n",
       "      <td>NaN</td>\n",
       "      <td>85216.61</td>\n",
       "      <td>1</td>\n",
       "      <td>1</td>\n",
       "      <td>0</td>\n",
       "      <td>117369.52</td>\n",
       "      <td>1</td>\n",
       "    </tr>\n",
       "    <tr>\n",
       "      <th>9964</th>\n",
       "      <td>9965</td>\n",
       "      <td>15642785</td>\n",
       "      <td>Douglas</td>\n",
       "      <td>479</td>\n",
       "      <td>France</td>\n",
       "      <td>Male</td>\n",
       "      <td>34</td>\n",
       "      <td>NaN</td>\n",
       "      <td>117593.48</td>\n",
       "      <td>2</td>\n",
       "      <td>0</td>\n",
       "      <td>0</td>\n",
       "      <td>113308.29</td>\n",
       "      <td>0</td>\n",
       "    </tr>\n",
       "    <tr>\n",
       "      <th>9985</th>\n",
       "      <td>9986</td>\n",
       "      <td>15586914</td>\n",
       "      <td>Nepean</td>\n",
       "      <td>659</td>\n",
       "      <td>France</td>\n",
       "      <td>Male</td>\n",
       "      <td>36</td>\n",
       "      <td>NaN</td>\n",
       "      <td>123841.49</td>\n",
       "      <td>2</td>\n",
       "      <td>1</td>\n",
       "      <td>0</td>\n",
       "      <td>96833.00</td>\n",
       "      <td>0</td>\n",
       "    </tr>\n",
       "    <tr>\n",
       "      <th>9999</th>\n",
       "      <td>10000</td>\n",
       "      <td>15628319</td>\n",
       "      <td>Walker</td>\n",
       "      <td>792</td>\n",
       "      <td>France</td>\n",
       "      <td>Female</td>\n",
       "      <td>28</td>\n",
       "      <td>NaN</td>\n",
       "      <td>130142.79</td>\n",
       "      <td>1</td>\n",
       "      <td>1</td>\n",
       "      <td>0</td>\n",
       "      <td>38190.78</td>\n",
       "      <td>0</td>\n",
       "    </tr>\n",
       "  </tbody>\n",
       "</table>\n",
       "<p>909 rows × 14 columns</p>\n",
       "</div>"
      ],
      "text/plain": [
       "      RowNumber  CustomerId    Surname  CreditScore Geography  Gender  Age  \\\n",
       "30           31    15589475    Azikiwe          591     Spain  Female   39   \n",
       "48           49    15766205        Yin          550   Germany    Male   38   \n",
       "51           52    15768193  Trevisani          585   Germany    Male   36   \n",
       "53           54    15702298   Parkhill          655   Germany    Male   41   \n",
       "60           61    15651280     Hunter          742   Germany    Male   35   \n",
       "...         ...         ...        ...          ...       ...     ...  ...   \n",
       "9944       9945    15703923    Cameron          744   Germany    Male   41   \n",
       "9956       9957    15707861      Nucci          520    France  Female   46   \n",
       "9964       9965    15642785    Douglas          479    France    Male   34   \n",
       "9985       9986    15586914     Nepean          659    France    Male   36   \n",
       "9999      10000    15628319     Walker          792    France  Female   28   \n",
       "\n",
       "      Tenure    Balance  NumOfProducts  HasCrCard  IsActiveMember  \\\n",
       "30       NaN       0.00              3          1               0   \n",
       "48       NaN  103391.38              1          0               1   \n",
       "51       NaN  146050.97              2          0               0   \n",
       "53       NaN  125561.97              1          0               0   \n",
       "60       NaN  136857.00              1          0               0   \n",
       "...      ...        ...            ...        ...             ...   \n",
       "9944     NaN  190409.34              2          1               1   \n",
       "9956     NaN   85216.61              1          1               0   \n",
       "9964     NaN  117593.48              2          0               0   \n",
       "9985     NaN  123841.49              2          1               0   \n",
       "9999     NaN  130142.79              1          1               0   \n",
       "\n",
       "      EstimatedSalary  Exited  \n",
       "30          140469.38       1  \n",
       "48           90878.13       0  \n",
       "51           86424.57       0  \n",
       "53          164040.94       1  \n",
       "60           84509.57       0  \n",
       "...               ...     ...  \n",
       "9944        138361.48       0  \n",
       "9956        117369.52       1  \n",
       "9964        113308.29       0  \n",
       "9985         96833.00       0  \n",
       "9999         38190.78       0  \n",
       "\n",
       "[909 rows x 14 columns]"
      ]
     },
     "execution_count": 7,
     "metadata": {},
     "output_type": "execute_result"
    }
   ],
   "source": [
    "df[df.isna().any(axis=1)]"
   ]
  },
  {
   "cell_type": "markdown",
   "id": "7b72a9c0",
   "metadata": {},
   "source": [
    "<div class=\"alert alert-block alert-info\">\n",
    "<b>Изменения:</b> пропуски были заполнены рандомными числами в промежутке от минимального до максимального значений колонки 'Tenure'. Мне понравился больше такой вариант, т.к. значение на 5 лет ненамного поменяется.\n",
    "</div>"
   ]
  },
  {
   "cell_type": "code",
   "execution_count": 8,
   "id": "52c90dc5",
   "metadata": {},
   "outputs": [],
   "source": [
    "df['Tenure'] = df['Tenure'].fillna(random.randint(df['Tenure'].min(),df['Tenure'].max()))"
   ]
  },
  {
   "cell_type": "code",
   "execution_count": 9,
   "id": "aed063af",
   "metadata": {},
   "outputs": [],
   "source": [
    "df['Tenure'] = df['Tenure'].astype('int64')"
   ]
  },
  {
   "cell_type": "markdown",
   "id": "8c25caa4",
   "metadata": {},
   "source": [
    "<div class=\"alert alert-block alert-warning\">\n",
    "<b>⚠️ Совет:</b>\n",
    "\n",
    "Посмотри еще на такие варианты работы с пропусками:\n",
    "\n",
    "1. Распределение по годам использования банка практически ровное, если сейчас заменить 909 пропусков медианой, то мы увеличим в 2 раза значение для 5 лет. Это кажется некорректным. Можно сделать заполнение пропусков случайными числами, тогда мы снизим влияние на наше распределение.\n",
    "\n",
    "2. Так как значений в этом признаке ограниченное количество, можно сделать его категориальным признаком. Пропуски можно считать как за отдельную категорию (заполнить значением -1). Затем заменить тип данных Tenure на object и применить технику OHE.\n",
    "\n",
    "3. Заполнить \"0\", считая, что это новые клиенты.\n",
    "</div>"
   ]
  },
  {
   "cell_type": "code",
   "execution_count": 10,
   "id": "5db1119a",
   "metadata": {},
   "outputs": [],
   "source": [
    "df['Balance'] = df['Balance'].astype('int64')\n",
    "df['EstimatedSalary'] = df['EstimatedSalary'].astype('int64')"
   ]
  },
  {
   "cell_type": "code",
   "execution_count": 11,
   "id": "35fc43d9",
   "metadata": {},
   "outputs": [
    {
     "name": "stdout",
     "output_type": "stream",
     "text": [
      "<class 'pandas.core.frame.DataFrame'>\n",
      "RangeIndex: 10000 entries, 0 to 9999\n",
      "Data columns (total 14 columns):\n",
      " #   Column           Non-Null Count  Dtype \n",
      "---  ------           --------------  ----- \n",
      " 0   RowNumber        10000 non-null  int64 \n",
      " 1   CustomerId       10000 non-null  int64 \n",
      " 2   Surname          10000 non-null  object\n",
      " 3   CreditScore      10000 non-null  int64 \n",
      " 4   Geography        10000 non-null  object\n",
      " 5   Gender           10000 non-null  object\n",
      " 6   Age              10000 non-null  int64 \n",
      " 7   Tenure           10000 non-null  int64 \n",
      " 8   Balance          10000 non-null  int64 \n",
      " 9   NumOfProducts    10000 non-null  int64 \n",
      " 10  HasCrCard        10000 non-null  int64 \n",
      " 11  IsActiveMember   10000 non-null  int64 \n",
      " 12  EstimatedSalary  10000 non-null  int64 \n",
      " 13  Exited           10000 non-null  int64 \n",
      "dtypes: int64(11), object(3)\n",
      "memory usage: 1.1+ MB\n"
     ]
    }
   ],
   "source": [
    "df.info()"
   ]
  },
  {
   "cell_type": "markdown",
   "id": "7c713f60",
   "metadata": {},
   "source": [
    "<div class=\"alert alert-block alert-success\">\n",
    "<b>✔️ Успех:</b> 👍\n",
    "</div>"
   ]
  },
  {
   "cell_type": "markdown",
   "id": "2fde00a6",
   "metadata": {},
   "source": [
    "### Прямое кодирование"
   ]
  },
  {
   "cell_type": "code",
   "execution_count": 12,
   "id": "e434b9ef",
   "metadata": {},
   "outputs": [
    {
     "data": {
      "text/html": [
       "<div>\n",
       "<style scoped>\n",
       "    .dataframe tbody tr th:only-of-type {\n",
       "        vertical-align: middle;\n",
       "    }\n",
       "\n",
       "    .dataframe tbody tr th {\n",
       "        vertical-align: top;\n",
       "    }\n",
       "\n",
       "    .dataframe thead th {\n",
       "        text-align: right;\n",
       "    }\n",
       "</style>\n",
       "<table border=\"1\" class=\"dataframe\">\n",
       "  <thead>\n",
       "    <tr style=\"text-align: right;\">\n",
       "      <th></th>\n",
       "      <th>RowNumber</th>\n",
       "      <th>CustomerId</th>\n",
       "      <th>CreditScore</th>\n",
       "      <th>Age</th>\n",
       "      <th>Tenure</th>\n",
       "      <th>Balance</th>\n",
       "      <th>NumOfProducts</th>\n",
       "      <th>HasCrCard</th>\n",
       "      <th>IsActiveMember</th>\n",
       "      <th>EstimatedSalary</th>\n",
       "      <th>...</th>\n",
       "      <th>Surname_Zotova</th>\n",
       "      <th>Surname_Zox</th>\n",
       "      <th>Surname_Zubarev</th>\n",
       "      <th>Surname_Zubareva</th>\n",
       "      <th>Surname_Zuev</th>\n",
       "      <th>Surname_Zuyev</th>\n",
       "      <th>Surname_Zuyeva</th>\n",
       "      <th>Geography_Germany</th>\n",
       "      <th>Geography_Spain</th>\n",
       "      <th>Gender_Male</th>\n",
       "    </tr>\n",
       "  </thead>\n",
       "  <tbody>\n",
       "    <tr>\n",
       "      <th>0</th>\n",
       "      <td>1</td>\n",
       "      <td>15634602</td>\n",
       "      <td>619</td>\n",
       "      <td>42</td>\n",
       "      <td>2</td>\n",
       "      <td>0</td>\n",
       "      <td>1</td>\n",
       "      <td>1</td>\n",
       "      <td>1</td>\n",
       "      <td>101348</td>\n",
       "      <td>...</td>\n",
       "      <td>0</td>\n",
       "      <td>0</td>\n",
       "      <td>0</td>\n",
       "      <td>0</td>\n",
       "      <td>0</td>\n",
       "      <td>0</td>\n",
       "      <td>0</td>\n",
       "      <td>0</td>\n",
       "      <td>0</td>\n",
       "      <td>0</td>\n",
       "    </tr>\n",
       "    <tr>\n",
       "      <th>1</th>\n",
       "      <td>2</td>\n",
       "      <td>15647311</td>\n",
       "      <td>608</td>\n",
       "      <td>41</td>\n",
       "      <td>1</td>\n",
       "      <td>83807</td>\n",
       "      <td>1</td>\n",
       "      <td>0</td>\n",
       "      <td>1</td>\n",
       "      <td>112542</td>\n",
       "      <td>...</td>\n",
       "      <td>0</td>\n",
       "      <td>0</td>\n",
       "      <td>0</td>\n",
       "      <td>0</td>\n",
       "      <td>0</td>\n",
       "      <td>0</td>\n",
       "      <td>0</td>\n",
       "      <td>0</td>\n",
       "      <td>1</td>\n",
       "      <td>0</td>\n",
       "    </tr>\n",
       "    <tr>\n",
       "      <th>2</th>\n",
       "      <td>3</td>\n",
       "      <td>15619304</td>\n",
       "      <td>502</td>\n",
       "      <td>42</td>\n",
       "      <td>8</td>\n",
       "      <td>159660</td>\n",
       "      <td>3</td>\n",
       "      <td>1</td>\n",
       "      <td>0</td>\n",
       "      <td>113931</td>\n",
       "      <td>...</td>\n",
       "      <td>0</td>\n",
       "      <td>0</td>\n",
       "      <td>0</td>\n",
       "      <td>0</td>\n",
       "      <td>0</td>\n",
       "      <td>0</td>\n",
       "      <td>0</td>\n",
       "      <td>0</td>\n",
       "      <td>0</td>\n",
       "      <td>0</td>\n",
       "    </tr>\n",
       "    <tr>\n",
       "      <th>3</th>\n",
       "      <td>4</td>\n",
       "      <td>15701354</td>\n",
       "      <td>699</td>\n",
       "      <td>39</td>\n",
       "      <td>1</td>\n",
       "      <td>0</td>\n",
       "      <td>2</td>\n",
       "      <td>0</td>\n",
       "      <td>0</td>\n",
       "      <td>93826</td>\n",
       "      <td>...</td>\n",
       "      <td>0</td>\n",
       "      <td>0</td>\n",
       "      <td>0</td>\n",
       "      <td>0</td>\n",
       "      <td>0</td>\n",
       "      <td>0</td>\n",
       "      <td>0</td>\n",
       "      <td>0</td>\n",
       "      <td>0</td>\n",
       "      <td>0</td>\n",
       "    </tr>\n",
       "    <tr>\n",
       "      <th>4</th>\n",
       "      <td>5</td>\n",
       "      <td>15737888</td>\n",
       "      <td>850</td>\n",
       "      <td>43</td>\n",
       "      <td>2</td>\n",
       "      <td>125510</td>\n",
       "      <td>1</td>\n",
       "      <td>1</td>\n",
       "      <td>1</td>\n",
       "      <td>79084</td>\n",
       "      <td>...</td>\n",
       "      <td>0</td>\n",
       "      <td>0</td>\n",
       "      <td>0</td>\n",
       "      <td>0</td>\n",
       "      <td>0</td>\n",
       "      <td>0</td>\n",
       "      <td>0</td>\n",
       "      <td>0</td>\n",
       "      <td>1</td>\n",
       "      <td>0</td>\n",
       "    </tr>\n",
       "  </tbody>\n",
       "</table>\n",
       "<p>5 rows × 2945 columns</p>\n",
       "</div>"
      ],
      "text/plain": [
       "   RowNumber  CustomerId  CreditScore  Age  Tenure  Balance  NumOfProducts  \\\n",
       "0          1    15634602          619   42       2        0              1   \n",
       "1          2    15647311          608   41       1    83807              1   \n",
       "2          3    15619304          502   42       8   159660              3   \n",
       "3          4    15701354          699   39       1        0              2   \n",
       "4          5    15737888          850   43       2   125510              1   \n",
       "\n",
       "   HasCrCard  IsActiveMember  EstimatedSalary  ...  Surname_Zotova  \\\n",
       "0          1               1           101348  ...               0   \n",
       "1          0               1           112542  ...               0   \n",
       "2          1               0           113931  ...               0   \n",
       "3          0               0            93826  ...               0   \n",
       "4          1               1            79084  ...               0   \n",
       "\n",
       "   Surname_Zox  Surname_Zubarev  Surname_Zubareva  Surname_Zuev  \\\n",
       "0            0                0                 0             0   \n",
       "1            0                0                 0             0   \n",
       "2            0                0                 0             0   \n",
       "3            0                0                 0             0   \n",
       "4            0                0                 0             0   \n",
       "\n",
       "   Surname_Zuyev  Surname_Zuyeva  Geography_Germany  Geography_Spain  \\\n",
       "0              0               0                  0                0   \n",
       "1              0               0                  0                1   \n",
       "2              0               0                  0                0   \n",
       "3              0               0                  0                0   \n",
       "4              0               0                  0                1   \n",
       "\n",
       "   Gender_Male  \n",
       "0            0  \n",
       "1            0  \n",
       "2            0  \n",
       "3            0  \n",
       "4            0  \n",
       "\n",
       "[5 rows x 2945 columns]"
      ]
     },
     "execution_count": 12,
     "metadata": {},
     "output_type": "execute_result"
    }
   ],
   "source": [
    "#прямое кодирование с использованием дамми-ловушки\n",
    "df_ohe = pd.get_dummies(df, drop_first=True)\n",
    "df_ohe.head()"
   ]
  },
  {
   "cell_type": "markdown",
   "id": "70fff679",
   "metadata": {},
   "source": [
    "<div class=\"alert alert-block alert-success\">\n",
    "<b>✔️ Успех:</b>\n",
    "\n",
    "В данном случае это наиболее подходящий способ закодировать категориальные колонки 👍\n",
    "</div>"
   ]
  },
  {
   "cell_type": "markdown",
   "id": "4cb243c4",
   "metadata": {},
   "source": [
    "### Разбиение данных"
   ]
  },
  {
   "cell_type": "code",
   "execution_count": 13,
   "id": "a19df0ab",
   "metadata": {},
   "outputs": [],
   "source": [
    "target = df['Exited']\n",
    "delete=['RowNumber','CustomerId','Surname','Geography','Gender','Exited']\n",
    "features = df.drop(delete, axis=1)"
   ]
  },
  {
   "cell_type": "markdown",
   "id": "d246251e",
   "metadata": {},
   "source": [
    "<div class=\"alert alert-block alert-success\">\n",
    "<b>✔️ Успех:</b>\n",
    "\n",
    "Удалить неинформативные признаки - хорошее решение 👍\n",
    "</div>"
   ]
  },
  {
   "cell_type": "code",
   "execution_count": 14,
   "id": "df8d498f",
   "metadata": {},
   "outputs": [],
   "source": [
    "features_train, features_v, target_train, target_v = train_test_split(\n",
    "    features, target, test_size=0.4, random_state=12345)#разделение обучающей, валидационной, тестовой выборки как 60:20:20"
   ]
  },
  {
   "cell_type": "code",
   "execution_count": 15,
   "id": "ef95ccd6",
   "metadata": {},
   "outputs": [],
   "source": [
    "features_valid, features_test, target_valid, target_test = train_test_split(\n",
    "    features_v, target_v, test_size=0.5, random_state=12345)"
   ]
  },
  {
   "cell_type": "code",
   "execution_count": 16,
   "id": "9175043b",
   "metadata": {
    "scrolled": true
   },
   "outputs": [
    {
     "data": {},
     "execution_count": 16,
     "metadata": {},
     "output_type": "execute_result"
    }
   ],
   "source": [
    "features_train.shape"
   ]
  },
  {
   "cell_type": "code",
   "execution_count": 17,
   "id": "32f5baec",
   "metadata": {},
   "outputs": [
    {
     "data": {},
     "execution_count": 17,
     "metadata": {},
     "output_type": "execute_result"
    }
   ],
   "source": [
    "target_train.shape"
   ]
  },
  {
   "cell_type": "code",
   "execution_count": 18,
   "id": "b1db3fa6",
   "metadata": {},
   "outputs": [
    {
     "data": {},
     "execution_count": 18,
     "metadata": {},
     "output_type": "execute_result"
    }
   ],
   "source": [
    "features_valid.shape"
   ]
  },
  {
   "cell_type": "code",
   "execution_count": 19,
   "id": "7cb17d38",
   "metadata": {},
   "outputs": [
    {
     "data": {},
     "execution_count": 19,
     "metadata": {},
     "output_type": "execute_result"
    }
   ],
   "source": [
    "target_valid.shape"
   ]
  },
  {
   "cell_type": "code",
   "execution_count": 20,
   "id": "1279c331",
   "metadata": {},
   "outputs": [
    {
     "data": {},
     "execution_count": 20,
     "metadata": {},
     "output_type": "execute_result"
    }
   ],
   "source": [
    "features_test.shape"
   ]
  },
  {
   "cell_type": "code",
   "execution_count": 21,
   "id": "58d1a8d4",
   "metadata": {},
   "outputs": [
    {
     "data": {},
     "execution_count": 21,
     "metadata": {},
     "output_type": "execute_result"
    }
   ],
   "source": [
    "target_test.shape"
   ]
  },
  {
   "cell_type": "markdown",
   "id": "acda6c85",
   "metadata": {},
   "source": [
    "<div class=\"alert alert-block alert-success\">\n",
    "<b>✔️ Успех:</b> \n",
    "\n",
    "Данные поделены верно, пропорции выбраны адекватные 👍\n",
    "</div>"
   ]
  },
  {
   "cell_type": "code",
   "execution_count": 22,
   "id": "360cafd4",
   "metadata": {
    "scrolled": true
   },
   "outputs": [],
   "source": [
    "#масштабирование признаков\n",
    "numeric=['CreditScore','Age','Tenure','Balance','EstimatedSalary']\n",
    "scaler = StandardScaler()\n",
    "scaler.fit(features_train[numeric])\n",
    "\n",
    "features_train[numeric] = scaler.transform(features_train[numeric])\n",
    "features_valid[numeric] = scaler.transform(features_valid[numeric])\n",
    "features_test[numeric] = scaler.transform(features_test[numeric])"
   ]
  },
  {
   "cell_type": "code",
   "execution_count": 23,
   "id": "90820b88",
   "metadata": {},
   "outputs": [
    {
     "data": {},
     "execution_count": 23,
     "metadata": {},
     "output_type": "execute_result"
    }
   ],
   "source": [
    "features_train.shape"
   ]
  },
  {
   "cell_type": "markdown",
   "id": "03371268",
   "metadata": {},
   "source": [
    "<div class=\"alert alert-block alert-success\">\n",
    "<b>✔️ Успех:</b>\n",
    "\n",
    "Отлично, признаки масштабированы 👍 Не забыли, что fit нужно делать только на train выборке.\n",
    "</div>"
   ]
  },
  {
   "cell_type": "markdown",
   "id": "8bfbeba3",
   "metadata": {},
   "source": [
    "<div class=\"alert alert-block alert-danger\">\n",
    "<b>❌ Замечание:</b>\n",
    "\n",
    "Тестовую выборку тоже нужно масштабировать\n",
    "</div>"
   ]
  },
  {
   "cell_type": "markdown",
   "id": "7acbdd7f",
   "metadata": {},
   "source": [
    "<div class=\"alert alert-block alert-info\">\n",
    "<b>Изменения:</b> масштабировал тестовую выборку.\n",
    "</div>"
   ]
  },
  {
   "cell_type": "markdown",
   "id": "af199f3e",
   "metadata": {},
   "source": [
    "<div class=\"alert alert-block alert-success\">\n",
    "<b>V2 ✔️ Успешно исправлено</b>\n",
    "</div>"
   ]
  },
  {
   "cell_type": "markdown",
   "id": "0f455c6e",
   "metadata": {},
   "source": [
    "### Вывод"
   ]
  },
  {
   "cell_type": "markdown",
   "id": "c9ee4a03",
   "metadata": {},
   "source": [
    "В данных присутствовали пропуски и несоответствующий тип данных для создания моделей."
   ]
  },
  {
   "cell_type": "markdown",
   "id": "7591848a",
   "metadata": {},
   "source": [
    "## Исследование моделей без учета дисбаланса"
   ]
  },
  {
   "cell_type": "code",
   "execution_count": 24,
   "id": "99bce445",
   "metadata": {},
   "outputs": [],
   "source": [
    "#проверка адекватности модели\n",
    "target_pred_constant=pd.Series([0]*len(df['Exited']))\n",
    "\n",
    "print(accuracy_score(target, target_pred_constant))"
   ]
  },
  {
   "cell_type": "markdown",
   "id": "c4c107a8",
   "metadata": {},
   "source": [
    "<div class=\"alert alert-block alert-success\">\n",
    "<b>✔️ Успех:</b>\n",
    "\n",
    "Виден явный дисбаланс классов в пользу отрицательного класса. Если мы будем всех людей прогнозировать, что они не уйдут из банка, то в 80% случаев мы будем правы.\n",
    "</div>"
   ]
  },
  {
   "cell_type": "markdown",
   "id": "09776241",
   "metadata": {},
   "source": [
    "### Дерево решений"
   ]
  },
  {
   "cell_type": "code",
   "execution_count": 25,
   "id": "2262fc94",
   "metadata": {
    "scrolled": true
   },
   "outputs": [],
   "source": [
    "best_score=0\n",
    "for depth in range(1, 30):\n",
    "    model = DecisionTreeClassifier(random_state=12345,max_depth=depth)# создание модели дерева решений\n",
    "\n",
    "    # обучение модели\n",
    "    model.fit(features_train,target_train)\n",
    "    predictions_valid = model.predict(features_valid)# предсказания на валидационной выборке\n",
    "    \n",
    "\n",
    "    print(\"max_depth valid =\", depth, \": \", end='')\n",
    "    print(accuracy_score(target_valid, predictions_valid))\n",
    "    if best_score<accuracy_score(target_valid, predictions_valid):\n",
    "        best_score=accuracy_score(target_valid, predictions_valid)#наилучший показатель\n",
    "print('Accuracy наилучшей модели =',best_score)"
   ]
  },
  {
   "cell_type": "code",
   "execution_count": 26,
   "id": "bdec075e",
   "metadata": {},
   "outputs": [
    {
     "data": {
      "image/png": "[encoded data removed]"
     },
     "metadata": {
      "needs_background": "light"
     },
     "output_type": "display_data"
    }
   ],
   "source": [
    "import matplotlib.pyplot as plt\n",
    "from sklearn import tree\n",
    "\n",
    "model = DecisionTreeClassifier(random_state=12345,max_depth=4)# создание модели дерева решений\n",
    "\n",
    "# обучение модели\n",
    "model.fit(features_train,target_train)\n",
    "\n",
    "fig, ax = plt.subplots(figsize=(30,20))\n",
    "tree.plot_tree(model)\n",
    "plt.show()"
   ]
  },
  {
   "cell_type": "markdown",
   "id": "413fe861",
   "metadata": {},
   "source": [
    "accuracy решающего дерева и константной модели отличаются немного. Проверим метрику f1-меры модели:"
   ]
  },
  {
   "cell_type": "code",
   "execution_count": 27,
   "id": "0c082733",
   "metadata": {},
   "outputs": [],
   "source": [
    "model = DecisionTreeClassifier(random_state=12345,max_depth=depth)# создание модели дерева решений\n",
    "\n",
    "# обучение модели\n",
    "model.fit(features_train,target_train)\n",
    "predicted_valid = model.predict(features_valid)# предсказания на валидационной выборке\n",
    "\n",
    "print(f1_score(target_valid,predicted_valid))"
   ]
  },
  {
   "cell_type": "markdown",
   "id": "4e55d903",
   "metadata": {},
   "source": [
    "<div class=\"alert alert-block alert-success\">\n",
    "<b>✔️ Успех:</b>\n",
    "\n",
    "Модель обучена верно 👍\n",
    "</div>"
   ]
  },
  {
   "cell_type": "markdown",
   "id": "7532417f",
   "metadata": {},
   "source": [
    "### Случайный лес"
   ]
  },
  {
   "cell_type": "code",
   "execution_count": 28,
   "id": "fd0144d7",
   "metadata": {},
   "outputs": [],
   "source": [
    "best_model = None\n",
    "best_result = 0\n",
    "for depth in range(2, 22, 2):\n",
    "    for est in range(50, 351, 50):\n",
    "        model = RandomForestClassifier(random_state=12345, n_estimators=est, max_depth=depth) # обучение модели с заданным количеством деревьев\n",
    "        model.fit(features_train,target_train) # обучение модели на тренировочной выборке\n",
    "        result = model.score(features_valid,target_valid) # качество модели на валидационной выборке\n",
    "        if result > best_result:\n",
    "            best_model = model# наилучшая модель\n",
    "            best_result = result#  наилучшее значение метрики accuracy на валидационных данных\n",
    "            best_est=est\n",
    "            best_depth=depth\n",
    "print(\"Accuracy наилучшей модели на валидационной выборке:\", best_result, 'луччшее количество деревьев',best_est,'лучшая глубина дерева',best_depth)"
   ]
  },
  {
   "cell_type": "code",
   "execution_count": 29,
   "id": "046329d8",
   "metadata": {},
   "outputs": [],
   "source": [
    "model=RandomForestClassifier(random_state=12345, n_estimators=best_est, max_depth=best_depth)\n",
    "model.fit(features_train,target_train)\n",
    "predicted_valid = model.predict(features_valid)\n",
    "\n",
    "print(f1_score(target_valid,predicted_valid))"
   ]
  },
  {
   "cell_type": "markdown",
   "id": "e1fee232",
   "metadata": {},
   "source": [
    "<div class=\"alert alert-block alert-danger\">\n",
    "<b>❌ Замечание:</b>\n",
    "\n",
    "Для случайного леса стоит подбирать и глубину дерева:\n",
    "</div>\n",
    "\n",
    "```python\n",
    "for depth in range(2, 22, 2):\n",
    "    for est in range(50, 351, 50):\n",
    "        ...\n",
    "```"
   ]
  },
  {
   "cell_type": "markdown",
   "id": "96f54a06",
   "metadata": {},
   "source": [
    "<div class=\"alert alert-block alert-info\">\n",
    "<b>Изменения:</b> Сделал)\n",
    "</div>"
   ]
  },
  {
   "cell_type": "markdown",
   "id": "cf08f763",
   "metadata": {},
   "source": [
    "### Логистическая регрессия"
   ]
  },
  {
   "cell_type": "code",
   "execution_count": 30,
   "id": "a4ee142d",
   "metadata": {
    "scrolled": true
   },
   "outputs": [],
   "source": [
    "#прямое кодирование\n",
    "target_ohe = df_ohe['Exited']\n",
    "features_ohe = df_ohe.drop(['RowNumber','CustomerId','Exited'], axis=1)\n",
    "features_train_ohe, features_v, target_train_ohe, target_v = train_test_split(\n",
    "    features_ohe, target_ohe, test_size=0.4, random_state=12345)#разделение обучающей, валидационной, тестовой выборки как 60:20:20\n",
    "\n",
    "features_valid_ohe, features_test_ohe, target_valid_ohe, target_test_ohe = train_test_split(\n",
    "    features_v, target_v, test_size=0.5, random_state=12345)\n",
    "\n",
    "numeric = ['CreditScore','Age','Tenure','Balance','EstimatedSalary']\n",
    "\n",
    "scaler_ohe = StandardScaler()\n",
    "scaler_ohe.fit(features_train_ohe[numeric])\n",
    "features_train_ohe[numeric] = scaler_ohe.transform(features_train_ohe[numeric]) \n",
    "# < преобразуйте валидационную выборку >\n",
    "\n",
    "features_valid_ohe[numeric] = scaler_ohe.transform(features_valid_ohe[numeric])\n",
    "print(df_ohe)\n",
    "print(features_train.shape)\n",
    "print(features_valid.shape)"
   ]
  },
  {
   "cell_type": "markdown",
   "id": "b955ee06",
   "metadata": {},
   "source": [
    "<div class=\"alert alert-block alert-danger\">\n",
    "<b>❌ Замечание:</b>\n",
    "\n",
    "Не стоит повторять код) Мы ведь уже выполнили кодирование, разбиение и масштабирование данных\n",
    "</div>"
   ]
  },
  {
   "cell_type": "markdown",
   "id": "f17dfeac",
   "metadata": {},
   "source": [
    "<div class=\"alert alert-block alert-info\">\n",
    "<b>Изменения:</b> df_ohe убрал(1 строку кода). И действия все эти делаю для прямого кодирования, верно?\n",
    "</div>"
   ]
  },
  {
   "cell_type": "code",
   "execution_count": 31,
   "id": "bea822bc",
   "metadata": {},
   "outputs": [
    {
     "data": {},
     "execution_count": 31,
     "metadata": {},
     "output_type": "execute_result"
    }
   ],
   "source": [
    "model = LogisticRegression(random_state=12345, solver='liblinear')\n",
    "model.fit(features_train_ohe, target_train_ohe)\n",
    "\n",
    "predicted_valid = model.predict(features_valid_ohe)\n",
    "accuracy_score(target_valid_ohe, predicted_valid)"
   ]
  },
  {
   "cell_type": "code",
   "execution_count": 32,
   "id": "5360dc5e",
   "metadata": {},
   "outputs": [],
   "source": [
    "print(f1_score(target_valid_ohe,predicted_valid))"
   ]
  },
  {
   "cell_type": "markdown",
   "id": "8ae2731b",
   "metadata": {},
   "source": [
    "### Вывод"
   ]
  },
  {
   "cell_type": "markdown",
   "id": "dc86e5a0",
   "metadata": {},
   "source": [
    "Адекватность моделей без учета дисбаланса классов в процентном показатели выглядят не очень высокими. Модель случайного леса показывает наибольший показатель f1-меры  - 55% при точности в 86%. У логистической регрессии f1-мера равна 35%. У дерева решений f1-мера - 47%."
   ]
  },
  {
   "cell_type": "markdown",
   "id": "54581899",
   "metadata": {},
   "source": [
    "## Анализ моделей с учетом дисбаланса классов"
   ]
  },
  {
   "cell_type": "code",
   "execution_count": 33,
   "id": "e97f964b",
   "metadata": {},
   "outputs": [],
   "source": [
    "#проверим размеры отрицательных и положительных классов\n",
    "features_zeros = features[target == 0]\n",
    "features_ones = features[target == 1]\n",
    "target_zeros = target[target == 0]\n",
    "target_ones = target[target == 1]\n",
    "\n",
    "print(features_zeros.shape)\n",
    "print(features_ones.shape)\n",
    "print(target_zeros.shape)\n",
    "print(target_ones.shape)"
   ]
  },
  {
   "cell_type": "code",
   "execution_count": 34,
   "id": "1005603e",
   "metadata": {},
   "outputs": [],
   "source": [
    "#увеличение выборки\n",
    "def upsample(features, target, repeat):\n",
    "    features_zeros = features[target == 0]\n",
    "    features_ones = features[target == 1]\n",
    "    target_zeros = target[target == 0]\n",
    "    target_ones = target[target == 1]\n",
    "\n",
    "    features_upsampled = pd.concat([features_zeros] + [features_ones] * repeat)\n",
    "    target_upsampled = pd.concat([target_zeros] + [target_ones] * repeat)\n",
    "    \n",
    "    features_upsampled, target_upsampled = shuffle(\n",
    "        features_upsampled, target_upsampled, random_state=12345)\n",
    "    \n",
    "    return features_upsampled, target_upsampled\n",
    "features_upsampled, target_upsampled = upsample(features_train, target_train, 4)"
   ]
  },
  {
   "cell_type": "code",
   "execution_count": 35,
   "id": "9c87a720",
   "metadata": {},
   "outputs": [],
   "source": [
    "print(features_upsampled.shape)\n",
    "print(target_upsampled.shape)"
   ]
  },
  {
   "cell_type": "markdown",
   "id": "ec612121",
   "metadata": {},
   "source": [
    "<div class=\"alert alert-block alert-danger\">\n",
    "<b>❌ Замечание:</b>\n",
    "\n",
    "Параметр увеличения выборки нужно подобрать так, чтобы классы сбалансировались. Во сколько раз отрицательный класс больше положительного?\n",
    "</div>"
   ]
  },
  {
   "cell_type": "markdown",
   "id": "3fd210f8",
   "metadata": {},
   "source": [
    "<div class=\"alert alert-block alert-info\">\n",
    "<b>Изменения:</b> изучил балансировку и сделал соответствующие выводы. Исправил repeat = 4 вместо 10.\n",
    "</div>"
   ]
  },
  {
   "cell_type": "markdown",
   "id": "a8df4937",
   "metadata": {},
   "source": [
    "<div class=\"alert alert-block alert-success\">\n",
    "<b>V2 ✔️ Успешно исправлено</b>\n",
    "</div>"
   ]
  },
  {
   "cell_type": "code",
   "execution_count": 36,
   "id": "5c2f0ffc",
   "metadata": {},
   "outputs": [],
   "source": [
    "#уменьшение выборки\n",
    "def downsample(features, target, fraction):\n",
    "    features_zeros = features[target == 0]\n",
    "    features_ones = features[target == 1]\n",
    "    target_zeros = target[target == 0]\n",
    "    target_ones = target[target == 1]\n",
    "\n",
    "    features_downsampled = pd.concat(\n",
    "        [features_zeros.sample(frac=fraction, random_state=12345)] + [features_ones])\n",
    "    target_downsampled = pd.concat(\n",
    "        [target_zeros.sample(frac=fraction, random_state=12345)] + [target_ones])\n",
    "    \n",
    "    features_downsampled, target_downsampled = shuffle(\n",
    "        features_downsampled, target_downsampled, random_state=12345)\n",
    "    \n",
    "    return features_downsampled, target_downsampled\n",
    "\n",
    "features_downsampled, target_downsampled = downsample(features_train, target_train, 0.25)"
   ]
  },
  {
   "cell_type": "markdown",
   "id": "bb0d2e28",
   "metadata": {},
   "source": [
    "<div class=\"alert alert-block alert-danger\">\n",
    "<b>❌ Замечание:</b>\n",
    "\n",
    "Параметр уменьшения выборки нужно подобрать так, чтобы классы сбалансировались. Во сколько раз положительный класс меньше отрицательного?\n",
    "</div>"
   ]
  },
  {
   "cell_type": "markdown",
   "id": "5e50f148",
   "metadata": {},
   "source": [
    "<div class=\"alert alert-block alert-info\">\n",
    "<b>Изменения:</b> изучил балансировку и сделал соответствующие выводы. Исправил repeat = 0.25 вместо 0.1.\n",
    "</div>"
   ]
  },
  {
   "cell_type": "markdown",
   "id": "b38be9ae",
   "metadata": {},
   "source": [
    "<div class=\"alert alert-block alert-success\">\n",
    "<b>V2 ✔️ Успешно исправлено</b>\n",
    "</div>"
   ]
  },
  {
   "cell_type": "markdown",
   "id": "bab96fab",
   "metadata": {},
   "source": [
    "### Дерево решений"
   ]
  },
  {
   "cell_type": "markdown",
   "id": "e09064f9",
   "metadata": {},
   "source": [
    "Попробуем применить несбалансированную классификацию несколькими способами:"
   ]
  },
  {
   "cell_type": "code",
   "execution_count": 38,
   "id": "971a2203",
   "metadata": {
    "scrolled": true
   },
   "outputs": [],
   "source": [
    "#сбалансированный класс\n",
    "best_score=0\n",
    "for depth in range(1, 40):\n",
    "    model = DecisionTreeClassifier(random_state=12345,max_depth=depth,class_weight='balanced')# создание модели дерева решений\n",
    "\n",
    "    # обучение модели\n",
    "    model.fit(features_train,target_train)\n",
    "    predictions_valid = model.predict(features_valid)# предсказания на валидационной выборке\n",
    "    \n",
    "\n",
    "    print(\"max_depth valid =\", depth, \": \", end='')\n",
    "    print(accuracy_score(target_valid, predictions_valid),\"F1:\", f1_score(target_valid, predictions_valid))\n",
    "    if best_score<accuracy_score(target_valid, predictions_valid):\n",
    "        best_score=accuracy_score(target_valid, predictions_valid)#наилучший показатель\n",
    "print('Accuracy наилучшей модели =',best_score)"
   ]
  },
  {
   "cell_type": "code",
   "execution_count": 39,
   "id": "c240e794",
   "metadata": {},
   "outputs": [],
   "source": [
    "model = DecisionTreeClassifier(random_state=12345,max_depth=5,class_weight='balanced')\n",
    "model.fit(features_train,target_train)\n",
    "predicted_valid = model.predict(features_valid)\n",
    "\n",
    "print(\"F1: \", f1_score(target_valid, predicted_valid))\n",
    "print(\"ROC_AUC: \", roc_auc_score(target_valid, predicted_valid))\n",
    "print(\"RECALL: \", recall_score(target_valid, predicted_valid))\n",
    "print(\"PRECISION: \", precision_score(target_valid, predicted_valid))\n",
    "print(\"Accuracy_score \", accuracy_score(target_valid, predicted_valid))"
   ]
  },
  {
   "cell_type": "markdown",
   "id": "bde75110",
   "metadata": {},
   "source": [
    "<div class=\"alert alert-block alert-success\">\n",
    "<b>✔️ Успех:</b>\n",
    "\n",
    "Модель со сбалансированными весами классов обучена корректно 👍\n",
    "</div>"
   ]
  },
  {
   "cell_type": "code",
   "execution_count": 40,
   "id": "e6954a76",
   "metadata": {
    "scrolled": true
   },
   "outputs": [],
   "source": [
    "#увеличение выборки\n",
    "best_score=0   \n",
    "for depth in range(1, 40):\n",
    "    model = DecisionTreeClassifier(random_state=12345,max_depth=depth)# создание модели дерева решений\n",
    "    # обучение модели\n",
    "    model.fit(features_upsampled,target_upsampled)\n",
    "    predictions_valid = model.predict(features_valid)# предсказания на валидационной выборке\n",
    "    \n",
    "\n",
    "    print(\"max_depth valid =\", depth, \": \", end='')\n",
    "    print(accuracy_score(target_valid, predictions_valid),\"F1:\", f1_score(target_valid, predictions_valid))\n",
    "    if best_score<accuracy_score(target_valid, predictions_valid):\n",
    "        best_score=accuracy_score(target_valid, predictions_valid)#наилучший показатель\n",
    "print('Accuracy наилучшей модели =',best_score)"
   ]
  },
  {
   "cell_type": "code",
   "execution_count": 41,
   "id": "e7d8dfae",
   "metadata": {},
   "outputs": [],
   "source": [
    "model = DecisionTreeClassifier(random_state=12345,max_depth=5)\n",
    "model.fit(features_upsampled,target_upsampled)\n",
    "predicted_valid = model.predict(features_valid)\n",
    "\n",
    "print(\"F1: \", f1_score(target_valid, predicted_valid))\n",
    "print(\"ROC_AUC: \", roc_auc_score(target_valid, predicted_valid))\n",
    "print(\"RECALL: \", recall_score(target_valid, predicted_valid))\n",
    "print(\"PRECISION: \", precision_score(target_valid, predicted_valid))\n",
    "print(\"Accuracy_score \", accuracy_score(target_valid, predicted_valid))"
   ]
  },
  {
   "cell_type": "markdown",
   "id": "e78a92ef",
   "metadata": {},
   "source": [
    "<div class=\"alert alert-block alert-danger\">\n",
    "<b>❌ Замечание:</b>\n",
    "\n",
    "Балансировка весов классов (class_weight) и увеличение выборки это разные методы борьбы с дисбалансом. Их конечно можно использовать вместе, но в нашей задаче мы должны сравнивать их. Можешь выполнить их по отдельности?)\n",
    "</div>"
   ]
  },
  {
   "cell_type": "markdown",
   "id": "2583a87a",
   "metadata": {},
   "source": [
    "<div class=\"alert alert-block alert-info\">\n",
    "<b>Изменения:</b> Да, конечно :)\n",
    "</div>"
   ]
  },
  {
   "cell_type": "markdown",
   "id": "6e074412",
   "metadata": {},
   "source": [
    "<div class=\"alert alert-block alert-success\">\n",
    "<b>V2 ✔️ Успешно исправлено</b>\n",
    "</div>"
   ]
  },
  {
   "cell_type": "code",
   "execution_count": 42,
   "id": "0f19ddfa",
   "metadata": {
    "scrolled": true
   },
   "outputs": [],
   "source": [
    "best_score=0\n",
    "\n",
    "for depth in range(1, 40):\n",
    "    model = DecisionTreeClassifier(random_state=12345,max_depth=depth)# создание модели дерева решений\n",
    "    # обучение модели\n",
    "    model.fit(features_downsampled, target_downsampled)\n",
    "    predictions_valid = model.predict(features_valid)# предсказания на валидационной выборке\n",
    "    \n",
    "\n",
    "    print(\"max_depth valid =\", depth, \": \", end='')\n",
    "    print(accuracy_score(target_valid, predictions_valid),\"F1:\", f1_score(target_valid, predictions_valid))\n",
    "    if best_score<accuracy_score(target_valid, predictions_valid):\n",
    "        best_score=accuracy_score(target_valid, predictions_valid)#наилучший показатель\n",
    "print('Accuracy наилучшей модели =',best_score)"
   ]
  },
  {
   "cell_type": "code",
   "execution_count": 43,
   "id": "96784262",
   "metadata": {},
   "outputs": [],
   "source": [
    "model = DecisionTreeClassifier(random_state=12345,max_depth=6)\n",
    "model.fit(features_downsampled, target_downsampled)\n",
    "predicted_valid = model.predict(features_valid)\n",
    "\n",
    "print(\"F1: \", f1_score(target_valid, predicted_valid))\n",
    "print(\"ROC_AUC: \", roc_auc_score(target_valid, predicted_valid))\n",
    "print(\"RECALL: \", recall_score(target_valid, predicted_valid))\n",
    "print(\"PRECISION: \", precision_score(target_valid, predicted_valid))\n",
    "print(\"Accuracy_score \", accuracy_score(target_valid, predicted_valid))"
   ]
  },
  {
   "cell_type": "markdown",
   "id": "4fc66875",
   "metadata": {},
   "source": [
    "<div class=\"alert alert-block alert-danger\">\n",
    "<b>❌ Замечание:</b>\n",
    "\n",
    "Здесь тоже нужно убрать `class_weight='balanced'`\n",
    "</div>"
   ]
  },
  {
   "cell_type": "markdown",
   "id": "fda1b3cc",
   "metadata": {},
   "source": [
    "<div class=\"alert alert-block alert-info\">\n",
    "<b>Изменения:</b> Сделал)\n",
    "</div>"
   ]
  },
  {
   "cell_type": "markdown",
   "id": "095525d6",
   "metadata": {},
   "source": [
    "<div class=\"alert alert-block alert-success\">\n",
    "<b>V2 ✔️ Успешно исправлено</b>\n",
    "</div>"
   ]
  },
  {
   "cell_type": "markdown",
   "id": "2babcfda",
   "metadata": {},
   "source": [
    "### Случайный лес"
   ]
  },
  {
   "cell_type": "code",
   "execution_count": 44,
   "id": "0af6f5fb",
   "metadata": {},
   "outputs": [],
   "source": [
    "#сбалансированный класс\n",
    "best_model = None\n",
    "best_f1 = 0\n",
    "for depth in range(2, 22, 2):\n",
    "    for est in range(50, 351, 50):\n",
    "        model = RandomForestClassifier(random_state=12345, n_estimators=est,class_weight='balanced',max_depth=depth) # обучение модели с заданным количеством деревьев\n",
    "        model.fit(features_train,target_train) # обучение модели на тренировочной выборке\n",
    "        result = model.score(features_valid,target_valid) # качество модели на валидационной выборке\n",
    "        predicted_valid = model.predict(features_valid)\n",
    "        print(\"Accuracy наилучшей модели на валидационной выборке:\", result, 'луччшее количество деревьев',est,'depth=',depth,'F1:',f1_score(target_valid,predicted_valid))\n",
    "        if f1_score(target_valid,predicted_valid) > best_f1:\n",
    "            best_model = model# наилучшая модель\n",
    "            best_f1 = f1_score(target_valid,predicted_valid)#  наилучшее значение метрики accuracy на валидационных данных\n",
    "            best_result=result = model.score(features_valid,target_valid)\n",
    "            best_est=est\n",
    "            best_depth=depth\n",
    "print(\"Accuracy наилучшей модели на валидационной выборке:\", best_result,'лучшее f1:',best_f1, 'луччшее количество деревьев',best_est,'лучшая глубина дерева',best_depth)"
   ]
  },
  {
   "cell_type": "code",
   "execution_count": 45,
   "id": "46a9b95e",
   "metadata": {},
   "outputs": [],
   "source": [
    "model=RandomForestClassifier(random_state=12345, n_estimators=best_est,class_weight='balanced',max_depth=best_depth)\n",
    "model.fit(features_train,target_train)\n",
    "predicted_valid = model.predict(features_valid)\n",
    "\n",
    "print(\"F1: \", f1_score(target_valid, predicted_valid))\n",
    "print(\"ROC_AUC: \", roc_auc_score(target_valid, predicted_valid))\n",
    "print(\"RECALL: \", recall_score(target_valid, predicted_valid))\n",
    "print(\"PRECISION: \", precision_score(target_valid, predicted_valid))\n",
    "print(\"Accuracy_score \", accuracy_score(target_valid, predicted_valid))"
   ]
  },
  {
   "cell_type": "markdown",
   "id": "1a0cf1e4",
   "metadata": {},
   "source": [
    "<div class=\"alert alert-block alert-success\">\n",
    "<b>✔️ Успех:</b>\n",
    "\n",
    "Модель со сбалансированными весами классов обучена корректно 👍\n",
    "</div>"
   ]
  },
  {
   "cell_type": "code",
   "execution_count": 47,
   "id": "a5c5b99e",
   "metadata": {
    "scrolled": true
   },
   "outputs": [],
   "source": [
    "#увеличение выборки\n",
    "best_model = None\n",
    "best_result = 0\n",
    "for depth in range(2, 22, 2):\n",
    "    for est in range(50, 351, 50):\n",
    "        model = RandomForestClassifier(random_state=12345, n_estimators=est,max_depth=depth) # обучение модели с заданным количеством деревьев\n",
    "        model.fit(features_upsampled,target_upsampled) # обучение модели на тренировочной выборке\n",
    "        result = model.score(features_valid,target_valid) # качество модели на валидационной выборке\n",
    "        predicted_valid = model.predict(features_valid)\n",
    "        print(\"Accuracy наилучшей модели на валидационной выборке:\", result, 'луччшее количество деревьев',est,f1_score(target_valid,predicted_valid))\n",
    "        if result > best_result:\n",
    "            best_model = model# наилучшая модель\n",
    "            best_result = result#  наилучшее значение метрики accuracy на валидационных данных\n",
    "            best_est=est\n",
    "            best_depth=depth\n",
    "print(\"Accuracy наилучшей модели на валидационной выборке:\", best_result, 'луччшее количество деревьев',best_est,'лучшая глубина дерева',best_depth)"
   ]
  },
  {
   "cell_type": "code",
   "execution_count": 48,
   "id": "6692cd4f",
   "metadata": {},
   "outputs": [],
   "source": [
    "model=RandomForestClassifier(random_state=12345, n_estimators=best_est,max_depth=best_est)\n",
    "model.fit(features_upsampled,target_upsampled)\n",
    "predicted_valid = model.predict(features_valid)\n",
    "\n",
    "print(\"F1: \", f1_score(target_valid, predicted_valid))\n",
    "print(\"ROC_AUC: \", roc_auc_score(target_valid, predicted_valid))\n",
    "print(\"RECALL: \", recall_score(target_valid, predicted_valid))\n",
    "print(\"PRECISION: \", precision_score(target_valid, predicted_valid))\n",
    "print(\"Accuracy_score \", accuracy_score(target_valid, predicted_valid))"
   ]
  },
  {
   "cell_type": "markdown",
   "id": "86c6b195",
   "metadata": {},
   "source": [
    "<div class=\"alert alert-block alert-danger\">\n",
    "<b>❌ Замечание:</b>\n",
    "\n",
    "Здесь тоже нужно убрать `class_weight='balanced'`\n",
    "</div>"
   ]
  },
  {
   "cell_type": "markdown",
   "id": "aa3e277c",
   "metadata": {},
   "source": [
    "<div class=\"alert alert-block alert-info\">\n",
    "<b>Изменения:</b> Сделал)\n",
    "</div>"
   ]
  },
  {
   "cell_type": "markdown",
   "id": "a96aa49c",
   "metadata": {},
   "source": [
    "<div class=\"alert alert-block alert-success\">\n",
    "<b>V2 ✔️ Успешно исправлено</b>\n",
    "</div>"
   ]
  },
  {
   "cell_type": "code",
   "execution_count": 49,
   "id": "ea634d87",
   "metadata": {
    "scrolled": true
   },
   "outputs": [],
   "source": [
    "#уменьшение выборки\n",
    "best_model = None\n",
    "best_result = 0\n",
    "for depth in range(2, 22, 2):\n",
    "    for est in range(50, 351, 50):\n",
    "        model = RandomForestClassifier(random_state=12345, n_estimators=est,max_depth=depth) # обучение модели с заданным количеством деревьев\n",
    "        model.fit(features_downsampled, target_downsampled) # обучение модели на тренировочной выборке\n",
    "        result = model.score(features_valid,target_valid) # качество модели на валидационной выборке\n",
    "        predicted_valid = model.predict(features_valid)\n",
    "        print(\"Accuracy наилучшей модели на валидационной выборке:\", result, 'луччшее количество деревьев',est,f1_score(target_valid,predicted_valid))\n",
    "        if result > best_result:\n",
    "            best_model = model# наилучшая модель\n",
    "            best_result = result#  наилучшее значение метрики accuracy на валидационных данных\n",
    "            best_est=est\n",
    "            best_depth=depth\n",
    "print(\"Accuracy наилучшей модели на валидационной выборке:\", best_result, 'луччшее количество деревьев',best_est,'лучшая глубина дерева',best_depth)"
   ]
  },
  {
   "cell_type": "code",
   "execution_count": 50,
   "id": "9aada75a",
   "metadata": {},
   "outputs": [],
   "source": [
    "model=RandomForestClassifier(random_state=12345, n_estimators=best_est,max_depth=best_depth)\n",
    "model.fit(features_downsampled, target_downsampled)\n",
    "predicted_valid = model.predict(features_valid)\n",
    "\n",
    "print(\"F1: \", f1_score(target_valid, predicted_valid))\n",
    "print(\"ROC_AUC: \", roc_auc_score(target_valid, predicted_valid))\n",
    "print(\"RECALL: \", recall_score(target_valid, predicted_valid))\n",
    "print(\"PRECISION: \", precision_score(target_valid, predicted_valid))\n",
    "print(\"Accuracy_score \", accuracy_score(target_valid, predicted_valid))"
   ]
  },
  {
   "cell_type": "markdown",
   "id": "a796e6c7",
   "metadata": {},
   "source": [
    "<div class=\"alert alert-block alert-danger\">\n",
    "<b>❌ Замечание:</b>\n",
    "\n",
    "Здесь тоже нужно убрать `class_weight='balanced'`\n",
    "</div>"
   ]
  },
  {
   "cell_type": "markdown",
   "id": "215ab05b",
   "metadata": {},
   "source": [
    "<div class=\"alert alert-block alert-info\">\n",
    "<b>Изменения:</b> Сделал)\n",
    "</div>"
   ]
  },
  {
   "cell_type": "markdown",
   "id": "f836402d",
   "metadata": {},
   "source": [
    "<div class=\"alert alert-block alert-success\">\n",
    "<b>V2 ✔️ Успешно исправлено</b>\n",
    "</div>"
   ]
  },
  {
   "cell_type": "markdown",
   "id": "30c7459e",
   "metadata": {},
   "source": [
    "### Логистическая регрессия"
   ]
  },
  {
   "cell_type": "code",
   "execution_count": 51,
   "id": "d5c1ffbc",
   "metadata": {},
   "outputs": [],
   "source": [
    "#сбалансированный класс\n",
    "model = LogisticRegression(random_state=12345, solver='liblinear',class_weight='balanced')\n",
    "model.fit(features_train_ohe, target_train_ohe)\n",
    "\n",
    "predicted_valid = model.predict(features_valid_ohe)\n",
    "print(\"F1: \", f1_score(target_valid, predicted_valid))\n",
    "print(\"ROC_AUC: \", roc_auc_score(target_valid, predicted_valid))\n",
    "print(\"RECALL: \", recall_score(target_valid, predicted_valid))\n",
    "print(\"PRECISION: \", precision_score(target_valid, predicted_valid))\n",
    "print(\"Accuracy_score \", accuracy_score(target_valid, predicted_valid))"
   ]
  },
  {
   "cell_type": "markdown",
   "id": "f2106861",
   "metadata": {},
   "source": [
    "<div class=\"alert alert-block alert-success\">\n",
    "<b>✔️ Успех:</b>\n",
    "\n",
    "Модель со сбалансированными весами классов обучена корректно 👍\n",
    "</div>"
   ]
  },
  {
   "cell_type": "code",
   "execution_count": 52,
   "id": "8c50377a",
   "metadata": {},
   "outputs": [],
   "source": [
    "features_upsampled, target_upsampled = upsample(features_train_ohe, target_train_ohe, 5)\n",
    "features_downsampled, target_downsampled = downsample(features_train_ohe, target_train_ohe, 0.1)"
   ]
  },
  {
   "cell_type": "code",
   "execution_count": 53,
   "id": "35bc9c8f",
   "metadata": {},
   "outputs": [],
   "source": [
    "#увеличение выборки\n",
    "model = LogisticRegression(random_state=12345, solver='liblinear')\n",
    "model.fit(features_upsampled, target_upsampled)\n",
    "\n",
    "predicted_valid = model.predict(features_valid_ohe)\n",
    "print(\"F1: \", f1_score(target_valid, predicted_valid))\n",
    "print(\"ROC_AUC: \", roc_auc_score(target_valid, predicted_valid))\n",
    "print(\"RECALL: \", recall_score(target_valid, predicted_valid))\n",
    "print(\"PRECISION: \", precision_score(target_valid, predicted_valid))\n",
    "print(\"Accuracy_score \", accuracy_score(target_valid, predicted_valid))"
   ]
  },
  {
   "cell_type": "markdown",
   "id": "6adc4e64",
   "metadata": {},
   "source": [
    "<div class=\"alert alert-block alert-danger\">\n",
    "<b>❌ Замечание:</b>\n",
    "\n",
    "Здесь тоже нужно убрать `class_weight='balanced'`\n",
    "</div>"
   ]
  },
  {
   "cell_type": "markdown",
   "id": "3097d09b",
   "metadata": {},
   "source": [
    "<div class=\"alert alert-block alert-info\">\n",
    "<b>Изменения:</b> Сделал)\n",
    "</div>"
   ]
  },
  {
   "cell_type": "markdown",
   "id": "10d028fc",
   "metadata": {},
   "source": [
    "<div class=\"alert alert-block alert-success\">\n",
    "<b>V2 ✔️ Успешно исправлено</b>\n",
    "</div>"
   ]
  },
  {
   "cell_type": "code",
   "execution_count": 54,
   "id": "854720f5",
   "metadata": {},
   "outputs": [],
   "source": [
    "#уменьшение выборки\n",
    "model = LogisticRegression(random_state=12345, solver='liblinear')\n",
    "model.fit(features_downsampled, target_downsampled)\n",
    "\n",
    "predicted_valid = model.predict(features_valid_ohe)\n",
    "print(\"F1: \", f1_score(target_valid, predicted_valid))\n",
    "print(\"ROC_AUC: \", roc_auc_score(target_valid, predicted_valid))\n",
    "print(\"RECALL: \", recall_score(target_valid, predicted_valid))\n",
    "print(\"PRECISION: \", precision_score(target_valid, predicted_valid))\n",
    "print(\"Accuracy_score \", accuracy_score(target_valid, predicted_valid))"
   ]
  },
  {
   "cell_type": "markdown",
   "id": "6461927e",
   "metadata": {},
   "source": [
    "<div class=\"alert alert-block alert-danger\">\n",
    "<b>❌ Замечание:</b>\n",
    "\n",
    "Здесь тоже нужно убрать `class_weight='balanced'`\n",
    "</div>"
   ]
  },
  {
   "cell_type": "markdown",
   "id": "ebaf7a91",
   "metadata": {},
   "source": [
    "<div class=\"alert alert-block alert-info\">\n",
    "<b>Изменения:</b> Сделал)\n",
    "</div>"
   ]
  },
  {
   "cell_type": "markdown",
   "id": "c9745201",
   "metadata": {},
   "source": [
    "<div class=\"alert alert-block alert-success\">\n",
    "<b>V2 ✔️ Успешно исправлено</b>\n",
    "</div>"
   ]
  },
  {
   "cell_type": "markdown",
   "id": "251f810e",
   "metadata": {},
   "source": [
    "### Вывод"
   ]
  },
  {
   "cell_type": "markdown",
   "id": "e99f2277",
   "metadata": {},
   "source": [
    "С учетом дисбаланса классов случайный лес с балансировкой показывает наибольший показатель f1-меры в 62% при точности 84%. У дерева решений наибольший показатель f1-меры чуть меньше 59% при балансировки или увеличении выборки. Логистическая регрессия показывает наибольший показатель f1-меры 46% при балансировки выборки."
   ]
  },
  {
   "cell_type": "markdown",
   "id": "8a193f44",
   "metadata": {},
   "source": [
    "## Финальное тестирование"
   ]
  },
  {
   "cell_type": "code",
   "execution_count": 58,
   "id": "af28f877",
   "metadata": {},
   "outputs": [],
   "source": [
    "model=RandomForestClassifier(random_state=12345, n_estimators=200,class_weight='balanced',max_depth=10)\n",
    "model.fit(features_train,target_train)\n",
    "predicted_test = model.predict(features_test)\n",
    "\n",
    "print(\"F1: \", f1_score(target_test, predicted_test))\n",
    "print(\"ROC_AUC: \", roc_auc_score(target_test, predicted_test))\n",
    "print(\"RECALL: \", recall_score(target_test, predicted_test))\n",
    "print(\"PRECISION: \", precision_score(target_test, predicted_test))\n",
    "print(\"Accuracy_score \", accuracy_score(target_test, predicted_test))"
   ]
  },
  {
   "cell_type": "markdown",
   "id": "30fd2b83",
   "metadata": {},
   "source": [
    "<div class=\"alert alert-block alert-danger\">\n",
    "<b>❌ Замечание:</b>\n",
    "\n",
    "Не удалось достичь необходимой метрики. Исправь, пожалуйста, мои замечания, затем отправляй на повторную проверку\n",
    "</div>"
   ]
  },
  {
   "cell_type": "markdown",
   "id": "1ec61cf9",
   "metadata": {},
   "source": [
    "<div class=\"alert alert-block alert-info\">\n",
    "<b>Изменения:</b> все супер стало. Спасибо большое!!!\n",
    "</div>"
   ]
  },
  {
   "cell_type": "markdown",
   "id": "d932952d",
   "metadata": {},
   "source": [
    "<div class=\"alert alert-block alert-success\">\n",
    "<b>V2 ✔️ Успешно исправлено</b>\n",
    "</div>"
   ]
  },
  {
   "cell_type": "markdown",
   "id": "eed1cec9",
   "metadata": {},
   "source": [
    "### Вывод"
   ]
  },
  {
   "cell_type": "markdown",
   "id": "abf0083d",
   "metadata": {},
   "source": [
    "На тестовых данных f1_мера = 31% при точности 72%."
   ]
  },
  {
   "cell_type": "markdown",
   "id": "9c4f9e0c",
   "metadata": {},
   "source": [
    "ВОПРОСЫ\n",
    "1)Почему на тестовых данных логистическая регрессия показывает больше показатель f1_меры, чем случайный лес, если при валидационной выборки все было наоборот?\n",
    "2)Точность 72% говорит о том, что наша модель на тестовых данных предсказывает верно с точностью 72%, так?\n",
    "3)О чем говорит f1_мера для модели? Что дает понять мне, как специалисту?"
   ]
  },
  {
   "cell_type": "markdown",
   "id": "2f00753f",
   "metadata": {},
   "source": [
    "<div class=\"alert alert-block alert-info\">\n",
    "<b>Комментарий ревьюера:</b>\n",
    "\n",
    "1. Нужно масштабировать тестовую выборку\n",
    "2. Да. Но это плохой результат, так как константная модель дает accuracy 0.8 (доля отрицательного класса)\n",
    "3. Простыми словами - на F1-меру смотрят, когда в данных есть дисбаланс классов. Чем эта метрика ближе к 1, тем лучше)\n",
    "</div>"
   ]
  },
  {
   "cell_type": "markdown",
   "id": "6b0483a2",
   "metadata": {},
   "source": [
    "## Общий вывод"
   ]
  },
  {
   "cell_type": "markdown",
   "id": "294cc4e7",
   "metadata": {},
   "source": [
    "Адекватность моделей без учета дисбаланса классов в процентном показатели выглядят не очень высокими. Модель случайного леса показывает наибольший показатель f1-меры  - 56% при точности в 85%. При учете дисбаланса случайный лес также оказался более стабилен: f1_мера = 59%. При этом точность на тестовых данных - 82%.\n",
    "С вероятностью примерно в 0,82 эта модель будет верно предсказывать уход клиента из банка в ближайшее время."
   ]
  },
  {
   "cell_type": "markdown",
   "id": "72e3b954",
   "metadata": {},
   "source": [
    "<div class=\"alert alert-block alert-warning\">\n",
    "<b>⚠️ Совет:</b>\n",
    "\n",
    "К выводу стоит добавить краткий обзор выполненной работы.\n",
    "</div>"
   ]
  },
  {
   "cell_type": "markdown",
   "id": "a61b0d9e",
   "metadata": {},
   "source": [
    "<div class=\"alert alert-block alert-info\">\n",
    "<b>Изменения:</b> Вроде исправил. Если что-то не так, посоветуйте, пожалуйста, в каком формате нужно сделать краткий обзор.\n",
    "</div>"
   ]
  },
  {
   "cell_type": "markdown",
   "id": "017daba3",
   "metadata": {},
   "source": [
    "<div class=\"alert alert-block alert-warning\">\n",
    "<b>V2 ⚠️ Совет:</b>\n",
    "\n",
    "Типа такого (украл у другого студента):\n",
    "    \n",
    "Целью данного исследования ставилось создание модели, способной предсказывать отток клиентов из банка на основании нескольких представленных признаков.\n",
    "Основными задачами исследования были создание модели с определенным уровнем показателя f1, аппробация методов балансировки классов целевого признака и тестирование несколько различных моделей.\n",
    "\n",
    "Основными выводами в ходе исследования стали:\n",
    "\n",
    "Перед нами был пример задачи классификации - целевой признак был представлен двумя значениями [0, 1];\n",
    "Классы целевого признака были несбалансированны, отношение = 4:1;\n",
    "Первичное тестирование моделей без учета баланса классов продемонстрировало следующие показатели:\n",
    "    \n",
    "    model_name\t              f1\t     auc_roc\n",
    "0\tLogisticRegression\t    0.279412\t0.781621\n",
    "1\tDecisionTreeClassifier\t0.554974\t0.752420\n",
    "2\tRandomForestClassifier\t0.539185\t0.86877A\n",
    "\n",
    "Сравнение представленных выше моделей в сравнении с dummy моделью показало непригодность несбалансированной выборки грамотно обучить модель;\n",
    "\n",
    "В качестве двух методов балансировки значений целевых классов применялись методы upsampling и class_weight;\n",
    "Лучшие результаты продемострировала модель случайный лес с параметрами max_depth=9, n_estimators=159;\n",
    "Лучшими результатами на валидационной выборке были признаны следующие значения:\n",
    "     \n",
    "      model_name\t           f1\t     auc_roc\n",
    "0\tLogisticRegression\t    0.518519\t0.787752\n",
    "1\tDecisionTreeClassifier\t0.586011\t0.811371\n",
    "2\tRandomForestClassifier\t0.646809\t0.869711\n",
    "\n",
    "Для финального тестирования была выбрана модель случаного леса и метод балансировки class_weight;\n",
    "\n",
    "Финальное тестирование модели продемонстрировало следующие результаты:\n",
    "\n",
    "         model_name\t           f1\t     auc_roc\n",
    "0\tLogisticRegression\t    0.516667\t0.787541\n",
    "1\tDecisionTreeClassifier\t0.587332\t0.809231\n",
    "2\tRandomForestClassifier\t0.632411\t0.869277\n",
    "\n",
    ", что являются максимальными полученными значениями;\n",
    "\n",
    "Данные результаты признаны автором допустимыми и в достаточной мере значимыми для сдачи проекта.\n",
    "\n",
    "В заключение стоит отметить, что цели и задачи настоящего исследования были достигнуты успешно: построена и обучена модель с требуемыми показателями, все необходимые техники изучены и закреплены.\n",
    "</div>"
   ]
  },
  {
   "cell_type": "markdown",
   "id": "0f5bcbb1",
   "metadata": {},
   "source": [
    "# <font color='orange'>Общее впечатление</font>\n",
    "* Этот проект выполнен очень хорошо\n",
    "* Видно, что приложено много усилий\n",
    "* Молодец, что структурируешь ноутбук, приятно проверять такие работы\n",
    "* У тебя чистый и лаконичный код\n",
    "* Мне было интересно читать твои промежуточные выводы\n",
    "* Твой уровень подачи материала находится на высоком уровне\n",
    "* Исправь, пожалуйста, мои замечания. Затем отправляй на повторную проверку\n",
    "* Жду новую версию проекта 👋"
   ]
  },
  {
   "cell_type": "markdown",
   "id": "e86a20e8",
   "metadata": {},
   "source": [
    "# <font color='orange'>Рекомендации 🔥</font>\n",
    "* Анализ данных на python и pandas https://www.youtube.com/watch?v=dd3RcafdOQk&t=82s\n",
    "* Курс \"Введение в машинное обучение\" https://stepik.org/course/4852\n",
    "* Разумные способы кодирования категориальных данных для машинного обучения https://machinelearningmastery.ru/smarter-ways-to-encode-categorical-data-for-machine-learning-part-1-of-3-6dca2f71b159/\n",
    "* Статья про \"непонятную\" метрику ROC-AUC https://dyakonov.org/2017/07/28/auc-roc-площадь-под-кривой-ошибок/\n",
    "* Хочешь подтянуть математику для DS?) https://academy.stepik.org/math-for-data-science\n",
    "* Результаты обучения моделей можно визуализировать 😎 https://www.datatechnotes.com/2019/08/elasticnet-regression-example-in-python.html\n",
    "* В нашем деле нужно быть всегда в курсе всех новинок, новостей и тд, вот тут публикуют новости в области DS: https://www.infoq.com/data-analysis/news/\n",
    "* Всем аналитикам данных рекомендую книгу Даниела Канемана \"Думай медленно, решай быстро\""
   ]
  },
  {
   "cell_type": "markdown",
   "id": "04dbba2e",
   "metadata": {},
   "source": [
    "<div class=\"alert alert-block alert-info\">\n",
    "<b>Комментарий студента:</b> спасибо большое! Вы очень крутой!\n",
    "</div>"
   ]
  },
  {
   "cell_type": "markdown",
   "id": "9e97623d",
   "metadata": {},
   "source": [
    "<div class=\"alert alert-block alert-info\">\n",
    "<b>V2 Комментарий ревьюера:</b>\n",
    "\n",
    "Спасибо за качественную работу)\n",
    "</div>"
   ]
  }
 ],
 "metadata": {
  "kernelspec": {
   "display_name": "Python 3 (ipykernel)",
   "language": "python",
   "name": "python3"
  },
  "language_info": {
   "codemirror_mode": {
    "name": "ipython",
    "version": 3
   },
   "file_extension": ".py",
   "mimetype": "text/x-python",
   "name": "python",
   "nbconvert_exporter": "python",
   "pygments_lexer": "ipython3",
   "version": "3.10.9"
  },
  "toc": {
   "base_numbering": 1,
   "nav_menu": {},
   "number_sections": true,
   "sideBar": true,
   "skip_h1_title": true,
   "title_cell": "Table of Contents",
   "title_sidebar": "Contents",
   "toc_cell": false,
   "toc_position": {},
   "toc_section_display": true,
   "toc_window_display": false
  }
 },
 "nbformat": 4,
 "nbformat_minor": 5
}
