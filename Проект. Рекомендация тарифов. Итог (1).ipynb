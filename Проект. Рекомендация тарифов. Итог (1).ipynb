{
 "cells": [
  {
   "cell_type": "markdown",
   "metadata": {},
   "source": [
    "<div style=\"border:solid purple 2px; padding: 20px\"> \n",
    "\n",
    "Привет Андрей! 👋\n",
    "\n",
    "Меня зовут Рустам Муртазин, и я буду делать ревью твоей работы. Давай будем общаться на **«ты»**. Если это неприемлемо, обязательно напиши мне в комментариях — мы перейдем на **«вы»**.\n",
    "\n",
    "Я не хочу указавать тебе на совершенные тобою ошибки, а хочу поделиться своим опытом и помочь тебе стать настоящим профессионалом и сделать проект еще лучше.\n",
    "\n",
    "Обрати внимание в первую очередь на те, что помечаны <span style=\"color:red\">красным цветом</span>. После их доработки проект будет принят. <span style=\"color:green\">Зеленым цветом</span> отмечены удачные и элегантные решения, на которые можно опираться в будущих проектах. <span style=\"color:orange\">Оранжевым цветом</span> выделено то, что в следующий раз можно сделать по-другому. Ты можешь учесть эти комментарии при выполнении будущих заданий или доработать проект сейчас (однако это не обязательно). Также в проекте могут быть небольшие «лайфхаки» по Python, не относящиеся к проекту, их я выделил фиолетовым цветом)\n",
    "\n",
    "Давай работать над проектом в диалоге: если ты **что-то меняешь** в проекте по моим рекомендациям — **пиши об этом**. Выбери для своих комментариев какой-то заметный цвет, так мне будет легче отследить изменения. Пожалуйста, **не перемещай, не изменяй и не удаляй мои комментарии**. Всё это поможет выполнить повторную проверку твоего проекта оперативнее».\n",
    "\n",
    "Мне понравился твой проект, есть пару замечаний (одно на самом деле), я думаю ты быстро справишься. Жду твою работу на повторное ревью :)\n"
   ]
  },
  {
   "cell_type": "markdown",
   "metadata": {},
   "source": [
    "<div class=\"alert alert-success\">\n",
    "<h2> Комментарий ревьюера v2 ✔️ <a class=\"tocSkip\"> </h2>\n",
    "\n",
    "Спасибо тебе, за классный проект! Надеюсь ты учтешь мои комментарии в последующих работах. Желаю успехов в дальнейших проектах 😊\n",
    "\n",
    "</div>"
   ]
  },
  {
   "cell_type": "markdown",
   "metadata": {},
   "source": [
    "# Рекомендация тарифов"
   ]
  },
  {
   "cell_type": "markdown",
   "metadata": {},
   "source": [
    "В вашем распоряжении данные о поведении клиентов, которые уже перешли на эти тарифы (из проекта курса «Статистический анализ данных»). Нужно построить модель для задачи классификации, которая выберет подходящий тариф. Предобработка данных не понадобится — вы её уже сделали.\n",
    "\n",
    "Постройте модель с максимально большим значением *accuracy*. Чтобы сдать проект успешно, нужно довести долю правильных ответов по крайней мере до 0.75. Проверьте *accuracy* на тестовой выборке самостоятельно."
   ]
  },
  {
   "cell_type": "markdown",
   "metadata": {},
   "source": [
    "## Откройте и изучите файл"
   ]
  },
  {
   "cell_type": "code",
   "execution_count": 1,
   "metadata": {},
   "outputs": [],
   "source": [
    "import pandas as pd\n",
    "from sklearn.tree import DecisionTreeClassifier\n",
    "from sklearn.ensemble import RandomForestClassifier\n",
    "from joblib import dump\n",
    "from sklearn.linear_model import LogisticRegression\n",
    "from sklearn.metrics import accuracy_score\n",
    "from sklearn.model_selection import train_test_split"
   ]
  },
  {
   "cell_type": "code",
   "execution_count": 2,
   "metadata": {},
   "outputs": [
    {
     "data": {
      "text/html": [
       "<div>\n",
       "<style scoped>\n",
       "    .dataframe tbody tr th:only-of-type {\n",
       "        vertical-align: middle;\n",
       "    }\n",
       "\n",
       "    .dataframe tbody tr th {\n",
       "        vertical-align: top;\n",
       "    }\n",
       "\n",
       "    .dataframe thead th {\n",
       "        text-align: right;\n",
       "    }\n",
       "</style>\n",
       "<table border=\"1\" class=\"dataframe\">\n",
       "  <thead>\n",
       "    <tr style=\"text-align: right;\">\n",
       "      <th></th>\n",
       "      <th>calls</th>\n",
       "      <th>minutes</th>\n",
       "      <th>messages</th>\n",
       "      <th>mb_used</th>\n",
       "      <th>is_ultra</th>\n",
       "    </tr>\n",
       "  </thead>\n",
       "  <tbody>\n",
       "    <tr>\n",
       "      <th>0</th>\n",
       "      <td>40.0</td>\n",
       "      <td>311.90</td>\n",
       "      <td>83.0</td>\n",
       "      <td>19915.42</td>\n",
       "      <td>0</td>\n",
       "    </tr>\n",
       "    <tr>\n",
       "      <th>1</th>\n",
       "      <td>85.0</td>\n",
       "      <td>516.75</td>\n",
       "      <td>56.0</td>\n",
       "      <td>22696.96</td>\n",
       "      <td>0</td>\n",
       "    </tr>\n",
       "    <tr>\n",
       "      <th>2</th>\n",
       "      <td>77.0</td>\n",
       "      <td>467.66</td>\n",
       "      <td>86.0</td>\n",
       "      <td>21060.45</td>\n",
       "      <td>0</td>\n",
       "    </tr>\n",
       "    <tr>\n",
       "      <th>3</th>\n",
       "      <td>106.0</td>\n",
       "      <td>745.53</td>\n",
       "      <td>81.0</td>\n",
       "      <td>8437.39</td>\n",
       "      <td>1</td>\n",
       "    </tr>\n",
       "    <tr>\n",
       "      <th>4</th>\n",
       "      <td>66.0</td>\n",
       "      <td>418.74</td>\n",
       "      <td>1.0</td>\n",
       "      <td>14502.75</td>\n",
       "      <td>0</td>\n",
       "    </tr>\n",
       "  </tbody>\n",
       "</table>\n",
       "</div>"
      ],
      "text/plain": [
       "   calls  minutes  messages   mb_used  is_ultra\n",
       "0   40.0   311.90      83.0  19915.42         0\n",
       "1   85.0   516.75      56.0  22696.96         0\n",
       "2   77.0   467.66      86.0  21060.45         0\n",
       "3  106.0   745.53      81.0   8437.39         1\n",
       "4   66.0   418.74       1.0  14502.75         0"
      ]
     },
     "execution_count": 2,
     "metadata": {},
     "output_type": "execute_result"
    }
   ],
   "source": [
    "df=pd.read_csv('/datasets/users_behavior.csv')\n",
    "df.head()#первые 5 строк таблицы"
   ]
  },
  {
   "cell_type": "markdown",
   "metadata": {},
   "source": [
    "<div class=\"alert alert-success\">\n",
    "<h2> Комментарий ревьюера ✔️ <a class=\"tocSkip\"> </h2>\n",
    "\n",
    "Хоть с данными и все ок, первичный анализ важен для любого проекта! Вообще, хорошо бы иметь у себя в арсенале функцию, которая выдавала бы всю информацию о датафрейме, знакомила бы нас с ним. В нее можно включить все основные методы типа `head`, `info` и т.д.  Можно графики строить какие-нибудь... Из готового, я бы рекомендовал почитать про [pandas_profiling](https://habr.com/ru/company/ruvds/blog/451478/?)\n"
   ]
  },
  {
   "cell_type": "code",
   "execution_count": 3,
   "metadata": {},
   "outputs": [
    {
     "name": "stdout",
     "output_type": "stream",
     "text": [
      "<class 'pandas.core.frame.DataFrame'>\n",
      "RangeIndex: 3214 entries, 0 to 3213\n",
      "Data columns (total 5 columns):\n",
      " #   Column    Non-Null Count  Dtype  \n",
      "---  ------    --------------  -----  \n",
      " 0   calls     3214 non-null   float64\n",
      " 1   minutes   3214 non-null   float64\n",
      " 2   messages  3214 non-null   float64\n",
      " 3   mb_used   3214 non-null   float64\n",
      " 4   is_ultra  3214 non-null   int64  \n",
      "dtypes: float64(4), int64(1)\n",
      "memory usage: 125.7 KB\n"
     ]
    }
   ],
   "source": [
    "df.info()#информация о таблице"
   ]
  },
  {
   "cell_type": "markdown",
   "metadata": {},
   "source": [
    "### Вывод"
   ]
  },
  {
   "cell_type": "markdown",
   "metadata": {},
   "source": [
    "Согласно документации к данным:\n",
    "* сalls — количество звонков,\n",
    "* minutes — суммарная длительность звонков в минутах,\n",
    "* messages — количество sms-сообщений,\n",
    "* mb_used — израсходованный интернет-трафик в Мб,\n",
    "* is_ultra — каким тарифом пользовался в течение месяца («Ультра» — 1, «Смарт» — 0)."
   ]
  },
  {
   "cell_type": "markdown",
   "metadata": {},
   "source": [
    "<div class=\"alert alert-success\">\n",
    "<h2> Комментарий ревьюера ✔️ <a class=\"tocSkip\"> </h2>\n",
    "\n",
    "Для проекта DS можно было дополнительно корреляции посчитать между столбцами. Известно, что сильно коррелирующие столбцы плохо влияют на модель\n"
   ]
  },
  {
   "cell_type": "markdown",
   "metadata": {},
   "source": [
    "<div class=\"alert alert-block alert-info\">\n",
    "<b>Комментарий студента:</b> Принял.</div>"
   ]
  },
  {
   "cell_type": "markdown",
   "metadata": {},
   "source": [
    "## Разбейте данные на выборки"
   ]
  },
  {
   "cell_type": "code",
   "execution_count": 4,
   "metadata": {},
   "outputs": [],
   "source": [
    "df_train, df_v = train_test_split(df, test_size=0.4, random_state=12345)#разделение 60% на обучающую выборку"
   ]
  },
  {
   "cell_type": "markdown",
   "metadata": {},
   "source": [
    "<div class=\"alert alert-success\">\n",
    "<h2> Комментарий ревьюера ✔️ <a class=\"tocSkip\"> </h2>\n",
    "\n",
    "Круто, что ты фиксируешь `random_state`. Кстати, его можно задать один раз в начале проекта, например, используя любимый нами [numpy](https://pyprog.pro/random_sampling_functions/seed.html?)\n"
   ]
  },
  {
   "cell_type": "code",
   "execution_count": 5,
   "metadata": {},
   "outputs": [],
   "source": [
    "df_valid, df_test = train_test_split(df_v, test_size=0.5, random_state=12345)# разделение валидационной и тестовой выборок по 20%"
   ]
  },
  {
   "cell_type": "markdown",
   "metadata": {},
   "source": [
    "<div class=\"alert alert-success\">\n",
    "<h2> Комментарий ревьюера ✔️ <a class=\"tocSkip\"> </h2>\n",
    "\n",
    "На будущее, обрати внимание на аргумент `stratify` функции `train_test_split`. Стратификация особенно важна, когда у нас мало данных и возможен дисбаланс классов в обучении / валидации / тесте.\n"
   ]
  },
  {
   "cell_type": "code",
   "execution_count": 6,
   "metadata": {},
   "outputs": [],
   "source": [
    "#features - признаки(столбцы в таблице); target - целевой признак\n",
    "features_train = df_train.drop(['is_ultra'], axis=1)\n",
    "target_train = df_train['is_ultra']\n",
    "features_valid = df_valid.drop(['is_ultra'], axis=1)\n",
    "target_valid = df_valid['is_ultra']\n",
    "features_test = df_test.drop(['is_ultra'], axis=1)\n",
    "target_test = df_test['is_ultra']"
   ]
  },
  {
   "cell_type": "markdown",
   "metadata": {},
   "source": [
    "<div class=\"alert alert-warning\">\n",
    "<h2> Комментарий ревьюера ⚠️ <a class=\"tocSkip\"> </h2>\n",
    "\n",
    "После разбивки хорошо бы проверить, насколько корректно она прошла"
   ]
  },
  {
   "cell_type": "markdown",
   "metadata": {},
   "source": [
    "Проверим размер выборок: "
   ]
  },
  {
   "cell_type": "code",
   "execution_count": 11,
   "metadata": {},
   "outputs": [
    {
     "name": "stdout",
     "output_type": "stream",
     "text": [
      "(1928, 4)\n",
      "(643, 4)\n",
      "(643, 4)\n"
     ]
    }
   ],
   "source": [
    "print(features_train.shape)\n",
    "print(features_valid.shape)\n",
    "print(features_test.shape)"
   ]
  },
  {
   "cell_type": "markdown",
   "metadata": {},
   "source": [
    "## Исследуйте модели"
   ]
  },
  {
   "cell_type": "markdown",
   "metadata": {},
   "source": [
    "### Дерево решений"
   ]
  },
  {
   "cell_type": "code",
   "execution_count": 7,
   "metadata": {},
   "outputs": [
    {
     "name": "stdout",
     "output_type": "stream",
     "text": [
      "max_depth valid = 1 : 0.7542768273716952\n",
      "max_depth valid = 2 : 0.7822706065318819\n",
      "max_depth valid = 3 : 0.7853810264385692\n",
      "max_depth valid = 4 : 0.7791601866251944\n",
      "max_depth valid = 5 : 0.7791601866251944\n",
      "max_depth valid = 6 : 0.7838258164852255\n",
      "max_depth valid = 7 : 0.7822706065318819\n",
      "max_depth valid = 8 : 0.7791601866251944\n",
      "max_depth valid = 9 : 0.7822706065318819\n",
      "max_depth valid = 10 : 0.7744945567651633\n",
      "max_depth valid = 11 : 0.7620528771384136\n",
      "max_depth valid = 12 : 0.7620528771384136\n",
      "max_depth valid = 13 : 0.7558320373250389\n",
      "max_depth valid = 14 : 0.7589424572317263\n",
      "max_depth valid = 15 : 0.7465007776049767\n",
      "max_depth valid = 16 : 0.7340590979782271\n",
      "max_depth valid = 17 : 0.7356143079315708\n",
      "max_depth valid = 18 : 0.7309486780715396\n",
      "max_depth valid = 19 : 0.7278382581648523\n",
      "max_depth valid = 20 : 0.7216174183514774\n",
      "max_depth valid = 21 : 0.7278382581648523\n",
      "max_depth valid = 22 : 0.7262830482115086\n",
      "max_depth valid = 23 : 0.7169517884914464\n",
      "max_depth valid = 24 : 0.713841368584759\n",
      "max_depth valid = 25 : 0.713841368584759\n",
      "max_depth valid = 26 : 0.713841368584759\n",
      "max_depth valid = 27 : 0.713841368584759\n",
      "max_depth valid = 28 : 0.713841368584759\n",
      "max_depth valid = 29 : 0.713841368584759\n",
      "Accuracy наилучшей модели = 0.7853810264385692\n"
     ]
    }
   ],
   "source": [
    "best_score=0\n",
    "for depth in range(1, 30):\n",
    "    model = DecisionTreeClassifier(random_state=12345,max_depth=depth)# создание модели дерева решений\n",
    "\n",
    "    # обучение модели\n",
    "    model.fit(features_train,target_train)\n",
    "    predictions_valid = model.predict(features_valid)# предсказания на валидационной выборке\n",
    "    \n",
    "\n",
    "    print(\"max_depth valid =\", depth, \": \", end='')\n",
    "    print(accuracy_score(target_valid, predictions_valid))\n",
    "    if best_score<accuracy_score(target_valid, predictions_valid):\n",
    "        best_score=accuracy_score(target_valid, predictions_valid)#наилучший показатель\n",
    "print('Accuracy наилучшей модели =',best_score)"
   ]
  },
  {
   "cell_type": "markdown",
   "metadata": {},
   "source": [
    "<div class=\"alert alert-success\">\n",
    "<h2> Комментарий ревьюера ✔️ <a class=\"tocSkip\"> </h2>\n",
    "\n",
    "Можно посмотреть на логику решения нашего дерева. Вот как это сделать\n",
    "    \n",
    "![](https://i.ibb.co/cDxjDWk/image.png)\n"
   ]
  },
  {
   "cell_type": "markdown",
   "metadata": {},
   "source": [
    "Accuracy наилучшей модели = 0.7853810264385692. Нет смысла делать глубину дерева больше 30, т.к. на 9й глубине ухудшается точность предсказания модели."
   ]
  },
  {
   "cell_type": "markdown",
   "metadata": {},
   "source": [
    "### Случайный лес"
   ]
  },
  {
   "cell_type": "code",
   "execution_count": 8,
   "metadata": {},
   "outputs": [
    {
     "name": "stdout",
     "output_type": "stream",
     "text": [
      "Accuracy наилучшей модели на валидационной выборке: 0.7947122861586314 луччшее количество деревьев 23\n"
     ]
    }
   ],
   "source": [
    "best_model = None\n",
    "best_result = 0\n",
    "for est in range(1, 51):\n",
    "    model = RandomForestClassifier(random_state=12345, n_estimators=est) # обучение модели с заданным количеством деревьев\n",
    "    model.fit(features_train,target_train) # обучение модели на тренировочной выборке\n",
    "    result = model.score(features_valid,target_valid) # качество модели на валидационной выборке\n",
    "    if result > best_result:\n",
    "        best_model = model# наилучшая модель\n",
    "        best_result = result#  наилучшее значение метрики accuracy на валидационных данных\n",
    "        best_est=est\n",
    "print(\"Accuracy наилучшей модели на валидационной выборке:\", best_result, 'луччшее количество деревьев',best_est)"
   ]
  },
  {
   "cell_type": "markdown",
   "metadata": {},
   "source": [
    "<div style=\"border:solid purple 5px; padding: 20px\"> \n",
    "<h2 align=\"center\"> Рубрика «Питонячий лайфхакер» <a class=\"tocSkip\"> </h2>\n",
    "\n",
    "<h3> Индикаторы состояния: progress и tqdm <a class=\"tocSkip\"> </h3>\n",
    "\n",
    "Как перестать беспокоиться о том, не завис ли скрипт? Вы можете создавать свои индикаторы состояния. Это весьма увлекательное занятие. Но делать то же самое с [progress](https://pypi.org/project/progress/) или [tqdm](https://pypi.org/project/tqdm/) куда быстрее и надежнее.\n",
    "\n",
    "Обычно я использую эти две библиотеки, но вот [здесь](https://habr.com/ru/post/483400/) ты можешь почитать про альтернативные варианты\n",
    "\n",
    "![](https://i.ibb.co/B4SDm8Y/68747470733a2f2f7261772e6769746875622e636f6d2f7665726967616b2f70726f67726573732f6d61737465722f64656d.gif)"
   ]
  },
  {
   "cell_type": "markdown",
   "metadata": {},
   "source": [
    "### Вывод"
   ]
  },
  {
   "cell_type": "markdown",
   "metadata": {},
   "source": [
    "Случайный лес выдает точность предсказания на 0.01 больше, чем дерево решений. А значит качество этой модели будет лучше. Поэтому стоит рассмотреть \"случайный лес\" на тестовой выборке."
   ]
  },
  {
   "cell_type": "markdown",
   "metadata": {},
   "source": [
    "## Проверьте модель на тестовой выборке"
   ]
  },
  {
   "cell_type": "code",
   "execution_count": 9,
   "metadata": {},
   "outputs": [
    {
     "name": "stdout",
     "output_type": "stream",
     "text": [
      "Accuracy наилучшей модели на тестовой выборке: 0.7807153965785381\n"
     ]
    }
   ],
   "source": [
    "model = RandomForestClassifier(random_state=12345, n_estimators=23) # обучение модели с заданным количеством деревьев\n",
    "model.fit(features_train,target_train) # обучение модели на тренировочной выборке\n",
    "result = model.score(features_test,target_test) # качество модели на тестовой выборке\n",
    "\n",
    "print(\"Accuracy наилучшей модели на тестовой выборке:\", result)"
   ]
  },
  {
   "cell_type": "markdown",
   "metadata": {},
   "source": [
    "<div class=\"alert alert-danger\">\n",
    "<h2> Комментарий ревьюера ❌ <a class=\"tocSkip\"> </h2>\n",
    "\n",
    "Смотри Андрей, после подбора гипперпараметров необходимо проверить модель на тестовых данных. Т.е здесь нет необходимости подбирать их снова, нужно просто посчитать ошибку, именно она будет характеризовать нашу модель"
   ]
  },
  {
   "cell_type": "markdown",
   "metadata": {},
   "source": [
    "<div class=\"alert alert-block alert-info\">\n",
    "<b>Комментарий студента:</b> Исправил.</div>"
   ]
  },
  {
   "cell_type": "markdown",
   "metadata": {},
   "source": [
    "<div class=\"alert alert-success\">\n",
    "<h2> Комментарий ревьюера v2 ✔️ <a class=\"tocSkip\"> </h2>\n",
    "\n",
    "Чтобы добиться лучшего результата, можно перебирать несколько параметров, для случайного леса, например, можно еще поварьировать кол-во деревьев в ансамбле `max_depth`, или `min_samples_leaf`. Также, когда гиперпараметры подобраны и валидационная выборка нам уже не нужна, мы можем обучить модель на бОльшей выборке (обучающая + валидационная), это также позволит улучшить результаты на тестовой выборке должны быть лучше"
   ]
  },
  {
   "cell_type": "markdown",
   "metadata": {},
   "source": [
    "### Вывод"
   ]
  },
  {
   "cell_type": "markdown",
   "metadata": {},
   "source": [
    "Точность предсказания составляет около 0.78."
   ]
  },
  {
   "cell_type": "markdown",
   "metadata": {},
   "source": [
    "## (бонус) Проверьте модели на адекватность"
   ]
  },
  {
   "cell_type": "markdown",
   "metadata": {},
   "source": [
    "Не очень понял как делать. Подскажите, пожалуйста :)"
   ]
  },
  {
   "cell_type": "markdown",
   "metadata": {},
   "source": [
    "<div class=\"alert alert-success\">\n",
    "<h2> Комментарий ревьюера ✔️ <a class=\"tocSkip\"> </h2>\n",
    "\n",
    "Самый простой тест - посмотреть на скор модели, которая всегда будет прогнозировать доминирующий класс. Если наша модель лучше - то уже хорошо, если нет, то мы делаем что-то неправильно. Проверить на корректность можно еще с помощью `Confusion matrix / Матрица ошибок` или `ROC curve / ROC-анализ`. Лично мне больше всего нравится (и я чаще его использую) последний вариант"
   ]
  },
  {
   "cell_type": "markdown",
   "metadata": {},
   "source": [
    "## Общий вывод"
   ]
  },
  {
   "cell_type": "markdown",
   "metadata": {},
   "source": [
    "\"Случайный лес\" является наилучшим выбором модели, т.к. качество в ней более лучше, чем в модели \"дерево решений\". Правильность ответов на тестовой выборке \"случайного леса\" составляет около 0.78."
   ]
  },
  {
   "cell_type": "markdown",
   "metadata": {},
   "source": [
    "## Чек-лист готовности проекта"
   ]
  },
  {
   "cell_type": "markdown",
   "metadata": {},
   "source": [
    "Поставьте 'x' в выполненных пунктах. Далее нажмите Shift+Enter."
   ]
  },
  {
   "cell_type": "markdown",
   "metadata": {},
   "source": [
    "- [x] Jupyter Notebook открыт\n",
    "- [x] Весь код исполняется без ошибок\n",
    "- [x] Ячейки с кодом расположены в порядке исполнения\n",
    "- [x] Выполнено задание 1: данные загружены и изучены\n",
    "- [x] Выполнено задание 2: данные разбиты на три выборки\n",
    "- [x] Выполнено задание 3: проведено исследование моделей\n",
    "    - [x] Рассмотрено больше одной модели\n",
    "    - [x] Рассмотрено хотя бы 3 значения гипепараметров для какой-нибудь модели\n",
    "    - [x] Написаны выводы по результатам исследования\n",
    "- [x] Выполнено задание 3: Проведено тестирование\n",
    "- [x] Удалось достичь accuracy не меньше 0.75\n"
   ]
  }
 ],
 "metadata": {
  "ExecuteTimeLog": [
   {
    "duration": 1232,
    "start_time": "2022-07-20T08:07:48.600Z"
   },
   {
    "duration": 124,
    "start_time": "2022-07-20T08:07:49.834Z"
   },
   {
    "duration": 18,
    "start_time": "2022-07-20T08:07:49.960Z"
   },
   {
    "duration": 5,
    "start_time": "2022-07-20T08:07:50.607Z"
   },
   {
    "duration": 5,
    "start_time": "2022-07-20T08:07:50.786Z"
   },
   {
    "duration": 9,
    "start_time": "2022-07-20T08:07:50.970Z"
   },
   {
    "duration": 305,
    "start_time": "2022-07-20T08:07:51.578Z"
   },
   {
    "duration": 5641,
    "start_time": "2022-07-20T08:07:52.263Z"
   },
   {
    "duration": 0,
    "start_time": "2022-07-20T08:07:57.907Z"
   },
   {
    "duration": 5386,
    "start_time": "2022-07-20T08:10:12.433Z"
   },
   {
    "duration": 5459,
    "start_time": "2022-07-20T08:10:21.076Z"
   },
   {
    "duration": 5316,
    "start_time": "2022-07-20T08:10:39.268Z"
   },
   {
    "duration": 1660,
    "start_time": "2022-07-20T20:45:50.508Z"
   },
   {
    "duration": 46,
    "start_time": "2022-07-20T20:45:52.170Z"
   },
   {
    "duration": 11,
    "start_time": "2022-07-20T20:45:52.218Z"
   },
   {
    "duration": 6,
    "start_time": "2022-07-20T20:45:52.231Z"
   },
   {
    "duration": 6,
    "start_time": "2022-07-20T20:45:52.238Z"
   },
   {
    "duration": 8,
    "start_time": "2022-07-20T20:45:52.246Z"
   },
   {
    "duration": 319,
    "start_time": "2022-07-20T20:45:52.256Z"
   },
   {
    "duration": 4888,
    "start_time": "2022-07-20T20:45:52.576Z"
   },
   {
    "duration": 5024,
    "start_time": "2022-07-20T20:45:57.465Z"
   },
   {
    "duration": 3,
    "start_time": "2022-07-20T20:46:17.428Z"
   },
   {
    "duration": 11,
    "start_time": "2022-07-20T20:46:19.196Z"
   },
   {
    "duration": 5,
    "start_time": "2022-07-20T20:46:23.087Z"
   },
   {
    "duration": 5,
    "start_time": "2022-07-20T20:46:23.516Z"
   },
   {
    "duration": 5028,
    "start_time": "2022-07-20T20:46:26.997Z"
   },
   {
    "duration": 1058,
    "start_time": "2022-07-29T06:08:53.065Z"
   },
   {
    "duration": 126,
    "start_time": "2022-07-29T06:08:54.125Z"
   },
   {
    "duration": 12,
    "start_time": "2022-07-29T06:08:55.491Z"
   },
   {
    "duration": 5,
    "start_time": "2022-07-29T06:08:56.302Z"
   },
   {
    "duration": 5,
    "start_time": "2022-07-29T06:08:56.599Z"
   },
   {
    "duration": 6,
    "start_time": "2022-07-29T06:08:56.910Z"
   },
   {
    "duration": 285,
    "start_time": "2022-07-29T06:08:57.523Z"
   },
   {
    "duration": 4914,
    "start_time": "2022-07-29T06:09:05.956Z"
   },
   {
    "duration": 105,
    "start_time": "2022-07-29T06:09:10.872Z"
   },
   {
    "duration": 3,
    "start_time": "2022-07-29T06:15:10.502Z"
   },
   {
    "duration": 3,
    "start_time": "2022-07-29T06:15:38.871Z"
   }
  ],
  "kernelspec": {
   "display_name": "Python 3 (ipykernel)",
   "language": "python",
   "name": "python3"
  },
  "language_info": {
   "codemirror_mode": {
    "name": "ipython",
    "version": 3
   },
   "file_extension": ".py",
   "mimetype": "text/x-python",
   "name": "python",
   "nbconvert_exporter": "python",
   "pygments_lexer": "ipython3",
   "version": "3.10.9"
  },
  "toc": {
   "base_numbering": 1,
   "nav_menu": {},
   "number_sections": true,
   "sideBar": true,
   "skip_h1_title": true,
   "title_cell": "Table of Contents",
   "title_sidebar": "Contents",
   "toc_cell": false,
   "toc_position": {},
   "toc_section_display": true,
   "toc_window_display": false
  }
 },
 "nbformat": 4,
 "nbformat_minor": 2
}
