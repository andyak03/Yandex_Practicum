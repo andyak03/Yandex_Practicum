{
 "cells": [
  {
   "cell_type": "markdown",
   "id": "169e8cd5",
   "metadata": {},
   "source": [
    "<div style=\"border:solid Chocolate 2px; padding: 40px\">\n",
    "    \n",
    " <b>Добрый день, Андрей!</b>\n",
    "Меня зовут Ксения Цыганова, и я буду комментировать твою работу и помогать тебе сделать ее сильнее. В Практикуме мы общаемся на «ты», но если тебе это будет некомфортно, пожалуйста, скажи, и мы будем обращаться друг к другу на «вы».\n",
    "    \n",
    "Все мои комментарии делятся на три вида:\n",
    "\n",
    "    \n",
    "👍 Здесь все отлично, идем дальше! - <font color='green'> зеленый цвет </font>\n",
    "    \n",
    "💡 Все хорошо, однако, можно оптимизировать или рассмотреть другие способы (необязательно для исполнения, чтобы пройти дальше) - <font color='gold'>желтый цвет</font>\n",
    "    \n",
    "🤔 Необходимо внести исправления, без которых я не смогу принять проект - <font color='red'>красный цвет</font>\n",
    "    \n",
    "    \n",
    "Свои комментарии я буду выделять заголовком «комментарий ревьюера». Пожалуйста, не удаляй их, это поможет сократить время проверки на повторных ревью.Ты также можешь писать свои комментарии к моим и выделять их любым понравившимся способом, отличным от моего. Если у тебя будут возникать вопросы в течение нашей работы, я с радостью на них отвечу.\n",
    "\n",
    "Цель моего ревью не критика и не возможность дать тебе готовые ответы, это способ привести тебя в нужное русло, чтобы ты смог развить собственные идеи и решения. Твой будущий работодатель будет поступать похожим образом. \n",
    "        \n",
    "   <b>У тебя все получится!</b>"
   ]
  },
  {
   "cell_type": "markdown",
   "id": "b8c8e2cc",
   "metadata": {},
   "source": [
    "# Определение стоимости автомобилей"
   ]
  },
  {
   "cell_type": "markdown",
   "id": "64c73116",
   "metadata": {},
   "source": [
    "## Описание проекта"
   ]
  },
  {
   "cell_type": "markdown",
   "id": "ef9e504e",
   "metadata": {},
   "source": [
    "### Описание целей и задачи"
   ]
  },
  {
   "cell_type": "markdown",
   "id": "70c7d3a1",
   "metadata": {},
   "source": [
    "Сервис по продаже автомобилей с пробегом «Не бит, не крашен» разрабатывает приложение, чтобы привлечь новых клиентов. В нём можно будет узнать рыночную стоимость своего автомобиля.\n",
    "Постройте модель, которая умеет её определять. В вашем распоряжении данные о технических характеристиках, комплектации и ценах других автомобилей.\n",
    "\n",
    "Критерии, которые важны заказчику:\n",
    "* качество предсказания;\n",
    "* время обучения модели;\n",
    "* время предсказания модели."
   ]
  },
  {
   "cell_type": "markdown",
   "id": "91066462",
   "metadata": {},
   "source": [
    "### Описание данных"
   ]
  },
  {
   "cell_type": "markdown",
   "id": "e75f8846",
   "metadata": {},
   "source": [
    "Данные находятся в файле /datasets/autos.csv. Скачать датасет.\n",
    "Признаки\n",
    "* DateCrawled — дата скачивания анкеты из базы\n",
    "* VehicleType — тип автомобильного кузова\n",
    "* RegistrationYear — год регистрации автомобиля\n",
    "* Gearbox — тип коробки передач\n",
    "* Power — мощность (л. с.)\n",
    "* Model — модель автомобиля\n",
    "* Kilometer — пробег (км)\n",
    "* RegistrationMonth — месяц регистрации автомобиля\n",
    "* FuelType — тип топлива\n",
    "* Brand — марка автомобиля\n",
    "* Repaired — была машина в ремонте или нет\n",
    "* DateCreated — дата создания анкеты\n",
    "* NumberOfPictures — количество фотографий автомобиля\n",
    "* PostalCode — почтовый индекс владельца анкеты (пользователя)\n",
    "* LastSeen — дата последней активности пользователя\n",
    "\n",
    "Целевой признак\n",
    "* Price — цена (евро)"
   ]
  },
  {
   "cell_type": "markdown",
   "id": "50c697c0",
   "metadata": {},
   "source": [
    "### План работы"
   ]
  },
  {
   "cell_type": "markdown",
   "id": "ce437b46",
   "metadata": {},
   "source": [
    "1. Загрузите данные, путь к файлу: /datasets/autos.csv.\n",
    "2. Изучите данные. Заполните пропущенные значения и обработайте аномалии в столбцах. Если среди признаков имеются неинформативные, удалите их.\n",
    "3. Подготовьте выборки для обучения моделей.\n",
    "4. Обучите разные модели, одна из которых — LightGBM, как минимум одна — не бустинг. Для каждой модели попробуйте разные гиперпараметры.\n",
    "5. Проанализируйте время обучения, время предсказания и качество моделей.\n",
    "6. Опираясь на критерии заказчика, выберете лучшую модель, проверьте её качество на тестовой выборке.\n",
    "Примечания:\n",
    "\n",
    "* Для оценки качества моделей применяйте метрику RMSE.\n",
    "* Значение метрики RMSE должно быть меньше 2500.\n",
    "* Самостоятельно освойте библиотеку LightGBM и её средствами постройте модели градиентного бустинга.\n",
    "* Время выполнения ячейки кода Jupyter Notebook можно получить специальной командой. Найдите её.\n",
    "* Модель градиентного бустинга может долго обучаться, поэтому измените у неё только два-три параметра.\n",
    "* Если перестанет работать Jupyter Notebook, удалите лишние переменные оператором del.\n",
    "del features_train "
   ]
  },
  {
   "cell_type": "markdown",
   "id": "c0607457",
   "metadata": {},
   "source": [
    "<div class=\"alert alert-success\">\n",
    "<h2> Комментарий ревьюера <a class=\"tocSkip\"> </h2>\n",
    "\n",
    "<b>Все отлично!👍:</b> \n",
    "    \n",
    "Отлично, что есть вступительный комментарий."
   ]
  },
  {
   "cell_type": "markdown",
   "id": "74985411",
   "metadata": {},
   "source": [
    "<div class=\"alert alert-warning\">\n",
    "    <h2> Комментарий ревьюера <a class=\"tocSkip\"> </h2>\n",
    "    \n",
    "<b>Некоторые замечания и рекомендации💡:</b> \n",
    "        \n",
    "Также можно добавить содержание для более легкой навигации по проекту."
   ]
  },
  {
   "cell_type": "markdown",
   "id": "f27482b4",
   "metadata": {},
   "source": [
    "## Загрузка и изучение данных"
   ]
  },
  {
   "cell_type": "code",
   "execution_count": 1,
   "id": "cd4a81f1",
   "metadata": {},
   "outputs": [],
   "source": [
    "import pandas as pd\n",
    "import numpy as np\n",
    "import matplotlib.pyplot as plt\n",
    "\n",
    "from sklearn.model_selection import GridSearchCV\n",
    "from sklearn.preprocessing import StandardScaler\n",
    "from sklearn.linear_model import LinearRegression\n",
    "from sklearn.tree import DecisionTreeClassifier\n",
    "from sklearn.linear_model import LogisticRegression\n",
    "from sklearn.model_selection import train_test_split\n",
    "from sklearn.metrics import mean_absolute_error\n",
    "from sklearn.metrics import make_scorer\n",
    "from sklearn.pipeline import make_pipeline\n",
    "from sklearn.pipeline import Pipeline\n",
    "from sklearn import linear_model\n",
    "from sklearn.model_selection import TimeSeriesSplit, cross_val_score, StratifiedKFold, GridSearchCV, cross_validate, KFold\n",
    "from sklearn.impute import SimpleImputer\n",
    "from sklearn.preprocessing import OrdinalEncoder\n",
    "from sklearn.metrics import r2_score\n",
    "\n",
    "from catboost import CatBoostRegressor\n",
    "\n",
    "from sklearn.datasets import make_regression\n",
    "from lightgbm import LGBMRegressor"
   ]
  },
  {
   "cell_type": "markdown",
   "id": "87f01421",
   "metadata": {},
   "source": [
    "<div class=\"alert alert-success\">\n",
    "<h2> Комментарий ревьюера <a class=\"tocSkip\"> </h2>\n",
    "\n",
    "<b>Все отлично!👍:</b> \n",
    "    \n",
    "Отлично, что все импорты собраны в одном месте в начале проекта. Это поможет в случае чего сразу увидеть, какие библиотеки следует доустановить."
   ]
  },
  {
   "cell_type": "markdown",
   "id": "d13265be",
   "metadata": {},
   "source": [
    "<div class=\"alert alert-warning\">\n",
    "    <h2> Комментарий ревьюера <a class=\"tocSkip\"> </h2>\n",
    "    \n",
    "<b>Некоторые замечания и рекомендации💡:</b> \n",
    "        \n",
    "Стоит учитывать рекомендации PEP-8 при оформлении проекта, в том числе импортов. С ними можно познакомиться по ссылке: https://pythonworld.ru/osnovy/pep-8-rukovodstvo-po-napisaniyu-koda-na-python.html"
   ]
  },
  {
   "cell_type": "code",
   "execution_count": 2,
   "id": "9f6bd76a",
   "metadata": {},
   "outputs": [
    {
     "data": {
      "text/html": [
       "<div>\n",
       "<style scoped>\n",
       "    .dataframe tbody tr th:only-of-type {\n",
       "        vertical-align: middle;\n",
       "    }\n",
       "\n",
       "    .dataframe tbody tr th {\n",
       "        vertical-align: top;\n",
       "    }\n",
       "\n",
       "    .dataframe thead th {\n",
       "        text-align: right;\n",
       "    }\n",
       "</style>\n",
       "<table border=\"1\" class=\"dataframe\">\n",
       "  <thead>\n",
       "    <tr style=\"text-align: right;\">\n",
       "      <th></th>\n",
       "      <th>DateCrawled</th>\n",
       "      <th>Price</th>\n",
       "      <th>VehicleType</th>\n",
       "      <th>RegistrationYear</th>\n",
       "      <th>Gearbox</th>\n",
       "      <th>Power</th>\n",
       "      <th>Model</th>\n",
       "      <th>Kilometer</th>\n",
       "      <th>RegistrationMonth</th>\n",
       "      <th>FuelType</th>\n",
       "      <th>Brand</th>\n",
       "      <th>Repaired</th>\n",
       "      <th>DateCreated</th>\n",
       "      <th>NumberOfPictures</th>\n",
       "      <th>PostalCode</th>\n",
       "      <th>LastSeen</th>\n",
       "    </tr>\n",
       "  </thead>\n",
       "  <tbody>\n",
       "    <tr>\n",
       "      <th>0</th>\n",
       "      <td>2016-03-24 11:52:17</td>\n",
       "      <td>480</td>\n",
       "      <td>NaN</td>\n",
       "      <td>1993</td>\n",
       "      <td>manual</td>\n",
       "      <td>0</td>\n",
       "      <td>golf</td>\n",
       "      <td>150000</td>\n",
       "      <td>0</td>\n",
       "      <td>petrol</td>\n",
       "      <td>volkswagen</td>\n",
       "      <td>NaN</td>\n",
       "      <td>2016-03-24 00:00:00</td>\n",
       "      <td>0</td>\n",
       "      <td>70435</td>\n",
       "      <td>2016-04-07 03:16:57</td>\n",
       "    </tr>\n",
       "    <tr>\n",
       "      <th>1</th>\n",
       "      <td>2016-03-24 10:58:45</td>\n",
       "      <td>18300</td>\n",
       "      <td>coupe</td>\n",
       "      <td>2011</td>\n",
       "      <td>manual</td>\n",
       "      <td>190</td>\n",
       "      <td>NaN</td>\n",
       "      <td>125000</td>\n",
       "      <td>5</td>\n",
       "      <td>gasoline</td>\n",
       "      <td>audi</td>\n",
       "      <td>yes</td>\n",
       "      <td>2016-03-24 00:00:00</td>\n",
       "      <td>0</td>\n",
       "      <td>66954</td>\n",
       "      <td>2016-04-07 01:46:50</td>\n",
       "    </tr>\n",
       "    <tr>\n",
       "      <th>2</th>\n",
       "      <td>2016-03-14 12:52:21</td>\n",
       "      <td>9800</td>\n",
       "      <td>suv</td>\n",
       "      <td>2004</td>\n",
       "      <td>auto</td>\n",
       "      <td>163</td>\n",
       "      <td>grand</td>\n",
       "      <td>125000</td>\n",
       "      <td>8</td>\n",
       "      <td>gasoline</td>\n",
       "      <td>jeep</td>\n",
       "      <td>NaN</td>\n",
       "      <td>2016-03-14 00:00:00</td>\n",
       "      <td>0</td>\n",
       "      <td>90480</td>\n",
       "      <td>2016-04-05 12:47:46</td>\n",
       "    </tr>\n",
       "    <tr>\n",
       "      <th>3</th>\n",
       "      <td>2016-03-17 16:54:04</td>\n",
       "      <td>1500</td>\n",
       "      <td>small</td>\n",
       "      <td>2001</td>\n",
       "      <td>manual</td>\n",
       "      <td>75</td>\n",
       "      <td>golf</td>\n",
       "      <td>150000</td>\n",
       "      <td>6</td>\n",
       "      <td>petrol</td>\n",
       "      <td>volkswagen</td>\n",
       "      <td>no</td>\n",
       "      <td>2016-03-17 00:00:00</td>\n",
       "      <td>0</td>\n",
       "      <td>91074</td>\n",
       "      <td>2016-03-17 17:40:17</td>\n",
       "    </tr>\n",
       "    <tr>\n",
       "      <th>4</th>\n",
       "      <td>2016-03-31 17:25:20</td>\n",
       "      <td>3600</td>\n",
       "      <td>small</td>\n",
       "      <td>2008</td>\n",
       "      <td>manual</td>\n",
       "      <td>69</td>\n",
       "      <td>fabia</td>\n",
       "      <td>90000</td>\n",
       "      <td>7</td>\n",
       "      <td>gasoline</td>\n",
       "      <td>skoda</td>\n",
       "      <td>no</td>\n",
       "      <td>2016-03-31 00:00:00</td>\n",
       "      <td>0</td>\n",
       "      <td>60437</td>\n",
       "      <td>2016-04-06 10:17:21</td>\n",
       "    </tr>\n",
       "    <tr>\n",
       "      <th>5</th>\n",
       "      <td>2016-04-04 17:36:23</td>\n",
       "      <td>650</td>\n",
       "      <td>sedan</td>\n",
       "      <td>1995</td>\n",
       "      <td>manual</td>\n",
       "      <td>102</td>\n",
       "      <td>3er</td>\n",
       "      <td>150000</td>\n",
       "      <td>10</td>\n",
       "      <td>petrol</td>\n",
       "      <td>bmw</td>\n",
       "      <td>yes</td>\n",
       "      <td>2016-04-04 00:00:00</td>\n",
       "      <td>0</td>\n",
       "      <td>33775</td>\n",
       "      <td>2016-04-06 19:17:07</td>\n",
       "    </tr>\n",
       "    <tr>\n",
       "      <th>6</th>\n",
       "      <td>2016-04-01 20:48:51</td>\n",
       "      <td>2200</td>\n",
       "      <td>convertible</td>\n",
       "      <td>2004</td>\n",
       "      <td>manual</td>\n",
       "      <td>109</td>\n",
       "      <td>2_reihe</td>\n",
       "      <td>150000</td>\n",
       "      <td>8</td>\n",
       "      <td>petrol</td>\n",
       "      <td>peugeot</td>\n",
       "      <td>no</td>\n",
       "      <td>2016-04-01 00:00:00</td>\n",
       "      <td>0</td>\n",
       "      <td>67112</td>\n",
       "      <td>2016-04-05 18:18:39</td>\n",
       "    </tr>\n",
       "    <tr>\n",
       "      <th>7</th>\n",
       "      <td>2016-03-21 18:54:38</td>\n",
       "      <td>0</td>\n",
       "      <td>sedan</td>\n",
       "      <td>1980</td>\n",
       "      <td>manual</td>\n",
       "      <td>50</td>\n",
       "      <td>other</td>\n",
       "      <td>40000</td>\n",
       "      <td>7</td>\n",
       "      <td>petrol</td>\n",
       "      <td>volkswagen</td>\n",
       "      <td>no</td>\n",
       "      <td>2016-03-21 00:00:00</td>\n",
       "      <td>0</td>\n",
       "      <td>19348</td>\n",
       "      <td>2016-03-25 16:47:58</td>\n",
       "    </tr>\n",
       "    <tr>\n",
       "      <th>8</th>\n",
       "      <td>2016-04-04 23:42:13</td>\n",
       "      <td>14500</td>\n",
       "      <td>bus</td>\n",
       "      <td>2014</td>\n",
       "      <td>manual</td>\n",
       "      <td>125</td>\n",
       "      <td>c_max</td>\n",
       "      <td>30000</td>\n",
       "      <td>8</td>\n",
       "      <td>petrol</td>\n",
       "      <td>ford</td>\n",
       "      <td>NaN</td>\n",
       "      <td>2016-04-04 00:00:00</td>\n",
       "      <td>0</td>\n",
       "      <td>94505</td>\n",
       "      <td>2016-04-04 23:42:13</td>\n",
       "    </tr>\n",
       "    <tr>\n",
       "      <th>9</th>\n",
       "      <td>2016-03-17 10:53:50</td>\n",
       "      <td>999</td>\n",
       "      <td>small</td>\n",
       "      <td>1998</td>\n",
       "      <td>manual</td>\n",
       "      <td>101</td>\n",
       "      <td>golf</td>\n",
       "      <td>150000</td>\n",
       "      <td>0</td>\n",
       "      <td>NaN</td>\n",
       "      <td>volkswagen</td>\n",
       "      <td>NaN</td>\n",
       "      <td>2016-03-17 00:00:00</td>\n",
       "      <td>0</td>\n",
       "      <td>27472</td>\n",
       "      <td>2016-03-31 17:17:06</td>\n",
       "    </tr>\n",
       "    <tr>\n",
       "      <th>10</th>\n",
       "      <td>2016-03-26 19:54:18</td>\n",
       "      <td>2000</td>\n",
       "      <td>sedan</td>\n",
       "      <td>2004</td>\n",
       "      <td>manual</td>\n",
       "      <td>105</td>\n",
       "      <td>3_reihe</td>\n",
       "      <td>150000</td>\n",
       "      <td>12</td>\n",
       "      <td>petrol</td>\n",
       "      <td>mazda</td>\n",
       "      <td>no</td>\n",
       "      <td>2016-03-26 00:00:00</td>\n",
       "      <td>0</td>\n",
       "      <td>96224</td>\n",
       "      <td>2016-04-06 10:45:34</td>\n",
       "    </tr>\n",
       "    <tr>\n",
       "      <th>11</th>\n",
       "      <td>2016-04-07 10:06:22</td>\n",
       "      <td>2799</td>\n",
       "      <td>wagon</td>\n",
       "      <td>2005</td>\n",
       "      <td>manual</td>\n",
       "      <td>140</td>\n",
       "      <td>passat</td>\n",
       "      <td>150000</td>\n",
       "      <td>12</td>\n",
       "      <td>gasoline</td>\n",
       "      <td>volkswagen</td>\n",
       "      <td>yes</td>\n",
       "      <td>2016-04-07 00:00:00</td>\n",
       "      <td>0</td>\n",
       "      <td>57290</td>\n",
       "      <td>2016-04-07 10:25:17</td>\n",
       "    </tr>\n",
       "    <tr>\n",
       "      <th>12</th>\n",
       "      <td>2016-03-15 22:49:09</td>\n",
       "      <td>999</td>\n",
       "      <td>wagon</td>\n",
       "      <td>1995</td>\n",
       "      <td>manual</td>\n",
       "      <td>115</td>\n",
       "      <td>passat</td>\n",
       "      <td>150000</td>\n",
       "      <td>11</td>\n",
       "      <td>petrol</td>\n",
       "      <td>volkswagen</td>\n",
       "      <td>NaN</td>\n",
       "      <td>2016-03-15 00:00:00</td>\n",
       "      <td>0</td>\n",
       "      <td>37269</td>\n",
       "      <td>2016-04-01 13:16:16</td>\n",
       "    </tr>\n",
       "    <tr>\n",
       "      <th>13</th>\n",
       "      <td>2016-03-21 21:37:40</td>\n",
       "      <td>2500</td>\n",
       "      <td>wagon</td>\n",
       "      <td>2004</td>\n",
       "      <td>manual</td>\n",
       "      <td>131</td>\n",
       "      <td>passat</td>\n",
       "      <td>150000</td>\n",
       "      <td>2</td>\n",
       "      <td>NaN</td>\n",
       "      <td>volkswagen</td>\n",
       "      <td>no</td>\n",
       "      <td>2016-03-21 00:00:00</td>\n",
       "      <td>0</td>\n",
       "      <td>90762</td>\n",
       "      <td>2016-03-23 02:50:54</td>\n",
       "    </tr>\n",
       "    <tr>\n",
       "      <th>14</th>\n",
       "      <td>2016-03-21 12:57:01</td>\n",
       "      <td>17999</td>\n",
       "      <td>suv</td>\n",
       "      <td>2011</td>\n",
       "      <td>manual</td>\n",
       "      <td>190</td>\n",
       "      <td>navara</td>\n",
       "      <td>70000</td>\n",
       "      <td>3</td>\n",
       "      <td>gasoline</td>\n",
       "      <td>nissan</td>\n",
       "      <td>no</td>\n",
       "      <td>2016-03-21 00:00:00</td>\n",
       "      <td>0</td>\n",
       "      <td>4177</td>\n",
       "      <td>2016-04-06 07:45:42</td>\n",
       "    </tr>\n",
       "    <tr>\n",
       "      <th>15</th>\n",
       "      <td>2016-03-11 21:39:15</td>\n",
       "      <td>450</td>\n",
       "      <td>small</td>\n",
       "      <td>1910</td>\n",
       "      <td>NaN</td>\n",
       "      <td>0</td>\n",
       "      <td>ka</td>\n",
       "      <td>5000</td>\n",
       "      <td>0</td>\n",
       "      <td>petrol</td>\n",
       "      <td>ford</td>\n",
       "      <td>NaN</td>\n",
       "      <td>2016-03-11 00:00:00</td>\n",
       "      <td>0</td>\n",
       "      <td>24148</td>\n",
       "      <td>2016-03-19 08:46:47</td>\n",
       "    </tr>\n",
       "    <tr>\n",
       "      <th>16</th>\n",
       "      <td>2016-04-01 12:46:46</td>\n",
       "      <td>300</td>\n",
       "      <td>NaN</td>\n",
       "      <td>2016</td>\n",
       "      <td>NaN</td>\n",
       "      <td>60</td>\n",
       "      <td>polo</td>\n",
       "      <td>150000</td>\n",
       "      <td>0</td>\n",
       "      <td>petrol</td>\n",
       "      <td>volkswagen</td>\n",
       "      <td>NaN</td>\n",
       "      <td>2016-04-01 00:00:00</td>\n",
       "      <td>0</td>\n",
       "      <td>38871</td>\n",
       "      <td>2016-04-01 12:46:46</td>\n",
       "    </tr>\n",
       "    <tr>\n",
       "      <th>17</th>\n",
       "      <td>2016-03-20 10:25:19</td>\n",
       "      <td>1750</td>\n",
       "      <td>small</td>\n",
       "      <td>2004</td>\n",
       "      <td>auto</td>\n",
       "      <td>75</td>\n",
       "      <td>twingo</td>\n",
       "      <td>150000</td>\n",
       "      <td>2</td>\n",
       "      <td>petrol</td>\n",
       "      <td>renault</td>\n",
       "      <td>no</td>\n",
       "      <td>2016-03-20 00:00:00</td>\n",
       "      <td>0</td>\n",
       "      <td>65599</td>\n",
       "      <td>2016-04-06 13:16:07</td>\n",
       "    </tr>\n",
       "    <tr>\n",
       "      <th>18</th>\n",
       "      <td>2016-03-23 15:48:05</td>\n",
       "      <td>7550</td>\n",
       "      <td>bus</td>\n",
       "      <td>2007</td>\n",
       "      <td>manual</td>\n",
       "      <td>136</td>\n",
       "      <td>c_max</td>\n",
       "      <td>150000</td>\n",
       "      <td>6</td>\n",
       "      <td>gasoline</td>\n",
       "      <td>ford</td>\n",
       "      <td>no</td>\n",
       "      <td>2016-03-23 00:00:00</td>\n",
       "      <td>0</td>\n",
       "      <td>88361</td>\n",
       "      <td>2016-04-05 18:45:11</td>\n",
       "    </tr>\n",
       "    <tr>\n",
       "      <th>19</th>\n",
       "      <td>2016-04-01 22:55:47</td>\n",
       "      <td>1850</td>\n",
       "      <td>bus</td>\n",
       "      <td>2004</td>\n",
       "      <td>manual</td>\n",
       "      <td>102</td>\n",
       "      <td>a_klasse</td>\n",
       "      <td>150000</td>\n",
       "      <td>1</td>\n",
       "      <td>petrol</td>\n",
       "      <td>mercedes_benz</td>\n",
       "      <td>no</td>\n",
       "      <td>2016-04-01 00:00:00</td>\n",
       "      <td>0</td>\n",
       "      <td>49565</td>\n",
       "      <td>2016-04-05 22:46:05</td>\n",
       "    </tr>\n",
       "    <tr>\n",
       "      <th>20</th>\n",
       "      <td>2016-04-01 19:56:48</td>\n",
       "      <td>10400</td>\n",
       "      <td>coupe</td>\n",
       "      <td>2009</td>\n",
       "      <td>manual</td>\n",
       "      <td>160</td>\n",
       "      <td>scirocco</td>\n",
       "      <td>100000</td>\n",
       "      <td>4</td>\n",
       "      <td>petrol</td>\n",
       "      <td>volkswagen</td>\n",
       "      <td>no</td>\n",
       "      <td>2016-04-01 00:00:00</td>\n",
       "      <td>0</td>\n",
       "      <td>75365</td>\n",
       "      <td>2016-04-05 16:45:49</td>\n",
       "    </tr>\n",
       "    <tr>\n",
       "      <th>21</th>\n",
       "      <td>2016-03-27 11:38:00</td>\n",
       "      <td>3699</td>\n",
       "      <td>sedan</td>\n",
       "      <td>2002</td>\n",
       "      <td>auto</td>\n",
       "      <td>231</td>\n",
       "      <td>5er</td>\n",
       "      <td>150000</td>\n",
       "      <td>7</td>\n",
       "      <td>petrol</td>\n",
       "      <td>bmw</td>\n",
       "      <td>no</td>\n",
       "      <td>2016-03-27 00:00:00</td>\n",
       "      <td>0</td>\n",
       "      <td>68309</td>\n",
       "      <td>2016-04-07 06:44:26</td>\n",
       "    </tr>\n",
       "    <tr>\n",
       "      <th>22</th>\n",
       "      <td>2016-03-23 14:52:51</td>\n",
       "      <td>2900</td>\n",
       "      <td>NaN</td>\n",
       "      <td>2018</td>\n",
       "      <td>manual</td>\n",
       "      <td>90</td>\n",
       "      <td>meriva</td>\n",
       "      <td>150000</td>\n",
       "      <td>5</td>\n",
       "      <td>petrol</td>\n",
       "      <td>opel</td>\n",
       "      <td>no</td>\n",
       "      <td>2016-03-23 00:00:00</td>\n",
       "      <td>0</td>\n",
       "      <td>49716</td>\n",
       "      <td>2016-03-31 01:16:33</td>\n",
       "    </tr>\n",
       "    <tr>\n",
       "      <th>23</th>\n",
       "      <td>2016-03-12 19:43:07</td>\n",
       "      <td>450</td>\n",
       "      <td>small</td>\n",
       "      <td>1997</td>\n",
       "      <td>manual</td>\n",
       "      <td>50</td>\n",
       "      <td>arosa</td>\n",
       "      <td>150000</td>\n",
       "      <td>5</td>\n",
       "      <td>petrol</td>\n",
       "      <td>seat</td>\n",
       "      <td>no</td>\n",
       "      <td>2016-03-12 00:00:00</td>\n",
       "      <td>0</td>\n",
       "      <td>9526</td>\n",
       "      <td>2016-03-21 01:46:11</td>\n",
       "    </tr>\n",
       "    <tr>\n",
       "      <th>24</th>\n",
       "      <td>2016-03-13 20:40:49</td>\n",
       "      <td>500</td>\n",
       "      <td>sedan</td>\n",
       "      <td>1990</td>\n",
       "      <td>manual</td>\n",
       "      <td>118</td>\n",
       "      <td>other</td>\n",
       "      <td>150000</td>\n",
       "      <td>10</td>\n",
       "      <td>petrol</td>\n",
       "      <td>mercedes_benz</td>\n",
       "      <td>yes</td>\n",
       "      <td>2016-03-13 00:00:00</td>\n",
       "      <td>0</td>\n",
       "      <td>35390</td>\n",
       "      <td>2016-03-13 20:40:49</td>\n",
       "    </tr>\n",
       "    <tr>\n",
       "      <th>25</th>\n",
       "      <td>2016-03-18 21:44:09</td>\n",
       "      <td>2500</td>\n",
       "      <td>wagon</td>\n",
       "      <td>2002</td>\n",
       "      <td>auto</td>\n",
       "      <td>193</td>\n",
       "      <td>5er</td>\n",
       "      <td>150000</td>\n",
       "      <td>9</td>\n",
       "      <td>gasoline</td>\n",
       "      <td>bmw</td>\n",
       "      <td>yes</td>\n",
       "      <td>2016-03-18 00:00:00</td>\n",
       "      <td>0</td>\n",
       "      <td>73765</td>\n",
       "      <td>2016-03-18 21:44:09</td>\n",
       "    </tr>\n",
       "    <tr>\n",
       "      <th>26</th>\n",
       "      <td>2016-03-10 19:38:18</td>\n",
       "      <td>5555</td>\n",
       "      <td>NaN</td>\n",
       "      <td>2017</td>\n",
       "      <td>manual</td>\n",
       "      <td>125</td>\n",
       "      <td>c4</td>\n",
       "      <td>125000</td>\n",
       "      <td>4</td>\n",
       "      <td>NaN</td>\n",
       "      <td>citroen</td>\n",
       "      <td>no</td>\n",
       "      <td>2016-03-10 00:00:00</td>\n",
       "      <td>0</td>\n",
       "      <td>31139</td>\n",
       "      <td>2016-03-16 09:16:46</td>\n",
       "    </tr>\n",
       "    <tr>\n",
       "      <th>27</th>\n",
       "      <td>2016-03-07 12:51:23</td>\n",
       "      <td>6900</td>\n",
       "      <td>sedan</td>\n",
       "      <td>2008</td>\n",
       "      <td>manual</td>\n",
       "      <td>99</td>\n",
       "      <td>civic</td>\n",
       "      <td>60000</td>\n",
       "      <td>11</td>\n",
       "      <td>petrol</td>\n",
       "      <td>honda</td>\n",
       "      <td>no</td>\n",
       "      <td>2016-03-07 00:00:00</td>\n",
       "      <td>0</td>\n",
       "      <td>12621</td>\n",
       "      <td>2016-03-26 09:44:53</td>\n",
       "    </tr>\n",
       "    <tr>\n",
       "      <th>28</th>\n",
       "      <td>2016-03-09 11:56:38</td>\n",
       "      <td>1990</td>\n",
       "      <td>bus</td>\n",
       "      <td>1981</td>\n",
       "      <td>manual</td>\n",
       "      <td>50</td>\n",
       "      <td>transporter</td>\n",
       "      <td>5000</td>\n",
       "      <td>1</td>\n",
       "      <td>petrol</td>\n",
       "      <td>volkswagen</td>\n",
       "      <td>no</td>\n",
       "      <td>2016-03-09 00:00:00</td>\n",
       "      <td>0</td>\n",
       "      <td>87471</td>\n",
       "      <td>2016-03-10 07:44:33</td>\n",
       "    </tr>\n",
       "    <tr>\n",
       "      <th>29</th>\n",
       "      <td>2016-03-08 19:55:19</td>\n",
       "      <td>690</td>\n",
       "      <td>small</td>\n",
       "      <td>2003</td>\n",
       "      <td>manual</td>\n",
       "      <td>60</td>\n",
       "      <td>punto</td>\n",
       "      <td>150000</td>\n",
       "      <td>3</td>\n",
       "      <td>petrol</td>\n",
       "      <td>fiat</td>\n",
       "      <td>no</td>\n",
       "      <td>2016-03-08 00:00:00</td>\n",
       "      <td>0</td>\n",
       "      <td>86199</td>\n",
       "      <td>2016-03-09 11:45:28</td>\n",
       "    </tr>\n",
       "    <tr>\n",
       "      <th>30</th>\n",
       "      <td>2016-04-03 15:48:11</td>\n",
       "      <td>3300</td>\n",
       "      <td>sedan</td>\n",
       "      <td>1995</td>\n",
       "      <td>auto</td>\n",
       "      <td>113</td>\n",
       "      <td>e_klasse</td>\n",
       "      <td>150000</td>\n",
       "      <td>1</td>\n",
       "      <td>gasoline</td>\n",
       "      <td>mercedes_benz</td>\n",
       "      <td>no</td>\n",
       "      <td>2016-04-03 00:00:00</td>\n",
       "      <td>0</td>\n",
       "      <td>53879</td>\n",
       "      <td>2016-04-05 15:16:05</td>\n",
       "    </tr>\n",
       "    <tr>\n",
       "      <th>31</th>\n",
       "      <td>2016-03-29 16:57:02</td>\n",
       "      <td>899</td>\n",
       "      <td>NaN</td>\n",
       "      <td>2016</td>\n",
       "      <td>manual</td>\n",
       "      <td>60</td>\n",
       "      <td>clio</td>\n",
       "      <td>150000</td>\n",
       "      <td>6</td>\n",
       "      <td>petrol</td>\n",
       "      <td>renault</td>\n",
       "      <td>NaN</td>\n",
       "      <td>2016-03-29 00:00:00</td>\n",
       "      <td>0</td>\n",
       "      <td>37075</td>\n",
       "      <td>2016-03-29 17:43:07</td>\n",
       "    </tr>\n",
       "    <tr>\n",
       "      <th>32</th>\n",
       "      <td>2016-03-15 20:59:01</td>\n",
       "      <td>245</td>\n",
       "      <td>sedan</td>\n",
       "      <td>1994</td>\n",
       "      <td>NaN</td>\n",
       "      <td>0</td>\n",
       "      <td>golf</td>\n",
       "      <td>150000</td>\n",
       "      <td>2</td>\n",
       "      <td>petrol</td>\n",
       "      <td>volkswagen</td>\n",
       "      <td>no</td>\n",
       "      <td>2016-03-15 00:00:00</td>\n",
       "      <td>0</td>\n",
       "      <td>44145</td>\n",
       "      <td>2016-03-17 18:17:43</td>\n",
       "    </tr>\n",
       "    <tr>\n",
       "      <th>33</th>\n",
       "      <td>2016-03-25 21:48:47</td>\n",
       "      <td>18000</td>\n",
       "      <td>sedan</td>\n",
       "      <td>2007</td>\n",
       "      <td>auto</td>\n",
       "      <td>218</td>\n",
       "      <td>3er</td>\n",
       "      <td>20000</td>\n",
       "      <td>5</td>\n",
       "      <td>petrol</td>\n",
       "      <td>bmw</td>\n",
       "      <td>no</td>\n",
       "      <td>2016-03-25 00:00:00</td>\n",
       "      <td>0</td>\n",
       "      <td>39179</td>\n",
       "      <td>2016-04-07 04:45:21</td>\n",
       "    </tr>\n",
       "    <tr>\n",
       "      <th>34</th>\n",
       "      <td>2016-03-17 18:55:12</td>\n",
       "      <td>3500</td>\n",
       "      <td>sedan</td>\n",
       "      <td>2004</td>\n",
       "      <td>auto</td>\n",
       "      <td>122</td>\n",
       "      <td>e_klasse</td>\n",
       "      <td>150000</td>\n",
       "      <td>11</td>\n",
       "      <td>gasoline</td>\n",
       "      <td>mercedes_benz</td>\n",
       "      <td>no</td>\n",
       "      <td>2016-03-17 00:00:00</td>\n",
       "      <td>0</td>\n",
       "      <td>67071</td>\n",
       "      <td>2016-03-30 15:46:10</td>\n",
       "    </tr>\n",
       "    <tr>\n",
       "      <th>35</th>\n",
       "      <td>2016-03-08 07:54:46</td>\n",
       "      <td>350</td>\n",
       "      <td>NaN</td>\n",
       "      <td>2016</td>\n",
       "      <td>manual</td>\n",
       "      <td>75</td>\n",
       "      <td>golf</td>\n",
       "      <td>150000</td>\n",
       "      <td>4</td>\n",
       "      <td>petrol</td>\n",
       "      <td>volkswagen</td>\n",
       "      <td>no</td>\n",
       "      <td>2016-03-08 00:00:00</td>\n",
       "      <td>0</td>\n",
       "      <td>19386</td>\n",
       "      <td>2016-03-08 09:44:50</td>\n",
       "    </tr>\n",
       "    <tr>\n",
       "      <th>36</th>\n",
       "      <td>2016-03-11 11:50:37</td>\n",
       "      <td>1600</td>\n",
       "      <td>other</td>\n",
       "      <td>1991</td>\n",
       "      <td>manual</td>\n",
       "      <td>75</td>\n",
       "      <td>kadett</td>\n",
       "      <td>70000</td>\n",
       "      <td>0</td>\n",
       "      <td>NaN</td>\n",
       "      <td>opel</td>\n",
       "      <td>NaN</td>\n",
       "      <td>2016-03-11 00:00:00</td>\n",
       "      <td>0</td>\n",
       "      <td>2943</td>\n",
       "      <td>2016-04-07 03:46:09</td>\n",
       "    </tr>\n",
       "    <tr>\n",
       "      <th>37</th>\n",
       "      <td>2016-03-28 17:50:15</td>\n",
       "      <td>1500</td>\n",
       "      <td>NaN</td>\n",
       "      <td>2016</td>\n",
       "      <td>NaN</td>\n",
       "      <td>0</td>\n",
       "      <td>kangoo</td>\n",
       "      <td>150000</td>\n",
       "      <td>1</td>\n",
       "      <td>gasoline</td>\n",
       "      <td>renault</td>\n",
       "      <td>no</td>\n",
       "      <td>2016-03-28 00:00:00</td>\n",
       "      <td>0</td>\n",
       "      <td>46483</td>\n",
       "      <td>2016-03-30 09:18:02</td>\n",
       "    </tr>\n",
       "    <tr>\n",
       "      <th>38</th>\n",
       "      <td>2016-04-01 17:45:07</td>\n",
       "      <td>11900</td>\n",
       "      <td>other</td>\n",
       "      <td>2002</td>\n",
       "      <td>manual</td>\n",
       "      <td>129</td>\n",
       "      <td>other</td>\n",
       "      <td>150000</td>\n",
       "      <td>11</td>\n",
       "      <td>gasoline</td>\n",
       "      <td>volkswagen</td>\n",
       "      <td>no</td>\n",
       "      <td>2016-04-01 00:00:00</td>\n",
       "      <td>0</td>\n",
       "      <td>10551</td>\n",
       "      <td>2016-04-05 12:47:30</td>\n",
       "    </tr>\n",
       "    <tr>\n",
       "      <th>39</th>\n",
       "      <td>2016-03-25 15:50:30</td>\n",
       "      <td>1500</td>\n",
       "      <td>bus</td>\n",
       "      <td>1984</td>\n",
       "      <td>manual</td>\n",
       "      <td>70</td>\n",
       "      <td>other</td>\n",
       "      <td>150000</td>\n",
       "      <td>8</td>\n",
       "      <td>gasoline</td>\n",
       "      <td>mercedes_benz</td>\n",
       "      <td>no</td>\n",
       "      <td>2016-03-25 00:00:00</td>\n",
       "      <td>0</td>\n",
       "      <td>22767</td>\n",
       "      <td>2016-03-27 03:17:02</td>\n",
       "    </tr>\n",
       "    <tr>\n",
       "      <th>40</th>\n",
       "      <td>2016-03-26 22:06:17</td>\n",
       "      <td>0</td>\n",
       "      <td>NaN</td>\n",
       "      <td>1990</td>\n",
       "      <td>NaN</td>\n",
       "      <td>0</td>\n",
       "      <td>corsa</td>\n",
       "      <td>150000</td>\n",
       "      <td>1</td>\n",
       "      <td>petrol</td>\n",
       "      <td>opel</td>\n",
       "      <td>NaN</td>\n",
       "      <td>2016-03-26 00:00:00</td>\n",
       "      <td>0</td>\n",
       "      <td>56412</td>\n",
       "      <td>2016-03-27 17:43:34</td>\n",
       "    </tr>\n",
       "    <tr>\n",
       "      <th>41</th>\n",
       "      <td>2016-03-30 20:38:20</td>\n",
       "      <td>7500</td>\n",
       "      <td>sedan</td>\n",
       "      <td>2002</td>\n",
       "      <td>auto</td>\n",
       "      <td>306</td>\n",
       "      <td>e_klasse</td>\n",
       "      <td>150000</td>\n",
       "      <td>4</td>\n",
       "      <td>NaN</td>\n",
       "      <td>mercedes_benz</td>\n",
       "      <td>NaN</td>\n",
       "      <td>2016-03-30 00:00:00</td>\n",
       "      <td>0</td>\n",
       "      <td>33649</td>\n",
       "      <td>2016-04-03 11:44:49</td>\n",
       "    </tr>\n",
       "    <tr>\n",
       "      <th>42</th>\n",
       "      <td>2016-03-24 00:52:09</td>\n",
       "      <td>12500</td>\n",
       "      <td>sedan</td>\n",
       "      <td>2006</td>\n",
       "      <td>auto</td>\n",
       "      <td>231</td>\n",
       "      <td>5er</td>\n",
       "      <td>150000</td>\n",
       "      <td>11</td>\n",
       "      <td>gasoline</td>\n",
       "      <td>bmw</td>\n",
       "      <td>NaN</td>\n",
       "      <td>2016-03-23 00:00:00</td>\n",
       "      <td>0</td>\n",
       "      <td>46119</td>\n",
       "      <td>2016-04-04 16:18:19</td>\n",
       "    </tr>\n",
       "    <tr>\n",
       "      <th>43</th>\n",
       "      <td>2016-03-13 15:47:08</td>\n",
       "      <td>6990</td>\n",
       "      <td>sedan</td>\n",
       "      <td>2007</td>\n",
       "      <td>manual</td>\n",
       "      <td>95</td>\n",
       "      <td>one</td>\n",
       "      <td>100000</td>\n",
       "      <td>8</td>\n",
       "      <td>petrol</td>\n",
       "      <td>mini</td>\n",
       "      <td>no</td>\n",
       "      <td>2016-03-13 00:00:00</td>\n",
       "      <td>0</td>\n",
       "      <td>59174</td>\n",
       "      <td>2016-03-21 17:17:50</td>\n",
       "    </tr>\n",
       "    <tr>\n",
       "      <th>44</th>\n",
       "      <td>2016-03-17 12:44:43</td>\n",
       "      <td>3900</td>\n",
       "      <td>small</td>\n",
       "      <td>2008</td>\n",
       "      <td>auto</td>\n",
       "      <td>61</td>\n",
       "      <td>fortwo</td>\n",
       "      <td>80000</td>\n",
       "      <td>6</td>\n",
       "      <td>petrol</td>\n",
       "      <td>smart</td>\n",
       "      <td>NaN</td>\n",
       "      <td>2016-03-17 00:00:00</td>\n",
       "      <td>0</td>\n",
       "      <td>21073</td>\n",
       "      <td>2016-03-19 11:46:17</td>\n",
       "    </tr>\n",
       "    <tr>\n",
       "      <th>45</th>\n",
       "      <td>2016-03-29 18:57:46</td>\n",
       "      <td>590</td>\n",
       "      <td>small</td>\n",
       "      <td>1999</td>\n",
       "      <td>manual</td>\n",
       "      <td>75</td>\n",
       "      <td>clio</td>\n",
       "      <td>125000</td>\n",
       "      <td>8</td>\n",
       "      <td>petrol</td>\n",
       "      <td>renault</td>\n",
       "      <td>no</td>\n",
       "      <td>2016-03-29 00:00:00</td>\n",
       "      <td>0</td>\n",
       "      <td>84180</td>\n",
       "      <td>2016-03-29 18:57:46</td>\n",
       "    </tr>\n",
       "    <tr>\n",
       "      <th>46</th>\n",
       "      <td>2016-03-15 18:59:02</td>\n",
       "      <td>7999</td>\n",
       "      <td>sedan</td>\n",
       "      <td>2007</td>\n",
       "      <td>manual</td>\n",
       "      <td>177</td>\n",
       "      <td>1er</td>\n",
       "      <td>150000</td>\n",
       "      <td>8</td>\n",
       "      <td>gasoline</td>\n",
       "      <td>bmw</td>\n",
       "      <td>no</td>\n",
       "      <td>2016-03-15 00:00:00</td>\n",
       "      <td>0</td>\n",
       "      <td>53604</td>\n",
       "      <td>2016-03-16 16:47:48</td>\n",
       "    </tr>\n",
       "    <tr>\n",
       "      <th>47</th>\n",
       "      <td>2016-04-04 00:38:22</td>\n",
       "      <td>2100</td>\n",
       "      <td>wagon</td>\n",
       "      <td>1998</td>\n",
       "      <td>auto</td>\n",
       "      <td>193</td>\n",
       "      <td>5er</td>\n",
       "      <td>150000</td>\n",
       "      <td>2</td>\n",
       "      <td>petrol</td>\n",
       "      <td>bmw</td>\n",
       "      <td>no</td>\n",
       "      <td>2016-04-03 00:00:00</td>\n",
       "      <td>0</td>\n",
       "      <td>86157</td>\n",
       "      <td>2016-04-06 08:16:21</td>\n",
       "    </tr>\n",
       "    <tr>\n",
       "      <th>48</th>\n",
       "      <td>2016-03-25 14:40:12</td>\n",
       "      <td>7750</td>\n",
       "      <td>NaN</td>\n",
       "      <td>2017</td>\n",
       "      <td>manual</td>\n",
       "      <td>80</td>\n",
       "      <td>golf</td>\n",
       "      <td>100000</td>\n",
       "      <td>1</td>\n",
       "      <td>petrol</td>\n",
       "      <td>volkswagen</td>\n",
       "      <td>NaN</td>\n",
       "      <td>2016-03-25 00:00:00</td>\n",
       "      <td>0</td>\n",
       "      <td>48499</td>\n",
       "      <td>2016-03-31 21:47:44</td>\n",
       "    </tr>\n",
       "    <tr>\n",
       "      <th>49</th>\n",
       "      <td>2016-04-04 14:06:22</td>\n",
       "      <td>13500</td>\n",
       "      <td>bus</td>\n",
       "      <td>2012</td>\n",
       "      <td>auto</td>\n",
       "      <td>109</td>\n",
       "      <td>b_klasse</td>\n",
       "      <td>150000</td>\n",
       "      <td>7</td>\n",
       "      <td>gasoline</td>\n",
       "      <td>mercedes_benz</td>\n",
       "      <td>no</td>\n",
       "      <td>2016-04-04 00:00:00</td>\n",
       "      <td>0</td>\n",
       "      <td>35576</td>\n",
       "      <td>2016-04-05 12:09:29</td>\n",
       "    </tr>\n",
       "  </tbody>\n",
       "</table>\n",
       "</div>"
      ],
      "text/plain": [
       "            DateCrawled  Price  VehicleType  RegistrationYear Gearbox  Power  \\\n",
       "0   2016-03-24 11:52:17    480          NaN              1993  manual      0   \n",
       "1   2016-03-24 10:58:45  18300        coupe              2011  manual    190   \n",
       "2   2016-03-14 12:52:21   9800          suv              2004    auto    163   \n",
       "3   2016-03-17 16:54:04   1500        small              2001  manual     75   \n",
       "4   2016-03-31 17:25:20   3600        small              2008  manual     69   \n",
       "5   2016-04-04 17:36:23    650        sedan              1995  manual    102   \n",
       "6   2016-04-01 20:48:51   2200  convertible              2004  manual    109   \n",
       "7   2016-03-21 18:54:38      0        sedan              1980  manual     50   \n",
       "8   2016-04-04 23:42:13  14500          bus              2014  manual    125   \n",
       "9   2016-03-17 10:53:50    999        small              1998  manual    101   \n",
       "10  2016-03-26 19:54:18   2000        sedan              2004  manual    105   \n",
       "11  2016-04-07 10:06:22   2799        wagon              2005  manual    140   \n",
       "12  2016-03-15 22:49:09    999        wagon              1995  manual    115   \n",
       "13  2016-03-21 21:37:40   2500        wagon              2004  manual    131   \n",
       "14  2016-03-21 12:57:01  17999          suv              2011  manual    190   \n",
       "15  2016-03-11 21:39:15    450        small              1910     NaN      0   \n",
       "16  2016-04-01 12:46:46    300          NaN              2016     NaN     60   \n",
       "17  2016-03-20 10:25:19   1750        small              2004    auto     75   \n",
       "18  2016-03-23 15:48:05   7550          bus              2007  manual    136   \n",
       "19  2016-04-01 22:55:47   1850          bus              2004  manual    102   \n",
       "20  2016-04-01 19:56:48  10400        coupe              2009  manual    160   \n",
       "21  2016-03-27 11:38:00   3699        sedan              2002    auto    231   \n",
       "22  2016-03-23 14:52:51   2900          NaN              2018  manual     90   \n",
       "23  2016-03-12 19:43:07    450        small              1997  manual     50   \n",
       "24  2016-03-13 20:40:49    500        sedan              1990  manual    118   \n",
       "25  2016-03-18 21:44:09   2500        wagon              2002    auto    193   \n",
       "26  2016-03-10 19:38:18   5555          NaN              2017  manual    125   \n",
       "27  2016-03-07 12:51:23   6900        sedan              2008  manual     99   \n",
       "28  2016-03-09 11:56:38   1990          bus              1981  manual     50   \n",
       "29  2016-03-08 19:55:19    690        small              2003  manual     60   \n",
       "30  2016-04-03 15:48:11   3300        sedan              1995    auto    113   \n",
       "31  2016-03-29 16:57:02    899          NaN              2016  manual     60   \n",
       "32  2016-03-15 20:59:01    245        sedan              1994     NaN      0   \n",
       "33  2016-03-25 21:48:47  18000        sedan              2007    auto    218   \n",
       "34  2016-03-17 18:55:12   3500        sedan              2004    auto    122   \n",
       "35  2016-03-08 07:54:46    350          NaN              2016  manual     75   \n",
       "36  2016-03-11 11:50:37   1600        other              1991  manual     75   \n",
       "37  2016-03-28 17:50:15   1500          NaN              2016     NaN      0   \n",
       "38  2016-04-01 17:45:07  11900        other              2002  manual    129   \n",
       "39  2016-03-25 15:50:30   1500          bus              1984  manual     70   \n",
       "40  2016-03-26 22:06:17      0          NaN              1990     NaN      0   \n",
       "41  2016-03-30 20:38:20   7500        sedan              2002    auto    306   \n",
       "42  2016-03-24 00:52:09  12500        sedan              2006    auto    231   \n",
       "43  2016-03-13 15:47:08   6990        sedan              2007  manual     95   \n",
       "44  2016-03-17 12:44:43   3900        small              2008    auto     61   \n",
       "45  2016-03-29 18:57:46    590        small              1999  manual     75   \n",
       "46  2016-03-15 18:59:02   7999        sedan              2007  manual    177   \n",
       "47  2016-04-04 00:38:22   2100        wagon              1998    auto    193   \n",
       "48  2016-03-25 14:40:12   7750          NaN              2017  manual     80   \n",
       "49  2016-04-04 14:06:22  13500          bus              2012    auto    109   \n",
       "\n",
       "          Model  Kilometer  RegistrationMonth  FuelType          Brand  \\\n",
       "0          golf     150000                  0    petrol     volkswagen   \n",
       "1           NaN     125000                  5  gasoline           audi   \n",
       "2         grand     125000                  8  gasoline           jeep   \n",
       "3          golf     150000                  6    petrol     volkswagen   \n",
       "4         fabia      90000                  7  gasoline          skoda   \n",
       "5           3er     150000                 10    petrol            bmw   \n",
       "6       2_reihe     150000                  8    petrol        peugeot   \n",
       "7         other      40000                  7    petrol     volkswagen   \n",
       "8         c_max      30000                  8    petrol           ford   \n",
       "9          golf     150000                  0       NaN     volkswagen   \n",
       "10      3_reihe     150000                 12    petrol          mazda   \n",
       "11       passat     150000                 12  gasoline     volkswagen   \n",
       "12       passat     150000                 11    petrol     volkswagen   \n",
       "13       passat     150000                  2       NaN     volkswagen   \n",
       "14       navara      70000                  3  gasoline         nissan   \n",
       "15           ka       5000                  0    petrol           ford   \n",
       "16         polo     150000                  0    petrol     volkswagen   \n",
       "17       twingo     150000                  2    petrol        renault   \n",
       "18        c_max     150000                  6  gasoline           ford   \n",
       "19     a_klasse     150000                  1    petrol  mercedes_benz   \n",
       "20     scirocco     100000                  4    petrol     volkswagen   \n",
       "21          5er     150000                  7    petrol            bmw   \n",
       "22       meriva     150000                  5    petrol           opel   \n",
       "23        arosa     150000                  5    petrol           seat   \n",
       "24        other     150000                 10    petrol  mercedes_benz   \n",
       "25          5er     150000                  9  gasoline            bmw   \n",
       "26           c4     125000                  4       NaN        citroen   \n",
       "27        civic      60000                 11    petrol          honda   \n",
       "28  transporter       5000                  1    petrol     volkswagen   \n",
       "29        punto     150000                  3    petrol           fiat   \n",
       "30     e_klasse     150000                  1  gasoline  mercedes_benz   \n",
       "31         clio     150000                  6    petrol        renault   \n",
       "32         golf     150000                  2    petrol     volkswagen   \n",
       "33          3er      20000                  5    petrol            bmw   \n",
       "34     e_klasse     150000                 11  gasoline  mercedes_benz   \n",
       "35         golf     150000                  4    petrol     volkswagen   \n",
       "36       kadett      70000                  0       NaN           opel   \n",
       "37       kangoo     150000                  1  gasoline        renault   \n",
       "38        other     150000                 11  gasoline     volkswagen   \n",
       "39        other     150000                  8  gasoline  mercedes_benz   \n",
       "40        corsa     150000                  1    petrol           opel   \n",
       "41     e_klasse     150000                  4       NaN  mercedes_benz   \n",
       "42          5er     150000                 11  gasoline            bmw   \n",
       "43          one     100000                  8    petrol           mini   \n",
       "44       fortwo      80000                  6    petrol          smart   \n",
       "45         clio     125000                  8    petrol        renault   \n",
       "46          1er     150000                  8  gasoline            bmw   \n",
       "47          5er     150000                  2    petrol            bmw   \n",
       "48         golf     100000                  1    petrol     volkswagen   \n",
       "49     b_klasse     150000                  7  gasoline  mercedes_benz   \n",
       "\n",
       "   Repaired          DateCreated  NumberOfPictures  PostalCode  \\\n",
       "0       NaN  2016-03-24 00:00:00                 0       70435   \n",
       "1       yes  2016-03-24 00:00:00                 0       66954   \n",
       "2       NaN  2016-03-14 00:00:00                 0       90480   \n",
       "3        no  2016-03-17 00:00:00                 0       91074   \n",
       "4        no  2016-03-31 00:00:00                 0       60437   \n",
       "5       yes  2016-04-04 00:00:00                 0       33775   \n",
       "6        no  2016-04-01 00:00:00                 0       67112   \n",
       "7        no  2016-03-21 00:00:00                 0       19348   \n",
       "8       NaN  2016-04-04 00:00:00                 0       94505   \n",
       "9       NaN  2016-03-17 00:00:00                 0       27472   \n",
       "10       no  2016-03-26 00:00:00                 0       96224   \n",
       "11      yes  2016-04-07 00:00:00                 0       57290   \n",
       "12      NaN  2016-03-15 00:00:00                 0       37269   \n",
       "13       no  2016-03-21 00:00:00                 0       90762   \n",
       "14       no  2016-03-21 00:00:00                 0        4177   \n",
       "15      NaN  2016-03-11 00:00:00                 0       24148   \n",
       "16      NaN  2016-04-01 00:00:00                 0       38871   \n",
       "17       no  2016-03-20 00:00:00                 0       65599   \n",
       "18       no  2016-03-23 00:00:00                 0       88361   \n",
       "19       no  2016-04-01 00:00:00                 0       49565   \n",
       "20       no  2016-04-01 00:00:00                 0       75365   \n",
       "21       no  2016-03-27 00:00:00                 0       68309   \n",
       "22       no  2016-03-23 00:00:00                 0       49716   \n",
       "23       no  2016-03-12 00:00:00                 0        9526   \n",
       "24      yes  2016-03-13 00:00:00                 0       35390   \n",
       "25      yes  2016-03-18 00:00:00                 0       73765   \n",
       "26       no  2016-03-10 00:00:00                 0       31139   \n",
       "27       no  2016-03-07 00:00:00                 0       12621   \n",
       "28       no  2016-03-09 00:00:00                 0       87471   \n",
       "29       no  2016-03-08 00:00:00                 0       86199   \n",
       "30       no  2016-04-03 00:00:00                 0       53879   \n",
       "31      NaN  2016-03-29 00:00:00                 0       37075   \n",
       "32       no  2016-03-15 00:00:00                 0       44145   \n",
       "33       no  2016-03-25 00:00:00                 0       39179   \n",
       "34       no  2016-03-17 00:00:00                 0       67071   \n",
       "35       no  2016-03-08 00:00:00                 0       19386   \n",
       "36      NaN  2016-03-11 00:00:00                 0        2943   \n",
       "37       no  2016-03-28 00:00:00                 0       46483   \n",
       "38       no  2016-04-01 00:00:00                 0       10551   \n",
       "39       no  2016-03-25 00:00:00                 0       22767   \n",
       "40      NaN  2016-03-26 00:00:00                 0       56412   \n",
       "41      NaN  2016-03-30 00:00:00                 0       33649   \n",
       "42      NaN  2016-03-23 00:00:00                 0       46119   \n",
       "43       no  2016-03-13 00:00:00                 0       59174   \n",
       "44      NaN  2016-03-17 00:00:00                 0       21073   \n",
       "45       no  2016-03-29 00:00:00                 0       84180   \n",
       "46       no  2016-03-15 00:00:00                 0       53604   \n",
       "47       no  2016-04-03 00:00:00                 0       86157   \n",
       "48      NaN  2016-03-25 00:00:00                 0       48499   \n",
       "49       no  2016-04-04 00:00:00                 0       35576   \n",
       "\n",
       "               LastSeen  \n",
       "0   2016-04-07 03:16:57  \n",
       "1   2016-04-07 01:46:50  \n",
       "2   2016-04-05 12:47:46  \n",
       "3   2016-03-17 17:40:17  \n",
       "4   2016-04-06 10:17:21  \n",
       "5   2016-04-06 19:17:07  \n",
       "6   2016-04-05 18:18:39  \n",
       "7   2016-03-25 16:47:58  \n",
       "8   2016-04-04 23:42:13  \n",
       "9   2016-03-31 17:17:06  \n",
       "10  2016-04-06 10:45:34  \n",
       "11  2016-04-07 10:25:17  \n",
       "12  2016-04-01 13:16:16  \n",
       "13  2016-03-23 02:50:54  \n",
       "14  2016-04-06 07:45:42  \n",
       "15  2016-03-19 08:46:47  \n",
       "16  2016-04-01 12:46:46  \n",
       "17  2016-04-06 13:16:07  \n",
       "18  2016-04-05 18:45:11  \n",
       "19  2016-04-05 22:46:05  \n",
       "20  2016-04-05 16:45:49  \n",
       "21  2016-04-07 06:44:26  \n",
       "22  2016-03-31 01:16:33  \n",
       "23  2016-03-21 01:46:11  \n",
       "24  2016-03-13 20:40:49  \n",
       "25  2016-03-18 21:44:09  \n",
       "26  2016-03-16 09:16:46  \n",
       "27  2016-03-26 09:44:53  \n",
       "28  2016-03-10 07:44:33  \n",
       "29  2016-03-09 11:45:28  \n",
       "30  2016-04-05 15:16:05  \n",
       "31  2016-03-29 17:43:07  \n",
       "32  2016-03-17 18:17:43  \n",
       "33  2016-04-07 04:45:21  \n",
       "34  2016-03-30 15:46:10  \n",
       "35  2016-03-08 09:44:50  \n",
       "36  2016-04-07 03:46:09  \n",
       "37  2016-03-30 09:18:02  \n",
       "38  2016-04-05 12:47:30  \n",
       "39  2016-03-27 03:17:02  \n",
       "40  2016-03-27 17:43:34  \n",
       "41  2016-04-03 11:44:49  \n",
       "42  2016-04-04 16:18:19  \n",
       "43  2016-03-21 17:17:50  \n",
       "44  2016-03-19 11:46:17  \n",
       "45  2016-03-29 18:57:46  \n",
       "46  2016-03-16 16:47:48  \n",
       "47  2016-04-06 08:16:21  \n",
       "48  2016-03-31 21:47:44  \n",
       "49  2016-04-05 12:09:29  "
      ]
     },
     "execution_count": 2,
     "metadata": {},
     "output_type": "execute_result"
    }
   ],
   "source": [
    "try:\n",
    "    df = pd.read_csv('C:\\\\Users\\\\ASUS\\\\Downloads\\\\autos.csv')\n",
    "    df_epoch = pd.read_csv('C:\\\\Users\\\\ASUS\\\\Downloads\\\\autos.csv')#для анализа эпохи регистрации машин\n",
    "except FileNotFoundError:\n",
    "    df = pd.read_csv('/datasets/autos.csv')\n",
    "    df_epoch = pd.read_csv('/datasets/autos.csv')\n",
    "df.head(50)"
   ]
  },
  {
   "cell_type": "markdown",
   "id": "77420bb6",
   "metadata": {},
   "source": [
    "<div class=\"alert alert-success\">\n",
    "<h2> Комментарий ревьюера <a class=\"tocSkip\"> </h2>\n",
    "\n",
    "<b>Все отлично!👍:</b> \n",
    "    \n",
    "Отлично, что используешь конструкцию try/except для загрузки данных."
   ]
  },
  {
   "cell_type": "code",
   "execution_count": 3,
   "id": "55ec182a",
   "metadata": {},
   "outputs": [],
   "source": [
    "#переименование колонок\n",
    "df.rename(columns={'DateCrawled':'date_crawled','Price':'price','VehicleType':'vehicle_type',\n",
    "                  'RegistrationYear':'registration_year','Gearbox':'gearbox','Power':'power',\n",
    "                  'Model':'model','Kilometer':'kilometer','RegistrationMonth':'registration_month',\n",
    "                  'FuelType':'fuel_type','Brand':'brand','Repaired':'repaired','DateCreated':'date_created',\n",
    "                  'NumberOfPictures':'number_of_pictures','PostalCode':'postal_code','LastSeen':'last_seen'},inplace = True)\n",
    "df_epoch.rename(columns={'DateCrawled':'date_crawled','Price':'price','VehicleType':'vehicle_type',\n",
    "                  'RegistrationYear':'registration_year','Gearbox':'gearbox','Power':'power',\n",
    "                  'Model':'model','Kilometer':'kilometer','RegistrationMonth':'registration_month',\n",
    "                  'FuelType':'fuel_type','Brand':'brand','Repaired':'repaired','DateCreated':'date_created',\n",
    "                  'NumberOfPictures':'number_of_pictures','PostalCode':'postal_code','LastSeen':'last_seen'},inplace = True)"
   ]
  },
  {
   "cell_type": "markdown",
   "id": "4d9f0789",
   "metadata": {},
   "source": [
    "<div class=\"alert alert-success\">\n",
    "<h2> Комментарий ревьюера <a class=\"tocSkip\"> </h2>\n",
    "\n",
    "<b>Все отлично!👍:</b> \n",
    "    \n",
    "Отлично, что работаешь со стилем."
   ]
  },
  {
   "cell_type": "code",
   "execution_count": 4,
   "id": "9ddd9e9f",
   "metadata": {},
   "outputs": [
    {
     "name": "stdout",
     "output_type": "stream",
     "text": [
      "<class 'pandas.core.frame.DataFrame'>\n",
      "RangeIndex: 354369 entries, 0 to 354368\n",
      "Data columns (total 16 columns):\n",
      " #   Column              Non-Null Count   Dtype \n",
      "---  ------              --------------   ----- \n",
      " 0   date_crawled        354369 non-null  object\n",
      " 1   price               354369 non-null  int64 \n",
      " 2   vehicle_type        316879 non-null  object\n",
      " 3   registration_year   354369 non-null  int64 \n",
      " 4   gearbox             334536 non-null  object\n",
      " 5   power               354369 non-null  int64 \n",
      " 6   model               334664 non-null  object\n",
      " 7   kilometer           354369 non-null  int64 \n",
      " 8   registration_month  354369 non-null  int64 \n",
      " 9   fuel_type           321474 non-null  object\n",
      " 10  brand               354369 non-null  object\n",
      " 11  repaired            283215 non-null  object\n",
      " 12  date_created        354369 non-null  object\n",
      " 13  number_of_pictures  354369 non-null  int64 \n",
      " 14  postal_code         354369 non-null  int64 \n",
      " 15  last_seen           354369 non-null  object\n",
      "dtypes: int64(7), object(9)\n",
      "memory usage: 43.3+ MB\n"
     ]
    }
   ],
   "source": [
    "df.info()"
   ]
  },
  {
   "cell_type": "code",
   "execution_count": 5,
   "id": "78d33877",
   "metadata": {
    "scrolled": true
   },
   "outputs": [
    {
     "data": {
      "text/plain": [
       "342585"
      ]
     },
     "execution_count": 5,
     "metadata": {},
     "output_type": "execute_result"
    }
   ],
   "source": [
    "#совпадение даты скачивания с датой создания\n",
    "sum([1 if df['date_crawled'][i][:10] == df['date_created'][i][:10] else 0 for i in range(len(df['date_crawled']))])"
   ]
  },
  {
   "cell_type": "code",
   "execution_count": 6,
   "id": "0a12d01a",
   "metadata": {},
   "outputs": [
    {
     "data": {
      "text/plain": [
       "354369"
      ]
     },
     "execution_count": 6,
     "metadata": {},
     "output_type": "execute_result"
    }
   ],
   "source": [
    "#совпадение даты скачивания с датой создания\n",
    "sum([1 if df['date_crawled'][i][:4] == '2016' else 0 for i in range(len(df['date_crawled']))])"
   ]
  },
  {
   "cell_type": "code",
   "execution_count": 7,
   "id": "81d7f49f",
   "metadata": {},
   "outputs": [
    {
     "data": {
      "text/plain": [
       "4"
      ]
     },
     "execution_count": 7,
     "metadata": {},
     "output_type": "execute_result"
    }
   ],
   "source": [
    "df.duplicated().sum()"
   ]
  },
  {
   "cell_type": "code",
   "execution_count": 8,
   "id": "5152453e",
   "metadata": {},
   "outputs": [
    {
     "data": {
      "text/plain": [
       "0"
      ]
     },
     "execution_count": 8,
     "metadata": {},
     "output_type": "execute_result"
    }
   ],
   "source": [
    "#удаление дубликатов\n",
    "df_epoch=df_epoch.drop_duplicates().reset_index(drop=True)\n",
    "df=df.drop_duplicates().reset_index(drop=True)\n",
    "df.duplicated().sum()"
   ]
  },
  {
   "cell_type": "markdown",
   "id": "500c84e8",
   "metadata": {},
   "source": [
    "<div class=\"alert alert-success\">\n",
    "<h2> Комментарий ревьюера <a class=\"tocSkip\"> </h2>\n",
    "\n",
    "<b>Все отлично!👍</b> "
   ]
  },
  {
   "cell_type": "markdown",
   "id": "e3e9497a",
   "metadata": {},
   "source": [
    "'LastSeen'"
   ]
  },
  {
   "cell_type": "markdown",
   "id": "60b63317",
   "metadata": {},
   "source": [
    "Колонки 'DateCrawled', 'DateCreated' и 'LastSeen' не будут входить в признаки при обучении моделей, т.к. В этих признаках указан один год, от которого нет никакой зависимости. Влияние года есть в колонке 'RegistrationYear'.\n",
    "Также не будет входить 'PostalCode'."
   ]
  },
  {
   "cell_type": "code",
   "execution_count": 9,
   "id": "92bec0e6",
   "metadata": {},
   "outputs": [
    {
     "data": {
      "text/plain": [
       "sedan          91457\n",
       "small          79830\n",
       "wagon          65165\n",
       "bus            28775\n",
       "convertible    20203\n",
       "coupe          16161\n",
       "suv            11996\n",
       "other           3288\n",
       "Name: vehicle_type, dtype: int64"
      ]
     },
     "execution_count": 9,
     "metadata": {},
     "output_type": "execute_result"
    }
   ],
   "source": [
    "df['vehicle_type'].value_counts()"
   ]
  },
  {
   "cell_type": "code",
   "execution_count": 10,
   "id": "814c6ef0",
   "metadata": {},
   "outputs": [
    {
     "data": {
      "text/plain": [
       "manual    268249\n",
       "auto       66283\n",
       "Name: gearbox, dtype: int64"
      ]
     },
     "execution_count": 10,
     "metadata": {},
     "output_type": "execute_result"
    }
   ],
   "source": [
    "df['gearbox'].value_counts()"
   ]
  },
  {
   "cell_type": "code",
   "execution_count": 11,
   "id": "8f76789e",
   "metadata": {},
   "outputs": [
    {
     "data": {
      "text/plain": [
       "0    354365\n",
       "Name: number_of_pictures, dtype: int64"
      ]
     },
     "execution_count": 11,
     "metadata": {},
     "output_type": "execute_result"
    }
   ],
   "source": [
    "df['number_of_pictures'].value_counts()"
   ]
  },
  {
   "cell_type": "markdown",
   "id": "15ec74ca",
   "metadata": {},
   "source": [
    "Скорее всего произошла утечка данных. Количество фотографиий - неинформативный признак"
   ]
  },
  {
   "cell_type": "code",
   "execution_count": 12,
   "id": "ed7829d2",
   "metadata": {},
   "outputs": [
    {
     "data": {
      "text/plain": [
       "golf                  29232\n",
       "other                 24420\n",
       "3er                   19761\n",
       "polo                  13066\n",
       "corsa                 12570\n",
       "                      ...  \n",
       "serie_2                   8\n",
       "serie_3                   4\n",
       "rangerover                4\n",
       "range_rover_evoque        2\n",
       "serie_1                   2\n",
       "Name: model, Length: 250, dtype: int64"
      ]
     },
     "execution_count": 12,
     "metadata": {},
     "output_type": "execute_result"
    }
   ],
   "source": [
    "df['model'].value_counts()"
   ]
  },
  {
   "cell_type": "code",
   "execution_count": 13,
   "id": "644fe5c9",
   "metadata": {},
   "outputs": [
    {
     "data": {
      "text/plain": [
       "petrol      216349\n",
       "gasoline     98719\n",
       "lpg           5310\n",
       "cng            565\n",
       "hybrid         233\n",
       "other          204\n",
       "electric        90\n",
       "Name: fuel_type, dtype: int64"
      ]
     },
     "execution_count": 13,
     "metadata": {},
     "output_type": "execute_result"
    }
   ],
   "source": [
    "df['fuel_type'].value_counts()"
   ]
  },
  {
   "cell_type": "code",
   "execution_count": 14,
   "id": "9139a204",
   "metadata": {},
   "outputs": [
    {
     "data": {
      "text/plain": [
       "no     247158\n",
       "yes     36053\n",
       "Name: repaired, dtype: int64"
      ]
     },
     "execution_count": 14,
     "metadata": {},
     "output_type": "execute_result"
    }
   ],
   "source": [
    "df['repaired'].value_counts()"
   ]
  },
  {
   "cell_type": "markdown",
   "id": "27406e69",
   "metadata": {},
   "source": [
    "### Изучение пропусков"
   ]
  },
  {
   "cell_type": "markdown",
   "id": "8fc32ef6",
   "metadata": {},
   "source": [
    "Можно поставить вместо NaN слово \"Нет\", чтобы с объектом могла работать машина, потому что удалять объекты с пропущенными значениями не имеет смысла(по простой оценке можно сказать, что их может быть в районе 80 тыс., что много). NaN говорит нам, что определенной информации в рецепте нет.\n",
    "Логика также в том, что, если в объекте есть пропуски, то цена машины будет ниже, чем если бы были."
   ]
  },
  {
   "cell_type": "code",
   "execution_count": 15,
   "id": "1c30f54f",
   "metadata": {},
   "outputs": [],
   "source": [
    "#изменение пропущенных значений\n",
    "df = df.fillna('Нет')\n",
    "df_epoch = df_epoch.fillna('Нет')"
   ]
  },
  {
   "cell_type": "markdown",
   "id": "1bd59b73",
   "metadata": {},
   "source": [
    "<div class=\"alert alert-success\">\n",
    "<h2> Комментарий ревьюера <a class=\"tocSkip\"> </h2>\n",
    "\n",
    "<b>Все отлично!👍</b> \n",
    "    \n",
    "Допускается такой подход."
   ]
  },
  {
   "cell_type": "code",
   "execution_count": 16,
   "id": "6a9fe2ec",
   "metadata": {},
   "outputs": [
    {
     "name": "stdout",
     "output_type": "stream",
     "text": [
      "<class 'pandas.core.frame.DataFrame'>\n",
      "RangeIndex: 354365 entries, 0 to 354364\n",
      "Data columns (total 16 columns):\n",
      " #   Column              Non-Null Count   Dtype \n",
      "---  ------              --------------   ----- \n",
      " 0   date_crawled        354365 non-null  object\n",
      " 1   price               354365 non-null  int64 \n",
      " 2   vehicle_type        354365 non-null  object\n",
      " 3   registration_year   354365 non-null  int64 \n",
      " 4   gearbox             354365 non-null  object\n",
      " 5   power               354365 non-null  int64 \n",
      " 6   model               354365 non-null  object\n",
      " 7   kilometer           354365 non-null  int64 \n",
      " 8   registration_month  354365 non-null  int64 \n",
      " 9   fuel_type           354365 non-null  object\n",
      " 10  brand               354365 non-null  object\n",
      " 11  repaired            354365 non-null  object\n",
      " 12  date_created        354365 non-null  object\n",
      " 13  number_of_pictures  354365 non-null  int64 \n",
      " 14  postal_code         354365 non-null  int64 \n",
      " 15  last_seen           354365 non-null  object\n",
      "dtypes: int64(7), object(9)\n",
      "memory usage: 43.3+ MB\n"
     ]
    }
   ],
   "source": [
    "df.info()"
   ]
  },
  {
   "cell_type": "markdown",
   "id": "917b6f2e",
   "metadata": {},
   "source": [
    "### Графический анализ"
   ]
  },
  {
   "cell_type": "code",
   "execution_count": 17,
   "id": "e93a6e47",
   "metadata": {},
   "outputs": [
    {
     "data": {
      "text/plain": [
       "<AxesSubplot:>"
      ]
     },
     "execution_count": 17,
     "metadata": {},
     "output_type": "execute_result"
    },
    {
     "data": {
      "image/png": "[encoded data removed]",
      "text/plain": [
       "<Figure size 936x648 with 1 Axes>"
      ]
     },
     "metadata": {
      "needs_background": "light"
     },
     "output_type": "display_data"
    }
   ],
   "source": [
    "#Построение графика количества машин по типу автомобильного кузова\n",
    "df['vehicle_type'].value_counts(sort=False).plot.bar(figsize=(13,9))"
   ]
  },
  {
   "cell_type": "markdown",
   "id": "d6780efb",
   "metadata": {},
   "source": [
    "Наиболее распространенный автомобильный кузов - 'sedan'"
   ]
  },
  {
   "cell_type": "code",
   "execution_count": 18,
   "id": "f37bf4ea",
   "metadata": {},
   "outputs": [
    {
     "data": {
      "image/png": "[encoded data removed]",
      "text/plain": [
       "<Figure size 864x504 with 1 Axes>"
      ]
     },
     "metadata": {
      "needs_background": "light"
     },
     "output_type": "display_data"
    }
   ],
   "source": [
    "df.boxplot('price', by='vehicle_type', figsize=(12,7))\n",
    "plt.ylim(0,20000);"
   ]
  },
  {
   "cell_type": "code",
   "execution_count": 19,
   "id": "f30dbaf0",
   "metadata": {},
   "outputs": [
    {
     "data": {
      "text/plain": [
       "<AxesSubplot:>"
      ]
     },
     "execution_count": 19,
     "metadata": {},
     "output_type": "execute_result"
    },
    {
     "data": {
      "image/png": "[encoded data removed]",
      "text/plain": [
       "<Figure size 936x648 with 1 Axes>"
      ]
     },
     "metadata": {
      "needs_background": "light"
     },
     "output_type": "display_data"
    }
   ],
   "source": [
    "#Построение графика количества машин по типу передач\n",
    "df['gearbox'].value_counts(sort=False).plot.bar(figsize=(13,9))"
   ]
  },
  {
   "cell_type": "markdown",
   "id": "89bf9a15",
   "metadata": {},
   "source": [
    "Наиболее распространенный тип передач - 'manual'"
   ]
  },
  {
   "cell_type": "code",
   "execution_count": 20,
   "id": "c6b3e94f",
   "metadata": {},
   "outputs": [
    {
     "data": {
      "image/png": "[encoded data removed]",
      "text/plain": [
       "<Figure size 864x504 with 1 Axes>"
      ]
     },
     "metadata": {
      "needs_background": "light"
     },
     "output_type": "display_data"
    }
   ],
   "source": [
    "df.boxplot('price', by='gearbox', figsize=(12,7))\n",
    "plt.ylim(0,20000);"
   ]
  },
  {
   "cell_type": "code",
   "execution_count": 21,
   "id": "eaa69d3a",
   "metadata": {},
   "outputs": [
    {
     "data": {
      "text/plain": [
       "<AxesSubplot:>"
      ]
     },
     "execution_count": 21,
     "metadata": {},
     "output_type": "execute_result"
    },
    {
     "data": {
      "image/png": "[encoded data removed]",
      "text/plain": [
       "<Figure size 936x648 with 1 Axes>"
      ]
     },
     "metadata": {
      "needs_background": "light"
     },
     "output_type": "display_data"
    }
   ],
   "source": [
    "#Построение графика количества машин по 20ти распространненым моделям\n",
    "df['model'].value_counts(ascending=False)[:20].plot.bar(figsize=(13,9))"
   ]
  },
  {
   "cell_type": "markdown",
   "id": "37053e2e",
   "metadata": {},
   "source": [
    "Наиболее распространенная модель машины - 'golf'"
   ]
  },
  {
   "cell_type": "code",
   "execution_count": 22,
   "id": "af1c5bdb",
   "metadata": {},
   "outputs": [
    {
     "data": {
      "image/png": "[encoded data removed]",
      "text/plain": [
       "<Figure size 864x504 with 1 Axes>"
      ]
     },
     "metadata": {
      "needs_background": "light"
     },
     "output_type": "display_data"
    }
   ],
   "source": [
    "df[df['model'] == df['model'].value_counts(ascending=False)[:20].index[0]].boxplot('price', by='model', figsize=(12,7))\n",
    "plt.ylim(0,20000);"
   ]
  },
  {
   "cell_type": "code",
   "execution_count": 23,
   "id": "9cb65494",
   "metadata": {},
   "outputs": [
    {
     "data": {
      "image/png": "[encoded data removed]",
      "text/plain": [
       "<Figure size 864x504 with 1 Axes>"
      ]
     },
     "metadata": {
      "needs_background": "light"
     },
     "output_type": "display_data"
    }
   ],
   "source": [
    "df[df['model'] == df['model'].value_counts(ascending=False)[:20].index[1]].boxplot('price', by='model', figsize=(12,7))\n",
    "plt.ylim(0,20000);"
   ]
  },
  {
   "cell_type": "code",
   "execution_count": 24,
   "id": "0c675805",
   "metadata": {},
   "outputs": [
    {
     "data": {
      "image/png": "[encoded data removed]",
      "text/plain": [
       "<Figure size 864x504 with 1 Axes>"
      ]
     },
     "metadata": {
      "needs_background": "light"
     },
     "output_type": "display_data"
    }
   ],
   "source": [
    "df[df['model'] == df['model'].value_counts(ascending=False)[:20].index[2]].boxplot('price', by='model', figsize=(12,7))\n",
    "plt.ylim(0,20000);"
   ]
  },
  {
   "cell_type": "code",
   "execution_count": 25,
   "id": "66b53258",
   "metadata": {},
   "outputs": [
    {
     "data": {
      "image/png": "[encoded data removed]",
      "text/plain": [
       "<Figure size 864x504 with 1 Axes>"
      ]
     },
     "metadata": {
      "needs_background": "light"
     },
     "output_type": "display_data"
    }
   ],
   "source": [
    "df[df['model'] == df['model'].value_counts(ascending=False)[:20].index[3]].boxplot('price', by='model', figsize=(12,7))\n",
    "plt.ylim(0,20000);"
   ]
  },
  {
   "cell_type": "code",
   "execution_count": 26,
   "id": "14ee2c0d",
   "metadata": {},
   "outputs": [
    {
     "data": {
      "image/png": "[encoded data removed]",
      "text/plain": [
       "<Figure size 864x504 with 1 Axes>"
      ]
     },
     "metadata": {
      "needs_background": "light"
     },
     "output_type": "display_data"
    }
   ],
   "source": [
    "df[df['model'] == df['model'].value_counts(ascending=False)[:20].index[4]].boxplot('price', by='model', figsize=(12,7))\n",
    "plt.ylim(0,20000);"
   ]
  },
  {
   "cell_type": "code",
   "execution_count": 27,
   "id": "64b5a585",
   "metadata": {},
   "outputs": [
    {
     "data": {
      "image/png": "[encoded data removed]",
      "text/plain": [
       "<Figure size 864x504 with 1 Axes>"
      ]
     },
     "metadata": {
      "needs_background": "light"
     },
     "output_type": "display_data"
    }
   ],
   "source": [
    "df[df['model'] == df['model'].value_counts(ascending=False)[:20].index[14]].boxplot('price', by='model', figsize=(12,7))\n",
    "plt.ylim(0,20000);"
   ]
  },
  {
   "cell_type": "code",
   "execution_count": 28,
   "id": "8dfd2660",
   "metadata": {},
   "outputs": [
    {
     "data": {
      "text/plain": [
       "<AxesSubplot:>"
      ]
     },
     "execution_count": 28,
     "metadata": {},
     "output_type": "execute_result"
    },
    {
     "data": {
      "image/png": "[encoded data removed]",
      "text/plain": [
       "<Figure size 936x648 with 1 Axes>"
      ]
     },
     "metadata": {
      "needs_background": "light"
     },
     "output_type": "display_data"
    }
   ],
   "source": [
    "#Построение графика количества машин по годам\n",
    "df['registration_year'].value_counts(sort=False).plot.bar(figsize=(13,9))"
   ]
  },
  {
   "cell_type": "code",
   "execution_count": 29,
   "id": "8549cf44",
   "metadata": {},
   "outputs": [
    {
     "data": {
      "image/png": "[encoded data removed]",
      "text/plain": [
       "<Figure size 864x504 with 1 Axes>"
      ]
     },
     "metadata": {
      "needs_background": "light"
     },
     "output_type": "display_data"
    }
   ],
   "source": [
    "df.boxplot('price', by='registration_year', figsize=(12,7))\n",
    "plt.ylim(0,20000);"
   ]
  },
  {
   "cell_type": "markdown",
   "id": "ebce7b2f",
   "metadata": {},
   "source": [
    "<div class=\"alert alert-warning\">\n",
    "    <h2> Комментарий ревьюера <a class=\"tocSkip\"> </h2>\n",
    "    \n",
    "<b>Некоторые замечания и рекомендации💡:</b> \n",
    "        \n",
    "Вот здесь непонятно, что написано на x ticks, можно их развернуть."
   ]
  },
  {
   "cell_type": "code",
   "execution_count": 30,
   "id": "bbb2a2d5",
   "metadata": {},
   "outputs": [
    {
     "data": {
      "text/plain": [
       "array([1993, 2011, 2004, 2001, 2008, 1995, 1980, 2014, 1998, 2005, 1910,\n",
       "       2016, 2007, 2009, 2002, 2018, 1997, 1990, 2017, 1981, 2003, 1994,\n",
       "       1991, 1984, 2006, 1999, 2012, 2010, 2000, 1992, 2013, 1996, 1985,\n",
       "       1989, 2015, 1982, 1976, 1983, 1973, 1111, 1969, 1971, 1987, 1986,\n",
       "       1988, 1970, 1965, 1945, 1925, 1974, 1979, 1955, 1978, 1972, 1968,\n",
       "       1977, 1961, 1960, 1966, 1975, 1963, 1964, 5000, 1954, 1958, 1967,\n",
       "       1959, 9999, 1956, 3200, 1000, 1941, 8888, 1500, 2200, 4100, 1962,\n",
       "       1929, 1957, 1940, 3000, 2066, 1949, 2019, 1937, 1951, 1800, 1953,\n",
       "       1234, 8000, 5300, 9000, 2900, 6000, 5900, 5911, 1933, 1400, 1950,\n",
       "       4000, 1948, 1952, 1200, 8500, 1932, 1255, 3700, 3800, 4800, 1942,\n",
       "       7000, 1935, 1936, 6500, 1923, 2290, 2500, 1930, 1001, 9450, 1944,\n",
       "       1943, 1934, 1938, 1688, 2800, 1253, 1928, 1919, 5555, 5600, 1600,\n",
       "       2222, 1039, 9996, 1300, 8455, 1931, 1915, 4500, 1920, 1602, 7800,\n",
       "       9229, 1947, 1927, 7100, 8200, 1946, 7500, 3500], dtype=int64)"
      ]
     },
     "execution_count": 30,
     "metadata": {},
     "output_type": "execute_result"
    }
   ],
   "source": [
    "df['registration_year'].unique()"
   ]
  },
  {
   "cell_type": "code",
   "execution_count": 31,
   "id": "51486c0a",
   "metadata": {},
   "outputs": [
    {
     "data": {
      "text/plain": [
       "['2016']"
      ]
     },
     "execution_count": 31,
     "metadata": {},
     "output_type": "execute_result"
    }
   ],
   "source": [
    "year=[]\n",
    "for i in range(len(df['date_crawled'])):\n",
    "    if df['date_crawled'][i][:4] not in year:\n",
    "        year.append(df['date_crawled'][i][:4])\n",
    "year"
   ]
  },
  {
   "cell_type": "markdown",
   "id": "a2004b84",
   "metadata": {},
   "source": [
    "Значения большие 2016 года можно заменить на медианное(2016 год, т.к. в выгрузке анкет находятся только машины, загруженные в 2016 году, не более и менее), чтобы программа могла обработать объект, под эту категорию подойдут значение меньшие 1768 года, т.к. в этот год была создана первая машина."
   ]
  },
  {
   "cell_type": "markdown",
   "id": "1148f54a",
   "metadata": {},
   "source": [
    "<div class=\"alert alert-block alert-danger\">\n",
    "<h2> Комментарий ревьюера <a class=\"tocSkip\"></h2>\n",
    "\n",
    "    \n",
    "<b>На доработку🤔:</b>\n",
    "    \n",
    "Стоит пересмотреть верхнюю границу года регистрации, так как в датасете есть столбец, содержащий дату выгрузки анкеты. Есди год регистрации автомобиля превышает эту дату, стоит усомниться в корректности данных."
   ]
  },
  {
   "cell_type": "markdown",
   "id": "f33b56ab",
   "metadata": {},
   "source": [
    "<div class=\"alert alert-block alert-info\">\n",
    "<b>Комментарий студента:</b> Понял\n",
    "</div>"
   ]
  },
  {
   "cell_type": "markdown",
   "id": "509bd3fd",
   "metadata": {},
   "source": [
    "<div class=\"alert alert-success\">\n",
    "<h2> Комментарий ревьюера №2<a class=\"tocSkip\"> </h2>\n",
    "\n",
    "<b>Все отлично!👍</b> \n",
    "    "
   ]
  },
  {
   "cell_type": "code",
   "execution_count": 32,
   "id": "0c538530",
   "metadata": {},
   "outputs": [
    {
     "name": "stderr",
     "output_type": "stream",
     "text": [
      "<ipython-input-32-28c6aaa9b7a5>:1: SettingWithCopyWarning: \n",
      "A value is trying to be set on a copy of a slice from a DataFrame\n",
      "\n",
      "See the caveats in the documentation: https://pandas.pydata.org/pandas-docs/stable/user_guide/indexing.html#returning-a-view-versus-a-copy\n",
      "  df.loc[:,'registration_year'][df['registration_year'] > 2016] = df['registration_year'].median()\n",
      "<ipython-input-32-28c6aaa9b7a5>:2: SettingWithCopyWarning: \n",
      "A value is trying to be set on a copy of a slice from a DataFrame\n",
      "\n",
      "See the caveats in the documentation: https://pandas.pydata.org/pandas-docs/stable/user_guide/indexing.html#returning-a-view-versus-a-copy\n",
      "  df.loc[:,'registration_year'][df['registration_year'] < 1768] = df['registration_year'].median()\n",
      "<ipython-input-32-28c6aaa9b7a5>:3: SettingWithCopyWarning: \n",
      "A value is trying to be set on a copy of a slice from a DataFrame\n",
      "\n",
      "See the caveats in the documentation: https://pandas.pydata.org/pandas-docs/stable/user_guide/indexing.html#returning-a-view-versus-a-copy\n",
      "  df_epoch.loc[:,'registration_year'][df_epoch['registration_year'] > 2016] = 0\n",
      "<ipython-input-32-28c6aaa9b7a5>:4: SettingWithCopyWarning: \n",
      "A value is trying to be set on a copy of a slice from a DataFrame\n",
      "\n",
      "See the caveats in the documentation: https://pandas.pydata.org/pandas-docs/stable/user_guide/indexing.html#returning-a-view-versus-a-copy\n",
      "  df_epoch.loc[:,'registration_year'][df_epoch['registration_year'] < 1768] = 0\n"
     ]
    }
   ],
   "source": [
    "df.loc[:,'registration_year'][df['registration_year'] > 2016] = df['registration_year'].median()\n",
    "df.loc[:,'registration_year'][df['registration_year'] < 1768] = df['registration_year'].median()\n",
    "df_epoch.loc[:,'registration_year'][df_epoch['registration_year'] > 2016] = 0\n",
    "df_epoch.loc[:,'registration_year'][df_epoch['registration_year'] < 1768] = 0"
   ]
  },
  {
   "cell_type": "code",
   "execution_count": null,
   "id": "117e99c6",
   "metadata": {},
   "outputs": [],
   "source": []
  },
  {
   "cell_type": "code",
   "execution_count": 33,
   "id": "333aa258",
   "metadata": {},
   "outputs": [
    {
     "data": {
      "text/plain": [
       "<AxesSubplot:>"
      ]
     },
     "execution_count": 33,
     "metadata": {},
     "output_type": "execute_result"
    },
    {
     "data": {
      "image/png": "[encoded data removed]",
      "text/plain": [
       "<Figure size 2880x2160 with 1 Axes>"
      ]
     },
     "metadata": {
      "needs_background": "light"
     },
     "output_type": "display_data"
    }
   ],
   "source": [
    "#Построение графика количества машин по годам\n",
    "df['registration_year'].value_counts(sort=False).plot.bar(figsize=(40,30))"
   ]
  },
  {
   "cell_type": "code",
   "execution_count": 34,
   "id": "a4040158",
   "metadata": {},
   "outputs": [
    {
     "data": {
      "image/png": "[encoded data removed]",
      "text/plain": [
       "<Figure size 2160x720 with 1 Axes>"
      ]
     },
     "metadata": {
      "needs_background": "light"
     },
     "output_type": "display_data"
    }
   ],
   "source": [
    "df.boxplot('price', by='registration_year', figsize=(30,10))\n",
    "plt.ylim(0,20000);"
   ]
  },
  {
   "cell_type": "code",
   "execution_count": 35,
   "id": "37758573",
   "metadata": {},
   "outputs": [
    {
     "data": {
      "text/html": [
       "<div>\n",
       "<style scoped>\n",
       "    .dataframe tbody tr th:only-of-type {\n",
       "        vertical-align: middle;\n",
       "    }\n",
       "\n",
       "    .dataframe tbody tr th {\n",
       "        vertical-align: top;\n",
       "    }\n",
       "\n",
       "    .dataframe thead th {\n",
       "        text-align: right;\n",
       "    }\n",
       "</style>\n",
       "<table border=\"1\" class=\"dataframe\">\n",
       "  <thead>\n",
       "    <tr style=\"text-align: right;\">\n",
       "      <th></th>\n",
       "      <th>date_crawled</th>\n",
       "      <th>price</th>\n",
       "      <th>vehicle_type</th>\n",
       "      <th>registration_year</th>\n",
       "      <th>gearbox</th>\n",
       "      <th>power</th>\n",
       "      <th>model</th>\n",
       "      <th>kilometer</th>\n",
       "      <th>registration_month</th>\n",
       "      <th>fuel_type</th>\n",
       "      <th>brand</th>\n",
       "      <th>repaired</th>\n",
       "      <th>date_created</th>\n",
       "      <th>number_of_pictures</th>\n",
       "      <th>postal_code</th>\n",
       "      <th>last_seen</th>\n",
       "      <th>year_epoch</th>\n",
       "    </tr>\n",
       "  </thead>\n",
       "  <tbody>\n",
       "    <tr>\n",
       "      <th>0</th>\n",
       "      <td>2016-03-24 11:52:17</td>\n",
       "      <td>480</td>\n",
       "      <td>Нет</td>\n",
       "      <td>1993</td>\n",
       "      <td>manual</td>\n",
       "      <td>0</td>\n",
       "      <td>golf</td>\n",
       "      <td>150000</td>\n",
       "      <td>0</td>\n",
       "      <td>petrol</td>\n",
       "      <td>volkswagen</td>\n",
       "      <td>Нет</td>\n",
       "      <td>2016-03-24 00:00:00</td>\n",
       "      <td>0</td>\n",
       "      <td>70435</td>\n",
       "      <td>2016-04-07 03:16:57</td>\n",
       "      <td>с 1970 до 2000</td>\n",
       "    </tr>\n",
       "    <tr>\n",
       "      <th>1</th>\n",
       "      <td>2016-03-24 10:58:45</td>\n",
       "      <td>18300</td>\n",
       "      <td>coupe</td>\n",
       "      <td>2011</td>\n",
       "      <td>manual</td>\n",
       "      <td>190</td>\n",
       "      <td>Нет</td>\n",
       "      <td>125000</td>\n",
       "      <td>5</td>\n",
       "      <td>gasoline</td>\n",
       "      <td>audi</td>\n",
       "      <td>yes</td>\n",
       "      <td>2016-03-24 00:00:00</td>\n",
       "      <td>0</td>\n",
       "      <td>66954</td>\n",
       "      <td>2016-04-07 01:46:50</td>\n",
       "      <td>с 2010</td>\n",
       "    </tr>\n",
       "    <tr>\n",
       "      <th>2</th>\n",
       "      <td>2016-03-14 12:52:21</td>\n",
       "      <td>9800</td>\n",
       "      <td>suv</td>\n",
       "      <td>2004</td>\n",
       "      <td>auto</td>\n",
       "      <td>163</td>\n",
       "      <td>grand</td>\n",
       "      <td>125000</td>\n",
       "      <td>8</td>\n",
       "      <td>gasoline</td>\n",
       "      <td>jeep</td>\n",
       "      <td>Нет</td>\n",
       "      <td>2016-03-14 00:00:00</td>\n",
       "      <td>0</td>\n",
       "      <td>90480</td>\n",
       "      <td>2016-04-05 12:47:46</td>\n",
       "      <td>с 2000 по 2010</td>\n",
       "    </tr>\n",
       "    <tr>\n",
       "      <th>3</th>\n",
       "      <td>2016-03-17 16:54:04</td>\n",
       "      <td>1500</td>\n",
       "      <td>small</td>\n",
       "      <td>2001</td>\n",
       "      <td>manual</td>\n",
       "      <td>75</td>\n",
       "      <td>golf</td>\n",
       "      <td>150000</td>\n",
       "      <td>6</td>\n",
       "      <td>petrol</td>\n",
       "      <td>volkswagen</td>\n",
       "      <td>no</td>\n",
       "      <td>2016-03-17 00:00:00</td>\n",
       "      <td>0</td>\n",
       "      <td>91074</td>\n",
       "      <td>2016-03-17 17:40:17</td>\n",
       "      <td>с 2000 по 2010</td>\n",
       "    </tr>\n",
       "    <tr>\n",
       "      <th>4</th>\n",
       "      <td>2016-03-31 17:25:20</td>\n",
       "      <td>3600</td>\n",
       "      <td>small</td>\n",
       "      <td>2008</td>\n",
       "      <td>manual</td>\n",
       "      <td>69</td>\n",
       "      <td>fabia</td>\n",
       "      <td>90000</td>\n",
       "      <td>7</td>\n",
       "      <td>gasoline</td>\n",
       "      <td>skoda</td>\n",
       "      <td>no</td>\n",
       "      <td>2016-03-31 00:00:00</td>\n",
       "      <td>0</td>\n",
       "      <td>60437</td>\n",
       "      <td>2016-04-06 10:17:21</td>\n",
       "      <td>с 2000 по 2010</td>\n",
       "    </tr>\n",
       "  </tbody>\n",
       "</table>\n",
       "</div>"
      ],
      "text/plain": [
       "          date_crawled  price vehicle_type  registration_year gearbox  power  \\\n",
       "0  2016-03-24 11:52:17    480          Нет               1993  manual      0   \n",
       "1  2016-03-24 10:58:45  18300        coupe               2011  manual    190   \n",
       "2  2016-03-14 12:52:21   9800          suv               2004    auto    163   \n",
       "3  2016-03-17 16:54:04   1500        small               2001  manual     75   \n",
       "4  2016-03-31 17:25:20   3600        small               2008  manual     69   \n",
       "\n",
       "   model  kilometer  registration_month fuel_type       brand repaired  \\\n",
       "0   golf     150000                   0    petrol  volkswagen      Нет   \n",
       "1    Нет     125000                   5  gasoline        audi      yes   \n",
       "2  grand     125000                   8  gasoline        jeep      Нет   \n",
       "3   golf     150000                   6    petrol  volkswagen       no   \n",
       "4  fabia      90000                   7  gasoline       skoda       no   \n",
       "\n",
       "          date_created  number_of_pictures  postal_code            last_seen  \\\n",
       "0  2016-03-24 00:00:00                   0        70435  2016-04-07 03:16:57   \n",
       "1  2016-03-24 00:00:00                   0        66954  2016-04-07 01:46:50   \n",
       "2  2016-03-14 00:00:00                   0        90480  2016-04-05 12:47:46   \n",
       "3  2016-03-17 00:00:00                   0        91074  2016-03-17 17:40:17   \n",
       "4  2016-03-31 00:00:00                   0        60437  2016-04-06 10:17:21   \n",
       "\n",
       "       year_epoch  \n",
       "0  с 1970 до 2000  \n",
       "1          с 2010  \n",
       "2  с 2000 по 2010  \n",
       "3  с 2000 по 2010  \n",
       "4  с 2000 по 2010  "
      ]
     },
     "execution_count": 35,
     "metadata": {},
     "output_type": "execute_result"
    }
   ],
   "source": [
    "df_epoch['year_epoch'] = [\"утечка\" if df_epoch['registration_year'][i] == 0 else 'до 1970' if \n",
    "                          df_epoch['registration_year'][i]<1970 else 'с 1970 до 2000' if \n",
    "                          df_epoch['registration_year'][i]<2000 else 'с 2000 по 2010' if \n",
    "                          df_epoch['registration_year'][i]<2010 else 'с 2010' for i in range(len(df['model']))]\n",
    "df_epoch.head()"
   ]
  },
  {
   "cell_type": "code",
   "execution_count": 36,
   "id": "7b7292bf",
   "metadata": {},
   "outputs": [
    {
     "data": {
      "text/plain": [
       "<AxesSubplot:>"
      ]
     },
     "execution_count": 36,
     "metadata": {},
     "output_type": "execute_result"
    },
    {
     "data": {
      "image/png": "[encoded data removed]",
      "text/plain": [
       "<Figure size 936x648 with 1 Axes>"
      ]
     },
     "metadata": {
      "needs_background": "light"
     },
     "output_type": "display_data"
    }
   ],
   "source": [
    "#Построение графика количества машин по годам\n",
    "df_epoch['year_epoch'].value_counts(sort=False).plot.bar(figsize=(13,9))"
   ]
  },
  {
   "cell_type": "markdown",
   "id": "2decfeab",
   "metadata": {},
   "source": [
    "Наиболее распространенный эпоха машины - с 2000 по 2010 год"
   ]
  },
  {
   "cell_type": "code",
   "execution_count": 37,
   "id": "64b018fb",
   "metadata": {},
   "outputs": [
    {
     "data": {
      "image/png": "[encoded data removed]",
      "text/plain": [
       "<Figure size 864x504 with 1 Axes>"
      ]
     },
     "metadata": {
      "needs_background": "light"
     },
     "output_type": "display_data"
    }
   ],
   "source": [
    "df_epoch.boxplot('price', by='year_epoch', figsize=(12,7))\n",
    "plt.ylim(0,20000);"
   ]
  },
  {
   "cell_type": "code",
   "execution_count": 38,
   "id": "aca7f967",
   "metadata": {},
   "outputs": [
    {
     "data": {
      "text/plain": [
       "<AxesSubplot:>"
      ]
     },
     "execution_count": 38,
     "metadata": {},
     "output_type": "execute_result"
    },
    {
     "data": {
      "image/png": "[encoded data removed]",
      "text/plain": [
       "<Figure size 936x648 with 1 Axes>"
      ]
     },
     "metadata": {
      "needs_background": "light"
     },
     "output_type": "display_data"
    }
   ],
   "source": [
    "#Построение графика количества машин по наличию ремонта\n",
    "df['repaired'].value_counts(sort=False).plot.bar(figsize=(13,9))"
   ]
  },
  {
   "cell_type": "markdown",
   "id": "ec28e3b8",
   "metadata": {},
   "source": [
    "Наиболее распространено отсутствие ремонта"
   ]
  },
  {
   "cell_type": "code",
   "execution_count": 39,
   "id": "8a814efd",
   "metadata": {},
   "outputs": [
    {
     "data": {
      "image/png": "[encoded data removed]",
      "text/plain": [
       "<Figure size 864x504 with 1 Axes>"
      ]
     },
     "metadata": {
      "needs_background": "light"
     },
     "output_type": "display_data"
    }
   ],
   "source": [
    "df.boxplot('price', by='repaired', figsize=(12,7))\n",
    "plt.ylim(0,20000);"
   ]
  },
  {
   "cell_type": "code",
   "execution_count": 40,
   "id": "47ac8f2f",
   "metadata": {},
   "outputs": [
    {
     "data": {
      "image/png": "[encoded data removed]",
      "text/plain": [
       "<Figure size 432x288 with 1 Axes>"
      ]
     },
     "metadata": {
      "needs_background": "light"
     },
     "output_type": "display_data"
    }
   ],
   "source": [
    "#гистограмма зависимости л.с. на цену\n",
    "df.plot(y='price',x='power',kind='hist',\n",
    "               bins= 100,\n",
    "               alpha = 0.5,\n",
    "               legend = True\n",
    "              )\n",
    "plt.ylabel('Price')\n",
    "plt.xlabel('Power')\n",
    "plt.ylim(0,20000);"
   ]
  },
  {
   "cell_type": "code",
   "execution_count": 41,
   "id": "b25c0460",
   "metadata": {},
   "outputs": [
    {
     "data": {
      "image/png": "[encoded data removed]",
      "text/plain": [
       "<Figure size 432x288 with 1 Axes>"
      ]
     },
     "metadata": {
      "needs_background": "light"
     },
     "output_type": "display_data"
    }
   ],
   "source": [
    "df.plot(y='price',x='power',kind='hist',\n",
    "               bins= 100,\n",
    "               alpha = 0.5,\n",
    "               legend = True,\n",
    "               xlim = (0,1000)\n",
    "              )\n",
    "plt.ylabel('Price')\n",
    "plt.xlabel('Power')\n",
    "plt.ylim(0,20000);"
   ]
  },
  {
   "cell_type": "code",
   "execution_count": 42,
   "id": "2b5e8e55",
   "metadata": {},
   "outputs": [
    {
     "data": {
      "image/png": "[encoded data removed]",
      "text/plain": [
       "<Figure size 864x504 with 1 Axes>"
      ]
     },
     "metadata": {
      "needs_background": "light"
     },
     "output_type": "display_data"
    }
   ],
   "source": [
    "df.boxplot('price', figsize=(12,7))\n",
    "plt.ylim(0,21000);"
   ]
  },
  {
   "cell_type": "markdown",
   "id": "e2afc1f1",
   "metadata": {},
   "source": [
    "Наиболее распространены цены от 1000 до 6000"
   ]
  },
  {
   "cell_type": "code",
   "execution_count": 43,
   "id": "07bab580",
   "metadata": {},
   "outputs": [
    {
     "data": {
      "image/png": "[encoded data removed]",
      "text/plain": [
       "<Figure size 864x504 with 1 Axes>"
      ]
     },
     "metadata": {
      "needs_background": "light"
     },
     "output_type": "display_data"
    }
   ],
   "source": [
    "df.boxplot('power', figsize=(12,7))\n",
    "plt.ylim(0,21000);"
   ]
  },
  {
   "cell_type": "code",
   "execution_count": 44,
   "id": "87e8727b",
   "metadata": {},
   "outputs": [
    {
     "data": {
      "image/png": "[encoded data removed]",
      "text/plain": [
       "<Figure size 864x504 with 1 Axes>"
      ]
     },
     "metadata": {
      "needs_background": "light"
     },
     "output_type": "display_data"
    }
   ],
   "source": [
    "df.boxplot('power', figsize=(12,7))\n",
    "plt.ylim(0,1000);"
   ]
  },
  {
   "cell_type": "markdown",
   "id": "46e12c37",
   "metadata": {},
   "source": [
    "Отбросим выбросы:"
   ]
  },
  {
   "cell_type": "code",
   "execution_count": 45,
   "id": "bb960e0c",
   "metadata": {},
   "outputs": [
    {
     "data": {
      "text/plain": [
       "10772"
      ]
     },
     "execution_count": 45,
     "metadata": {},
     "output_type": "execute_result"
    }
   ],
   "source": [
    "len(df[df['price'] == 0])"
   ]
  },
  {
   "cell_type": "code",
   "execution_count": 46,
   "id": "2494d81f",
   "metadata": {},
   "outputs": [
    {
     "data": {
      "text/plain": [
       "12028"
      ]
     },
     "execution_count": 46,
     "metadata": {},
     "output_type": "execute_result"
    }
   ],
   "source": [
    "len(df[df['price'] < 10])"
   ]
  },
  {
   "cell_type": "code",
   "execution_count": 47,
   "id": "5cca703c",
   "metadata": {},
   "outputs": [],
   "source": [
    "df=df.query('power < 15000')"
   ]
  },
  {
   "cell_type": "code",
   "execution_count": 48,
   "id": "99dd4c19",
   "metadata": {},
   "outputs": [],
   "source": [
    "df = df.query('price < 17500')\n",
    "df = df.query('price > 0')"
   ]
  },
  {
   "cell_type": "code",
   "execution_count": 49,
   "id": "18ce7ce8",
   "metadata": {},
   "outputs": [],
   "source": [
    "df = df.query('power > 0').reset_index(drop=True)"
   ]
  },
  {
   "cell_type": "code",
   "execution_count": 50,
   "id": "1ee6e046",
   "metadata": {},
   "outputs": [
    {
     "data": {
      "text/html": [
       "<div>\n",
       "<style scoped>\n",
       "    .dataframe tbody tr th:only-of-type {\n",
       "        vertical-align: middle;\n",
       "    }\n",
       "\n",
       "    .dataframe tbody tr th {\n",
       "        vertical-align: top;\n",
       "    }\n",
       "\n",
       "    .dataframe thead th {\n",
       "        text-align: right;\n",
       "    }\n",
       "</style>\n",
       "<table border=\"1\" class=\"dataframe\">\n",
       "  <thead>\n",
       "    <tr style=\"text-align: right;\">\n",
       "      <th></th>\n",
       "      <th>date_crawled</th>\n",
       "      <th>price</th>\n",
       "      <th>vehicle_type</th>\n",
       "      <th>registration_year</th>\n",
       "      <th>gearbox</th>\n",
       "      <th>power</th>\n",
       "      <th>model</th>\n",
       "      <th>kilometer</th>\n",
       "      <th>registration_month</th>\n",
       "      <th>fuel_type</th>\n",
       "      <th>brand</th>\n",
       "      <th>repaired</th>\n",
       "      <th>date_created</th>\n",
       "      <th>number_of_pictures</th>\n",
       "      <th>postal_code</th>\n",
       "      <th>last_seen</th>\n",
       "    </tr>\n",
       "  </thead>\n",
       "  <tbody>\n",
       "    <tr>\n",
       "      <th>0</th>\n",
       "      <td>2016-03-14 12:52:21</td>\n",
       "      <td>9800</td>\n",
       "      <td>suv</td>\n",
       "      <td>2004</td>\n",
       "      <td>auto</td>\n",
       "      <td>163</td>\n",
       "      <td>grand</td>\n",
       "      <td>125000</td>\n",
       "      <td>8</td>\n",
       "      <td>gasoline</td>\n",
       "      <td>jeep</td>\n",
       "      <td>Нет</td>\n",
       "      <td>2016-03-14 00:00:00</td>\n",
       "      <td>0</td>\n",
       "      <td>90480</td>\n",
       "      <td>2016-04-05 12:47:46</td>\n",
       "    </tr>\n",
       "    <tr>\n",
       "      <th>1</th>\n",
       "      <td>2016-03-17 16:54:04</td>\n",
       "      <td>1500</td>\n",
       "      <td>small</td>\n",
       "      <td>2001</td>\n",
       "      <td>manual</td>\n",
       "      <td>75</td>\n",
       "      <td>golf</td>\n",
       "      <td>150000</td>\n",
       "      <td>6</td>\n",
       "      <td>petrol</td>\n",
       "      <td>volkswagen</td>\n",
       "      <td>no</td>\n",
       "      <td>2016-03-17 00:00:00</td>\n",
       "      <td>0</td>\n",
       "      <td>91074</td>\n",
       "      <td>2016-03-17 17:40:17</td>\n",
       "    </tr>\n",
       "    <tr>\n",
       "      <th>2</th>\n",
       "      <td>2016-03-31 17:25:20</td>\n",
       "      <td>3600</td>\n",
       "      <td>small</td>\n",
       "      <td>2008</td>\n",
       "      <td>manual</td>\n",
       "      <td>69</td>\n",
       "      <td>fabia</td>\n",
       "      <td>90000</td>\n",
       "      <td>7</td>\n",
       "      <td>gasoline</td>\n",
       "      <td>skoda</td>\n",
       "      <td>no</td>\n",
       "      <td>2016-03-31 00:00:00</td>\n",
       "      <td>0</td>\n",
       "      <td>60437</td>\n",
       "      <td>2016-04-06 10:17:21</td>\n",
       "    </tr>\n",
       "    <tr>\n",
       "      <th>3</th>\n",
       "      <td>2016-04-04 17:36:23</td>\n",
       "      <td>650</td>\n",
       "      <td>sedan</td>\n",
       "      <td>1995</td>\n",
       "      <td>manual</td>\n",
       "      <td>102</td>\n",
       "      <td>3er</td>\n",
       "      <td>150000</td>\n",
       "      <td>10</td>\n",
       "      <td>petrol</td>\n",
       "      <td>bmw</td>\n",
       "      <td>yes</td>\n",
       "      <td>2016-04-04 00:00:00</td>\n",
       "      <td>0</td>\n",
       "      <td>33775</td>\n",
       "      <td>2016-04-06 19:17:07</td>\n",
       "    </tr>\n",
       "    <tr>\n",
       "      <th>4</th>\n",
       "      <td>2016-04-01 20:48:51</td>\n",
       "      <td>2200</td>\n",
       "      <td>convertible</td>\n",
       "      <td>2004</td>\n",
       "      <td>manual</td>\n",
       "      <td>109</td>\n",
       "      <td>2_reihe</td>\n",
       "      <td>150000</td>\n",
       "      <td>8</td>\n",
       "      <td>petrol</td>\n",
       "      <td>peugeot</td>\n",
       "      <td>no</td>\n",
       "      <td>2016-04-01 00:00:00</td>\n",
       "      <td>0</td>\n",
       "      <td>67112</td>\n",
       "      <td>2016-04-05 18:18:39</td>\n",
       "    </tr>\n",
       "    <tr>\n",
       "      <th>5</th>\n",
       "      <td>2016-04-04 23:42:13</td>\n",
       "      <td>14500</td>\n",
       "      <td>bus</td>\n",
       "      <td>2014</td>\n",
       "      <td>manual</td>\n",
       "      <td>125</td>\n",
       "      <td>c_max</td>\n",
       "      <td>30000</td>\n",
       "      <td>8</td>\n",
       "      <td>petrol</td>\n",
       "      <td>ford</td>\n",
       "      <td>Нет</td>\n",
       "      <td>2016-04-04 00:00:00</td>\n",
       "      <td>0</td>\n",
       "      <td>94505</td>\n",
       "      <td>2016-04-04 23:42:13</td>\n",
       "    </tr>\n",
       "    <tr>\n",
       "      <th>6</th>\n",
       "      <td>2016-03-17 10:53:50</td>\n",
       "      <td>999</td>\n",
       "      <td>small</td>\n",
       "      <td>1998</td>\n",
       "      <td>manual</td>\n",
       "      <td>101</td>\n",
       "      <td>golf</td>\n",
       "      <td>150000</td>\n",
       "      <td>0</td>\n",
       "      <td>Нет</td>\n",
       "      <td>volkswagen</td>\n",
       "      <td>Нет</td>\n",
       "      <td>2016-03-17 00:00:00</td>\n",
       "      <td>0</td>\n",
       "      <td>27472</td>\n",
       "      <td>2016-03-31 17:17:06</td>\n",
       "    </tr>\n",
       "    <tr>\n",
       "      <th>7</th>\n",
       "      <td>2016-03-26 19:54:18</td>\n",
       "      <td>2000</td>\n",
       "      <td>sedan</td>\n",
       "      <td>2004</td>\n",
       "      <td>manual</td>\n",
       "      <td>105</td>\n",
       "      <td>3_reihe</td>\n",
       "      <td>150000</td>\n",
       "      <td>12</td>\n",
       "      <td>petrol</td>\n",
       "      <td>mazda</td>\n",
       "      <td>no</td>\n",
       "      <td>2016-03-26 00:00:00</td>\n",
       "      <td>0</td>\n",
       "      <td>96224</td>\n",
       "      <td>2016-04-06 10:45:34</td>\n",
       "    </tr>\n",
       "    <tr>\n",
       "      <th>8</th>\n",
       "      <td>2016-04-07 10:06:22</td>\n",
       "      <td>2799</td>\n",
       "      <td>wagon</td>\n",
       "      <td>2005</td>\n",
       "      <td>manual</td>\n",
       "      <td>140</td>\n",
       "      <td>passat</td>\n",
       "      <td>150000</td>\n",
       "      <td>12</td>\n",
       "      <td>gasoline</td>\n",
       "      <td>volkswagen</td>\n",
       "      <td>yes</td>\n",
       "      <td>2016-04-07 00:00:00</td>\n",
       "      <td>0</td>\n",
       "      <td>57290</td>\n",
       "      <td>2016-04-07 10:25:17</td>\n",
       "    </tr>\n",
       "    <tr>\n",
       "      <th>9</th>\n",
       "      <td>2016-03-15 22:49:09</td>\n",
       "      <td>999</td>\n",
       "      <td>wagon</td>\n",
       "      <td>1995</td>\n",
       "      <td>manual</td>\n",
       "      <td>115</td>\n",
       "      <td>passat</td>\n",
       "      <td>150000</td>\n",
       "      <td>11</td>\n",
       "      <td>petrol</td>\n",
       "      <td>volkswagen</td>\n",
       "      <td>Нет</td>\n",
       "      <td>2016-03-15 00:00:00</td>\n",
       "      <td>0</td>\n",
       "      <td>37269</td>\n",
       "      <td>2016-04-01 13:16:16</td>\n",
       "    </tr>\n",
       "    <tr>\n",
       "      <th>10</th>\n",
       "      <td>2016-03-21 21:37:40</td>\n",
       "      <td>2500</td>\n",
       "      <td>wagon</td>\n",
       "      <td>2004</td>\n",
       "      <td>manual</td>\n",
       "      <td>131</td>\n",
       "      <td>passat</td>\n",
       "      <td>150000</td>\n",
       "      <td>2</td>\n",
       "      <td>Нет</td>\n",
       "      <td>volkswagen</td>\n",
       "      <td>no</td>\n",
       "      <td>2016-03-21 00:00:00</td>\n",
       "      <td>0</td>\n",
       "      <td>90762</td>\n",
       "      <td>2016-03-23 02:50:54</td>\n",
       "    </tr>\n",
       "    <tr>\n",
       "      <th>11</th>\n",
       "      <td>2016-04-01 12:46:46</td>\n",
       "      <td>300</td>\n",
       "      <td>Нет</td>\n",
       "      <td>2016</td>\n",
       "      <td>Нет</td>\n",
       "      <td>60</td>\n",
       "      <td>polo</td>\n",
       "      <td>150000</td>\n",
       "      <td>0</td>\n",
       "      <td>petrol</td>\n",
       "      <td>volkswagen</td>\n",
       "      <td>Нет</td>\n",
       "      <td>2016-04-01 00:00:00</td>\n",
       "      <td>0</td>\n",
       "      <td>38871</td>\n",
       "      <td>2016-04-01 12:46:46</td>\n",
       "    </tr>\n",
       "    <tr>\n",
       "      <th>12</th>\n",
       "      <td>2016-03-20 10:25:19</td>\n",
       "      <td>1750</td>\n",
       "      <td>small</td>\n",
       "      <td>2004</td>\n",
       "      <td>auto</td>\n",
       "      <td>75</td>\n",
       "      <td>twingo</td>\n",
       "      <td>150000</td>\n",
       "      <td>2</td>\n",
       "      <td>petrol</td>\n",
       "      <td>renault</td>\n",
       "      <td>no</td>\n",
       "      <td>2016-03-20 00:00:00</td>\n",
       "      <td>0</td>\n",
       "      <td>65599</td>\n",
       "      <td>2016-04-06 13:16:07</td>\n",
       "    </tr>\n",
       "    <tr>\n",
       "      <th>13</th>\n",
       "      <td>2016-03-23 15:48:05</td>\n",
       "      <td>7550</td>\n",
       "      <td>bus</td>\n",
       "      <td>2007</td>\n",
       "      <td>manual</td>\n",
       "      <td>136</td>\n",
       "      <td>c_max</td>\n",
       "      <td>150000</td>\n",
       "      <td>6</td>\n",
       "      <td>gasoline</td>\n",
       "      <td>ford</td>\n",
       "      <td>no</td>\n",
       "      <td>2016-03-23 00:00:00</td>\n",
       "      <td>0</td>\n",
       "      <td>88361</td>\n",
       "      <td>2016-04-05 18:45:11</td>\n",
       "    </tr>\n",
       "    <tr>\n",
       "      <th>14</th>\n",
       "      <td>2016-04-01 22:55:47</td>\n",
       "      <td>1850</td>\n",
       "      <td>bus</td>\n",
       "      <td>2004</td>\n",
       "      <td>manual</td>\n",
       "      <td>102</td>\n",
       "      <td>a_klasse</td>\n",
       "      <td>150000</td>\n",
       "      <td>1</td>\n",
       "      <td>petrol</td>\n",
       "      <td>mercedes_benz</td>\n",
       "      <td>no</td>\n",
       "      <td>2016-04-01 00:00:00</td>\n",
       "      <td>0</td>\n",
       "      <td>49565</td>\n",
       "      <td>2016-04-05 22:46:05</td>\n",
       "    </tr>\n",
       "    <tr>\n",
       "      <th>15</th>\n",
       "      <td>2016-04-01 19:56:48</td>\n",
       "      <td>10400</td>\n",
       "      <td>coupe</td>\n",
       "      <td>2009</td>\n",
       "      <td>manual</td>\n",
       "      <td>160</td>\n",
       "      <td>scirocco</td>\n",
       "      <td>100000</td>\n",
       "      <td>4</td>\n",
       "      <td>petrol</td>\n",
       "      <td>volkswagen</td>\n",
       "      <td>no</td>\n",
       "      <td>2016-04-01 00:00:00</td>\n",
       "      <td>0</td>\n",
       "      <td>75365</td>\n",
       "      <td>2016-04-05 16:45:49</td>\n",
       "    </tr>\n",
       "    <tr>\n",
       "      <th>16</th>\n",
       "      <td>2016-03-27 11:38:00</td>\n",
       "      <td>3699</td>\n",
       "      <td>sedan</td>\n",
       "      <td>2002</td>\n",
       "      <td>auto</td>\n",
       "      <td>231</td>\n",
       "      <td>5er</td>\n",
       "      <td>150000</td>\n",
       "      <td>7</td>\n",
       "      <td>petrol</td>\n",
       "      <td>bmw</td>\n",
       "      <td>no</td>\n",
       "      <td>2016-03-27 00:00:00</td>\n",
       "      <td>0</td>\n",
       "      <td>68309</td>\n",
       "      <td>2016-04-07 06:44:26</td>\n",
       "    </tr>\n",
       "    <tr>\n",
       "      <th>17</th>\n",
       "      <td>2016-03-23 14:52:51</td>\n",
       "      <td>2900</td>\n",
       "      <td>Нет</td>\n",
       "      <td>2003</td>\n",
       "      <td>manual</td>\n",
       "      <td>90</td>\n",
       "      <td>meriva</td>\n",
       "      <td>150000</td>\n",
       "      <td>5</td>\n",
       "      <td>petrol</td>\n",
       "      <td>opel</td>\n",
       "      <td>no</td>\n",
       "      <td>2016-03-23 00:00:00</td>\n",
       "      <td>0</td>\n",
       "      <td>49716</td>\n",
       "      <td>2016-03-31 01:16:33</td>\n",
       "    </tr>\n",
       "    <tr>\n",
       "      <th>18</th>\n",
       "      <td>2016-03-12 19:43:07</td>\n",
       "      <td>450</td>\n",
       "      <td>small</td>\n",
       "      <td>1997</td>\n",
       "      <td>manual</td>\n",
       "      <td>50</td>\n",
       "      <td>arosa</td>\n",
       "      <td>150000</td>\n",
       "      <td>5</td>\n",
       "      <td>petrol</td>\n",
       "      <td>seat</td>\n",
       "      <td>no</td>\n",
       "      <td>2016-03-12 00:00:00</td>\n",
       "      <td>0</td>\n",
       "      <td>9526</td>\n",
       "      <td>2016-03-21 01:46:11</td>\n",
       "    </tr>\n",
       "    <tr>\n",
       "      <th>19</th>\n",
       "      <td>2016-03-13 20:40:49</td>\n",
       "      <td>500</td>\n",
       "      <td>sedan</td>\n",
       "      <td>1990</td>\n",
       "      <td>manual</td>\n",
       "      <td>118</td>\n",
       "      <td>other</td>\n",
       "      <td>150000</td>\n",
       "      <td>10</td>\n",
       "      <td>petrol</td>\n",
       "      <td>mercedes_benz</td>\n",
       "      <td>yes</td>\n",
       "      <td>2016-03-13 00:00:00</td>\n",
       "      <td>0</td>\n",
       "      <td>35390</td>\n",
       "      <td>2016-03-13 20:40:49</td>\n",
       "    </tr>\n",
       "  </tbody>\n",
       "</table>\n",
       "</div>"
      ],
      "text/plain": [
       "           date_crawled  price vehicle_type  registration_year gearbox  power  \\\n",
       "0   2016-03-14 12:52:21   9800          suv               2004    auto    163   \n",
       "1   2016-03-17 16:54:04   1500        small               2001  manual     75   \n",
       "2   2016-03-31 17:25:20   3600        small               2008  manual     69   \n",
       "3   2016-04-04 17:36:23    650        sedan               1995  manual    102   \n",
       "4   2016-04-01 20:48:51   2200  convertible               2004  manual    109   \n",
       "5   2016-04-04 23:42:13  14500          bus               2014  manual    125   \n",
       "6   2016-03-17 10:53:50    999        small               1998  manual    101   \n",
       "7   2016-03-26 19:54:18   2000        sedan               2004  manual    105   \n",
       "8   2016-04-07 10:06:22   2799        wagon               2005  manual    140   \n",
       "9   2016-03-15 22:49:09    999        wagon               1995  manual    115   \n",
       "10  2016-03-21 21:37:40   2500        wagon               2004  manual    131   \n",
       "11  2016-04-01 12:46:46    300          Нет               2016     Нет     60   \n",
       "12  2016-03-20 10:25:19   1750        small               2004    auto     75   \n",
       "13  2016-03-23 15:48:05   7550          bus               2007  manual    136   \n",
       "14  2016-04-01 22:55:47   1850          bus               2004  manual    102   \n",
       "15  2016-04-01 19:56:48  10400        coupe               2009  manual    160   \n",
       "16  2016-03-27 11:38:00   3699        sedan               2002    auto    231   \n",
       "17  2016-03-23 14:52:51   2900          Нет               2003  manual     90   \n",
       "18  2016-03-12 19:43:07    450        small               1997  manual     50   \n",
       "19  2016-03-13 20:40:49    500        sedan               1990  manual    118   \n",
       "\n",
       "       model  kilometer  registration_month fuel_type          brand repaired  \\\n",
       "0      grand     125000                   8  gasoline           jeep      Нет   \n",
       "1       golf     150000                   6    petrol     volkswagen       no   \n",
       "2      fabia      90000                   7  gasoline          skoda       no   \n",
       "3        3er     150000                  10    petrol            bmw      yes   \n",
       "4    2_reihe     150000                   8    petrol        peugeot       no   \n",
       "5      c_max      30000                   8    petrol           ford      Нет   \n",
       "6       golf     150000                   0       Нет     volkswagen      Нет   \n",
       "7    3_reihe     150000                  12    petrol          mazda       no   \n",
       "8     passat     150000                  12  gasoline     volkswagen      yes   \n",
       "9     passat     150000                  11    petrol     volkswagen      Нет   \n",
       "10    passat     150000                   2       Нет     volkswagen       no   \n",
       "11      polo     150000                   0    petrol     volkswagen      Нет   \n",
       "12    twingo     150000                   2    petrol        renault       no   \n",
       "13     c_max     150000                   6  gasoline           ford       no   \n",
       "14  a_klasse     150000                   1    petrol  mercedes_benz       no   \n",
       "15  scirocco     100000                   4    petrol     volkswagen       no   \n",
       "16       5er     150000                   7    petrol            bmw       no   \n",
       "17    meriva     150000                   5    petrol           opel       no   \n",
       "18     arosa     150000                   5    petrol           seat       no   \n",
       "19     other     150000                  10    petrol  mercedes_benz      yes   \n",
       "\n",
       "           date_created  number_of_pictures  postal_code            last_seen  \n",
       "0   2016-03-14 00:00:00                   0        90480  2016-04-05 12:47:46  \n",
       "1   2016-03-17 00:00:00                   0        91074  2016-03-17 17:40:17  \n",
       "2   2016-03-31 00:00:00                   0        60437  2016-04-06 10:17:21  \n",
       "3   2016-04-04 00:00:00                   0        33775  2016-04-06 19:17:07  \n",
       "4   2016-04-01 00:00:00                   0        67112  2016-04-05 18:18:39  \n",
       "5   2016-04-04 00:00:00                   0        94505  2016-04-04 23:42:13  \n",
       "6   2016-03-17 00:00:00                   0        27472  2016-03-31 17:17:06  \n",
       "7   2016-03-26 00:00:00                   0        96224  2016-04-06 10:45:34  \n",
       "8   2016-04-07 00:00:00                   0        57290  2016-04-07 10:25:17  \n",
       "9   2016-03-15 00:00:00                   0        37269  2016-04-01 13:16:16  \n",
       "10  2016-03-21 00:00:00                   0        90762  2016-03-23 02:50:54  \n",
       "11  2016-04-01 00:00:00                   0        38871  2016-04-01 12:46:46  \n",
       "12  2016-03-20 00:00:00                   0        65599  2016-04-06 13:16:07  \n",
       "13  2016-03-23 00:00:00                   0        88361  2016-04-05 18:45:11  \n",
       "14  2016-04-01 00:00:00                   0        49565  2016-04-05 22:46:05  \n",
       "15  2016-04-01 00:00:00                   0        75365  2016-04-05 16:45:49  \n",
       "16  2016-03-27 00:00:00                   0        68309  2016-04-07 06:44:26  \n",
       "17  2016-03-23 00:00:00                   0        49716  2016-03-31 01:16:33  \n",
       "18  2016-03-12 00:00:00                   0         9526  2016-03-21 01:46:11  \n",
       "19  2016-03-13 00:00:00                   0        35390  2016-03-13 20:40:49  "
      ]
     },
     "execution_count": 50,
     "metadata": {},
     "output_type": "execute_result"
    }
   ],
   "source": [
    "df.head(20)"
   ]
  },
  {
   "cell_type": "code",
   "execution_count": 52,
   "id": "a1ddbb7d",
   "metadata": {},
   "outputs": [
    {
     "data": {
      "text/html": [
       "<div>\n",
       "<style scoped>\n",
       "    .dataframe tbody tr th:only-of-type {\n",
       "        vertical-align: middle;\n",
       "    }\n",
       "\n",
       "    .dataframe tbody tr th {\n",
       "        vertical-align: top;\n",
       "    }\n",
       "\n",
       "    .dataframe thead th {\n",
       "        text-align: right;\n",
       "    }\n",
       "</style>\n",
       "<table border=\"1\" class=\"dataframe\">\n",
       "  <thead>\n",
       "    <tr style=\"text-align: right;\">\n",
       "      <th></th>\n",
       "      <th>date_crawled</th>\n",
       "      <th>price</th>\n",
       "      <th>vehicle_type</th>\n",
       "      <th>registration_year</th>\n",
       "      <th>gearbox</th>\n",
       "      <th>power</th>\n",
       "      <th>model</th>\n",
       "      <th>kilometer</th>\n",
       "      <th>registration_month</th>\n",
       "      <th>fuel_type</th>\n",
       "      <th>brand</th>\n",
       "      <th>repaired</th>\n",
       "      <th>date_created</th>\n",
       "      <th>number_of_pictures</th>\n",
       "      <th>postal_code</th>\n",
       "      <th>last_seen</th>\n",
       "    </tr>\n",
       "  </thead>\n",
       "  <tbody>\n",
       "    <tr>\n",
       "      <th>0</th>\n",
       "      <td>2016-03-14 12:52:21</td>\n",
       "      <td>9800</td>\n",
       "      <td>suv</td>\n",
       "      <td>2004</td>\n",
       "      <td>auto</td>\n",
       "      <td>163</td>\n",
       "      <td>grand</td>\n",
       "      <td>125000</td>\n",
       "      <td>8</td>\n",
       "      <td>gasoline</td>\n",
       "      <td>jeep</td>\n",
       "      <td>Нет</td>\n",
       "      <td>2016-03-14 00:00:00</td>\n",
       "      <td>0</td>\n",
       "      <td>90480</td>\n",
       "      <td>2016-04-05 12:47:46</td>\n",
       "    </tr>\n",
       "    <tr>\n",
       "      <th>1</th>\n",
       "      <td>2016-03-17 16:54:04</td>\n",
       "      <td>1500</td>\n",
       "      <td>small</td>\n",
       "      <td>2001</td>\n",
       "      <td>manual</td>\n",
       "      <td>75</td>\n",
       "      <td>golf</td>\n",
       "      <td>150000</td>\n",
       "      <td>6</td>\n",
       "      <td>petrol</td>\n",
       "      <td>volkswagen</td>\n",
       "      <td>no</td>\n",
       "      <td>2016-03-17 00:00:00</td>\n",
       "      <td>0</td>\n",
       "      <td>91074</td>\n",
       "      <td>2016-03-17 17:40:17</td>\n",
       "    </tr>\n",
       "    <tr>\n",
       "      <th>2</th>\n",
       "      <td>2016-03-31 17:25:20</td>\n",
       "      <td>3600</td>\n",
       "      <td>small</td>\n",
       "      <td>2008</td>\n",
       "      <td>manual</td>\n",
       "      <td>69</td>\n",
       "      <td>fabia</td>\n",
       "      <td>90000</td>\n",
       "      <td>7</td>\n",
       "      <td>gasoline</td>\n",
       "      <td>skoda</td>\n",
       "      <td>no</td>\n",
       "      <td>2016-03-31 00:00:00</td>\n",
       "      <td>0</td>\n",
       "      <td>60437</td>\n",
       "      <td>2016-04-06 10:17:21</td>\n",
       "    </tr>\n",
       "    <tr>\n",
       "      <th>3</th>\n",
       "      <td>2016-04-04 17:36:23</td>\n",
       "      <td>650</td>\n",
       "      <td>sedan</td>\n",
       "      <td>1995</td>\n",
       "      <td>manual</td>\n",
       "      <td>102</td>\n",
       "      <td>3er</td>\n",
       "      <td>150000</td>\n",
       "      <td>10</td>\n",
       "      <td>petrol</td>\n",
       "      <td>bmw</td>\n",
       "      <td>yes</td>\n",
       "      <td>2016-04-04 00:00:00</td>\n",
       "      <td>0</td>\n",
       "      <td>33775</td>\n",
       "      <td>2016-04-06 19:17:07</td>\n",
       "    </tr>\n",
       "    <tr>\n",
       "      <th>4</th>\n",
       "      <td>2016-04-01 20:48:51</td>\n",
       "      <td>2200</td>\n",
       "      <td>convertible</td>\n",
       "      <td>2004</td>\n",
       "      <td>manual</td>\n",
       "      <td>109</td>\n",
       "      <td>2_reihe</td>\n",
       "      <td>150000</td>\n",
       "      <td>8</td>\n",
       "      <td>petrol</td>\n",
       "      <td>peugeot</td>\n",
       "      <td>no</td>\n",
       "      <td>2016-04-01 00:00:00</td>\n",
       "      <td>0</td>\n",
       "      <td>67112</td>\n",
       "      <td>2016-04-05 18:18:39</td>\n",
       "    </tr>\n",
       "    <tr>\n",
       "      <th>5</th>\n",
       "      <td>2016-04-04 23:42:13</td>\n",
       "      <td>14500</td>\n",
       "      <td>bus</td>\n",
       "      <td>2014</td>\n",
       "      <td>manual</td>\n",
       "      <td>125</td>\n",
       "      <td>c_max</td>\n",
       "      <td>30000</td>\n",
       "      <td>8</td>\n",
       "      <td>petrol</td>\n",
       "      <td>ford</td>\n",
       "      <td>Нет</td>\n",
       "      <td>2016-04-04 00:00:00</td>\n",
       "      <td>0</td>\n",
       "      <td>94505</td>\n",
       "      <td>2016-04-04 23:42:13</td>\n",
       "    </tr>\n",
       "    <tr>\n",
       "      <th>6</th>\n",
       "      <td>2016-03-17 10:53:50</td>\n",
       "      <td>999</td>\n",
       "      <td>small</td>\n",
       "      <td>1998</td>\n",
       "      <td>manual</td>\n",
       "      <td>101</td>\n",
       "      <td>golf</td>\n",
       "      <td>150000</td>\n",
       "      <td>0</td>\n",
       "      <td>Нет</td>\n",
       "      <td>volkswagen</td>\n",
       "      <td>Нет</td>\n",
       "      <td>2016-03-17 00:00:00</td>\n",
       "      <td>0</td>\n",
       "      <td>27472</td>\n",
       "      <td>2016-03-31 17:17:06</td>\n",
       "    </tr>\n",
       "    <tr>\n",
       "      <th>7</th>\n",
       "      <td>2016-03-26 19:54:18</td>\n",
       "      <td>2000</td>\n",
       "      <td>sedan</td>\n",
       "      <td>2004</td>\n",
       "      <td>manual</td>\n",
       "      <td>105</td>\n",
       "      <td>3_reihe</td>\n",
       "      <td>150000</td>\n",
       "      <td>12</td>\n",
       "      <td>petrol</td>\n",
       "      <td>mazda</td>\n",
       "      <td>no</td>\n",
       "      <td>2016-03-26 00:00:00</td>\n",
       "      <td>0</td>\n",
       "      <td>96224</td>\n",
       "      <td>2016-04-06 10:45:34</td>\n",
       "    </tr>\n",
       "    <tr>\n",
       "      <th>8</th>\n",
       "      <td>2016-04-07 10:06:22</td>\n",
       "      <td>2799</td>\n",
       "      <td>wagon</td>\n",
       "      <td>2005</td>\n",
       "      <td>manual</td>\n",
       "      <td>140</td>\n",
       "      <td>passat</td>\n",
       "      <td>150000</td>\n",
       "      <td>12</td>\n",
       "      <td>gasoline</td>\n",
       "      <td>volkswagen</td>\n",
       "      <td>yes</td>\n",
       "      <td>2016-04-07 00:00:00</td>\n",
       "      <td>0</td>\n",
       "      <td>57290</td>\n",
       "      <td>2016-04-07 10:25:17</td>\n",
       "    </tr>\n",
       "    <tr>\n",
       "      <th>9</th>\n",
       "      <td>2016-03-15 22:49:09</td>\n",
       "      <td>999</td>\n",
       "      <td>wagon</td>\n",
       "      <td>1995</td>\n",
       "      <td>manual</td>\n",
       "      <td>115</td>\n",
       "      <td>passat</td>\n",
       "      <td>150000</td>\n",
       "      <td>11</td>\n",
       "      <td>petrol</td>\n",
       "      <td>volkswagen</td>\n",
       "      <td>Нет</td>\n",
       "      <td>2016-03-15 00:00:00</td>\n",
       "      <td>0</td>\n",
       "      <td>37269</td>\n",
       "      <td>2016-04-01 13:16:16</td>\n",
       "    </tr>\n",
       "    <tr>\n",
       "      <th>10</th>\n",
       "      <td>2016-03-21 21:37:40</td>\n",
       "      <td>2500</td>\n",
       "      <td>wagon</td>\n",
       "      <td>2004</td>\n",
       "      <td>manual</td>\n",
       "      <td>131</td>\n",
       "      <td>passat</td>\n",
       "      <td>150000</td>\n",
       "      <td>2</td>\n",
       "      <td>Нет</td>\n",
       "      <td>volkswagen</td>\n",
       "      <td>no</td>\n",
       "      <td>2016-03-21 00:00:00</td>\n",
       "      <td>0</td>\n",
       "      <td>90762</td>\n",
       "      <td>2016-03-23 02:50:54</td>\n",
       "    </tr>\n",
       "    <tr>\n",
       "      <th>11</th>\n",
       "      <td>2016-04-01 12:46:46</td>\n",
       "      <td>300</td>\n",
       "      <td>Нет</td>\n",
       "      <td>2016</td>\n",
       "      <td>Нет</td>\n",
       "      <td>60</td>\n",
       "      <td>polo</td>\n",
       "      <td>150000</td>\n",
       "      <td>0</td>\n",
       "      <td>petrol</td>\n",
       "      <td>volkswagen</td>\n",
       "      <td>Нет</td>\n",
       "      <td>2016-04-01 00:00:00</td>\n",
       "      <td>0</td>\n",
       "      <td>38871</td>\n",
       "      <td>2016-04-01 12:46:46</td>\n",
       "    </tr>\n",
       "    <tr>\n",
       "      <th>12</th>\n",
       "      <td>2016-03-20 10:25:19</td>\n",
       "      <td>1750</td>\n",
       "      <td>small</td>\n",
       "      <td>2004</td>\n",
       "      <td>auto</td>\n",
       "      <td>75</td>\n",
       "      <td>twingo</td>\n",
       "      <td>150000</td>\n",
       "      <td>2</td>\n",
       "      <td>petrol</td>\n",
       "      <td>renault</td>\n",
       "      <td>no</td>\n",
       "      <td>2016-03-20 00:00:00</td>\n",
       "      <td>0</td>\n",
       "      <td>65599</td>\n",
       "      <td>2016-04-06 13:16:07</td>\n",
       "    </tr>\n",
       "    <tr>\n",
       "      <th>13</th>\n",
       "      <td>2016-03-23 15:48:05</td>\n",
       "      <td>7550</td>\n",
       "      <td>bus</td>\n",
       "      <td>2007</td>\n",
       "      <td>manual</td>\n",
       "      <td>136</td>\n",
       "      <td>c_max</td>\n",
       "      <td>150000</td>\n",
       "      <td>6</td>\n",
       "      <td>gasoline</td>\n",
       "      <td>ford</td>\n",
       "      <td>no</td>\n",
       "      <td>2016-03-23 00:00:00</td>\n",
       "      <td>0</td>\n",
       "      <td>88361</td>\n",
       "      <td>2016-04-05 18:45:11</td>\n",
       "    </tr>\n",
       "    <tr>\n",
       "      <th>14</th>\n",
       "      <td>2016-04-01 22:55:47</td>\n",
       "      <td>1850</td>\n",
       "      <td>bus</td>\n",
       "      <td>2004</td>\n",
       "      <td>manual</td>\n",
       "      <td>102</td>\n",
       "      <td>a_klasse</td>\n",
       "      <td>150000</td>\n",
       "      <td>1</td>\n",
       "      <td>petrol</td>\n",
       "      <td>mercedes_benz</td>\n",
       "      <td>no</td>\n",
       "      <td>2016-04-01 00:00:00</td>\n",
       "      <td>0</td>\n",
       "      <td>49565</td>\n",
       "      <td>2016-04-05 22:46:05</td>\n",
       "    </tr>\n",
       "    <tr>\n",
       "      <th>15</th>\n",
       "      <td>2016-04-01 19:56:48</td>\n",
       "      <td>10400</td>\n",
       "      <td>coupe</td>\n",
       "      <td>2009</td>\n",
       "      <td>manual</td>\n",
       "      <td>160</td>\n",
       "      <td>scirocco</td>\n",
       "      <td>100000</td>\n",
       "      <td>4</td>\n",
       "      <td>petrol</td>\n",
       "      <td>volkswagen</td>\n",
       "      <td>no</td>\n",
       "      <td>2016-04-01 00:00:00</td>\n",
       "      <td>0</td>\n",
       "      <td>75365</td>\n",
       "      <td>2016-04-05 16:45:49</td>\n",
       "    </tr>\n",
       "    <tr>\n",
       "      <th>16</th>\n",
       "      <td>2016-03-27 11:38:00</td>\n",
       "      <td>3699</td>\n",
       "      <td>sedan</td>\n",
       "      <td>2002</td>\n",
       "      <td>auto</td>\n",
       "      <td>231</td>\n",
       "      <td>5er</td>\n",
       "      <td>150000</td>\n",
       "      <td>7</td>\n",
       "      <td>petrol</td>\n",
       "      <td>bmw</td>\n",
       "      <td>no</td>\n",
       "      <td>2016-03-27 00:00:00</td>\n",
       "      <td>0</td>\n",
       "      <td>68309</td>\n",
       "      <td>2016-04-07 06:44:26</td>\n",
       "    </tr>\n",
       "    <tr>\n",
       "      <th>17</th>\n",
       "      <td>2016-03-23 14:52:51</td>\n",
       "      <td>2900</td>\n",
       "      <td>Нет</td>\n",
       "      <td>2003</td>\n",
       "      <td>manual</td>\n",
       "      <td>90</td>\n",
       "      <td>meriva</td>\n",
       "      <td>150000</td>\n",
       "      <td>5</td>\n",
       "      <td>petrol</td>\n",
       "      <td>opel</td>\n",
       "      <td>no</td>\n",
       "      <td>2016-03-23 00:00:00</td>\n",
       "      <td>0</td>\n",
       "      <td>49716</td>\n",
       "      <td>2016-03-31 01:16:33</td>\n",
       "    </tr>\n",
       "    <tr>\n",
       "      <th>18</th>\n",
       "      <td>2016-03-12 19:43:07</td>\n",
       "      <td>450</td>\n",
       "      <td>small</td>\n",
       "      <td>1997</td>\n",
       "      <td>manual</td>\n",
       "      <td>50</td>\n",
       "      <td>arosa</td>\n",
       "      <td>150000</td>\n",
       "      <td>5</td>\n",
       "      <td>petrol</td>\n",
       "      <td>seat</td>\n",
       "      <td>no</td>\n",
       "      <td>2016-03-12 00:00:00</td>\n",
       "      <td>0</td>\n",
       "      <td>9526</td>\n",
       "      <td>2016-03-21 01:46:11</td>\n",
       "    </tr>\n",
       "    <tr>\n",
       "      <th>19</th>\n",
       "      <td>2016-03-13 20:40:49</td>\n",
       "      <td>500</td>\n",
       "      <td>sedan</td>\n",
       "      <td>1990</td>\n",
       "      <td>manual</td>\n",
       "      <td>118</td>\n",
       "      <td>other</td>\n",
       "      <td>150000</td>\n",
       "      <td>10</td>\n",
       "      <td>petrol</td>\n",
       "      <td>mercedes_benz</td>\n",
       "      <td>yes</td>\n",
       "      <td>2016-03-13 00:00:00</td>\n",
       "      <td>0</td>\n",
       "      <td>35390</td>\n",
       "      <td>2016-03-13 20:40:49</td>\n",
       "    </tr>\n",
       "  </tbody>\n",
       "</table>\n",
       "</div>"
      ],
      "text/plain": [
       "           date_crawled  price vehicle_type  registration_year gearbox  power  \\\n",
       "0   2016-03-14 12:52:21   9800          suv               2004    auto    163   \n",
       "1   2016-03-17 16:54:04   1500        small               2001  manual     75   \n",
       "2   2016-03-31 17:25:20   3600        small               2008  manual     69   \n",
       "3   2016-04-04 17:36:23    650        sedan               1995  manual    102   \n",
       "4   2016-04-01 20:48:51   2200  convertible               2004  manual    109   \n",
       "5   2016-04-04 23:42:13  14500          bus               2014  manual    125   \n",
       "6   2016-03-17 10:53:50    999        small               1998  manual    101   \n",
       "7   2016-03-26 19:54:18   2000        sedan               2004  manual    105   \n",
       "8   2016-04-07 10:06:22   2799        wagon               2005  manual    140   \n",
       "9   2016-03-15 22:49:09    999        wagon               1995  manual    115   \n",
       "10  2016-03-21 21:37:40   2500        wagon               2004  manual    131   \n",
       "11  2016-04-01 12:46:46    300          Нет               2016     Нет     60   \n",
       "12  2016-03-20 10:25:19   1750        small               2004    auto     75   \n",
       "13  2016-03-23 15:48:05   7550          bus               2007  manual    136   \n",
       "14  2016-04-01 22:55:47   1850          bus               2004  manual    102   \n",
       "15  2016-04-01 19:56:48  10400        coupe               2009  manual    160   \n",
       "16  2016-03-27 11:38:00   3699        sedan               2002    auto    231   \n",
       "17  2016-03-23 14:52:51   2900          Нет               2003  manual     90   \n",
       "18  2016-03-12 19:43:07    450        small               1997  manual     50   \n",
       "19  2016-03-13 20:40:49    500        sedan               1990  manual    118   \n",
       "\n",
       "       model  kilometer  registration_month fuel_type          brand repaired  \\\n",
       "0      grand     125000                   8  gasoline           jeep      Нет   \n",
       "1       golf     150000                   6    petrol     volkswagen       no   \n",
       "2      fabia      90000                   7  gasoline          skoda       no   \n",
       "3        3er     150000                  10    petrol            bmw      yes   \n",
       "4    2_reihe     150000                   8    petrol        peugeot       no   \n",
       "5      c_max      30000                   8    petrol           ford      Нет   \n",
       "6       golf     150000                   0       Нет     volkswagen      Нет   \n",
       "7    3_reihe     150000                  12    petrol          mazda       no   \n",
       "8     passat     150000                  12  gasoline     volkswagen      yes   \n",
       "9     passat     150000                  11    petrol     volkswagen      Нет   \n",
       "10    passat     150000                   2       Нет     volkswagen       no   \n",
       "11      polo     150000                   0    petrol     volkswagen      Нет   \n",
       "12    twingo     150000                   2    petrol        renault       no   \n",
       "13     c_max     150000                   6  gasoline           ford       no   \n",
       "14  a_klasse     150000                   1    petrol  mercedes_benz       no   \n",
       "15  scirocco     100000                   4    petrol     volkswagen       no   \n",
       "16       5er     150000                   7    petrol            bmw       no   \n",
       "17    meriva     150000                   5    petrol           opel       no   \n",
       "18     arosa     150000                   5    petrol           seat       no   \n",
       "19     other     150000                  10    petrol  mercedes_benz      yes   \n",
       "\n",
       "           date_created  number_of_pictures  postal_code            last_seen  \n",
       "0   2016-03-14 00:00:00                   0        90480  2016-04-05 12:47:46  \n",
       "1   2016-03-17 00:00:00                   0        91074  2016-03-17 17:40:17  \n",
       "2   2016-03-31 00:00:00                   0        60437  2016-04-06 10:17:21  \n",
       "3   2016-04-04 00:00:00                   0        33775  2016-04-06 19:17:07  \n",
       "4   2016-04-01 00:00:00                   0        67112  2016-04-05 18:18:39  \n",
       "5   2016-04-04 00:00:00                   0        94505  2016-04-04 23:42:13  \n",
       "6   2016-03-17 00:00:00                   0        27472  2016-03-31 17:17:06  \n",
       "7   2016-03-26 00:00:00                   0        96224  2016-04-06 10:45:34  \n",
       "8   2016-04-07 00:00:00                   0        57290  2016-04-07 10:25:17  \n",
       "9   2016-03-15 00:00:00                   0        37269  2016-04-01 13:16:16  \n",
       "10  2016-03-21 00:00:00                   0        90762  2016-03-23 02:50:54  \n",
       "11  2016-04-01 00:00:00                   0        38871  2016-04-01 12:46:46  \n",
       "12  2016-03-20 00:00:00                   0        65599  2016-04-06 13:16:07  \n",
       "13  2016-03-23 00:00:00                   0        88361  2016-04-05 18:45:11  \n",
       "14  2016-04-01 00:00:00                   0        49565  2016-04-05 22:46:05  \n",
       "15  2016-04-01 00:00:00                   0        75365  2016-04-05 16:45:49  \n",
       "16  2016-03-27 00:00:00                   0        68309  2016-04-07 06:44:26  \n",
       "17  2016-03-23 00:00:00                   0        49716  2016-03-31 01:16:33  \n",
       "18  2016-03-12 00:00:00                   0         9526  2016-03-21 01:46:11  \n",
       "19  2016-03-13 00:00:00                   0        35390  2016-03-13 20:40:49  "
      ]
     },
     "execution_count": 52,
     "metadata": {},
     "output_type": "execute_result"
    }
   ],
   "source": [
    "df.head(20)"
   ]
  },
  {
   "cell_type": "code",
   "execution_count": 53,
   "id": "e13ad12c",
   "metadata": {},
   "outputs": [
    {
     "data": {
      "text/plain": [
       "0"
      ]
     },
     "execution_count": 53,
     "metadata": {},
     "output_type": "execute_result"
    }
   ],
   "source": [
    "len(df[df['price'] == 0])"
   ]
  },
  {
   "cell_type": "code",
   "execution_count": 54,
   "id": "1a6d72a7",
   "metadata": {},
   "outputs": [
    {
     "data": {
      "image/png": "[encoded data removed]",
      "text/plain": [
       "<Figure size 432x288 with 1 Axes>"
      ]
     },
     "metadata": {
      "needs_background": "light"
     },
     "output_type": "display_data"
    }
   ],
   "source": [
    "#гистограмма зависимости л.с. на цену\n",
    "df.plot(y='price',x='power',kind='hist',\n",
    "               bins= 100,\n",
    "               alpha = 0.5,\n",
    "               legend = True\n",
    "              )\n",
    "plt.ylabel('Price')\n",
    "plt.xlabel('Power')\n",
    "plt.ylim(0,20000);"
   ]
  },
  {
   "cell_type": "code",
   "execution_count": 55,
   "id": "a91fc05b",
   "metadata": {},
   "outputs": [
    {
     "data": {
      "image/png": "[encoded data removed]",
      "text/plain": [
       "<Figure size 864x504 with 1 Axes>"
      ]
     },
     "metadata": {
      "needs_background": "light"
     },
     "output_type": "display_data"
    }
   ],
   "source": [
    "df.boxplot('price', figsize=(12,7))\n",
    "plt.ylim(0,21000);"
   ]
  },
  {
   "cell_type": "code",
   "execution_count": 56,
   "id": "d708bc0b",
   "metadata": {},
   "outputs": [
    {
     "data": {
      "image/png": "[encoded data removed]",
      "text/plain": [
       "<Figure size 864x504 with 1 Axes>"
      ]
     },
     "metadata": {
      "needs_background": "light"
     },
     "output_type": "display_data"
    }
   ],
   "source": [
    "df.boxplot('power', figsize=(12,7))\n",
    "plt.ylim(0,21000);"
   ]
  },
  {
   "cell_type": "code",
   "execution_count": 57,
   "id": "5980837f",
   "metadata": {},
   "outputs": [
    {
     "data": {
      "image/png": "[encoded data removed]",
      "text/plain": [
       "<Figure size 864x504 with 1 Axes>"
      ]
     },
     "metadata": {
      "needs_background": "light"
     },
     "output_type": "display_data"
    }
   ],
   "source": [
    "df.boxplot('power', figsize=(12,7))\n",
    "plt.ylim(0,1000);"
   ]
  },
  {
   "cell_type": "markdown",
   "id": "04090f23",
   "metadata": {},
   "source": [
    "Наиболее распространено от 100 до 150 л.с."
   ]
  },
  {
   "cell_type": "markdown",
   "id": "1c5f6f9c",
   "metadata": {},
   "source": [
    "#### Самая дорогая машина по графическому анализу"
   ]
  },
  {
   "cell_type": "markdown",
   "id": "e9343e30",
   "metadata": {},
   "source": [
    "Для примера изобразим портрет самой дорогой машины. Отталкиваемся в большинстве случаев от \"ящика с усами\", т.к. он показывает зависимость определенного типа на цену машины. Выбираем тот тип, где интерквальный размах показывает наибольший промежуток цен:\n",
    "* Тип кузова - 'sev'\n",
    "* Тип коробки передач - 'auto'\n",
    "* Модель - '3er'\n",
    "* Год регистрации - 2022\n",
    "* Ремонта не было\n",
    "* Л.с. - 1000."
   ]
  },
  {
   "cell_type": "markdown",
   "id": "ef690b5d",
   "metadata": {},
   "source": [
    "<div class=\"alert alert-success\">\n",
    "<h2> Комментарий ревьюера <a class=\"tocSkip\"> </h2>\n",
    "\n",
    "<b>Все отлично!👍:</b> \n",
    "    \n",
    "Здорово, что делашь такой подробный визуальный анализ! очень информативно."
   ]
  },
  {
   "cell_type": "markdown",
   "id": "e8621361",
   "metadata": {},
   "source": [
    "<div class=\"alert alert-warning\">\n",
    "    <h2> Комментарий ревьюера <a class=\"tocSkip\"> </h2>\n",
    "    \n",
    "<b>Некоторые замечания и рекомендации💡:</b> \n",
    "        \n",
    "Можно также заметить, что в переменной kilometer есть только определенные значения, то есть можно считать переменную категориальной.\n",
    "        \n",
    "Также в типе топлива FuelType можно увидеть gasoline и petrol - это один и тот же тип бензинового двигателя, но в разных странах называется по-разному.\n",
    "        \n",
    "Также можно оценить корреляцию между признаками."
   ]
  },
  {
   "cell_type": "markdown",
   "id": "30225e84",
   "metadata": {},
   "source": [
    "<div class=\"alert alert-block alert-danger\">\n",
    "<h2> Комментарий ревьюера <a class=\"tocSkip\"></h2>\n",
    "\n",
    "    \n",
    "<b>На доработку🤔:</b>\n",
    "    \n",
    "    \n",
    "Кроме того стоит обработать аномальные значения в целевом признаке и в признаке Power."
   ]
  },
  {
   "cell_type": "markdown",
   "id": "71caede9",
   "metadata": {},
   "source": [
    "<div class=\"alert alert-block alert-info\">\n",
    "<b>Комментарий студента:</b> сверху добавил ящики с усами в этих колонках и дал пояснения, этого достаточно? Или нужно поставить ограничение на значения(отбросить выбросы) и посмотреть на новый график(ящика с усами)?\n",
    "</div>"
   ]
  },
  {
   "cell_type": "markdown",
   "id": "310d4d6e",
   "metadata": {},
   "source": [
    "<div class=\"alert alert-block alert-danger\">\n",
    "<h2> Комментарий ревьюера №2<a class=\"tocSkip\"></h2>\n",
    "\n",
    "    \n",
    "<b>На доработку🤔:</b>\n",
    "\n",
    "Да, стоит отбросить выбросы. \n",
    "  \n",
    "Потому что выбросы в цене, особенно нулевые, напрямую повлияют на ответ, который увидит новый пользователь для своей машины."
   ]
  },
  {
   "cell_type": "markdown",
   "id": "b4a08071",
   "metadata": {},
   "source": [
    "<div class=\"alert alert-block alert-info\">\n",
    "<b>Комментарий студента[2]:</b> 45 строка кода. Вроде исправил\n",
    "</div>"
   ]
  },
  {
   "cell_type": "markdown",
   "id": "5ab013fa",
   "metadata": {},
   "source": [
    "#### Влияние отсутствия определенной информации о машине"
   ]
  },
  {
   "cell_type": "markdown",
   "id": "46e1b96a",
   "metadata": {},
   "source": [
    "На всех \"ящиках с усами\" можно заметить, что отсутствие информации понижает стоимость машины. Наша логика имеет место быть."
   ]
  },
  {
   "cell_type": "markdown",
   "id": "2f734c42",
   "metadata": {},
   "source": [
    "## Подготовка выборок"
   ]
  },
  {
   "cell_type": "code",
   "execution_count": 58,
   "id": "c1435801",
   "metadata": {},
   "outputs": [],
   "source": [
    "# извлекём признаки, удалим неинформативные признаки\n",
    "delete = ['price','date_crawled','date_created','last_seen','postal_code','number_of_pictures']\n",
    "features = df.drop(delete, axis=1)\n",
    "# извлекём целевой признак\n",
    "target = df['price']\n",
    "# отделим 40% данных для валидационной и тестовой выборки в совокупности, остальные 60% - это обучающая выборка \n",
    "features_train, features_valid_test, target_train, target_valid_test = \\\n",
    "train_test_split(features,target,test_size=0.4,random_state=12345)\n",
    "# отделим теперь  50% для тестовой выборки и 50 % для валидационной выборки из валидационной и тестовой выборки в совокупности\n",
    "features_valid, features_test, target_valid, target_test =\\\n",
    "train_test_split(features_valid_test,target_valid_test,test_size=0.5,random_state=12345)"
   ]
  },
  {
   "cell_type": "markdown",
   "id": "5ea8a0b8",
   "metadata": {},
   "source": [
    "<div class=\"alert alert-success\">\n",
    "<h2> Комментарий ревьюера <a class=\"tocSkip\"> </h2>\n",
    "\n",
    "<b>Все отлично!👍:</b> \n",
    "    \n",
    "Отлично, что удаляешь неинформативные для модели признаки.\n",
    "    \n",
    "Деление на выборки также корректное."
   ]
  },
  {
   "cell_type": "markdown",
   "id": "7dd7338d",
   "metadata": {},
   "source": [
    "### Масштабирование признаков"
   ]
  },
  {
   "cell_type": "code",
   "execution_count": 59,
   "id": "5f7b9532",
   "metadata": {},
   "outputs": [
    {
     "name": "stderr",
     "output_type": "stream",
     "text": [
      "<ipython-input-59-458dcf50fe2a>:6: SettingWithCopyWarning: \n",
      "A value is trying to be set on a copy of a slice from a DataFrame.\n",
      "Try using .loc[row_indexer,col_indexer] = value instead\n",
      "\n",
      "See the caveats in the documentation: https://pandas.pydata.org/pandas-docs/stable/user_guide/indexing.html#returning-a-view-versus-a-copy\n",
      "  features_train[numeric] = scaler.transform(features_train[numeric])\n",
      "C:\\Users\\ASUS\\anaconda3\\lib\\site-packages\\pandas\\core\\indexing.py:1738: SettingWithCopyWarning: \n",
      "A value is trying to be set on a copy of a slice from a DataFrame.\n",
      "Try using .loc[row_indexer,col_indexer] = value instead\n",
      "\n",
      "See the caveats in the documentation: https://pandas.pydata.org/pandas-docs/stable/user_guide/indexing.html#returning-a-view-versus-a-copy\n",
      "  self._setitem_single_column(loc, value[:, i].tolist(), pi)\n",
      "<ipython-input-59-458dcf50fe2a>:7: SettingWithCopyWarning: \n",
      "A value is trying to be set on a copy of a slice from a DataFrame.\n",
      "Try using .loc[row_indexer,col_indexer] = value instead\n",
      "\n",
      "See the caveats in the documentation: https://pandas.pydata.org/pandas-docs/stable/user_guide/indexing.html#returning-a-view-versus-a-copy\n",
      "  features_valid[numeric] = scaler.transform(features_valid[numeric])\n",
      "C:\\Users\\ASUS\\anaconda3\\lib\\site-packages\\pandas\\core\\indexing.py:1738: SettingWithCopyWarning: \n",
      "A value is trying to be set on a copy of a slice from a DataFrame.\n",
      "Try using .loc[row_indexer,col_indexer] = value instead\n",
      "\n",
      "See the caveats in the documentation: https://pandas.pydata.org/pandas-docs/stable/user_guide/indexing.html#returning-a-view-versus-a-copy\n",
      "  self._setitem_single_column(loc, value[:, i].tolist(), pi)\n"
     ]
    }
   ],
   "source": [
    "numeric = ['registration_year','power','kilometer']\n",
    "\n",
    "scaler = StandardScaler()\n",
    "scaler.fit(features_train[numeric])\n",
    "\n",
    "features_train[numeric] = scaler.transform(features_train[numeric])\n",
    "features_valid[numeric] = scaler.transform(features_valid[numeric])"
   ]
  },
  {
   "cell_type": "code",
   "execution_count": 60,
   "id": "c8c05844",
   "metadata": {},
   "outputs": [
    {
     "name": "stderr",
     "output_type": "stream",
     "text": [
      "<ipython-input-60-790ff2e27acd>:1: SettingWithCopyWarning: \n",
      "A value is trying to be set on a copy of a slice from a DataFrame.\n",
      "Try using .loc[row_indexer,col_indexer] = value instead\n",
      "\n",
      "See the caveats in the documentation: https://pandas.pydata.org/pandas-docs/stable/user_guide/indexing.html#returning-a-view-versus-a-copy\n",
      "  features_test[numeric] = scaler.transform(features_test[numeric])\n",
      "C:\\Users\\ASUS\\anaconda3\\lib\\site-packages\\pandas\\core\\indexing.py:1738: SettingWithCopyWarning: \n",
      "A value is trying to be set on a copy of a slice from a DataFrame.\n",
      "Try using .loc[row_indexer,col_indexer] = value instead\n",
      "\n",
      "See the caveats in the documentation: https://pandas.pydata.org/pandas-docs/stable/user_guide/indexing.html#returning-a-view-versus-a-copy\n",
      "  self._setitem_single_column(loc, value[:, i].tolist(), pi)\n"
     ]
    }
   ],
   "source": [
    "features_test[numeric] = scaler.transform(features_test[numeric])"
   ]
  },
  {
   "cell_type": "markdown",
   "id": "438d565d",
   "metadata": {},
   "source": [
    "<div class=\"alert alert-success\">\n",
    "<h2> Комментарий ревьюера <a class=\"tocSkip\"> </h2>\n",
    "\n",
    "<b>Все отлично!👍:</b> \n",
    "    \n",
    "Отлично!"
   ]
  },
  {
   "cell_type": "code",
   "execution_count": 61,
   "id": "b50a0159",
   "metadata": {},
   "outputs": [
    {
     "data": {
      "text/html": [
       "<div>\n",
       "<style scoped>\n",
       "    .dataframe tbody tr th:only-of-type {\n",
       "        vertical-align: middle;\n",
       "    }\n",
       "\n",
       "    .dataframe tbody tr th {\n",
       "        vertical-align: top;\n",
       "    }\n",
       "\n",
       "    .dataframe thead th {\n",
       "        text-align: right;\n",
       "    }\n",
       "</style>\n",
       "<table border=\"1\" class=\"dataframe\">\n",
       "  <thead>\n",
       "    <tr style=\"text-align: right;\">\n",
       "      <th></th>\n",
       "      <th>vehicle_type</th>\n",
       "      <th>registration_year</th>\n",
       "      <th>gearbox</th>\n",
       "      <th>power</th>\n",
       "      <th>model</th>\n",
       "      <th>kilometer</th>\n",
       "      <th>registration_month</th>\n",
       "      <th>fuel_type</th>\n",
       "      <th>brand</th>\n",
       "      <th>repaired</th>\n",
       "    </tr>\n",
       "  </thead>\n",
       "  <tbody>\n",
       "    <tr>\n",
       "      <th>56219</th>\n",
       "      <td>small</td>\n",
       "      <td>0.989467</td>\n",
       "      <td>manual</td>\n",
       "      <td>-0.038297</td>\n",
       "      <td>astra</td>\n",
       "      <td>-0.123138</td>\n",
       "      <td>12</td>\n",
       "      <td>petrol</td>\n",
       "      <td>opel</td>\n",
       "      <td>no</td>\n",
       "    </tr>\n",
       "    <tr>\n",
       "      <th>243035</th>\n",
       "      <td>sedan</td>\n",
       "      <td>-1.044745</td>\n",
       "      <td>manual</td>\n",
       "      <td>0.019623</td>\n",
       "      <td>a4</td>\n",
       "      <td>0.573205</td>\n",
       "      <td>0</td>\n",
       "      <td>Нет</td>\n",
       "      <td>audi</td>\n",
       "      <td>yes</td>\n",
       "    </tr>\n",
       "    <tr>\n",
       "      <th>147711</th>\n",
       "      <td>small</td>\n",
       "      <td>-0.105878</td>\n",
       "      <td>manual</td>\n",
       "      <td>-0.154138</td>\n",
       "      <td>3_reihe</td>\n",
       "      <td>0.573205</td>\n",
       "      <td>1</td>\n",
       "      <td>petrol</td>\n",
       "      <td>mazda</td>\n",
       "      <td>no</td>\n",
       "    </tr>\n",
       "    <tr>\n",
       "      <th>78315</th>\n",
       "      <td>bus</td>\n",
       "      <td>-0.262356</td>\n",
       "      <td>manual</td>\n",
       "      <td>0.161207</td>\n",
       "      <td>zafira</td>\n",
       "      <td>0.573205</td>\n",
       "      <td>4</td>\n",
       "      <td>cng</td>\n",
       "      <td>opel</td>\n",
       "      <td>no</td>\n",
       "    </tr>\n",
       "    <tr>\n",
       "      <th>203699</th>\n",
       "      <td>wagon</td>\n",
       "      <td>-0.731790</td>\n",
       "      <td>manual</td>\n",
       "      <td>0.180514</td>\n",
       "      <td>5er</td>\n",
       "      <td>0.573205</td>\n",
       "      <td>12</td>\n",
       "      <td>petrol</td>\n",
       "      <td>bmw</td>\n",
       "      <td>yes</td>\n",
       "    </tr>\n",
       "  </tbody>\n",
       "</table>\n",
       "</div>"
      ],
      "text/plain": [
       "       vehicle_type  registration_year gearbox     power    model  kilometer  \\\n",
       "56219         small           0.989467  manual -0.038297    astra  -0.123138   \n",
       "243035        sedan          -1.044745  manual  0.019623       a4   0.573205   \n",
       "147711        small          -0.105878  manual -0.154138  3_reihe   0.573205   \n",
       "78315           bus          -0.262356  manual  0.161207   zafira   0.573205   \n",
       "203699        wagon          -0.731790  manual  0.180514      5er   0.573205   \n",
       "\n",
       "        registration_month fuel_type  brand repaired  \n",
       "56219                   12    petrol   opel       no  \n",
       "243035                   0       Нет   audi      yes  \n",
       "147711                   1    petrol  mazda       no  \n",
       "78315                    4       cng   opel       no  \n",
       "203699                  12    petrol    bmw      yes  "
      ]
     },
     "execution_count": 61,
     "metadata": {},
     "output_type": "execute_result"
    }
   ],
   "source": [
    "features_train.head()"
   ]
  },
  {
   "cell_type": "markdown",
   "id": "0034a14d",
   "metadata": {},
   "source": [
    "### Прямое кодирование"
   ]
  },
  {
   "cell_type": "markdown",
   "id": "4f755bcd",
   "metadata": {},
   "source": [
    "<div class=\"alert alert-block alert-danger\">\n",
    "<h2> Комментарий ревьюера <a class=\"tocSkip\"></h2>\n",
    "\n",
    "    \n",
    "<b>На доработку🤔:</b>\n",
    "    \n",
    "Здесь почему-то дублирование деления на выборки и получается, что не сохраняется масштабирование."
   ]
  },
  {
   "cell_type": "markdown",
   "id": "df0d1172",
   "metadata": {},
   "source": [
    "<div class=\"alert alert-block alert-info\">\n",
    "<b>Комментарий студента:</b> убрал дублирование\n",
    "</div>"
   ]
  },
  {
   "cell_type": "markdown",
   "id": "4b6dad12",
   "metadata": {},
   "source": [
    "<div class=\"alert alert-success\">\n",
    "<h2> Комментарий ревьюера №2<a class=\"tocSkip\"> </h2>\n",
    "\n",
    "<b>Все отлично!👍</b> \n",
    "    "
   ]
  },
  {
   "cell_type": "markdown",
   "id": "83921d21",
   "metadata": {},
   "source": [
    "## Обучение моделей"
   ]
  },
  {
   "cell_type": "markdown",
   "id": "725676e2",
   "metadata": {},
   "source": [
    "### CatBoostRegressor"
   ]
  },
  {
   "cell_type": "code",
   "execution_count": 62,
   "id": "a0612435",
   "metadata": {},
   "outputs": [
    {
     "name": "stdout",
     "output_type": "stream",
     "text": [
      "Wall time: 3min 49s\n"
     ]
    },
    {
     "data": {
      "text/plain": [
       "<catboost.core.CatBoostRegressor at 0x1cd24997d00>"
      ]
     },
     "execution_count": 62,
     "metadata": {},
     "output_type": "execute_result"
    }
   ],
   "source": [
    "%%time\n",
    "cat_features = ['vehicle_type', 'gearbox', 'model', \n",
    "                'fuel_type', 'brand', 'repaired']\n",
    " \n",
    "catboost = CatBoostRegressor(random_state=12345, cat_features=cat_features)\n",
    " \n",
    "catboost.fit(features_train, target_train, verbose=False)"
   ]
  },
  {
   "cell_type": "markdown",
   "id": "5288abd3",
   "metadata": {},
   "source": [
    "<div class=\"alert alert-success\">\n",
    "<h2> Комментарий ревьюера <a class=\"tocSkip\"> </h2>\n",
    "\n",
    "<b>Все отлично!👍:</b> \n",
    "   \n",
    "Молодец, что используешь внутренний кодер для CatBoost. И здорово, что измеряешь время обучения для fit и для predict  в отдельности."
   ]
  },
  {
   "cell_type": "code",
   "execution_count": 63,
   "id": "726b6b52",
   "metadata": {},
   "outputs": [
    {
     "name": "stdout",
     "output_type": "stream",
     "text": [
      "31.2473678721699\n",
      "0.86482\n",
      "Wall time: 481 ms\n"
     ]
    }
   ],
   "source": [
    "%%time\n",
    "predicted = catboost.predict(features_valid)\n",
    "mse = mean_absolute_error(target_valid,predicted)\n",
    "print(mse ** 0.5)\n",
    "print(r2_score(target_valid, predicted).round(5))"
   ]
  },
  {
   "cell_type": "code",
   "execution_count": 64,
   "id": "6c47304b",
   "metadata": {},
   "outputs": [
    {
     "name": "stdout",
     "output_type": "stream",
     "text": [
      "при глубине 1\n",
      "37.314459907544524\n",
      "0.76872\n",
      "при глубине 2\n",
      "33.10164635248716\n",
      "0.83359\n",
      "при глубине 3\n",
      "32.36163211474197\n",
      "0.84723\n",
      "при глубине 4\n",
      "31.850812986650595\n",
      "0.85574\n",
      "при глубине 5\n",
      "31.49055161247242\n",
      "0.86143\n",
      "при глубине 6\n",
      "31.2473678721699\n",
      "0.86482\n",
      "при глубине 7\n",
      "30.97895289579063\n",
      "0.86904\n",
      "при глубине 8\n",
      "30.807063734626514\n",
      "0.87154\n",
      "при глубине 9\n",
      "30.658892098965186\n",
      "0.87349\n",
      "при глубине 10\n",
      "30.511764322018617\n",
      "0.87513\n"
     ]
    }
   ],
   "source": [
    "#подбор гиперпараметров\n",
    "for i in range(1,11):\n",
    "    catboost = CatBoostRegressor(random_state=12345, cat_features=cat_features,max_depth=i)\n",
    " \n",
    "    catboost.fit(features_train, target_train, verbose=False)\n",
    "    predicted = catboost.predict(features_valid)\n",
    "    mse = mean_absolute_error(target_valid,predicted)\n",
    "    print('при глубине', i)\n",
    "    print(mse ** 0.5)\n",
    "    print(r2_score(target_valid, predicted).round(5))"
   ]
  },
  {
   "cell_type": "markdown",
   "id": "e3cfcbba",
   "metadata": {},
   "source": [
    "### Дерево решений"
   ]
  },
  {
   "cell_type": "code",
   "execution_count": null,
   "id": "ba75463f",
   "metadata": {},
   "outputs": [],
   "source": []
  },
  {
   "cell_type": "code",
   "execution_count": 65,
   "id": "a72ff711",
   "metadata": {},
   "outputs": [
    {
     "data": {
      "text/html": [
       "<div>\n",
       "<style scoped>\n",
       "    .dataframe tbody tr th:only-of-type {\n",
       "        vertical-align: middle;\n",
       "    }\n",
       "\n",
       "    .dataframe tbody tr th {\n",
       "        vertical-align: top;\n",
       "    }\n",
       "\n",
       "    .dataframe thead th {\n",
       "        text-align: right;\n",
       "    }\n",
       "</style>\n",
       "<table border=\"1\" class=\"dataframe\">\n",
       "  <thead>\n",
       "    <tr style=\"text-align: right;\">\n",
       "      <th></th>\n",
       "      <th>vehicle_type</th>\n",
       "      <th>registration_year</th>\n",
       "      <th>gearbox</th>\n",
       "      <th>power</th>\n",
       "      <th>model</th>\n",
       "      <th>kilometer</th>\n",
       "      <th>registration_month</th>\n",
       "      <th>fuel_type</th>\n",
       "      <th>brand</th>\n",
       "      <th>repaired</th>\n",
       "    </tr>\n",
       "  </thead>\n",
       "  <tbody>\n",
       "    <tr>\n",
       "      <th>261694</th>\n",
       "      <td>sedan</td>\n",
       "      <td>-0.888267</td>\n",
       "      <td>manual</td>\n",
       "      <td>-0.134832</td>\n",
       "      <td>passat</td>\n",
       "      <td>0.573205</td>\n",
       "      <td>4</td>\n",
       "      <td>petrol</td>\n",
       "      <td>volkswagen</td>\n",
       "      <td>yes</td>\n",
       "    </tr>\n",
       "    <tr>\n",
       "      <th>34709</th>\n",
       "      <td>wagon</td>\n",
       "      <td>-0.731790</td>\n",
       "      <td>manual</td>\n",
       "      <td>-0.102654</td>\n",
       "      <td>nubira</td>\n",
       "      <td>-0.123138</td>\n",
       "      <td>10</td>\n",
       "      <td>petrol</td>\n",
       "      <td>daewoo</td>\n",
       "      <td>no</td>\n",
       "    </tr>\n",
       "    <tr>\n",
       "      <th>151311</th>\n",
       "      <td>bus</td>\n",
       "      <td>-0.262356</td>\n",
       "      <td>manual</td>\n",
       "      <td>-0.134832</td>\n",
       "      <td>zafira</td>\n",
       "      <td>0.573205</td>\n",
       "      <td>1</td>\n",
       "      <td>petrol</td>\n",
       "      <td>opel</td>\n",
       "      <td>no</td>\n",
       "    </tr>\n",
       "    <tr>\n",
       "      <th>266232</th>\n",
       "      <td>small</td>\n",
       "      <td>-0.575312</td>\n",
       "      <td>manual</td>\n",
       "      <td>-0.398692</td>\n",
       "      <td>polo</td>\n",
       "      <td>0.573205</td>\n",
       "      <td>9</td>\n",
       "      <td>petrol</td>\n",
       "      <td>volkswagen</td>\n",
       "      <td>no</td>\n",
       "    </tr>\n",
       "    <tr>\n",
       "      <th>22460</th>\n",
       "      <td>convertible</td>\n",
       "      <td>0.832989</td>\n",
       "      <td>auto</td>\n",
       "      <td>0.264177</td>\n",
       "      <td>slk</td>\n",
       "      <td>-1.376556</td>\n",
       "      <td>1</td>\n",
       "      <td>petrol</td>\n",
       "      <td>mercedes_benz</td>\n",
       "      <td>no</td>\n",
       "    </tr>\n",
       "    <tr>\n",
       "      <th>...</th>\n",
       "      <td>...</td>\n",
       "      <td>...</td>\n",
       "      <td>...</td>\n",
       "      <td>...</td>\n",
       "      <td>...</td>\n",
       "      <td>...</td>\n",
       "      <td>...</td>\n",
       "      <td>...</td>\n",
       "      <td>...</td>\n",
       "      <td>...</td>\n",
       "    </tr>\n",
       "    <tr>\n",
       "      <th>166569</th>\n",
       "      <td>sedan</td>\n",
       "      <td>0.363555</td>\n",
       "      <td>manual</td>\n",
       "      <td>-0.302158</td>\n",
       "      <td>polo</td>\n",
       "      <td>0.573205</td>\n",
       "      <td>1</td>\n",
       "      <td>petrol</td>\n",
       "      <td>volkswagen</td>\n",
       "      <td>no</td>\n",
       "    </tr>\n",
       "    <tr>\n",
       "      <th>3753</th>\n",
       "      <td>small</td>\n",
       "      <td>-2.766002</td>\n",
       "      <td>manual</td>\n",
       "      <td>-0.533840</td>\n",
       "      <td>polo</td>\n",
       "      <td>-2.490705</td>\n",
       "      <td>7</td>\n",
       "      <td>petrol</td>\n",
       "      <td>volkswagen</td>\n",
       "      <td>no</td>\n",
       "    </tr>\n",
       "    <tr>\n",
       "      <th>131610</th>\n",
       "      <td>sedan</td>\n",
       "      <td>-0.731790</td>\n",
       "      <td>manual</td>\n",
       "      <td>-0.302158</td>\n",
       "      <td>golf</td>\n",
       "      <td>0.573205</td>\n",
       "      <td>5</td>\n",
       "      <td>petrol</td>\n",
       "      <td>volkswagen</td>\n",
       "      <td>no</td>\n",
       "    </tr>\n",
       "    <tr>\n",
       "      <th>76121</th>\n",
       "      <td>small</td>\n",
       "      <td>-0.575312</td>\n",
       "      <td>manual</td>\n",
       "      <td>-0.495226</td>\n",
       "      <td>twingo</td>\n",
       "      <td>0.573205</td>\n",
       "      <td>4</td>\n",
       "      <td>petrol</td>\n",
       "      <td>renault</td>\n",
       "      <td>no</td>\n",
       "    </tr>\n",
       "    <tr>\n",
       "      <th>251179</th>\n",
       "      <td>small</td>\n",
       "      <td>1.458900</td>\n",
       "      <td>manual</td>\n",
       "      <td>-0.231366</td>\n",
       "      <td>rio</td>\n",
       "      <td>-1.933630</td>\n",
       "      <td>7</td>\n",
       "      <td>petrol</td>\n",
       "      <td>kia</td>\n",
       "      <td>no</td>\n",
       "    </tr>\n",
       "  </tbody>\n",
       "</table>\n",
       "<p>60074 rows × 10 columns</p>\n",
       "</div>"
      ],
      "text/plain": [
       "       vehicle_type  registration_year gearbox     power   model  kilometer  \\\n",
       "261694        sedan          -0.888267  manual -0.134832  passat   0.573205   \n",
       "34709         wagon          -0.731790  manual -0.102654  nubira  -0.123138   \n",
       "151311          bus          -0.262356  manual -0.134832  zafira   0.573205   \n",
       "266232        small          -0.575312  manual -0.398692    polo   0.573205   \n",
       "22460   convertible           0.832989    auto  0.264177     slk  -1.376556   \n",
       "...             ...                ...     ...       ...     ...        ...   \n",
       "166569        sedan           0.363555  manual -0.302158    polo   0.573205   \n",
       "3753          small          -2.766002  manual -0.533840    polo  -2.490705   \n",
       "131610        sedan          -0.731790  manual -0.302158    golf   0.573205   \n",
       "76121         small          -0.575312  manual -0.495226  twingo   0.573205   \n",
       "251179        small           1.458900  manual -0.231366     rio  -1.933630   \n",
       "\n",
       "        registration_month fuel_type          brand repaired  \n",
       "261694                   4    petrol     volkswagen      yes  \n",
       "34709                   10    petrol         daewoo       no  \n",
       "151311                   1    petrol           opel       no  \n",
       "266232                   9    petrol     volkswagen       no  \n",
       "22460                    1    petrol  mercedes_benz       no  \n",
       "...                    ...       ...            ...      ...  \n",
       "166569                   1    petrol     volkswagen       no  \n",
       "3753                     7    petrol     volkswagen       no  \n",
       "131610                   5    petrol     volkswagen       no  \n",
       "76121                    4    petrol        renault       no  \n",
       "251179                   7    petrol            kia       no  \n",
       "\n",
       "[60074 rows x 10 columns]"
      ]
     },
     "execution_count": 65,
     "metadata": {},
     "output_type": "execute_result"
    }
   ],
   "source": [
    "features_test"
   ]
  },
  {
   "cell_type": "code",
   "execution_count": 66,
   "id": "ca915746",
   "metadata": {},
   "outputs": [],
   "source": [
    "#категориальные признаки\n",
    "category = ['vehicle_type','gearbox','model','fuel_type','brand','repaired']\n",
    "#порядковое кодирование\n",
    "encoder = OrdinalEncoder(handle_unknown = 'игнорировать')\n",
    "target_train_enc=target_train.copy()\n",
    "target_valid_enc=target_valid.copy()\n",
    "target_test_enc=target_test.copy()\n",
    "features_train_enc=features_train.copy()\n",
    "features_valid_enc=features_valid.copy()\n",
    "features_test_enc=features_test.copy()\n",
    "encoder.fit(features_train_enc[category])\n",
    "features_train_enc[category] = encoder.transform(features_train_enc[category])\n",
    "features_valid_enc[category] = encoder.transform(features_valid_enc[category])\n",
    "features_test_enc[category] = encoder.transform(features_test_enc[category])"
   ]
  },
  {
   "cell_type": "markdown",
   "id": "74232c17",
   "metadata": {},
   "source": [
    "<div class=\"alert alert-block alert-danger\">\n",
    "<h2> Комментарий ревьюера <a class=\"tocSkip\"></h2>\n",
    "\n",
    "    \n",
    "<b>На доработку🤔:</b>\n",
    "    \n",
    "    \n",
    "Андрей, здесь обрати, пожалуйста, внимание, появляется ошибка. Ты сначала кодируешь, потом разделяешь на выборки.\n",
    "    \n",
    "Здорово, что ты используешь разные методы кодирования, но стоит и этот момент исправить.\n",
    "\n",
    "По поводу разных способов кодирования:\n",
    "    \n",
    "    \n",
    "В теории тренажера в данный момент предлагается использовать get_dummies, однако, это впоследствии приводит к сложностям в будущих спринтах, поэтому стоит использовать класс <a href=\"https://scikit-learn.org/stable/modules/generated/sklearn.preprocessing.OneHotEncoder.html\">OHE из sklearn</a>. По аналогии с масштабированием просим делать fit только на трейне, а transform на всех выборках.\n",
    "<hr>\n",
    "get_dummies подходит для анализа данных, а для машинного обучения более предпочтителен OHE, т.к. он позоволяет избежать ряд ошибок при обучении моделей, в том числе может работать с неизвестными ранее уровнями категорий, которых не было изначально (например, если появится еще один бренд автомобиля).\n",
    "    \n",
    "То есть резюмируя:\n",
    "    \n",
    "1. делим на выборки\n",
    "    \n",
    "2. делаем fit_transform на терйне для OHEEncoder или Ordinal Encoder и transform для теста\n",
    "    \n",
    "если все же выберешь get_dummies, то все равно отдельно:\n",
    "    \n",
    "1. Сначала делим на выборки\n",
    "    \n",
    "2. трансформируешь трейн\n",
    "    \n",
    "3. трансформируешь тест\n",
    "\n",
    "4. сравниваешь получились ли одинаковые признаки и там, и там\n",
    "    \n",
    "5. если нет, то добавляешь недостающие признаки в тест и валидацию и заполняешь нулями и убираешь лишние признаки из теста и валидации\n",
    "    \n",
    "Успехов!"
   ]
  },
  {
   "cell_type": "markdown",
   "id": "615bcff4",
   "metadata": {},
   "source": [
    "<div class=\"alert alert-block alert-info\">\n",
    "<b>Комментарий студента:</b> Не очень понимаю. Всегда же так делали, что в новой таблице кодировали, а потом по этой таблице разделяли на выборки. Порядковое кодирование специально использую для дерева решений. Скинул скрин ниже, по аналогии которого и делаю. Помоги, пожалуйста\n",
    "</div>"
   ]
  },
  {
   "cell_type": "markdown",
   "id": "086ae9a0",
   "metadata": {},
   "source": [
    "<div class=\"alert alert-block alert-danger\">\n",
    "<h2> Комментарий ревьюера №2<a class=\"tocSkip\"></h2>\n",
    "\n",
    "    \n",
    "<b>На доработку🤔:</b>\n",
    "  \n",
    "Андрей, да, про тренажер знаем, возможно, скоро откорректируют подачу материла. Пока доносим, как надо, силами ревьюеров.\n",
    "    \n",
    "Выбор порядкового кодирования для моделей на основе деревьев решений не подвергаю сомнению, только порядок кодирования.\n",
    "    \n",
    "Смотри, когда мы кодируем до разделения на выборки, например, с помощью ordinal encoder, то происходит утечка данных из валидационной и тестовой (или только из тестовой, в зависимости от того, сколько выборок) в тренировочную часть. Кодер таким образом имеет представление о всех категориях и работает соответственно. То есть если придут новые данные от клиентов, которых не было в изначальных данных, например, новый бренд автомобиля и модель, то кодер не справится. Нам стоит уметь отрабатывать и это сценарий и без дообучения. В кодерах есть параметры отвечающие за этот сценарий.\n",
    "    \n",
    "Поэтому мы сначала делим на выборки. Потом уже все манипуляции.\n",
    "    \n",
    "Алгоритм работы с кодерами (Например, с OrdinalEncoder и OneHotEncoder) аналогичен StandardScaler, обучаем на трейне, трансформируем все выборки. Но только кодируем категорильные переменные, а масштабируем численные.\n",
    "    \n",
    "Ниже приведу пример кодирования с OneHotEncoder (аналогочно и с OrdinalEncoder), и с get_dummies:\n",
    "    \n",
    "##установим последнюю версию scikit-learn, если она не установлена\n",
    "##теперь для OneHotEncoder работает одновремеено drop='first' и handle_unknown='ignore'\n",
    "#!pip install scikit-learn==1.1.3\n",
    "    \n",
    "#эти фичи и таргет будем использовать для OneHotEncoder\n",
    "    \n",
    "features_train_ohe = features_train.copy()\n",
    "    \n",
    "features_test_ohe = features_test.copy()\n",
    "\n",
    "#эти для get_dummies\n",
    "    \n",
    "features_train_gd = features_train_ohe.copy()\n",
    "    \n",
    "features_test_gd = features_test_ohe.copy()\n",
    "    \n",
    "#drop='first' удаляет первый признак из закодированных, чтобы избежать мультиколлинеарности\n",
    "    \n",
    "#handle_unknown='ignore' игнорирует ранее не встречающиеся признаки\n",
    "    \n",
    "encoder_ohe = OneHotEncoder(drop='first', handle_unknown='ignore')\n",
    "\n",
    "#кодируем признаки в тренировочной выборке:\n",
    "    \n",
    "#энкодер обучается на тренировочной выборке и трансформируеи её, получаем датафрейм с закодированными категориальными \n",
    "признаками\n",
    "    \n",
    "#encoder_ohe.get_feature_names_out() позволяет получить названия колонок\n",
    "    \n",
    "features_cat_train = pd.DataFrame.sparse.from_spmatrix(\n",
    "    \n",
    "    encoder_ohe.fit_transform(features_train_ohe[cat_features]), \n",
    "    \n",
    "    columns=encoder_ohe.get_feature_names_out()\n",
    ")\n",
    "\n",
    "#добавляем закодированные признаки в features_train_ohe, приведённые к цельночисленному типу (OneHotEncoder вернул float)\n",
    "    \n",
    "features_train_ohe[encoder_ohe.get_feature_names_out()] = features_cat_train.astype('int')\n",
    "\n",
    "#удаляем категориальные признаки, которые остались незакодированными (изначальные колонки)\n",
    "    \n",
    "features_train_ohe = features_train_ohe.drop(cat_features, axis=1)\n",
    "\n",
    "#создаём скелер\n",
    "    \n",
    "scaler = StandardScaler()\n",
    "\n",
    "#обучаем его на численных признаках тренировочной выборки, трансформируем её же\n",
    "    \n",
    "features_train_ohe[num_features] = scaler.fit_transform(features_train_ohe[num_features])\n",
    "\n",
    "#обрабатываем тестовую выборку\n",
    "    \n",
    "#энкодером, который обучен на ТРЕНИРОВОЧНОЙ ВЫБОРКЕ, кодируем тестовую\n",
    "    \n",
    "features_cat_test = pd.DataFrame.sparse.from_spmatrix(\n",
    "    \n",
    "    encoder_ohe.transform(features_test_ohe[cat_features]), \n",
    "    \n",
    "    columns=encoder_ohe.get_feature_names_out()\n",
    ")\n",
    "\n",
    "features_test_oe[encoder_ohe.get_feature_names_out()] = features_cat_test.astype('int')\n",
    "\n",
    "features_test_ohe = features_test_ohe.drop(cat_features, axis=1)\n",
    "\n",
    "#скелером, который обучен на ТРЕНИРОВОЧНОЙ ВЫБОРКЕ, масштабируем тестовую\n",
    "    \n",
    "features_test_ohe[num_features] = scaler.transform(features_test_ohe[num_features])\n",
    "\n",
    "Теперь посмотрим, как работает get_dummies:\n",
    "    \n",
    "#закодировали тренировочную с get_dummies\n",
    "    \n",
    "features_train_gd = pd.get_dummies(features_train_gd, drop_first='true')\n",
    "\n",
    "#создаём скелер\n",
    "    \n",
    "scaler = StandardScaler()\n",
    "\n",
    "#обучаем его на численных признаках тренировочной выборки, трансформируем её же\n",
    "    \n",
    "features_train_gd[num_features] = scaler.fit_transform(features_train_gd[num_features])\n",
    "\n",
    "    \n",
    "#закодировали тестовую с get_dummies\n",
    "    \n",
    "features_test_gd = pd.get_dummies(features_test_gd, drop_first='true')\n",
    "\n",
    "#скелером, который обучен на ТРЕНИРОВОЧНОЙ ВЫБОРКЕ, масштабируем тестовую\n",
    "    \n",
    "features_test_gd[num_features] = scaler.transform(features_test_gd[num_features])\n",
    "\n",
    "#смотрим, что получилось НЕ ОДИНАКОВОЕ количество признаков\n",
    "    \n",
    "features_train_gd.shape, features_test_gd.shape\n",
    "    \n",
    "#проверяем, есть ли признаки, которые имеются только в тренировочной выборке и отсутствуют в тестовой\n",
    "    \n",
    "columns_not_in_test = set(features_train_gd.columns) - set(features_test_gd.columns)\n",
    "columns_not_in_test\n",
    "    \n",
    "#проверяем, есть ли признаки, которые имеются только в тренировочной выборке и отсутствуют в тестовой\n",
    "    \n",
    "columns_not_in_test = set(features_train_gd.columns) - set(features_test_gd.columns)\n",
    "    \n",
    "columns_not_in_test\n",
    "    \n",
    "#проверяем, есть ли признаки, которые имеются только в тестовой выборке и отсутствуют в тренировочной\n",
    "    \n",
    "columns_not_in_train = set(features_test_gd.columns) - set(features_train_gd.columns)\n",
    "    \n",
    "columns_not_in_train\n",
    "    \n",
    "Если получилось, что у нас есть признаки, которые есть только в тренировочной выборке, то нам необходимо добавить их в тестовую и заполнить значения 0. Если есть признаки, которые есть в тестовой, но отсутствуют в тренировочной, нужно было бы удалить их из тестовой."
   ]
  },
  {
   "attachments": {
    "image-2.png": {
     "image/png": "[encoded data removed]"
    },
    "image-3.png": {
     "image/png": "[encoded data removed]"
    }
   },
   "cell_type": "markdown",
   "id": "9f8615aa",
   "metadata": {},
   "source": [
    "![image-2.png](attachment:image-2.png)\n",
    "![image-3.png](attachment:image-3.png)"
   ]
  },
  {
   "cell_type": "markdown",
   "id": "706699ad",
   "metadata": {},
   "source": [
    "<div class=\"alert alert-block alert-info\">\n",
    "<b>Комментарий студента[2]:</b> сверху сделал, вроде уяснил. Спасибо за подробный комментарий!\n",
    "</div>"
   ]
  },
  {
   "cell_type": "markdown",
   "id": "c92c04f4",
   "metadata": {},
   "source": [
    "<div class=\"alert alert-success\">\n",
    "<h2> Комментарий ревьюера <a class=\"tocSkip\"> </h2>\n",
    "\n",
    "<b>Все отлично!👍:</b> \n",
    "   \n",
    "    \n",
    "Здорово, что используешь порядковое кодирование для модели на основе деревьев решений."
   ]
  },
  {
   "cell_type": "code",
   "execution_count": 67,
   "id": "0350b872",
   "metadata": {},
   "outputs": [
    {
     "name": "stdout",
     "output_type": "stream",
     "text": [
      "Wall time: 37.5 s\n"
     ]
    },
    {
     "data": {
      "text/plain": [
       "DecisionTreeClassifier(random_state=12345)"
      ]
     },
     "execution_count": 67,
     "metadata": {},
     "output_type": "execute_result"
    }
   ],
   "source": [
    "%%time\n",
    "model = DecisionTreeClassifier(random_state=12345)\n",
    "model.fit(features_train_enc, target_train_enc) "
   ]
  },
  {
   "cell_type": "code",
   "execution_count": 68,
   "id": "2625b932",
   "metadata": {},
   "outputs": [
    {
     "name": "stdout",
     "output_type": "stream",
     "text": [
      "35.2996032585647\n",
      "0.74097\n",
      "Wall time: 1.08 s\n"
     ]
    }
   ],
   "source": [
    "%%time\n",
    "predicted = model.predict(features_valid_enc)\n",
    "mse = mean_absolute_error(target_valid_enc,predicted)\n",
    "print(mse ** 0.5)\n",
    "print(r2_score(target_valid_enc, predicted).round(5))"
   ]
  },
  {
   "cell_type": "code",
   "execution_count": 69,
   "id": "6c120125",
   "metadata": {},
   "outputs": [
    {
     "name": "stdout",
     "output_type": "stream",
     "text": [
      "при глубине 10\n",
      "37.327692715637404\n",
      "0.70378\n",
      "при глубине 19\n",
      "36.548454043347505\n",
      "0.71273\n",
      "при глубине 28\n",
      "35.36615481806263\n",
      "0.73884\n",
      "при глубине 37\n",
      "35.24127997621946\n",
      "0.74309\n",
      "при глубине 46\n",
      "35.2996032585647\n",
      "0.74097\n"
     ]
    }
   ],
   "source": [
    "#подбор гиперпараметров\n",
    "for i in range(10,50,9):\n",
    "    model = DecisionTreeClassifier(random_state=12345,max_depth = i)\n",
    "    model.fit(features_train_enc, target_train_enc)\n",
    "    predicted = model.predict(features_valid_enc)\n",
    "    mse = mean_absolute_error(target_valid_enc,predicted)\n",
    "    print('при глубине', i)\n",
    "    print(mse ** 0.5)\n",
    "    print(r2_score(target_valid_enc, predicted).round(5))"
   ]
  },
  {
   "cell_type": "markdown",
   "id": "3d0d252f",
   "metadata": {},
   "source": [
    "### LightGBM"
   ]
  },
  {
   "cell_type": "markdown",
   "id": "8b1577af",
   "metadata": {},
   "source": [
    "<div class=\"alert alert-warning\">\n",
    "    <h2> Комментарий ревьюера <a class=\"tocSkip\"> </h2>\n",
    "    \n",
    "<b>Некоторые замечания и рекомендации💡:</b> \n",
    "        \n",
    "Все импорты стоит перенести в начало проекта.\n",
    "        \n",
    "Также у LightGBM есть внутренний кодер, можно использовать его. Хотя порядковое кодирование тоже подходит."
   ]
  },
  {
   "cell_type": "code",
   "execution_count": 71,
   "id": "5d217d5d",
   "metadata": {},
   "outputs": [
    {
     "name": "stdout",
     "output_type": "stream",
     "text": [
      "Wall time: 2.12 s\n"
     ]
    },
    {
     "data": {
      "text/plain": [
       "LGBMRegressor(random_state=12345)"
      ]
     },
     "execution_count": 71,
     "metadata": {},
     "output_type": "execute_result"
    }
   ],
   "source": [
    "%%time\n",
    "model = LGBMRegressor(random_state=12345)\n",
    "model.fit(features_train_enc,target_train_enc)"
   ]
  },
  {
   "cell_type": "code",
   "execution_count": 72,
   "id": "45fdd706",
   "metadata": {},
   "outputs": [
    {
     "name": "stdout",
     "output_type": "stream",
     "text": [
      "32.48627378523637\n",
      "0.84664\n",
      "Wall time: 216 ms\n"
     ]
    }
   ],
   "source": [
    "%%time\n",
    "predicted = model.predict(features_valid_enc)\n",
    "mse = mean_absolute_error(target_valid_enc,predicted)\n",
    "print(mse ** 0.5)\n",
    "print(r2_score(target_valid_enc, predicted).round(5))"
   ]
  },
  {
   "cell_type": "code",
   "execution_count": 73,
   "id": "980c38eb",
   "metadata": {},
   "outputs": [
    {
     "name": "stdout",
     "output_type": "stream",
     "text": [
      "при глубине 0 кол-ве деревьев 10\n",
      "42.75728062312012\n",
      "0.65067\n",
      "при глубине 1 кол-ве деревьев 10\n",
      "50.34432669963866\n",
      "0.36099\n",
      "при глубине 2 кол-ве деревьев 10\n",
      "47.17925403542379\n",
      "0.49528\n",
      "при глубине 3 кол-ве деревьев 10\n",
      "45.389081382357666\n",
      "0.55912\n",
      "при глубине 4 кол-ве деревьев 10\n",
      "43.82521890588926\n",
      "0.61515\n",
      "при глубине 5 кол-ве деревьев 10\n",
      "42.968522691139576\n",
      "0.64418\n",
      "при глубине 6 кол-ве деревьев 10\n",
      "42.80008938120027\n",
      "0.64967\n",
      "при глубине 7 кол-ве деревьев 10\n",
      "42.760153156827975\n",
      "0.6505\n",
      "при глубине 8 кол-ве деревьев 10\n",
      "42.75728062312012\n",
      "0.65067\n",
      "при глубине 9 кол-ве деревьев 10\n",
      "42.75728062312012\n",
      "0.65067\n",
      "при глубине 10 кол-ве деревьев 10\n",
      "42.75728062312012\n",
      "0.65067\n",
      "при глубине 0 кол-ве деревьев 50\n",
      "33.439699958137695\n",
      "0.83096\n",
      "при глубине 1 кол-ве деревьев 50\n",
      "42.593003309538496\n",
      "0.62436\n",
      "при глубине 2 кол-ве деревьев 50\n",
      "38.09331625078053\n",
      "0.73951\n",
      "при глубине 3 кол-ве деревьев 50\n",
      "36.20577897940776\n",
      "0.77827\n",
      "при глубине 4 кол-ве деревьев 50\n",
      "34.77865264437557\n",
      "0.8052\n",
      "при глубине 5 кол-ве деревьев 50\n",
      "33.96070323306617\n",
      "0.82117\n",
      "при глубине 6 кол-ве деревьев 50\n",
      "33.62517251393936\n",
      "0.82786\n",
      "при глубине 7 кол-ве деревьев 50\n",
      "33.502207091115935\n",
      "0.82993\n",
      "при глубине 8 кол-ве деревьев 50\n",
      "33.44532095722573\n",
      "0.831\n",
      "при глубине 9 кол-ве деревьев 50\n",
      "33.43015435729848\n",
      "0.8309\n",
      "при глубине 10 кол-ве деревьев 50\n",
      "33.458520532693136\n",
      "0.83068\n",
      "при глубине 0 кол-ве деревьев 100\n",
      "32.48627378523637\n",
      "0.84664\n",
      "при глубине 1 кол-ве деревьев 100\n",
      "40.137784750384\n",
      "0.69158\n",
      "при глубине 2 кол-ве деревьев 100\n",
      "36.345726554667195\n",
      "0.775\n",
      "при глубине 3 кол-ве деревьев 100\n",
      "34.79502710006891\n",
      "0.80489\n",
      "при глубине 4 кол-ве деревьев 100\n",
      "33.67976413723617\n",
      "0.82513\n",
      "при глубине 5 кол-ве деревьев 100\n",
      "32.86386239204326\n",
      "0.83962\n",
      "при глубине 6 кол-ве деревьев 100\n",
      "32.60804073131545\n",
      "0.84416\n",
      "при глубине 7 кол-ве деревьев 100\n",
      "32.5458369130785\n",
      "0.84555\n",
      "при глубине 8 кол-ве деревьев 100\n",
      "32.48164055252023\n",
      "0.84686\n",
      "при глубине 9 кол-ве деревьев 100\n",
      "32.50524658197403\n",
      "0.84625\n",
      "при глубине 10 кол-ве деревьев 100\n",
      "32.491383107631414\n",
      "0.84677\n",
      "при глубине 0 кол-ве деревьев 500\n",
      "31.09991955325544\n",
      "0.86779\n",
      "при глубине 1 кол-ве деревьев 500\n",
      "38.20021798272933\n",
      "0.7471\n",
      "при глубине 2 кол-ве деревьев 500\n",
      "34.14000337798173\n",
      "0.81811\n",
      "при глубине 3 кол-ве деревьев 500\n",
      "32.81584139076336\n",
      "0.84017\n",
      "при глубине 4 кол-ве деревьев 500\n",
      "31.946753004179868\n",
      "0.85348\n",
      "при глубине 5 кол-ве деревьев 500\n",
      "31.43180480110463\n",
      "0.86192\n",
      "при глубине 6 кол-ве деревьев 500\n",
      "31.233405233504374\n",
      "0.86509\n",
      "при глубине 7 кол-ве деревьев 500\n",
      "31.159106249839606\n",
      "0.86641\n",
      "при глубине 8 кол-ве деревьев 500\n",
      "31.114477789975503\n",
      "0.86749\n",
      "при глубине 9 кол-ве деревьев 500\n",
      "31.129420090751115\n",
      "0.86726\n",
      "при глубине 10 кол-ве деревьев 500\n",
      "31.12825803421492\n",
      "0.86739\n",
      "при глубине 0 кол-ве деревьев 1000\n",
      "30.69955772488033\n",
      "0.87282\n",
      "при глубине 1 кол-ве деревьев 1000\n",
      "37.73801177810635\n",
      "0.75934\n",
      "при глубине 2 кол-ве деревьев 1000\n",
      "33.475828234281614\n",
      "0.82899\n",
      "при глубине 3 кол-ве деревьев 1000\n",
      "32.18625225811984\n",
      "0.85003\n",
      "при глубине 4 кол-ве деревьев 1000\n",
      "31.469097417066557\n",
      "0.86075\n",
      "при глубине 5 кол-ве деревьев 1000\n",
      "31.043662403630517\n",
      "0.86759\n",
      "при глубине 6 кол-ве деревьев 1000\n",
      "30.845529027527974\n",
      "0.87031\n",
      "при глубине 7 кол-ве деревьев 1000\n",
      "30.747163801480532\n",
      "0.87183\n",
      "при глубине 8 кол-ве деревьев 1000\n",
      "30.722774135307453\n",
      "0.87252\n",
      "при глубине 9 кол-ве деревьев 1000\n",
      "30.714620465101873\n",
      "0.87271\n",
      "при глубине 10 кол-ве деревьев 1000\n",
      "30.73501863270361\n",
      "0.87246\n",
      "при глубине 0 кол-ве деревьев 5000\n",
      "30.21410426513116\n",
      "0.87661\n",
      "при глубине 1 кол-ве деревьев 5000\n",
      "36.9744040361352\n",
      "0.7757\n",
      "при глубине 2 кол-ве деревьев 5000\n",
      "32.42881457378607\n",
      "0.84633\n",
      "при глубине 3 кол-ве деревьев 5000\n",
      "31.26587575287721\n",
      "0.8637\n",
      "при глубине 4 кол-ве деревьев 5000\n",
      "30.737118585184156\n",
      "0.87079\n",
      "при глубине 5 кол-ве деревьев 5000\n",
      "30.474190905436394\n",
      "0.87346\n",
      "при глубине 6 кол-ве деревьев 5000\n",
      "30.361201194896545\n",
      "0.87488\n",
      "при глубине 7 кол-ве деревьев 5000\n",
      "30.30412260269732\n",
      "0.8759\n",
      "при глубине 8 кол-ве деревьев 5000\n",
      "30.274372221942198\n",
      "0.87604\n",
      "при глубине 9 кол-ве деревьев 5000\n",
      "30.234261898591278\n",
      "0.8768\n",
      "при глубине 10 кол-ве деревьев 5000\n",
      "30.207585191117936\n",
      "0.87701\n"
     ]
    }
   ],
   "source": [
    "#подбор гиперпараметров\n",
    "trees = [10, 50, 100, 500, 1000, 5000]\n",
    "for i in trees:\n",
    "    for j in range(11):\n",
    "        model = LGBMRegressor(random_state=12345,n_estimators=i, max_depth=j)\n",
    "        model.fit(features_train_enc,target_train_enc)\n",
    "        predicted = model.predict(features_valid_enc)\n",
    "        mse = mean_absolute_error(target_valid_enc,predicted)\n",
    "        print('при глубине', j,'кол-ве деревьев',i)\n",
    "        print(mse ** 0.5)\n",
    "        print(r2_score(target_valid_enc, predicted).round(5))"
   ]
  },
  {
   "cell_type": "markdown",
   "id": "31b16b4e",
   "metadata": {},
   "source": [
    "<div class=\"alert alert-success\">\n",
    "<h2> Комментарий ревьюера <a class=\"tocSkip\"> </h2>\n",
    "\n",
    "<b>Все отлично!👍:</b> \n",
    "    \n",
    "Отлично, что перебираешь 2 параметра для LightGBM"
   ]
  },
  {
   "cell_type": "markdown",
   "id": "dbfbe7d3",
   "metadata": {},
   "source": [
    "### Линейная регрессия с помощью бустинга"
   ]
  },
  {
   "cell_type": "code",
   "execution_count": 74,
   "id": "b14c7fd9",
   "metadata": {},
   "outputs": [],
   "source": [
    "class SGDLinearRegression:\n",
    "    def __init__(self, step_size, epochs, batch_size):\n",
    "        self.step_size = step_size\n",
    "        self.epochs = epochs\n",
    "        self.batch_size = batch_size\n",
    "    \n",
    "    def fit(self, train_features, train_target):\n",
    "        X = np.concatenate((np.ones((train_features.shape[0], 1)), train_features), axis=1)\n",
    "        print(X)\n",
    "        y = train_target\n",
    "        w = np.zeros(X.shape[1])\n",
    "        for _ in range(self.epochs):\n",
    "            batches_count = int(X.shape[0]/self.batch_size) # < напишите код здесь >\n",
    "            for i in range(batches_count):\n",
    "                begin = i * self.batch_size\n",
    "                end = (i+1) * self.batch_size\n",
    "                X_batch = X[begin:end, :]\n",
    "                y_batch = y[begin:end]\n",
    "                \n",
    "                gradient = 2 * X_batch.T.dot(X_batch.dot(w) - y_batch) / X_batch.shape[0]# < напишите код здесь >\n",
    "                \n",
    "                w -= gradient * self.step_size# < напишите код здесь >\n",
    "        self.w = w[1:]\n",
    "        self.w0 = w[0]\n",
    "        self.batches_count = batches_count\n",
    "    def predict(self, test_features):\n",
    "        return test_features.dot(self.w) + self.w0"
   ]
  },
  {
   "cell_type": "code",
   "execution_count": 75,
   "id": "4044d583",
   "metadata": {},
   "outputs": [
    {
     "data": {
      "text/plain": [
       "180220"
      ]
     },
     "execution_count": 75,
     "metadata": {},
     "output_type": "execute_result"
    }
   ],
   "source": [
    "features_train.shape[0]"
   ]
  },
  {
   "cell_type": "code",
   "execution_count": 76,
   "id": "99633d3e",
   "metadata": {},
   "outputs": [
    {
     "data": {
      "text/html": [
       "<div>\n",
       "<style scoped>\n",
       "    .dataframe tbody tr th:only-of-type {\n",
       "        vertical-align: middle;\n",
       "    }\n",
       "\n",
       "    .dataframe tbody tr th {\n",
       "        vertical-align: top;\n",
       "    }\n",
       "\n",
       "    .dataframe thead th {\n",
       "        text-align: right;\n",
       "    }\n",
       "</style>\n",
       "<table border=\"1\" class=\"dataframe\">\n",
       "  <thead>\n",
       "    <tr style=\"text-align: right;\">\n",
       "      <th></th>\n",
       "      <th>vehicle_type</th>\n",
       "      <th>registration_year</th>\n",
       "      <th>gearbox</th>\n",
       "      <th>power</th>\n",
       "      <th>model</th>\n",
       "      <th>kilometer</th>\n",
       "      <th>registration_month</th>\n",
       "      <th>fuel_type</th>\n",
       "      <th>brand</th>\n",
       "      <th>repaired</th>\n",
       "    </tr>\n",
       "  </thead>\n",
       "  <tbody>\n",
       "    <tr>\n",
       "      <th>56219</th>\n",
       "      <td>small</td>\n",
       "      <td>0.989467</td>\n",
       "      <td>manual</td>\n",
       "      <td>-0.038297</td>\n",
       "      <td>astra</td>\n",
       "      <td>-0.123138</td>\n",
       "      <td>12</td>\n",
       "      <td>petrol</td>\n",
       "      <td>opel</td>\n",
       "      <td>no</td>\n",
       "    </tr>\n",
       "    <tr>\n",
       "      <th>243035</th>\n",
       "      <td>sedan</td>\n",
       "      <td>-1.044745</td>\n",
       "      <td>manual</td>\n",
       "      <td>0.019623</td>\n",
       "      <td>a4</td>\n",
       "      <td>0.573205</td>\n",
       "      <td>0</td>\n",
       "      <td>Нет</td>\n",
       "      <td>audi</td>\n",
       "      <td>yes</td>\n",
       "    </tr>\n",
       "    <tr>\n",
       "      <th>147711</th>\n",
       "      <td>small</td>\n",
       "      <td>-0.105878</td>\n",
       "      <td>manual</td>\n",
       "      <td>-0.154138</td>\n",
       "      <td>3_reihe</td>\n",
       "      <td>0.573205</td>\n",
       "      <td>1</td>\n",
       "      <td>petrol</td>\n",
       "      <td>mazda</td>\n",
       "      <td>no</td>\n",
       "    </tr>\n",
       "    <tr>\n",
       "      <th>78315</th>\n",
       "      <td>bus</td>\n",
       "      <td>-0.262356</td>\n",
       "      <td>manual</td>\n",
       "      <td>0.161207</td>\n",
       "      <td>zafira</td>\n",
       "      <td>0.573205</td>\n",
       "      <td>4</td>\n",
       "      <td>cng</td>\n",
       "      <td>opel</td>\n",
       "      <td>no</td>\n",
       "    </tr>\n",
       "    <tr>\n",
       "      <th>203699</th>\n",
       "      <td>wagon</td>\n",
       "      <td>-0.731790</td>\n",
       "      <td>manual</td>\n",
       "      <td>0.180514</td>\n",
       "      <td>5er</td>\n",
       "      <td>0.573205</td>\n",
       "      <td>12</td>\n",
       "      <td>petrol</td>\n",
       "      <td>bmw</td>\n",
       "      <td>yes</td>\n",
       "    </tr>\n",
       "  </tbody>\n",
       "</table>\n",
       "</div>"
      ],
      "text/plain": [
       "       vehicle_type  registration_year gearbox     power    model  kilometer  \\\n",
       "56219         small           0.989467  manual -0.038297    astra  -0.123138   \n",
       "243035        sedan          -1.044745  manual  0.019623       a4   0.573205   \n",
       "147711        small          -0.105878  manual -0.154138  3_reihe   0.573205   \n",
       "78315           bus          -0.262356  manual  0.161207   zafira   0.573205   \n",
       "203699        wagon          -0.731790  manual  0.180514      5er   0.573205   \n",
       "\n",
       "        registration_month fuel_type  brand repaired  \n",
       "56219                   12    petrol   opel       no  \n",
       "243035                   0       Нет   audi      yes  \n",
       "147711                   1    petrol  mazda       no  \n",
       "78315                    4       cng   opel       no  \n",
       "203699                  12    petrol    bmw      yes  "
      ]
     },
     "execution_count": 76,
     "metadata": {},
     "output_type": "execute_result"
    }
   ],
   "source": [
    "features_train.head()"
   ]
  },
  {
   "cell_type": "code",
   "execution_count": 77,
   "id": "d793764f",
   "metadata": {},
   "outputs": [
    {
     "data": {
      "text/plain": [
       "(180220,)"
      ]
     },
     "execution_count": 77,
     "metadata": {},
     "output_type": "execute_result"
    }
   ],
   "source": [
    "target_train.shape"
   ]
  },
  {
   "cell_type": "code",
   "execution_count": 80,
   "id": "f3cc7c69",
   "metadata": {},
   "outputs": [
    {
     "name": "stdout",
     "output_type": "stream",
     "text": [
      "[[ 1.          5.          0.98946664 ...  6.         24.\n",
      "   0.        ]\n",
      " [ 1.          4.         -1.04474529 ...  7.          1.\n",
      "   1.        ]\n",
      " [ 1.          5.         -0.10587824 ...  6.         19.\n",
      "   0.        ]\n",
      " ...\n",
      " [ 1.          2.         -1.20122313 ...  4.          2.\n",
      "   0.        ]\n",
      " [ 1.          4.          0.0505996  ...  6.          2.\n",
      "   0.        ]\n",
      " [ 1.          5.          0.8329888  ...  6.         27.\n",
      "   0.        ]]\n",
      "Wall time: 80 ms\n"
     ]
    }
   ],
   "source": [
    "%%time\n",
    "model = SGDLinearRegression(0.01, 1, 11000)\n",
    "model.fit(features_train_enc, target_train_enc)"
   ]
  },
  {
   "cell_type": "code",
   "execution_count": 81,
   "id": "5aefad09",
   "metadata": {},
   "outputs": [
    {
     "name": "stdout",
     "output_type": "stream",
     "text": [
      "-2.3632734808117534e+82\n",
      "2.310976147703566e+22\n",
      "Wall time: 16 ms\n"
     ]
    }
   ],
   "source": [
    "%%time\n",
    "pred_train = model.predict(features_valid_enc)\n",
    "print(r2_score(target_valid_enc, pred_train).round(5))\n",
    "mse = mean_absolute_error(target_valid_enc,pred_train)\n",
    "print(mse ** 0.5)"
   ]
  },
  {
   "cell_type": "markdown",
   "id": "7eb57386",
   "metadata": {},
   "source": [
    "## Анализ моделей"
   ]
  },
  {
   "cell_type": "markdown",
   "id": "c2b26e8f",
   "metadata": {},
   "source": [
    "### CatBoostRegressor"
   ]
  },
  {
   "cell_type": "markdown",
   "id": "5d84e4a5",
   "metadata": {},
   "source": [
    "Без гиперпараметров\n",
    "* Время обучения - 3,5 минуты\n",
    "* Время предсказания - меньше секунды\n",
    "* Эффективность модели - высокий показатель среди моделей\n",
    "* Среднеквадратичная ошибка(целая часть) - 30.5"
   ]
  },
  {
   "cell_type": "markdown",
   "id": "a18497b3",
   "metadata": {},
   "source": [
    "### Дерево решений"
   ]
  },
  {
   "cell_type": "markdown",
   "id": "67619b3e",
   "metadata": {},
   "source": [
    "Без гиперпараметров\n",
    "* Время обучения - 50 сек\n",
    "* Время предсказания - 1,5 сек\n",
    "* Эффективность модели - средний показатель среди моделей\n",
    "* Среднеквадратичная ошибка(целая часть) - 35"
   ]
  },
  {
   "cell_type": "markdown",
   "id": "bae7cdbc",
   "metadata": {},
   "source": [
    "### LightGBM"
   ]
  },
  {
   "cell_type": "markdown",
   "id": "765c7f99",
   "metadata": {},
   "source": [
    "Без гиперпараметров\n",
    "* Время обучения - 1 сек\n",
    "* Время предсказания - меньше секунды\n",
    "* Эффективность модели - высокий показатель среди моделей\n",
    "* Среднеквадратичная ошибка(целая часть) - 30.2"
   ]
  },
  {
   "cell_type": "markdown",
   "id": "e13f8837",
   "metadata": {},
   "source": [
    "### Линейная регрессия с помощью бустинга"
   ]
  },
  {
   "cell_type": "markdown",
   "id": "1d53e9ac",
   "metadata": {},
   "source": [
    "* Время обучения - меньше секунды\n",
    "* Время предсказания - меньше секунды\n",
    "* Эффективность модели - очень низкий показатель среди моделей. Стремится к переобучению\n",
    "* Среднеквадратичная ошибка(целая часть) - 4"
   ]
  },
  {
   "cell_type": "markdown",
   "id": "b3d4e196",
   "metadata": {},
   "source": [
    "### Вывод"
   ]
  },
  {
   "cell_type": "markdown",
   "id": "095ae5bd",
   "metadata": {},
   "source": [
    "Первостепенно отталкиваемся от эффективности модели и среднеквадратичной ошибки: по этим показателем лучше всех показывает LightGBM и CatBoostRegressor. У модели LightGBM быстрое обучение в сравнении с CatBoostRegressor и Деревом решений(не рассматриваем линейную регрессию с помощью бустинга, т.к. качество модели очень низкое)."
   ]
  },
  {
   "cell_type": "markdown",
   "id": "af59ab8b",
   "metadata": {},
   "source": [
    "Рассмотрим модель LightGBM с гиперпараметрами: лучший показатели показала модель при глубине 10 кол-ве деревьев 5000"
   ]
  },
  {
   "cell_type": "markdown",
   "id": "960485d3",
   "metadata": {},
   "source": [
    "<div class=\"alert alert-success\">\n",
    "<h2> Комментарий ревьюера <a class=\"tocSkip\"> </h2>\n",
    "\n",
    "<b>Все отлично!👍:</b> \n",
    "    \n",
    "Отлично, что сводишь воедино все результаты для наглядности."
   ]
  },
  {
   "cell_type": "markdown",
   "id": "b489f0ad",
   "metadata": {},
   "source": [
    "## Финальный тест"
   ]
  },
  {
   "cell_type": "code",
   "execution_count": 82,
   "id": "b6760e4c",
   "metadata": {},
   "outputs": [
    {
     "name": "stdout",
     "output_type": "stream",
     "text": [
      "Wall time: 26.2 s\n"
     ]
    },
    {
     "data": {
      "text/plain": [
       "LGBMRegressor(max_depth=10, n_estimators=5000, random_state=12345)"
      ]
     },
     "execution_count": 82,
     "metadata": {},
     "output_type": "execute_result"
    }
   ],
   "source": [
    "%%time\n",
    "model = LGBMRegressor(random_state=12345,n_estimators=5000, max_depth=10)\n",
    "model.fit(features_train_enc,target_train_enc)"
   ]
  },
  {
   "cell_type": "code",
   "execution_count": 83,
   "id": "adbd4737",
   "metadata": {},
   "outputs": [
    {
     "name": "stdout",
     "output_type": "stream",
     "text": [
      "30.042323982862886\n",
      "0.88087\n",
      "Wall time: 11.5 s\n"
     ]
    }
   ],
   "source": [
    "%%time\n",
    "predicted = model.predict(features_test_enc)\n",
    "mse = mean_absolute_error(target_test_enc,predicted)\n",
    "print(mse ** 0.5)\n",
    "print(r2_score(target_test_enc, predicted).round(5))"
   ]
  },
  {
   "cell_type": "markdown",
   "id": "ca85780c",
   "metadata": {},
   "source": [
    "<div class=\"alert alert-success\">\n",
    "<h2> Комментарий ревьюера <a class=\"tocSkip\"> </h2>\n",
    "\n",
    "<b>Все отлично!👍:</b> \n",
    "    \n",
    "Прекрасно, что тестируешь только лучшую модель! Редкий человек)"
   ]
  },
  {
   "cell_type": "markdown",
   "id": "2124c91f",
   "metadata": {},
   "source": [
    "### Вывод"
   ]
  },
  {
   "cell_type": "markdown",
   "id": "97284e86",
   "metadata": {},
   "source": [
    "На тесте показатель среднеквадратичной ошибки низкий(разница - 15.5)"
   ]
  },
  {
   "cell_type": "markdown",
   "id": "42ef62e4",
   "metadata": {},
   "source": [
    "## Общий вывод"
   ]
  },
  {
   "cell_type": "markdown",
   "id": "e31c3ad1",
   "metadata": {},
   "source": [
    "Разработан портрет самой дорогой машины на основе графического анализа:\n",
    "* Тип кузова - 'sev'\n",
    "* Тип коробки передач - 'auto'\n",
    "* Модель - '3er'\n",
    "* Год регистрации - 2022\n",
    "* Ремонта не было\n",
    "* Л.с. - 1000.\n",
    "\n",
    "Модель LightGBM показывает высокую эффективность. Она более точно сможет предсказать стоимость машины.\n",
    "При глубине 10 кол-ве деревьев 5000 модель покажет показатели:\n",
    "* Время обучения - 26 сек\n",
    "* Время предсказания - 11 сек\n",
    "* Эффективность - 88/100%\n",
    "* RMSE - 30"
   ]
  },
  {
   "cell_type": "markdown",
   "id": "7ac83572",
   "metadata": {},
   "source": [
    "<div class=\"alert alert-success\">\n",
    "<h2> Комментарий ревьюера <a class=\"tocSkip\"> </h2>\n",
    "\n",
    "<b>Все отлично!👍:</b> \n",
    "    \n",
    "Отлично, что есть резюмирующий вывод."
   ]
  },
  {
   "cell_type": "markdown",
   "id": "d5dd3b63",
   "metadata": {},
   "source": [
    "### Вопросы"
   ]
  },
  {
   "cell_type": "markdown",
   "id": "90c2a9c5",
   "metadata": {},
   "source": [
    "Не понял, построил ли я средствами LightGBM модель градиентного бустинга?"
   ]
  },
  {
   "cell_type": "markdown",
   "id": "e0080220",
   "metadata": {},
   "source": [
    "Почему LightGBM показало одновременно высокое качество и быстрое время обучения?"
   ]
  },
  {
   "cell_type": "markdown",
   "id": "483b3c25",
   "metadata": {},
   "source": [
    "Нужно по-максимуму делать меньше метрику RMSE? Потому что кажется, что мог еще больше сделать глубину, и тогда метрика была меньше.\n",
    "На соревнованиях именно в этом соревнуются участники?"
   ]
  },
  {
   "cell_type": "markdown",
   "id": "9b76e5d9",
   "metadata": {},
   "source": [
    "<div class=\"alert alert-warning\">\n",
    "    <h2> Комментарий ревьюера <a class=\"tocSkip\"> </h2>\n",
    "    \n",
    "<b>Некоторые замечания и рекомендации💡:</b> \n",
    "        \n",
    "1. Прости, пожалуйста, ты мог бы переформулировать вопрос, а то я сомневаюсь, что правильно поняла.\n",
    "        \n",
    "2. Я думаю, это связано с применением порядкового кодирования, которое урезает время обучения.\n",
    "Встроенный кодер, вероятно, превзошел бы по качеству, но был бы дольше.\n",
    "        \n",
    "3. Конечно, если есть желание, можно крутить сколько угодно. Но в задаче достаточно, чтобы модель не превосходила 2500 по метрике, этого достаточно. \n",
    "        \n",
    "На соревнованиях добиваются чаще всего точности, да. Но бывает, что также стоят требования к скорости моделей и к ресурсоемкости."
   ]
  },
  {
   "cell_type": "markdown",
   "id": "8c694b1f",
   "metadata": {},
   "source": [
    "<div class=\"alert alert-block alert-info\">\n",
    "<b>Комментарий студента:</b> содержится ли в модели LightGBM градиентный бустинг?\n",
    "</div>"
   ]
  },
  {
   "cell_type": "markdown",
   "id": "8be9eafc",
   "metadata": {},
   "source": [
    "<div class=\"alert alert-warning\">\n",
    "    <h2> Комментарий ревьюера <a class=\"tocSkip\"> </h2>\n",
    "    \n",
    "<b>Некоторые замечания и рекомендации💡:</b> \n",
    "        \n",
    "Здесь я оставлю несколько интересных и полезных ссылок по теме:\n",
    "        \n",
    "        \n",
    "1. \"XGBoost, LightGBM or CatBoost — which boosting algorithm should I use?\"\n",
    "\n",
    "https://medium.com/riskified-technology/xgboost-lightgbm-or-catboost-which-boosting-algorithm-should-i-use-e7fda7bb36bc\n",
    "        \n",
    "        \n",
    "2. \"Transforming categorical features to numerical features\"\n",
    "        \n",
    "https://catboost.ai/en/docs/concepts/algorithm-main-stages_cat-to-numberic\n",
    "        \n",
    "        \n",
    "3. \"Градиентный Бустинг: самый частый вопрос на собеседовании на дата саентиста\"\n",
    "        \n",
    "https://www.youtube.com/watch?v=ZNJ3lKyI-EY\n",
    "        \n",
    "4. \"Tutorial: CatBoost Overview\"\n",
    "        \n",
    "https://www.kaggle.com/code/mitribunskiy/tutorial-catboost-overview/notebook\n",
    "        \n",
    "5. \"Gradient Boosting from scratch\"\n",
    "        \n",
    "https://blog.mlreview.com/gradient-boosting-from-scratch-1e317ae4587d"
   ]
  },
  {
   "cell_type": "markdown",
   "id": "ab888e0b",
   "metadata": {},
   "source": [
    "<div style=\"border:solid Chocolate 2px; padding: 40px\">\n",
    "    \n",
    "<b>Общий вывод по проекту</b>\n",
    "\n",
    "Андрей, благодарю тебя за работу! Проект отличный, продуманный, структурно выдержанный и аккуратный. Видно, что ты вдумчиво подходишь к работе. Однако стоит внести некоторые исправления, чтобы можно было считать проект завершенным.\n",
    "\n",
    "**Положительные моменты проекта, которые хочу еще раз подчеркнуть:**\n",
    "\n",
    "1. Удалены все лишние признаки и константный признак\n",
    "2. Есть промежуточные выводы по ходу анализа признаков\n",
    "3. Есть обработка некорректных и пропущенных значений\n",
    "4. Кодирование категориальных признаков осуществляется.\n",
    "5. Есть анализ времени предсказания и обучения моделей, а также их качества\n",
    "6. Предложена модель с учетом времени обучения и предсказания, а также качества работы\n",
    "7. Аккуратность кода на высоком уровне.\n",
    "8. Тестирование осуществляется только для лучшей модели\n",
    "9. Для моделей использованы соответсвующие методы кодирования\n",
    "10. Прекрасная визуализация\n",
    "    \n",
    "    \n",
    "**Замечания, на которые стоит обратить внимание при будущей работе:**\n",
    "    \n",
    "    1. Пересмотреть верхнюю границу года регистрации.\n",
    "    2. Обработать аномальные значения\n",
    "    3. Кодировать до разбиения на выборки\n",
    "    4. Избавиться от дублирующего кода\n",
    "    \n",
    "Остальные комментарии ты найдешь выше.\n",
    "\n",
    "**Желаю удачи и жду твой проект на повторное ревью!** "
   ]
  },
  {
   "cell_type": "markdown",
   "id": "1544059f",
   "metadata": {},
   "source": [
    "<div class=\"alert alert-block alert-info\">\n",
    "<b>Комментарий студента:</b> в замечаниях 3 пункт: так кодировать до или после разбиения на выборки?)\n",
    "</div>"
   ]
  },
  {
   "cell_type": "markdown",
   "id": "296cdf13",
   "metadata": {},
   "source": [
    "<div style=\"border:solid Chocolate 2px; padding: 40px\">\n",
    "    \n",
    "Андрей, извини за это, пожалуйста. Это описка. Конечно же сначала разбиение на выборки, потом уже все манипуляции: и кодирование и масштабирование."
   ]
  },
  {
   "cell_type": "markdown",
   "id": "9ae858a7",
   "metadata": {},
   "source": [
    "<div class=\"alert alert-block alert-info\">\n",
    "<b>Комментарий студента[2]:</b> ничего страшного! Вопрос: почему отбросив аномалия и сделав кодирование после деления на выборки значение RMSE работы модели LightGBM оказалось больше в два раза? Все ли правильно мы сделали?\n",
    "</div>"
   ]
  },
  {
   "cell_type": "markdown",
   "id": "b6ad768b",
   "metadata": {},
   "source": [
    "<div style=\"border:solid Chocolate 2px; padding: 40px\">\n",
    "    \n",
    "Прекрасно, что ты сомневаешься, это хорошо, ничего не принимать на веру и вск проверять. Я бы порекомендовала тебе получить еще ответ от, например, преподавателя по проектам.\n",
    "    \n",
    "Метрика просто ближе к реальной жизни. То есть в реальной жизни модель, например, и кодер они не будут работать с тренировочными данными. Он получат какие-то новые, которые они ни разу не видели. Разумеется, модель покажет результат хуже на незнакомых данных."
   ]
  },
  {
   "cell_type": "markdown",
   "id": "3c3c9d53",
   "metadata": {},
   "source": [
    "<div class=\"alert alert-block alert-info\">\n",
    "<b>Комментарий студента:</b> спасибо большое за рекомендации! Очень признателен\n",
    "</div>"
   ]
  },
  {
   "cell_type": "markdown",
   "id": "e9ff3f47",
   "metadata": {},
   "source": [
    "<div style=\"border:solid Chocolate 2px; padding: 40px\">\n",
    "    \n",
    "<b>Общий вывод по проекту №2</b>\n",
    "\n",
    "Андрей, благодарю тебя за работу с рекомендациями! \n",
    "    \n",
    "Осталось отбросить аномалии и осуществить кодирование после деления на выборки. Выше постаралась дать разъяснение.\n",
    "    \n",
    "**Жду твой проект на следующее ревью!**"
   ]
  },
  {
   "cell_type": "markdown",
   "id": "c7aad540",
   "metadata": {},
   "source": [
    "<div style=\"border:solid Chocolate 2px; padding: 40px\">\n",
    "    \n",
    "<b>Общий вывод по проекту №3</b>\n",
    "\n",
    "    \n",
    "Андрей, благодарю тебя за работу! \n",
    "    \n",
    "Все прекрасно, \n",
    "    \n",
    "**проект принимаю и желаю успехов в дальнешей учебе!**"
   ]
  }
 ],
 "metadata": {
  "ExecuteTimeLog": [
   {
    "duration": 1672,
    "start_time": "2022-12-12T16:42:47.688Z"
   },
   {
    "duration": 2025,
    "start_time": "2022-12-12T16:42:49.362Z"
   },
   {
    "duration": 7,
    "start_time": "2022-12-12T16:42:51.389Z"
   },
   {
    "duration": 162,
    "start_time": "2022-12-12T16:42:51.399Z"
   },
   {
    "duration": 3055,
    "start_time": "2022-12-12T16:42:51.562Z"
   },
   {
    "duration": 1466,
    "start_time": "2022-12-12T16:42:54.619Z"
   },
   {
    "duration": 488,
    "start_time": "2022-12-12T16:42:56.087Z"
   },
   {
    "duration": 1651,
    "start_time": "2022-12-12T16:42:56.577Z"
   },
   {
    "duration": 36,
    "start_time": "2022-12-12T16:42:58.231Z"
   },
   {
    "duration": 50,
    "start_time": "2022-12-12T16:42:58.269Z"
   },
   {
    "duration": 18,
    "start_time": "2022-12-12T16:42:58.320Z"
   },
   {
    "duration": 37,
    "start_time": "2022-12-12T16:42:58.339Z"
   },
   {
    "duration": 40,
    "start_time": "2022-12-12T16:42:58.378Z"
   },
   {
    "duration": 35,
    "start_time": "2022-12-12T16:42:58.435Z"
   },
   {
    "duration": 355,
    "start_time": "2022-12-12T16:42:58.472Z"
   },
   {
    "duration": 142,
    "start_time": "2022-12-12T16:42:58.828Z"
   },
   {
    "duration": 225,
    "start_time": "2022-12-12T16:42:58.972Z"
   },
   {
    "duration": 733,
    "start_time": "2022-12-12T16:42:59.199Z"
   },
   {
    "duration": 250,
    "start_time": "2022-12-12T16:42:59.934Z"
   },
   {
    "duration": 504,
    "start_time": "2022-12-12T16:43:00.186Z"
   },
   {
    "duration": 276,
    "start_time": "2022-12-12T16:43:00.692Z"
   },
   {
    "duration": 311,
    "start_time": "2022-12-12T16:43:00.970Z"
   },
   {
    "duration": 232,
    "start_time": "2022-12-12T16:43:01.282Z"
   },
   {
    "duration": 219,
    "start_time": "2022-12-12T16:43:01.516Z"
   },
   {
    "duration": 223,
    "start_time": "2022-12-12T16:43:01.738Z"
   },
   {
    "duration": 224,
    "start_time": "2022-12-12T16:43:01.963Z"
   },
   {
    "duration": 214,
    "start_time": "2022-12-12T16:43:02.189Z"
   },
   {
    "duration": 2295,
    "start_time": "2022-12-12T16:43:02.409Z"
   },
   {
    "duration": 3558,
    "start_time": "2022-12-12T16:43:04.705Z"
   },
   {
    "duration": 7,
    "start_time": "2022-12-12T16:43:08.266Z"
   },
   {
    "duration": 38,
    "start_time": "2022-12-12T16:43:08.274Z"
   },
   {
    "duration": 1694,
    "start_time": "2022-12-12T16:43:08.313Z"
   },
   {
    "duration": 2658,
    "start_time": "2022-12-12T16:43:10.009Z"
   },
   {
    "duration": 5430,
    "start_time": "2022-12-12T16:43:12.669Z"
   },
   {
    "duration": 193,
    "start_time": "2022-12-12T16:43:18.101Z"
   },
   {
    "duration": 515,
    "start_time": "2022-12-12T16:43:18.296Z"
   },
   {
    "duration": 299,
    "start_time": "2022-12-12T16:43:18.813Z"
   },
   {
    "duration": 521,
    "start_time": "2022-12-12T16:43:19.114Z"
   },
   {
    "duration": 465,
    "start_time": "2022-12-12T16:43:19.637Z"
   },
   {
    "duration": 464,
    "start_time": "2022-12-12T16:43:20.104Z"
   },
   {
    "duration": 140,
    "start_time": "2022-12-12T16:43:20.570Z"
   },
   {
    "duration": 147,
    "start_time": "2022-12-12T16:43:20.712Z"
   },
   {
    "duration": 34,
    "start_time": "2022-12-12T16:43:20.861Z"
   },
   {
    "duration": 12,
    "start_time": "2022-12-12T16:43:20.897Z"
   },
   {
    "duration": 145,
    "start_time": "2022-12-12T16:43:20.911Z"
   },
   {
    "duration": 230378,
    "start_time": "2022-12-12T16:43:21.058Z"
   },
   {
    "duration": 664,
    "start_time": "2022-12-12T16:47:11.438Z"
   },
   {
    "duration": 2661668,
    "start_time": "2022-12-12T16:47:12.104Z"
   },
   {
    "duration": 3307,
    "start_time": "2022-12-12T17:31:33.774Z"
   },
   {
    "duration": 84,
    "start_time": "2022-12-12T17:31:37.082Z"
   }
  ],
  "kernelspec": {
   "display_name": "Python 3 (ipykernel)",
   "language": "python",
   "name": "python3"
  },
  "language_info": {
   "codemirror_mode": {
    "name": "ipython",
    "version": 3
   },
   "file_extension": ".py",
   "mimetype": "text/x-python",
   "name": "python",
   "nbconvert_exporter": "python",
   "pygments_lexer": "ipython3",
   "version": "3.10.9"
  },
  "toc": {
   "base_numbering": 1,
   "nav_menu": {},
   "number_sections": true,
   "sideBar": true,
   "skip_h1_title": true,
   "title_cell": "Table of Contents",
   "title_sidebar": "Contents",
   "toc_cell": false,
   "toc_position": {},
   "toc_section_display": true,
   "toc_window_display": false
  }
 },
 "nbformat": 4,
 "nbformat_minor": 5
}
