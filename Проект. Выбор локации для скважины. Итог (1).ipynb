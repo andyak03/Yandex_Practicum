{
 "cells": [
  {
   "cell_type": "markdown",
   "id": "2c8d4760",
   "metadata": {},
   "source": [
    "Привет! меня зовут Люман Аблаев. Сегодня я проверю твой проект.\n",
    "<br> Дальнейшее общение будет происходить на \"ты\" если это не вызывает никаких проблем.\n",
    "<br> Желательно реагировать на каждый мой комментарий ('исправил', 'не понятно как исправить ошибку', ...)\n",
    "<br> Пожалуйста, не удаляй комментарии ревьюера, так как они повышают качество повторного ревью.\n",
    "\n",
    "Комментарии будут в <font color='green'>зеленой</font>, <font color='blue'>синей</font> или <font color='red'>красной</font> рамках:\n",
    "\n",
    "<div class=\"alert alert-block alert-success\">\n",
    "<b>Успех:</b> Если все сделано отлично\n",
    "</div>\n",
    "\n",
    "<div class=\"alert alert-block alert-info\">\n",
    "<b>Совет: </b> Если можно немного улучшить\n",
    "</div>\n",
    "\n",
    "<div class=\"alert alert-block alert-danger\">\n",
    "<b>Ошибка:</b> Если требуются исправления. Работа не может быть принята с красными комментариями.\n",
    "</div>\n",
    "\n",
    "-------------------\n",
    "\n",
    "Будет очень хорошо, если ты будешь помечать свои действия следующим образом:\n",
    "<div class=\"alert alert-block alert-warning\">\n",
    "<b>Комментарий студента:</b> ...\n",
    "</div>\n",
    "\n",
    "<div class=\"alert alert-block alert-warning\">\n",
    "<b>Изменения:</b> Были внесены следующие изменения ...\n",
    "</div>\n",
    "\n",
    "<font color='orange' style='font-size:24px; font-weight:bold'>Общее впечатление</font>\n",
    "* Спасибо за  качественную работу, мне она очень понравилась\n",
    "- Я оставил некоторые советы надеюсь они будут полезными или интересными.\n",
    "- Есть небольшие неочеты, которые нужно поправить и обновить вычисления и выводы\n",
    "- Жду обновленную работу\n",
    "\n",
    "\n",
    "<font color='orange' style='font-size:24px; font-weight:bold'>Общее впечатление[Итог]</font>\n",
    "* Спасибо за оперативность\n",
    "- Приятно видеть фидбек на комментарии.\n",
    "- Недочеты исправлены - работа полностью корректна\n",
    "- Рад был быть полезен. Удачи в дальнейшем обучении!"
   ]
  },
  {
   "cell_type": "markdown",
   "id": "b2283372",
   "metadata": {},
   "source": [
    "# Выбор локации для скважины"
   ]
  },
  {
   "cell_type": "markdown",
   "id": "d0aa9e19",
   "metadata": {},
   "source": [
    "## Описание проекта"
   ]
  },
  {
   "cell_type": "markdown",
   "id": "aee6d646",
   "metadata": {},
   "source": [
    "### Описание целей и задачи проекта"
   ]
  },
  {
   "cell_type": "markdown",
   "id": "ea838800",
   "metadata": {},
   "source": [
    "Нужно решить, где бурить новую скважину.\n",
    "Шаги для выбора локации обычно такие:\n",
    "* В избранном регионе собирают характеристики для скважин: качество нефти и объём её запасов;\n",
    "* Строят модель для предсказания объёма запасов в новых скважинах;\n",
    "* Выбирают скважины с самыми высокими оценками значений;\n",
    "* Определяют регион с максимальной суммарной прибылью отобранных скважин.\n",
    "Вам предоставлены пробы нефти в трёх регионах. Характеристики для каждой скважины в регионе уже известны. Постройте модель для определения региона, где добыча принесёт наибольшую прибыль. Проанализируйте возможную прибыль и риски техникой Bootstrap."
   ]
  },
  {
   "cell_type": "markdown",
   "id": "fc23a8ea",
   "metadata": {},
   "source": [
    "### Описание данных"
   ]
  },
  {
   "cell_type": "markdown",
   "id": "29c87052",
   "metadata": {},
   "source": [
    "* id — уникальный идентификатор скважины;\n",
    "* f0, f1, f2 — три признака точек (неважно, что они означают, но сами признаки значимы);\n",
    "* product — объём запасов в скважине (тыс. баррелей)."
   ]
  },
  {
   "cell_type": "markdown",
   "id": "88fb9df1",
   "metadata": {},
   "source": [
    "### Условия задачи"
   ]
  },
  {
   "cell_type": "markdown",
   "id": "6aede868",
   "metadata": {},
   "source": [
    "* Для обучения модели подходит только линейная регрессия (остальные — недостаточно предсказуемые).\n",
    "* При разведке региона исследуют 500 точек, из которых с помощью машинного обучения выбирают 200 лучших для разработки.\n",
    "* Бюджет на разработку скважин в регионе — 10 млрд рублей.\n",
    "* При нынешних ценах один баррель сырья приносит 450 рублей дохода. Доход с каждой единицы продукта составляет 450 тыс. рублей, поскольку объём указан в тысячах баррелей.\n",
    "* После оценки рисков нужно оставить лишь те регионы, в которых вероятность убытков меньше 2.5%. Среди них выбирают регион с наибольшей средней прибылью."
   ]
  },
  {
   "cell_type": "markdown",
   "id": "9ebe488a",
   "metadata": {},
   "source": [
    "### План работы"
   ]
  },
  {
   "cell_type": "markdown",
   "id": "54abdd8e",
   "metadata": {},
   "source": [
    "* Загрузите и подготовьте данные. Поясните порядок действий.\n",
    "* Обучите и проверьте модель для каждого региона: 2.1. Разбейте данные на обучающую и валидационную выборки в соотношении 75:25. 2.2. Обучите модель и сделайте предсказания на валидационной выборке. 2.3. Сохраните предсказания и правильные ответы на валидационной выборке. 2.4. Напечатайте на экране средний запас предсказанного сырья и RMSE модели. 2.5. Проанализируйте результаты.\n",
    "* Подготовьтесь к расчёту прибыли: 3.1. Все ключевые значения для расчётов сохраните в отдельных переменных. 3.2. Рассчитайте достаточный объём сырья для безубыточной разработки новой скважины. Сравните полученный объём сырья со средним запасом в каждом регионе. 3.3. Напишите выводы по этапу подготовки расчёта прибыли.\n",
    "* Напишите функцию для расчёта прибыли по выбранным скважинам и предсказаниям модели: 4.1. Выберите скважины с максимальными значениями предсказаний. 4.2. Просуммируйте целевое значение объёма сырья, соответствующее этим предсказаниям. 4.3. Рассчитайте прибыль для полученного объёма сырья.\n",
    "* Посчитайте риски и прибыль для каждого региона: 5.1. Примените технику Bootstrap с 1000 выборок, чтобы найти распределение прибыли. 5.2. Найдите среднюю прибыль, 95%-й доверительный интервал и риск убытков. Убыток — это отрицательная прибыль. 5.3. Напишите выводы: предложите регион для разработки скважин и обоснуйте выбор."
   ]
  },
  {
   "cell_type": "markdown",
   "id": "ea5111f6",
   "metadata": {},
   "source": [
    "## Загрузка и подготовка данных"
   ]
  },
  {
   "cell_type": "code",
   "execution_count": 1,
   "id": "48924456",
   "metadata": {},
   "outputs": [],
   "source": [
    "import pandas as pd\n",
    "import random\n",
    "import numpy as np\n",
    "\n",
    "from sklearn.model_selection import train_test_split\n",
    "from sklearn.preprocessing import StandardScaler\n",
    "from sklearn.linear_model import LinearRegression\n",
    "from scipy.stats import t as t\n",
    "\n",
    "from sklearn.metrics import mean_squared_error\n",
    "from sklearn.metrics import mean_absolute_error\n",
    "from sklearn.metrics import r2_score"
   ]
  },
  {
   "cell_type": "markdown",
   "id": "d6dc890c",
   "metadata": {},
   "source": [
    "<div class=\"alert alert-block alert-success\">\n",
    "<b>Успех:</b> Импорты на месте"
   ]
  },
  {
   "cell_type": "code",
   "execution_count": 3,
   "id": "cb0e3b71",
   "metadata": {},
   "outputs": [
    {
     "data": {
      "text/html": [
       "<div>\n",
       "<style scoped>\n",
       "    .dataframe tbody tr th:only-of-type {\n",
       "        vertical-align: middle;\n",
       "    }\n",
       "\n",
       "    .dataframe tbody tr th {\n",
       "        vertical-align: top;\n",
       "    }\n",
       "\n",
       "    .dataframe thead th {\n",
       "        text-align: right;\n",
       "    }\n",
       "</style>\n",
       "<table border=\"1\" class=\"dataframe\">\n",
       "  <thead>\n",
       "    <tr style=\"text-align: right;\">\n",
       "      <th></th>\n",
       "      <th>id</th>\n",
       "      <th>f0</th>\n",
       "      <th>f1</th>\n",
       "      <th>f2</th>\n",
       "      <th>product</th>\n",
       "    </tr>\n",
       "  </thead>\n",
       "  <tbody>\n",
       "    <tr>\n",
       "      <th>0</th>\n",
       "      <td>txEyH</td>\n",
       "      <td>0.705745</td>\n",
       "      <td>-0.497823</td>\n",
       "      <td>1.221170</td>\n",
       "      <td>105.280062</td>\n",
       "    </tr>\n",
       "    <tr>\n",
       "      <th>1</th>\n",
       "      <td>2acmU</td>\n",
       "      <td>1.334711</td>\n",
       "      <td>-0.340164</td>\n",
       "      <td>4.365080</td>\n",
       "      <td>73.037750</td>\n",
       "    </tr>\n",
       "    <tr>\n",
       "      <th>2</th>\n",
       "      <td>409Wp</td>\n",
       "      <td>1.022732</td>\n",
       "      <td>0.151990</td>\n",
       "      <td>1.419926</td>\n",
       "      <td>85.265647</td>\n",
       "    </tr>\n",
       "    <tr>\n",
       "      <th>3</th>\n",
       "      <td>iJLyR</td>\n",
       "      <td>-0.032172</td>\n",
       "      <td>0.139033</td>\n",
       "      <td>2.978566</td>\n",
       "      <td>168.620776</td>\n",
       "    </tr>\n",
       "    <tr>\n",
       "      <th>4</th>\n",
       "      <td>Xdl7t</td>\n",
       "      <td>1.988431</td>\n",
       "      <td>0.155413</td>\n",
       "      <td>4.751769</td>\n",
       "      <td>154.036647</td>\n",
       "    </tr>\n",
       "  </tbody>\n",
       "</table>\n",
       "</div>"
      ],
      "text/plain": [
       "      id        f0        f1        f2     product\n",
       "0  txEyH  0.705745 -0.497823  1.221170  105.280062\n",
       "1  2acmU  1.334711 -0.340164  4.365080   73.037750\n",
       "2  409Wp  1.022732  0.151990  1.419926   85.265647\n",
       "3  iJLyR -0.032172  0.139033  2.978566  168.620776\n",
       "4  Xdl7t  1.988431  0.155413  4.751769  154.036647"
      ]
     },
     "execution_count": 3,
     "metadata": {},
     "output_type": "execute_result"
    }
   ],
   "source": [
    "#чтение файла 0\n",
    "# df_0 = pd.read_csv('C:\\\\Users\\\\ASUS\\\\Downloads\\\\geo_data_0.csv')\n",
    "df_0 = pd.read_csv('/datasets/geo_data_0.csv')\n",
    "\n",
    "df_0.head()"
   ]
  },
  {
   "cell_type": "code",
   "execution_count": null,
   "id": "7db346c3",
   "metadata": {},
   "outputs": [],
   "source": [
    "df_0.info()"
   ]
  },
  {
   "cell_type": "code",
   "execution_count": 4,
   "id": "bb198520",
   "metadata": {},
   "outputs": [
    {
     "data": {
      "text/html": [
       "<div>\n",
       "<style scoped>\n",
       "    .dataframe tbody tr th:only-of-type {\n",
       "        vertical-align: middle;\n",
       "    }\n",
       "\n",
       "    .dataframe tbody tr th {\n",
       "        vertical-align: top;\n",
       "    }\n",
       "\n",
       "    .dataframe thead th {\n",
       "        text-align: right;\n",
       "    }\n",
       "</style>\n",
       "<table border=\"1\" class=\"dataframe\">\n",
       "  <thead>\n",
       "    <tr style=\"text-align: right;\">\n",
       "      <th></th>\n",
       "      <th>id</th>\n",
       "      <th>f0</th>\n",
       "      <th>f1</th>\n",
       "      <th>f2</th>\n",
       "      <th>product</th>\n",
       "    </tr>\n",
       "  </thead>\n",
       "  <tbody>\n",
       "    <tr>\n",
       "      <th>0</th>\n",
       "      <td>kBEdx</td>\n",
       "      <td>-15.001348</td>\n",
       "      <td>-8.276000</td>\n",
       "      <td>-0.005876</td>\n",
       "      <td>3.179103</td>\n",
       "    </tr>\n",
       "    <tr>\n",
       "      <th>1</th>\n",
       "      <td>62mP7</td>\n",
       "      <td>14.272088</td>\n",
       "      <td>-3.475083</td>\n",
       "      <td>0.999183</td>\n",
       "      <td>26.953261</td>\n",
       "    </tr>\n",
       "    <tr>\n",
       "      <th>2</th>\n",
       "      <td>vyE1P</td>\n",
       "      <td>6.263187</td>\n",
       "      <td>-5.948386</td>\n",
       "      <td>5.001160</td>\n",
       "      <td>134.766305</td>\n",
       "    </tr>\n",
       "    <tr>\n",
       "      <th>3</th>\n",
       "      <td>KcrkZ</td>\n",
       "      <td>-13.081196</td>\n",
       "      <td>-11.506057</td>\n",
       "      <td>4.999415</td>\n",
       "      <td>137.945408</td>\n",
       "    </tr>\n",
       "    <tr>\n",
       "      <th>4</th>\n",
       "      <td>AHL4O</td>\n",
       "      <td>12.702195</td>\n",
       "      <td>-8.147433</td>\n",
       "      <td>5.004363</td>\n",
       "      <td>134.766305</td>\n",
       "    </tr>\n",
       "  </tbody>\n",
       "</table>\n",
       "</div>"
      ],
      "text/plain": [
       "      id         f0         f1        f2     product\n",
       "0  kBEdx -15.001348  -8.276000 -0.005876    3.179103\n",
       "1  62mP7  14.272088  -3.475083  0.999183   26.953261\n",
       "2  vyE1P   6.263187  -5.948386  5.001160  134.766305\n",
       "3  KcrkZ -13.081196 -11.506057  4.999415  137.945408\n",
       "4  AHL4O  12.702195  -8.147433  5.004363  134.766305"
      ]
     },
     "execution_count": 4,
     "metadata": {},
     "output_type": "execute_result"
    }
   ],
   "source": [
    "#чтение файла 1\n",
    "# df_1 = pd.read_csv('C:\\\\Users\\\\ASUS\\\\Downloads\\\\geo_data_1.csv')\n",
    "df_1 = pd.read_csv('/datasets/geo_data_1.csv')\n",
    "df_1.head()"
   ]
  },
  {
   "cell_type": "code",
   "execution_count": null,
   "id": "3cebe260",
   "metadata": {},
   "outputs": [],
   "source": [
    "df_1.info()"
   ]
  },
  {
   "cell_type": "code",
   "execution_count": 5,
   "id": "1de41423",
   "metadata": {},
   "outputs": [
    {
     "data": {
      "text/html": [
       "<div>\n",
       "<style scoped>\n",
       "    .dataframe tbody tr th:only-of-type {\n",
       "        vertical-align: middle;\n",
       "    }\n",
       "\n",
       "    .dataframe tbody tr th {\n",
       "        vertical-align: top;\n",
       "    }\n",
       "\n",
       "    .dataframe thead th {\n",
       "        text-align: right;\n",
       "    }\n",
       "</style>\n",
       "<table border=\"1\" class=\"dataframe\">\n",
       "  <thead>\n",
       "    <tr style=\"text-align: right;\">\n",
       "      <th></th>\n",
       "      <th>id</th>\n",
       "      <th>f0</th>\n",
       "      <th>f1</th>\n",
       "      <th>f2</th>\n",
       "      <th>product</th>\n",
       "    </tr>\n",
       "  </thead>\n",
       "  <tbody>\n",
       "    <tr>\n",
       "      <th>0</th>\n",
       "      <td>fwXo0</td>\n",
       "      <td>-1.146987</td>\n",
       "      <td>0.963328</td>\n",
       "      <td>-0.828965</td>\n",
       "      <td>27.758673</td>\n",
       "    </tr>\n",
       "    <tr>\n",
       "      <th>1</th>\n",
       "      <td>WJtFt</td>\n",
       "      <td>0.262778</td>\n",
       "      <td>0.269839</td>\n",
       "      <td>-2.530187</td>\n",
       "      <td>56.069697</td>\n",
       "    </tr>\n",
       "    <tr>\n",
       "      <th>2</th>\n",
       "      <td>ovLUW</td>\n",
       "      <td>0.194587</td>\n",
       "      <td>0.289035</td>\n",
       "      <td>-5.586433</td>\n",
       "      <td>62.871910</td>\n",
       "    </tr>\n",
       "    <tr>\n",
       "      <th>3</th>\n",
       "      <td>q6cA6</td>\n",
       "      <td>2.236060</td>\n",
       "      <td>-0.553760</td>\n",
       "      <td>0.930038</td>\n",
       "      <td>114.572842</td>\n",
       "    </tr>\n",
       "    <tr>\n",
       "      <th>4</th>\n",
       "      <td>WPMUX</td>\n",
       "      <td>-0.515993</td>\n",
       "      <td>1.716266</td>\n",
       "      <td>5.899011</td>\n",
       "      <td>149.600746</td>\n",
       "    </tr>\n",
       "  </tbody>\n",
       "</table>\n",
       "</div>"
      ],
      "text/plain": [
       "      id        f0        f1        f2     product\n",
       "0  fwXo0 -1.146987  0.963328 -0.828965   27.758673\n",
       "1  WJtFt  0.262778  0.269839 -2.530187   56.069697\n",
       "2  ovLUW  0.194587  0.289035 -5.586433   62.871910\n",
       "3  q6cA6  2.236060 -0.553760  0.930038  114.572842\n",
       "4  WPMUX -0.515993  1.716266  5.899011  149.600746"
      ]
     },
     "execution_count": 5,
     "metadata": {},
     "output_type": "execute_result"
    }
   ],
   "source": [
    "#чтение файла 2\n",
    "# df_2 = pd.read_csv('C:\\\\Users\\\\ASUS\\\\Downloads\\\\geo_data_2.csv')\n",
    "df_2 = pd.read_csv('/datasets/geo_data_2.csv')\n",
    "df_2.head()"
   ]
  },
  {
   "cell_type": "code",
   "execution_count": 6,
   "id": "1b9a0f49",
   "metadata": {},
   "outputs": [
    {
     "name": "stdout",
     "output_type": "stream",
     "text": [
      "<class 'pandas.core.frame.DataFrame'>\n",
      "RangeIndex: 100000 entries, 0 to 99999\n",
      "Data columns (total 5 columns):\n",
      " #   Column   Non-Null Count   Dtype  \n",
      "---  ------   --------------   -----  \n",
      " 0   id       100000 non-null  object \n",
      " 1   f0       100000 non-null  float64\n",
      " 2   f1       100000 non-null  float64\n",
      " 3   f2       100000 non-null  float64\n",
      " 4   product  100000 non-null  float64\n",
      "dtypes: float64(4), object(1)\n",
      "memory usage: 3.8+ MB\n"
     ]
    }
   ],
   "source": [
    "df_2.info()"
   ]
  },
  {
   "cell_type": "markdown",
   "id": "43aaa4dd",
   "metadata": {},
   "source": [
    "### Посик дубликатов"
   ]
  },
  {
   "cell_type": "code",
   "execution_count": 7,
   "id": "93a037d0",
   "metadata": {},
   "outputs": [
    {
     "name": "stdout",
     "output_type": "stream",
     "text": [
      "0\n",
      "0\n",
      "0\n"
     ]
    }
   ],
   "source": [
    "print(df_0.duplicated().sum())\n",
    "print(df_1.duplicated().sum())\n",
    "print(df_2.duplicated().sum())"
   ]
  },
  {
   "cell_type": "code",
   "execution_count": 8,
   "id": "2689671f",
   "metadata": {},
   "outputs": [
    {
     "data": {
      "text/html": [
       "<div>\n",
       "<style scoped>\n",
       "    .dataframe tbody tr th:only-of-type {\n",
       "        vertical-align: middle;\n",
       "    }\n",
       "\n",
       "    .dataframe tbody tr th {\n",
       "        vertical-align: top;\n",
       "    }\n",
       "\n",
       "    .dataframe thead th {\n",
       "        text-align: right;\n",
       "    }\n",
       "</style>\n",
       "<table border=\"1\" class=\"dataframe\">\n",
       "  <thead>\n",
       "    <tr style=\"text-align: right;\">\n",
       "      <th></th>\n",
       "      <th>id</th>\n",
       "      <th>f0</th>\n",
       "      <th>f1</th>\n",
       "      <th>f2</th>\n",
       "      <th>product</th>\n",
       "    </tr>\n",
       "  </thead>\n",
       "  <tbody>\n",
       "    <tr>\n",
       "      <th>7530</th>\n",
       "      <td>HZww2</td>\n",
       "      <td>1.061194</td>\n",
       "      <td>-0.373969</td>\n",
       "      <td>10.430210</td>\n",
       "      <td>158.828695</td>\n",
       "    </tr>\n",
       "    <tr>\n",
       "      <th>41724</th>\n",
       "      <td>bxg6G</td>\n",
       "      <td>-0.823752</td>\n",
       "      <td>0.546319</td>\n",
       "      <td>3.630479</td>\n",
       "      <td>93.007798</td>\n",
       "    </tr>\n",
       "    <tr>\n",
       "      <th>51970</th>\n",
       "      <td>A5aEY</td>\n",
       "      <td>-0.180335</td>\n",
       "      <td>0.935548</td>\n",
       "      <td>-2.094773</td>\n",
       "      <td>33.020205</td>\n",
       "    </tr>\n",
       "    <tr>\n",
       "      <th>63593</th>\n",
       "      <td>QcMuo</td>\n",
       "      <td>0.635635</td>\n",
       "      <td>-0.473422</td>\n",
       "      <td>0.862670</td>\n",
       "      <td>64.578675</td>\n",
       "    </tr>\n",
       "    <tr>\n",
       "      <th>66136</th>\n",
       "      <td>74z30</td>\n",
       "      <td>1.084962</td>\n",
       "      <td>-0.312358</td>\n",
       "      <td>6.990771</td>\n",
       "      <td>127.643327</td>\n",
       "    </tr>\n",
       "    <tr>\n",
       "      <th>69163</th>\n",
       "      <td>AGS9W</td>\n",
       "      <td>-0.933795</td>\n",
       "      <td>0.116194</td>\n",
       "      <td>-3.655896</td>\n",
       "      <td>19.230453</td>\n",
       "    </tr>\n",
       "    <tr>\n",
       "      <th>75715</th>\n",
       "      <td>Tdehs</td>\n",
       "      <td>0.112079</td>\n",
       "      <td>0.430296</td>\n",
       "      <td>3.218993</td>\n",
       "      <td>60.964018</td>\n",
       "    </tr>\n",
       "    <tr>\n",
       "      <th>90815</th>\n",
       "      <td>fiKDv</td>\n",
       "      <td>0.049883</td>\n",
       "      <td>0.841313</td>\n",
       "      <td>6.394613</td>\n",
       "      <td>137.346586</td>\n",
       "    </tr>\n",
       "    <tr>\n",
       "      <th>92341</th>\n",
       "      <td>TtcGQ</td>\n",
       "      <td>0.110711</td>\n",
       "      <td>1.022689</td>\n",
       "      <td>0.911381</td>\n",
       "      <td>101.318008</td>\n",
       "    </tr>\n",
       "    <tr>\n",
       "      <th>97785</th>\n",
       "      <td>bsk9y</td>\n",
       "      <td>0.378429</td>\n",
       "      <td>0.005837</td>\n",
       "      <td>0.160827</td>\n",
       "      <td>160.637302</td>\n",
       "    </tr>\n",
       "  </tbody>\n",
       "</table>\n",
       "</div>"
      ],
      "text/plain": [
       "          id        f0        f1         f2     product\n",
       "7530   HZww2  1.061194 -0.373969  10.430210  158.828695\n",
       "41724  bxg6G -0.823752  0.546319   3.630479   93.007798\n",
       "51970  A5aEY -0.180335  0.935548  -2.094773   33.020205\n",
       "63593  QcMuo  0.635635 -0.473422   0.862670   64.578675\n",
       "66136  74z30  1.084962 -0.312358   6.990771  127.643327\n",
       "69163  AGS9W -0.933795  0.116194  -3.655896   19.230453\n",
       "75715  Tdehs  0.112079  0.430296   3.218993   60.964018\n",
       "90815  fiKDv  0.049883  0.841313   6.394613  137.346586\n",
       "92341  TtcGQ  0.110711  1.022689   0.911381  101.318008\n",
       "97785  bsk9y  0.378429  0.005837   0.160827  160.637302"
      ]
     },
     "execution_count": 8,
     "metadata": {},
     "output_type": "execute_result"
    }
   ],
   "source": [
    "df_0[df_0.duplicated(subset='id')]"
   ]
  },
  {
   "cell_type": "code",
   "execution_count": 9,
   "id": "3264b6d7",
   "metadata": {},
   "outputs": [
    {
     "data": {
      "text/html": [
       "<div>\n",
       "<style scoped>\n",
       "    .dataframe tbody tr th:only-of-type {\n",
       "        vertical-align: middle;\n",
       "    }\n",
       "\n",
       "    .dataframe tbody tr th {\n",
       "        vertical-align: top;\n",
       "    }\n",
       "\n",
       "    .dataframe thead th {\n",
       "        text-align: right;\n",
       "    }\n",
       "</style>\n",
       "<table border=\"1\" class=\"dataframe\">\n",
       "  <thead>\n",
       "    <tr style=\"text-align: right;\">\n",
       "      <th></th>\n",
       "      <th>id</th>\n",
       "      <th>f0</th>\n",
       "      <th>f1</th>\n",
       "      <th>f2</th>\n",
       "      <th>product</th>\n",
       "    </tr>\n",
       "  </thead>\n",
       "  <tbody>\n",
       "  </tbody>\n",
       "</table>\n",
       "</div>"
      ],
      "text/plain": [
       "Empty DataFrame\n",
       "Columns: [id, f0, f1, f2, product]\n",
       "Index: []"
      ]
     },
     "execution_count": 9,
     "metadata": {},
     "output_type": "execute_result"
    }
   ],
   "source": [
    "df_0=df_0.drop_duplicates(subset='id')\n",
    "df_0[df_0.duplicated(subset='id')]"
   ]
  },
  {
   "cell_type": "code",
   "execution_count": 10,
   "id": "94f60efd",
   "metadata": {},
   "outputs": [
    {
     "data": {
      "text/html": [
       "<div>\n",
       "<style scoped>\n",
       "    .dataframe tbody tr th:only-of-type {\n",
       "        vertical-align: middle;\n",
       "    }\n",
       "\n",
       "    .dataframe tbody tr th {\n",
       "        vertical-align: top;\n",
       "    }\n",
       "\n",
       "    .dataframe thead th {\n",
       "        text-align: right;\n",
       "    }\n",
       "</style>\n",
       "<table border=\"1\" class=\"dataframe\">\n",
       "  <thead>\n",
       "    <tr style=\"text-align: right;\">\n",
       "      <th></th>\n",
       "      <th>id</th>\n",
       "      <th>f0</th>\n",
       "      <th>f1</th>\n",
       "      <th>f2</th>\n",
       "      <th>product</th>\n",
       "    </tr>\n",
       "  </thead>\n",
       "  <tbody>\n",
       "    <tr>\n",
       "      <th>41906</th>\n",
       "      <td>LHZR0</td>\n",
       "      <td>-8.989672</td>\n",
       "      <td>-4.286607</td>\n",
       "      <td>2.009139</td>\n",
       "      <td>57.085625</td>\n",
       "    </tr>\n",
       "    <tr>\n",
       "      <th>82178</th>\n",
       "      <td>bfPNe</td>\n",
       "      <td>-6.202799</td>\n",
       "      <td>-4.820045</td>\n",
       "      <td>2.995107</td>\n",
       "      <td>84.038886</td>\n",
       "    </tr>\n",
       "    <tr>\n",
       "      <th>82873</th>\n",
       "      <td>wt4Uk</td>\n",
       "      <td>10.259972</td>\n",
       "      <td>-9.376355</td>\n",
       "      <td>4.994297</td>\n",
       "      <td>134.766305</td>\n",
       "    </tr>\n",
       "    <tr>\n",
       "      <th>84461</th>\n",
       "      <td>5ltQ6</td>\n",
       "      <td>18.213839</td>\n",
       "      <td>2.191999</td>\n",
       "      <td>3.993869</td>\n",
       "      <td>107.813044</td>\n",
       "    </tr>\n",
       "  </tbody>\n",
       "</table>\n",
       "</div>"
      ],
      "text/plain": [
       "          id         f0        f1        f2     product\n",
       "41906  LHZR0  -8.989672 -4.286607  2.009139   57.085625\n",
       "82178  bfPNe  -6.202799 -4.820045  2.995107   84.038886\n",
       "82873  wt4Uk  10.259972 -9.376355  4.994297  134.766305\n",
       "84461  5ltQ6  18.213839  2.191999  3.993869  107.813044"
      ]
     },
     "execution_count": 10,
     "metadata": {},
     "output_type": "execute_result"
    }
   ],
   "source": [
    "df_1[df_1.duplicated(subset='id')]"
   ]
  },
  {
   "cell_type": "code",
   "execution_count": 11,
   "id": "f8e65c8a",
   "metadata": {},
   "outputs": [
    {
     "data": {
      "text/html": [
       "<div>\n",
       "<style scoped>\n",
       "    .dataframe tbody tr th:only-of-type {\n",
       "        vertical-align: middle;\n",
       "    }\n",
       "\n",
       "    .dataframe tbody tr th {\n",
       "        vertical-align: top;\n",
       "    }\n",
       "\n",
       "    .dataframe thead th {\n",
       "        text-align: right;\n",
       "    }\n",
       "</style>\n",
       "<table border=\"1\" class=\"dataframe\">\n",
       "  <thead>\n",
       "    <tr style=\"text-align: right;\">\n",
       "      <th></th>\n",
       "      <th>id</th>\n",
       "      <th>f0</th>\n",
       "      <th>f1</th>\n",
       "      <th>f2</th>\n",
       "      <th>product</th>\n",
       "    </tr>\n",
       "  </thead>\n",
       "  <tbody>\n",
       "  </tbody>\n",
       "</table>\n",
       "</div>"
      ],
      "text/plain": [
       "Empty DataFrame\n",
       "Columns: [id, f0, f1, f2, product]\n",
       "Index: []"
      ]
     },
     "execution_count": 11,
     "metadata": {},
     "output_type": "execute_result"
    }
   ],
   "source": [
    "df_1=df_1.drop_duplicates(subset='id')\n",
    "df_1[df_1.duplicated(subset='id')]"
   ]
  },
  {
   "cell_type": "code",
   "execution_count": 12,
   "id": "0a4dc5a0",
   "metadata": {},
   "outputs": [
    {
     "data": {
      "text/html": [
       "<div>\n",
       "<style scoped>\n",
       "    .dataframe tbody tr th:only-of-type {\n",
       "        vertical-align: middle;\n",
       "    }\n",
       "\n",
       "    .dataframe tbody tr th {\n",
       "        vertical-align: top;\n",
       "    }\n",
       "\n",
       "    .dataframe thead th {\n",
       "        text-align: right;\n",
       "    }\n",
       "</style>\n",
       "<table border=\"1\" class=\"dataframe\">\n",
       "  <thead>\n",
       "    <tr style=\"text-align: right;\">\n",
       "      <th></th>\n",
       "      <th>id</th>\n",
       "      <th>f0</th>\n",
       "      <th>f1</th>\n",
       "      <th>f2</th>\n",
       "      <th>product</th>\n",
       "    </tr>\n",
       "  </thead>\n",
       "  <tbody>\n",
       "    <tr>\n",
       "      <th>43233</th>\n",
       "      <td>xCHr8</td>\n",
       "      <td>-0.847066</td>\n",
       "      <td>2.101796</td>\n",
       "      <td>5.597130</td>\n",
       "      <td>184.388641</td>\n",
       "    </tr>\n",
       "    <tr>\n",
       "      <th>49564</th>\n",
       "      <td>VF7Jo</td>\n",
       "      <td>-0.883115</td>\n",
       "      <td>0.560537</td>\n",
       "      <td>0.723601</td>\n",
       "      <td>136.233420</td>\n",
       "    </tr>\n",
       "    <tr>\n",
       "      <th>55967</th>\n",
       "      <td>KUPhW</td>\n",
       "      <td>1.211150</td>\n",
       "      <td>3.176408</td>\n",
       "      <td>5.543540</td>\n",
       "      <td>132.831802</td>\n",
       "    </tr>\n",
       "    <tr>\n",
       "      <th>95090</th>\n",
       "      <td>Vcm5J</td>\n",
       "      <td>2.587702</td>\n",
       "      <td>1.986875</td>\n",
       "      <td>2.482245</td>\n",
       "      <td>92.327572</td>\n",
       "    </tr>\n",
       "  </tbody>\n",
       "</table>\n",
       "</div>"
      ],
      "text/plain": [
       "          id        f0        f1        f2     product\n",
       "43233  xCHr8 -0.847066  2.101796  5.597130  184.388641\n",
       "49564  VF7Jo -0.883115  0.560537  0.723601  136.233420\n",
       "55967  KUPhW  1.211150  3.176408  5.543540  132.831802\n",
       "95090  Vcm5J  2.587702  1.986875  2.482245   92.327572"
      ]
     },
     "execution_count": 12,
     "metadata": {},
     "output_type": "execute_result"
    }
   ],
   "source": [
    "df_2[df_2.duplicated(subset='id')]"
   ]
  },
  {
   "cell_type": "code",
   "execution_count": null,
   "id": "1423314d",
   "metadata": {},
   "outputs": [],
   "source": [
    "df_2=df_2.drop_duplicates(subset='id')\n",
    "df_2[df_2.duplicated(subset='id')]"
   ]
  },
  {
   "cell_type": "markdown",
   "id": "a804d63d",
   "metadata": {},
   "source": [
    "Нашли не явные дубликаты в столбце 'id'. Т.к. их немного, можно от них избавиться - нет значимого влияния на статистику."
   ]
  },
  {
   "cell_type": "markdown",
   "id": "1dd1ed64",
   "metadata": {},
   "source": [
    "ВОПРОС:\n",
    "Каким образом можно было заменить пропущенные дубликаты, чтобы при замене они выдавали bool значение False, а не оставалось True?"
   ]
  },
  {
   "cell_type": "markdown",
   "id": "f0952b31",
   "metadata": {},
   "source": [
    "\n",
    "<div class=\"alert alert-block alert-info\">\n",
    "<b>Ответ </b> Извини, но я не до конца понял вопрос, ты удаляешь неявные дубликаты, о каких пропущенных дубликатах идет речь? И где они у тебя имено остаются в положении True?\n",
    "    \n",
    "</div>\n"
   ]
  },
  {
   "cell_type": "markdown",
   "id": "133c0fed",
   "metadata": {},
   "source": [
    "<div class=\"alert alert-block alert-success\">\n",
    "<b>Успех:</b> Данные можно было бы осмотреть подробнее, как минимум изучить корреляцию, так как планируется использовать линейные модели. Также не забывай про вывод\n",
    "     \n",
    "  \n",
    "</div>\n",
    "<div class=\"alert alert-block alert-info\">\n",
    "<b>Совет </b>  Советую обратить внимание на библиотеки sweetviz и pandas_profiling помогут в проведении более тщательного EDA анализа. Исследовательский анализ можно делать и с помощью ручного вызова функций дефолтных библиотек. Данные библиотеки хороши для максимизации комфорта презентации результатов анализа бизнес-пользователям. \n",
    "    \n",
    "Очень просты в использоовании, на вход кладется датафрейм: pandas_profiling.ProfileReport(df) \n",
    "    \n",
    "</div>\n"
   ]
  },
  {
   "cell_type": "markdown",
   "id": "071aabbb",
   "metadata": {},
   "source": [
    "<div class=\"alert alert-block alert-warning\">\n",
    "<b>Комментарий студента:</b> я хочу понять, как можно поменять имя 'id' у неявных дубликатов. Значения bool нахожу по функции df_2.duplicated(subset='id'). Честно, сейчас не успеваю изучить эти библиотеки, возможно, там и можно что-то поменять - посмотрю. Спасибо за совет!\n",
    "</div>"
   ]
  },
  {
   "cell_type": "markdown",
   "id": "0de8488a",
   "metadata": {},
   "source": [
    "<div class=\"alert alert-block alert-success\">\n",
    "    \n",
    "<b>Ответ[2]:</b> Если ты хочешь, чтобы был False, а не True добавь  минус: `-df_2[df_2.duplicated(subset='id')]`. А зачем менять у них имя, если мы дальше все равно избавляемся от этой колонки?\n",
    "     \n",
    "  \n",
    "</div>"
   ]
  },
  {
   "cell_type": "markdown",
   "id": "4c94d9ab",
   "metadata": {},
   "source": [
    "### Разбиение данных"
   ]
  },
  {
   "cell_type": "code",
   "execution_count": 15,
   "id": "5de3ba16",
   "metadata": {},
   "outputs": [
    {
     "name": "stdout",
     "output_type": "stream",
     "text": [
      "(74992, 3)\n",
      "(24998, 3)\n"
     ]
    }
   ],
   "source": [
    "#признаки региона 1\n",
    "target_0 = df_0['product']\n",
    "features_0 = df_0.drop(['id','product'],axis=1)\n",
    "features_train_0, features_valid_0, target_train_0, target_valid_0 = train_test_split(\n",
    "    features_0, target_0, test_size=0.25, random_state=12345)\n",
    "\n",
    "#масштабирование признаков\n",
    "scaler_0 = StandardScaler()\n",
    "scaler_0.fit(features_train_0)\n",
    "features_train_0 = scaler_0.transform(features_train_0)\n",
    "#преобразование валидационной выборки\n",
    "\n",
    "features_valid_0 = scaler_0.transform(features_valid_0)\n",
    "print(features_train_0.shape)\n",
    "print(features_valid_0.shape)"
   ]
  },
  {
   "cell_type": "code",
   "execution_count": 16,
   "id": "65d367b2",
   "metadata": {},
   "outputs": [
    {
     "name": "stdout",
     "output_type": "stream",
     "text": [
      "(74997, 3)\n",
      "(24999, 3)\n"
     ]
    }
   ],
   "source": [
    "#признаки региона 2\n",
    "target_1 = df_1['product']\n",
    "features_1 = df_1.drop(['id','product'],axis=1)\n",
    "features_train_1, features_valid_1, target_train_1, target_valid_1 = train_test_split(\n",
    "    features_1, target_1, test_size=0.25, random_state=12345)\n",
    "\n",
    "#масштабирование признаков\n",
    "scaler_1 = StandardScaler()\n",
    "scaler_1.fit(features_train_0)\n",
    "features_train_1 = scaler_1.transform(features_train_1)\n",
    "#преобразование валидационной выборки\n",
    "\n",
    "features_valid_1 = scaler_1.transform(features_valid_1)\n",
    "print(features_train_1.shape)\n",
    "print(features_valid_1.shape)"
   ]
  },
  {
   "cell_type": "code",
   "execution_count": 17,
   "id": "39cb8e45",
   "metadata": {},
   "outputs": [
    {
     "name": "stdout",
     "output_type": "stream",
     "text": [
      "(74997, 3)\n",
      "(24999, 3)\n"
     ]
    }
   ],
   "source": [
    "#признаки региона 3\n",
    "target_2 = df_2['product']\n",
    "features_2 = df_2.drop(['id','product'],axis=1)\n",
    "features_train_2, features_valid_2, target_train_2, target_valid_2 = train_test_split(\n",
    "    features_2, target_2, test_size=0.25, random_state=12345)\n",
    "\n",
    "#масштабирование признаков\n",
    "scaler_2 = StandardScaler()\n",
    "scaler_2.fit(features_train_2)\n",
    "features_train_2 = scaler_2.transform(features_train_2)\n",
    "#преобразование валидационной выборки\n",
    "\n",
    "features_valid_2 = scaler_2.transform(features_valid_2)\n",
    "print(features_train_2.shape)\n",
    "print(features_valid_2.shape)"
   ]
  },
  {
   "cell_type": "markdown",
   "id": "ba0e08b6",
   "metadata": {},
   "source": [
    "### Вывод"
   ]
  },
  {
   "cell_type": "markdown",
   "id": "ab8b382e",
   "metadata": {},
   "source": [
    "В данных отсутствовали пропуски, но присутствовали неявные дубликаты, которые убрали."
   ]
  },
  {
   "cell_type": "markdown",
   "id": "8175c82e",
   "metadata": {},
   "source": [
    "<div class=\"alert alert-block alert-success\">\n",
    "<b>Успех:</b> Отлично, что scaler обучен только на трейне"
   ]
  },
  {
   "cell_type": "markdown",
   "id": "6aa5d4b8",
   "metadata": {},
   "source": [
    "## Проверка модели для каждого региона"
   ]
  },
  {
   "cell_type": "markdown",
   "id": "c060b652",
   "metadata": {},
   "source": [
    "### Список из Датафреймов"
   ]
  },
  {
   "cell_type": "markdown",
   "id": "5eed4a0f",
   "metadata": {},
   "source": [
    "### Обучение модели"
   ]
  },
  {
   "cell_type": "code",
   "execution_count": 18,
   "id": "8e17388f",
   "metadata": {},
   "outputs": [],
   "source": [
    "#функция предсказани\n",
    "def predicted_valid(features_train,target_train,features_valid):\n",
    "    model=LinearRegression()\n",
    "    model.fit(features_train,target_train)\n",
    "    return model.predict(features_valid)\n",
    "#функция вычисления метрик\n",
    "def metrics(target_valid,predicted_valid,target_train):\n",
    "    mse = mean_squared_error(target_valid, predicted_valid)\n",
    "\n",
    "    print('Сравнение MSE и RMSE модели со средним:')\n",
    "    print()\n",
    "    print(\"Linear Regression\")\n",
    "    print(\"MSE =\", mse)\n",
    "    print(\"RMSE =\", mse ** 0.5)\n",
    "    print(\"R2 =\", r2_score(target_valid,predicted_valid))\n",
    "    print(mean_absolute_error(target_valid,predicted_valid))\n",
    "    print()\n",
    "\n",
    "    predicted_valid1 = pd.Series(target_train.mean(),index=target_valid.index)\n",
    "    mse = mean_squared_error(target_valid, predicted_valid1)\n",
    "    print(\"Mean\")\n",
    "    print(\"MSE =\", mse)\n",
    "    print(\"RMSE =\", mse ** 0.5)\n",
    "    print('Mean =', df_1['product'].mean())\n",
    "\n",
    "    print()\n",
    "    print('Сравнение MAE модели с медианным значением:')\n",
    "    print(\"Linear Regression\")\n",
    "    print(mean_absolute_error(target_valid, predicted_valid1))\n",
    "    print()\n",
    "\n",
    "    predicted_valid1 = pd.Series(target_train.median(),target_valid.index)# < напишите код здесь >\n",
    "    print(\"Median\")\n",
    "    print(mean_absolute_error(target_valid,predicted_valid1))"
   ]
  },
  {
   "cell_type": "code",
   "execution_count": 19,
   "id": "32799c99",
   "metadata": {},
   "outputs": [
    {
     "name": "stdout",
     "output_type": "stream",
     "text": [
      "Сравнение MSE и RMSE модели со средним:\n",
      "\n",
      "Linear Regression\n",
      "MSE = 1432.8895312377324\n",
      "RMSE = 37.853527328872964\n",
      "R2 = 0.2723923460817068\n",
      "31.141028675220266\n",
      "\n",
      "Mean\n",
      "MSE = 1969.5234938980077\n",
      "RMSE = 44.379313806074194\n",
      "Mean = 68.82391591806625\n",
      "\n",
      "Сравнение MAE модели с медианным значением:\n",
      "Linear Regression\n",
      "37.79437458881826\n",
      "\n",
      "Median\n",
      "37.78923861936353\n"
     ]
    }
   ],
   "source": [
    "#1 регион\n",
    "predicted_valid_0=predicted_valid(features_train_0,target_train_0,features_valid_0)\n",
    "metrics(target_valid_0,predicted_valid_0,target_train_0)"
   ]
  },
  {
   "cell_type": "markdown",
   "id": "7626080b",
   "metadata": {},
   "source": [
    "<div class=\"alert alert-block alert-danger\">\n",
    "    \n",
    "<b>Ошибка:</b> А зачем ты в переменную `predicted_valid_0` кладешь серию из средних или медиан, в итоге затираешь обычные предсказания и дальше в бутстрапе используешь некорректные значения?\n",
    "</div>"
   ]
  },
  {
   "cell_type": "code",
   "execution_count": 20,
   "id": "20ec581d",
   "metadata": {},
   "outputs": [
    {
     "name": "stdout",
     "output_type": "stream",
     "text": [
      "Сравнение MSE и RMSE модели со средним:\n",
      "\n",
      "Linear Regression\n",
      "MSE = 0.7957697318650315\n",
      "RMSE = 0.8920592647717032\n",
      "R2 = 0.9996222988190184\n",
      "0.7193530096516102\n",
      "\n",
      "Mean\n",
      "MSE = 2107.1096045596773\n",
      "RMSE = 45.90326355020607\n",
      "Mean = 68.82391591806625\n",
      "\n",
      "Сравнение MAE модели с медианным значением:\n",
      "Linear Regression\n",
      "40.25438390789976\n",
      "\n",
      "Median\n",
      "40.27343750437264\n"
     ]
    }
   ],
   "source": [
    "#2 регион\n",
    "predicted_valid_1=predicted_valid(features_train_1,target_train_1,features_valid_1)\n",
    "metrics(target_valid_1,predicted_valid_1,target_train_1)"
   ]
  },
  {
   "cell_type": "markdown",
   "id": "c9f90a13",
   "metadata": {},
   "source": [
    "<div class=\"alert alert-block alert-danger\">\n",
    "    \n",
    "<b>Ошибка:</b> И здесь\n",
    "</div>"
   ]
  },
  {
   "cell_type": "code",
   "execution_count": 21,
   "id": "13bf17fe",
   "metadata": {
    "scrolled": true
   },
   "outputs": [
    {
     "name": "stdout",
     "output_type": "stream",
     "text": [
      "Сравнение MSE и RMSE модели со средним:\n",
      "\n",
      "Linear Regression\n",
      "MSE = 1606.0738119304278\n",
      "RMSE = 40.07585073246016\n",
      "R2 = 0.19556241810202346\n",
      "32.83139014902301\n",
      "\n",
      "Mean\n",
      "MSE = 1996.5984591908616\n",
      "RMSE = 44.68331298360565\n",
      "Mean = 68.82391591806625\n",
      "\n",
      "Сравнение MAE модели с медианным значением:\n",
      "Linear Regression\n",
      "37.75741108082467\n",
      "\n",
      "Median\n",
      "37.757163088120144\n"
     ]
    }
   ],
   "source": [
    "#3 регион\n",
    "predicted_valid_2=predicted_valid(features_train_2,target_train_2,features_valid_2)\n",
    "metrics(target_valid_2,predicted_valid_2,target_train_2)"
   ]
  },
  {
   "cell_type": "markdown",
   "id": "c0f9d3c6",
   "metadata": {},
   "source": [
    "<div class=\"alert alert-block alert-danger\">\n",
    "    \n",
    "<b>Ошибка:</b> Тоже самое\n",
    "</div>"
   ]
  },
  {
   "cell_type": "markdown",
   "id": "2f54964c",
   "metadata": {},
   "source": [
    "<div class=\"alert alert-block alert-warning\">\n",
    "<b>Изменения:</b> вернул предсказания - очень грубо ошибся, изначально этого не заметил. Добавил функцию результата предсказаний и вычисления метрик\n",
    "</div>"
   ]
  },
  {
   "cell_type": "markdown",
   "id": "04375422",
   "metadata": {},
   "source": [
    "<div class=\"alert alert-block alert-success\">\n",
    "<b>Успех[2]:</b> Ничего страшного, порой такие ошибки невнимательне мы совершаем, что 1 символ потом исправляем весь день) Это человеческий фактор. Главное, что ты это  легко понял и осознал)\n",
    "     \n",
    "  \n",
    "</div>"
   ]
  },
  {
   "cell_type": "markdown",
   "id": "d9bbd1e0",
   "metadata": {},
   "source": [
    "### Вывод"
   ]
  },
  {
   "cell_type": "markdown",
   "id": "282d7f86",
   "metadata": {},
   "source": [
    "Модель для 2го региона более точная, т.к. имеет наименьший показатель RMSE(<1). У остальных моделей RMSE > 37. В среднем в модель 1го и 3го региона ошибается на 37(тыс. баррелей). Модель 2го региона в среднем ошибается на 40(тыс. баррелей)"
   ]
  },
  {
   "cell_type": "markdown",
   "id": "ea4d48f2",
   "metadata": {},
   "source": [
    "<div class=\"alert alert-block alert-success\">\n",
    "    \n",
    "<b>Ответ:</b> А с чего ты взял, что модель не устойчива? Наборот можно говорить, что модель очень точная, в отличие от других регионов, где не важно, что на вход подается среднее значение или предсказаное значение\n",
    "</div>"
   ]
  },
  {
   "cell_type": "markdown",
   "id": "6087d9d4",
   "metadata": {},
   "source": [
    "<div class=\"alert alert-block alert-info\">\n",
    "<b>Совет:</b> Можно использовать циклы/функции и избежать дублирования кода\n",
    "</div>"
   ]
  },
  {
   "cell_type": "markdown",
   "id": "3cd35668",
   "metadata": {},
   "source": [
    "<div class=\"alert alert-block alert-warning\">\n",
    "<b>Комментарий студента:</b> принял, исправил предсказания и сделал новые выводы.\n",
    "</div>"
   ]
  },
  {
   "cell_type": "markdown",
   "id": "c3590eeb",
   "metadata": {},
   "source": [
    "<div class=\"alert alert-block alert-success\">\n",
    "<b>Успех[2]:</b> Стало намного лучше, молодец\n",
    "     \n",
    "  \n",
    "</div>"
   ]
  },
  {
   "cell_type": "markdown",
   "id": "4385eb34",
   "metadata": {},
   "source": [
    "## Подготовка к расчету прибыли"
   ]
  },
  {
   "cell_type": "markdown",
   "id": "6ba8412f",
   "metadata": {},
   "source": [
    "<div class=\"alert alert-block alert-warning\">\n",
    "<b>Изменения:</b> константные переменные написал с верхним регистром.\n",
    "</div>"
   ]
  },
  {
   "cell_type": "markdown",
   "id": "1f0b954e",
   "metadata": {},
   "source": [
    "<div class=\"alert alert-block alert-success\">\n",
    "<b>Успех[2]:</b> Есть\n",
    "     \n",
    "  \n",
    "</div>"
   ]
  },
  {
   "cell_type": "code",
   "execution_count": 22,
   "id": "a53c82bb",
   "metadata": {},
   "outputs": [],
   "source": [
    "#значения дл расчета\n",
    "PROFIT_BAR = 450000\n",
    "BUDGET = 10**10\n",
    "POINTS_FOR_BUDGET = 200"
   ]
  },
  {
   "cell_type": "markdown",
   "id": "d2144836",
   "metadata": {},
   "source": [
    "<div class=\"alert alert-block alert-info\">\n",
    "    \n",
    "<b>Совет:</b> Константы принято записывать в верхнем регистре. А большие значения можно записывать следующим образом: `profit_bar = 450_000` - записи индетичны"
   ]
  },
  {
   "cell_type": "code",
   "execution_count": 23,
   "id": "cdb78b28",
   "metadata": {},
   "outputs": [
    {
     "data": {
      "text/plain": [
       "50000000.0"
      ]
     },
     "execution_count": 23,
     "metadata": {},
     "output_type": "execute_result"
    }
   ],
   "source": [
    "#бюджет для скважины\n",
    "BUDGET_FOR_WELL=BUDGET/POINTS_FOR_BUDGET\n",
    "BUDGET_FOR_WELL"
   ]
  },
  {
   "cell_type": "code",
   "execution_count": 24,
   "id": "81ac1b7f",
   "metadata": {},
   "outputs": [
    {
     "data": {
      "text/plain": [
       "111.11111111111111"
      ]
     },
     "execution_count": 24,
     "metadata": {},
     "output_type": "execute_result"
    }
   ],
   "source": [
    "#достаточный объем сырья(тыс. баррелей)\n",
    "VOLUME=BUDGET_FOR_WELL/PROFIT_BAR\n",
    "VOLUME"
   ]
  },
  {
   "cell_type": "code",
   "execution_count": 25,
   "id": "1d05537b",
   "metadata": {},
   "outputs": [
    {
     "data": {
      "text/plain": [
       "92.49968421774328"
      ]
     },
     "execution_count": 25,
     "metadata": {},
     "output_type": "execute_result"
    }
   ],
   "source": [
    "#средний запас в регионе 1\n",
    "df_0['product'].mean()"
   ]
  },
  {
   "cell_type": "code",
   "execution_count": 26,
   "id": "32ec1e00",
   "metadata": {},
   "outputs": [
    {
     "data": {
      "text/plain": [
       "68.82391591806625"
      ]
     },
     "execution_count": 26,
     "metadata": {},
     "output_type": "execute_result"
    }
   ],
   "source": [
    "#средний запас в регионе 2\n",
    "df_1['product'].mean()"
   ]
  },
  {
   "cell_type": "code",
   "execution_count": 27,
   "id": "22615248",
   "metadata": {},
   "outputs": [
    {
     "data": {
      "text/plain": [
       "94.99834211933415"
      ]
     },
     "execution_count": 27,
     "metadata": {},
     "output_type": "execute_result"
    }
   ],
   "source": [
    "#средний запас в регионе 3\n",
    "df_2['product'].mean()"
   ]
  },
  {
   "cell_type": "markdown",
   "id": "0e07620a",
   "metadata": {},
   "source": [
    "### Вывод"
   ]
  },
  {
   "cell_type": "markdown",
   "id": "6db1eeb7",
   "metadata": {},
   "source": [
    "Если сравнивать среднее значение объема сырья регионов с достаточным объемом сырья для неотрицательной прибыли, то можно заметить, что все региона испытывают недостаток. 1 регион на 18,5(тыс. баррелей); 2 регион - 42,2(тыс. баррелей); 3 регион - 16(тыс. баррелей)."
   ]
  },
  {
   "cell_type": "markdown",
   "id": "ecbaf873",
   "metadata": {},
   "source": [
    "<div class=\"alert alert-block alert-success\">\n",
    "<b>Успех:</b> Значение для безубыточной разработки посчитано верно, с выводом согласен\n",
    "  \n",
    "</div>\n"
   ]
  },
  {
   "cell_type": "markdown",
   "id": "561aca60",
   "metadata": {},
   "source": [
    "## Функция для расчета прибыли"
   ]
  },
  {
   "cell_type": "code",
   "execution_count": 28,
   "id": "5a858a7a",
   "metadata": {},
   "outputs": [],
   "source": [
    "def revenue(target, predictions_valid, count):\n",
    "    probs_sorted = predictions_valid.sort_values(ascending=False)\n",
    "    selected = target[probs_sorted.index][:count]\n",
    "    return PROFIT_BAR * selected.sum() - BUDGET"
   ]
  },
  {
   "cell_type": "markdown",
   "id": "5897d676",
   "metadata": {},
   "source": [
    "<div class=\"alert alert-block alert-info\">\n",
    "    \n",
    "<b>Совет:</b> Функция определена правильно, почему бы не занести вычитание `budget` в функцию, чтобы потом везде не выполнять данное действие?\n",
    "  \n",
    "</div>\n"
   ]
  },
  {
   "cell_type": "markdown",
   "id": "bd4bca32",
   "metadata": {},
   "source": [
    "<div class=\"alert alert-block alert-warning\">\n",
    "<b>Комментарий студента:</b> согласен, логично.\n",
    "</div>"
   ]
  },
  {
   "cell_type": "markdown",
   "id": "ff3c9cab",
   "metadata": {},
   "source": [
    "<div class=\"alert alert-block alert-warning\">\n",
    "<b>Изменения:</b> в возвращении своей функции добавил вычитание расходов из доходов.\n",
    "</div>"
   ]
  },
  {
   "cell_type": "markdown",
   "id": "e6d446b8",
   "metadata": {},
   "source": [
    "<div class=\"alert alert-block alert-success\">\n",
    "<b>Успех[2]:</b> Есть контакт\n",
    "     \n",
    "  \n",
    "</div>"
   ]
  },
  {
   "cell_type": "markdown",
   "id": "9dc84c39",
   "metadata": {},
   "source": [
    "## Риски и прибыль для каждого региона"
   ]
  },
  {
   "cell_type": "markdown",
   "id": "826ca94d",
   "metadata": {},
   "source": [
    "### Распределение прибыли"
   ]
  },
  {
   "cell_type": "markdown",
   "id": "3776fccf",
   "metadata": {},
   "source": [
    "<div class=\"alert alert-block alert-warning\">\n",
    "<b>Изменения:</b> добавил функцию.\n",
    "</div>"
   ]
  },
  {
   "cell_type": "code",
   "execution_count": 29,
   "id": "9dfc701c",
   "metadata": {},
   "outputs": [],
   "source": [
    "def append_value(target_valid,predicted_valid):\n",
    "    state = np.random.RandomState(12345)\n",
    "    values = []\n",
    "    for i in range(1000):\n",
    "        target_subsample = target_valid.sample(frac=None, replace=True, random_state=state, n=500, axis=0)\n",
    "        probs_subsample = pd.Series(data=predicted_valid, index=target_valid.index)[target_subsample.index]\n",
    "        values.append(revenue(target_subsample, probs_subsample, 200))\n",
    "    return values"
   ]
  },
  {
   "cell_type": "code",
   "execution_count": 30,
   "id": "61301bab",
   "metadata": {},
   "outputs": [],
   "source": [
    "#1 регион\n",
    "values_0 = append_value(target_valid_0,predicted_valid_0)"
   ]
  },
  {
   "cell_type": "code",
   "execution_count": 31,
   "id": "8b810c5d",
   "metadata": {},
   "outputs": [],
   "source": [
    "#2 регион\n",
    "values_1 = append_value(target_valid_1,predicted_valid_1)"
   ]
  },
  {
   "cell_type": "code",
   "execution_count": 32,
   "id": "8ff27ab8",
   "metadata": {},
   "outputs": [],
   "source": [
    "#3 регион\n",
    "values_2 = append_value(target_valid_2,predicted_valid_2)"
   ]
  },
  {
   "cell_type": "markdown",
   "id": "a1c2eba3",
   "metadata": {},
   "source": [
    "<div class=\"alert alert-block alert-success\">\n",
    "<b>Успех:</b> Бутстрап определен верно\n",
    "  \n",
    "</div>\n"
   ]
  },
  {
   "cell_type": "markdown",
   "id": "ebedbb92",
   "metadata": {},
   "source": [
    "### Cредняя прибыль, 95%-й доверительный интервал и риск убытков"
   ]
  },
  {
   "cell_type": "code",
   "execution_count": 33,
   "id": "8853bb31",
   "metadata": {},
   "outputs": [],
   "source": [
    "values_0=pd.Series(values_0)\n",
    "values_1=pd.Series(values_1)\n",
    "values_2=pd.Series(values_2)"
   ]
  },
  {
   "cell_type": "code",
   "execution_count": 34,
   "id": "572082bd",
   "metadata": {},
   "outputs": [],
   "source": [
    "def mark_region(values):\n",
    "    print('Средняя прибыль',values.mean())#средняя прибыль\n",
    "\n",
    "    print(\"95%-ый доверительный интервал:\", 'от',values.quantile(0.025),'до',values.quantile(0.975))\n",
    "    risk=len(values.loc[values<0])/len(values) * 100\n",
    "    print('Риск =',risk)"
   ]
  },
  {
   "cell_type": "code",
   "execution_count": 35,
   "id": "bcc9f83d",
   "metadata": {},
   "outputs": [
    {
     "name": "stdout",
     "output_type": "stream",
     "text": [
      "Средняя прибыль 409428038.6214359\n",
      "95%-ый доверительный интервал: от -131536028.70166382 до 944395582.7546725\n",
      "Риск = 7.1\n"
     ]
    }
   ],
   "source": [
    "#1 регион\n",
    "mark_region(values_0)"
   ]
  },
  {
   "cell_type": "code",
   "execution_count": 36,
   "id": "657034ec",
   "metadata": {},
   "outputs": [
    {
     "name": "stdout",
     "output_type": "stream",
     "text": [
      "Средняя прибыль 536902587.4874535\n",
      "95%-ый доверительный интервал: от 114527902.9023869 до 970787910.9953709\n",
      "Риск = 0.8999999999999999\n"
     ]
    }
   ],
   "source": [
    "#2 регион\n",
    "mark_region(values_1)"
   ]
  },
  {
   "cell_type": "code",
   "execution_count": 37,
   "id": "81d05b5f",
   "metadata": {},
   "outputs": [
    {
     "name": "stdout",
     "output_type": "stream",
     "text": [
      "Средняя прибыль 353790362.7309422\n",
      "95%-ый доверительный интервал: от -159194031.1913282 до 875652502.8711312\n",
      "Риск = 10.2\n"
     ]
    }
   ],
   "source": [
    "#3 регион\n",
    "mark_region(values_2)"
   ]
  },
  {
   "cell_type": "markdown",
   "id": "31e6a1e1",
   "metadata": {},
   "source": [
    "<div class=\"alert alert-block alert-danger\">\n",
    "    \n",
    "<b>Ошибка:</b> Риски это не верхняя граница дов.интервала. Это доля отрицательных прибылей в списке `values_i`\n",
    "  \n",
    "</div>\n"
   ]
  },
  {
   "cell_type": "markdown",
   "id": "8adc773d",
   "metadata": {},
   "source": [
    "<div class=\"alert alert-block alert-warning\">\n",
    "<b>Комментарий студента:</b> принял, как раз теперь в моей выборке появились положительные показатели прибыли, помимо отрицательны. На основе этого сделал соответствующие выводы.\n",
    "</div>"
   ]
  },
  {
   "cell_type": "markdown",
   "id": "413e0109",
   "metadata": {},
   "source": [
    "<div class=\"alert alert-block alert-warning\">\n",
    "<b>Изменения:</b> добавил функцию.\n",
    "</div>"
   ]
  },
  {
   "cell_type": "markdown",
   "id": "8edb2c73",
   "metadata": {},
   "source": [
    "<div class=\"alert alert-block alert-success\">\n",
    "<b>Успех[2]:</b> Теперь все метрики считаются правильно!\n",
    "     \n",
    "  \n",
    "</div>"
   ]
  },
  {
   "cell_type": "markdown",
   "id": "1c647c1a",
   "metadata": {},
   "source": [
    "### Вывод"
   ]
  },
  {
   "cell_type": "markdown",
   "id": "a3b790a1",
   "metadata": {},
   "source": [
    "Выбираем 2й регион.\n",
    "\n",
    "2 регион прошел проверку на риск убытка - составляет примерно 0,9%. У остальных регионов риск убытка больше 7%."
   ]
  },
  {
   "cell_type": "markdown",
   "id": "b35f313f",
   "metadata": {},
   "source": [
    "<div class=\"alert alert-block alert-info\">\n",
    "    \n",
    "<b>Совет:</b> Тут циклы и функции тоже будут весьма кстати"
   ]
  },
  {
   "cell_type": "markdown",
   "id": "67778256",
   "metadata": {},
   "source": [
    "<div class=\"alert alert-block alert-warning\">\n",
    "<b>Комментарий студента:</b> принял, исправил.\n",
    "</div>"
   ]
  },
  {
   "cell_type": "markdown",
   "id": "160cf987",
   "metadata": {},
   "source": [
    "<div class=\"alert alert-block alert-success\">\n",
    "<b>Успех[2]:</b> Отлично\n",
    "     \n",
    "  \n",
    "</div>"
   ]
  },
  {
   "cell_type": "markdown",
   "id": "8f7ad9cc",
   "metadata": {},
   "source": [
    "## Общий вывод по регионам"
   ]
  },
  {
   "cell_type": "markdown",
   "id": "c75982b0",
   "metadata": {},
   "source": [
    "1 регион:\n",
    "1)Модель менее точна в сравнении с моделью 2го региона. Среднее значение объема(в тыс. бареллей) имеет недостаток до достаточного объема сырья на 18,5 тыс. бареллей.\n",
    "2)Риск убытка составляет 7,1%.\n",
    "\n",
    "2 регион:\n",
    "1)Более точная модель. Среднее значение объема(в тыс. бареллей) имеет недостаток до достаточного объема сырья на 42,2 тыс. бареллей.\n",
    "2)Риск убытка составляет 0,9%.\n",
    "\n",
    "3 регион:\n",
    "1)Модель менее точна в сравнении с моделью 2го региона. Среднее значение объема(в тыс. бареллей) имеет недостаток до достаточного объема сырья на 16 тыс. бареллей.\n",
    "2)Риск убытка составляет 10,2%.\n",
    "\n",
    "Более рентабилен оказался 2й регион по всем показателям, выбрали его по условию задачи."
   ]
  },
  {
   "cell_type": "markdown",
   "id": "998bfd44",
   "metadata": {},
   "source": [
    "<div class=\"alert alert-block alert-info\">\n",
    "    \n",
    "<b>Совет:</b> Не забудь обновить вывод"
   ]
  },
  {
   "cell_type": "markdown",
   "id": "67bde50b",
   "metadata": {},
   "source": [
    "<div class=\"alert alert-block alert-warning\">\n",
    "<b>Изменения:</b> вывод.\n",
    "</div>"
   ]
  },
  {
   "cell_type": "markdown",
   "id": "e085f506",
   "metadata": {},
   "source": [
    "<div class=\"alert alert-block alert-danger\">\n",
    "    \n",
    "<b>Ошибка[2]:</b> Отлично, проведено детальное исследование! Но верно ли ты выбрал регион? Прочитай пожалуйста внимательнее: `После оценки рисков нужно оставить лишь те регионы, в которых вероятность убытков меньше 2.5%. Среди них выбирают регион с наибольшей средней прибылью.`\n",
    "     \n",
    "  \n",
    "</div>"
   ]
  },
  {
   "cell_type": "markdown",
   "id": "3fa1d8c4",
   "metadata": {},
   "source": [
    "<div class=\"alert alert-block alert-danger\">\n",
    "    \n",
    "<b>Ошибка[3]:</b> Мы не можем выбрать 3-ий регион, у него риск убытков больше 2.5% и средняя прибыль не самая большая\n",
    "     \n",
    "  \n",
    "</div>"
   ]
  },
  {
   "cell_type": "markdown",
   "id": "19aa5827",
   "metadata": {},
   "source": [
    "<div class=\"alert alert-block alert-warning\">\n",
    "<b>Комментарий студента[3]:</b> прошу прощения. показалось что отправил новую версию, оказалось не так. Принял. Исправил. Там в предыдущем выводе как раз и был 2 регион, но в общем выводе забыл исправить. Спасибо!\n",
    "</div>"
   ]
  },
  {
   "cell_type": "markdown",
   "id": "9da0d459",
   "metadata": {},
   "source": [
    "<div class=\"alert alert-block alert-success\">\n",
    "\n",
    "<b>Успех[4]:</b> Ничего страшного, главное, что ты подразумевал правильный регион. Меня и смутило, что в предыдущем выводе 2 регион, а здесь 3. Решил спросить у тебя) Проведено детальное исследование, молодец!\n",
    "</div>"
   ]
  },
  {
   "cell_type": "markdown",
   "id": "2fc48a50",
   "metadata": {},
   "source": [
    "### Вопросы"
   ]
  },
  {
   "cell_type": "markdown",
   "id": "72bdbb6f",
   "metadata": {},
   "source": [
    "Что показатели MSE и RMSE дают понять мне, как специалисту? И как правильно с ними работать и их воспринимать?"
   ]
  },
  {
   "cell_type": "markdown",
   "id": "54d23871",
   "metadata": {},
   "source": [
    "<div class=\"alert alert-block alert-info\">\n",
    "    \n",
    "<b>Ответ:</b> Данные метрики используются в сравнении между моделями. Эти показатели говорят нам, насколько точны наши прогнозы и какова величина отклонения от фактических значений. Чем ниже RMSE, тем лучше модель соответствует набору данных."
   ]
  },
  {
   "cell_type": "markdown",
   "id": "902f7172",
   "metadata": {},
   "source": [
    "<div class=\"alert alert-block alert-warning\">\n",
    "<b>Комментарий студента:</b> понял, спасибо большое! Постарался все исправить.\n",
    "</div>"
   ]
  },
  {
   "cell_type": "code",
   "execution_count": null,
   "id": "380baf0f",
   "metadata": {},
   "outputs": [],
   "source": []
  }
 ],
 "metadata": {
  "ExecuteTimeLog": [
   {
    "duration": 1484,
    "start_time": "2022-10-24T22:09:42.937Z"
   },
   {
    "duration": 370,
    "start_time": "2022-10-24T22:09:44.424Z"
   },
   {
    "duration": 13,
    "start_time": "2022-10-24T22:09:44.796Z"
   },
   {
    "duration": 196,
    "start_time": "2022-10-24T22:09:44.810Z"
   },
   {
    "duration": 12,
    "start_time": "2022-10-24T22:09:45.008Z"
   },
   {
    "duration": 199,
    "start_time": "2022-10-24T22:09:45.021Z"
   },
   {
    "duration": 11,
    "start_time": "2022-10-24T22:09:45.221Z"
   },
   {
    "duration": 107,
    "start_time": "2022-10-24T22:09:45.233Z"
   },
   {
    "duration": 23,
    "start_time": "2022-10-24T22:09:45.342Z"
   },
   {
    "duration": 43,
    "start_time": "2022-10-24T22:09:45.366Z"
   },
   {
    "duration": 23,
    "start_time": "2022-10-24T22:09:45.410Z"
   },
   {
    "duration": 42,
    "start_time": "2022-10-24T22:09:45.435Z"
   },
   {
    "duration": 45,
    "start_time": "2022-10-24T22:09:45.478Z"
   },
   {
    "duration": 45,
    "start_time": "2022-10-24T22:09:45.526Z"
   },
   {
    "duration": 44,
    "start_time": "2022-10-24T22:09:45.572Z"
   },
   {
    "duration": 23,
    "start_time": "2022-10-24T22:09:45.617Z"
   },
   {
    "duration": 22,
    "start_time": "2022-10-24T22:09:45.642Z"
   },
   {
    "duration": 136,
    "start_time": "2022-10-24T22:09:45.666Z"
   },
   {
    "duration": 106,
    "start_time": "2022-10-24T22:09:45.803Z"
   },
   {
    "duration": 104,
    "start_time": "2022-10-24T22:09:46.001Z"
   },
   {
    "duration": 3,
    "start_time": "2022-10-24T22:09:46.106Z"
   },
   {
    "duration": 3,
    "start_time": "2022-10-24T22:09:46.201Z"
   },
   {
    "duration": 8,
    "start_time": "2022-10-24T22:09:46.206Z"
   },
   {
    "duration": 9,
    "start_time": "2022-10-24T22:09:46.215Z"
   },
   {
    "duration": 5,
    "start_time": "2022-10-24T22:09:46.225Z"
   },
   {
    "duration": 4,
    "start_time": "2022-10-24T22:09:46.232Z"
   },
   {
    "duration": 3,
    "start_time": "2022-10-24T22:09:46.238Z"
   },
   {
    "duration": 1240,
    "start_time": "2022-10-24T22:09:46.243Z"
   },
   {
    "duration": 1189,
    "start_time": "2022-10-24T22:09:47.485Z"
   },
   {
    "duration": 1183,
    "start_time": "2022-10-24T22:09:48.675Z"
   },
   {
    "duration": 3,
    "start_time": "2022-10-24T22:09:49.860Z"
   },
   {
    "duration": 8,
    "start_time": "2022-10-24T22:09:49.864Z"
   },
   {
    "duration": 13,
    "start_time": "2022-10-24T22:09:49.874Z"
   },
   {
    "duration": 17,
    "start_time": "2022-10-24T22:09:49.888Z"
   },
   {
    "duration": 6,
    "start_time": "2022-10-24T22:10:18.906Z"
   },
   {
    "duration": 1255,
    "start_time": "2022-10-25T09:55:35.838Z"
   },
   {
    "duration": 412,
    "start_time": "2022-10-25T09:55:37.095Z"
   },
   {
    "duration": 15,
    "start_time": "2022-10-25T09:55:37.508Z"
   },
   {
    "duration": 205,
    "start_time": "2022-10-25T09:55:37.525Z"
   },
   {
    "duration": 13,
    "start_time": "2022-10-25T09:55:37.732Z"
   },
   {
    "duration": 205,
    "start_time": "2022-10-25T09:55:37.747Z"
   },
   {
    "duration": 14,
    "start_time": "2022-10-25T09:55:37.953Z"
   },
   {
    "duration": 123,
    "start_time": "2022-10-25T09:55:37.969Z"
   },
   {
    "duration": 26,
    "start_time": "2022-10-25T09:55:38.093Z"
   },
   {
    "duration": 48,
    "start_time": "2022-10-25T09:55:38.121Z"
   },
   {
    "duration": 25,
    "start_time": "2022-10-25T09:55:38.171Z"
   },
   {
    "duration": 69,
    "start_time": "2022-10-25T09:55:38.198Z"
   },
   {
    "duration": 26,
    "start_time": "2022-10-25T09:55:38.268Z"
   },
   {
    "duration": 63,
    "start_time": "2022-10-25T09:55:38.297Z"
   },
   {
    "duration": 26,
    "start_time": "2022-10-25T09:55:38.362Z"
   },
   {
    "duration": 23,
    "start_time": "2022-10-25T09:55:38.389Z"
   },
   {
    "duration": 39,
    "start_time": "2022-10-25T09:55:38.414Z"
   },
   {
    "duration": 188,
    "start_time": "2022-10-25T09:55:38.454Z"
   },
   {
    "duration": 104,
    "start_time": "2022-10-25T09:55:38.644Z"
   },
   {
    "duration": 102,
    "start_time": "2022-10-25T09:55:38.839Z"
   },
   {
    "duration": 94,
    "start_time": "2022-10-25T09:55:38.949Z"
   },
   {
    "duration": 7,
    "start_time": "2022-10-25T09:55:39.044Z"
   },
   {
    "duration": 6,
    "start_time": "2022-10-25T09:55:39.052Z"
   },
   {
    "duration": 7,
    "start_time": "2022-10-25T09:55:39.059Z"
   },
   {
    "duration": 8,
    "start_time": "2022-10-25T09:55:39.068Z"
   },
   {
    "duration": 5,
    "start_time": "2022-10-25T09:55:39.077Z"
   },
   {
    "duration": 11,
    "start_time": "2022-10-25T09:55:39.083Z"
   },
   {
    "duration": 1328,
    "start_time": "2022-10-25T09:55:39.095Z"
   },
   {
    "duration": 1343,
    "start_time": "2022-10-25T09:55:40.425Z"
   },
   {
    "duration": 1266,
    "start_time": "2022-10-25T09:55:41.770Z"
   },
   {
    "duration": 4,
    "start_time": "2022-10-25T09:55:43.038Z"
   },
   {
    "duration": 9,
    "start_time": "2022-10-25T09:55:43.044Z"
   },
   {
    "duration": 7,
    "start_time": "2022-10-25T09:55:43.055Z"
   },
   {
    "duration": 6,
    "start_time": "2022-10-25T09:55:43.064Z"
   },
   {
    "duration": 1320,
    "start_time": "2022-10-25T09:57:19.961Z"
   },
   {
    "duration": 5,
    "start_time": "2022-10-25T09:57:24.046Z"
   },
   {
    "duration": 5,
    "start_time": "2022-10-25T09:57:29.864Z"
   },
   {
    "duration": 28,
    "start_time": "2022-10-25T10:04:39.958Z"
   },
   {
    "duration": 2295,
    "start_time": "2022-10-25T20:31:46.133Z"
   },
   {
    "duration": 120,
    "start_time": "2022-10-25T20:31:48.429Z"
   },
   {
    "duration": 0,
    "start_time": "2022-10-25T20:31:48.550Z"
   },
   {
    "duration": 0,
    "start_time": "2022-10-25T20:31:48.552Z"
   },
   {
    "duration": 0,
    "start_time": "2022-10-25T20:31:48.553Z"
   },
   {
    "duration": 0,
    "start_time": "2022-10-25T20:31:48.554Z"
   },
   {
    "duration": 0,
    "start_time": "2022-10-25T20:31:48.555Z"
   },
   {
    "duration": 0,
    "start_time": "2022-10-25T20:31:48.556Z"
   },
   {
    "duration": 0,
    "start_time": "2022-10-25T20:31:48.557Z"
   },
   {
    "duration": 0,
    "start_time": "2022-10-25T20:31:48.558Z"
   },
   {
    "duration": 0,
    "start_time": "2022-10-25T20:31:48.559Z"
   },
   {
    "duration": 0,
    "start_time": "2022-10-25T20:31:48.560Z"
   },
   {
    "duration": 0,
    "start_time": "2022-10-25T20:31:48.560Z"
   },
   {
    "duration": 0,
    "start_time": "2022-10-25T20:31:48.561Z"
   },
   {
    "duration": 354,
    "start_time": "2022-10-25T20:31:59.890Z"
   },
   {
    "duration": 210,
    "start_time": "2022-10-25T20:32:04.351Z"
   },
   {
    "duration": 205,
    "start_time": "2022-10-25T20:32:07.990Z"
   },
   {
    "duration": 13,
    "start_time": "2022-10-25T20:32:08.197Z"
   },
   {
    "duration": 122,
    "start_time": "2022-10-25T20:32:08.791Z"
   },
   {
    "duration": 34,
    "start_time": "2022-10-25T20:32:09.101Z"
   },
   {
    "duration": 48,
    "start_time": "2022-10-25T20:32:09.281Z"
   },
   {
    "duration": 24,
    "start_time": "2022-10-25T20:32:09.470Z"
   },
   {
    "duration": 40,
    "start_time": "2022-10-25T20:32:09.651Z"
   },
   {
    "duration": 24,
    "start_time": "2022-10-25T20:32:09.870Z"
   },
   {
    "duration": 22,
    "start_time": "2022-10-25T20:32:14.761Z"
   },
   {
    "duration": 28,
    "start_time": "2022-10-25T20:32:31.488Z"
   },
   {
    "duration": 55,
    "start_time": "2022-10-25T20:32:34.770Z"
   },
   {
    "duration": 23,
    "start_time": "2022-10-25T20:32:36.380Z"
   },
   {
    "duration": 21,
    "start_time": "2022-10-25T20:33:20.959Z"
   },
   {
    "duration": 8,
    "start_time": "2022-10-25T20:33:24.371Z"
   },
   {
    "duration": 28,
    "start_time": "2022-10-25T20:33:29.210Z"
   },
   {
    "duration": 14,
    "start_time": "2022-10-25T20:33:50.257Z"
   },
   {
    "duration": 26,
    "start_time": "2022-10-25T20:33:51.671Z"
   },
   {
    "duration": 7,
    "start_time": "2022-10-25T20:34:40.585Z"
   },
   {
    "duration": 13,
    "start_time": "2022-10-25T20:34:42.541Z"
   }
  ],
  "kernelspec": {
   "display_name": "Python 3 (ipykernel)",
   "language": "python",
   "name": "python3"
  },
  "language_info": {
   "codemirror_mode": {
    "name": "ipython",
    "version": 3
   },
   "file_extension": ".py",
   "mimetype": "text/x-python",
   "name": "python",
   "nbconvert_exporter": "python",
   "pygments_lexer": "ipython3",
   "version": "3.10.9"
  },
  "toc": {
   "base_numbering": 1,
   "nav_menu": {},
   "number_sections": true,
   "sideBar": true,
   "skip_h1_title": true,
   "title_cell": "Table of Contents",
   "title_sidebar": "Contents",
   "toc_cell": false,
   "toc_position": {},
   "toc_section_display": true,
   "toc_window_display": false
  }
 },
 "nbformat": 4,
 "nbformat_minor": 5
}
