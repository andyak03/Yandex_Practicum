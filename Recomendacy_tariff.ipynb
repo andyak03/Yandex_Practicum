{
 "cells": [
  {
   "cell_type": "markdown",
   "id": "7a77a307",
   "metadata": {},
   "source": [
    "# Рекомендация тарифов"
   ]
  },
  {
   "cell_type": "markdown",
   "id": "59917eb8",
   "metadata": {},
   "source": [
    "## Описание проекта"
   ]
  },
  {
   "cell_type": "markdown",
   "id": "90bca970",
   "metadata": {},
   "source": [
    "Оператор мобильной связи «Мегалайн» выяснил: многие клиенты пользуются архивными тарифами. Они хотят построить систему, способную проанализировать поведение клиентов и предложить пользователям новый тариф: «Смарт» или «Ультра».\n",
    "В вашем распоряжении данные о поведении клиентов, которые уже перешли на эти тарифы (из проекта курса «Статистический анализ данных»). Нужно построить модель для задачи классификации, которая выберет подходящий тариф. Предобработка данных не понадобится — вы её уже сделали.\n",
    "Постройте модель с максимально большим значением accuracy. Чтобы сдать проект успешно, нужно довести долю правильных ответов по крайней мере до 0.75. Проверьте accuracy на тестовой выборке самостоятельно."
   ]
  },
  {
   "cell_type": "markdown",
   "id": "5d305427",
   "metadata": {},
   "source": [
    "## Файл с данными и изучение общей информации"
   ]
  },
  {
   "cell_type": "code",
   "execution_count": 1,
   "id": "73c15e11",
   "metadata": {},
   "outputs": [],
   "source": [
    "import pandas as pd\n",
    "from sklearn.tree import DecisionTreeClassifier\n",
    "from sklearn.ensemble import RandomForestClassifier\n",
    "from joblib import dump\n",
    "from sklearn.linear_model import LogisticRegression\n",
    "from sklearn.metrics import accuracy_score\n",
    "from sklearn.model_selection import train_test_split"
   ]
  },
  {
   "cell_type": "code",
   "execution_count": 2,
   "id": "18d34ae6",
   "metadata": {},
   "outputs": [
    {
     "data": {
      "text/html": [
       "<div>\n",
       "<style scoped>\n",
       "    .dataframe tbody tr th:only-of-type {\n",
       "        vertical-align: middle;\n",
       "    }\n",
       "\n",
       "    .dataframe tbody tr th {\n",
       "        vertical-align: top;\n",
       "    }\n",
       "\n",
       "    .dataframe thead th {\n",
       "        text-align: right;\n",
       "    }\n",
       "</style>\n",
       "<table border=\"1\" class=\"dataframe\">\n",
       "  <thead>\n",
       "    <tr style=\"text-align: right;\">\n",
       "      <th></th>\n",
       "      <th>calls</th>\n",
       "      <th>minutes</th>\n",
       "      <th>messages</th>\n",
       "      <th>mb_used</th>\n",
       "      <th>is_ultra</th>\n",
       "    </tr>\n",
       "  </thead>\n",
       "  <tbody>\n",
       "    <tr>\n",
       "      <th>0</th>\n",
       "      <td>40.0</td>\n",
       "      <td>311.90</td>\n",
       "      <td>83.0</td>\n",
       "      <td>19915.42</td>\n",
       "      <td>0</td>\n",
       "    </tr>\n",
       "    <tr>\n",
       "      <th>1</th>\n",
       "      <td>85.0</td>\n",
       "      <td>516.75</td>\n",
       "      <td>56.0</td>\n",
       "      <td>22696.96</td>\n",
       "      <td>0</td>\n",
       "    </tr>\n",
       "    <tr>\n",
       "      <th>2</th>\n",
       "      <td>77.0</td>\n",
       "      <td>467.66</td>\n",
       "      <td>86.0</td>\n",
       "      <td>21060.45</td>\n",
       "      <td>0</td>\n",
       "    </tr>\n",
       "    <tr>\n",
       "      <th>3</th>\n",
       "      <td>106.0</td>\n",
       "      <td>745.53</td>\n",
       "      <td>81.0</td>\n",
       "      <td>8437.39</td>\n",
       "      <td>1</td>\n",
       "    </tr>\n",
       "    <tr>\n",
       "      <th>4</th>\n",
       "      <td>66.0</td>\n",
       "      <td>418.74</td>\n",
       "      <td>1.0</td>\n",
       "      <td>14502.75</td>\n",
       "      <td>0</td>\n",
       "    </tr>\n",
       "  </tbody>\n",
       "</table>\n",
       "</div>"
      ],
      "text/plain": [
       "   calls  minutes  messages   mb_used  is_ultra\n",
       "0   40.0   311.90      83.0  19915.42         0\n",
       "1   85.0   516.75      56.0  22696.96         0\n",
       "2   77.0   467.66      86.0  21060.45         0\n",
       "3  106.0   745.53      81.0   8437.39         1\n",
       "4   66.0   418.74       1.0  14502.75         0"
      ]
     },
     "execution_count": 2,
     "metadata": {},
     "output_type": "execute_result"
    }
   ],
   "source": [
    "df=pd.read_csv('C:\\\\Users\\\\ASUS\\\\OneDrive\\\\Рабочий стол\\\\Аналитик Big Data. Яндекс\\\\Введение в машинное обучение\\\\users_behavior.csv')\n",
    "df.head()#первые 5 строк таблицы"
   ]
  },
  {
   "cell_type": "code",
   "execution_count": 3,
   "id": "733eac18",
   "metadata": {},
   "outputs": [
    {
     "name": "stdout",
     "output_type": "stream",
     "text": [
      "<class 'pandas.core.frame.DataFrame'>\n",
      "RangeIndex: 3214 entries, 0 to 3213\n",
      "Data columns (total 5 columns):\n",
      " #   Column    Non-Null Count  Dtype  \n",
      "---  ------    --------------  -----  \n",
      " 0   calls     3214 non-null   float64\n",
      " 1   minutes   3214 non-null   float64\n",
      " 2   messages  3214 non-null   float64\n",
      " 3   mb_used   3214 non-null   float64\n",
      " 4   is_ultra  3214 non-null   int64  \n",
      "dtypes: float64(4), int64(1)\n",
      "memory usage: 125.7 KB\n"
     ]
    }
   ],
   "source": [
    "df.info()#информация о таблице"
   ]
  },
  {
   "cell_type": "markdown",
   "id": "a34e4db1",
   "metadata": {},
   "source": [
    "### Вывод"
   ]
  },
  {
   "cell_type": "markdown",
   "id": "a1c66782",
   "metadata": {},
   "source": [
    "Согласно документации к данным:\n",
    "* сalls — количество звонков,\n",
    "* minutes — суммарная длительность звонков в минутах,\n",
    "* messages — количество sms-сообщений,\n",
    "* mb_used — израсходованный интернет-трафик в Мб,\n",
    "* is_ultra — каким тарифом пользовался в течение месяца («Ультра» — 1, «Смарт» — 0)."
   ]
  },
  {
   "cell_type": "markdown",
   "id": "2264ed73",
   "metadata": {},
   "source": [
    "## Разделение исходных данных"
   ]
  },
  {
   "cell_type": "code",
   "execution_count": 4,
   "id": "d817f09a",
   "metadata": {},
   "outputs": [],
   "source": [
    "df_train, df_v = train_test_split(df, test_size=0.4, random_state=12345)#разделение 60% на обучающую выборку"
   ]
  },
  {
   "cell_type": "code",
   "execution_count": 5,
   "id": "d26c1883",
   "metadata": {},
   "outputs": [],
   "source": [
    "df_valid, df_test = train_test_split(df_v, test_size=0.5, random_state=12345)# разделение валидационной и тестовой выборок по 20%"
   ]
  },
  {
   "cell_type": "code",
   "execution_count": 6,
   "id": "62302bc6",
   "metadata": {},
   "outputs": [],
   "source": [
    "#features - признаки(столбцы в таблице); target - целевой признак\n",
    "features_train = df_train.drop(['is_ultra'], axis=1)\n",
    "target_train = df_train['is_ultra']\n",
    "features_valid = df_valid.drop(['is_ultra'], axis=1)\n",
    "target_valid = df_valid['is_ultra']\n",
    "features_test = df_test.drop(['is_ultra'], axis=1)\n",
    "target_test = df_test['is_ultra']"
   ]
  },
  {
   "cell_type": "markdown",
   "id": "dfbd70b3",
   "metadata": {},
   "source": [
    "## Исследование качество моделей"
   ]
  },
  {
   "cell_type": "markdown",
   "id": "275c50ef",
   "metadata": {},
   "source": [
    "### Дерево решений"
   ]
  },
  {
   "cell_type": "code",
   "execution_count": 14,
   "id": "b5a5fee9",
   "metadata": {},
   "outputs": [
    {
     "name": "stdout",
     "output_type": "stream",
     "text": [
      "max_depth valid = 1 : 0.7542768273716952\n",
      "max_depth valid = 2 : 0.7822706065318819\n",
      "max_depth valid = 3 : 0.7853810264385692\n",
      "max_depth valid = 4 : 0.7791601866251944\n",
      "max_depth valid = 5 : 0.7791601866251944\n",
      "max_depth valid = 6 : 0.7838258164852255\n",
      "max_depth valid = 7 : 0.7822706065318819\n",
      "max_depth valid = 8 : 0.7791601866251944\n",
      "max_depth valid = 9 : 0.7822706065318819\n",
      "max_depth valid = 10 : 0.7744945567651633\n",
      "max_depth valid = 11 : 0.7620528771384136\n",
      "max_depth valid = 12 : 0.7620528771384136\n",
      "max_depth valid = 13 : 0.7558320373250389\n",
      "max_depth valid = 14 : 0.7589424572317263\n",
      "max_depth valid = 15 : 0.7465007776049767\n",
      "max_depth valid = 16 : 0.7340590979782271\n",
      "max_depth valid = 17 : 0.7356143079315708\n",
      "max_depth valid = 18 : 0.7309486780715396\n",
      "max_depth valid = 19 : 0.7278382581648523\n",
      "max_depth valid = 20 : 0.7216174183514774\n",
      "max_depth valid = 21 : 0.7278382581648523\n",
      "max_depth valid = 22 : 0.7262830482115086\n",
      "max_depth valid = 23 : 0.7169517884914464\n",
      "max_depth valid = 24 : 0.713841368584759\n",
      "max_depth valid = 25 : 0.713841368584759\n",
      "max_depth valid = 26 : 0.713841368584759\n",
      "max_depth valid = 27 : 0.713841368584759\n",
      "max_depth valid = 28 : 0.713841368584759\n",
      "max_depth valid = 29 : 0.713841368584759\n",
      "Accuracy наилучшей модели = 0.7853810264385692\n"
     ]
    }
   ],
   "source": [
    "best_score=0\n",
    "for depth in range(1, 30):\n",
    "    model = DecisionTreeClassifier(random_state=12345,max_depth=depth)# создание модели дерева решений\n",
    "\n",
    "    # обучение модели\n",
    "    model.fit(features_train,target_train)\n",
    "    predictions_valid = model.predict(features_valid)# предсказания на валидационной выборке\n",
    "    \n",
    "\n",
    "    print(\"max_depth valid =\", depth, \": \", end='')\n",
    "    print(accuracy_score(target_valid, predictions_valid))\n",
    "    if best_score<accuracy_score(target_valid, predictions_valid):\n",
    "        best_score=accuracy_score(target_valid, predictions_valid)#наилучший показатель\n",
    "print('Accuracy наилучшей модели =',best_score)"
   ]
  },
  {
   "cell_type": "markdown",
   "id": "c7a3364f",
   "metadata": {},
   "source": [
    "Accuracy наилучшей модели = 0.7853810264385692. Нет смысла делать глубину дерева больше 30, т.к. на 9й глубине ухудшается точность предсказания модели."
   ]
  },
  {
   "cell_type": "markdown",
   "id": "833fc214",
   "metadata": {},
   "source": [
    "### Случайный лес"
   ]
  },
  {
   "cell_type": "code",
   "execution_count": 15,
   "id": "743851be",
   "metadata": {},
   "outputs": [
    {
     "name": "stdout",
     "output_type": "stream",
     "text": [
      "Accuracy наилучшей модели на валидационной выборке: 0.7947122861586314 луччшее количество деревьев 23\n"
     ]
    }
   ],
   "source": [
    "best_model = None\n",
    "best_result = 0\n",
    "for est in range(1, 51):\n",
    "    model = RandomForestClassifier(random_state=12345, n_estimators=est) # обучение модели с заданным количеством деревьев\n",
    "    model.fit(features_train,target_train) # обучение модели на тренировочной выборке\n",
    "    result = model.score(features_valid,target_valid) # качество модели на валидационной выборке\n",
    "    if result > best_result:\n",
    "        best_model = model# наилучшая модель\n",
    "        best_result = result#  наилучшее значение метрики accuracy на валидационных данных\n",
    "\n",
    "print(\"Accuracy наилучшей модели на валидационной выборке:\", best_result, 'луччшее количество деревьев',best_est)"
   ]
  },
  {
   "cell_type": "markdown",
   "id": "c9da20d4",
   "metadata": {},
   "source": [
    "### Вывод"
   ]
  },
  {
   "cell_type": "markdown",
   "id": "6ac4068d",
   "metadata": {},
   "source": [
    "Случайный лес выдает точность предсказания на 0.01 больше, чем дерево решений. А значит качество этой модели будет лучше. Поэтому стоит рассмотреть \"случайный лес\" на тестовой выборке."
   ]
  },
  {
   "cell_type": "markdown",
   "id": "1b0d3451",
   "metadata": {},
   "source": [
    "## Проверка качества модели на тестовой выборке"
   ]
  },
  {
   "cell_type": "code",
   "execution_count": 12,
   "id": "29909790",
   "metadata": {},
   "outputs": [
    {
     "name": "stdout",
     "output_type": "stream",
     "text": [
      "Accuracy наилучшей модели на валидационной выборке: 0.7962674961119751\n"
     ]
    }
   ],
   "source": [
    "best_model = None\n",
    "best_result = 0\n",
    "for est in range(1, 51):\n",
    "    model = RandomForestClassifier(random_state=12345, n_estimators=est) # обучение модели с заданным количеством деревьев\n",
    "    model.fit(features_train,target_train) # обучение модели на тренировочной выборке\n",
    "    result = model.score(features_test,target_test) # качество модели на тестовой выборке\n",
    "    if result > best_result:\n",
    "        best_model = model# наилучшая модель\n",
    "        best_result = result#  наилучшее значение метрики accuracy на тестовых данных\n",
    "\n",
    "print(\"Accuracy наилучшей модели на валидационной выборке:\", best_result)"
   ]
  },
  {
   "cell_type": "markdown",
   "id": "408e051d",
   "metadata": {},
   "source": [
    "### Вывод"
   ]
  },
  {
   "cell_type": "markdown",
   "id": "bb4fdb63",
   "metadata": {},
   "source": [
    "Точность предсказания составляет около 0.796."
   ]
  },
  {
   "cell_type": "markdown",
   "id": "8df1eb92",
   "metadata": {},
   "source": [
    "## Общий вывод"
   ]
  },
  {
   "cell_type": "markdown",
   "id": "2df53e93",
   "metadata": {},
   "source": [
    "\"Случайный лес\" является наилучшим выбором модели, т.к. качество в ней более лучше, чем в модели \"дерево решений\". Правильность ответов на тестовой выборке \"случайного леса\" составляет около 0.796."
   ]
  },
  {
   "cell_type": "code",
   "execution_count": null,
   "id": "14eab9f8",
   "metadata": {},
   "outputs": [],
   "source": []
  }
 ],
 "metadata": {
  "kernelspec": {
   "display_name": "Python 3",
   "language": "python",
   "name": "python3"
  },
  "language_info": {
   "codemirror_mode": {
    "name": "ipython",
    "version": 3
   },
   "file_extension": ".py",
   "mimetype": "text/x-python",
   "name": "python",
   "nbconvert_exporter": "python",
   "pygments_lexer": "ipython3",
   "version": "3.8.8"
  }
 },
 "nbformat": 4,
 "nbformat_minor": 5
}
