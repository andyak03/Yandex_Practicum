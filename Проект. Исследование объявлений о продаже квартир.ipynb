{
 "cells": [
  {
   "cell_type": "markdown",
   "metadata": {
    "toc": true
   },
   "source": [
    "<h1>Содержание<span class=\"tocSkip\"></span></h1>\n",
    "<div class=\"toc\"><ul class=\"toc-item\"><li><span><a href=\"#Изучение-данных-из-файла\" data-toc-modified-id=\"Изучение-данных-из-файла-1\"><span class=\"toc-item-num\">1&nbsp;&nbsp;</span>Изучение данных из файла</a></span><ul class=\"toc-item\"><li><span><a href=\"#Вывод\" data-toc-modified-id=\"Вывод-1.1\"><span class=\"toc-item-num\">1.1&nbsp;&nbsp;</span>Вывод</a></span></li></ul></li><li><span><a href=\"#Предобработка-данных\" data-toc-modified-id=\"Предобработка-данных-2\"><span class=\"toc-item-num\">2&nbsp;&nbsp;</span>Предобработка данных</a></span><ul class=\"toc-item\"><li><span><a href=\"#Изучение-пропусков\" data-toc-modified-id=\"Изучение-пропусков-2.1\"><span class=\"toc-item-num\">2.1&nbsp;&nbsp;</span>Изучение пропусков</a></span></li><li><span><a href=\"#Изменение-типа-в-столбцах\" data-toc-modified-id=\"Изменение-типа-в-столбцах-2.2\"><span class=\"toc-item-num\">2.2&nbsp;&nbsp;</span>Изменение типа в столбцах</a></span></li><li><span><a href=\"#Вывод\" data-toc-modified-id=\"Вывод-2.3\"><span class=\"toc-item-num\">2.3&nbsp;&nbsp;</span>Вывод</a></span></li></ul></li><li><span><a href=\"#Расчёты-и-добавление-результатов-в-таблицу\" data-toc-modified-id=\"Расчёты-и-добавление-результатов-в-таблицу-3\"><span class=\"toc-item-num\">3&nbsp;&nbsp;</span>Расчёты и добавление результатов в таблицу</a></span><ul class=\"toc-item\"><li><span><a href=\"#Вывод\" data-toc-modified-id=\"Вывод-3.1\"><span class=\"toc-item-num\">3.1&nbsp;&nbsp;</span>Вывод</a></span></li></ul></li><li><span><a href=\"#Исследовательский-анализ-данных\" data-toc-modified-id=\"Исследовательский-анализ-данных-4\"><span class=\"toc-item-num\">4&nbsp;&nbsp;</span>Исследовательский анализ данных</a></span><ul class=\"toc-item\"><li><span><a href=\"#Построение-гистограмм\" data-toc-modified-id=\"Построение-гистограмм-4.1\"><span class=\"toc-item-num\">4.1&nbsp;&nbsp;</span>Построение гистограмм</a></span></li><li><span><a href=\"#Изучение-время-продажи-квартиры\" data-toc-modified-id=\"Изучение-время-продажи-квартиры-4.2\"><span class=\"toc-item-num\">4.2&nbsp;&nbsp;</span>Изучение время продажи квартиры</a></span></li><li><span><a href=\"#Редкие-значения\" data-toc-modified-id=\"Редкие-значения-4.3\"><span class=\"toc-item-num\">4.3&nbsp;&nbsp;</span>Редкие значения</a></span></li><li><span><a href=\"#Изучение-зависимостей\" data-toc-modified-id=\"Изучение-зависимостей-4.4\"><span class=\"toc-item-num\">4.4&nbsp;&nbsp;</span>Изучение зависимостей</a></span></li><li><span><a href=\"#Популярные-города-по-количеству-объявлений\" data-toc-modified-id=\"Популярные-города-по-количеству-объявлений-4.5\"><span class=\"toc-item-num\">4.5&nbsp;&nbsp;</span>Популярные города по количеству объявлений</a></span></li><li><span><a href=\"#Изучение-объявлений-по-Санкт-Петербургу\" data-toc-modified-id=\"Изучение-объявлений-по-Санкт-Петербургу-4.6\"><span class=\"toc-item-num\">4.6&nbsp;&nbsp;</span>Изучение объявлений по Санкт-Петербургу</a></span></li><li><span><a href=\"#Изучение-квартир-в-центре-Санкт-Петербурга\" data-toc-modified-id=\"Изучение-квартир-в-центре-Санкт-Петербурга-4.7\"><span class=\"toc-item-num\">4.7&nbsp;&nbsp;</span>Изучение квартир в центре Санкт-Петербурга</a></span></li></ul></li><li><span><a href=\"#Общий-вывод\" data-toc-modified-id=\"Общий-вывод-5\"><span class=\"toc-item-num\">5&nbsp;&nbsp;</span>Общий вывод</a></span></li><li><span><a href=\"#Чек-лист-готовности-проекта\" data-toc-modified-id=\"Чек-лист-готовности-проекта-6\"><span class=\"toc-item-num\">6&nbsp;&nbsp;</span>Чек-лист готовности проекта</a></span></li></ul></div>"
   ]
  },
  {
   "cell_type": "markdown",
   "metadata": {},
   "source": [
    "Андрей, рад приветствовать тебя)\n",
    "\n",
    "Меня зовут Александр Дьяченко и этот проект у тебя буду проверять я.  \n",
    "Предлагаю общаться на \"ты\", если это для тебя приемлемо)  \n",
    "\n",
    "В твоей работе я оставлю некоторые комментарии, которые помогут лучше понять материал или скажу, что все сделано верно.  \n",
    "Давай договоримся об условных обозначениях, чтобы наше общение было эффективнее:  \n",
    "\n",
    "Комментарии будут в <font color='green'>зеленой ✔️</font>, <font color='orange'>оранжевой ⚠️</font> или <font color='red'>красной ❌</font> рамках:\n",
    "\n",
    "\n",
    "<div class=\"alert alert-block alert-success\">\n",
    "<b>Успех ✔️:</b> Зеленым цветом помечены образцовые решения. Которые можно использовать в дальнейшем.\n",
    "</div>\n",
    "\n",
    "<div class=\"alert alert-block alert-warning\">\n",
    "<b>Рекомендация ⚠️: </b> Желтым цветом отмечено то, что ты можешь улучшить или доработать. Можешь учесть это при выполнении следующих работ или доработать проект сейчас, но это не обязательно.\n",
    "</div>\n",
    "\n",
    "<div class=\"alert alert-block alert-danger\">\n",
    "<b>Ошибка ❌:</b> Красным цветом помечены моменты, которые необходимо доработать, чтобы проект был принят. Уверен, что у тебя все получится. Буду ждать твою работу на повторное ревью. \n",
    "</div>\n",
    "\n",
    "-------------------\n",
    "\n",
    "<div class=\"alert alert-block alert-info\">\n",
    "<b>Комментарий студента:</b> Свои комментарии и вопросы ты можешь оставлять в синей рамочке. Также используй её, если что-то исправил, доделал или полностью переписал.</div>\n",
    "\n",
    "\n",
    "\n",
    "\n",
    "Старайся отвечать на мои рекомендации и не удалять комментарии, так получится проверить работу быстрее)\n",
    "\n",
    "Погнали!\n",
    "\n",
    "\n",
    "\n",
    "-------"
   ]
  },
  {
   "cell_type": "markdown",
   "metadata": {},
   "source": [
    "# Исследование объявлений о продаже квартир\n",
    "\n",
    "В вашем распоряжении данные сервиса Яндекc Недвижимость — архив объявлений о продаже квартир в Санкт-Петербурге и соседних населённых пунктах за несколько лет. Нужно научиться определять рыночную стоимость объектов недвижимости. Ваша задача — установить параметры. Это позволит построить автоматизированную систему: она отследит аномалии и мошенническую деятельность. \n",
    "\n",
    "По каждой квартире на продажу доступны два вида данных. Первые вписаны пользователем, вторые получены автоматически на основе картографических данных. Например, расстояние до центра, аэропорта, ближайшего парка и водоёма. "
   ]
  },
  {
   "cell_type": "markdown",
   "metadata": {},
   "source": [
    "## Изучение данных из файла"
   ]
  },
  {
   "cell_type": "code",
   "execution_count": 1,
   "metadata": {},
   "outputs": [],
   "source": [
    "import pandas as pd\n",
    "import datetime as dt"
   ]
  },
  {
   "cell_type": "code",
   "execution_count": 2,
   "metadata": {},
   "outputs": [],
   "source": [
    "data=pd.read_csv('/datasets/real_estate_data.csv',sep='\\t')"
   ]
  },
  {
   "cell_type": "code",
   "execution_count": 3,
   "metadata": {},
   "outputs": [
    {
     "data": {
      "text/html": [
       "<div>\n",
       "<style scoped>\n",
       "    .dataframe tbody tr th:only-of-type {\n",
       "        vertical-align: middle;\n",
       "    }\n",
       "\n",
       "    .dataframe tbody tr th {\n",
       "        vertical-align: top;\n",
       "    }\n",
       "\n",
       "    .dataframe thead th {\n",
       "        text-align: right;\n",
       "    }\n",
       "</style>\n",
       "<table border=\"1\" class=\"dataframe\">\n",
       "  <thead>\n",
       "    <tr style=\"text-align: right;\">\n",
       "      <th></th>\n",
       "      <th>total_images</th>\n",
       "      <th>last_price</th>\n",
       "      <th>total_area</th>\n",
       "      <th>first_day_exposition</th>\n",
       "      <th>rooms</th>\n",
       "      <th>ceiling_height</th>\n",
       "      <th>floors_total</th>\n",
       "      <th>living_area</th>\n",
       "      <th>floor</th>\n",
       "      <th>is_apartment</th>\n",
       "      <th>...</th>\n",
       "      <th>kitchen_area</th>\n",
       "      <th>balcony</th>\n",
       "      <th>locality_name</th>\n",
       "      <th>airports_nearest</th>\n",
       "      <th>cityCenters_nearest</th>\n",
       "      <th>parks_around3000</th>\n",
       "      <th>parks_nearest</th>\n",
       "      <th>ponds_around3000</th>\n",
       "      <th>ponds_nearest</th>\n",
       "      <th>days_exposition</th>\n",
       "    </tr>\n",
       "  </thead>\n",
       "  <tbody>\n",
       "    <tr>\n",
       "      <th>0</th>\n",
       "      <td>20</td>\n",
       "      <td>13000000.0</td>\n",
       "      <td>108.00</td>\n",
       "      <td>2019-03-07T00:00:00</td>\n",
       "      <td>3</td>\n",
       "      <td>2.70</td>\n",
       "      <td>16.0</td>\n",
       "      <td>51.00</td>\n",
       "      <td>8</td>\n",
       "      <td>NaN</td>\n",
       "      <td>...</td>\n",
       "      <td>25.00</td>\n",
       "      <td>NaN</td>\n",
       "      <td>Санкт-Петербург</td>\n",
       "      <td>18863.0</td>\n",
       "      <td>16028.0</td>\n",
       "      <td>1.0</td>\n",
       "      <td>482.0</td>\n",
       "      <td>2.0</td>\n",
       "      <td>755.0</td>\n",
       "      <td>NaN</td>\n",
       "    </tr>\n",
       "    <tr>\n",
       "      <th>1</th>\n",
       "      <td>7</td>\n",
       "      <td>3350000.0</td>\n",
       "      <td>40.40</td>\n",
       "      <td>2018-12-04T00:00:00</td>\n",
       "      <td>1</td>\n",
       "      <td>NaN</td>\n",
       "      <td>11.0</td>\n",
       "      <td>18.60</td>\n",
       "      <td>1</td>\n",
       "      <td>NaN</td>\n",
       "      <td>...</td>\n",
       "      <td>11.00</td>\n",
       "      <td>2.0</td>\n",
       "      <td>посёлок Шушары</td>\n",
       "      <td>12817.0</td>\n",
       "      <td>18603.0</td>\n",
       "      <td>0.0</td>\n",
       "      <td>NaN</td>\n",
       "      <td>0.0</td>\n",
       "      <td>NaN</td>\n",
       "      <td>81.0</td>\n",
       "    </tr>\n",
       "    <tr>\n",
       "      <th>2</th>\n",
       "      <td>10</td>\n",
       "      <td>5196000.0</td>\n",
       "      <td>56.00</td>\n",
       "      <td>2015-08-20T00:00:00</td>\n",
       "      <td>2</td>\n",
       "      <td>NaN</td>\n",
       "      <td>5.0</td>\n",
       "      <td>34.30</td>\n",
       "      <td>4</td>\n",
       "      <td>NaN</td>\n",
       "      <td>...</td>\n",
       "      <td>8.30</td>\n",
       "      <td>0.0</td>\n",
       "      <td>Санкт-Петербург</td>\n",
       "      <td>21741.0</td>\n",
       "      <td>13933.0</td>\n",
       "      <td>1.0</td>\n",
       "      <td>90.0</td>\n",
       "      <td>2.0</td>\n",
       "      <td>574.0</td>\n",
       "      <td>558.0</td>\n",
       "    </tr>\n",
       "    <tr>\n",
       "      <th>3</th>\n",
       "      <td>0</td>\n",
       "      <td>64900000.0</td>\n",
       "      <td>159.00</td>\n",
       "      <td>2015-07-24T00:00:00</td>\n",
       "      <td>3</td>\n",
       "      <td>NaN</td>\n",
       "      <td>14.0</td>\n",
       "      <td>NaN</td>\n",
       "      <td>9</td>\n",
       "      <td>NaN</td>\n",
       "      <td>...</td>\n",
       "      <td>NaN</td>\n",
       "      <td>0.0</td>\n",
       "      <td>Санкт-Петербург</td>\n",
       "      <td>28098.0</td>\n",
       "      <td>6800.0</td>\n",
       "      <td>2.0</td>\n",
       "      <td>84.0</td>\n",
       "      <td>3.0</td>\n",
       "      <td>234.0</td>\n",
       "      <td>424.0</td>\n",
       "    </tr>\n",
       "    <tr>\n",
       "      <th>4</th>\n",
       "      <td>2</td>\n",
       "      <td>10000000.0</td>\n",
       "      <td>100.00</td>\n",
       "      <td>2018-06-19T00:00:00</td>\n",
       "      <td>2</td>\n",
       "      <td>3.03</td>\n",
       "      <td>14.0</td>\n",
       "      <td>32.00</td>\n",
       "      <td>13</td>\n",
       "      <td>NaN</td>\n",
       "      <td>...</td>\n",
       "      <td>41.00</td>\n",
       "      <td>NaN</td>\n",
       "      <td>Санкт-Петербург</td>\n",
       "      <td>31856.0</td>\n",
       "      <td>8098.0</td>\n",
       "      <td>2.0</td>\n",
       "      <td>112.0</td>\n",
       "      <td>1.0</td>\n",
       "      <td>48.0</td>\n",
       "      <td>121.0</td>\n",
       "    </tr>\n",
       "    <tr>\n",
       "      <th>5</th>\n",
       "      <td>10</td>\n",
       "      <td>2890000.0</td>\n",
       "      <td>30.40</td>\n",
       "      <td>2018-09-10T00:00:00</td>\n",
       "      <td>1</td>\n",
       "      <td>NaN</td>\n",
       "      <td>12.0</td>\n",
       "      <td>14.40</td>\n",
       "      <td>5</td>\n",
       "      <td>NaN</td>\n",
       "      <td>...</td>\n",
       "      <td>9.10</td>\n",
       "      <td>NaN</td>\n",
       "      <td>городской посёлок Янино-1</td>\n",
       "      <td>NaN</td>\n",
       "      <td>NaN</td>\n",
       "      <td>NaN</td>\n",
       "      <td>NaN</td>\n",
       "      <td>NaN</td>\n",
       "      <td>NaN</td>\n",
       "      <td>55.0</td>\n",
       "    </tr>\n",
       "    <tr>\n",
       "      <th>6</th>\n",
       "      <td>6</td>\n",
       "      <td>3700000.0</td>\n",
       "      <td>37.30</td>\n",
       "      <td>2017-11-02T00:00:00</td>\n",
       "      <td>1</td>\n",
       "      <td>NaN</td>\n",
       "      <td>26.0</td>\n",
       "      <td>10.60</td>\n",
       "      <td>6</td>\n",
       "      <td>NaN</td>\n",
       "      <td>...</td>\n",
       "      <td>14.40</td>\n",
       "      <td>1.0</td>\n",
       "      <td>посёлок Парголово</td>\n",
       "      <td>52996.0</td>\n",
       "      <td>19143.0</td>\n",
       "      <td>0.0</td>\n",
       "      <td>NaN</td>\n",
       "      <td>0.0</td>\n",
       "      <td>NaN</td>\n",
       "      <td>155.0</td>\n",
       "    </tr>\n",
       "    <tr>\n",
       "      <th>7</th>\n",
       "      <td>5</td>\n",
       "      <td>7915000.0</td>\n",
       "      <td>71.60</td>\n",
       "      <td>2019-04-18T00:00:00</td>\n",
       "      <td>2</td>\n",
       "      <td>NaN</td>\n",
       "      <td>24.0</td>\n",
       "      <td>NaN</td>\n",
       "      <td>22</td>\n",
       "      <td>NaN</td>\n",
       "      <td>...</td>\n",
       "      <td>18.90</td>\n",
       "      <td>2.0</td>\n",
       "      <td>Санкт-Петербург</td>\n",
       "      <td>23982.0</td>\n",
       "      <td>11634.0</td>\n",
       "      <td>0.0</td>\n",
       "      <td>NaN</td>\n",
       "      <td>0.0</td>\n",
       "      <td>NaN</td>\n",
       "      <td>NaN</td>\n",
       "    </tr>\n",
       "    <tr>\n",
       "      <th>8</th>\n",
       "      <td>20</td>\n",
       "      <td>2900000.0</td>\n",
       "      <td>33.16</td>\n",
       "      <td>2018-05-23T00:00:00</td>\n",
       "      <td>1</td>\n",
       "      <td>NaN</td>\n",
       "      <td>27.0</td>\n",
       "      <td>15.43</td>\n",
       "      <td>26</td>\n",
       "      <td>NaN</td>\n",
       "      <td>...</td>\n",
       "      <td>8.81</td>\n",
       "      <td>NaN</td>\n",
       "      <td>посёлок Мурино</td>\n",
       "      <td>NaN</td>\n",
       "      <td>NaN</td>\n",
       "      <td>NaN</td>\n",
       "      <td>NaN</td>\n",
       "      <td>NaN</td>\n",
       "      <td>NaN</td>\n",
       "      <td>189.0</td>\n",
       "    </tr>\n",
       "    <tr>\n",
       "      <th>9</th>\n",
       "      <td>18</td>\n",
       "      <td>5400000.0</td>\n",
       "      <td>61.00</td>\n",
       "      <td>2017-02-26T00:00:00</td>\n",
       "      <td>3</td>\n",
       "      <td>2.50</td>\n",
       "      <td>9.0</td>\n",
       "      <td>43.60</td>\n",
       "      <td>7</td>\n",
       "      <td>NaN</td>\n",
       "      <td>...</td>\n",
       "      <td>6.50</td>\n",
       "      <td>2.0</td>\n",
       "      <td>Санкт-Петербург</td>\n",
       "      <td>50898.0</td>\n",
       "      <td>15008.0</td>\n",
       "      <td>0.0</td>\n",
       "      <td>NaN</td>\n",
       "      <td>0.0</td>\n",
       "      <td>NaN</td>\n",
       "      <td>289.0</td>\n",
       "    </tr>\n",
       "    <tr>\n",
       "      <th>10</th>\n",
       "      <td>5</td>\n",
       "      <td>5050000.0</td>\n",
       "      <td>39.60</td>\n",
       "      <td>2017-11-16T00:00:00</td>\n",
       "      <td>1</td>\n",
       "      <td>2.67</td>\n",
       "      <td>12.0</td>\n",
       "      <td>20.30</td>\n",
       "      <td>3</td>\n",
       "      <td>NaN</td>\n",
       "      <td>...</td>\n",
       "      <td>8.50</td>\n",
       "      <td>NaN</td>\n",
       "      <td>Санкт-Петербург</td>\n",
       "      <td>38357.0</td>\n",
       "      <td>13878.0</td>\n",
       "      <td>1.0</td>\n",
       "      <td>310.0</td>\n",
       "      <td>2.0</td>\n",
       "      <td>553.0</td>\n",
       "      <td>137.0</td>\n",
       "    </tr>\n",
       "    <tr>\n",
       "      <th>11</th>\n",
       "      <td>9</td>\n",
       "      <td>3300000.0</td>\n",
       "      <td>44.00</td>\n",
       "      <td>2018-08-27T00:00:00</td>\n",
       "      <td>2</td>\n",
       "      <td>NaN</td>\n",
       "      <td>5.0</td>\n",
       "      <td>31.00</td>\n",
       "      <td>4</td>\n",
       "      <td>False</td>\n",
       "      <td>...</td>\n",
       "      <td>6.00</td>\n",
       "      <td>1.0</td>\n",
       "      <td>Ломоносов</td>\n",
       "      <td>48252.0</td>\n",
       "      <td>51677.0</td>\n",
       "      <td>0.0</td>\n",
       "      <td>NaN</td>\n",
       "      <td>0.0</td>\n",
       "      <td>NaN</td>\n",
       "      <td>7.0</td>\n",
       "    </tr>\n",
       "    <tr>\n",
       "      <th>12</th>\n",
       "      <td>10</td>\n",
       "      <td>3890000.0</td>\n",
       "      <td>54.00</td>\n",
       "      <td>2016-06-30T00:00:00</td>\n",
       "      <td>2</td>\n",
       "      <td>NaN</td>\n",
       "      <td>5.0</td>\n",
       "      <td>30.00</td>\n",
       "      <td>5</td>\n",
       "      <td>NaN</td>\n",
       "      <td>...</td>\n",
       "      <td>9.00</td>\n",
       "      <td>0.0</td>\n",
       "      <td>Сертолово</td>\n",
       "      <td>NaN</td>\n",
       "      <td>NaN</td>\n",
       "      <td>NaN</td>\n",
       "      <td>NaN</td>\n",
       "      <td>NaN</td>\n",
       "      <td>NaN</td>\n",
       "      <td>90.0</td>\n",
       "    </tr>\n",
       "    <tr>\n",
       "      <th>13</th>\n",
       "      <td>20</td>\n",
       "      <td>3550000.0</td>\n",
       "      <td>42.80</td>\n",
       "      <td>2017-07-01T00:00:00</td>\n",
       "      <td>2</td>\n",
       "      <td>2.56</td>\n",
       "      <td>5.0</td>\n",
       "      <td>27.00</td>\n",
       "      <td>5</td>\n",
       "      <td>NaN</td>\n",
       "      <td>...</td>\n",
       "      <td>5.20</td>\n",
       "      <td>1.0</td>\n",
       "      <td>Петергоф</td>\n",
       "      <td>37868.0</td>\n",
       "      <td>33058.0</td>\n",
       "      <td>1.0</td>\n",
       "      <td>294.0</td>\n",
       "      <td>3.0</td>\n",
       "      <td>298.0</td>\n",
       "      <td>366.0</td>\n",
       "    </tr>\n",
       "    <tr>\n",
       "      <th>14</th>\n",
       "      <td>1</td>\n",
       "      <td>4400000.0</td>\n",
       "      <td>36.00</td>\n",
       "      <td>2016-06-23T00:00:00</td>\n",
       "      <td>1</td>\n",
       "      <td>NaN</td>\n",
       "      <td>6.0</td>\n",
       "      <td>17.00</td>\n",
       "      <td>1</td>\n",
       "      <td>NaN</td>\n",
       "      <td>...</td>\n",
       "      <td>8.00</td>\n",
       "      <td>0.0</td>\n",
       "      <td>Пушкин</td>\n",
       "      <td>20782.0</td>\n",
       "      <td>30759.0</td>\n",
       "      <td>0.0</td>\n",
       "      <td>NaN</td>\n",
       "      <td>1.0</td>\n",
       "      <td>96.0</td>\n",
       "      <td>203.0</td>\n",
       "    </tr>\n",
       "    <tr>\n",
       "      <th>15</th>\n",
       "      <td>16</td>\n",
       "      <td>4650000.0</td>\n",
       "      <td>39.00</td>\n",
       "      <td>2017-11-18T00:00:00</td>\n",
       "      <td>1</td>\n",
       "      <td>NaN</td>\n",
       "      <td>14.0</td>\n",
       "      <td>20.50</td>\n",
       "      <td>5</td>\n",
       "      <td>NaN</td>\n",
       "      <td>...</td>\n",
       "      <td>7.60</td>\n",
       "      <td>1.0</td>\n",
       "      <td>Санкт-Петербург</td>\n",
       "      <td>12900.0</td>\n",
       "      <td>14259.0</td>\n",
       "      <td>1.0</td>\n",
       "      <td>590.0</td>\n",
       "      <td>1.0</td>\n",
       "      <td>296.0</td>\n",
       "      <td>19.0</td>\n",
       "    </tr>\n",
       "    <tr>\n",
       "      <th>16</th>\n",
       "      <td>11</td>\n",
       "      <td>6700000.0</td>\n",
       "      <td>82.00</td>\n",
       "      <td>2017-11-23T00:00:00</td>\n",
       "      <td>3</td>\n",
       "      <td>3.05</td>\n",
       "      <td>5.0</td>\n",
       "      <td>55.60</td>\n",
       "      <td>1</td>\n",
       "      <td>NaN</td>\n",
       "      <td>...</td>\n",
       "      <td>9.00</td>\n",
       "      <td>NaN</td>\n",
       "      <td>Санкт-Петербург</td>\n",
       "      <td>22108.0</td>\n",
       "      <td>10698.0</td>\n",
       "      <td>3.0</td>\n",
       "      <td>420.0</td>\n",
       "      <td>0.0</td>\n",
       "      <td>NaN</td>\n",
       "      <td>397.0</td>\n",
       "    </tr>\n",
       "    <tr>\n",
       "      <th>17</th>\n",
       "      <td>6</td>\n",
       "      <td>4180000.0</td>\n",
       "      <td>36.00</td>\n",
       "      <td>2016-09-09T00:00:00</td>\n",
       "      <td>1</td>\n",
       "      <td>NaN</td>\n",
       "      <td>17.0</td>\n",
       "      <td>16.50</td>\n",
       "      <td>7</td>\n",
       "      <td>NaN</td>\n",
       "      <td>...</td>\n",
       "      <td>11.00</td>\n",
       "      <td>1.0</td>\n",
       "      <td>Санкт-Петербург</td>\n",
       "      <td>33564.0</td>\n",
       "      <td>14616.0</td>\n",
       "      <td>0.0</td>\n",
       "      <td>NaN</td>\n",
       "      <td>1.0</td>\n",
       "      <td>859.0</td>\n",
       "      <td>571.0</td>\n",
       "    </tr>\n",
       "    <tr>\n",
       "      <th>18</th>\n",
       "      <td>8</td>\n",
       "      <td>3250000.0</td>\n",
       "      <td>31.00</td>\n",
       "      <td>2017-01-27T00:00:00</td>\n",
       "      <td>1</td>\n",
       "      <td>2.50</td>\n",
       "      <td>5.0</td>\n",
       "      <td>19.40</td>\n",
       "      <td>2</td>\n",
       "      <td>NaN</td>\n",
       "      <td>...</td>\n",
       "      <td>5.60</td>\n",
       "      <td>1.0</td>\n",
       "      <td>Санкт-Петербург</td>\n",
       "      <td>44060.0</td>\n",
       "      <td>10842.0</td>\n",
       "      <td>1.0</td>\n",
       "      <td>759.0</td>\n",
       "      <td>0.0</td>\n",
       "      <td>NaN</td>\n",
       "      <td>168.0</td>\n",
       "    </tr>\n",
       "    <tr>\n",
       "      <th>19</th>\n",
       "      <td>16</td>\n",
       "      <td>14200000.0</td>\n",
       "      <td>121.00</td>\n",
       "      <td>2019-01-09T00:00:00</td>\n",
       "      <td>3</td>\n",
       "      <td>2.75</td>\n",
       "      <td>16.0</td>\n",
       "      <td>76.00</td>\n",
       "      <td>8</td>\n",
       "      <td>NaN</td>\n",
       "      <td>...</td>\n",
       "      <td>12.00</td>\n",
       "      <td>NaN</td>\n",
       "      <td>Санкт-Петербург</td>\n",
       "      <td>38900.0</td>\n",
       "      <td>12843.0</td>\n",
       "      <td>0.0</td>\n",
       "      <td>NaN</td>\n",
       "      <td>0.0</td>\n",
       "      <td>NaN</td>\n",
       "      <td>97.0</td>\n",
       "    </tr>\n",
       "  </tbody>\n",
       "</table>\n",
       "<p>20 rows × 22 columns</p>\n",
       "</div>"
      ],
      "text/plain": [
       "    total_images  last_price  total_area first_day_exposition  rooms  \\\n",
       "0             20  13000000.0      108.00  2019-03-07T00:00:00      3   \n",
       "1              7   3350000.0       40.40  2018-12-04T00:00:00      1   \n",
       "2             10   5196000.0       56.00  2015-08-20T00:00:00      2   \n",
       "3              0  64900000.0      159.00  2015-07-24T00:00:00      3   \n",
       "4              2  10000000.0      100.00  2018-06-19T00:00:00      2   \n",
       "5             10   2890000.0       30.40  2018-09-10T00:00:00      1   \n",
       "6              6   3700000.0       37.30  2017-11-02T00:00:00      1   \n",
       "7              5   7915000.0       71.60  2019-04-18T00:00:00      2   \n",
       "8             20   2900000.0       33.16  2018-05-23T00:00:00      1   \n",
       "9             18   5400000.0       61.00  2017-02-26T00:00:00      3   \n",
       "10             5   5050000.0       39.60  2017-11-16T00:00:00      1   \n",
       "11             9   3300000.0       44.00  2018-08-27T00:00:00      2   \n",
       "12            10   3890000.0       54.00  2016-06-30T00:00:00      2   \n",
       "13            20   3550000.0       42.80  2017-07-01T00:00:00      2   \n",
       "14             1   4400000.0       36.00  2016-06-23T00:00:00      1   \n",
       "15            16   4650000.0       39.00  2017-11-18T00:00:00      1   \n",
       "16            11   6700000.0       82.00  2017-11-23T00:00:00      3   \n",
       "17             6   4180000.0       36.00  2016-09-09T00:00:00      1   \n",
       "18             8   3250000.0       31.00  2017-01-27T00:00:00      1   \n",
       "19            16  14200000.0      121.00  2019-01-09T00:00:00      3   \n",
       "\n",
       "    ceiling_height  floors_total  living_area  floor is_apartment  ...  \\\n",
       "0             2.70          16.0        51.00      8          NaN  ...   \n",
       "1              NaN          11.0        18.60      1          NaN  ...   \n",
       "2              NaN           5.0        34.30      4          NaN  ...   \n",
       "3              NaN          14.0          NaN      9          NaN  ...   \n",
       "4             3.03          14.0        32.00     13          NaN  ...   \n",
       "5              NaN          12.0        14.40      5          NaN  ...   \n",
       "6              NaN          26.0        10.60      6          NaN  ...   \n",
       "7              NaN          24.0          NaN     22          NaN  ...   \n",
       "8              NaN          27.0        15.43     26          NaN  ...   \n",
       "9             2.50           9.0        43.60      7          NaN  ...   \n",
       "10            2.67          12.0        20.30      3          NaN  ...   \n",
       "11             NaN           5.0        31.00      4        False  ...   \n",
       "12             NaN           5.0        30.00      5          NaN  ...   \n",
       "13            2.56           5.0        27.00      5          NaN  ...   \n",
       "14             NaN           6.0        17.00      1          NaN  ...   \n",
       "15             NaN          14.0        20.50      5          NaN  ...   \n",
       "16            3.05           5.0        55.60      1          NaN  ...   \n",
       "17             NaN          17.0        16.50      7          NaN  ...   \n",
       "18            2.50           5.0        19.40      2          NaN  ...   \n",
       "19            2.75          16.0        76.00      8          NaN  ...   \n",
       "\n",
       "    kitchen_area  balcony              locality_name  airports_nearest  \\\n",
       "0          25.00      NaN            Санкт-Петербург           18863.0   \n",
       "1          11.00      2.0             посёлок Шушары           12817.0   \n",
       "2           8.30      0.0            Санкт-Петербург           21741.0   \n",
       "3            NaN      0.0            Санкт-Петербург           28098.0   \n",
       "4          41.00      NaN            Санкт-Петербург           31856.0   \n",
       "5           9.10      NaN  городской посёлок Янино-1               NaN   \n",
       "6          14.40      1.0          посёлок Парголово           52996.0   \n",
       "7          18.90      2.0            Санкт-Петербург           23982.0   \n",
       "8           8.81      NaN             посёлок Мурино               NaN   \n",
       "9           6.50      2.0            Санкт-Петербург           50898.0   \n",
       "10          8.50      NaN            Санкт-Петербург           38357.0   \n",
       "11          6.00      1.0                  Ломоносов           48252.0   \n",
       "12          9.00      0.0                  Сертолово               NaN   \n",
       "13          5.20      1.0                   Петергоф           37868.0   \n",
       "14          8.00      0.0                     Пушкин           20782.0   \n",
       "15          7.60      1.0            Санкт-Петербург           12900.0   \n",
       "16          9.00      NaN            Санкт-Петербург           22108.0   \n",
       "17         11.00      1.0            Санкт-Петербург           33564.0   \n",
       "18          5.60      1.0            Санкт-Петербург           44060.0   \n",
       "19         12.00      NaN            Санкт-Петербург           38900.0   \n",
       "\n",
       "   cityCenters_nearest  parks_around3000  parks_nearest  ponds_around3000  \\\n",
       "0              16028.0               1.0          482.0               2.0   \n",
       "1              18603.0               0.0            NaN               0.0   \n",
       "2              13933.0               1.0           90.0               2.0   \n",
       "3               6800.0               2.0           84.0               3.0   \n",
       "4               8098.0               2.0          112.0               1.0   \n",
       "5                  NaN               NaN            NaN               NaN   \n",
       "6              19143.0               0.0            NaN               0.0   \n",
       "7              11634.0               0.0            NaN               0.0   \n",
       "8                  NaN               NaN            NaN               NaN   \n",
       "9              15008.0               0.0            NaN               0.0   \n",
       "10             13878.0               1.0          310.0               2.0   \n",
       "11             51677.0               0.0            NaN               0.0   \n",
       "12                 NaN               NaN            NaN               NaN   \n",
       "13             33058.0               1.0          294.0               3.0   \n",
       "14             30759.0               0.0            NaN               1.0   \n",
       "15             14259.0               1.0          590.0               1.0   \n",
       "16             10698.0               3.0          420.0               0.0   \n",
       "17             14616.0               0.0            NaN               1.0   \n",
       "18             10842.0               1.0          759.0               0.0   \n",
       "19             12843.0               0.0            NaN               0.0   \n",
       "\n",
       "    ponds_nearest  days_exposition  \n",
       "0           755.0              NaN  \n",
       "1             NaN             81.0  \n",
       "2           574.0            558.0  \n",
       "3           234.0            424.0  \n",
       "4            48.0            121.0  \n",
       "5             NaN             55.0  \n",
       "6             NaN            155.0  \n",
       "7             NaN              NaN  \n",
       "8             NaN            189.0  \n",
       "9             NaN            289.0  \n",
       "10          553.0            137.0  \n",
       "11            NaN              7.0  \n",
       "12            NaN             90.0  \n",
       "13          298.0            366.0  \n",
       "14           96.0            203.0  \n",
       "15          296.0             19.0  \n",
       "16            NaN            397.0  \n",
       "17          859.0            571.0  \n",
       "18            NaN            168.0  \n",
       "19            NaN             97.0  \n",
       "\n",
       "[20 rows x 22 columns]"
      ]
     },
     "metadata": {},
     "output_type": "display_data"
    }
   ],
   "source": [
    "display(data.head(20))"
   ]
  },
  {
   "cell_type": "code",
   "execution_count": 4,
   "metadata": {},
   "outputs": [
    {
     "name": "stdout",
     "output_type": "stream",
     "text": [
      "<class 'pandas.core.frame.DataFrame'>\n",
      "RangeIndex: 23699 entries, 0 to 23698\n",
      "Data columns (total 22 columns):\n",
      " #   Column                Non-Null Count  Dtype  \n",
      "---  ------                --------------  -----  \n",
      " 0   total_images          23699 non-null  int64  \n",
      " 1   last_price            23699 non-null  float64\n",
      " 2   total_area            23699 non-null  float64\n",
      " 3   first_day_exposition  23699 non-null  object \n",
      " 4   rooms                 23699 non-null  int64  \n",
      " 5   ceiling_height        14504 non-null  float64\n",
      " 6   floors_total          23613 non-null  float64\n",
      " 7   living_area           21796 non-null  float64\n",
      " 8   floor                 23699 non-null  int64  \n",
      " 9   is_apartment          2775 non-null   object \n",
      " 10  studio                23699 non-null  bool   \n",
      " 11  open_plan             23699 non-null  bool   \n",
      " 12  kitchen_area          21421 non-null  float64\n",
      " 13  balcony               12180 non-null  float64\n",
      " 14  locality_name         23650 non-null  object \n",
      " 15  airports_nearest      18157 non-null  float64\n",
      " 16  cityCenters_nearest   18180 non-null  float64\n",
      " 17  parks_around3000      18181 non-null  float64\n",
      " 18  parks_nearest         8079 non-null   float64\n",
      " 19  ponds_around3000      18181 non-null  float64\n",
      " 20  ponds_nearest         9110 non-null   float64\n",
      " 21  days_exposition       20518 non-null  float64\n",
      "dtypes: bool(2), float64(14), int64(3), object(3)\n",
      "memory usage: 3.7+ MB\n"
     ]
    }
   ],
   "source": [
    "data.info()"
   ]
  },
  {
   "cell_type": "markdown",
   "metadata": {},
   "source": [
    "### Вывод"
   ]
  },
  {
   "cell_type": "markdown",
   "metadata": {},
   "source": [
    "В таблице 22 столбца. Типы данных во всех столбцах - object, int64, float64.\n",
    "\n",
    "Согласно документации к данным:\n",
    "* airports_nearest — расстояние до ближайшего аэропорта в метрах (м)\n",
    "* balcony — число балконов\n",
    "* ceiling_height — высота потолков (м)\n",
    "* cityCenters_nearest — расстояние до центра города (м)\n",
    "* days_exposition — сколько дней было размещено объявление (от публикации до снятия)\n",
    "* first_day_exposition — дата публикации\n",
    "* floor — этаж\n",
    "* floors_total — всего этажей в доме\n",
    "* is_apartment — апартаменты (булев тип)\n",
    "* kitchen_area — площадь кухни в квадратных метрах (м²)\n",
    "* last_price — цена на момент снятия с публикации\n",
    "* living_area — жилая площадь в квадратных метрах (м²)\n",
    "* locality_name — название населённого пункта\n",
    "* open_plan — свободная планировка (булев тип)\n",
    "* parks_around3000 — число парков в радиусе 3 км\n",
    "* parks_nearest — расстояние до ближайшего парка (м)\n",
    "* ponds_around3000 — число водоёмов в радиусе 3 км\n",
    "* ponds_nearest — расстояние до ближайшего водоёма (м)\n",
    "* rooms — число комнат\n",
    "* studio — квартира-студия (булев тип)\n",
    "* total_area — площадь квартиры в квадратных метрах (м²)\n",
    "* total_images — число фотографий квартиры в объявлении\n",
    "\n",
    "В названиях колонок наблюдается 1 нарушение: cityCenters_nearest должна иметь строчные буквы.\n",
    "\n",
    "Количество значений в столбцах различается. Значит, в данных есть пропущенные значения."
   ]
  },
  {
   "cell_type": "markdown",
   "metadata": {},
   "source": [
    "<div class=\"alert alert-block alert-success\">\n",
    "<b>Успех ✔️:</b> Данные на базе, идем дальше)\n",
    "</div>"
   ]
  },
  {
   "cell_type": "markdown",
   "metadata": {},
   "source": [
    "## Предобработка данных"
   ]
  },
  {
   "cell_type": "code",
   "execution_count": 5,
   "metadata": {},
   "outputs": [
    {
     "data": {
      "text/plain": [
       "0"
      ]
     },
     "execution_count": 5,
     "metadata": {},
     "output_type": "execute_result"
    }
   ],
   "source": [
    "data.duplicated().sum()"
   ]
  },
  {
   "cell_type": "markdown",
   "metadata": {},
   "source": [
    "Дубликатов нет."
   ]
  },
  {
   "cell_type": "markdown",
   "metadata": {},
   "source": [
    "### Изучение пропусков"
   ]
  },
  {
   "cell_type": "markdown",
   "metadata": {},
   "source": [
    "Предположим из-за чего могли возникнуть пропуски в данных:"
   ]
  },
  {
   "cell_type": "markdown",
   "metadata": {},
   "source": [
    "1. В столбце ceiling_height более 9000 пропусков. Убрав эти строки, мы существенно изменим статистику. Поэтому пропущенные значения можем заменить на медианные. Заменим не на среднее значение, т.к. некоторые значения в этом столбце выделяются среди большинства."
   ]
  },
  {
   "cell_type": "code",
   "execution_count": 6,
   "metadata": {},
   "outputs": [
    {
     "data": {
      "text/plain": [
       "9195"
      ]
     },
     "execution_count": 6,
     "metadata": {},
     "output_type": "execute_result"
    }
   ],
   "source": [
    "data['ceiling_height'].isna().sum()#количество пропусков в столбце ceiling_height"
   ]
  },
  {
   "cell_type": "code",
   "execution_count": 7,
   "metadata": {},
   "outputs": [
    {
     "data": {
      "text/plain": [
       "2.50     3515\n",
       "2.60     1646\n",
       "2.70     1574\n",
       "3.00     1112\n",
       "2.80      993\n",
       "         ... \n",
       "4.25        1\n",
       "3.39        1\n",
       "3.93        1\n",
       "10.30       1\n",
       "4.65        1\n",
       "Name: ceiling_height, Length: 183, dtype: int64"
      ]
     },
     "execution_count": 7,
     "metadata": {},
     "output_type": "execute_result"
    }
   ],
   "source": [
    "data['ceiling_height'].value_counts()#котировка значений в столбце ceiling_height"
   ]
  },
  {
   "cell_type": "code",
   "execution_count": 8,
   "metadata": {},
   "outputs": [],
   "source": [
    "data['ceiling_height']=data['ceiling_height'].fillna(data['ceiling_height'].median())#замена пропусков на медианное значение"
   ]
  },
  {
   "cell_type": "code",
   "execution_count": 9,
   "metadata": {},
   "outputs": [
    {
     "data": {
      "text/plain": [
       "0"
      ]
     },
     "execution_count": 9,
     "metadata": {},
     "output_type": "execute_result"
    }
   ],
   "source": [
    "data['ceiling_height'].isna().sum()#количество пропусков в столбце ceiling_height"
   ]
  },
  {
   "cell_type": "markdown",
   "metadata": {},
   "source": [
    "<div class=\"alert alert-block alert-success\">\n",
    "<b>Успех ✔️:</b> Согласен)\n",
    "</div>"
   ]
  },
  {
   "cell_type": "markdown",
   "metadata": {},
   "source": [
    "2.В столбце floors_total меньше 100 пропусков. Однако в столбце floor пропусков нет. Посмотрим на количество уникальных значений в этом столбце:"
   ]
  },
  {
   "cell_type": "code",
   "execution_count": 10,
   "metadata": {},
   "outputs": [
    {
     "data": {
      "text/plain": [
       "2     3368\n",
       "3     3073\n",
       "1     2917\n",
       "4     2804\n",
       "5     2621\n",
       "6     1305\n",
       "7     1218\n",
       "8     1083\n",
       "9     1051\n",
       "10     687\n",
       "12     526\n",
       "11     523\n",
       "13     379\n",
       "15     343\n",
       "14     337\n",
       "16     315\n",
       "17     227\n",
       "18     178\n",
       "19     147\n",
       "21     125\n",
       "22     113\n",
       "20     110\n",
       "23     100\n",
       "24      63\n",
       "25      46\n",
       "26      24\n",
       "27      10\n",
       "28       1\n",
       "29       1\n",
       "32       1\n",
       "30       1\n",
       "33       1\n",
       "31       1\n",
       "Name: floor, dtype: int64"
      ]
     },
     "execution_count": 10,
     "metadata": {},
     "output_type": "execute_result"
    }
   ],
   "source": [
    "data['floor'].value_counts()"
   ]
  },
  {
   "cell_type": "markdown",
   "metadata": {},
   "source": [
    "Все значения являются натуральными, а значит пропуски в столбце floors_total совершенно случайны и существуют из-за человеческого фактора. Т.к. пропусков не много, можно оставить эти значения пустыми."
   ]
  },
  {
   "cell_type": "markdown",
   "metadata": {},
   "source": [
    "<div class=\"alert alert-block alert-success\">\n",
    "<b>Успех ✔️:</b> Принято)\n",
    "</div>"
   ]
  },
  {
   "cell_type": "markdown",
   "metadata": {},
   "source": [
    "3.В столбце living_area около 2000 пропусков. Данные в этом столбце очень важны, т.к. каждое значение существенно может повлиять на цену квартиры. Заменим пропуски на среднюю долю жилой площади от общей "
   ]
  },
  {
   "cell_type": "code",
   "execution_count": 11,
   "metadata": {},
   "outputs": [
    {
     "data": {
      "text/plain": [
       "18.00    882\n",
       "17.00    675\n",
       "30.00    598\n",
       "16.00    486\n",
       "20.00    481\n",
       "        ... \n",
       "96.40      1\n",
       "50.26      1\n",
       "43.81      1\n",
       "54.43      1\n",
       "16.74      1\n",
       "Name: living_area, Length: 1782, dtype: int64"
      ]
     },
     "execution_count": 11,
     "metadata": {},
     "output_type": "execute_result"
    }
   ],
   "source": [
    "data['living_area'].value_counts()#количество уникальных значений в столбце living_area"
   ]
  },
  {
   "cell_type": "code",
   "execution_count": 12,
   "metadata": {},
   "outputs": [
    {
     "name": "stdout",
     "output_type": "stream",
     "text": [
      "30.0 34.457852427601395\n"
     ]
    }
   ],
   "source": [
    "print(data['living_area'].median(),data['living_area'].mean())#медиана и среднее значение в столбце living_area"
   ]
  },
  {
   "cell_type": "code",
   "execution_count": 13,
   "metadata": {},
   "outputs": [],
   "source": [
    "#КОД РЕВЬЮЕРА (пример заполнения пропусков жилой площади)\n",
    "\n",
    "df = data.copy()\n",
    "\n",
    "df['part_living'] = df.living_area / df.total_area\n",
    "df['living_area'].fillna(df['part_living'].mean() * df['total_area'], inplace=True)"
   ]
  },
  {
   "cell_type": "markdown",
   "metadata": {},
   "source": [
    "<div class=\"alert alert-block alert-info\">\n",
    "<b>Комментарий студента:</b> Исправление:</div>"
   ]
  },
  {
   "cell_type": "code",
   "execution_count": 14,
   "metadata": {},
   "outputs": [],
   "source": [
    "data['living_area']=data['living_area'].fillna((data['living_area']/data['total_area']).mean())#замена пропусков на медианное значение"
   ]
  },
  {
   "cell_type": "code",
   "execution_count": 15,
   "metadata": {},
   "outputs": [
    {
     "data": {
      "text/plain": [
       "0"
      ]
     },
     "execution_count": 15,
     "metadata": {},
     "output_type": "execute_result"
    }
   ],
   "source": [
    "data['living_area'].isna().sum()#количество пропусков в столбце living_area"
   ]
  },
  {
   "cell_type": "markdown",
   "metadata": {},
   "source": [
    "<div class=\"alert alert-block alert-danger\">\n",
    "<b>Ошибка ❌:</b> Жилую площадь мы не можем так заполнить, общая площадь очень разная у нас) Самым верным решением будет использовать среднюю долю жилой площади от общей и дальше соответственно для заполнения пропусков надо будет умножить среднюю долю на общую. Сделать мы так можем, потому что при строительстве есть стандарты и пропорции +/- сохраняются)\n",
    "</div>"
   ]
  },
  {
   "cell_type": "markdown",
   "metadata": {},
   "source": [
    "<div class=\"alert alert-block alert-info\">\n",
    "<b>Комментарий студента:</b> Думаю, верно исправил.</div>"
   ]
  },
  {
   "cell_type": "markdown",
   "metadata": {},
   "source": [
    "<div class=\"alert alert-block alert-warning\">\n",
    "<b>Комментарий ревьюера 2 ⚠️: </b> Не совсем так) Мы сполнили средней долей, но это не площадь, а мы вроде ее заполняем, нам теперь эту долю надо умножить на общую площадь и тогда мы получим значения для заполнения) Возможно я плохо сформулировал изначально, попробовал показать выше. Отмечать красным не буду, потому что признак не участвует в анализе\n",
    "</div>\n"
   ]
  },
  {
   "cell_type": "markdown",
   "metadata": {},
   "source": [
    "4.В столбце is_apartment около 20000 пропусков. Скорее всего апартаментов в строках с пропусками нет, поэтому заменим эти значения на False:"
   ]
  },
  {
   "cell_type": "code",
   "execution_count": 16,
   "metadata": {},
   "outputs": [],
   "source": [
    "data['is_apartment']=data['is_apartment'].fillna(False)"
   ]
  },
  {
   "cell_type": "code",
   "execution_count": 17,
   "metadata": {},
   "outputs": [
    {
     "data": {
      "text/plain": [
       "0"
      ]
     },
     "execution_count": 17,
     "metadata": {},
     "output_type": "execute_result"
    }
   ],
   "source": [
    "data['is_apartment'].isna().sum()#количество пропусков в столбце is_apartment"
   ]
  },
  {
   "cell_type": "markdown",
   "metadata": {},
   "source": [
    "<div class=\"alert alert-block alert-success\">\n",
    "<b>Успех ✔️:</b> Согласен)\n",
    "</div>"
   ]
  },
  {
   "cell_type": "markdown",
   "metadata": {},
   "source": [
    "5.В столбце kitchen_area около 2000 пропусков. Заменим на среднюю долю площади кухни от общей   "
   ]
  },
  {
   "cell_type": "code",
   "execution_count": 18,
   "metadata": {},
   "outputs": [],
   "source": [
    "data['kitchen_area']=data['kitchen_area'].fillna((data['living_area']/data['total_area']).mean())"
   ]
  },
  {
   "cell_type": "code",
   "execution_count": 19,
   "metadata": {},
   "outputs": [
    {
     "data": {
      "text/plain": [
       "0"
      ]
     },
     "execution_count": 19,
     "metadata": {},
     "output_type": "execute_result"
    }
   ],
   "source": [
    "data['kitchen_area'].isna().sum()#количество пропусков в столбце kitchen_area"
   ]
  },
  {
   "cell_type": "markdown",
   "metadata": {},
   "source": [
    "<div class=\"alert alert-block alert-warning\">\n",
    "<b>Рекомендация ⚠️: </b> Хорошее предположение, возможно и так) Также этот признак можно заполнить методом, который я описал для жилой площади)\n",
    "</div>"
   ]
  },
  {
   "cell_type": "markdown",
   "metadata": {},
   "source": [
    "<div class=\"alert alert-block alert-info\">\n",
    "<b>Комментарий студента:</b> Исправил)</div>"
   ]
  },
  {
   "cell_type": "markdown",
   "metadata": {},
   "source": [
    "6. В столбце balcony больше 10000 пропусков. Скорее всего в квартирах с пропусками в этом столбце нет балконов. Заменим эти пропуски на 0:"
   ]
  },
  {
   "cell_type": "code",
   "execution_count": 20,
   "metadata": {},
   "outputs": [],
   "source": [
    "data['balcony']=data['balcony'].fillna(0)"
   ]
  },
  {
   "cell_type": "code",
   "execution_count": 21,
   "metadata": {},
   "outputs": [
    {
     "data": {
      "text/plain": [
       "0"
      ]
     },
     "execution_count": 21,
     "metadata": {},
     "output_type": "execute_result"
    }
   ],
   "source": [
    "data['balcony'].isna().sum()#количество пропусков в столбце balcony"
   ]
  },
  {
   "cell_type": "markdown",
   "metadata": {},
   "source": [
    "<div class=\"alert alert-block alert-success\">\n",
    "<b>Успех ✔️:</b> Хорошо)\n",
    "</div>"
   ]
  },
  {
   "cell_type": "markdown",
   "metadata": {},
   "source": [
    "7.В столбце locality_name, где указывают название населенного пункта, меньше 100 пропусков. Эти пропуски можно оставить без изменений."
   ]
  },
  {
   "cell_type": "markdown",
   "metadata": {},
   "source": [
    "8.В столбцах parks_around3000, ponds_around3000 пропусков(в районе 5000) меньше, чем в parks_nearest, ponds_nearest соответственно. Возможно, в последних двух столбцах логично заполнить пропуски 3 в строках, где в двух первых столбцах есть положительные значения(т.к. первые два столбца могут показывать, что существует парк или водоем в конкретной строке). Остальные пропуски можно заполнить 0. "
   ]
  },
  {
   "cell_type": "code",
   "execution_count": 22,
   "metadata": {},
   "outputs": [
    {
     "data": {
      "text/plain": [
       "0.0    10106\n",
       "1.0     5681\n",
       "2.0     1747\n",
       "3.0      647\n",
       "Name: parks_around3000, dtype: int64"
      ]
     },
     "execution_count": 22,
     "metadata": {},
     "output_type": "execute_result"
    }
   ],
   "source": [
    "data['parks_around3000'].value_counts()"
   ]
  },
  {
   "cell_type": "code",
   "execution_count": 23,
   "metadata": {},
   "outputs": [
    {
     "data": {
      "text/plain": [
       "0.0    9071\n",
       "1.0    5717\n",
       "2.0    1892\n",
       "3.0    1501\n",
       "Name: ponds_around3000, dtype: int64"
      ]
     },
     "execution_count": 23,
     "metadata": {},
     "output_type": "execute_result"
    }
   ],
   "source": [
    "data['ponds_around3000'].value_counts()"
   ]
  },
  {
   "cell_type": "markdown",
   "metadata": {},
   "source": [
    "Значит при 0 значении в первых двух столбцах - в последних двух столбцах значения не стали заполнять. Все пропуски можем заполнить 0:"
   ]
  },
  {
   "cell_type": "code",
   "execution_count": 24,
   "metadata": {},
   "outputs": [],
   "source": [
    "data['parks_around3000']=data['parks_around3000'].fillna(0)\n",
    "data['ponds_around3000']=data['ponds_around3000'].fillna(0)\n",
    "data['parks_nearest']=data['parks_nearest'].fillna(0)\n",
    "data['ponds_nearest']=data['ponds_nearest'].fillna(0)"
   ]
  },
  {
   "cell_type": "markdown",
   "metadata": {},
   "source": [
    "9. То же самое сделаем со столбцами airports_nearest и cityCenters_nearest, т.к. пропуски, скорее всего, означают, что около недвижимости нет рядом аэропорта и она находится не в центре города."
   ]
  },
  {
   "cell_type": "code",
   "execution_count": 25,
   "metadata": {},
   "outputs": [],
   "source": [
    "data.rename(columns={'cityCenters_nearest':'citycenters_nearest'},inplace=True)#поменям имя столбца cityCenters_nearest"
   ]
  },
  {
   "cell_type": "code",
   "execution_count": 26,
   "metadata": {},
   "outputs": [],
   "source": [
    "data['airports_nearest']=data['airports_nearest'].fillna(0)\n",
    "data['citycenters_nearest']=data['citycenters_nearest'].fillna(0)"
   ]
  },
  {
   "cell_type": "markdown",
   "metadata": {},
   "source": [
    "В столбце days_exposition пропуски озночают, что в конкретной строке объявление было дано в день передачи датасета мне аналитику(мне), либо в первый же день объявление было снято. Затрудняюсь чем заполнить."
   ]
  },
  {
   "cell_type": "markdown",
   "metadata": {},
   "source": [
    "<div class=\"alert alert-block alert-success\">\n",
    "<b>Успех ✔️:</b> days_exposition лучшим решением будет не заполнять\n",
    "</div>"
   ]
  },
  {
   "cell_type": "code",
   "execution_count": 27,
   "metadata": {},
   "outputs": [
    {
     "name": "stdout",
     "output_type": "stream",
     "text": [
      "<class 'pandas.core.frame.DataFrame'>\n",
      "RangeIndex: 23699 entries, 0 to 23698\n",
      "Data columns (total 22 columns):\n",
      " #   Column                Non-Null Count  Dtype  \n",
      "---  ------                --------------  -----  \n",
      " 0   total_images          23699 non-null  int64  \n",
      " 1   last_price            23699 non-null  float64\n",
      " 2   total_area            23699 non-null  float64\n",
      " 3   first_day_exposition  23699 non-null  object \n",
      " 4   rooms                 23699 non-null  int64  \n",
      " 5   ceiling_height        23699 non-null  float64\n",
      " 6   floors_total          23613 non-null  float64\n",
      " 7   living_area           23699 non-null  float64\n",
      " 8   floor                 23699 non-null  int64  \n",
      " 9   is_apartment          23699 non-null  bool   \n",
      " 10  studio                23699 non-null  bool   \n",
      " 11  open_plan             23699 non-null  bool   \n",
      " 12  kitchen_area          23699 non-null  float64\n",
      " 13  balcony               23699 non-null  float64\n",
      " 14  locality_name         23650 non-null  object \n",
      " 15  airports_nearest      23699 non-null  float64\n",
      " 16  citycenters_nearest   23699 non-null  float64\n",
      " 17  parks_around3000      23699 non-null  float64\n",
      " 18  parks_nearest         23699 non-null  float64\n",
      " 19  ponds_around3000      23699 non-null  float64\n",
      " 20  ponds_nearest         23699 non-null  float64\n",
      " 21  days_exposition       20518 non-null  float64\n",
      "dtypes: bool(3), float64(14), int64(3), object(2)\n",
      "memory usage: 3.5+ MB\n"
     ]
    }
   ],
   "source": [
    "data.info()"
   ]
  },
  {
   "cell_type": "markdown",
   "metadata": {},
   "source": [
    "### Изменение типа в столбцах"
   ]
  },
  {
   "cell_type": "markdown",
   "metadata": {},
   "source": [
    "В столбцах total_area, floors_total, balcony, parks_around3000, ponds_around3000 нужно поменять тип float64 на тип int64, т.к. в эти столбцы заполняют целочисленными значениями."
   ]
  },
  {
   "cell_type": "code",
   "execution_count": 28,
   "metadata": {},
   "outputs": [],
   "source": [
    "data=data.astype({'total_area':'int64','balcony':'int64','parks_around3000':'int64','ponds_around3000':'int64'})"
   ]
  },
  {
   "cell_type": "markdown",
   "metadata": {},
   "source": [
    "<div class=\"alert alert-block alert-danger\">\n",
    "<b>Ошибка ❌:</b> Код не исполняется, потому что ты пытаешься изменить тип данных в тех признаках, которые имеют пропуски) Давай поправим и не будем менять тип в таких признаках)\n",
    "</div>"
   ]
  },
  {
   "cell_type": "markdown",
   "metadata": {},
   "source": [
    "<div class=\"alert alert-block alert-info\">\n",
    "<b>Комментарий студента:</b> Исправил).</div>"
   ]
  },
  {
   "cell_type": "code",
   "execution_count": 29,
   "metadata": {},
   "outputs": [
    {
     "name": "stdout",
     "output_type": "stream",
     "text": [
      "<class 'pandas.core.frame.DataFrame'>\n",
      "RangeIndex: 23699 entries, 0 to 23698\n",
      "Data columns (total 22 columns):\n",
      " #   Column                Non-Null Count  Dtype  \n",
      "---  ------                --------------  -----  \n",
      " 0   total_images          23699 non-null  int64  \n",
      " 1   last_price            23699 non-null  float64\n",
      " 2   total_area            23699 non-null  int64  \n",
      " 3   first_day_exposition  23699 non-null  object \n",
      " 4   rooms                 23699 non-null  int64  \n",
      " 5   ceiling_height        23699 non-null  float64\n",
      " 6   floors_total          23613 non-null  float64\n",
      " 7   living_area           23699 non-null  float64\n",
      " 8   floor                 23699 non-null  int64  \n",
      " 9   is_apartment          23699 non-null  bool   \n",
      " 10  studio                23699 non-null  bool   \n",
      " 11  open_plan             23699 non-null  bool   \n",
      " 12  kitchen_area          23699 non-null  float64\n",
      " 13  balcony               23699 non-null  int64  \n",
      " 14  locality_name         23650 non-null  object \n",
      " 15  airports_nearest      23699 non-null  float64\n",
      " 16  citycenters_nearest   23699 non-null  float64\n",
      " 17  parks_around3000      23699 non-null  int64  \n",
      " 18  parks_nearest         23699 non-null  float64\n",
      " 19  ponds_around3000      23699 non-null  int64  \n",
      " 20  ponds_nearest         23699 non-null  float64\n",
      " 21  days_exposition       20518 non-null  float64\n",
      "dtypes: bool(3), float64(10), int64(7), object(2)\n",
      "memory usage: 3.5+ MB\n"
     ]
    }
   ],
   "source": [
    "data.info()"
   ]
  },
  {
   "cell_type": "markdown",
   "metadata": {},
   "source": [
    "В столбце floors_total нельзя изменить тим на int64, т.к. там оставилены пропуски."
   ]
  },
  {
   "cell_type": "markdown",
   "metadata": {},
   "source": [
    "<div class=\"alert alert-block alert-danger\">\n",
    "<b>Ошибка ❌:</b> Добавь, пожалуйста, вывод по второму этапу работы)\n",
    "</div>"
   ]
  },
  {
   "cell_type": "markdown",
   "metadata": {},
   "source": [
    "### Вывод"
   ]
  },
  {
   "cell_type": "markdown",
   "metadata": {},
   "source": [
    "Около 10 столбцов имеют пропуски, которые в большинстве случаев я заполнил. Также изменил тип данных в нескольких столбцах."
   ]
  },
  {
   "cell_type": "markdown",
   "metadata": {},
   "source": [
    "<div class=\"alert alert-block alert-info\">\n",
    "<b>Комментарий студента:</b> Исправил).</div>"
   ]
  },
  {
   "cell_type": "markdown",
   "metadata": {},
   "source": [
    "## Расчёты и добавление результатов в таблицу"
   ]
  },
  {
   "cell_type": "code",
   "execution_count": 30,
   "metadata": {},
   "outputs": [],
   "source": [
    "data['first_day_exposition']=pd.to_datetime(data['first_day_exposition'],format='%Y-%m-%dT%H:%M:%S')#перевод строки в дату"
   ]
  },
  {
   "cell_type": "code",
   "execution_count": 31,
   "metadata": {
    "scrolled": false
   },
   "outputs": [
    {
     "data": {
      "text/html": [
       "<div>\n",
       "<style scoped>\n",
       "    .dataframe tbody tr th:only-of-type {\n",
       "        vertical-align: middle;\n",
       "    }\n",
       "\n",
       "    .dataframe tbody tr th {\n",
       "        vertical-align: top;\n",
       "    }\n",
       "\n",
       "    .dataframe thead th {\n",
       "        text-align: right;\n",
       "    }\n",
       "</style>\n",
       "<table border=\"1\" class=\"dataframe\">\n",
       "  <thead>\n",
       "    <tr style=\"text-align: right;\">\n",
       "      <th></th>\n",
       "      <th>total_images</th>\n",
       "      <th>last_price</th>\n",
       "      <th>total_area</th>\n",
       "      <th>first_day_exposition</th>\n",
       "      <th>rooms</th>\n",
       "      <th>ceiling_height</th>\n",
       "      <th>floors_total</th>\n",
       "      <th>living_area</th>\n",
       "      <th>floor</th>\n",
       "      <th>is_apartment</th>\n",
       "      <th>...</th>\n",
       "      <th>balcony</th>\n",
       "      <th>locality_name</th>\n",
       "      <th>airports_nearest</th>\n",
       "      <th>citycenters_nearest</th>\n",
       "      <th>parks_around3000</th>\n",
       "      <th>parks_nearest</th>\n",
       "      <th>ponds_around3000</th>\n",
       "      <th>ponds_nearest</th>\n",
       "      <th>days_exposition</th>\n",
       "      <th>price_meter</th>\n",
       "    </tr>\n",
       "  </thead>\n",
       "  <tbody>\n",
       "    <tr>\n",
       "      <th>0</th>\n",
       "      <td>20</td>\n",
       "      <td>13000000.0</td>\n",
       "      <td>108</td>\n",
       "      <td>2019-03-07</td>\n",
       "      <td>3</td>\n",
       "      <td>2.70</td>\n",
       "      <td>16.0</td>\n",
       "      <td>51.000000</td>\n",
       "      <td>8</td>\n",
       "      <td>False</td>\n",
       "      <td>...</td>\n",
       "      <td>0</td>\n",
       "      <td>Санкт-Петербург</td>\n",
       "      <td>18863.0</td>\n",
       "      <td>16028.0</td>\n",
       "      <td>1</td>\n",
       "      <td>482.0</td>\n",
       "      <td>2</td>\n",
       "      <td>755.0</td>\n",
       "      <td>NaN</td>\n",
       "      <td>120370.37</td>\n",
       "    </tr>\n",
       "    <tr>\n",
       "      <th>1</th>\n",
       "      <td>7</td>\n",
       "      <td>3350000.0</td>\n",
       "      <td>40</td>\n",
       "      <td>2018-12-04</td>\n",
       "      <td>1</td>\n",
       "      <td>2.65</td>\n",
       "      <td>11.0</td>\n",
       "      <td>18.600000</td>\n",
       "      <td>1</td>\n",
       "      <td>False</td>\n",
       "      <td>...</td>\n",
       "      <td>2</td>\n",
       "      <td>посёлок Шушары</td>\n",
       "      <td>12817.0</td>\n",
       "      <td>18603.0</td>\n",
       "      <td>0</td>\n",
       "      <td>0.0</td>\n",
       "      <td>0</td>\n",
       "      <td>0.0</td>\n",
       "      <td>81.0</td>\n",
       "      <td>83750.00</td>\n",
       "    </tr>\n",
       "    <tr>\n",
       "      <th>2</th>\n",
       "      <td>10</td>\n",
       "      <td>5196000.0</td>\n",
       "      <td>56</td>\n",
       "      <td>2015-08-20</td>\n",
       "      <td>2</td>\n",
       "      <td>2.65</td>\n",
       "      <td>5.0</td>\n",
       "      <td>34.300000</td>\n",
       "      <td>4</td>\n",
       "      <td>False</td>\n",
       "      <td>...</td>\n",
       "      <td>0</td>\n",
       "      <td>Санкт-Петербург</td>\n",
       "      <td>21741.0</td>\n",
       "      <td>13933.0</td>\n",
       "      <td>1</td>\n",
       "      <td>90.0</td>\n",
       "      <td>2</td>\n",
       "      <td>574.0</td>\n",
       "      <td>558.0</td>\n",
       "      <td>92785.71</td>\n",
       "    </tr>\n",
       "    <tr>\n",
       "      <th>3</th>\n",
       "      <td>0</td>\n",
       "      <td>64900000.0</td>\n",
       "      <td>159</td>\n",
       "      <td>2015-07-24</td>\n",
       "      <td>3</td>\n",
       "      <td>2.65</td>\n",
       "      <td>14.0</td>\n",
       "      <td>0.564766</td>\n",
       "      <td>9</td>\n",
       "      <td>False</td>\n",
       "      <td>...</td>\n",
       "      <td>0</td>\n",
       "      <td>Санкт-Петербург</td>\n",
       "      <td>28098.0</td>\n",
       "      <td>6800.0</td>\n",
       "      <td>2</td>\n",
       "      <td>84.0</td>\n",
       "      <td>3</td>\n",
       "      <td>234.0</td>\n",
       "      <td>424.0</td>\n",
       "      <td>408176.10</td>\n",
       "    </tr>\n",
       "    <tr>\n",
       "      <th>4</th>\n",
       "      <td>2</td>\n",
       "      <td>10000000.0</td>\n",
       "      <td>100</td>\n",
       "      <td>2018-06-19</td>\n",
       "      <td>2</td>\n",
       "      <td>3.03</td>\n",
       "      <td>14.0</td>\n",
       "      <td>32.000000</td>\n",
       "      <td>13</td>\n",
       "      <td>False</td>\n",
       "      <td>...</td>\n",
       "      <td>0</td>\n",
       "      <td>Санкт-Петербург</td>\n",
       "      <td>31856.0</td>\n",
       "      <td>8098.0</td>\n",
       "      <td>2</td>\n",
       "      <td>112.0</td>\n",
       "      <td>1</td>\n",
       "      <td>48.0</td>\n",
       "      <td>121.0</td>\n",
       "      <td>100000.00</td>\n",
       "    </tr>\n",
       "  </tbody>\n",
       "</table>\n",
       "<p>5 rows × 23 columns</p>\n",
       "</div>"
      ],
      "text/plain": [
       "   total_images  last_price  total_area first_day_exposition  rooms  \\\n",
       "0            20  13000000.0         108           2019-03-07      3   \n",
       "1             7   3350000.0          40           2018-12-04      1   \n",
       "2            10   5196000.0          56           2015-08-20      2   \n",
       "3             0  64900000.0         159           2015-07-24      3   \n",
       "4             2  10000000.0         100           2018-06-19      2   \n",
       "\n",
       "   ceiling_height  floors_total  living_area  floor  is_apartment  ...  \\\n",
       "0            2.70          16.0    51.000000      8         False  ...   \n",
       "1            2.65          11.0    18.600000      1         False  ...   \n",
       "2            2.65           5.0    34.300000      4         False  ...   \n",
       "3            2.65          14.0     0.564766      9         False  ...   \n",
       "4            3.03          14.0    32.000000     13         False  ...   \n",
       "\n",
       "   balcony    locality_name  airports_nearest  citycenters_nearest  \\\n",
       "0        0  Санкт-Петербург           18863.0              16028.0   \n",
       "1        2   посёлок Шушары           12817.0              18603.0   \n",
       "2        0  Санкт-Петербург           21741.0              13933.0   \n",
       "3        0  Санкт-Петербург           28098.0               6800.0   \n",
       "4        0  Санкт-Петербург           31856.0               8098.0   \n",
       "\n",
       "  parks_around3000  parks_nearest  ponds_around3000  ponds_nearest  \\\n",
       "0                1          482.0                 2          755.0   \n",
       "1                0            0.0                 0            0.0   \n",
       "2                1           90.0                 2          574.0   \n",
       "3                2           84.0                 3          234.0   \n",
       "4                2          112.0                 1           48.0   \n",
       "\n",
       "   days_exposition  price_meter  \n",
       "0              NaN    120370.37  \n",
       "1             81.0     83750.00  \n",
       "2            558.0     92785.71  \n",
       "3            424.0    408176.10  \n",
       "4            121.0    100000.00  \n",
       "\n",
       "[5 rows x 23 columns]"
      ]
     },
     "metadata": {},
     "output_type": "display_data"
    }
   ],
   "source": [
    "data['price_meter']=round(data['last_price']/data['total_area'],2)#добавление в таблицу цены за квадратный метер и округление до 2 знаков\n",
    "display(data.head())"
   ]
  },
  {
   "cell_type": "code",
   "execution_count": 37,
   "metadata": {},
   "outputs": [
    {
     "data": {
      "text/plain": [
       "0       2019-03-07\n",
       "1       2018-12-04\n",
       "2       2015-08-20\n",
       "3       2015-07-24\n",
       "4       2018-06-19\n",
       "           ...    \n",
       "23694   2017-03-21\n",
       "23695   2018-01-15\n",
       "23696   2018-02-11\n",
       "23697   2017-03-28\n",
       "23698   2017-07-21\n",
       "Name: first_day_exposition, Length: 23699, dtype: datetime64[ns]"
      ]
     },
     "execution_count": 37,
     "metadata": {},
     "output_type": "execute_result"
    }
   ],
   "source": [
    "data['first_day_exposition']"
   ]
  },
  {
   "cell_type": "code",
   "execution_count": 32,
   "metadata": {},
   "outputs": [],
   "source": [
    "data['year']=data['first_day_exposition'].dt.year#добавление года каждой строки\n",
    "data['month']=data['first_day_exposition'].dt.month#добавление месяца каждой строки\n",
    "data['weekday']=data['first_day_exposition'].dt.weekday#добавление дня недели каждой строки"
   ]
  },
  {
   "cell_type": "code",
   "execution_count": 33,
   "metadata": {},
   "outputs": [],
   "source": [
    "#создание функции типа этажа\n",
    "def floor(floor,total):\n",
    "    if floor==1:\n",
    "        return 'Первый'\n",
    "    elif floor==total:\n",
    "        return 'Последний'\n",
    "    return 'Другой'"
   ]
  },
  {
   "cell_type": "code",
   "execution_count": 34,
   "metadata": {
    "scrolled": true
   },
   "outputs": [],
   "source": [
    "#добавление типа этажа в data таблицу\n",
    "data['type_floor']=[floor(data['floor'][i],data['floors_total'][i]) for i in range(len(data['floor']))]"
   ]
  },
  {
   "cell_type": "code",
   "execution_count": 35,
   "metadata": {},
   "outputs": [
    {
     "data": {
      "text/plain": [
       "Другой       17446\n",
       "Последний     3336\n",
       "Первый        2917\n",
       "Name: type_floor, dtype: int64"
      ]
     },
     "execution_count": 35,
     "metadata": {},
     "output_type": "execute_result"
    }
   ],
   "source": [
    "data['type_floor'].value_counts()"
   ]
  },
  {
   "cell_type": "code",
   "execution_count": 36,
   "metadata": {},
   "outputs": [],
   "source": [
    "data['ratio_living_area']=round(data['living_area']/data['total_area'],3)#соотношение жилой и общей площади и округление до 3 знаков\n",
    "data['ratio_kitchen_area']=round(data['kitchen_area']/data['total_area'],3)#соотношение кухни и общей площади и округление до 3 знаков"
   ]
  },
  {
   "cell_type": "code",
   "execution_count": 37,
   "metadata": {
    "scrolled": true
   },
   "outputs": [
    {
     "data": {
      "text/html": [
       "<div>\n",
       "<style scoped>\n",
       "    .dataframe tbody tr th:only-of-type {\n",
       "        vertical-align: middle;\n",
       "    }\n",
       "\n",
       "    .dataframe tbody tr th {\n",
       "        vertical-align: top;\n",
       "    }\n",
       "\n",
       "    .dataframe thead th {\n",
       "        text-align: right;\n",
       "    }\n",
       "</style>\n",
       "<table border=\"1\" class=\"dataframe\">\n",
       "  <thead>\n",
       "    <tr style=\"text-align: right;\">\n",
       "      <th></th>\n",
       "      <th>total_images</th>\n",
       "      <th>last_price</th>\n",
       "      <th>total_area</th>\n",
       "      <th>first_day_exposition</th>\n",
       "      <th>rooms</th>\n",
       "      <th>ceiling_height</th>\n",
       "      <th>floors_total</th>\n",
       "      <th>living_area</th>\n",
       "      <th>floor</th>\n",
       "      <th>is_apartment</th>\n",
       "      <th>...</th>\n",
       "      <th>ponds_around3000</th>\n",
       "      <th>ponds_nearest</th>\n",
       "      <th>days_exposition</th>\n",
       "      <th>price_meter</th>\n",
       "      <th>year</th>\n",
       "      <th>month</th>\n",
       "      <th>weekday</th>\n",
       "      <th>type_floor</th>\n",
       "      <th>ratio_living_area</th>\n",
       "      <th>ratio_kitchen_area</th>\n",
       "    </tr>\n",
       "  </thead>\n",
       "  <tbody>\n",
       "    <tr>\n",
       "      <th>0</th>\n",
       "      <td>20</td>\n",
       "      <td>13000000.0</td>\n",
       "      <td>108</td>\n",
       "      <td>2019-03-07</td>\n",
       "      <td>3</td>\n",
       "      <td>2.70</td>\n",
       "      <td>16.0</td>\n",
       "      <td>51.000000</td>\n",
       "      <td>8</td>\n",
       "      <td>False</td>\n",
       "      <td>...</td>\n",
       "      <td>2</td>\n",
       "      <td>755.0</td>\n",
       "      <td>NaN</td>\n",
       "      <td>120370.37</td>\n",
       "      <td>2019</td>\n",
       "      <td>3</td>\n",
       "      <td>3</td>\n",
       "      <td>Другой</td>\n",
       "      <td>0.472</td>\n",
       "      <td>0.231</td>\n",
       "    </tr>\n",
       "    <tr>\n",
       "      <th>1</th>\n",
       "      <td>7</td>\n",
       "      <td>3350000.0</td>\n",
       "      <td>40</td>\n",
       "      <td>2018-12-04</td>\n",
       "      <td>1</td>\n",
       "      <td>2.65</td>\n",
       "      <td>11.0</td>\n",
       "      <td>18.600000</td>\n",
       "      <td>1</td>\n",
       "      <td>False</td>\n",
       "      <td>...</td>\n",
       "      <td>0</td>\n",
       "      <td>0.0</td>\n",
       "      <td>81.0</td>\n",
       "      <td>83750.00</td>\n",
       "      <td>2018</td>\n",
       "      <td>12</td>\n",
       "      <td>1</td>\n",
       "      <td>Первый</td>\n",
       "      <td>0.465</td>\n",
       "      <td>0.275</td>\n",
       "    </tr>\n",
       "    <tr>\n",
       "      <th>2</th>\n",
       "      <td>10</td>\n",
       "      <td>5196000.0</td>\n",
       "      <td>56</td>\n",
       "      <td>2015-08-20</td>\n",
       "      <td>2</td>\n",
       "      <td>2.65</td>\n",
       "      <td>5.0</td>\n",
       "      <td>34.300000</td>\n",
       "      <td>4</td>\n",
       "      <td>False</td>\n",
       "      <td>...</td>\n",
       "      <td>2</td>\n",
       "      <td>574.0</td>\n",
       "      <td>558.0</td>\n",
       "      <td>92785.71</td>\n",
       "      <td>2015</td>\n",
       "      <td>8</td>\n",
       "      <td>3</td>\n",
       "      <td>Другой</td>\n",
       "      <td>0.612</td>\n",
       "      <td>0.148</td>\n",
       "    </tr>\n",
       "    <tr>\n",
       "      <th>3</th>\n",
       "      <td>0</td>\n",
       "      <td>64900000.0</td>\n",
       "      <td>159</td>\n",
       "      <td>2015-07-24</td>\n",
       "      <td>3</td>\n",
       "      <td>2.65</td>\n",
       "      <td>14.0</td>\n",
       "      <td>0.564766</td>\n",
       "      <td>9</td>\n",
       "      <td>False</td>\n",
       "      <td>...</td>\n",
       "      <td>3</td>\n",
       "      <td>234.0</td>\n",
       "      <td>424.0</td>\n",
       "      <td>408176.10</td>\n",
       "      <td>2015</td>\n",
       "      <td>7</td>\n",
       "      <td>4</td>\n",
       "      <td>Другой</td>\n",
       "      <td>0.004</td>\n",
       "      <td>0.003</td>\n",
       "    </tr>\n",
       "    <tr>\n",
       "      <th>4</th>\n",
       "      <td>2</td>\n",
       "      <td>10000000.0</td>\n",
       "      <td>100</td>\n",
       "      <td>2018-06-19</td>\n",
       "      <td>2</td>\n",
       "      <td>3.03</td>\n",
       "      <td>14.0</td>\n",
       "      <td>32.000000</td>\n",
       "      <td>13</td>\n",
       "      <td>False</td>\n",
       "      <td>...</td>\n",
       "      <td>1</td>\n",
       "      <td>48.0</td>\n",
       "      <td>121.0</td>\n",
       "      <td>100000.00</td>\n",
       "      <td>2018</td>\n",
       "      <td>6</td>\n",
       "      <td>1</td>\n",
       "      <td>Другой</td>\n",
       "      <td>0.320</td>\n",
       "      <td>0.410</td>\n",
       "    </tr>\n",
       "    <tr>\n",
       "      <th>5</th>\n",
       "      <td>10</td>\n",
       "      <td>2890000.0</td>\n",
       "      <td>30</td>\n",
       "      <td>2018-09-10</td>\n",
       "      <td>1</td>\n",
       "      <td>2.65</td>\n",
       "      <td>12.0</td>\n",
       "      <td>14.400000</td>\n",
       "      <td>5</td>\n",
       "      <td>False</td>\n",
       "      <td>...</td>\n",
       "      <td>0</td>\n",
       "      <td>0.0</td>\n",
       "      <td>55.0</td>\n",
       "      <td>96333.33</td>\n",
       "      <td>2018</td>\n",
       "      <td>9</td>\n",
       "      <td>0</td>\n",
       "      <td>Другой</td>\n",
       "      <td>0.480</td>\n",
       "      <td>0.303</td>\n",
       "    </tr>\n",
       "    <tr>\n",
       "      <th>6</th>\n",
       "      <td>6</td>\n",
       "      <td>3700000.0</td>\n",
       "      <td>37</td>\n",
       "      <td>2017-11-02</td>\n",
       "      <td>1</td>\n",
       "      <td>2.65</td>\n",
       "      <td>26.0</td>\n",
       "      <td>10.600000</td>\n",
       "      <td>6</td>\n",
       "      <td>False</td>\n",
       "      <td>...</td>\n",
       "      <td>0</td>\n",
       "      <td>0.0</td>\n",
       "      <td>155.0</td>\n",
       "      <td>100000.00</td>\n",
       "      <td>2017</td>\n",
       "      <td>11</td>\n",
       "      <td>3</td>\n",
       "      <td>Другой</td>\n",
       "      <td>0.286</td>\n",
       "      <td>0.389</td>\n",
       "    </tr>\n",
       "    <tr>\n",
       "      <th>7</th>\n",
       "      <td>5</td>\n",
       "      <td>7915000.0</td>\n",
       "      <td>71</td>\n",
       "      <td>2019-04-18</td>\n",
       "      <td>2</td>\n",
       "      <td>2.65</td>\n",
       "      <td>24.0</td>\n",
       "      <td>0.564766</td>\n",
       "      <td>22</td>\n",
       "      <td>False</td>\n",
       "      <td>...</td>\n",
       "      <td>0</td>\n",
       "      <td>0.0</td>\n",
       "      <td>NaN</td>\n",
       "      <td>111478.87</td>\n",
       "      <td>2019</td>\n",
       "      <td>4</td>\n",
       "      <td>3</td>\n",
       "      <td>Другой</td>\n",
       "      <td>0.008</td>\n",
       "      <td>0.266</td>\n",
       "    </tr>\n",
       "    <tr>\n",
       "      <th>8</th>\n",
       "      <td>20</td>\n",
       "      <td>2900000.0</td>\n",
       "      <td>33</td>\n",
       "      <td>2018-05-23</td>\n",
       "      <td>1</td>\n",
       "      <td>2.65</td>\n",
       "      <td>27.0</td>\n",
       "      <td>15.430000</td>\n",
       "      <td>26</td>\n",
       "      <td>False</td>\n",
       "      <td>...</td>\n",
       "      <td>0</td>\n",
       "      <td>0.0</td>\n",
       "      <td>189.0</td>\n",
       "      <td>87878.79</td>\n",
       "      <td>2018</td>\n",
       "      <td>5</td>\n",
       "      <td>2</td>\n",
       "      <td>Другой</td>\n",
       "      <td>0.468</td>\n",
       "      <td>0.267</td>\n",
       "    </tr>\n",
       "    <tr>\n",
       "      <th>9</th>\n",
       "      <td>18</td>\n",
       "      <td>5400000.0</td>\n",
       "      <td>61</td>\n",
       "      <td>2017-02-26</td>\n",
       "      <td>3</td>\n",
       "      <td>2.50</td>\n",
       "      <td>9.0</td>\n",
       "      <td>43.600000</td>\n",
       "      <td>7</td>\n",
       "      <td>False</td>\n",
       "      <td>...</td>\n",
       "      <td>0</td>\n",
       "      <td>0.0</td>\n",
       "      <td>289.0</td>\n",
       "      <td>88524.59</td>\n",
       "      <td>2017</td>\n",
       "      <td>2</td>\n",
       "      <td>6</td>\n",
       "      <td>Другой</td>\n",
       "      <td>0.715</td>\n",
       "      <td>0.107</td>\n",
       "    </tr>\n",
       "    <tr>\n",
       "      <th>10</th>\n",
       "      <td>5</td>\n",
       "      <td>5050000.0</td>\n",
       "      <td>39</td>\n",
       "      <td>2017-11-16</td>\n",
       "      <td>1</td>\n",
       "      <td>2.67</td>\n",
       "      <td>12.0</td>\n",
       "      <td>20.300000</td>\n",
       "      <td>3</td>\n",
       "      <td>False</td>\n",
       "      <td>...</td>\n",
       "      <td>2</td>\n",
       "      <td>553.0</td>\n",
       "      <td>137.0</td>\n",
       "      <td>129487.18</td>\n",
       "      <td>2017</td>\n",
       "      <td>11</td>\n",
       "      <td>3</td>\n",
       "      <td>Другой</td>\n",
       "      <td>0.521</td>\n",
       "      <td>0.218</td>\n",
       "    </tr>\n",
       "    <tr>\n",
       "      <th>11</th>\n",
       "      <td>9</td>\n",
       "      <td>3300000.0</td>\n",
       "      <td>44</td>\n",
       "      <td>2018-08-27</td>\n",
       "      <td>2</td>\n",
       "      <td>2.65</td>\n",
       "      <td>5.0</td>\n",
       "      <td>31.000000</td>\n",
       "      <td>4</td>\n",
       "      <td>False</td>\n",
       "      <td>...</td>\n",
       "      <td>0</td>\n",
       "      <td>0.0</td>\n",
       "      <td>7.0</td>\n",
       "      <td>75000.00</td>\n",
       "      <td>2018</td>\n",
       "      <td>8</td>\n",
       "      <td>0</td>\n",
       "      <td>Другой</td>\n",
       "      <td>0.705</td>\n",
       "      <td>0.136</td>\n",
       "    </tr>\n",
       "    <tr>\n",
       "      <th>12</th>\n",
       "      <td>10</td>\n",
       "      <td>3890000.0</td>\n",
       "      <td>54</td>\n",
       "      <td>2016-06-30</td>\n",
       "      <td>2</td>\n",
       "      <td>2.65</td>\n",
       "      <td>5.0</td>\n",
       "      <td>30.000000</td>\n",
       "      <td>5</td>\n",
       "      <td>False</td>\n",
       "      <td>...</td>\n",
       "      <td>0</td>\n",
       "      <td>0.0</td>\n",
       "      <td>90.0</td>\n",
       "      <td>72037.04</td>\n",
       "      <td>2016</td>\n",
       "      <td>6</td>\n",
       "      <td>3</td>\n",
       "      <td>Последний</td>\n",
       "      <td>0.556</td>\n",
       "      <td>0.167</td>\n",
       "    </tr>\n",
       "    <tr>\n",
       "      <th>13</th>\n",
       "      <td>20</td>\n",
       "      <td>3550000.0</td>\n",
       "      <td>42</td>\n",
       "      <td>2017-07-01</td>\n",
       "      <td>2</td>\n",
       "      <td>2.56</td>\n",
       "      <td>5.0</td>\n",
       "      <td>27.000000</td>\n",
       "      <td>5</td>\n",
       "      <td>False</td>\n",
       "      <td>...</td>\n",
       "      <td>3</td>\n",
       "      <td>298.0</td>\n",
       "      <td>366.0</td>\n",
       "      <td>84523.81</td>\n",
       "      <td>2017</td>\n",
       "      <td>7</td>\n",
       "      <td>5</td>\n",
       "      <td>Последний</td>\n",
       "      <td>0.643</td>\n",
       "      <td>0.124</td>\n",
       "    </tr>\n",
       "    <tr>\n",
       "      <th>14</th>\n",
       "      <td>1</td>\n",
       "      <td>4400000.0</td>\n",
       "      <td>36</td>\n",
       "      <td>2016-06-23</td>\n",
       "      <td>1</td>\n",
       "      <td>2.65</td>\n",
       "      <td>6.0</td>\n",
       "      <td>17.000000</td>\n",
       "      <td>1</td>\n",
       "      <td>False</td>\n",
       "      <td>...</td>\n",
       "      <td>1</td>\n",
       "      <td>96.0</td>\n",
       "      <td>203.0</td>\n",
       "      <td>122222.22</td>\n",
       "      <td>2016</td>\n",
       "      <td>6</td>\n",
       "      <td>3</td>\n",
       "      <td>Первый</td>\n",
       "      <td>0.472</td>\n",
       "      <td>0.222</td>\n",
       "    </tr>\n",
       "    <tr>\n",
       "      <th>15</th>\n",
       "      <td>16</td>\n",
       "      <td>4650000.0</td>\n",
       "      <td>39</td>\n",
       "      <td>2017-11-18</td>\n",
       "      <td>1</td>\n",
       "      <td>2.65</td>\n",
       "      <td>14.0</td>\n",
       "      <td>20.500000</td>\n",
       "      <td>5</td>\n",
       "      <td>False</td>\n",
       "      <td>...</td>\n",
       "      <td>1</td>\n",
       "      <td>296.0</td>\n",
       "      <td>19.0</td>\n",
       "      <td>119230.77</td>\n",
       "      <td>2017</td>\n",
       "      <td>11</td>\n",
       "      <td>5</td>\n",
       "      <td>Другой</td>\n",
       "      <td>0.526</td>\n",
       "      <td>0.195</td>\n",
       "    </tr>\n",
       "    <tr>\n",
       "      <th>16</th>\n",
       "      <td>11</td>\n",
       "      <td>6700000.0</td>\n",
       "      <td>82</td>\n",
       "      <td>2017-11-23</td>\n",
       "      <td>3</td>\n",
       "      <td>3.05</td>\n",
       "      <td>5.0</td>\n",
       "      <td>55.600000</td>\n",
       "      <td>1</td>\n",
       "      <td>False</td>\n",
       "      <td>...</td>\n",
       "      <td>0</td>\n",
       "      <td>0.0</td>\n",
       "      <td>397.0</td>\n",
       "      <td>81707.32</td>\n",
       "      <td>2017</td>\n",
       "      <td>11</td>\n",
       "      <td>3</td>\n",
       "      <td>Первый</td>\n",
       "      <td>0.678</td>\n",
       "      <td>0.110</td>\n",
       "    </tr>\n",
       "    <tr>\n",
       "      <th>17</th>\n",
       "      <td>6</td>\n",
       "      <td>4180000.0</td>\n",
       "      <td>36</td>\n",
       "      <td>2016-09-09</td>\n",
       "      <td>1</td>\n",
       "      <td>2.65</td>\n",
       "      <td>17.0</td>\n",
       "      <td>16.500000</td>\n",
       "      <td>7</td>\n",
       "      <td>False</td>\n",
       "      <td>...</td>\n",
       "      <td>1</td>\n",
       "      <td>859.0</td>\n",
       "      <td>571.0</td>\n",
       "      <td>116111.11</td>\n",
       "      <td>2016</td>\n",
       "      <td>9</td>\n",
       "      <td>4</td>\n",
       "      <td>Другой</td>\n",
       "      <td>0.458</td>\n",
       "      <td>0.306</td>\n",
       "    </tr>\n",
       "    <tr>\n",
       "      <th>18</th>\n",
       "      <td>8</td>\n",
       "      <td>3250000.0</td>\n",
       "      <td>31</td>\n",
       "      <td>2017-01-27</td>\n",
       "      <td>1</td>\n",
       "      <td>2.50</td>\n",
       "      <td>5.0</td>\n",
       "      <td>19.400000</td>\n",
       "      <td>2</td>\n",
       "      <td>False</td>\n",
       "      <td>...</td>\n",
       "      <td>0</td>\n",
       "      <td>0.0</td>\n",
       "      <td>168.0</td>\n",
       "      <td>104838.71</td>\n",
       "      <td>2017</td>\n",
       "      <td>1</td>\n",
       "      <td>4</td>\n",
       "      <td>Другой</td>\n",
       "      <td>0.626</td>\n",
       "      <td>0.181</td>\n",
       "    </tr>\n",
       "    <tr>\n",
       "      <th>19</th>\n",
       "      <td>16</td>\n",
       "      <td>14200000.0</td>\n",
       "      <td>121</td>\n",
       "      <td>2019-01-09</td>\n",
       "      <td>3</td>\n",
       "      <td>2.75</td>\n",
       "      <td>16.0</td>\n",
       "      <td>76.000000</td>\n",
       "      <td>8</td>\n",
       "      <td>False</td>\n",
       "      <td>...</td>\n",
       "      <td>0</td>\n",
       "      <td>0.0</td>\n",
       "      <td>97.0</td>\n",
       "      <td>117355.37</td>\n",
       "      <td>2019</td>\n",
       "      <td>1</td>\n",
       "      <td>2</td>\n",
       "      <td>Другой</td>\n",
       "      <td>0.628</td>\n",
       "      <td>0.099</td>\n",
       "    </tr>\n",
       "  </tbody>\n",
       "</table>\n",
       "<p>20 rows × 29 columns</p>\n",
       "</div>"
      ],
      "text/plain": [
       "    total_images  last_price  total_area first_day_exposition  rooms  \\\n",
       "0             20  13000000.0         108           2019-03-07      3   \n",
       "1              7   3350000.0          40           2018-12-04      1   \n",
       "2             10   5196000.0          56           2015-08-20      2   \n",
       "3              0  64900000.0         159           2015-07-24      3   \n",
       "4              2  10000000.0         100           2018-06-19      2   \n",
       "5             10   2890000.0          30           2018-09-10      1   \n",
       "6              6   3700000.0          37           2017-11-02      1   \n",
       "7              5   7915000.0          71           2019-04-18      2   \n",
       "8             20   2900000.0          33           2018-05-23      1   \n",
       "9             18   5400000.0          61           2017-02-26      3   \n",
       "10             5   5050000.0          39           2017-11-16      1   \n",
       "11             9   3300000.0          44           2018-08-27      2   \n",
       "12            10   3890000.0          54           2016-06-30      2   \n",
       "13            20   3550000.0          42           2017-07-01      2   \n",
       "14             1   4400000.0          36           2016-06-23      1   \n",
       "15            16   4650000.0          39           2017-11-18      1   \n",
       "16            11   6700000.0          82           2017-11-23      3   \n",
       "17             6   4180000.0          36           2016-09-09      1   \n",
       "18             8   3250000.0          31           2017-01-27      1   \n",
       "19            16  14200000.0         121           2019-01-09      3   \n",
       "\n",
       "    ceiling_height  floors_total  living_area  floor  is_apartment  ...  \\\n",
       "0             2.70          16.0    51.000000      8         False  ...   \n",
       "1             2.65          11.0    18.600000      1         False  ...   \n",
       "2             2.65           5.0    34.300000      4         False  ...   \n",
       "3             2.65          14.0     0.564766      9         False  ...   \n",
       "4             3.03          14.0    32.000000     13         False  ...   \n",
       "5             2.65          12.0    14.400000      5         False  ...   \n",
       "6             2.65          26.0    10.600000      6         False  ...   \n",
       "7             2.65          24.0     0.564766     22         False  ...   \n",
       "8             2.65          27.0    15.430000     26         False  ...   \n",
       "9             2.50           9.0    43.600000      7         False  ...   \n",
       "10            2.67          12.0    20.300000      3         False  ...   \n",
       "11            2.65           5.0    31.000000      4         False  ...   \n",
       "12            2.65           5.0    30.000000      5         False  ...   \n",
       "13            2.56           5.0    27.000000      5         False  ...   \n",
       "14            2.65           6.0    17.000000      1         False  ...   \n",
       "15            2.65          14.0    20.500000      5         False  ...   \n",
       "16            3.05           5.0    55.600000      1         False  ...   \n",
       "17            2.65          17.0    16.500000      7         False  ...   \n",
       "18            2.50           5.0    19.400000      2         False  ...   \n",
       "19            2.75          16.0    76.000000      8         False  ...   \n",
       "\n",
       "    ponds_around3000  ponds_nearest  days_exposition  price_meter  year  \\\n",
       "0                  2          755.0              NaN    120370.37  2019   \n",
       "1                  0            0.0             81.0     83750.00  2018   \n",
       "2                  2          574.0            558.0     92785.71  2015   \n",
       "3                  3          234.0            424.0    408176.10  2015   \n",
       "4                  1           48.0            121.0    100000.00  2018   \n",
       "5                  0            0.0             55.0     96333.33  2018   \n",
       "6                  0            0.0            155.0    100000.00  2017   \n",
       "7                  0            0.0              NaN    111478.87  2019   \n",
       "8                  0            0.0            189.0     87878.79  2018   \n",
       "9                  0            0.0            289.0     88524.59  2017   \n",
       "10                 2          553.0            137.0    129487.18  2017   \n",
       "11                 0            0.0              7.0     75000.00  2018   \n",
       "12                 0            0.0             90.0     72037.04  2016   \n",
       "13                 3          298.0            366.0     84523.81  2017   \n",
       "14                 1           96.0            203.0    122222.22  2016   \n",
       "15                 1          296.0             19.0    119230.77  2017   \n",
       "16                 0            0.0            397.0     81707.32  2017   \n",
       "17                 1          859.0            571.0    116111.11  2016   \n",
       "18                 0            0.0            168.0    104838.71  2017   \n",
       "19                 0            0.0             97.0    117355.37  2019   \n",
       "\n",
       "    month  weekday  type_floor  ratio_living_area  ratio_kitchen_area  \n",
       "0       3        3      Другой              0.472               0.231  \n",
       "1      12        1      Первый              0.465               0.275  \n",
       "2       8        3      Другой              0.612               0.148  \n",
       "3       7        4      Другой              0.004               0.003  \n",
       "4       6        1      Другой              0.320               0.410  \n",
       "5       9        0      Другой              0.480               0.303  \n",
       "6      11        3      Другой              0.286               0.389  \n",
       "7       4        3      Другой              0.008               0.266  \n",
       "8       5        2      Другой              0.468               0.267  \n",
       "9       2        6      Другой              0.715               0.107  \n",
       "10     11        3      Другой              0.521               0.218  \n",
       "11      8        0      Другой              0.705               0.136  \n",
       "12      6        3   Последний              0.556               0.167  \n",
       "13      7        5   Последний              0.643               0.124  \n",
       "14      6        3      Первый              0.472               0.222  \n",
       "15     11        5      Другой              0.526               0.195  \n",
       "16     11        3      Первый              0.678               0.110  \n",
       "17      9        4      Другой              0.458               0.306  \n",
       "18      1        4      Другой              0.626               0.181  \n",
       "19      1        2      Другой              0.628               0.099  \n",
       "\n",
       "[20 rows x 29 columns]"
      ]
     },
     "metadata": {},
     "output_type": "display_data"
    }
   ],
   "source": [
    "display(data.head(20))"
   ]
  },
  {
   "cell_type": "markdown",
   "metadata": {},
   "source": [
    "<div class=\"alert alert-block alert-success\">\n",
    "<b>Успех ✔️:</b> Категоризация выполнена, новые призаки получили, отлично, идем дальше)\n",
    "</div>"
   ]
  },
  {
   "cell_type": "markdown",
   "metadata": {},
   "source": [
    "<div class=\"alert alert-block alert-danger\">\n",
    "<b>Ошибка ❌:</b> Добавь, пожалуйста, вывод для 3 этапа работы)\n",
    "</div>"
   ]
  },
  {
   "cell_type": "markdown",
   "metadata": {},
   "source": [
    "<div class=\"alert alert-block alert-info\">\n",
    "<b>Комментарий студента:</b> Постарался исправить внизу.</div>"
   ]
  },
  {
   "cell_type": "markdown",
   "metadata": {},
   "source": [
    "### Вывод"
   ]
  },
  {
   "cell_type": "markdown",
   "metadata": {},
   "source": [
    "Добавил в таблицу новые столбцы для анализа данных, благодаря которым можно точнее сделать выводы."
   ]
  },
  {
   "cell_type": "markdown",
   "metadata": {},
   "source": [
    "## Исследовательский анализ данных"
   ]
  },
  {
   "cell_type": "markdown",
   "metadata": {},
   "source": [
    "### Построение гистограмм"
   ]
  },
  {
   "cell_type": "code",
   "execution_count": 38,
   "metadata": {},
   "outputs": [
    {
     "data": {
      "text/plain": [
       "<AxesSubplot:>"
      ]
     },
     "execution_count": 38,
     "metadata": {},
     "output_type": "execute_result"
    },
    {
     "data": {
      "image/png": "[encoded data removed]",
      "text/plain": [
       "<Figure size 432x288 with 1 Axes>"
      ]
     },
     "metadata": {
      "needs_background": "light"
     },
     "output_type": "display_data"
    }
   ],
   "source": [
    "#гистограмма площади\n",
    "data['total_area'].hist(bins=100,range=(0,600))"
   ]
  },
  {
   "cell_type": "code",
   "execution_count": 39,
   "metadata": {},
   "outputs": [
    {
     "data": {
      "text/plain": [
       "<AxesSubplot:>"
      ]
     },
     "execution_count": 39,
     "metadata": {},
     "output_type": "execute_result"
    },
    {
     "data": {
      "image/png": "[encoded data removed]",
      "text/plain": [
       "<Figure size 432x288 with 1 Axes>"
      ]
     },
     "metadata": {
      "needs_background": "light"
     },
     "output_type": "display_data"
    }
   ],
   "source": [
    "#гистограмма площади, граница до 50.\n",
    "data['total_area'].hist(bins=100,range=(0,50))"
   ]
  },
  {
   "cell_type": "code",
   "execution_count": 40,
   "metadata": {
    "scrolled": true
   },
   "outputs": [
    {
     "data": {
      "text/plain": [
       "<AxesSubplot:>"
      ]
     },
     "execution_count": 40,
     "metadata": {},
     "output_type": "execute_result"
    },
    {
     "data": {
      "image/png": "[encoded data removed]",
      "text/plain": [
       "<Figure size 432x288 with 1 Axes>"
      ]
     },
     "metadata": {
      "needs_background": "light"
     },
     "output_type": "display_data"
    }
   ],
   "source": [
    "#гистограмма цены\n",
    "data['last_price'].hist(bins=100,range=(0,50000000))"
   ]
  },
  {
   "cell_type": "code",
   "execution_count": 41,
   "metadata": {},
   "outputs": [
    {
     "data": {
      "text/plain": [
       "<AxesSubplot:>"
      ]
     },
     "execution_count": 41,
     "metadata": {},
     "output_type": "execute_result"
    },
    {
     "data": {
      "image/png": "[encoded data removed]",
      "text/plain": [
       "<Figure size 432x288 with 1 Axes>"
      ]
     },
     "metadata": {
      "needs_background": "light"
     },
     "output_type": "display_data"
    }
   ],
   "source": [
    "#число комнат\n",
    "data['rooms'].hist(bins=10)"
   ]
  },
  {
   "cell_type": "code",
   "execution_count": 42,
   "metadata": {},
   "outputs": [
    {
     "data": {
      "text/plain": [
       "<AxesSubplot:>"
      ]
     },
     "execution_count": 42,
     "metadata": {},
     "output_type": "execute_result"
    },
    {
     "data": {
      "image/png": "[encoded data removed]",
      "text/plain": [
       "<Figure size 432x288 with 1 Axes>"
      ]
     },
     "metadata": {
      "needs_background": "light"
     },
     "output_type": "display_data"
    }
   ],
   "source": [
    "#гистограмма высоты потолков\n",
    "data['ceiling_height'].hist(bins=50,range=(0,5))"
   ]
  },
  {
   "cell_type": "markdown",
   "metadata": {},
   "source": [
    "Почти на всех гистограммах показано распределение Пуассона. Больше всех квартир, у которых площадь варьируется в районе 50 кв. м., цена достигает 500000, число комнат - от 2 до 3, высота потолков - около 2,7 м."
   ]
  },
  {
   "cell_type": "markdown",
   "metadata": {},
   "source": [
    "<div class=\"alert alert-block alert-warning\">\n",
    "<b>Рекомендация ⚠️: </b> Все хорошо сделано, оставлю рекомендацию на будущее) Лучше не забывать про оформление графиков, их смотреть могут не только инженеры/разработчики, но и менеджмент. Пример оставлю ниже)\n",
    "</div>\n"
   ]
  },
  {
   "cell_type": "code",
   "execution_count": 43,
   "metadata": {},
   "outputs": [
    {
     "data": {
      "image/png": "[encoded data removed]",
      "text/plain": [
       "<Figure size 936x504 with 1 Axes>"
      ]
     },
     "metadata": {
      "needs_background": "light"
     },
     "output_type": "display_data"
    }
   ],
   "source": [
    "#КОД РЕВЬЮЕРА\n",
    "\n",
    "import matplotlib.pyplot as plt\n",
    "\n",
    "data.total_area.hist(bins=70, figsize=(13, 7), range=(0, 400))\n",
    "\n",
    "plt.title('Заголовок графика')\n",
    "plt.xlabel('Название оси Х')\n",
    "plt.ylabel('Название оси Y')\n",
    "\n",
    "None #убирает лишнюю строчку над графиком"
   ]
  },
  {
   "cell_type": "markdown",
   "metadata": {},
   "source": [
    "<div class=\"alert alert-block alert-info\">\n",
    "<b>Комментарий студента:</b> Учту, спасибо)</div>"
   ]
  },
  {
   "cell_type": "markdown",
   "metadata": {},
   "source": [
    "### Изучение время продажи квартиры"
   ]
  },
  {
   "cell_type": "code",
   "execution_count": 44,
   "metadata": {},
   "outputs": [
    {
     "data": {
      "text/plain": [
       "<AxesSubplot:>"
      ]
     },
     "execution_count": 44,
     "metadata": {},
     "output_type": "execute_result"
    },
    {
     "data": {
      "image/png": "[encoded data removed]",
      "text/plain": [
       "<Figure size 432x288 with 1 Axes>"
      ]
     },
     "metadata": {
      "needs_background": "light"
     },
     "output_type": "display_data"
    }
   ],
   "source": [
    "#построение гистограммы время продажи квартиры\n",
    "data['days_exposition'].hist()"
   ]
  },
  {
   "cell_type": "code",
   "execution_count": 45,
   "metadata": {},
   "outputs": [
    {
     "data": {
      "text/plain": [
       "<AxesSubplot:>"
      ]
     },
     "execution_count": 45,
     "metadata": {},
     "output_type": "execute_result"
    },
    {
     "data": {
      "image/png": "[encoded data removed]",
      "text/plain": [
       "<Figure size 432x288 with 1 Axes>"
      ]
     },
     "metadata": {
      "needs_background": "light"
     },
     "output_type": "display_data"
    }
   ],
   "source": [
    "#Значения до 200 дней\n",
    "data['days_exposition'].hist(range=(0,200))"
   ]
  },
  {
   "cell_type": "code",
   "execution_count": 46,
   "metadata": {},
   "outputs": [
    {
     "data": {
      "text/plain": [
       "count    20518.000000\n",
       "mean       180.888634\n",
       "std        219.727988\n",
       "min          1.000000\n",
       "25%         45.000000\n",
       "50%         95.000000\n",
       "75%        232.000000\n",
       "max       1580.000000\n",
       "Name: days_exposition, dtype: float64"
      ]
     },
     "execution_count": 46,
     "metadata": {},
     "output_type": "execute_result"
    }
   ],
   "source": [
    "#найдем характерные значения\n",
    "data['days_exposition'].describe()"
   ]
  },
  {
   "cell_type": "markdown",
   "metadata": {},
   "source": [
    "Медиана=95\n",
    "Среднее значение=180\n",
    "Максимальное значение=1580"
   ]
  },
  {
   "cell_type": "markdown",
   "metadata": {},
   "source": [
    "Смотря на среднее значение можно сказать, что стандартное время занимает 180 дней"
   ]
  },
  {
   "cell_type": "markdown",
   "metadata": {},
   "source": [
    "По первой гистограмме можно сказать, что время продажи продолжительностью больше 800 дней - редкое, а значит это время довольно долгое."
   ]
  },
  {
   "cell_type": "markdown",
   "metadata": {},
   "source": [
    "Можно по диаграмме размаха сказать, что продажа, меньшая, чем за 45 дней, является быстрой. А продажа, большая, чем за 232 дня - необычно долгая."
   ]
  },
  {
   "cell_type": "markdown",
   "metadata": {},
   "source": [
    "<div class=\"alert alert-block alert-success\">\n",
    "<b>Успех ✔️:</b> Принято)\n",
    "</div>"
   ]
  },
  {
   "cell_type": "markdown",
   "metadata": {},
   "source": [
    "### Редкие значения"
   ]
  },
  {
   "cell_type": "markdown",
   "metadata": {},
   "source": [
    "#Уберите редкие и выбивающиеся значения. Опишите, какие особенности обнаружили."
   ]
  },
  {
   "cell_type": "markdown",
   "metadata": {},
   "source": [
    "Изучу столбцы, которые я исследовал в предыдущих пунктах. Столбец days_exposition: применим верхнюю границу в 1400 дней, дольше весят на продаже довольно редко. Столбец total_area: применим верхнюю границу в 320, нижнюю границу в 10. Столбец last_price: применим верхнюю границу 42000000. Столбец rooms: применим верхнюю таблицу в 9 комнат. Столбец ceiling_height: применим верхнюю таблицу в 4. Воспользуемся методом query:"
   ]
  },
  {
   "cell_type": "code",
   "execution_count": 47,
   "metadata": {},
   "outputs": [],
   "source": [
    "data=data.query('days_exposition <= 1400')\n",
    "data=data.query('10 < total_area <= 320')\n",
    "data=data.query('last_price <= 42000000')\n",
    "data=data.query('rooms <= 9')\n",
    "data=data.query('ceiling_height <= 4')"
   ]
  },
  {
   "cell_type": "markdown",
   "metadata": {},
   "source": [
    "<div class=\"alert alert-block alert-danger\">\n",
    "<b>Ошибка ❌:</b> Мы потеряли почти 20% данных, это очень много. Давай расширим интервал нормальных данных и уберем только самые явные аномалии) \n",
    "</div>"
   ]
  },
  {
   "cell_type": "markdown",
   "metadata": {},
   "source": [
    "<div class=\"alert alert-block alert-info\">\n",
    "<b>Комментарий студента:</b> Постарался исправить.</div>"
   ]
  },
  {
   "cell_type": "markdown",
   "metadata": {},
   "source": [
    "<div class=\"alert alert-block alert-warning\">\n",
    "<b>Комментарий ревьюера 2 ⚠️: </b> 14% конечно тоже многовато, больше 10% нельзя терять) Я пропущу, но в будущих проктах учти, пожалуйста)\n",
    "</div>"
   ]
  },
  {
   "cell_type": "code",
   "execution_count": 48,
   "metadata": {
    "scrolled": true
   },
   "outputs": [
    {
     "name": "stdout",
     "output_type": "stream",
     "text": [
      "<class 'pandas.core.frame.DataFrame'>\n",
      "Int64Index: 20299 entries, 1 to 23697\n",
      "Data columns (total 29 columns):\n",
      " #   Column                Non-Null Count  Dtype         \n",
      "---  ------                --------------  -----         \n",
      " 0   total_images          20299 non-null  int64         \n",
      " 1   last_price            20299 non-null  float64       \n",
      " 2   total_area            20299 non-null  int64         \n",
      " 3   first_day_exposition  20299 non-null  datetime64[ns]\n",
      " 4   rooms                 20299 non-null  int64         \n",
      " 5   ceiling_height        20299 non-null  float64       \n",
      " 6   floors_total          20222 non-null  float64       \n",
      " 7   living_area           20299 non-null  float64       \n",
      " 8   floor                 20299 non-null  int64         \n",
      " 9   is_apartment          20299 non-null  bool          \n",
      " 10  studio                20299 non-null  bool          \n",
      " 11  open_plan             20299 non-null  bool          \n",
      " 12  kitchen_area          20299 non-null  float64       \n",
      " 13  balcony               20299 non-null  int64         \n",
      " 14  locality_name         20251 non-null  object        \n",
      " 15  airports_nearest      20299 non-null  float64       \n",
      " 16  citycenters_nearest   20299 non-null  float64       \n",
      " 17  parks_around3000      20299 non-null  int64         \n",
      " 18  parks_nearest         20299 non-null  float64       \n",
      " 19  ponds_around3000      20299 non-null  int64         \n",
      " 20  ponds_nearest         20299 non-null  float64       \n",
      " 21  days_exposition       20299 non-null  float64       \n",
      " 22  price_meter           20299 non-null  float64       \n",
      " 23  year                  20299 non-null  int64         \n",
      " 24  month                 20299 non-null  int64         \n",
      " 25  weekday               20299 non-null  int64         \n",
      " 26  type_floor            20299 non-null  object        \n",
      " 27  ratio_living_area     20299 non-null  float64       \n",
      " 28  ratio_kitchen_area    20299 non-null  float64       \n",
      "dtypes: bool(3), datetime64[ns](1), float64(13), int64(10), object(2)\n",
      "memory usage: 4.2+ MB\n"
     ]
    }
   ],
   "source": [
    "data.info()"
   ]
  },
  {
   "cell_type": "markdown",
   "metadata": {},
   "source": [
    "### Изучение зависимостей"
   ]
  },
  {
   "cell_type": "markdown",
   "metadata": {},
   "source": [
    "Применяя метод plot() и найдя корреляцию, я попробую изучить зависимость цены от разных параметров."
   ]
  },
  {
   "cell_type": "code",
   "execution_count": 49,
   "metadata": {},
   "outputs": [
    {
     "data": {
      "text/plain": [
       "<AxesSubplot:xlabel='total_area', ylabel='last_price'>"
      ]
     },
     "execution_count": 49,
     "metadata": {},
     "output_type": "execute_result"
    },
    {
     "data": {
      "image/png": "[encoded data removed]",
      "text/plain": [
       "<Figure size 432x288 with 1 Axes>"
      ]
     },
     "metadata": {
      "needs_background": "light"
     },
     "output_type": "display_data"
    }
   ],
   "source": [
    "data.plot(x='total_area',y='last_price',kind='scatter',alpha=0.03,grid=True)#построение графика между ценой и площадью"
   ]
  },
  {
   "cell_type": "code",
   "execution_count": 50,
   "metadata": {},
   "outputs": [
    {
     "name": "stdout",
     "output_type": "stream",
     "text": [
      "0.7850377753953046\n"
     ]
    }
   ],
   "source": [
    "print(data['last_price'].corr(data['total_area']))#значение корреляции от этих параметров"
   ]
  },
  {
   "cell_type": "markdown",
   "metadata": {},
   "source": [
    "Можно сказать, что линейная связь между ценой и площадью квартиры достаточно сильная, т.е. чем больше площадь, тем больше цена."
   ]
  },
  {
   "cell_type": "code",
   "execution_count": 51,
   "metadata": {},
   "outputs": [
    {
     "data": {
      "text/plain": [
       "<AxesSubplot:xlabel='rooms', ylabel='last_price'>"
      ]
     },
     "execution_count": 51,
     "metadata": {},
     "output_type": "execute_result"
    },
    {
     "data": {
      "image/png": "[encoded data removed]",
      "text/plain": [
       "<Figure size 432x288 with 1 Axes>"
      ]
     },
     "metadata": {
      "needs_background": "light"
     },
     "output_type": "display_data"
    }
   ],
   "source": [
    "data.plot(x='rooms',y='last_price',kind='scatter',alpha=0.03,grid=True)#построение графика между ценой и кол-вом комнат"
   ]
  },
  {
   "cell_type": "code",
   "execution_count": 52,
   "metadata": {},
   "outputs": [
    {
     "name": "stdout",
     "output_type": "stream",
     "text": [
      "0.507055969454011\n"
     ]
    }
   ],
   "source": [
    "print(data['last_price'].corr(data['rooms']))#значение корреляции от этих параметров"
   ]
  },
  {
   "cell_type": "markdown",
   "metadata": {},
   "source": [
    "Зависимость между ценой и кол-вом комнат не сильная, но есть. Квартиры, имеющие 3 или 4 комнаты, чаще стоят больше, чем квартиры, имеющие 5 или 6 комнат. 1 и 2 комнатные квартиры стоят дешевле, чем все остальные."
   ]
  },
  {
   "cell_type": "code",
   "execution_count": 53,
   "metadata": {},
   "outputs": [
    {
     "data": {
      "text/plain": [
       "<AxesSubplot:xlabel='citycenters_nearest', ylabel='last_price'>"
      ]
     },
     "execution_count": 53,
     "metadata": {},
     "output_type": "execute_result"
    },
    {
     "data": {
      "image/png": "[encoded data removed]",
      "text/plain": [
       "<Figure size 432x288 with 1 Axes>"
      ]
     },
     "metadata": {
      "needs_background": "light"
     },
     "output_type": "display_data"
    }
   ],
   "source": [
    "data.plot(x='citycenters_nearest',y='last_price',kind='scatter',alpha=0.03)#построение графика между ценой и расстояние до центра города"
   ]
  },
  {
   "cell_type": "code",
   "execution_count": 54,
   "metadata": {},
   "outputs": [
    {
     "name": "stdout",
     "output_type": "stream",
     "text": [
      "-0.03423593167384609\n"
     ]
    }
   ],
   "source": [
    "print(data['last_price'].corr(data['citycenters_nearest']))#значение корреляции от этих параметров"
   ]
  },
  {
   "cell_type": "markdown",
   "metadata": {},
   "source": [
    "Корреляция показывает, что зависимости между ценой и размещением квартиры от центра нет."
   ]
  },
  {
   "cell_type": "code",
   "execution_count": 55,
   "metadata": {},
   "outputs": [
    {
     "data": {
      "text/html": [
       "<div>\n",
       "<style scoped>\n",
       "    .dataframe tbody tr th:only-of-type {\n",
       "        vertical-align: middle;\n",
       "    }\n",
       "\n",
       "    .dataframe tbody tr th {\n",
       "        vertical-align: top;\n",
       "    }\n",
       "\n",
       "    .dataframe thead th {\n",
       "        text-align: right;\n",
       "    }\n",
       "</style>\n",
       "<table border=\"1\" class=\"dataframe\">\n",
       "  <thead>\n",
       "    <tr style=\"text-align: right;\">\n",
       "      <th>type_floor</th>\n",
       "      <th>Другой</th>\n",
       "      <th>Первый</th>\n",
       "      <th>Последний</th>\n",
       "    </tr>\n",
       "  </thead>\n",
       "  <tbody>\n",
       "    <tr>\n",
       "      <th>last_price</th>\n",
       "      <td>5.885703e+06</td>\n",
       "      <td>4.370406e+06</td>\n",
       "      <td>5.534131e+06</td>\n",
       "    </tr>\n",
       "  </tbody>\n",
       "</table>\n",
       "</div>"
      ],
      "text/plain": [
       "type_floor        Другой        Первый     Последний\n",
       "last_price  5.885703e+06  4.370406e+06  5.534131e+06"
      ]
     },
     "execution_count": 55,
     "metadata": {},
     "output_type": "execute_result"
    }
   ],
   "source": [
    "data.pivot_table(values='last_price',columns='type_floor',aggfunc='mean')#среднее значение цены к типам этажа квартиры"
   ]
  },
  {
   "cell_type": "markdown",
   "metadata": {},
   "source": [
    "Найдя среднее значение цены к каждому типу этажа, я могу сделать вывод, что выбирая не первый и не последний этаж, цена на квартиру будет больше. Цена на квартиру, находящейся на последнем этаже, будет выше цены на квартиру, находящейся на первом этаже."
   ]
  },
  {
   "cell_type": "code",
   "execution_count": 56,
   "metadata": {},
   "outputs": [
    {
     "data": {
      "text/plain": [
       "<AxesSubplot:xlabel='year', ylabel='last_price'>"
      ]
     },
     "execution_count": 56,
     "metadata": {},
     "output_type": "execute_result"
    },
    {
     "data": {
      "image/png": "[encoded data removed]",
      "text/plain": [
       "<Figure size 432x288 with 1 Axes>"
      ]
     },
     "metadata": {
      "needs_background": "light"
     },
     "output_type": "display_data"
    }
   ],
   "source": [
    "data.plot(x='year',y='last_price',kind='scatter',alpha=0.003)#построение графика между ценой и годом размещения"
   ]
  },
  {
   "cell_type": "markdown",
   "metadata": {},
   "source": [
    "<div class=\"alert alert-block alert-danger\">\n",
    "<b>Ошибка ❌:</b> Давай пересмотрим и поменяем график для анализа года, месяца и дня, возможно выводы поменяются) Для анализа этих параметров стоит сделать сводные таблички (каждому свою) и по ним уже построить график) Оставляю пример ниже\n",
    "</div>"
   ]
  },
  {
   "cell_type": "code",
   "execution_count": 57,
   "metadata": {},
   "outputs": [
    {
     "data": {
      "image/png": "[encoded data removed]",
      "text/plain": [
       "<Figure size 936x432 with 1 Axes>"
      ]
     },
     "metadata": {
      "needs_background": "light"
     },
     "output_type": "display_data"
    }
   ],
   "source": [
    "#КОД РЕВЬЮЕРА\n",
    "\n",
    "data.pivot_table(index='year', values='last_price', aggfunc='mean').plot(style='o--', figsize=(13, 6), grid=True)\n",
    "\n",
    "plt.title('Зависимость цены от года')\n",
    "plt.xlabel('Год')\n",
    "plt.ylabel('Средняя цена')\n",
    "\n",
    "None"
   ]
  },
  {
   "cell_type": "markdown",
   "metadata": {},
   "source": [
    "<div class=\"alert alert-block alert-info\">\n",
    "<b>Комментарий студента:</b> Исправление внизу:</div>"
   ]
  },
  {
   "cell_type": "markdown",
   "metadata": {},
   "source": [
    "<div class=\"alert alert-block alert-success\">\n",
    "<b>Комментарий ревьюера 2 ✔️:</b> Отлично!)\n",
    "</div>"
   ]
  },
  {
   "cell_type": "markdown",
   "metadata": {},
   "source": [
    "В объявлениях, размещенных в 2014 году, наблюдается самая высокая средняя цена(9млн). С каждым последующим годом эта цена уменьшается. В 2015 году - чуть больше 6,5млн. В последующих годах - до 6млн. "
   ]
  },
  {
   "cell_type": "code",
   "execution_count": 58,
   "metadata": {},
   "outputs": [
    {
     "data": {
      "text/plain": [
       "Text(0, 0.5, 'Средняя цена')"
      ]
     },
     "execution_count": 58,
     "metadata": {},
     "output_type": "execute_result"
    },
    {
     "data": {
      "image/png": "[encoded data removed]",
      "text/plain": [
       "<Figure size 936x432 with 1 Axes>"
      ]
     },
     "metadata": {
      "needs_background": "light"
     },
     "output_type": "display_data"
    }
   ],
   "source": [
    "#построение графика между ценой и месяца размещения\n",
    "data.pivot_table(index='month', values='last_price', aggfunc='mean').plot(style='o--', figsize=(13, 6), grid=True)\n",
    "\n",
    "plt.title('Зависимость цены от месяца')\n",
    "plt.xlabel('Месяц')\n",
    "plt.ylabel('Средняя цена')"
   ]
  },
  {
   "cell_type": "markdown",
   "metadata": {},
   "source": [
    "Зависимость не ярковыраженная по цене, но она есть. В мае, сентябре, ноябре наблюдается самая высокая средняя цена(в районе 5,80 млн). В январе, феврале, апреле, августе средняя цена немного ниже(от 5,63 до 5,71 млн). В остальные месяцы самая низкая средняя цена(от 5,5 до 5,8 млн)."
   ]
  },
  {
   "cell_type": "code",
   "execution_count": 59,
   "metadata": {},
   "outputs": [
    {
     "data": {
      "text/plain": [
       "Text(0, 0.5, 'Средняя цена')"
      ]
     },
     "execution_count": 59,
     "metadata": {},
     "output_type": "execute_result"
    },
    {
     "data": {
      "image/png": "[encoded data removed]",
      "text/plain": [
       "<Figure size 936x432 with 1 Axes>"
      ]
     },
     "metadata": {
      "needs_background": "light"
     },
     "output_type": "display_data"
    }
   ],
   "source": [
    "#построение графика между ценой и месяца размещения\n",
    "data.pivot_table(index='weekday', values='last_price', aggfunc='mean').plot(style='o--', figsize=(13, 6), grid=True)\n",
    "\n",
    "plt.title('Зависимость цены от дня недели')\n",
    "plt.xlabel('День недели')\n",
    "plt.ylabel('Средняя цена')"
   ]
  },
  {
   "cell_type": "markdown",
   "metadata": {},
   "source": [
    "С понедельника по четверг средняя цена идет вверх, но в пятницу резко идет на спад и держится на таком уровне до воскресенья. В четверг самая высокая средняя цена(Чуть больше 5,85 млн)"
   ]
  },
  {
   "cell_type": "markdown",
   "metadata": {},
   "source": [
    "### Популярные города по количеству объявлений"
   ]
  },
  {
   "cell_type": "code",
   "execution_count": 60,
   "metadata": {},
   "outputs": [
    {
     "data": {
      "text/html": [
       "<div>\n",
       "<style scoped>\n",
       "    .dataframe tbody tr th:only-of-type {\n",
       "        vertical-align: middle;\n",
       "    }\n",
       "\n",
       "    .dataframe tbody tr th {\n",
       "        vertical-align: top;\n",
       "    }\n",
       "\n",
       "    .dataframe thead th {\n",
       "        text-align: right;\n",
       "    }\n",
       "</style>\n",
       "<table border=\"1\" class=\"dataframe\">\n",
       "  <thead>\n",
       "    <tr style=\"text-align: right;\">\n",
       "      <th></th>\n",
       "      <th>count</th>\n",
       "      <th>mean</th>\n",
       "    </tr>\n",
       "    <tr>\n",
       "      <th>locality_name</th>\n",
       "      <th></th>\n",
       "      <th></th>\n",
       "    </tr>\n",
       "  </thead>\n",
       "  <tbody>\n",
       "    <tr>\n",
       "      <th>Санкт-Петербург</th>\n",
       "      <td>13442</td>\n",
       "      <td>109894.545717</td>\n",
       "    </tr>\n",
       "    <tr>\n",
       "      <th>посёлок Мурино</th>\n",
       "      <td>515</td>\n",
       "      <td>86422.569379</td>\n",
       "    </tr>\n",
       "    <tr>\n",
       "      <th>посёлок Шушары</th>\n",
       "      <td>408</td>\n",
       "      <td>78390.546471</td>\n",
       "    </tr>\n",
       "    <tr>\n",
       "      <th>Всеволожск</th>\n",
       "      <td>337</td>\n",
       "      <td>68847.303680</td>\n",
       "    </tr>\n",
       "    <tr>\n",
       "      <th>Колпино</th>\n",
       "      <td>307</td>\n",
       "      <td>75081.580619</td>\n",
       "    </tr>\n",
       "    <tr>\n",
       "      <th>Пушкин</th>\n",
       "      <td>302</td>\n",
       "      <td>102459.447550</td>\n",
       "    </tr>\n",
       "    <tr>\n",
       "      <th>посёлок Парголово</th>\n",
       "      <td>301</td>\n",
       "      <td>89907.681927</td>\n",
       "    </tr>\n",
       "    <tr>\n",
       "      <th>деревня Кудрово</th>\n",
       "      <td>299</td>\n",
       "      <td>93002.173411</td>\n",
       "    </tr>\n",
       "    <tr>\n",
       "      <th>Гатчина</th>\n",
       "      <td>267</td>\n",
       "      <td>68211.223933</td>\n",
       "    </tr>\n",
       "    <tr>\n",
       "      <th>Выборг</th>\n",
       "      <td>207</td>\n",
       "      <td>57147.277343</td>\n",
       "    </tr>\n",
       "  </tbody>\n",
       "</table>\n",
       "</div>"
      ],
      "text/plain": [
       "                   count           mean\n",
       "locality_name                          \n",
       "Санкт-Петербург    13442  109894.545717\n",
       "посёлок Мурино       515   86422.569379\n",
       "посёлок Шушары       408   78390.546471\n",
       "Всеволожск           337   68847.303680\n",
       "Колпино              307   75081.580619\n",
       "Пушкин               302  102459.447550\n",
       "посёлок Парголово    301   89907.681927\n",
       "деревня Кудрово      299   93002.173411\n",
       "Гатчина              267   68211.223933\n",
       "Выборг               207   57147.277343"
      ]
     },
     "execution_count": 60,
     "metadata": {},
     "output_type": "execute_result"
    }
   ],
   "source": [
    "#топ10 населенных пунктов по количеству объявлений\n",
    "data.pivot_table(index='locality_name',values='price_meter',aggfunc=('mean','count')).sort_values('count',ascending=False)[:10]"
   ]
  },
  {
   "cell_type": "markdown",
   "metadata": {},
   "source": [
    "### Изучение объявлений по Санкт-Петербургу"
   ]
  },
  {
   "cell_type": "code",
   "execution_count": 61,
   "metadata": {},
   "outputs": [
    {
     "data": {
      "text/plain": [
       "0    13933.0\n",
       "1     8098.0\n",
       "2    15008.0\n",
       "3    13878.0\n",
       "4    14259.0\n",
       "5    10698.0\n",
       "6    14616.0\n",
       "7    10842.0\n",
       "8    12843.0\n",
       "9     9722.0\n",
       "Name: citycenters_nearest, dtype: float64"
      ]
     },
     "execution_count": 61,
     "metadata": {},
     "output_type": "execute_result"
    }
   ],
   "source": [
    "#Создание таблицы по городу Санкт-Петербург\n",
    "SPB_table=data[data['locality_name']=='Санкт-Петербург'].reset_index(drop=True)\n",
    "SPB_table['citycenters_nearest'].head(10)"
   ]
  },
  {
   "cell_type": "code",
   "execution_count": 62,
   "metadata": {
    "scrolled": true
   },
   "outputs": [
    {
     "data": {
      "text/html": [
       "<div>\n",
       "<style scoped>\n",
       "    .dataframe tbody tr th:only-of-type {\n",
       "        vertical-align: middle;\n",
       "    }\n",
       "\n",
       "    .dataframe tbody tr th {\n",
       "        vertical-align: top;\n",
       "    }\n",
       "\n",
       "    .dataframe thead th {\n",
       "        text-align: right;\n",
       "    }\n",
       "</style>\n",
       "<table border=\"1\" class=\"dataframe\">\n",
       "  <thead>\n",
       "    <tr style=\"text-align: right;\">\n",
       "      <th></th>\n",
       "      <th>total_images</th>\n",
       "      <th>last_price</th>\n",
       "      <th>total_area</th>\n",
       "      <th>first_day_exposition</th>\n",
       "      <th>rooms</th>\n",
       "      <th>ceiling_height</th>\n",
       "      <th>floors_total</th>\n",
       "      <th>living_area</th>\n",
       "      <th>floor</th>\n",
       "      <th>is_apartment</th>\n",
       "      <th>...</th>\n",
       "      <th>ponds_nearest</th>\n",
       "      <th>days_exposition</th>\n",
       "      <th>price_meter</th>\n",
       "      <th>year</th>\n",
       "      <th>month</th>\n",
       "      <th>weekday</th>\n",
       "      <th>type_floor</th>\n",
       "      <th>ratio_living_area</th>\n",
       "      <th>ratio_kitchen_area</th>\n",
       "      <th>center_km</th>\n",
       "    </tr>\n",
       "  </thead>\n",
       "  <tbody>\n",
       "    <tr>\n",
       "      <th>0</th>\n",
       "      <td>10</td>\n",
       "      <td>5196000.0</td>\n",
       "      <td>56</td>\n",
       "      <td>2015-08-20</td>\n",
       "      <td>2</td>\n",
       "      <td>2.65</td>\n",
       "      <td>5.0</td>\n",
       "      <td>34.3</td>\n",
       "      <td>4</td>\n",
       "      <td>False</td>\n",
       "      <td>...</td>\n",
       "      <td>574.0</td>\n",
       "      <td>558.0</td>\n",
       "      <td>92785.71</td>\n",
       "      <td>2015</td>\n",
       "      <td>8</td>\n",
       "      <td>3</td>\n",
       "      <td>Другой</td>\n",
       "      <td>0.612</td>\n",
       "      <td>0.148</td>\n",
       "      <td>14.0</td>\n",
       "    </tr>\n",
       "    <tr>\n",
       "      <th>1</th>\n",
       "      <td>2</td>\n",
       "      <td>10000000.0</td>\n",
       "      <td>100</td>\n",
       "      <td>2018-06-19</td>\n",
       "      <td>2</td>\n",
       "      <td>3.03</td>\n",
       "      <td>14.0</td>\n",
       "      <td>32.0</td>\n",
       "      <td>13</td>\n",
       "      <td>False</td>\n",
       "      <td>...</td>\n",
       "      <td>48.0</td>\n",
       "      <td>121.0</td>\n",
       "      <td>100000.00</td>\n",
       "      <td>2018</td>\n",
       "      <td>6</td>\n",
       "      <td>1</td>\n",
       "      <td>Другой</td>\n",
       "      <td>0.320</td>\n",
       "      <td>0.410</td>\n",
       "      <td>8.0</td>\n",
       "    </tr>\n",
       "    <tr>\n",
       "      <th>2</th>\n",
       "      <td>18</td>\n",
       "      <td>5400000.0</td>\n",
       "      <td>61</td>\n",
       "      <td>2017-02-26</td>\n",
       "      <td>3</td>\n",
       "      <td>2.50</td>\n",
       "      <td>9.0</td>\n",
       "      <td>43.6</td>\n",
       "      <td>7</td>\n",
       "      <td>False</td>\n",
       "      <td>...</td>\n",
       "      <td>0.0</td>\n",
       "      <td>289.0</td>\n",
       "      <td>88524.59</td>\n",
       "      <td>2017</td>\n",
       "      <td>2</td>\n",
       "      <td>6</td>\n",
       "      <td>Другой</td>\n",
       "      <td>0.715</td>\n",
       "      <td>0.107</td>\n",
       "      <td>15.0</td>\n",
       "    </tr>\n",
       "    <tr>\n",
       "      <th>3</th>\n",
       "      <td>5</td>\n",
       "      <td>5050000.0</td>\n",
       "      <td>39</td>\n",
       "      <td>2017-11-16</td>\n",
       "      <td>1</td>\n",
       "      <td>2.67</td>\n",
       "      <td>12.0</td>\n",
       "      <td>20.3</td>\n",
       "      <td>3</td>\n",
       "      <td>False</td>\n",
       "      <td>...</td>\n",
       "      <td>553.0</td>\n",
       "      <td>137.0</td>\n",
       "      <td>129487.18</td>\n",
       "      <td>2017</td>\n",
       "      <td>11</td>\n",
       "      <td>3</td>\n",
       "      <td>Другой</td>\n",
       "      <td>0.521</td>\n",
       "      <td>0.218</td>\n",
       "      <td>14.0</td>\n",
       "    </tr>\n",
       "    <tr>\n",
       "      <th>4</th>\n",
       "      <td>16</td>\n",
       "      <td>4650000.0</td>\n",
       "      <td>39</td>\n",
       "      <td>2017-11-18</td>\n",
       "      <td>1</td>\n",
       "      <td>2.65</td>\n",
       "      <td>14.0</td>\n",
       "      <td>20.5</td>\n",
       "      <td>5</td>\n",
       "      <td>False</td>\n",
       "      <td>...</td>\n",
       "      <td>296.0</td>\n",
       "      <td>19.0</td>\n",
       "      <td>119230.77</td>\n",
       "      <td>2017</td>\n",
       "      <td>11</td>\n",
       "      <td>5</td>\n",
       "      <td>Другой</td>\n",
       "      <td>0.526</td>\n",
       "      <td>0.195</td>\n",
       "      <td>14.0</td>\n",
       "    </tr>\n",
       "  </tbody>\n",
       "</table>\n",
       "<p>5 rows × 30 columns</p>\n",
       "</div>"
      ],
      "text/plain": [
       "   total_images  last_price  total_area first_day_exposition  rooms  \\\n",
       "0            10   5196000.0          56           2015-08-20      2   \n",
       "1             2  10000000.0         100           2018-06-19      2   \n",
       "2            18   5400000.0          61           2017-02-26      3   \n",
       "3             5   5050000.0          39           2017-11-16      1   \n",
       "4            16   4650000.0          39           2017-11-18      1   \n",
       "\n",
       "   ceiling_height  floors_total  living_area  floor  is_apartment  ...  \\\n",
       "0            2.65           5.0         34.3      4         False  ...   \n",
       "1            3.03          14.0         32.0     13         False  ...   \n",
       "2            2.50           9.0         43.6      7         False  ...   \n",
       "3            2.67          12.0         20.3      3         False  ...   \n",
       "4            2.65          14.0         20.5      5         False  ...   \n",
       "\n",
       "   ponds_nearest  days_exposition  price_meter  year month  weekday  \\\n",
       "0          574.0            558.0     92785.71  2015     8        3   \n",
       "1           48.0            121.0    100000.00  2018     6        1   \n",
       "2            0.0            289.0     88524.59  2017     2        6   \n",
       "3          553.0            137.0    129487.18  2017    11        3   \n",
       "4          296.0             19.0    119230.77  2017    11        5   \n",
       "\n",
       "   type_floor  ratio_living_area  ratio_kitchen_area  center_km  \n",
       "0      Другой              0.612               0.148       14.0  \n",
       "1      Другой              0.320               0.410        8.0  \n",
       "2      Другой              0.715               0.107       15.0  \n",
       "3      Другой              0.521               0.218       14.0  \n",
       "4      Другой              0.526               0.195       14.0  \n",
       "\n",
       "[5 rows x 30 columns]"
      ]
     },
     "execution_count": 62,
     "metadata": {},
     "output_type": "execute_result"
    }
   ],
   "source": [
    "SPB_table['center_km']=(SPB_table['citycenters_nearest']/1000).round()\n",
    "SPB_table[SPB_table['locality_name']=='Санкт-Петербург'].head(5)"
   ]
  },
  {
   "cell_type": "code",
   "execution_count": 63,
   "metadata": {
    "scrolled": true
   },
   "outputs": [
    {
     "data": {
      "text/plain": [
       "575285"
      ]
     },
     "execution_count": 63,
     "metadata": {},
     "output_type": "execute_result"
    }
   ],
   "source": [
    "#средняя цена на каждый километр в городе Санкт-Петербург\n",
    "int(sum(SPB_table['last_price'])/sum(SPB_table['center_km']))"
   ]
  },
  {
   "cell_type": "code",
   "execution_count": 64,
   "metadata": {},
   "outputs": [
    {
     "data": {
      "text/plain": [
       "Text(0, 0.5, 'Средняя цена')"
      ]
     },
     "execution_count": 64,
     "metadata": {},
     "output_type": "execute_result"
    },
    {
     "data": {
      "image/png": "[encoded data removed]",
      "text/plain": [
       "<Figure size 936x432 with 1 Axes>"
      ]
     },
     "metadata": {
      "needs_background": "light"
     },
     "output_type": "display_data"
    }
   ],
   "source": [
    "#создание графика зависимости цены от расстояние до центра\n",
    "SPB_table.pivot_table(index='center_km', values='last_price', aggfunc='mean').plot(style='o--', figsize=(13, 6), grid=True)\n",
    "\n",
    "plt.title('Зависимость цены от расстояния до центра')\n",
    "plt.xlabel('Расстояние до центра')\n",
    "plt.ylabel('Средняя цена')"
   ]
  },
  {
   "cell_type": "markdown",
   "metadata": {},
   "source": [
    "По графику видно, что чем больше расстояние, тем меньше цена. Границу можно установить в 7 км, именно до нее средняя цена больше 9 млн. В 8-м и 27-м км от центра средняя цена чуть выше 8 млн. На остальных километрах цена держится на одном уровне(меньше 7 млн), немного падая с каждым километром вниз. "
   ]
  },
  {
   "cell_type": "markdown",
   "metadata": {},
   "source": [
    "<div class=\"alert alert-block alert-danger\">\n",
    "<b>Ошибка ❌:</b> Давай построим более подробный график для определения центра, пока он определен неверно. Ты правильно подготовил признак расстояния (перевел в км и округлил до целых). Теперь по этому признаку надо создать сводную со среднем значением цены и построить график, как я показывал выше)\n",
    "</div>"
   ]
  },
  {
   "cell_type": "markdown",
   "metadata": {},
   "source": [
    "<div class=\"alert alert-block alert-info\">\n",
    "<b>Комментарий студента:</b> Исправил вверху</div>"
   ]
  },
  {
   "cell_type": "markdown",
   "metadata": {},
   "source": [
    "<div class=\"alert alert-block alert-success\">\n",
    "<b>Комментарий ревьюера 2 ✔️:</b> Верно! 7км уже похоже на правду)\n",
    "</div>"
   ]
  },
  {
   "cell_type": "markdown",
   "metadata": {},
   "source": [
    "### Изучение квартир в центре Санкт-Петербурга"
   ]
  },
  {
   "cell_type": "code",
   "execution_count": 65,
   "metadata": {},
   "outputs": [
    {
     "data": {
      "text/html": [
       "<div>\n",
       "<style scoped>\n",
       "    .dataframe tbody tr th:only-of-type {\n",
       "        vertical-align: middle;\n",
       "    }\n",
       "\n",
       "    .dataframe tbody tr th {\n",
       "        vertical-align: top;\n",
       "    }\n",
       "\n",
       "    .dataframe thead th {\n",
       "        text-align: right;\n",
       "    }\n",
       "</style>\n",
       "<table border=\"1\" class=\"dataframe\">\n",
       "  <thead>\n",
       "    <tr style=\"text-align: right;\">\n",
       "      <th></th>\n",
       "      <th>total_images</th>\n",
       "      <th>last_price</th>\n",
       "      <th>total_area</th>\n",
       "      <th>first_day_exposition</th>\n",
       "      <th>rooms</th>\n",
       "      <th>ceiling_height</th>\n",
       "      <th>floors_total</th>\n",
       "      <th>living_area</th>\n",
       "      <th>floor</th>\n",
       "      <th>is_apartment</th>\n",
       "      <th>...</th>\n",
       "      <th>ponds_nearest</th>\n",
       "      <th>days_exposition</th>\n",
       "      <th>price_meter</th>\n",
       "      <th>year</th>\n",
       "      <th>month</th>\n",
       "      <th>weekday</th>\n",
       "      <th>type_floor</th>\n",
       "      <th>ratio_living_area</th>\n",
       "      <th>ratio_kitchen_area</th>\n",
       "      <th>center_km</th>\n",
       "    </tr>\n",
       "  </thead>\n",
       "  <tbody>\n",
       "    <tr>\n",
       "      <th>11</th>\n",
       "      <td>8</td>\n",
       "      <td>6500000.0</td>\n",
       "      <td>97</td>\n",
       "      <td>2015-10-31</td>\n",
       "      <td>2</td>\n",
       "      <td>2.65</td>\n",
       "      <td>3.0</td>\n",
       "      <td>46.5</td>\n",
       "      <td>1</td>\n",
       "      <td>False</td>\n",
       "      <td>...</td>\n",
       "      <td>124.0</td>\n",
       "      <td>265.0</td>\n",
       "      <td>67010.31</td>\n",
       "      <td>2015</td>\n",
       "      <td>10</td>\n",
       "      <td>5</td>\n",
       "      <td>Первый</td>\n",
       "      <td>0.479</td>\n",
       "      <td>0.202</td>\n",
       "      <td>2.0</td>\n",
       "    </tr>\n",
       "    <tr>\n",
       "      <th>19</th>\n",
       "      <td>6</td>\n",
       "      <td>15500000.0</td>\n",
       "      <td>149</td>\n",
       "      <td>2017-06-26</td>\n",
       "      <td>5</td>\n",
       "      <td>2.65</td>\n",
       "      <td>5.0</td>\n",
       "      <td>104.0</td>\n",
       "      <td>4</td>\n",
       "      <td>False</td>\n",
       "      <td>...</td>\n",
       "      <td>779.0</td>\n",
       "      <td>644.0</td>\n",
       "      <td>104026.85</td>\n",
       "      <td>2017</td>\n",
       "      <td>6</td>\n",
       "      <td>0</td>\n",
       "      <td>Другой</td>\n",
       "      <td>0.698</td>\n",
       "      <td>0.114</td>\n",
       "      <td>4.0</td>\n",
       "    </tr>\n",
       "    <tr>\n",
       "      <th>30</th>\n",
       "      <td>18</td>\n",
       "      <td>7990000.0</td>\n",
       "      <td>74</td>\n",
       "      <td>2017-08-24</td>\n",
       "      <td>2</td>\n",
       "      <td>2.65</td>\n",
       "      <td>4.0</td>\n",
       "      <td>43.0</td>\n",
       "      <td>4</td>\n",
       "      <td>False</td>\n",
       "      <td>...</td>\n",
       "      <td>0.0</td>\n",
       "      <td>609.0</td>\n",
       "      <td>107972.97</td>\n",
       "      <td>2017</td>\n",
       "      <td>8</td>\n",
       "      <td>3</td>\n",
       "      <td>Последний</td>\n",
       "      <td>0.581</td>\n",
       "      <td>0.270</td>\n",
       "      <td>4.0</td>\n",
       "    </tr>\n",
       "    <tr>\n",
       "      <th>31</th>\n",
       "      <td>2</td>\n",
       "      <td>20000000.0</td>\n",
       "      <td>118</td>\n",
       "      <td>2018-09-11</td>\n",
       "      <td>3</td>\n",
       "      <td>3.00</td>\n",
       "      <td>9.0</td>\n",
       "      <td>68.0</td>\n",
       "      <td>7</td>\n",
       "      <td>False</td>\n",
       "      <td>...</td>\n",
       "      <td>779.0</td>\n",
       "      <td>37.0</td>\n",
       "      <td>169491.53</td>\n",
       "      <td>2018</td>\n",
       "      <td>9</td>\n",
       "      <td>1</td>\n",
       "      <td>Другой</td>\n",
       "      <td>0.576</td>\n",
       "      <td>0.136</td>\n",
       "      <td>5.0</td>\n",
       "    </tr>\n",
       "    <tr>\n",
       "      <th>40</th>\n",
       "      <td>3</td>\n",
       "      <td>3500000.0</td>\n",
       "      <td>29</td>\n",
       "      <td>2019-04-26</td>\n",
       "      <td>1</td>\n",
       "      <td>2.50</td>\n",
       "      <td>5.0</td>\n",
       "      <td>15.6</td>\n",
       "      <td>2</td>\n",
       "      <td>False</td>\n",
       "      <td>...</td>\n",
       "      <td>0.0</td>\n",
       "      <td>4.0</td>\n",
       "      <td>120689.66</td>\n",
       "      <td>2019</td>\n",
       "      <td>4</td>\n",
       "      <td>4</td>\n",
       "      <td>Другой</td>\n",
       "      <td>0.538</td>\n",
       "      <td>0.190</td>\n",
       "      <td>7.0</td>\n",
       "    </tr>\n",
       "  </tbody>\n",
       "</table>\n",
       "<p>5 rows × 30 columns</p>\n",
       "</div>"
      ],
      "text/plain": [
       "    total_images  last_price  total_area first_day_exposition  rooms  \\\n",
       "11             8   6500000.0          97           2015-10-31      2   \n",
       "19             6  15500000.0         149           2017-06-26      5   \n",
       "30            18   7990000.0          74           2017-08-24      2   \n",
       "31             2  20000000.0         118           2018-09-11      3   \n",
       "40             3   3500000.0          29           2019-04-26      1   \n",
       "\n",
       "    ceiling_height  floors_total  living_area  floor  is_apartment  ...  \\\n",
       "11            2.65           3.0         46.5      1         False  ...   \n",
       "19            2.65           5.0        104.0      4         False  ...   \n",
       "30            2.65           4.0         43.0      4         False  ...   \n",
       "31            3.00           9.0         68.0      7         False  ...   \n",
       "40            2.50           5.0         15.6      2         False  ...   \n",
       "\n",
       "    ponds_nearest  days_exposition  price_meter  year month  weekday  \\\n",
       "11          124.0            265.0     67010.31  2015    10        5   \n",
       "19          779.0            644.0    104026.85  2017     6        0   \n",
       "30            0.0            609.0    107972.97  2017     8        3   \n",
       "31          779.0             37.0    169491.53  2018     9        1   \n",
       "40            0.0              4.0    120689.66  2019     4        4   \n",
       "\n",
       "    type_floor  ratio_living_area  ratio_kitchen_area  center_km  \n",
       "11      Первый              0.479               0.202        2.0  \n",
       "19      Другой              0.698               0.114        4.0  \n",
       "30   Последний              0.581               0.270        4.0  \n",
       "31      Другой              0.576               0.136        5.0  \n",
       "40      Другой              0.538               0.190        7.0  \n",
       "\n",
       "[5 rows x 30 columns]"
      ]
     },
     "execution_count": 65,
     "metadata": {},
     "output_type": "execute_result"
    }
   ],
   "source": [
    "#выделяем сегмент в центре Санкт-Петербурга\n",
    "center_table=SPB_table.query('center_km <= 7')\n",
    "center_table.head()"
   ]
  },
  {
   "cell_type": "markdown",
   "metadata": {},
   "source": [
    "<div class=\"alert alert-block alert-warning\">\n",
    "<b>Рекомендация ⚠️: </b> А почему в выводе написано 20км, а срез мы делаем по 5км?)\n",
    "</div>"
   ]
  },
  {
   "cell_type": "markdown",
   "metadata": {},
   "source": [
    "<div class=\"alert alert-block alert-info\">\n",
    "<b>Комментарий студента:</b> График неверно сделал, сейчас поменял как в выводе)</div>"
   ]
  },
  {
   "cell_type": "code",
   "execution_count": 66,
   "metadata": {},
   "outputs": [
    {
     "data": {
      "text/plain": [
       "<AxesSubplot:>"
      ]
     },
     "execution_count": 66,
     "metadata": {},
     "output_type": "execute_result"
    },
    {
     "data": {
      "image/png": "[encoded data removed]",
      "text/plain": [
       "<Figure size 432x288 with 1 Axes>"
      ]
     },
     "metadata": {
      "needs_background": "light"
     },
     "output_type": "display_data"
    }
   ],
   "source": [
    "center_table['total_area'].hist(bins=100,range=(0,600))"
   ]
  },
  {
   "cell_type": "code",
   "execution_count": 67,
   "metadata": {},
   "outputs": [
    {
     "data": {
      "text/plain": [
       "<AxesSubplot:>"
      ]
     },
     "execution_count": 67,
     "metadata": {},
     "output_type": "execute_result"
    },
    {
     "data": {
      "image/png": "[encoded data removed]",
      "text/plain": [
       "<Figure size 432x288 with 1 Axes>"
      ]
     },
     "metadata": {
      "needs_background": "light"
     },
     "output_type": "display_data"
    }
   ],
   "source": [
    "center_table['last_price'].hist(bins=100,range=(0,40000000))"
   ]
  },
  {
   "cell_type": "code",
   "execution_count": 68,
   "metadata": {},
   "outputs": [
    {
     "data": {
      "text/plain": [
       "<AxesSubplot:>"
      ]
     },
     "execution_count": 68,
     "metadata": {},
     "output_type": "execute_result"
    },
    {
     "data": {
      "image/png": "[encoded data removed]",
      "text/plain": [
       "<Figure size 432x288 with 1 Axes>"
      ]
     },
     "metadata": {
      "needs_background": "light"
     },
     "output_type": "display_data"
    }
   ],
   "source": [
    "center_table['rooms'].hist(bins=10)"
   ]
  },
  {
   "cell_type": "code",
   "execution_count": 69,
   "metadata": {},
   "outputs": [
    {
     "data": {
      "text/plain": [
       "<AxesSubplot:>"
      ]
     },
     "execution_count": 69,
     "metadata": {},
     "output_type": "execute_result"
    },
    {
     "data": {
      "image/png": "[encoded data removed]",
      "text/plain": [
       "<Figure size 432x288 with 1 Axes>"
      ]
     },
     "metadata": {
      "needs_background": "light"
     },
     "output_type": "display_data"
    }
   ],
   "source": [
    "center_table['ceiling_height'].hist(bins=50,range=(0,5))"
   ]
  },
  {
   "cell_type": "markdown",
   "metadata": {},
   "source": [
    "Почти на всех гистограммах показано распределение Пуассона. Больше всех квартир, у которых площадь варьируется в районе 70 кв. м., цена достигает 700000, число комнат - от 2 до 3, высота потолков - около 2,7 м. Если сравнивать с выводами по всей базе, то можно сказать, что разница небольшая. Частоуказываемая цена и площадь в Питере больше на 20% от указываемых показателей по всей базе."
   ]
  },
  {
   "cell_type": "code",
   "execution_count": 70,
   "metadata": {},
   "outputs": [
    {
     "data": {
      "text/plain": [
       "<AxesSubplot:xlabel='rooms', ylabel='last_price'>"
      ]
     },
     "execution_count": 70,
     "metadata": {},
     "output_type": "execute_result"
    },
    {
     "data": {
      "image/png": "[encoded data removed]",
      "text/plain": [
       "<Figure size 432x288 with 1 Axes>"
      ]
     },
     "metadata": {
      "needs_background": "light"
     },
     "output_type": "display_data"
    }
   ],
   "source": [
    "center_table.plot(x='rooms',y='last_price',kind='scatter',alpha=0.03,grid=True)#построение графика между ценой и кол-вом комнат"
   ]
  },
  {
   "cell_type": "code",
   "execution_count": 71,
   "metadata": {},
   "outputs": [
    {
     "name": "stdout",
     "output_type": "stream",
     "text": [
      "0.4534232253737156\n"
     ]
    }
   ],
   "source": [
    "print(center_table['last_price'].corr(center_table['rooms']))#значение корреляции от этих параметров"
   ]
  },
  {
   "cell_type": "markdown",
   "metadata": {},
   "source": [
    "Зависимость цены от количества комнат есть, но незначительная."
   ]
  },
  {
   "cell_type": "code",
   "execution_count": 72,
   "metadata": {},
   "outputs": [
    {
     "data": {
      "text/html": [
       "<div>\n",
       "<style scoped>\n",
       "    .dataframe tbody tr th:only-of-type {\n",
       "        vertical-align: middle;\n",
       "    }\n",
       "\n",
       "    .dataframe tbody tr th {\n",
       "        vertical-align: top;\n",
       "    }\n",
       "\n",
       "    .dataframe thead th {\n",
       "        text-align: right;\n",
       "    }\n",
       "</style>\n",
       "<table border=\"1\" class=\"dataframe\">\n",
       "  <thead>\n",
       "    <tr style=\"text-align: right;\">\n",
       "      <th>type_floor</th>\n",
       "      <th>Другой</th>\n",
       "      <th>Первый</th>\n",
       "      <th>Последний</th>\n",
       "    </tr>\n",
       "  </thead>\n",
       "  <tbody>\n",
       "    <tr>\n",
       "      <th>last_price</th>\n",
       "      <td>1.122530e+07</td>\n",
       "      <td>7.505054e+06</td>\n",
       "      <td>1.052948e+07</td>\n",
       "    </tr>\n",
       "  </tbody>\n",
       "</table>\n",
       "</div>"
      ],
      "text/plain": [
       "type_floor        Другой        Первый     Последний\n",
       "last_price  1.122530e+07  7.505054e+06  1.052948e+07"
      ]
     },
     "execution_count": 72,
     "metadata": {},
     "output_type": "execute_result"
    }
   ],
   "source": [
    "center_table.pivot_table(values='last_price',columns='type_floor',aggfunc='mean')#среднее значение цены к типам этажа квартиры"
   ]
  },
  {
   "cell_type": "markdown",
   "metadata": {},
   "source": [
    "Средняя цена квартир, находящихся на 1 этаже, меньше чем у остальных."
   ]
  },
  {
   "cell_type": "code",
   "execution_count": 73,
   "metadata": {},
   "outputs": [
    {
     "data": {
      "text/plain": [
       "Text(0, 0.5, 'Средняя цена')"
      ]
     },
     "execution_count": 73,
     "metadata": {},
     "output_type": "execute_result"
    },
    {
     "data": {
      "image/png": "[encoded data removed]",
      "text/plain": [
       "<Figure size 936x432 with 1 Axes>"
      ]
     },
     "metadata": {
      "needs_background": "light"
     },
     "output_type": "display_data"
    }
   ],
   "source": [
    "#создание графика зависимости цены от расстояние до центра\n",
    "center_table.pivot_table(index='center_km', values='last_price', aggfunc='mean').plot(style='o--', figsize=(13, 6), grid=True)\n",
    "\n",
    "plt.title('Зависимость цены от расстояния до центра')\n",
    "plt.xlabel('Расстояние до центра')\n",
    "plt.ylabel('Средняя цена')"
   ]
  },
  {
   "cell_type": "markdown",
   "metadata": {},
   "source": [
    "Средняя цена с 0го по 3й км идет на спад, а затем в рост. Самые высокие цены у первых двух км к центру, и у 5го км к центру."
   ]
  },
  {
   "cell_type": "code",
   "execution_count": 74,
   "metadata": {},
   "outputs": [
    {
     "data": {
      "text/plain": [
       "Text(0, 0.5, 'Средняя цена')"
      ]
     },
     "execution_count": 74,
     "metadata": {},
     "output_type": "execute_result"
    },
    {
     "data": {
      "image/png": "[encoded data removed]",
      "text/plain": [
       "<Figure size 936x432 with 1 Axes>"
      ]
     },
     "metadata": {
      "needs_background": "light"
     },
     "output_type": "display_data"
    }
   ],
   "source": [
    "#построение графика между ценой и годом размещения\n",
    "center_table.pivot_table(index='year', values='last_price', aggfunc='mean').plot(style='o--', figsize=(13, 6), grid=True)\n",
    "\n",
    "plt.title('Зависимость цены от года')\n",
    "plt.xlabel('Год')\n",
    "plt.ylabel('Средняя цена')"
   ]
  },
  {
   "cell_type": "code",
   "execution_count": 75,
   "metadata": {},
   "outputs": [
    {
     "data": {
      "text/plain": [
       "Text(0, 0.5, 'Средняя цена')"
      ]
     },
     "execution_count": 75,
     "metadata": {},
     "output_type": "execute_result"
    },
    {
     "data": {
      "image/png": "[encoded data removed]",
      "text/plain": [
       "<Figure size 936x432 with 1 Axes>"
      ]
     },
     "metadata": {
      "needs_background": "light"
     },
     "output_type": "display_data"
    }
   ],
   "source": [
    "#построение графика между ценой и месяца размещения\n",
    "center_table.pivot_table(index='month', values='last_price', aggfunc='mean').plot(style='o--', figsize=(13, 6), grid=True)\n",
    "\n",
    "plt.title('Зависимость цены от месяца')\n",
    "plt.xlabel('Месяц')\n",
    "plt.ylabel('Средняя цена')"
   ]
  },
  {
   "cell_type": "code",
   "execution_count": 76,
   "metadata": {},
   "outputs": [
    {
     "data": {
      "text/plain": [
       "Text(0, 0.5, 'Средняя цена')"
      ]
     },
     "execution_count": 76,
     "metadata": {},
     "output_type": "execute_result"
    },
    {
     "data": {
      "image/png": "[encoded data removed]",
      "text/plain": [
       "<Figure size 936x432 with 1 Axes>"
      ]
     },
     "metadata": {
      "needs_background": "light"
     },
     "output_type": "display_data"
    }
   ],
   "source": [
    "#построение графика между ценой и дня недели размещения\n",
    "center_table.pivot_table(index='weekday', values='last_price', aggfunc='mean').plot(style='o--', figsize=(13, 6), grid=True)\n",
    "\n",
    "plt.title('Зависимость цены от дня недели')\n",
    "plt.xlabel('День недели')\n",
    "plt.ylabel('Средняя цена')"
   ]
  },
  {
   "cell_type": "markdown",
   "metadata": {},
   "source": [
    "В 2014 году, как и в выводе по всей базе, самая высокая цена и дальше резко идет на спад к 2015 году. До 2019 года наблюдается не сильное падение средней цены вниз. Квартиры, размещенные в январе, феврале, ноябре, имеют самую высокую цену по месяцам. Остальные месяцы меньше более, чем на 500тыс. По дню недели самая высокая средняя цена в воскресенье, на 800тыс меньше в среду, четверг и субботу. И в понедельник, вторник и пятницу самые низкие цены.\n",
    "Вывод по году размещения не изменился, а по месяцу и дню недели размещения выводы изменились. Кажется, что месяц и день недели не влияет на зависимость цены."
   ]
  },
  {
   "cell_type": "markdown",
   "metadata": {},
   "source": [
    "<div class=\"alert alert-block alert-danger\">\n",
    "<b>Ошибка ❌:</b> Анализ центра надо изменить также, как я описал в общем анализе (графики на год, месяц, день)\n",
    "</div>"
   ]
  },
  {
   "cell_type": "markdown",
   "metadata": {},
   "source": [
    "<div class=\"alert alert-block alert-info\">\n",
    "<b>Комментарий студента:</b> Постарался исправить!</div>"
   ]
  },
  {
   "cell_type": "markdown",
   "metadata": {},
   "source": [
    "<div class=\"alert alert-block alert-success\">\n",
    "<b>Комментарий ревьюера 2 ✔️:</b> Отлично!)\n",
    "</div>\n"
   ]
  },
  {
   "cell_type": "markdown",
   "metadata": {},
   "source": [
    "## Общий вывод"
   ]
  },
  {
   "cell_type": "markdown",
   "metadata": {},
   "source": [
    "Можно сказать, что цена зависит от площади квартиры, количества комнат, высоты потолков, а также типа этажа. Наблюдается зависимость по расстоянию от центра размещения квартиры: чем ближе к центру, тем выше цена. Среднее время размещения квартиры занимает 180 дней. Отталкиваясь от показателей размещения квартир в центре Санкт-Петербурга, я могу сказать, год размещения квартиры влияет на цену, которая никак не зависит от месяца и дня недели размещения."
   ]
  },
  {
   "cell_type": "markdown",
   "metadata": {},
   "source": [
    "<div class=\"alert alert-block alert-warning\">\n",
    "<b>Итоговый комментарий ревьюера ⚠️: </b> Хороший проект, приложено много усилий, молодец!) Подробные выводы, аккуратный код, спасибо, что соблюдал структуру, было приятно проверять!) Остались некоторые недочеты, которые стоит поправить, их я отметил по ходу проекта, давай сделаем) Жду доработанную версию проекта и всегда рад вопросам!)\n",
    "</div>"
   ]
  },
  {
   "cell_type": "markdown",
   "metadata": {},
   "source": [
    "<div class=\"alert alert-block alert-info\">\n",
    "<b>Комментарий студента:</b> Исправил вывод</div>"
   ]
  },
  {
   "cell_type": "markdown",
   "metadata": {},
   "source": [
    "<div class=\"alert alert-block alert-success\">\n",
    "<b>Итоговый комментарий ревьюера 2 ✔️:</b> Супер, ты проделал большую работу, ошибки критические исправлены и можно идти дальше!) Обрати, пожалуйста, внимание в будущих проектах на замечания, которые я оставил при этой проверке. Успехов в дальнейшем обучении!)\n",
    "</div>"
   ]
  },
  {
   "cell_type": "markdown",
   "metadata": {},
   "source": [
    "## Чек-лист готовности проекта\n",
    "\n",
    "Поставьте 'x' в выполненных пунктах. Далее нажмите Shift+Enter."
   ]
  },
  {
   "cell_type": "markdown",
   "metadata": {},
   "source": [
    "- [x]  открыт файл\n",
    "- [x]  файлы изучены (выведены первые строки, метод `info()`)\n",
    "- [x]  определены пропущенные значения\n",
    "- [x]  заполнены пропущенные значения\n",
    "- [x]  есть пояснение, какие пропущенные значения обнаружены\n",
    "- [x]  изменены типы данных\n",
    "- [x]  есть пояснение, в каких столбцах изменены типы и почему\n",
    "- [x]  посчитано и добавлено в таблицу: цена квадратного метра\n",
    "- [x]  посчитано и добавлено в таблицу: день недели, месяц и год публикации объявления\n",
    "- [x]  посчитано и добавлено в таблицу: этаж квартиры; варианты — первый, последний, другой\n",
    "- [x]  посчитано и добавлено в таблицу: соотношение жилой и общей площади, а также отношение площади кухни к общей\n",
    "- [x]  изучены следующие параметры: площадь, цена, число комнат, высота потолков\n",
    "- [x]  построены гистограммы для каждого параметра\n",
    "- [x]  выполнено задание: «Изучите время продажи квартиры. Постройте гистограмму. Посчитайте среднее и медиану. Опишите, сколько обычно занимает продажа. Когда можно считать, что продажи прошли очень быстро, а когда необычно долго?»\n",
    "- [x]  выполнено задание: «Уберите редкие и выбивающиеся значения. Опишите, какие особенности обнаружили».\n",
    "- [x]  выполнено задание: «Какие факторы больше всего влияют на стоимость квартиры? Изучите, зависит ли цена от квадратного метра, числа комнат, этажа (первого или последнего), удалённости от центра. Также изучите зависимость от даты размещения: дня недели, месяца и года». \n",
    "- [x]  выполнено задание: «Выберите 10 населённых пунктов с наибольшим числом объявлений. Посчитайте среднюю цену квадратного метра в этих населённых пунктах. Выделите населённые пункты с самой высокой и низкой стоимостью жилья. Эти данные можно найти по имени в столбце `locality_name`».\n",
    "- [x]  выполнено задание: «Изучите предложения квартир: для каждой квартиры есть информация о расстоянии до центра. Выделите квартиры в Санкт-Петербурге (`locality_name`). Ваша задача — выяснить, какая область входит в центр. Создайте столбец с расстоянием до центра в километрах: округлите до целых значений. После этого посчитайте среднюю цену для каждого километра. Постройте график: он должен показывать, как цена зависит от удалённости от центра. Определите границу, где график сильно меняется — это и будет центральная зона».\n",
    "- [x]  выполнено задание: «Выделите сегмент квартир в центре. Проанализируйте эту территорию и изучите следующие параметры: площадь, цена, число комнат, высота потолков. Также выделите факторы, которые влияют на стоимость квартиры (число комнат, этаж, удалённость от центра, дата размещения объявления). Сделайте выводы. Отличаются ли они от общих выводов по всей базе?»\n",
    "- [x]  в каждом этапе есть выводы\n",
    "- [x]  есть общий вывод"
   ]
  }
 ],
 "metadata": {
  "ExecuteTimeLog": [
   {
    "duration": 520,
    "start_time": "2022-05-17T20:03:53.388Z"
   },
   {
    "duration": 367,
    "start_time": "2022-05-17T20:04:27.660Z"
   },
   {
    "duration": 18,
    "start_time": "2022-05-17T20:04:40.437Z"
   },
   {
    "duration": 15,
    "start_time": "2022-05-17T20:05:04.930Z"
   },
   {
    "duration": 227,
    "start_time": "2022-05-17T20:09:47.906Z"
   },
   {
    "duration": 82,
    "start_time": "2022-05-17T20:09:48.200Z"
   },
   {
    "duration": 30,
    "start_time": "2022-05-17T20:09:54.609Z"
   },
   {
    "duration": 3,
    "start_time": "2022-05-18T14:52:44.410Z"
   },
   {
    "duration": 90,
    "start_time": "2022-05-18T14:52:44.848Z"
   },
   {
    "duration": 40,
    "start_time": "2022-05-18T14:52:45.018Z"
   },
   {
    "duration": 13,
    "start_time": "2022-05-18T14:52:45.298Z"
   },
   {
    "duration": 20,
    "start_time": "2022-05-18T14:52:47.432Z"
   },
   {
    "duration": 4,
    "start_time": "2022-05-18T14:55:11.447Z"
   },
   {
    "duration": 7,
    "start_time": "2022-05-18T14:56:57.302Z"
   },
   {
    "duration": 5,
    "start_time": "2022-05-18T14:57:57.294Z"
   },
   {
    "duration": 6,
    "start_time": "2022-05-18T14:58:00.672Z"
   },
   {
    "duration": 5,
    "start_time": "2022-05-18T14:58:01.054Z"
   },
   {
    "duration": 6,
    "start_time": "2022-05-18T14:59:13.950Z"
   },
   {
    "duration": 7,
    "start_time": "2022-05-18T15:11:55.543Z"
   },
   {
    "duration": 5,
    "start_time": "2022-05-18T15:12:38.447Z"
   },
   {
    "duration": 5,
    "start_time": "2022-05-18T15:14:39.094Z"
   },
   {
    "duration": 30,
    "start_time": "2022-05-18T15:14:54.349Z"
   },
   {
    "duration": 4,
    "start_time": "2022-05-18T15:14:59.417Z"
   },
   {
    "duration": 34,
    "start_time": "2022-05-18T15:24:53.598Z"
   },
   {
    "duration": 8,
    "start_time": "2022-05-18T15:25:13.934Z"
   },
   {
    "duration": 6,
    "start_time": "2022-05-18T15:25:37.101Z"
   },
   {
    "duration": 5,
    "start_time": "2022-05-18T15:26:14.749Z"
   },
   {
    "duration": 3,
    "start_time": "2022-05-18T15:28:54.558Z"
   },
   {
    "duration": 4,
    "start_time": "2022-05-18T15:30:37.658Z"
   },
   {
    "duration": 4,
    "start_time": "2022-05-18T15:33:42.231Z"
   },
   {
    "duration": 5,
    "start_time": "2022-05-18T15:34:07.018Z"
   },
   {
    "duration": 729,
    "start_time": "2022-05-20T08:43:39.734Z"
   },
   {
    "duration": 304,
    "start_time": "2022-05-20T08:43:40.465Z"
   },
   {
    "duration": 60,
    "start_time": "2022-05-20T08:43:40.771Z"
   },
   {
    "duration": 16,
    "start_time": "2022-05-20T08:43:40.834Z"
   },
   {
    "duration": 21,
    "start_time": "2022-05-20T08:43:42.366Z"
   },
   {
    "duration": 5,
    "start_time": "2022-05-20T08:43:43.075Z"
   },
   {
    "duration": 7,
    "start_time": "2022-05-20T08:43:43.245Z"
   },
   {
    "duration": 15,
    "start_time": "2022-05-20T08:43:43.446Z"
   },
   {
    "duration": 4,
    "start_time": "2022-05-20T08:43:43.606Z"
   },
   {
    "duration": 5,
    "start_time": "2022-05-20T08:43:43.902Z"
   },
   {
    "duration": 8,
    "start_time": "2022-05-20T08:43:44.330Z"
   },
   {
    "duration": 5,
    "start_time": "2022-05-20T08:43:44.496Z"
   },
   {
    "duration": 5,
    "start_time": "2022-05-20T08:43:44.632Z"
   },
   {
    "duration": 6,
    "start_time": "2022-05-20T08:43:44.786Z"
   },
   {
    "duration": 5,
    "start_time": "2022-05-20T08:43:45.036Z"
   },
   {
    "duration": 5,
    "start_time": "2022-05-20T08:43:45.155Z"
   },
   {
    "duration": 4,
    "start_time": "2022-05-20T08:43:45.441Z"
   },
   {
    "duration": 5,
    "start_time": "2022-05-20T08:43:45.596Z"
   },
   {
    "duration": 4,
    "start_time": "2022-05-20T08:43:45.886Z"
   },
   {
    "duration": 5,
    "start_time": "2022-05-20T08:43:46.034Z"
   },
   {
    "duration": 6,
    "start_time": "2022-05-20T08:44:10.316Z"
   },
   {
    "duration": 5,
    "start_time": "2022-05-20T08:49:22.829Z"
   },
   {
    "duration": 6,
    "start_time": "2022-05-20T08:52:21.287Z"
   },
   {
    "duration": 7,
    "start_time": "2022-05-20T08:52:21.696Z"
   },
   {
    "duration": 6,
    "start_time": "2022-05-20T08:54:25.817Z"
   },
   {
    "duration": 4,
    "start_time": "2022-05-20T08:58:35.527Z"
   },
   {
    "duration": 6,
    "start_time": "2022-05-20T08:59:30.542Z"
   },
   {
    "duration": 45,
    "start_time": "2022-05-20T09:15:39.466Z"
   },
   {
    "duration": 678,
    "start_time": "2022-05-20T09:15:53.821Z"
   },
   {
    "duration": 3,
    "start_time": "2022-05-20T09:16:07.671Z"
   },
   {
    "duration": 4,
    "start_time": "2022-05-20T09:16:08.016Z"
   },
   {
    "duration": 3,
    "start_time": "2022-05-20T09:18:44.581Z"
   },
   {
    "duration": 64,
    "start_time": "2022-05-20T09:18:53.421Z"
   },
   {
    "duration": 13,
    "start_time": "2022-05-20T09:19:14.066Z"
   },
   {
    "duration": 55,
    "start_time": "2022-05-20T09:44:44.435Z"
   },
   {
    "duration": 13,
    "start_time": "2022-05-20T09:44:52.990Z"
   },
   {
    "duration": 11,
    "start_time": "2022-05-20T09:45:05.475Z"
   },
   {
    "duration": 13,
    "start_time": "2022-05-20T09:45:06.211Z"
   },
   {
    "duration": 10,
    "start_time": "2022-05-20T09:45:50.415Z"
   },
   {
    "duration": 2,
    "start_time": "2022-05-20T09:45:56.641Z"
   },
   {
    "duration": 83,
    "start_time": "2022-05-20T09:45:56.995Z"
   },
   {
    "duration": 38,
    "start_time": "2022-05-20T09:45:57.701Z"
   },
   {
    "duration": 15,
    "start_time": "2022-05-20T09:45:57.841Z"
   },
   {
    "duration": 23,
    "start_time": "2022-05-20T09:45:58.600Z"
   },
   {
    "duration": 6,
    "start_time": "2022-05-20T09:45:59.596Z"
   },
   {
    "duration": 6,
    "start_time": "2022-05-20T09:45:59.765Z"
   },
   {
    "duration": 4,
    "start_time": "2022-05-20T09:45:59.876Z"
   },
   {
    "duration": 6,
    "start_time": "2022-05-20T09:46:00.055Z"
   },
   {
    "duration": 6,
    "start_time": "2022-05-20T09:46:00.585Z"
   },
   {
    "duration": 7,
    "start_time": "2022-05-20T09:46:00.975Z"
   },
   {
    "duration": 5,
    "start_time": "2022-05-20T09:46:01.100Z"
   },
   {
    "duration": 4,
    "start_time": "2022-05-20T09:46:01.226Z"
   },
   {
    "duration": 4,
    "start_time": "2022-05-20T09:46:01.346Z"
   },
   {
    "duration": 6,
    "start_time": "2022-05-20T09:46:01.736Z"
   },
   {
    "duration": 6,
    "start_time": "2022-05-20T09:46:01.955Z"
   },
   {
    "duration": 4,
    "start_time": "2022-05-20T09:46:02.405Z"
   },
   {
    "duration": 4,
    "start_time": "2022-05-20T09:46:02.531Z"
   },
   {
    "duration": 4,
    "start_time": "2022-05-20T09:46:02.766Z"
   },
   {
    "duration": 5,
    "start_time": "2022-05-20T09:46:02.900Z"
   },
   {
    "duration": 5,
    "start_time": "2022-05-20T09:46:03.541Z"
   },
   {
    "duration": 6,
    "start_time": "2022-05-20T09:46:03.675Z"
   },
   {
    "duration": 6,
    "start_time": "2022-05-20T09:46:03.945Z"
   },
   {
    "duration": 3,
    "start_time": "2022-05-20T09:46:04.206Z"
   },
   {
    "duration": 5,
    "start_time": "2022-05-20T09:46:04.365Z"
   },
   {
    "duration": 4,
    "start_time": "2022-05-20T09:46:04.805Z"
   },
   {
    "duration": 14,
    "start_time": "2022-05-20T09:46:04.990Z"
   },
   {
    "duration": 8,
    "start_time": "2022-05-20T09:46:06.545Z"
   },
   {
    "duration": 13,
    "start_time": "2022-05-20T09:46:07.955Z"
   },
   {
    "duration": 14,
    "start_time": "2022-05-20T09:46:27.600Z"
   },
   {
    "duration": 13,
    "start_time": "2022-05-20T09:47:10.595Z"
   },
   {
    "duration": 12,
    "start_time": "2022-05-20T09:47:22.750Z"
   },
   {
    "duration": 12,
    "start_time": "2022-05-20T09:49:08.335Z"
   },
   {
    "duration": 3,
    "start_time": "2022-05-20T09:49:25.331Z"
   },
   {
    "duration": 82,
    "start_time": "2022-05-20T09:49:25.745Z"
   },
   {
    "duration": 36,
    "start_time": "2022-05-20T09:49:25.910Z"
   },
   {
    "duration": 15,
    "start_time": "2022-05-20T09:49:26.200Z"
   },
   {
    "duration": 22,
    "start_time": "2022-05-20T09:49:26.715Z"
   },
   {
    "duration": 5,
    "start_time": "2022-05-20T09:49:27.882Z"
   },
   {
    "duration": 6,
    "start_time": "2022-05-20T09:49:28.036Z"
   },
   {
    "duration": 5,
    "start_time": "2022-05-20T09:49:28.170Z"
   },
   {
    "duration": 4,
    "start_time": "2022-05-20T09:49:28.281Z"
   },
   {
    "duration": 6,
    "start_time": "2022-05-20T09:49:28.550Z"
   },
   {
    "duration": 7,
    "start_time": "2022-05-20T09:49:28.955Z"
   },
   {
    "duration": 5,
    "start_time": "2022-05-20T09:49:29.115Z"
   },
   {
    "duration": 4,
    "start_time": "2022-05-20T09:49:29.266Z"
   },
   {
    "duration": 4,
    "start_time": "2022-05-20T09:49:29.421Z"
   },
   {
    "duration": 6,
    "start_time": "2022-05-20T09:49:29.730Z"
   },
   {
    "duration": 4,
    "start_time": "2022-05-20T09:49:29.866Z"
   },
   {
    "duration": 3,
    "start_time": "2022-05-20T09:49:30.145Z"
   },
   {
    "duration": 5,
    "start_time": "2022-05-20T09:49:30.295Z"
   },
   {
    "duration": 3,
    "start_time": "2022-05-20T09:49:30.596Z"
   },
   {
    "duration": 5,
    "start_time": "2022-05-20T09:49:30.740Z"
   },
   {
    "duration": 5,
    "start_time": "2022-05-20T09:49:31.251Z"
   },
   {
    "duration": 8,
    "start_time": "2022-05-20T09:49:31.450Z"
   },
   {
    "duration": 5,
    "start_time": "2022-05-20T09:49:31.891Z"
   },
   {
    "duration": 3,
    "start_time": "2022-05-20T09:49:32.235Z"
   },
   {
    "duration": 4,
    "start_time": "2022-05-20T09:49:32.425Z"
   },
   {
    "duration": 4,
    "start_time": "2022-05-20T09:49:32.845Z"
   },
   {
    "duration": 13,
    "start_time": "2022-05-20T09:49:33.085Z"
   },
   {
    "duration": 14,
    "start_time": "2022-05-20T09:49:33.790Z"
   },
   {
    "duration": 9,
    "start_time": "2022-05-20T09:53:03.625Z"
   },
   {
    "duration": 13,
    "start_time": "2022-05-20T09:53:04.310Z"
   },
   {
    "duration": 48,
    "start_time": "2022-05-20T09:54:00.585Z"
   },
   {
    "duration": 480,
    "start_time": "2022-05-20T16:13:53.120Z"
   },
   {
    "duration": 355,
    "start_time": "2022-05-20T16:13:53.602Z"
   },
   {
    "duration": 73,
    "start_time": "2022-05-20T16:13:53.959Z"
   },
   {
    "duration": 23,
    "start_time": "2022-05-20T16:13:54.034Z"
   },
   {
    "duration": 23,
    "start_time": "2022-05-20T16:13:55.440Z"
   },
   {
    "duration": 4,
    "start_time": "2022-05-20T16:13:56.580Z"
   },
   {
    "duration": 7,
    "start_time": "2022-05-20T16:13:56.709Z"
   },
   {
    "duration": 5,
    "start_time": "2022-05-20T16:13:56.834Z"
   },
   {
    "duration": 5,
    "start_time": "2022-05-20T16:13:56.979Z"
   },
   {
    "duration": 6,
    "start_time": "2022-05-20T16:13:57.208Z"
   },
   {
    "duration": 7,
    "start_time": "2022-05-20T16:13:57.613Z"
   },
   {
    "duration": 5,
    "start_time": "2022-05-20T16:13:57.760Z"
   },
   {
    "duration": 4,
    "start_time": "2022-05-20T16:13:57.883Z"
   },
   {
    "duration": 4,
    "start_time": "2022-05-20T16:13:58.044Z"
   },
   {
    "duration": 7,
    "start_time": "2022-05-20T16:13:58.344Z"
   },
   {
    "duration": 5,
    "start_time": "2022-05-20T16:13:58.588Z"
   },
   {
    "duration": 4,
    "start_time": "2022-05-20T16:13:58.829Z"
   },
   {
    "duration": 4,
    "start_time": "2022-05-20T16:13:58.944Z"
   },
   {
    "duration": 4,
    "start_time": "2022-05-20T16:13:59.438Z"
   },
   {
    "duration": 9,
    "start_time": "2022-05-20T16:13:59.444Z"
   },
   {
    "duration": 5,
    "start_time": "2022-05-20T16:13:59.984Z"
   },
   {
    "duration": 6,
    "start_time": "2022-05-20T16:14:00.189Z"
   },
   {
    "duration": 6,
    "start_time": "2022-05-20T16:14:00.473Z"
   },
   {
    "duration": 3,
    "start_time": "2022-05-20T16:14:00.838Z"
   },
   {
    "duration": 5,
    "start_time": "2022-05-20T16:14:01.109Z"
   },
   {
    "duration": 5,
    "start_time": "2022-05-20T16:14:01.698Z"
   },
   {
    "duration": 23,
    "start_time": "2022-05-20T16:14:01.705Z"
   },
   {
    "duration": 14,
    "start_time": "2022-05-20T16:14:02.173Z"
   },
   {
    "duration": 18,
    "start_time": "2022-05-20T16:14:02.804Z"
   },
   {
    "duration": 412,
    "start_time": "2022-05-20T16:32:28.361Z"
   },
   {
    "duration": 40,
    "start_time": "2022-05-20T16:33:02.841Z"
   },
   {
    "duration": 24,
    "start_time": "2022-05-20T16:34:30.393Z"
   },
   {
    "duration": 32,
    "start_time": "2022-05-21T05:15:56.592Z"
   },
   {
    "duration": 2,
    "start_time": "2022-05-21T05:16:18.027Z"
   },
   {
    "duration": 78,
    "start_time": "2022-05-21T05:16:18.462Z"
   },
   {
    "duration": 38,
    "start_time": "2022-05-21T05:16:18.850Z"
   },
   {
    "duration": 15,
    "start_time": "2022-05-21T05:16:19.015Z"
   },
   {
    "duration": 22,
    "start_time": "2022-05-21T05:16:20.106Z"
   },
   {
    "duration": 4,
    "start_time": "2022-05-21T05:16:21.117Z"
   },
   {
    "duration": 7,
    "start_time": "2022-05-21T05:16:21.321Z"
   },
   {
    "duration": 4,
    "start_time": "2022-05-21T05:16:21.562Z"
   },
   {
    "duration": 4,
    "start_time": "2022-05-21T05:16:21.817Z"
   },
   {
    "duration": 5,
    "start_time": "2022-05-21T05:16:22.328Z"
   },
   {
    "duration": 6,
    "start_time": "2022-05-21T05:16:23.322Z"
   },
   {
    "duration": 4,
    "start_time": "2022-05-21T05:16:23.353Z"
   },
   {
    "duration": 5,
    "start_time": "2022-05-21T05:16:23.574Z"
   },
   {
    "duration": 4,
    "start_time": "2022-05-21T05:16:23.967Z"
   },
   {
    "duration": 6,
    "start_time": "2022-05-21T05:16:24.712Z"
   },
   {
    "duration": 5,
    "start_time": "2022-05-21T05:16:25.218Z"
   },
   {
    "duration": 3,
    "start_time": "2022-05-21T05:16:26.093Z"
   },
   {
    "duration": 5,
    "start_time": "2022-05-21T05:16:26.319Z"
   },
   {
    "duration": 3,
    "start_time": "2022-05-21T05:16:26.846Z"
   },
   {
    "duration": 6,
    "start_time": "2022-05-21T05:16:27.062Z"
   },
   {
    "duration": 6,
    "start_time": "2022-05-21T05:16:27.767Z"
   },
   {
    "duration": 8,
    "start_time": "2022-05-21T05:16:27.972Z"
   },
   {
    "duration": 5,
    "start_time": "2022-05-21T05:16:28.457Z"
   },
   {
    "duration": 4,
    "start_time": "2022-05-21T05:16:29.117Z"
   },
   {
    "duration": 4,
    "start_time": "2022-05-21T05:16:29.207Z"
   },
   {
    "duration": 4,
    "start_time": "2022-05-21T05:16:29.854Z"
   },
   {
    "duration": 13,
    "start_time": "2022-05-21T05:16:29.962Z"
   },
   {
    "duration": 10,
    "start_time": "2022-05-21T05:16:31.050Z"
   },
   {
    "duration": 13,
    "start_time": "2022-05-21T05:16:31.302Z"
   },
   {
    "duration": 25,
    "start_time": "2022-05-21T05:16:32.221Z"
   },
   {
    "duration": 9,
    "start_time": "2022-05-21T05:16:32.653Z"
   },
   {
    "duration": 9,
    "start_time": "2022-05-21T05:17:12.652Z"
   },
   {
    "duration": 10,
    "start_time": "2022-05-21T05:18:48.632Z"
   },
   {
    "duration": 11,
    "start_time": "2022-05-21T05:18:57.388Z"
   },
   {
    "duration": 254,
    "start_time": "2022-05-21T05:22:16.451Z"
   },
   {
    "duration": 11,
    "start_time": "2022-05-21T05:22:37.149Z"
   },
   {
    "duration": 24,
    "start_time": "2022-05-21T05:22:41.198Z"
   },
   {
    "duration": 6,
    "start_time": "2022-05-21T05:22:59.952Z"
   },
   {
    "duration": 5,
    "start_time": "2022-05-21T05:23:12.550Z"
   },
   {
    "duration": 3,
    "start_time": "2022-05-21T05:25:06.383Z"
   },
   {
    "duration": 80,
    "start_time": "2022-05-21T05:25:06.593Z"
   },
   {
    "duration": 38,
    "start_time": "2022-05-21T05:25:07.458Z"
   },
   {
    "duration": 14,
    "start_time": "2022-05-21T05:25:07.654Z"
   },
   {
    "duration": 21,
    "start_time": "2022-05-21T05:25:08.955Z"
   },
   {
    "duration": 4,
    "start_time": "2022-05-21T05:25:10.774Z"
   },
   {
    "duration": 6,
    "start_time": "2022-05-21T05:25:10.958Z"
   },
   {
    "duration": 5,
    "start_time": "2022-05-21T05:25:11.173Z"
   },
   {
    "duration": 6,
    "start_time": "2022-05-21T05:25:11.383Z"
   },
   {
    "duration": 6,
    "start_time": "2022-05-21T05:25:11.804Z"
   },
   {
    "duration": 8,
    "start_time": "2022-05-21T05:25:12.463Z"
   },
   {
    "duration": 5,
    "start_time": "2022-05-21T05:25:12.668Z"
   },
   {
    "duration": 5,
    "start_time": "2022-05-21T05:25:12.863Z"
   },
   {
    "duration": 5,
    "start_time": "2022-05-21T05:25:13.257Z"
   },
   {
    "duration": 6,
    "start_time": "2022-05-21T05:25:13.693Z"
   },
   {
    "duration": 5,
    "start_time": "2022-05-21T05:25:13.908Z"
   },
   {
    "duration": 4,
    "start_time": "2022-05-21T05:25:14.373Z"
   },
   {
    "duration": 5,
    "start_time": "2022-05-21T05:25:14.628Z"
   },
   {
    "duration": 4,
    "start_time": "2022-05-21T05:25:15.103Z"
   },
   {
    "duration": 5,
    "start_time": "2022-05-21T05:25:15.304Z"
   },
   {
    "duration": 6,
    "start_time": "2022-05-21T05:25:15.933Z"
   },
   {
    "duration": 6,
    "start_time": "2022-05-21T05:25:16.159Z"
   },
   {
    "duration": 6,
    "start_time": "2022-05-21T05:25:16.778Z"
   },
   {
    "duration": 3,
    "start_time": "2022-05-21T05:25:17.288Z"
   },
   {
    "duration": 4,
    "start_time": "2022-05-21T05:25:17.584Z"
   },
   {
    "duration": 4,
    "start_time": "2022-05-21T05:25:18.013Z"
   },
   {
    "duration": 14,
    "start_time": "2022-05-21T05:25:18.233Z"
   },
   {
    "duration": 10,
    "start_time": "2022-05-21T05:25:18.973Z"
   },
   {
    "duration": 15,
    "start_time": "2022-05-21T05:25:19.197Z"
   },
   {
    "duration": 8,
    "start_time": "2022-05-21T05:25:19.910Z"
   },
   {
    "duration": 35,
    "start_time": "2022-05-21T05:25:20.178Z"
   },
   {
    "duration": 9,
    "start_time": "2022-05-21T05:25:20.559Z"
   },
   {
    "duration": 11,
    "start_time": "2022-05-21T05:25:52.133Z"
   },
   {
    "duration": 26,
    "start_time": "2022-05-21T05:26:07.104Z"
   },
   {
    "duration": 12,
    "start_time": "2022-05-21T05:28:49.589Z"
   },
   {
    "duration": 3,
    "start_time": "2022-05-21T05:35:38.163Z"
   },
   {
    "duration": 16,
    "start_time": "2022-05-21T05:38:23.676Z"
   },
   {
    "duration": 3,
    "start_time": "2022-05-21T05:40:46.465Z"
   },
   {
    "duration": 16,
    "start_time": "2022-05-21T05:40:52.050Z"
   },
   {
    "duration": 19,
    "start_time": "2022-05-21T05:41:05.234Z"
   },
   {
    "duration": 2,
    "start_time": "2022-05-21T05:41:28.574Z"
   },
   {
    "duration": 80,
    "start_time": "2022-05-21T05:41:28.953Z"
   },
   {
    "duration": 40,
    "start_time": "2022-05-21T05:41:29.139Z"
   },
   {
    "duration": 16,
    "start_time": "2022-05-21T05:41:29.308Z"
   },
   {
    "duration": 22,
    "start_time": "2022-05-21T05:41:29.963Z"
   },
   {
    "duration": 5,
    "start_time": "2022-05-21T05:41:30.874Z"
   },
   {
    "duration": 7,
    "start_time": "2022-05-21T05:41:31.053Z"
   },
   {
    "duration": 5,
    "start_time": "2022-05-21T05:41:31.203Z"
   },
   {
    "duration": 5,
    "start_time": "2022-05-21T05:41:31.398Z"
   },
   {
    "duration": 7,
    "start_time": "2022-05-21T05:41:31.778Z"
   },
   {
    "duration": 6,
    "start_time": "2022-05-21T05:41:32.403Z"
   },
   {
    "duration": 14,
    "start_time": "2022-05-21T05:41:32.623Z"
   },
   {
    "duration": 5,
    "start_time": "2022-05-21T05:41:32.769Z"
   },
   {
    "duration": 4,
    "start_time": "2022-05-21T05:41:32.993Z"
   },
   {
    "duration": 6,
    "start_time": "2022-05-21T05:41:33.417Z"
   },
   {
    "duration": 5,
    "start_time": "2022-05-21T05:41:33.614Z"
   },
   {
    "duration": 4,
    "start_time": "2022-05-21T05:41:34.052Z"
   },
   {
    "duration": 5,
    "start_time": "2022-05-21T05:41:34.240Z"
   },
   {
    "duration": 3,
    "start_time": "2022-05-21T05:41:34.818Z"
   },
   {
    "duration": 6,
    "start_time": "2022-05-21T05:41:35.033Z"
   },
   {
    "duration": 5,
    "start_time": "2022-05-21T05:41:35.668Z"
   },
   {
    "duration": 6,
    "start_time": "2022-05-21T05:41:35.888Z"
   },
   {
    "duration": 6,
    "start_time": "2022-05-21T05:41:36.298Z"
   },
   {
    "duration": 3,
    "start_time": "2022-05-21T05:41:36.754Z"
   },
   {
    "duration": 5,
    "start_time": "2022-05-21T05:41:36.978Z"
   },
   {
    "duration": 4,
    "start_time": "2022-05-21T05:41:37.452Z"
   },
   {
    "duration": 15,
    "start_time": "2022-05-21T05:41:37.708Z"
   },
   {
    "duration": 9,
    "start_time": "2022-05-21T05:41:38.964Z"
   },
   {
    "duration": 17,
    "start_time": "2022-05-21T05:41:39.418Z"
   },
   {
    "duration": 8,
    "start_time": "2022-05-21T05:41:40.698Z"
   },
   {
    "duration": 27,
    "start_time": "2022-05-21T05:41:40.958Z"
   },
   {
    "duration": 15,
    "start_time": "2022-05-21T05:41:41.628Z"
   },
   {
    "duration": 4,
    "start_time": "2022-05-21T05:41:42.152Z"
   },
   {
    "duration": 18,
    "start_time": "2022-05-21T05:41:43.053Z"
   },
   {
    "duration": 18,
    "start_time": "2022-05-21T05:41:57.281Z"
   },
   {
    "duration": 3,
    "start_time": "2022-05-21T05:44:29.184Z"
   },
   {
    "duration": 237,
    "start_time": "2022-05-21T05:44:30.274Z"
   },
   {
    "duration": 26,
    "start_time": "2022-05-21T05:44:46.595Z"
   },
   {
    "duration": 7,
    "start_time": "2022-05-21T05:45:40.458Z"
   },
   {
    "duration": 474,
    "start_time": "2022-05-21T13:49:00.824Z"
   },
   {
    "duration": 436,
    "start_time": "2022-05-21T13:49:01.835Z"
   },
   {
    "duration": 61,
    "start_time": "2022-05-21T13:49:02.275Z"
   },
   {
    "duration": 35,
    "start_time": "2022-05-21T13:49:02.338Z"
   },
   {
    "duration": 33,
    "start_time": "2022-05-21T13:49:02.594Z"
   },
   {
    "duration": 6,
    "start_time": "2022-05-21T13:49:03.182Z"
   },
   {
    "duration": 9,
    "start_time": "2022-05-21T13:49:03.681Z"
   },
   {
    "duration": 6,
    "start_time": "2022-05-21T13:49:03.820Z"
   },
   {
    "duration": 5,
    "start_time": "2022-05-21T13:49:03.976Z"
   },
   {
    "duration": 9,
    "start_time": "2022-05-21T13:49:04.473Z"
   },
   {
    "duration": 9,
    "start_time": "2022-05-21T13:49:05.280Z"
   },
   {
    "duration": 6,
    "start_time": "2022-05-21T13:49:05.429Z"
   },
   {
    "duration": 5,
    "start_time": "2022-05-21T13:49:05.579Z"
   },
   {
    "duration": 6,
    "start_time": "2022-05-21T13:49:05.984Z"
   },
   {
    "duration": 8,
    "start_time": "2022-05-21T13:49:06.414Z"
   },
   {
    "duration": 6,
    "start_time": "2022-05-21T13:49:06.601Z"
   },
   {
    "duration": 4,
    "start_time": "2022-05-21T13:49:06.895Z"
   },
   {
    "duration": 6,
    "start_time": "2022-05-21T13:49:07.005Z"
   },
   {
    "duration": 7,
    "start_time": "2022-05-21T13:49:07.280Z"
   },
   {
    "duration": 7,
    "start_time": "2022-05-21T13:49:07.457Z"
   },
   {
    "duration": 8,
    "start_time": "2022-05-21T13:49:07.918Z"
   },
   {
    "duration": 8,
    "start_time": "2022-05-21T13:49:08.099Z"
   },
   {
    "duration": 6,
    "start_time": "2022-05-21T13:49:08.824Z"
   },
   {
    "duration": 4,
    "start_time": "2022-05-21T13:49:09.115Z"
   },
   {
    "duration": 5,
    "start_time": "2022-05-21T13:49:09.286Z"
   },
   {
    "duration": 4,
    "start_time": "2022-05-21T13:49:09.634Z"
   },
   {
    "duration": 20,
    "start_time": "2022-05-21T13:49:09.882Z"
   },
   {
    "duration": 11,
    "start_time": "2022-05-21T13:49:10.674Z"
   },
   {
    "duration": 15,
    "start_time": "2022-05-21T13:49:10.897Z"
   },
   {
    "duration": 7,
    "start_time": "2022-05-21T13:49:11.418Z"
   },
   {
    "duration": 28,
    "start_time": "2022-05-21T13:49:11.597Z"
   },
   {
    "duration": 14,
    "start_time": "2022-05-21T13:49:11.774Z"
   },
   {
    "duration": 3,
    "start_time": "2022-05-21T13:49:11.973Z"
   },
   {
    "duration": 277,
    "start_time": "2022-05-21T13:49:12.098Z"
   },
   {
    "duration": 35,
    "start_time": "2022-05-21T13:49:12.385Z"
   },
   {
    "duration": 9,
    "start_time": "2022-05-21T13:49:12.616Z"
   },
   {
    "duration": 6,
    "start_time": "2022-05-21T13:49:16.015Z"
   },
   {
    "duration": 34,
    "start_time": "2022-05-21T13:49:27.676Z"
   },
   {
    "duration": 5,
    "start_time": "2022-05-21T13:52:34.683Z"
   },
   {
    "duration": 27,
    "start_time": "2022-05-21T13:52:35.595Z"
   },
   {
    "duration": 145,
    "start_time": "2022-05-21T13:58:46.033Z"
   },
   {
    "duration": 222,
    "start_time": "2022-05-21T13:58:58.263Z"
   },
   {
    "duration": 137,
    "start_time": "2022-05-21T13:59:05.634Z"
   },
   {
    "duration": 740,
    "start_time": "2022-05-21T13:59:22.203Z"
   },
   {
    "duration": 184,
    "start_time": "2022-05-21T13:59:32.473Z"
   },
   {
    "duration": 127,
    "start_time": "2022-05-21T13:59:39.203Z"
   },
   {
    "duration": 123,
    "start_time": "2022-05-21T13:59:44.059Z"
   },
   {
    "duration": 129,
    "start_time": "2022-05-21T13:59:48.875Z"
   },
   {
    "duration": 179,
    "start_time": "2022-05-21T14:00:09.229Z"
   },
   {
    "duration": 246,
    "start_time": "2022-05-21T14:03:31.728Z"
   },
   {
    "duration": 168,
    "start_time": "2022-05-21T14:03:43.113Z"
   },
   {
    "duration": 169,
    "start_time": "2022-05-21T14:03:49.233Z"
   },
   {
    "duration": 225,
    "start_time": "2022-05-21T14:04:06.013Z"
   },
   {
    "duration": 213,
    "start_time": "2022-05-21T14:04:20.524Z"
   },
   {
    "duration": 280,
    "start_time": "2022-05-21T14:04:29.276Z"
   },
   {
    "duration": 182,
    "start_time": "2022-05-21T14:04:39.702Z"
   },
   {
    "duration": 188,
    "start_time": "2022-05-21T14:04:46.783Z"
   },
   {
    "duration": 221,
    "start_time": "2022-05-21T14:04:55.386Z"
   },
   {
    "duration": 212,
    "start_time": "2022-05-21T14:04:56.892Z"
   },
   {
    "duration": 226,
    "start_time": "2022-05-21T14:05:07.109Z"
   },
   {
    "duration": 3078,
    "start_time": "2022-05-21T14:09:10.480Z"
   },
   {
    "duration": 171,
    "start_time": "2022-05-21T14:09:51.962Z"
   },
   {
    "duration": 156,
    "start_time": "2022-05-21T14:20:45.568Z"
   },
   {
    "duration": 184,
    "start_time": "2022-05-21T14:20:57.220Z"
   },
   {
    "duration": 289,
    "start_time": "2022-05-21T14:21:02.727Z"
   },
   {
    "duration": 390,
    "start_time": "2022-05-21T14:21:28.768Z"
   },
   {
    "duration": 265,
    "start_time": "2022-05-21T14:21:34.085Z"
   },
   {
    "duration": 278,
    "start_time": "2022-05-21T14:22:15.382Z"
   },
   {
    "duration": 314,
    "start_time": "2022-05-21T14:22:21.900Z"
   },
   {
    "duration": 184,
    "start_time": "2022-05-21T14:22:29.225Z"
   },
   {
    "duration": 211,
    "start_time": "2022-05-21T14:22:40.186Z"
   },
   {
    "duration": 213,
    "start_time": "2022-05-21T14:22:48.990Z"
   },
   {
    "duration": 229,
    "start_time": "2022-05-21T14:22:57.535Z"
   },
   {
    "duration": 183,
    "start_time": "2022-05-21T14:23:40.235Z"
   },
   {
    "duration": 290,
    "start_time": "2022-05-21T14:23:58.678Z"
   },
   {
    "duration": 179,
    "start_time": "2022-05-21T14:24:03.309Z"
   },
   {
    "duration": 229,
    "start_time": "2022-05-21T14:24:07.815Z"
   },
   {
    "duration": 212,
    "start_time": "2022-05-21T14:24:13.271Z"
   },
   {
    "duration": 183,
    "start_time": "2022-05-21T14:24:17.569Z"
   },
   {
    "duration": 185,
    "start_time": "2022-05-21T14:24:23.682Z"
   },
   {
    "duration": 172,
    "start_time": "2022-05-21T14:24:32.525Z"
   },
   {
    "duration": 129,
    "start_time": "2022-05-21T14:25:11.288Z"
   },
   {
    "duration": 163,
    "start_time": "2022-05-21T14:25:23.335Z"
   },
   {
    "duration": 211,
    "start_time": "2022-05-21T14:25:33.482Z"
   },
   {
    "duration": 167,
    "start_time": "2022-05-21T14:25:40.472Z"
   },
   {
    "duration": 149,
    "start_time": "2022-05-21T14:25:43.684Z"
   },
   {
    "duration": 197,
    "start_time": "2022-05-21T14:27:27.230Z"
   },
   {
    "duration": 143,
    "start_time": "2022-05-21T14:27:37.778Z"
   },
   {
    "duration": 142,
    "start_time": "2022-05-21T14:28:30.070Z"
   },
   {
    "duration": 180,
    "start_time": "2022-05-21T14:28:32.915Z"
   },
   {
    "duration": 144,
    "start_time": "2022-05-21T14:28:39.295Z"
   },
   {
    "duration": 190,
    "start_time": "2022-05-21T14:28:43.040Z"
   },
   {
    "duration": 188,
    "start_time": "2022-05-21T14:28:47.100Z"
   },
   {
    "duration": 153,
    "start_time": "2022-05-21T14:28:52.484Z"
   },
   {
    "duration": 211,
    "start_time": "2022-05-21T14:28:56.972Z"
   },
   {
    "duration": 173,
    "start_time": "2022-05-21T14:29:01.866Z"
   },
   {
    "duration": 253,
    "start_time": "2022-05-22T08:37:05.457Z"
   },
   {
    "duration": 141,
    "start_time": "2022-05-22T08:37:12.786Z"
   },
   {
    "duration": 406,
    "start_time": "2022-05-22T08:37:17.899Z"
   },
   {
    "duration": 4,
    "start_time": "2022-05-22T08:41:00.014Z"
   },
   {
    "duration": 29,
    "start_time": "2022-05-22T13:38:24.346Z"
   },
   {
    "duration": 272,
    "start_time": "2022-05-22T13:38:26.232Z"
   },
   {
    "duration": 243,
    "start_time": "2022-05-22T13:38:26.715Z"
   },
   {
    "duration": 149,
    "start_time": "2022-05-22T13:38:27.359Z"
   },
   {
    "duration": 247,
    "start_time": "2022-05-22T13:38:27.884Z"
   },
   {
    "duration": 180,
    "start_time": "2022-05-22T13:38:55.552Z"
   },
   {
    "duration": 5,
    "start_time": "2022-05-22T13:40:23.970Z"
   },
   {
    "duration": 6,
    "start_time": "2022-05-22T13:40:47.434Z"
   },
   {
    "duration": 9,
    "start_time": "2022-05-22T13:51:48.279Z"
   },
   {
    "duration": 3,
    "start_time": "2022-05-22T14:01:42.657Z"
   },
   {
    "duration": 95,
    "start_time": "2022-05-22T14:01:43.388Z"
   },
   {
    "duration": 41,
    "start_time": "2022-05-22T14:01:43.573Z"
   },
   {
    "duration": 16,
    "start_time": "2022-05-22T14:01:43.788Z"
   },
   {
    "duration": 33,
    "start_time": "2022-05-22T14:01:44.652Z"
   },
   {
    "duration": 5,
    "start_time": "2022-05-22T14:01:45.669Z"
   },
   {
    "duration": 8,
    "start_time": "2022-05-22T14:01:45.865Z"
   },
   {
    "duration": 6,
    "start_time": "2022-05-22T14:01:46.073Z"
   },
   {
    "duration": 6,
    "start_time": "2022-05-22T14:01:46.303Z"
   },
   {
    "duration": 8,
    "start_time": "2022-05-22T14:01:46.738Z"
   },
   {
    "duration": 7,
    "start_time": "2022-05-22T14:01:47.413Z"
   },
   {
    "duration": 9,
    "start_time": "2022-05-22T14:01:47.657Z"
   },
   {
    "duration": 6,
    "start_time": "2022-05-22T14:01:47.859Z"
   },
   {
    "duration": 6,
    "start_time": "2022-05-22T14:01:48.118Z"
   },
   {
    "duration": 5,
    "start_time": "2022-05-22T14:01:48.488Z"
   },
   {
    "duration": 5,
    "start_time": "2022-05-22T14:01:48.683Z"
   },
   {
    "duration": 4,
    "start_time": "2022-05-22T14:01:49.178Z"
   },
   {
    "duration": 6,
    "start_time": "2022-05-22T14:01:49.499Z"
   },
   {
    "duration": 6,
    "start_time": "2022-05-22T14:01:49.857Z"
   },
   {
    "duration": 5,
    "start_time": "2022-05-22T14:01:50.083Z"
   },
   {
    "duration": 8,
    "start_time": "2022-05-22T14:01:50.693Z"
   },
   {
    "duration": 9,
    "start_time": "2022-05-22T14:01:51.103Z"
   },
   {
    "duration": 6,
    "start_time": "2022-05-22T14:01:51.476Z"
   },
   {
    "duration": 4,
    "start_time": "2022-05-22T14:01:51.928Z"
   },
   {
    "duration": 4,
    "start_time": "2022-05-22T14:01:52.103Z"
   },
   {
    "duration": 22,
    "start_time": "2022-05-22T14:01:52.455Z"
   },
   {
    "duration": 59,
    "start_time": "2022-05-22T14:01:53.008Z"
   },
   {
    "duration": 13,
    "start_time": "2022-05-22T14:01:53.213Z"
   },
   {
    "duration": 12,
    "start_time": "2022-05-22T14:01:53.959Z"
   },
   {
    "duration": 33,
    "start_time": "2022-05-22T14:01:54.303Z"
   },
   {
    "duration": 19,
    "start_time": "2022-05-22T14:01:54.433Z"
   },
   {
    "duration": 7,
    "start_time": "2022-05-22T14:01:54.773Z"
   },
   {
    "duration": 297,
    "start_time": "2022-05-22T14:01:54.962Z"
   },
   {
    "duration": 9,
    "start_time": "2022-05-22T14:01:55.261Z"
   },
   {
    "duration": 12,
    "start_time": "2022-05-22T14:01:55.272Z"
   },
   {
    "duration": 44,
    "start_time": "2022-05-22T14:01:55.338Z"
   },
   {
    "duration": 359,
    "start_time": "2022-05-22T14:01:55.804Z"
   },
   {
    "duration": 153,
    "start_time": "2022-05-22T14:01:56.166Z"
   },
   {
    "duration": 202,
    "start_time": "2022-05-22T14:01:56.321Z"
   },
   {
    "duration": 375,
    "start_time": "2022-05-22T14:01:56.525Z"
   },
   {
    "duration": 347,
    "start_time": "2022-05-22T14:01:57.034Z"
   },
   {
    "duration": 13,
    "start_time": "2022-05-22T14:01:57.383Z"
   },
   {
    "duration": 43,
    "start_time": "2022-05-22T14:01:57.768Z"
   },
   {
    "duration": 162,
    "start_time": "2022-05-22T14:49:36.439Z"
   },
   {
    "duration": 157,
    "start_time": "2022-05-22T14:49:52.071Z"
   },
   {
    "duration": 150,
    "start_time": "2022-05-22T14:49:54.930Z"
   },
   {
    "duration": 3,
    "start_time": "2022-05-23T07:38:41.004Z"
   },
   {
    "duration": 86,
    "start_time": "2022-05-23T07:38:42.808Z"
   },
   {
    "duration": 108,
    "start_time": "2022-05-23T07:38:43.473Z"
   },
   {
    "duration": 16,
    "start_time": "2022-05-23T07:38:43.659Z"
   },
   {
    "duration": 31,
    "start_time": "2022-05-23T07:38:44.373Z"
   },
   {
    "duration": 4,
    "start_time": "2022-05-23T07:38:45.071Z"
   },
   {
    "duration": 7,
    "start_time": "2022-05-23T07:38:45.204Z"
   },
   {
    "duration": 5,
    "start_time": "2022-05-23T07:38:45.384Z"
   },
   {
    "duration": 5,
    "start_time": "2022-05-23T07:38:45.518Z"
   },
   {
    "duration": 7,
    "start_time": "2022-05-23T07:38:45.793Z"
   },
   {
    "duration": 7,
    "start_time": "2022-05-23T07:38:46.234Z"
   },
   {
    "duration": 6,
    "start_time": "2022-05-23T07:38:46.355Z"
   },
   {
    "duration": 5,
    "start_time": "2022-05-23T07:38:46.759Z"
   },
   {
    "duration": 5,
    "start_time": "2022-05-23T07:38:46.911Z"
   },
   {
    "duration": 6,
    "start_time": "2022-05-23T07:38:47.210Z"
   },
   {
    "duration": 5,
    "start_time": "2022-05-23T07:38:47.370Z"
   },
   {
    "duration": 4,
    "start_time": "2022-05-23T07:38:47.649Z"
   },
   {
    "duration": 6,
    "start_time": "2022-05-23T07:38:47.808Z"
   },
   {
    "duration": 4,
    "start_time": "2022-05-23T07:38:48.074Z"
   },
   {
    "duration": 5,
    "start_time": "2022-05-23T07:38:48.239Z"
   },
   {
    "duration": 6,
    "start_time": "2022-05-23T07:38:48.720Z"
   },
   {
    "duration": 6,
    "start_time": "2022-05-23T07:38:48.870Z"
   },
   {
    "duration": 7,
    "start_time": "2022-05-23T07:38:49.223Z"
   },
   {
    "duration": 3,
    "start_time": "2022-05-23T07:38:49.559Z"
   },
   {
    "duration": 5,
    "start_time": "2022-05-23T07:38:49.744Z"
   },
   {
    "duration": 16,
    "start_time": "2022-05-23T07:38:50.064Z"
   },
   {
    "duration": 27,
    "start_time": "2022-05-23T07:38:50.468Z"
   },
   {
    "duration": 14,
    "start_time": "2022-05-23T07:38:50.589Z"
   },
   {
    "duration": 8,
    "start_time": "2022-05-23T07:38:51.119Z"
   },
   {
    "duration": 28,
    "start_time": "2022-05-23T07:38:51.233Z"
   },
   {
    "duration": 14,
    "start_time": "2022-05-23T07:38:51.414Z"
   },
   {
    "duration": 3,
    "start_time": "2022-05-23T07:38:51.574Z"
   },
   {
    "duration": 273,
    "start_time": "2022-05-23T07:38:51.739Z"
   },
   {
    "duration": 10,
    "start_time": "2022-05-23T07:38:52.014Z"
   },
   {
    "duration": 6,
    "start_time": "2022-05-23T07:38:52.048Z"
   },
   {
    "duration": 27,
    "start_time": "2022-05-23T07:38:52.213Z"
   },
   {
    "duration": 259,
    "start_time": "2022-05-23T07:38:52.774Z"
   },
   {
    "duration": 150,
    "start_time": "2022-05-23T07:38:53.035Z"
   },
   {
    "duration": 164,
    "start_time": "2022-05-23T07:38:53.187Z"
   },
   {
    "duration": 243,
    "start_time": "2022-05-23T07:38:53.353Z"
   },
   {
    "duration": 147,
    "start_time": "2022-05-23T07:38:53.603Z"
   },
   {
    "duration": 145,
    "start_time": "2022-05-23T07:38:53.798Z"
   },
   {
    "duration": 10,
    "start_time": "2022-05-23T07:38:53.989Z"
   },
   {
    "duration": 92,
    "start_time": "2022-05-23T07:38:55.223Z"
   },
   {
    "duration": 224,
    "start_time": "2022-05-23T12:21:01.325Z"
   },
   {
    "duration": 218,
    "start_time": "2022-05-23T12:21:11.053Z"
   },
   {
    "duration": 205,
    "start_time": "2022-05-23T12:21:20.097Z"
   },
   {
    "duration": 5,
    "start_time": "2022-05-23T12:23:18.455Z"
   },
   {
    "duration": 122,
    "start_time": "2022-05-23T12:24:00.584Z"
   },
   {
    "duration": 188,
    "start_time": "2022-05-23T12:24:15.747Z"
   },
   {
    "duration": 124,
    "start_time": "2022-05-23T12:24:26.288Z"
   },
   {
    "duration": 117,
    "start_time": "2022-05-23T12:24:47.744Z"
   },
   {
    "duration": 136,
    "start_time": "2022-05-23T12:25:11.324Z"
   },
   {
    "duration": 131,
    "start_time": "2022-05-23T12:25:16.829Z"
   },
   {
    "duration": 125,
    "start_time": "2022-05-23T12:25:27.813Z"
   },
   {
    "duration": 124,
    "start_time": "2022-05-23T12:25:54.282Z"
   },
   {
    "duration": 114,
    "start_time": "2022-05-23T12:26:05.832Z"
   },
   {
    "duration": 121,
    "start_time": "2022-05-23T12:26:12.364Z"
   },
   {
    "duration": 129,
    "start_time": "2022-05-23T12:26:24.242Z"
   },
   {
    "duration": 133,
    "start_time": "2022-05-23T12:26:35.756Z"
   },
   {
    "duration": 128,
    "start_time": "2022-05-23T12:27:17.993Z"
   },
   {
    "duration": 154,
    "start_time": "2022-05-23T12:27:46.653Z"
   },
   {
    "duration": 132,
    "start_time": "2022-05-23T12:27:54.954Z"
   },
   {
    "duration": 331,
    "start_time": "2022-05-23T12:28:03.612Z"
   },
   {
    "duration": 178,
    "start_time": "2022-05-23T12:35:32.047Z"
   },
   {
    "duration": 167,
    "start_time": "2022-05-23T12:35:45.514Z"
   },
   {
    "duration": 35,
    "start_time": "2022-05-23T12:39:08.924Z"
   },
   {
    "duration": 174,
    "start_time": "2022-05-23T12:50:57.704Z"
   },
   {
    "duration": 156,
    "start_time": "2022-05-23T12:51:26.863Z"
   },
   {
    "duration": 183,
    "start_time": "2022-05-23T12:52:21.891Z"
   },
   {
    "duration": 5,
    "start_time": "2022-05-23T12:54:31.079Z"
   },
   {
    "duration": 4,
    "start_time": "2022-05-23T12:54:46.922Z"
   },
   {
    "duration": 833,
    "start_time": "2022-05-24T08:04:16.681Z"
   },
   {
    "duration": 667,
    "start_time": "2022-05-24T08:04:17.923Z"
   },
   {
    "duration": 47,
    "start_time": "2022-05-24T08:04:18.592Z"
   },
   {
    "duration": 15,
    "start_time": "2022-05-24T08:04:18.640Z"
   },
   {
    "duration": 22,
    "start_time": "2022-05-24T08:04:18.657Z"
   },
   {
    "duration": 4,
    "start_time": "2022-05-24T08:04:19.364Z"
   },
   {
    "duration": 7,
    "start_time": "2022-05-24T08:04:19.476Z"
   },
   {
    "duration": 5,
    "start_time": "2022-05-24T08:04:19.595Z"
   },
   {
    "duration": 5,
    "start_time": "2022-05-24T08:04:19.780Z"
   },
   {
    "duration": 6,
    "start_time": "2022-05-24T08:04:20.044Z"
   },
   {
    "duration": 6,
    "start_time": "2022-05-24T08:04:20.506Z"
   },
   {
    "duration": 5,
    "start_time": "2022-05-24T08:04:20.627Z"
   },
   {
    "duration": 5,
    "start_time": "2022-05-24T08:04:20.747Z"
   },
   {
    "duration": 5,
    "start_time": "2022-05-24T08:04:20.867Z"
   },
   {
    "duration": 5,
    "start_time": "2022-05-24T08:04:21.132Z"
   },
   {
    "duration": 4,
    "start_time": "2022-05-24T08:04:21.275Z"
   },
   {
    "duration": 3,
    "start_time": "2022-05-24T08:04:21.563Z"
   },
   {
    "duration": 5,
    "start_time": "2022-05-24T08:04:21.691Z"
   },
   {
    "duration": 3,
    "start_time": "2022-05-24T08:04:21.970Z"
   },
   {
    "duration": 5,
    "start_time": "2022-05-24T08:04:22.116Z"
   },
   {
    "duration": 6,
    "start_time": "2022-05-24T08:04:22.506Z"
   },
   {
    "duration": 8,
    "start_time": "2022-05-24T08:04:22.635Z"
   },
   {
    "duration": 5,
    "start_time": "2022-05-24T08:04:22.874Z"
   },
   {
    "duration": 3,
    "start_time": "2022-05-24T08:04:23.218Z"
   },
   {
    "duration": 5,
    "start_time": "2022-05-24T08:04:23.586Z"
   },
   {
    "duration": 13,
    "start_time": "2022-05-24T08:04:23.851Z"
   },
   {
    "duration": 80,
    "start_time": "2022-05-24T08:04:24.252Z"
   },
   {
    "duration": 13,
    "start_time": "2022-05-24T08:04:24.407Z"
   },
   {
    "duration": 7,
    "start_time": "2022-05-24T08:04:24.964Z"
   },
   {
    "duration": 32,
    "start_time": "2022-05-24T08:04:25.132Z"
   },
   {
    "duration": 14,
    "start_time": "2022-05-24T08:04:25.307Z"
   },
   {
    "duration": 3,
    "start_time": "2022-05-24T08:04:25.651Z"
   },
   {
    "duration": 241,
    "start_time": "2022-05-24T08:04:25.819Z"
   },
   {
    "duration": 6,
    "start_time": "2022-05-24T08:04:26.062Z"
   },
   {
    "duration": 5,
    "start_time": "2022-05-24T08:04:26.170Z"
   },
   {
    "duration": 26,
    "start_time": "2022-05-24T08:04:26.387Z"
   },
   {
    "duration": 635,
    "start_time": "2022-05-24T08:04:27.347Z"
   },
   {
    "duration": 253,
    "start_time": "2022-05-24T08:04:27.984Z"
   },
   {
    "duration": 243,
    "start_time": "2022-05-24T08:04:28.239Z"
   },
   {
    "duration": 152,
    "start_time": "2022-05-24T08:04:28.484Z"
   },
   {
    "duration": 180,
    "start_time": "2022-05-24T08:04:28.637Z"
   },
   {
    "duration": 215,
    "start_time": "2022-05-24T08:04:28.819Z"
   },
   {
    "duration": 159,
    "start_time": "2022-05-24T08:04:29.036Z"
   },
   {
    "duration": 10,
    "start_time": "2022-05-24T08:04:29.198Z"
   },
   {
    "duration": 38,
    "start_time": "2022-05-24T08:04:31.354Z"
   },
   {
    "duration": 183,
    "start_time": "2022-05-24T08:04:37.739Z"
   },
   {
    "duration": 5,
    "start_time": "2022-05-24T08:04:38.500Z"
   },
   {
    "duration": 176,
    "start_time": "2022-05-24T08:04:39.747Z"
   },
   {
    "duration": 153,
    "start_time": "2022-05-24T08:05:06.252Z"
   },
   {
    "duration": 282,
    "start_time": "2022-05-24T08:05:45.939Z"
   },
   {
    "duration": 3,
    "start_time": "2022-05-24T08:13:10.182Z"
   },
   {
    "duration": 90,
    "start_time": "2022-05-24T08:13:11.113Z"
   },
   {
    "duration": 40,
    "start_time": "2022-05-24T08:13:11.703Z"
   },
   {
    "duration": 14,
    "start_time": "2022-05-24T08:13:11.873Z"
   },
   {
    "duration": 25,
    "start_time": "2022-05-24T08:13:12.448Z"
   },
   {
    "duration": 6,
    "start_time": "2022-05-24T08:13:13.094Z"
   },
   {
    "duration": 7,
    "start_time": "2022-05-24T08:13:13.475Z"
   },
   {
    "duration": 5,
    "start_time": "2022-05-24T08:13:13.639Z"
   },
   {
    "duration": 5,
    "start_time": "2022-05-24T08:13:13.808Z"
   },
   {
    "duration": 8,
    "start_time": "2022-05-24T08:13:14.128Z"
   },
   {
    "duration": 7,
    "start_time": "2022-05-24T08:13:14.569Z"
   },
   {
    "duration": 5,
    "start_time": "2022-05-24T08:13:14.823Z"
   },
   {
    "duration": 5,
    "start_time": "2022-05-24T08:13:14.968Z"
   },
   {
    "duration": 5,
    "start_time": "2022-05-24T08:13:15.087Z"
   },
   {
    "duration": 5,
    "start_time": "2022-05-24T08:13:15.328Z"
   },
   {
    "duration": 10,
    "start_time": "2022-05-24T08:13:15.456Z"
   },
   {
    "duration": 4,
    "start_time": "2022-05-24T08:13:15.808Z"
   },
   {
    "duration": 6,
    "start_time": "2022-05-24T08:13:15.944Z"
   },
   {
    "duration": 5,
    "start_time": "2022-05-24T08:13:16.190Z"
   },
   {
    "duration": 6,
    "start_time": "2022-05-24T08:13:16.314Z"
   },
   {
    "duration": 8,
    "start_time": "2022-05-24T08:13:16.726Z"
   },
   {
    "duration": 11,
    "start_time": "2022-05-24T08:13:17.049Z"
   },
   {
    "duration": 7,
    "start_time": "2022-05-24T08:13:17.312Z"
   },
   {
    "duration": 5,
    "start_time": "2022-05-24T08:13:17.564Z"
   },
   {
    "duration": 5,
    "start_time": "2022-05-24T08:13:17.695Z"
   },
   {
    "duration": 15,
    "start_time": "2022-05-24T08:13:17.926Z"
   },
   {
    "duration": 16,
    "start_time": "2022-05-24T08:13:18.278Z"
   },
   {
    "duration": 13,
    "start_time": "2022-05-24T08:13:18.535Z"
   },
   {
    "duration": 7,
    "start_time": "2022-05-24T08:13:19.022Z"
   },
   {
    "duration": 29,
    "start_time": "2022-05-24T08:13:19.188Z"
   },
   {
    "duration": 13,
    "start_time": "2022-05-24T08:13:19.326Z"
   },
   {
    "duration": 8,
    "start_time": "2022-05-24T08:13:19.470Z"
   },
   {
    "duration": 267,
    "start_time": "2022-05-24T08:13:19.606Z"
   },
   {
    "duration": 7,
    "start_time": "2022-05-24T08:13:19.875Z"
   },
   {
    "duration": 7,
    "start_time": "2022-05-24T08:13:19.908Z"
   },
   {
    "duration": 29,
    "start_time": "2022-05-24T08:13:20.040Z"
   },
   {
    "duration": 251,
    "start_time": "2022-05-24T08:13:21.031Z"
   },
   {
    "duration": 239,
    "start_time": "2022-05-24T08:13:21.496Z"
   },
   {
    "duration": 272,
    "start_time": "2022-05-24T08:13:21.738Z"
   },
   {
    "duration": 184,
    "start_time": "2022-05-24T08:13:22.012Z"
   },
   {
    "duration": 231,
    "start_time": "2022-05-24T08:13:22.198Z"
   },
   {
    "duration": 187,
    "start_time": "2022-05-24T08:13:22.431Z"
   },
   {
    "duration": 171,
    "start_time": "2022-05-24T08:13:22.621Z"
   },
   {
    "duration": 10,
    "start_time": "2022-05-24T08:13:22.794Z"
   },
   {
    "duration": 31,
    "start_time": "2022-05-24T08:13:24.103Z"
   },
   {
    "duration": 203,
    "start_time": "2022-05-24T08:13:24.607Z"
   },
   {
    "duration": 5,
    "start_time": "2022-05-24T08:13:24.815Z"
   },
   {
    "duration": 196,
    "start_time": "2022-05-24T08:13:24.991Z"
   },
   {
    "duration": 5,
    "start_time": "2022-05-24T08:13:25.615Z"
   },
   {
    "duration": 130,
    "start_time": "2022-05-24T08:14:31.998Z"
   },
   {
    "duration": 449,
    "start_time": "2022-05-24T08:14:46.736Z"
   },
   {
    "duration": 185,
    "start_time": "2022-05-24T08:14:54.741Z"
   },
   {
    "duration": 289,
    "start_time": "2022-05-24T08:16:31.333Z"
   },
   {
    "duration": 226,
    "start_time": "2022-05-24T08:16:46.652Z"
   },
   {
    "duration": 283,
    "start_time": "2022-05-24T08:17:05.366Z"
   },
   {
    "duration": 217,
    "start_time": "2022-05-24T08:17:10.395Z"
   },
   {
    "duration": 260,
    "start_time": "2022-05-24T08:17:17.557Z"
   },
   {
    "duration": 222,
    "start_time": "2022-05-24T08:17:22.228Z"
   },
   {
    "duration": 218,
    "start_time": "2022-05-24T08:17:29.716Z"
   },
   {
    "duration": 235,
    "start_time": "2022-05-24T08:17:35.929Z"
   },
   {
    "duration": 181,
    "start_time": "2022-05-24T08:18:27.643Z"
   },
   {
    "duration": 213,
    "start_time": "2022-05-24T08:19:11.218Z"
   },
   {
    "duration": 188,
    "start_time": "2022-05-24T08:19:27.650Z"
   },
   {
    "duration": 196,
    "start_time": "2022-05-24T08:22:17.787Z"
   },
   {
    "duration": 5,
    "start_time": "2022-05-24T08:22:48.906Z"
   },
   {
    "duration": 146,
    "start_time": "2022-05-24T08:27:44.561Z"
   },
   {
    "duration": 112,
    "start_time": "2022-05-24T08:27:53.153Z"
   },
   {
    "duration": 373,
    "start_time": "2022-05-24T08:28:05.780Z"
   },
   {
    "duration": 16,
    "start_time": "2022-05-24T08:31:25.969Z"
   },
   {
    "duration": 20,
    "start_time": "2022-05-24T08:32:23.791Z"
   },
   {
    "duration": 15,
    "start_time": "2022-05-24T08:32:29.507Z"
   },
   {
    "duration": 16,
    "start_time": "2022-05-24T08:32:36.162Z"
   },
   {
    "duration": 19,
    "start_time": "2022-05-24T08:32:48.760Z"
   },
   {
    "duration": 17,
    "start_time": "2022-05-24T08:33:01.538Z"
   },
   {
    "duration": 297,
    "start_time": "2022-05-24T08:34:08.915Z"
   },
   {
    "duration": 16,
    "start_time": "2022-05-24T08:34:29.569Z"
   },
   {
    "duration": 20,
    "start_time": "2022-05-24T08:34:36.158Z"
   },
   {
    "duration": 185,
    "start_time": "2022-05-24T08:36:53.549Z"
   },
   {
    "duration": 172,
    "start_time": "2022-05-24T08:37:01.378Z"
   },
   {
    "duration": 6,
    "start_time": "2022-05-24T08:37:41.617Z"
   },
   {
    "duration": 178,
    "start_time": "2022-05-24T08:38:19.483Z"
   },
   {
    "duration": 7,
    "start_time": "2022-05-24T08:38:29.723Z"
   },
   {
    "duration": 171,
    "start_time": "2022-05-24T08:38:46.408Z"
   },
   {
    "duration": 7,
    "start_time": "2022-05-24T08:38:59.671Z"
   },
   {
    "duration": 2,
    "start_time": "2022-05-24T08:50:48.458Z"
   },
   {
    "duration": 88,
    "start_time": "2022-05-24T08:50:48.597Z"
   },
   {
    "duration": 37,
    "start_time": "2022-05-24T08:50:48.782Z"
   },
   {
    "duration": 14,
    "start_time": "2022-05-24T08:50:48.969Z"
   },
   {
    "duration": 22,
    "start_time": "2022-05-24T08:50:49.485Z"
   },
   {
    "duration": 5,
    "start_time": "2022-05-24T08:50:50.566Z"
   },
   {
    "duration": 6,
    "start_time": "2022-05-24T08:50:50.709Z"
   },
   {
    "duration": 5,
    "start_time": "2022-05-24T08:50:50.852Z"
   },
   {
    "duration": 6,
    "start_time": "2022-05-24T08:50:51.044Z"
   },
   {
    "duration": 6,
    "start_time": "2022-05-24T08:50:51.332Z"
   },
   {
    "duration": 7,
    "start_time": "2022-05-24T08:50:51.787Z"
   },
   {
    "duration": 6,
    "start_time": "2022-05-24T08:50:51.931Z"
   },
   {
    "duration": 6,
    "start_time": "2022-05-24T08:50:52.060Z"
   },
   {
    "duration": 7,
    "start_time": "2022-05-24T08:50:52.204Z"
   },
   {
    "duration": 8,
    "start_time": "2022-05-24T08:50:52.453Z"
   },
   {
    "duration": 10,
    "start_time": "2022-05-24T08:50:52.598Z"
   },
   {
    "duration": 4,
    "start_time": "2022-05-24T08:50:52.862Z"
   },
   {
    "duration": 6,
    "start_time": "2022-05-24T08:50:53.004Z"
   },
   {
    "duration": 4,
    "start_time": "2022-05-24T08:50:53.278Z"
   },
   {
    "duration": 6,
    "start_time": "2022-05-24T08:50:53.429Z"
   },
   {
    "duration": 6,
    "start_time": "2022-05-24T08:50:53.876Z"
   },
   {
    "duration": 6,
    "start_time": "2022-05-24T08:50:54.035Z"
   },
   {
    "duration": 6,
    "start_time": "2022-05-24T08:50:54.283Z"
   },
   {
    "duration": 4,
    "start_time": "2022-05-24T08:50:54.555Z"
   },
   {
    "duration": 4,
    "start_time": "2022-05-24T08:50:54.717Z"
   },
   {
    "duration": 15,
    "start_time": "2022-05-24T08:50:54.997Z"
   },
   {
    "duration": 17,
    "start_time": "2022-05-24T08:50:55.502Z"
   },
   {
    "duration": 13,
    "start_time": "2022-05-24T08:50:55.647Z"
   },
   {
    "duration": 9,
    "start_time": "2022-05-24T08:50:56.126Z"
   },
   {
    "duration": 36,
    "start_time": "2022-05-24T08:50:56.299Z"
   },
   {
    "duration": 14,
    "start_time": "2022-05-24T08:50:56.470Z"
   },
   {
    "duration": 4,
    "start_time": "2022-05-24T08:50:56.630Z"
   },
   {
    "duration": 251,
    "start_time": "2022-05-24T08:50:56.788Z"
   },
   {
    "duration": 12,
    "start_time": "2022-05-24T08:50:57.041Z"
   },
   {
    "duration": 6,
    "start_time": "2022-05-24T08:50:57.250Z"
   },
   {
    "duration": 26,
    "start_time": "2022-05-24T08:50:57.410Z"
   },
   {
    "duration": 253,
    "start_time": "2022-05-24T08:50:57.983Z"
   },
   {
    "duration": 240,
    "start_time": "2022-05-24T08:50:59.199Z"
   },
   {
    "duration": 1489,
    "start_time": "2022-05-24T08:50:59.440Z"
   },
   {
    "duration": 154,
    "start_time": "2022-05-24T08:51:00.930Z"
   },
   {
    "duration": 190,
    "start_time": "2022-05-24T08:51:01.086Z"
   },
   {
    "duration": 159,
    "start_time": "2022-05-24T08:51:01.279Z"
   },
   {
    "duration": 150,
    "start_time": "2022-05-24T08:51:01.440Z"
   },
   {
    "duration": 11,
    "start_time": "2022-05-24T08:51:01.915Z"
   },
   {
    "duration": 31,
    "start_time": "2022-05-24T08:51:03.566Z"
   },
   {
    "duration": 198,
    "start_time": "2022-05-24T08:51:03.968Z"
   },
   {
    "duration": 6,
    "start_time": "2022-05-24T08:51:04.168Z"
   },
   {
    "duration": 165,
    "start_time": "2022-05-24T08:51:04.388Z"
   },
   {
    "duration": 5,
    "start_time": "2022-05-24T08:51:05.039Z"
   },
   {
    "duration": 211,
    "start_time": "2022-05-24T08:51:05.352Z"
   },
   {
    "duration": 6,
    "start_time": "2022-05-24T08:51:05.565Z"
   },
   {
    "duration": 16,
    "start_time": "2022-05-24T08:51:05.665Z"
   },
   {
    "duration": 169,
    "start_time": "2022-05-24T08:51:05.843Z"
   },
   {
    "duration": 7,
    "start_time": "2022-05-24T08:51:06.015Z"
   },
   {
    "duration": 182,
    "start_time": "2022-05-24T08:51:06.118Z"
   },
   {
    "duration": 6,
    "start_time": "2022-05-24T08:51:06.302Z"
   },
   {
    "duration": 172,
    "start_time": "2022-05-24T08:51:06.418Z"
   },
   {
    "duration": 6,
    "start_time": "2022-05-24T08:51:06.592Z"
   },
   {
    "duration": 178,
    "start_time": "2022-05-24T08:56:50.603Z"
   },
   {
    "duration": 12,
    "start_time": "2022-05-24T09:00:35.456Z"
   },
   {
    "duration": 11,
    "start_time": "2022-05-24T09:01:11.977Z"
   },
   {
    "duration": 7,
    "start_time": "2022-05-24T09:02:40.233Z"
   },
   {
    "duration": 8,
    "start_time": "2022-05-24T09:02:45.879Z"
   },
   {
    "duration": 5,
    "start_time": "2022-05-24T09:05:01.644Z"
   },
   {
    "duration": 5,
    "start_time": "2022-05-24T09:05:10.060Z"
   },
   {
    "duration": 72,
    "start_time": "2022-05-24T09:07:09.783Z"
   },
   {
    "duration": 18,
    "start_time": "2022-05-24T09:07:17.461Z"
   },
   {
    "duration": 4,
    "start_time": "2022-05-24T14:58:18.890Z"
   },
   {
    "duration": 110,
    "start_time": "2022-05-24T14:58:19.529Z"
   },
   {
    "duration": 41,
    "start_time": "2022-05-24T14:58:20.264Z"
   },
   {
    "duration": 17,
    "start_time": "2022-05-24T14:58:20.447Z"
   },
   {
    "duration": 25,
    "start_time": "2022-05-24T14:58:22.344Z"
   },
   {
    "duration": 6,
    "start_time": "2022-05-24T14:58:23.209Z"
   },
   {
    "duration": 7,
    "start_time": "2022-05-24T14:58:23.345Z"
   },
   {
    "duration": 5,
    "start_time": "2022-05-24T14:58:23.490Z"
   },
   {
    "duration": 6,
    "start_time": "2022-05-24T14:58:23.622Z"
   },
   {
    "duration": 7,
    "start_time": "2022-05-24T14:58:23.945Z"
   },
   {
    "duration": 6,
    "start_time": "2022-05-24T14:58:24.301Z"
   },
   {
    "duration": 5,
    "start_time": "2022-05-24T14:58:24.488Z"
   },
   {
    "duration": 4,
    "start_time": "2022-05-24T14:58:24.528Z"
   },
   {
    "duration": 5,
    "start_time": "2022-05-24T14:58:24.700Z"
   },
   {
    "duration": 6,
    "start_time": "2022-05-24T14:58:24.969Z"
   },
   {
    "duration": 5,
    "start_time": "2022-05-24T14:58:25.176Z"
   },
   {
    "duration": 5,
    "start_time": "2022-05-24T14:58:25.328Z"
   },
   {
    "duration": 6,
    "start_time": "2022-05-24T14:58:25.443Z"
   },
   {
    "duration": 5,
    "start_time": "2022-05-24T14:58:25.700Z"
   },
   {
    "duration": 6,
    "start_time": "2022-05-24T14:58:25.928Z"
   },
   {
    "duration": 7,
    "start_time": "2022-05-24T14:58:26.378Z"
   },
   {
    "duration": 6,
    "start_time": "2022-05-24T14:58:26.419Z"
   },
   {
    "duration": 6,
    "start_time": "2022-05-24T14:58:26.660Z"
   },
   {
    "duration": 4,
    "start_time": "2022-05-24T14:58:26.978Z"
   },
   {
    "duration": 5,
    "start_time": "2022-05-24T14:58:27.100Z"
   },
   {
    "duration": 13,
    "start_time": "2022-05-24T14:58:27.409Z"
   },
   {
    "duration": 28,
    "start_time": "2022-05-24T14:58:27.944Z"
   },
   {
    "duration": 14,
    "start_time": "2022-05-24T14:58:28.177Z"
   },
   {
    "duration": 13,
    "start_time": "2022-05-24T14:58:28.672Z"
   },
   {
    "duration": 30,
    "start_time": "2022-05-24T14:58:28.771Z"
   },
   {
    "duration": 16,
    "start_time": "2022-05-24T14:58:28.901Z"
   },
   {
    "duration": 4,
    "start_time": "2022-05-24T14:58:29.093Z"
   },
   {
    "duration": 281,
    "start_time": "2022-05-24T14:58:29.186Z"
   },
   {
    "duration": 7,
    "start_time": "2022-05-24T14:58:29.469Z"
   },
   {
    "duration": 13,
    "start_time": "2022-05-24T14:58:29.478Z"
   },
   {
    "duration": 29,
    "start_time": "2022-05-24T14:58:29.570Z"
   },
   {
    "duration": 264,
    "start_time": "2022-05-24T14:58:29.988Z"
   },
   {
    "duration": 369,
    "start_time": "2022-05-24T14:58:30.254Z"
   },
   {
    "duration": 260,
    "start_time": "2022-05-24T14:58:30.625Z"
   },
   {
    "duration": 171,
    "start_time": "2022-05-24T14:58:30.887Z"
   },
   {
    "duration": 206,
    "start_time": "2022-05-24T14:58:31.060Z"
   },
   {
    "duration": 165,
    "start_time": "2022-05-24T14:58:31.269Z"
   },
   {
    "duration": 158,
    "start_time": "2022-05-24T14:58:31.436Z"
   },
   {
    "duration": 8,
    "start_time": "2022-05-24T14:58:31.596Z"
   },
   {
    "duration": 34,
    "start_time": "2022-05-24T14:58:32.848Z"
   },
   {
    "duration": 213,
    "start_time": "2022-05-24T14:58:33.328Z"
   },
   {
    "duration": 4,
    "start_time": "2022-05-24T14:58:33.543Z"
   },
   {
    "duration": 193,
    "start_time": "2022-05-24T14:58:33.689Z"
   },
   {
    "duration": 5,
    "start_time": "2022-05-24T14:58:33.884Z"
   },
   {
    "duration": 198,
    "start_time": "2022-05-24T14:58:34.177Z"
   },
   {
    "duration": 5,
    "start_time": "2022-05-24T14:58:34.378Z"
   },
   {
    "duration": 16,
    "start_time": "2022-05-24T14:58:34.776Z"
   },
   {
    "duration": 188,
    "start_time": "2022-05-24T14:58:35.009Z"
   },
   {
    "duration": 5,
    "start_time": "2022-05-24T14:58:35.199Z"
   },
   {
    "duration": 206,
    "start_time": "2022-05-24T14:58:35.464Z"
   },
   {
    "duration": 6,
    "start_time": "2022-05-24T14:58:35.776Z"
   },
   {
    "duration": 183,
    "start_time": "2022-05-24T14:58:36.173Z"
   },
   {
    "duration": 9,
    "start_time": "2022-05-24T14:58:36.358Z"
   },
   {
    "duration": 9,
    "start_time": "2022-05-24T14:58:36.897Z"
   },
   {
    "duration": 23,
    "start_time": "2022-05-24T15:00:28.329Z"
   },
   {
    "duration": 36,
    "start_time": "2022-05-24T15:01:06.422Z"
   },
   {
    "duration": 24,
    "start_time": "2022-05-24T15:01:40.624Z"
   },
   {
    "duration": 136,
    "start_time": "2022-05-24T15:01:51.558Z"
   },
   {
    "duration": 26,
    "start_time": "2022-05-24T15:02:24.953Z"
   },
   {
    "duration": 24,
    "start_time": "2022-05-24T15:04:39.978Z"
   },
   {
    "duration": 24,
    "start_time": "2022-05-24T15:05:20.355Z"
   },
   {
    "duration": 22,
    "start_time": "2022-05-24T15:05:31.655Z"
   },
   {
    "duration": 26,
    "start_time": "2022-05-24T15:05:43.896Z"
   },
   {
    "duration": 26,
    "start_time": "2022-05-24T15:05:50.553Z"
   },
   {
    "duration": 23,
    "start_time": "2022-05-24T15:08:48.373Z"
   },
   {
    "duration": 17,
    "start_time": "2022-05-24T15:10:31.736Z"
   },
   {
    "duration": 15,
    "start_time": "2022-05-24T15:10:50.554Z"
   },
   {
    "duration": 30,
    "start_time": "2022-05-24T15:11:02.061Z"
   },
   {
    "duration": 18,
    "start_time": "2022-05-24T15:11:13.259Z"
   },
   {
    "duration": 10,
    "start_time": "2022-05-24T15:12:03.289Z"
   },
   {
    "duration": 14,
    "start_time": "2022-05-24T15:16:34.381Z"
   },
   {
    "duration": 6,
    "start_time": "2022-05-24T15:16:35.390Z"
   },
   {
    "duration": 11,
    "start_time": "2022-05-24T15:16:51.095Z"
   },
   {
    "duration": 16,
    "start_time": "2022-05-24T15:16:51.661Z"
   },
   {
    "duration": 10,
    "start_time": "2022-05-24T15:17:26.608Z"
   },
   {
    "duration": 7,
    "start_time": "2022-05-24T15:17:26.895Z"
   },
   {
    "duration": 22,
    "start_time": "2022-05-24T15:19:29.689Z"
   },
   {
    "duration": 13,
    "start_time": "2022-05-24T15:19:38.061Z"
   },
   {
    "duration": 29,
    "start_time": "2022-05-24T15:20:04.179Z"
   },
   {
    "duration": 25,
    "start_time": "2022-05-24T15:20:20.929Z"
   },
   {
    "duration": 23,
    "start_time": "2022-05-24T15:24:10.177Z"
   },
   {
    "duration": 23,
    "start_time": "2022-05-24T15:24:18.328Z"
   },
   {
    "duration": 17,
    "start_time": "2022-05-24T15:24:49.980Z"
   },
   {
    "duration": 12,
    "start_time": "2022-05-24T15:25:11.496Z"
   },
   {
    "duration": 9,
    "start_time": "2022-05-24T15:25:34.157Z"
   },
   {
    "duration": 13,
    "start_time": "2022-05-24T15:25:55.554Z"
   },
   {
    "duration": 11,
    "start_time": "2022-05-24T15:26:01.265Z"
   },
   {
    "duration": 11,
    "start_time": "2022-05-24T15:26:34.889Z"
   },
   {
    "duration": 5,
    "start_time": "2022-05-24T15:26:56.423Z"
   },
   {
    "duration": 459,
    "start_time": "2022-05-24T15:27:03.463Z"
   },
   {
    "duration": 461,
    "start_time": "2022-05-24T15:27:13.975Z"
   },
   {
    "duration": 16,
    "start_time": "2022-05-24T15:27:19.898Z"
   },
   {
    "duration": 11,
    "start_time": "2022-05-24T15:27:22.081Z"
   },
   {
    "duration": 10,
    "start_time": "2022-05-24T15:30:25.808Z"
   },
   {
    "duration": 630,
    "start_time": "2022-05-24T15:31:46.855Z"
   },
   {
    "duration": 10,
    "start_time": "2022-05-24T15:32:16.949Z"
   },
   {
    "duration": 3,
    "start_time": "2022-05-24T15:35:17.877Z"
   },
   {
    "duration": 10,
    "start_time": "2022-05-24T15:39:04.927Z"
   },
   {
    "duration": 14,
    "start_time": "2022-05-24T15:39:11.525Z"
   },
   {
    "duration": 14,
    "start_time": "2022-05-24T15:39:27.579Z"
   },
   {
    "duration": 7,
    "start_time": "2022-05-24T15:39:51.347Z"
   },
   {
    "duration": 17,
    "start_time": "2022-05-24T15:40:40.058Z"
   },
   {
    "duration": 22,
    "start_time": "2022-05-24T15:41:42.743Z"
   },
   {
    "duration": 11,
    "start_time": "2022-05-24T15:42:00.386Z"
   },
   {
    "duration": 9,
    "start_time": "2022-05-24T15:45:05.689Z"
   },
   {
    "duration": 11,
    "start_time": "2022-05-24T15:48:50.649Z"
   },
   {
    "duration": 9,
    "start_time": "2022-05-24T15:49:04.949Z"
   },
   {
    "duration": 44,
    "start_time": "2022-05-24T17:21:30.950Z"
   },
   {
    "duration": 29,
    "start_time": "2022-05-24T17:21:38.628Z"
   },
   {
    "duration": 32,
    "start_time": "2022-05-24T17:21:50.651Z"
   },
   {
    "duration": 11,
    "start_time": "2022-05-24T17:22:28.801Z"
   },
   {
    "duration": 21,
    "start_time": "2022-05-24T17:36:14.731Z"
   },
   {
    "duration": 2,
    "start_time": "2022-05-24T17:36:27.651Z"
   },
   {
    "duration": 89,
    "start_time": "2022-05-24T17:36:28.190Z"
   },
   {
    "duration": 38,
    "start_time": "2022-05-24T17:36:28.313Z"
   },
   {
    "duration": 14,
    "start_time": "2022-05-24T17:36:28.479Z"
   },
   {
    "duration": 24,
    "start_time": "2022-05-24T17:36:29.898Z"
   },
   {
    "duration": 5,
    "start_time": "2022-05-24T17:36:31.059Z"
   },
   {
    "duration": 6,
    "start_time": "2022-05-24T17:36:31.198Z"
   },
   {
    "duration": 5,
    "start_time": "2022-05-24T17:36:31.297Z"
   },
   {
    "duration": 6,
    "start_time": "2022-05-24T17:36:31.409Z"
   },
   {
    "duration": 6,
    "start_time": "2022-05-24T17:36:32.050Z"
   },
   {
    "duration": 7,
    "start_time": "2022-05-24T17:36:33.659Z"
   },
   {
    "duration": 4,
    "start_time": "2022-05-24T17:36:33.787Z"
   },
   {
    "duration": 5,
    "start_time": "2022-05-24T17:36:33.922Z"
   },
   {
    "duration": 5,
    "start_time": "2022-05-24T17:36:34.051Z"
   },
   {
    "duration": 6,
    "start_time": "2022-05-24T17:36:34.296Z"
   },
   {
    "duration": 5,
    "start_time": "2022-05-24T17:36:34.418Z"
   },
   {
    "duration": 3,
    "start_time": "2022-05-24T17:36:34.650Z"
   },
   {
    "duration": 5,
    "start_time": "2022-05-24T17:36:34.809Z"
   },
   {
    "duration": 3,
    "start_time": "2022-05-24T17:36:34.998Z"
   },
   {
    "duration": 9,
    "start_time": "2022-05-24T17:36:35.099Z"
   },
   {
    "duration": 6,
    "start_time": "2022-05-24T17:36:35.545Z"
   },
   {
    "duration": 7,
    "start_time": "2022-05-24T17:36:35.867Z"
   },
   {
    "duration": 6,
    "start_time": "2022-05-24T17:36:36.396Z"
   },
   {
    "duration": 3,
    "start_time": "2022-05-24T17:36:37.362Z"
   },
   {
    "duration": 4,
    "start_time": "2022-05-24T17:36:37.492Z"
   },
   {
    "duration": 13,
    "start_time": "2022-05-24T17:36:37.738Z"
   },
   {
    "duration": 16,
    "start_time": "2022-05-24T17:36:38.097Z"
   },
   {
    "duration": 14,
    "start_time": "2022-05-24T17:36:38.216Z"
   },
   {
    "duration": 7,
    "start_time": "2022-05-24T17:36:38.659Z"
   },
   {
    "duration": 25,
    "start_time": "2022-05-24T17:36:38.801Z"
   },
   {
    "duration": 11,
    "start_time": "2022-05-24T17:36:39.250Z"
   },
   {
    "duration": 3,
    "start_time": "2022-05-24T17:36:39.390Z"
   },
   {
    "duration": 218,
    "start_time": "2022-05-24T17:36:39.514Z"
   },
   {
    "duration": 7,
    "start_time": "2022-05-24T17:36:39.794Z"
   },
   {
    "duration": 6,
    "start_time": "2022-05-24T17:36:39.899Z"
   },
   {
    "duration": 24,
    "start_time": "2022-05-24T17:36:40.042Z"
   },
   {
    "duration": 224,
    "start_time": "2022-05-24T17:36:40.506Z"
   },
   {
    "duration": 303,
    "start_time": "2022-05-24T17:36:40.732Z"
   },
   {
    "duration": 255,
    "start_time": "2022-05-24T17:36:41.037Z"
   },
   {
    "duration": 179,
    "start_time": "2022-05-24T17:36:41.294Z"
   },
   {
    "duration": 222,
    "start_time": "2022-05-24T17:36:41.475Z"
   },
   {
    "duration": 138,
    "start_time": "2022-05-24T17:36:42.097Z"
   },
   {
    "duration": 137,
    "start_time": "2022-05-24T17:36:42.237Z"
   },
   {
    "duration": 8,
    "start_time": "2022-05-24T17:36:42.394Z"
   },
   {
    "duration": 31,
    "start_time": "2022-05-24T17:36:43.848Z"
   },
   {
    "duration": 186,
    "start_time": "2022-05-24T17:36:44.499Z"
   },
   {
    "duration": 5,
    "start_time": "2022-05-24T17:36:44.985Z"
   },
   {
    "duration": 165,
    "start_time": "2022-05-24T17:36:45.833Z"
   },
   {
    "duration": 4,
    "start_time": "2022-05-24T17:36:46.617Z"
   },
   {
    "duration": 181,
    "start_time": "2022-05-24T17:36:48.331Z"
   },
   {
    "duration": 5,
    "start_time": "2022-05-24T17:36:49.065Z"
   },
   {
    "duration": 15,
    "start_time": "2022-05-24T17:36:50.705Z"
   },
   {
    "duration": 158,
    "start_time": "2022-05-24T17:36:55.298Z"
   },
   {
    "duration": 5,
    "start_time": "2022-05-24T17:36:55.550Z"
   },
   {
    "duration": 164,
    "start_time": "2022-05-24T17:36:56.297Z"
   },
   {
    "duration": 5,
    "start_time": "2022-05-24T17:36:56.529Z"
   },
   {
    "duration": 183,
    "start_time": "2022-05-24T17:36:57.092Z"
   },
   {
    "duration": 5,
    "start_time": "2022-05-24T17:36:57.395Z"
   },
   {
    "duration": 16,
    "start_time": "2022-05-24T17:37:02.698Z"
   },
   {
    "duration": 11,
    "start_time": "2022-05-24T17:37:04.957Z"
   },
   {
    "duration": 2,
    "start_time": "2022-05-24T17:37:07.621Z"
   },
   {
    "duration": 11,
    "start_time": "2022-05-24T17:37:09.374Z"
   },
   {
    "duration": 81,
    "start_time": "2022-05-24T17:37:10.250Z"
   },
   {
    "duration": 10,
    "start_time": "2022-05-24T17:39:55.840Z"
   },
   {
    "duration": 21,
    "start_time": "2022-05-24T17:40:01.496Z"
   },
   {
    "duration": 12,
    "start_time": "2022-05-24T17:40:02.050Z"
   },
   {
    "duration": 17,
    "start_time": "2022-05-24T17:42:53.507Z"
   },
   {
    "duration": 11,
    "start_time": "2022-05-24T17:42:53.984Z"
   },
   {
    "duration": 25,
    "start_time": "2022-05-24T17:43:56.300Z"
   },
   {
    "duration": 119,
    "start_time": "2022-05-24T17:46:38.553Z"
   },
   {
    "duration": 21,
    "start_time": "2022-05-24T17:47:27.054Z"
   },
   {
    "duration": 5,
    "start_time": "2022-05-24T17:58:50.985Z"
   },
   {
    "duration": 25,
    "start_time": "2022-05-24T17:58:58.914Z"
   },
   {
    "duration": 28,
    "start_time": "2022-05-24T18:00:52.404Z"
   },
   {
    "duration": 7,
    "start_time": "2022-05-24T18:44:56.215Z"
   },
   {
    "duration": 494,
    "start_time": "2022-05-24T18:46:21.603Z"
   },
   {
    "duration": 29,
    "start_time": "2022-05-24T18:46:48.963Z"
   },
   {
    "duration": 11,
    "start_time": "2022-05-24T18:46:49.862Z"
   },
   {
    "duration": 12,
    "start_time": "2022-05-24T18:47:05.225Z"
   },
   {
    "duration": 26,
    "start_time": "2022-05-24T18:55:54.924Z"
   },
   {
    "duration": 5,
    "start_time": "2022-05-24T18:55:56.115Z"
   },
   {
    "duration": 12,
    "start_time": "2022-05-24T18:56:04.624Z"
   },
   {
    "duration": 6,
    "start_time": "2022-05-24T18:59:11.341Z"
   },
   {
    "duration": 6,
    "start_time": "2022-05-24T18:59:23.486Z"
   },
   {
    "duration": 194,
    "start_time": "2022-05-24T19:07:28.800Z"
   },
   {
    "duration": 169,
    "start_time": "2022-05-24T19:08:23.472Z"
   },
   {
    "duration": 175,
    "start_time": "2022-05-24T19:09:17.606Z"
   },
   {
    "duration": 28,
    "start_time": "2022-05-24T19:29:06.322Z"
   },
   {
    "duration": 26,
    "start_time": "2022-05-24T19:29:48.825Z"
   },
   {
    "duration": 434,
    "start_time": "2022-05-24T19:55:41.494Z"
   },
   {
    "duration": 218,
    "start_time": "2022-05-24T19:56:36.565Z"
   },
   {
    "duration": 215,
    "start_time": "2022-05-24T19:56:38.485Z"
   },
   {
    "duration": 236,
    "start_time": "2022-05-24T19:56:40.628Z"
   },
   {
    "duration": 167,
    "start_time": "2022-05-24T19:56:43.500Z"
   },
   {
    "duration": 228,
    "start_time": "2022-05-24T19:57:01.868Z"
   },
   {
    "duration": 113,
    "start_time": "2022-05-24T19:59:11.753Z"
   },
   {
    "duration": 203,
    "start_time": "2022-05-24T19:59:20.987Z"
   },
   {
    "duration": 115,
    "start_time": "2022-05-24T19:59:27.730Z"
   },
   {
    "duration": 183,
    "start_time": "2022-05-24T20:11:31.659Z"
   },
   {
    "duration": 5,
    "start_time": "2022-05-24T20:11:32.043Z"
   },
   {
    "duration": 138,
    "start_time": "2022-05-24T20:12:47.506Z"
   },
   {
    "duration": 5,
    "start_time": "2022-05-24T20:12:48.017Z"
   },
   {
    "duration": 15,
    "start_time": "2022-05-24T20:12:48.507Z"
   },
   {
    "duration": 134,
    "start_time": "2022-05-24T20:12:48.770Z"
   },
   {
    "duration": 5,
    "start_time": "2022-05-24T20:12:49.035Z"
   },
   {
    "duration": 125,
    "start_time": "2022-05-24T20:12:49.218Z"
   },
   {
    "duration": 6,
    "start_time": "2022-05-24T20:12:49.466Z"
   },
   {
    "duration": 131,
    "start_time": "2022-05-24T20:12:49.675Z"
   },
   {
    "duration": 5,
    "start_time": "2022-05-24T20:12:49.954Z"
   },
   {
    "duration": 140,
    "start_time": "2022-05-24T20:12:50.210Z"
   },
   {
    "duration": 6,
    "start_time": "2022-05-24T20:12:50.449Z"
   },
   {
    "duration": 2,
    "start_time": "2022-05-24T20:35:06.425Z"
   },
   {
    "duration": 96,
    "start_time": "2022-05-24T20:35:07.112Z"
   },
   {
    "duration": 42,
    "start_time": "2022-05-24T20:35:07.312Z"
   },
   {
    "duration": 14,
    "start_time": "2022-05-24T20:35:07.542Z"
   },
   {
    "duration": 26,
    "start_time": "2022-05-24T20:35:08.479Z"
   },
   {
    "duration": 5,
    "start_time": "2022-05-24T20:35:09.240Z"
   },
   {
    "duration": 6,
    "start_time": "2022-05-24T20:35:09.402Z"
   },
   {
    "duration": 5,
    "start_time": "2022-05-24T20:35:09.553Z"
   },
   {
    "duration": 6,
    "start_time": "2022-05-24T20:35:09.709Z"
   },
   {
    "duration": 5,
    "start_time": "2022-05-24T20:35:09.992Z"
   },
   {
    "duration": 8,
    "start_time": "2022-05-24T20:35:10.480Z"
   },
   {
    "duration": 5,
    "start_time": "2022-05-24T20:35:10.640Z"
   },
   {
    "duration": 5,
    "start_time": "2022-05-24T20:35:10.801Z"
   },
   {
    "duration": 5,
    "start_time": "2022-05-24T20:35:10.960Z"
   },
   {
    "duration": 5,
    "start_time": "2022-05-24T20:35:11.296Z"
   },
   {
    "duration": 6,
    "start_time": "2022-05-24T20:35:11.471Z"
   },
   {
    "duration": 4,
    "start_time": "2022-05-24T20:35:11.785Z"
   },
   {
    "duration": 5,
    "start_time": "2022-05-24T20:35:11.944Z"
   },
   {
    "duration": 4,
    "start_time": "2022-05-24T20:35:12.223Z"
   },
   {
    "duration": 5,
    "start_time": "2022-05-24T20:35:12.392Z"
   },
   {
    "duration": 6,
    "start_time": "2022-05-24T20:35:12.888Z"
   },
   {
    "duration": 6,
    "start_time": "2022-05-24T20:35:13.055Z"
   },
   {
    "duration": 5,
    "start_time": "2022-05-24T20:35:13.423Z"
   },
   {
    "duration": 3,
    "start_time": "2022-05-24T20:35:13.760Z"
   },
   {
    "duration": 4,
    "start_time": "2022-05-24T20:35:13.942Z"
   },
   {
    "duration": 13,
    "start_time": "2022-05-24T20:35:14.295Z"
   },
   {
    "duration": 15,
    "start_time": "2022-05-24T20:35:14.936Z"
   },
   {
    "duration": 13,
    "start_time": "2022-05-24T20:35:15.256Z"
   },
   {
    "duration": 7,
    "start_time": "2022-05-24T20:35:15.712Z"
   },
   {
    "duration": 29,
    "start_time": "2022-05-24T20:35:15.848Z"
   },
   {
    "duration": 12,
    "start_time": "2022-05-24T20:35:15.983Z"
   },
   {
    "duration": 3,
    "start_time": "2022-05-24T20:35:16.137Z"
   },
   {
    "duration": 227,
    "start_time": "2022-05-24T20:35:16.281Z"
   },
   {
    "duration": 7,
    "start_time": "2022-05-24T20:35:16.511Z"
   },
   {
    "duration": 6,
    "start_time": "2022-05-24T20:35:16.576Z"
   },
   {
    "duration": 25,
    "start_time": "2022-05-24T20:35:16.737Z"
   },
   {
    "duration": 241,
    "start_time": "2022-05-24T20:35:18.538Z"
   },
   {
    "duration": 367,
    "start_time": "2022-05-24T20:35:18.781Z"
   },
   {
    "duration": 226,
    "start_time": "2022-05-24T20:35:19.150Z"
   },
   {
    "duration": 141,
    "start_time": "2022-05-24T20:35:19.377Z"
   },
   {
    "duration": 170,
    "start_time": "2022-05-24T20:35:19.520Z"
   },
   {
    "duration": 148,
    "start_time": "2022-05-24T20:35:19.691Z"
   },
   {
    "duration": 140,
    "start_time": "2022-05-24T20:35:19.840Z"
   },
   {
    "duration": 9,
    "start_time": "2022-05-24T20:35:19.981Z"
   },
   {
    "duration": 33,
    "start_time": "2022-05-24T20:35:20.072Z"
   },
   {
    "duration": 183,
    "start_time": "2022-05-24T20:35:20.528Z"
   },
   {
    "duration": 5,
    "start_time": "2022-05-24T20:35:20.712Z"
   },
   {
    "duration": 162,
    "start_time": "2022-05-24T20:35:21.104Z"
   },
   {
    "duration": 4,
    "start_time": "2022-05-24T20:35:21.268Z"
   },
   {
    "duration": 196,
    "start_time": "2022-05-24T20:35:21.615Z"
   },
   {
    "duration": 5,
    "start_time": "2022-05-24T20:35:21.813Z"
   },
   {
    "duration": 14,
    "start_time": "2022-05-24T20:35:22.120Z"
   },
   {
    "duration": 153,
    "start_time": "2022-05-24T20:35:22.472Z"
   },
   {
    "duration": 5,
    "start_time": "2022-05-24T20:35:22.632Z"
   },
   {
    "duration": 170,
    "start_time": "2022-05-24T20:35:22.991Z"
   },
   {
    "duration": 6,
    "start_time": "2022-05-24T20:35:23.163Z"
   },
   {
    "duration": 162,
    "start_time": "2022-05-24T20:35:23.504Z"
   },
   {
    "duration": 5,
    "start_time": "2022-05-24T20:35:23.672Z"
   },
   {
    "duration": 21,
    "start_time": "2022-05-24T20:35:24.159Z"
   },
   {
    "duration": 12,
    "start_time": "2022-05-24T20:35:24.481Z"
   },
   {
    "duration": 28,
    "start_time": "2022-05-24T20:35:24.648Z"
   },
   {
    "duration": 6,
    "start_time": "2022-05-24T20:35:24.800Z"
   },
   {
    "duration": 184,
    "start_time": "2022-05-24T20:35:24.944Z"
   },
   {
    "duration": 26,
    "start_time": "2022-05-24T20:35:25.557Z"
   },
   {
    "duration": 235,
    "start_time": "2022-05-24T20:35:26.088Z"
   },
   {
    "duration": 237,
    "start_time": "2022-05-24T20:35:26.325Z"
   },
   {
    "duration": 296,
    "start_time": "2022-05-24T20:35:26.564Z"
   },
   {
    "duration": 189,
    "start_time": "2022-05-24T20:35:26.862Z"
   },
   {
    "duration": 150,
    "start_time": "2022-05-24T20:35:27.053Z"
   },
   {
    "duration": 4,
    "start_time": "2022-05-24T20:35:27.211Z"
   },
   {
    "duration": 15,
    "start_time": "2022-05-24T20:35:27.416Z"
   },
   {
    "duration": 142,
    "start_time": "2022-05-24T20:35:27.736Z"
   },
   {
    "duration": 4,
    "start_time": "2022-05-24T20:35:27.887Z"
   },
   {
    "duration": 126,
    "start_time": "2022-05-24T20:35:28.232Z"
   },
   {
    "duration": 6,
    "start_time": "2022-05-24T20:35:28.448Z"
   },
   {
    "duration": 127,
    "start_time": "2022-05-24T20:35:28.960Z"
   },
   {
    "duration": 5,
    "start_time": "2022-05-24T20:35:29.146Z"
   },
   {
    "duration": 151,
    "start_time": "2022-05-24T20:35:29.409Z"
   },
   {
    "duration": 5,
    "start_time": "2022-05-24T20:35:29.584Z"
   },
   {
    "duration": 9,
    "start_time": "2022-05-24T22:20:47.269Z"
   },
   {
    "duration": 13,
    "start_time": "2022-05-24T22:32:47.575Z"
   },
   {
    "duration": 18,
    "start_time": "2022-05-24T22:32:57.404Z"
   },
   {
    "duration": 16,
    "start_time": "2022-05-24T22:33:29.518Z"
   },
   {
    "duration": 436,
    "start_time": "2022-05-24T22:33:47.678Z"
   },
   {
    "duration": 100,
    "start_time": "2022-05-24T22:33:48.116Z"
   },
   {
    "duration": 59,
    "start_time": "2022-05-24T22:33:48.218Z"
   },
   {
    "duration": 16,
    "start_time": "2022-05-24T22:33:48.280Z"
   },
   {
    "duration": 23,
    "start_time": "2022-05-24T22:33:48.298Z"
   },
   {
    "duration": 5,
    "start_time": "2022-05-24T22:33:48.323Z"
   },
   {
    "duration": 31,
    "start_time": "2022-05-24T22:33:48.329Z"
   },
   {
    "duration": 6,
    "start_time": "2022-05-24T22:33:48.372Z"
   },
   {
    "duration": 10,
    "start_time": "2022-05-24T22:33:48.379Z"
   },
   {
    "duration": 12,
    "start_time": "2022-05-24T22:33:48.391Z"
   },
   {
    "duration": 8,
    "start_time": "2022-05-24T22:33:48.405Z"
   },
   {
    "duration": 11,
    "start_time": "2022-05-24T22:33:48.414Z"
   },
   {
    "duration": 9,
    "start_time": "2022-05-24T22:33:48.427Z"
   },
   {
    "duration": 15,
    "start_time": "2022-05-24T22:33:48.438Z"
   },
   {
    "duration": 20,
    "start_time": "2022-05-24T22:33:48.459Z"
   },
   {
    "duration": 7,
    "start_time": "2022-05-24T22:33:48.480Z"
   },
   {
    "duration": 5,
    "start_time": "2022-05-24T22:33:48.488Z"
   },
   {
    "duration": 10,
    "start_time": "2022-05-24T22:33:48.494Z"
   },
   {
    "duration": 4,
    "start_time": "2022-05-24T22:33:48.506Z"
   },
   {
    "duration": 6,
    "start_time": "2022-05-24T22:33:48.511Z"
   },
   {
    "duration": 15,
    "start_time": "2022-05-24T22:33:48.519Z"
   },
   {
    "duration": 5,
    "start_time": "2022-05-24T22:33:48.536Z"
   },
   {
    "duration": 22,
    "start_time": "2022-05-24T22:33:48.543Z"
   },
   {
    "duration": 13,
    "start_time": "2022-05-24T22:33:48.566Z"
   },
   {
    "duration": 7,
    "start_time": "2022-05-24T22:33:48.580Z"
   },
   {
    "duration": 16,
    "start_time": "2022-05-24T22:33:48.588Z"
   },
   {
    "duration": 88,
    "start_time": "2022-05-24T22:33:48.605Z"
   },
   {
    "duration": 0,
    "start_time": "2022-05-24T22:33:48.696Z"
   },
   {
    "duration": 0,
    "start_time": "2022-05-24T22:33:48.697Z"
   },
   {
    "duration": 0,
    "start_time": "2022-05-24T22:33:48.699Z"
   },
   {
    "duration": 0,
    "start_time": "2022-05-24T22:33:48.700Z"
   },
   {
    "duration": 0,
    "start_time": "2022-05-24T22:33:48.701Z"
   },
   {
    "duration": 0,
    "start_time": "2022-05-24T22:33:48.702Z"
   },
   {
    "duration": 0,
    "start_time": "2022-05-24T22:33:48.702Z"
   },
   {
    "duration": 0,
    "start_time": "2022-05-24T22:33:48.703Z"
   },
   {
    "duration": 0,
    "start_time": "2022-05-24T22:33:48.704Z"
   },
   {
    "duration": 0,
    "start_time": "2022-05-24T22:33:48.706Z"
   },
   {
    "duration": 0,
    "start_time": "2022-05-24T22:33:48.707Z"
   },
   {
    "duration": 0,
    "start_time": "2022-05-24T22:33:48.708Z"
   },
   {
    "duration": 0,
    "start_time": "2022-05-24T22:33:48.709Z"
   },
   {
    "duration": 0,
    "start_time": "2022-05-24T22:33:48.710Z"
   },
   {
    "duration": 0,
    "start_time": "2022-05-24T22:33:48.711Z"
   },
   {
    "duration": 0,
    "start_time": "2022-05-24T22:33:48.712Z"
   },
   {
    "duration": 0,
    "start_time": "2022-05-24T22:33:48.713Z"
   },
   {
    "duration": 0,
    "start_time": "2022-05-24T22:33:48.714Z"
   },
   {
    "duration": 0,
    "start_time": "2022-05-24T22:33:48.715Z"
   },
   {
    "duration": 0,
    "start_time": "2022-05-24T22:33:48.717Z"
   },
   {
    "duration": 0,
    "start_time": "2022-05-24T22:33:48.718Z"
   },
   {
    "duration": 0,
    "start_time": "2022-05-24T22:33:48.719Z"
   },
   {
    "duration": 0,
    "start_time": "2022-05-24T22:33:48.720Z"
   },
   {
    "duration": 0,
    "start_time": "2022-05-24T22:33:48.721Z"
   },
   {
    "duration": 0,
    "start_time": "2022-05-24T22:33:48.722Z"
   },
   {
    "duration": 0,
    "start_time": "2022-05-24T22:33:48.723Z"
   },
   {
    "duration": 0,
    "start_time": "2022-05-24T22:33:48.759Z"
   },
   {
    "duration": 0,
    "start_time": "2022-05-24T22:33:48.760Z"
   },
   {
    "duration": 0,
    "start_time": "2022-05-24T22:33:48.761Z"
   },
   {
    "duration": 0,
    "start_time": "2022-05-24T22:33:48.762Z"
   },
   {
    "duration": 0,
    "start_time": "2022-05-24T22:33:48.765Z"
   },
   {
    "duration": 1,
    "start_time": "2022-05-24T22:33:48.765Z"
   },
   {
    "duration": 0,
    "start_time": "2022-05-24T22:33:48.771Z"
   },
   {
    "duration": 0,
    "start_time": "2022-05-24T22:33:48.771Z"
   },
   {
    "duration": 0,
    "start_time": "2022-05-24T22:33:48.772Z"
   },
   {
    "duration": 0,
    "start_time": "2022-05-24T22:33:48.775Z"
   },
   {
    "duration": 0,
    "start_time": "2022-05-24T22:33:48.775Z"
   },
   {
    "duration": 0,
    "start_time": "2022-05-24T22:33:48.776Z"
   },
   {
    "duration": 0,
    "start_time": "2022-05-24T22:33:48.778Z"
   },
   {
    "duration": 0,
    "start_time": "2022-05-24T22:33:48.780Z"
   },
   {
    "duration": 0,
    "start_time": "2022-05-24T22:33:48.781Z"
   },
   {
    "duration": 0,
    "start_time": "2022-05-24T22:33:48.782Z"
   },
   {
    "duration": 0,
    "start_time": "2022-05-24T22:33:48.784Z"
   },
   {
    "duration": 0,
    "start_time": "2022-05-24T22:33:48.785Z"
   },
   {
    "duration": 0,
    "start_time": "2022-05-24T22:33:48.787Z"
   },
   {
    "duration": 0,
    "start_time": "2022-05-24T22:33:48.788Z"
   },
   {
    "duration": 0,
    "start_time": "2022-05-24T22:33:48.789Z"
   },
   {
    "duration": 0,
    "start_time": "2022-05-24T22:33:48.790Z"
   },
   {
    "duration": 0,
    "start_time": "2022-05-24T22:33:48.791Z"
   },
   {
    "duration": 0,
    "start_time": "2022-05-24T22:33:48.792Z"
   },
   {
    "duration": 0,
    "start_time": "2022-05-24T22:33:48.793Z"
   },
   {
    "duration": 0,
    "start_time": "2022-05-24T22:33:48.794Z"
   },
   {
    "duration": 20,
    "start_time": "2022-05-24T22:34:02.453Z"
   },
   {
    "duration": 7,
    "start_time": "2022-05-24T22:34:28.122Z"
   },
   {
    "duration": 27,
    "start_time": "2022-05-24T22:34:44.875Z"
   },
   {
    "duration": 17,
    "start_time": "2022-05-24T22:34:47.485Z"
   },
   {
    "duration": 3,
    "start_time": "2022-05-24T22:34:54.984Z"
   },
   {
    "duration": 273,
    "start_time": "2022-05-24T22:34:55.638Z"
   },
   {
    "duration": 9,
    "start_time": "2022-05-24T22:34:57.012Z"
   },
   {
    "duration": 7,
    "start_time": "2022-05-24T22:34:59.353Z"
   },
   {
    "duration": 33,
    "start_time": "2022-05-24T22:35:03.524Z"
   },
   {
    "duration": 459,
    "start_time": "2022-05-24T22:38:03.603Z"
   },
   {
    "duration": 115,
    "start_time": "2022-05-24T22:38:04.064Z"
   },
   {
    "duration": 63,
    "start_time": "2022-05-24T22:38:04.181Z"
   },
   {
    "duration": 22,
    "start_time": "2022-05-24T22:38:04.258Z"
   },
   {
    "duration": 31,
    "start_time": "2022-05-24T22:38:04.283Z"
   },
   {
    "duration": 6,
    "start_time": "2022-05-24T22:38:04.316Z"
   },
   {
    "duration": 10,
    "start_time": "2022-05-24T22:38:04.324Z"
   },
   {
    "duration": 28,
    "start_time": "2022-05-24T22:38:04.336Z"
   },
   {
    "duration": 9,
    "start_time": "2022-05-24T22:38:04.365Z"
   },
   {
    "duration": 11,
    "start_time": "2022-05-24T22:38:04.379Z"
   },
   {
    "duration": 14,
    "start_time": "2022-05-24T22:38:04.392Z"
   },
   {
    "duration": 8,
    "start_time": "2022-05-24T22:38:04.408Z"
   },
   {
    "duration": 8,
    "start_time": "2022-05-24T22:38:04.417Z"
   },
   {
    "duration": 16,
    "start_time": "2022-05-24T22:38:04.427Z"
   },
   {
    "duration": 21,
    "start_time": "2022-05-24T22:38:04.445Z"
   },
   {
    "duration": 10,
    "start_time": "2022-05-24T22:38:04.471Z"
   },
   {
    "duration": 9,
    "start_time": "2022-05-24T22:38:04.483Z"
   },
   {
    "duration": 11,
    "start_time": "2022-05-24T22:38:04.493Z"
   },
   {
    "duration": 6,
    "start_time": "2022-05-24T22:38:04.505Z"
   },
   {
    "duration": 8,
    "start_time": "2022-05-24T22:38:04.513Z"
   },
   {
    "duration": 17,
    "start_time": "2022-05-24T22:38:04.522Z"
   },
   {
    "duration": 7,
    "start_time": "2022-05-24T22:38:04.541Z"
   },
   {
    "duration": 22,
    "start_time": "2022-05-24T22:38:04.558Z"
   },
   {
    "duration": 11,
    "start_time": "2022-05-24T22:38:04.582Z"
   },
   {
    "duration": 12,
    "start_time": "2022-05-24T22:38:04.595Z"
   },
   {
    "duration": 28,
    "start_time": "2022-05-24T22:38:04.608Z"
   },
   {
    "duration": 86,
    "start_time": "2022-05-24T22:38:04.639Z"
   },
   {
    "duration": 0,
    "start_time": "2022-05-24T22:38:04.730Z"
   },
   {
    "duration": 0,
    "start_time": "2022-05-24T22:38:04.731Z"
   },
   {
    "duration": 0,
    "start_time": "2022-05-24T22:38:04.733Z"
   },
   {
    "duration": 0,
    "start_time": "2022-05-24T22:38:04.734Z"
   },
   {
    "duration": 0,
    "start_time": "2022-05-24T22:38:04.735Z"
   },
   {
    "duration": 0,
    "start_time": "2022-05-24T22:38:04.736Z"
   },
   {
    "duration": 0,
    "start_time": "2022-05-24T22:38:04.738Z"
   },
   {
    "duration": 0,
    "start_time": "2022-05-24T22:38:04.740Z"
   },
   {
    "duration": 1,
    "start_time": "2022-05-24T22:38:04.740Z"
   },
   {
    "duration": 1,
    "start_time": "2022-05-24T22:38:04.741Z"
   },
   {
    "duration": 0,
    "start_time": "2022-05-24T22:38:04.765Z"
   },
   {
    "duration": 0,
    "start_time": "2022-05-24T22:38:04.765Z"
   },
   {
    "duration": 0,
    "start_time": "2022-05-24T22:38:04.766Z"
   },
   {
    "duration": 0,
    "start_time": "2022-05-24T22:38:04.767Z"
   },
   {
    "duration": 0,
    "start_time": "2022-05-24T22:38:04.773Z"
   },
   {
    "duration": 0,
    "start_time": "2022-05-24T22:38:04.774Z"
   },
   {
    "duration": 0,
    "start_time": "2022-05-24T22:38:04.775Z"
   },
   {
    "duration": 0,
    "start_time": "2022-05-24T22:38:04.776Z"
   },
   {
    "duration": 0,
    "start_time": "2022-05-24T22:38:04.777Z"
   },
   {
    "duration": 0,
    "start_time": "2022-05-24T22:38:04.777Z"
   },
   {
    "duration": 0,
    "start_time": "2022-05-24T22:38:04.778Z"
   },
   {
    "duration": 0,
    "start_time": "2022-05-24T22:38:04.780Z"
   },
   {
    "duration": 0,
    "start_time": "2022-05-24T22:38:04.782Z"
   },
   {
    "duration": 0,
    "start_time": "2022-05-24T22:38:04.783Z"
   },
   {
    "duration": 0,
    "start_time": "2022-05-24T22:38:04.785Z"
   },
   {
    "duration": 0,
    "start_time": "2022-05-24T22:38:04.786Z"
   },
   {
    "duration": 0,
    "start_time": "2022-05-24T22:38:04.787Z"
   },
   {
    "duration": 0,
    "start_time": "2022-05-24T22:38:04.788Z"
   },
   {
    "duration": 0,
    "start_time": "2022-05-24T22:38:04.789Z"
   },
   {
    "duration": 0,
    "start_time": "2022-05-24T22:38:04.790Z"
   },
   {
    "duration": 0,
    "start_time": "2022-05-24T22:38:04.791Z"
   },
   {
    "duration": 0,
    "start_time": "2022-05-24T22:38:04.792Z"
   },
   {
    "duration": 0,
    "start_time": "2022-05-24T22:38:04.794Z"
   },
   {
    "duration": 0,
    "start_time": "2022-05-24T22:38:04.795Z"
   },
   {
    "duration": 0,
    "start_time": "2022-05-24T22:38:04.796Z"
   },
   {
    "duration": 0,
    "start_time": "2022-05-24T22:38:04.797Z"
   },
   {
    "duration": 0,
    "start_time": "2022-05-24T22:38:04.799Z"
   },
   {
    "duration": 0,
    "start_time": "2022-05-24T22:38:04.800Z"
   },
   {
    "duration": 0,
    "start_time": "2022-05-24T22:38:04.801Z"
   },
   {
    "duration": 0,
    "start_time": "2022-05-24T22:38:04.803Z"
   },
   {
    "duration": 0,
    "start_time": "2022-05-24T22:38:04.804Z"
   },
   {
    "duration": 0,
    "start_time": "2022-05-24T22:38:04.805Z"
   },
   {
    "duration": 0,
    "start_time": "2022-05-24T22:38:04.806Z"
   },
   {
    "duration": 0,
    "start_time": "2022-05-24T22:38:04.859Z"
   },
   {
    "duration": 0,
    "start_time": "2022-05-24T22:38:04.860Z"
   },
   {
    "duration": 0,
    "start_time": "2022-05-24T22:38:04.860Z"
   },
   {
    "duration": 0,
    "start_time": "2022-05-24T22:38:04.861Z"
   },
   {
    "duration": 0,
    "start_time": "2022-05-24T22:38:04.862Z"
   },
   {
    "duration": 0,
    "start_time": "2022-05-24T22:38:04.865Z"
   },
   {
    "duration": 0,
    "start_time": "2022-05-24T22:38:04.865Z"
   },
   {
    "duration": 0,
    "start_time": "2022-05-24T22:38:04.866Z"
   },
   {
    "duration": 0,
    "start_time": "2022-05-24T22:38:04.866Z"
   },
   {
    "duration": 16,
    "start_time": "2022-05-24T22:39:06.702Z"
   },
   {
    "duration": 12,
    "start_time": "2022-05-24T22:39:09.148Z"
   },
   {
    "duration": 33,
    "start_time": "2022-05-24T22:39:09.379Z"
   },
   {
    "duration": 13,
    "start_time": "2022-05-24T22:39:09.596Z"
   },
   {
    "duration": 3,
    "start_time": "2022-05-24T22:39:09.785Z"
   },
   {
    "duration": 258,
    "start_time": "2022-05-24T22:39:11.341Z"
   },
   {
    "duration": 7,
    "start_time": "2022-05-24T22:39:11.683Z"
   },
   {
    "duration": 7,
    "start_time": "2022-05-24T22:39:12.477Z"
   },
   {
    "duration": 28,
    "start_time": "2022-05-24T22:39:13.171Z"
   },
   {
    "duration": 729,
    "start_time": "2022-05-24T22:39:22.750Z"
   },
   {
    "duration": 268,
    "start_time": "2022-05-24T22:39:23.482Z"
   },
   {
    "duration": 246,
    "start_time": "2022-05-24T22:39:23.760Z"
   },
   {
    "duration": 163,
    "start_time": "2022-05-24T22:39:24.009Z"
   },
   {
    "duration": 214,
    "start_time": "2022-05-24T22:39:24.174Z"
   },
   {
    "duration": 361,
    "start_time": "2022-05-24T22:42:28.247Z"
   },
   {
    "duration": 314,
    "start_time": "2022-05-24T22:42:48.404Z"
   },
   {
    "duration": 280,
    "start_time": "2022-05-24T22:43:03.293Z"
   },
   {
    "duration": 287,
    "start_time": "2022-05-24T22:43:20.008Z"
   },
   {
    "duration": 182,
    "start_time": "2022-05-24T22:45:47.457Z"
   },
   {
    "duration": 170,
    "start_time": "2022-05-24T22:45:50.835Z"
   },
   {
    "duration": 10,
    "start_time": "2022-05-24T22:45:54.207Z"
   },
   {
    "duration": 7,
    "start_time": "2022-05-24T22:48:17.114Z"
   },
   {
    "duration": 73,
    "start_time": "2022-05-24T22:48:19.721Z"
   },
   {
    "duration": 4,
    "start_time": "2022-05-24T22:48:29.915Z"
   },
   {
    "duration": 4,
    "start_time": "2022-05-24T22:48:51.732Z"
   },
   {
    "duration": 305,
    "start_time": "2022-05-24T22:51:03.343Z"
   },
   {
    "duration": 8,
    "start_time": "2022-05-24T22:51:19.563Z"
   },
   {
    "duration": 327,
    "start_time": "2022-05-24T22:51:33.910Z"
   },
   {
    "duration": 5,
    "start_time": "2022-05-24T22:51:38.320Z"
   },
   {
    "duration": 222,
    "start_time": "2022-05-24T22:52:45.209Z"
   },
   {
    "duration": 6,
    "start_time": "2022-05-24T22:52:48.327Z"
   },
   {
    "duration": 26,
    "start_time": "2022-05-24T22:53:02.091Z"
   },
   {
    "duration": 15,
    "start_time": "2022-05-24T22:53:17.040Z"
   },
   {
    "duration": 16,
    "start_time": "2022-05-24T22:53:22.540Z"
   },
   {
    "duration": 226,
    "start_time": "2022-05-24T22:54:03.617Z"
   },
   {
    "duration": 6,
    "start_time": "2022-05-24T22:54:11.041Z"
   },
   {
    "duration": 210,
    "start_time": "2022-05-24T22:57:53.895Z"
   },
   {
    "duration": 215,
    "start_time": "2022-05-24T22:58:52.212Z"
   },
   {
    "duration": 214,
    "start_time": "2022-05-24T22:58:57.906Z"
   },
   {
    "duration": 290,
    "start_time": "2022-05-24T23:01:00.560Z"
   },
   {
    "duration": 7,
    "start_time": "2022-05-24T23:01:03.425Z"
   },
   {
    "duration": 227,
    "start_time": "2022-05-24T23:01:04.319Z"
   },
   {
    "duration": 7,
    "start_time": "2022-05-24T23:01:08.112Z"
   },
   {
    "duration": 35,
    "start_time": "2022-05-24T23:01:12.413Z"
   },
   {
    "duration": 14,
    "start_time": "2022-05-24T23:01:44.899Z"
   },
   {
    "duration": 35,
    "start_time": "2022-05-24T23:01:46.599Z"
   },
   {
    "duration": 23,
    "start_time": "2022-05-24T23:01:46.756Z"
   },
   {
    "duration": 233,
    "start_time": "2022-05-24T23:01:48.694Z"
   },
   {
    "duration": 33,
    "start_time": "2022-05-24T23:06:02.835Z"
   },
   {
    "duration": 287,
    "start_time": "2022-05-24T23:07:20.130Z"
   },
   {
    "duration": 378,
    "start_time": "2022-05-24T23:07:22.188Z"
   },
   {
    "duration": 143,
    "start_time": "2022-05-24T23:07:22.568Z"
   },
   {
    "duration": 224,
    "start_time": "2022-05-24T23:07:22.713Z"
   },
   {
    "duration": 158,
    "start_time": "2022-05-24T23:07:25.217Z"
   },
   {
    "duration": 4,
    "start_time": "2022-05-24T23:07:26.049Z"
   },
   {
    "duration": 13,
    "start_time": "2022-05-24T23:07:28.388Z"
   },
   {
    "duration": 175,
    "start_time": "2022-05-24T23:07:28.728Z"
   },
   {
    "duration": 4,
    "start_time": "2022-05-24T23:07:28.905Z"
   },
   {
    "duration": 149,
    "start_time": "2022-05-24T23:07:29.137Z"
   },
   {
    "duration": 6,
    "start_time": "2022-05-24T23:07:29.294Z"
   },
   {
    "duration": 191,
    "start_time": "2022-05-24T23:07:31.051Z"
   },
   {
    "duration": 6,
    "start_time": "2022-05-24T23:07:31.247Z"
   },
   {
    "duration": 184,
    "start_time": "2022-05-24T23:07:31.490Z"
   },
   {
    "duration": 6,
    "start_time": "2022-05-24T23:07:31.845Z"
   },
   {
    "duration": 54,
    "start_time": "2022-05-25T05:54:55.299Z"
   },
   {
    "duration": 764,
    "start_time": "2022-05-25T05:55:44.860Z"
   },
   {
    "duration": 150,
    "start_time": "2022-05-25T05:55:45.626Z"
   },
   {
    "duration": 48,
    "start_time": "2022-05-25T05:55:47.257Z"
   },
   {
    "duration": 17,
    "start_time": "2022-05-25T05:55:47.325Z"
   },
   {
    "duration": 25,
    "start_time": "2022-05-25T05:55:48.056Z"
   },
   {
    "duration": 6,
    "start_time": "2022-05-25T05:55:48.882Z"
   },
   {
    "duration": 6,
    "start_time": "2022-05-25T05:55:49.017Z"
   },
   {
    "duration": 5,
    "start_time": "2022-05-25T05:55:49.122Z"
   },
   {
    "duration": 4,
    "start_time": "2022-05-25T05:55:49.377Z"
   },
   {
    "duration": 5,
    "start_time": "2022-05-25T05:55:49.762Z"
   },
   {
    "duration": 6,
    "start_time": "2022-05-25T05:55:50.610Z"
   },
   {
    "duration": 4,
    "start_time": "2022-05-25T05:55:50.693Z"
   },
   {
    "duration": 4,
    "start_time": "2022-05-25T05:55:50.806Z"
   },
   {
    "duration": 4,
    "start_time": "2022-05-25T05:55:51.052Z"
   },
   {
    "duration": 8,
    "start_time": "2022-05-25T05:55:51.817Z"
   },
   {
    "duration": 5,
    "start_time": "2022-05-25T05:55:51.973Z"
   },
   {
    "duration": 3,
    "start_time": "2022-05-25T05:55:52.527Z"
   },
   {
    "duration": 5,
    "start_time": "2022-05-25T05:55:52.753Z"
   },
   {
    "duration": 4,
    "start_time": "2022-05-25T05:55:53.137Z"
   },
   {
    "duration": 5,
    "start_time": "2022-05-25T05:55:53.310Z"
   },
   {
    "duration": 6,
    "start_time": "2022-05-25T05:55:53.839Z"
   },
   {
    "duration": 5,
    "start_time": "2022-05-25T05:55:54.395Z"
   },
   {
    "duration": 13,
    "start_time": "2022-05-25T05:55:54.402Z"
   },
   {
    "duration": 4,
    "start_time": "2022-05-25T05:55:54.807Z"
   },
   {
    "duration": 11,
    "start_time": "2022-05-25T05:55:54.817Z"
   },
   {
    "duration": 14,
    "start_time": "2022-05-25T05:55:55.257Z"
   },
   {
    "duration": 11,
    "start_time": "2022-05-25T05:55:55.837Z"
   },
   {
    "duration": 20,
    "start_time": "2022-05-25T05:55:56.178Z"
   },
   {
    "duration": 8,
    "start_time": "2022-05-25T05:55:57.859Z"
   },
   {
    "duration": 28,
    "start_time": "2022-05-25T05:55:58.052Z"
   },
   {
    "duration": 12,
    "start_time": "2022-05-25T05:55:58.206Z"
   },
   {
    "duration": 9,
    "start_time": "2022-05-25T05:55:58.445Z"
   },
   {
    "duration": 251,
    "start_time": "2022-05-25T05:55:58.617Z"
   },
   {
    "duration": 8,
    "start_time": "2022-05-25T05:55:58.870Z"
   },
   {
    "duration": 6,
    "start_time": "2022-05-25T05:55:59.338Z"
   },
   {
    "duration": 29,
    "start_time": "2022-05-25T05:55:59.492Z"
   },
   {
    "duration": 759,
    "start_time": "2022-05-25T05:56:00.855Z"
   },
   {
    "duration": 310,
    "start_time": "2022-05-25T05:56:01.617Z"
   },
   {
    "duration": 270,
    "start_time": "2022-05-25T05:56:01.929Z"
   },
   {
    "duration": 163,
    "start_time": "2022-05-25T05:56:02.201Z"
   },
   {
    "duration": 211,
    "start_time": "2022-05-25T05:56:02.366Z"
   },
   {
    "duration": 344,
    "start_time": "2022-05-25T05:56:02.579Z"
   },
   {
    "duration": 184,
    "start_time": "2022-05-25T05:56:02.925Z"
   },
   {
    "duration": 165,
    "start_time": "2022-05-25T05:56:03.111Z"
   },
   {
    "duration": 10,
    "start_time": "2022-05-25T05:56:03.277Z"
   },
   {
    "duration": 33,
    "start_time": "2022-05-25T05:56:04.853Z"
   },
   {
    "duration": 232,
    "start_time": "2022-05-25T05:56:05.937Z"
   },
   {
    "duration": 5,
    "start_time": "2022-05-25T05:56:06.537Z"
   },
   {
    "duration": 211,
    "start_time": "2022-05-25T05:56:06.767Z"
   },
   {
    "duration": 4,
    "start_time": "2022-05-25T05:56:06.980Z"
   },
   {
    "duration": 210,
    "start_time": "2022-05-25T05:56:07.218Z"
   },
   {
    "duration": 5,
    "start_time": "2022-05-25T05:56:07.536Z"
   },
   {
    "duration": 17,
    "start_time": "2022-05-25T05:56:07.964Z"
   },
   {
    "duration": 173,
    "start_time": "2022-05-25T05:56:08.686Z"
   },
   {
    "duration": 5,
    "start_time": "2022-05-25T05:56:08.861Z"
   },
   {
    "duration": 172,
    "start_time": "2022-05-25T05:56:09.038Z"
   },
   {
    "duration": 192,
    "start_time": "2022-05-25T05:56:09.212Z"
   },
   {
    "duration": 7,
    "start_time": "2022-05-25T05:56:09.406Z"
   },
   {
    "duration": 198,
    "start_time": "2022-05-25T05:56:09.816Z"
   },
   {
    "duration": 7,
    "start_time": "2022-05-25T05:56:10.020Z"
   },
   {
    "duration": 28,
    "start_time": "2022-05-25T05:56:11.138Z"
   },
   {
    "duration": 12,
    "start_time": "2022-05-25T05:56:11.295Z"
   },
   {
    "duration": 31,
    "start_time": "2022-05-25T05:56:11.492Z"
   },
   {
    "duration": 7,
    "start_time": "2022-05-25T05:56:11.856Z"
   },
   {
    "duration": 178,
    "start_time": "2022-05-25T05:56:12.479Z"
   },
   {
    "duration": 103,
    "start_time": "2022-05-25T05:56:16.087Z"
   },
   {
    "duration": 274,
    "start_time": "2022-05-25T05:56:16.370Z"
   },
   {
    "duration": 299,
    "start_time": "2022-05-25T05:56:16.647Z"
   },
   {
    "duration": 139,
    "start_time": "2022-05-25T05:56:16.948Z"
   },
   {
    "duration": 181,
    "start_time": "2022-05-25T05:56:17.173Z"
   },
   {
    "duration": 144,
    "start_time": "2022-05-25T05:56:17.835Z"
   },
   {
    "duration": 5,
    "start_time": "2022-05-25T05:56:18.136Z"
   },
   {
    "duration": 15,
    "start_time": "2022-05-25T05:56:19.334Z"
   },
   {
    "duration": 158,
    "start_time": "2022-05-25T05:56:20.215Z"
   },
   {
    "duration": 4,
    "start_time": "2022-05-25T05:56:20.641Z"
   },
   {
    "duration": 174,
    "start_time": "2022-05-25T05:56:21.129Z"
   },
   {
    "duration": 6,
    "start_time": "2022-05-25T05:56:21.305Z"
   },
   {
    "duration": 133,
    "start_time": "2022-05-25T05:56:21.442Z"
   },
   {
    "duration": 6,
    "start_time": "2022-05-25T05:56:21.639Z"
   },
   {
    "duration": 145,
    "start_time": "2022-05-25T05:56:21.804Z"
   },
   {
    "duration": 6,
    "start_time": "2022-05-25T05:56:21.999Z"
   },
   {
    "duration": 716,
    "start_time": "2022-05-25T13:06:25.742Z"
   },
   {
    "duration": 149,
    "start_time": "2022-05-25T13:06:26.470Z"
   },
   {
    "duration": 49,
    "start_time": "2022-05-25T13:06:28.992Z"
   },
   {
    "duration": 17,
    "start_time": "2022-05-25T13:06:29.295Z"
   },
   {
    "duration": 35,
    "start_time": "2022-05-25T13:06:30.240Z"
   },
   {
    "duration": 5,
    "start_time": "2022-05-25T13:06:31.098Z"
   },
   {
    "duration": 7,
    "start_time": "2022-05-25T13:06:31.280Z"
   },
   {
    "duration": 5,
    "start_time": "2022-05-25T13:06:31.446Z"
   },
   {
    "duration": 5,
    "start_time": "2022-05-25T13:06:31.598Z"
   },
   {
    "duration": 6,
    "start_time": "2022-05-25T13:06:32.148Z"
   },
   {
    "duration": 7,
    "start_time": "2022-05-25T13:06:33.036Z"
   },
   {
    "duration": 6,
    "start_time": "2022-05-25T13:06:33.299Z"
   },
   {
    "duration": 7,
    "start_time": "2022-05-25T13:06:34.229Z"
   },
   {
    "duration": 5,
    "start_time": "2022-05-25T13:06:34.991Z"
   },
   {
    "duration": 6,
    "start_time": "2022-05-25T13:12:06.095Z"
   },
   {
    "duration": 7,
    "start_time": "2022-05-25T13:12:07.532Z"
   },
   {
    "duration": 5,
    "start_time": "2022-05-25T13:12:09.183Z"
   },
   {
    "duration": 6,
    "start_time": "2022-05-25T13:12:09.665Z"
   },
   {
    "duration": 4,
    "start_time": "2022-05-25T13:13:32.793Z"
   },
   {
    "duration": 5,
    "start_time": "2022-05-25T13:13:33.047Z"
   },
   {
    "duration": 6,
    "start_time": "2022-05-25T13:13:33.919Z"
   },
   {
    "duration": 7,
    "start_time": "2022-05-25T13:13:34.239Z"
   },
   {
    "duration": 7,
    "start_time": "2022-05-25T13:13:34.839Z"
   },
   {
    "duration": 4,
    "start_time": "2022-05-25T13:13:38.594Z"
   },
   {
    "duration": 4,
    "start_time": "2022-05-25T13:13:38.993Z"
   },
   {
    "duration": 15,
    "start_time": "2022-05-25T13:13:39.573Z"
   },
   {
    "duration": 11,
    "start_time": "2022-05-25T13:13:51.184Z"
   },
   {
    "duration": 14,
    "start_time": "2022-05-25T13:13:55.318Z"
   },
   {
    "duration": 65,
    "start_time": "2022-05-25T17:50:42.513Z"
   },
   {
    "duration": 503,
    "start_time": "2022-05-25T17:50:51.439Z"
   },
   {
    "duration": 178,
    "start_time": "2022-05-25T17:50:51.944Z"
   },
   {
    "duration": 57,
    "start_time": "2022-05-25T17:50:52.124Z"
   },
   {
    "duration": 17,
    "start_time": "2022-05-25T17:50:52.183Z"
   },
   {
    "duration": 23,
    "start_time": "2022-05-25T17:50:52.785Z"
   },
   {
    "duration": 4,
    "start_time": "2022-05-25T17:50:53.661Z"
   },
   {
    "duration": 6,
    "start_time": "2022-05-25T17:50:53.885Z"
   },
   {
    "duration": 5,
    "start_time": "2022-05-25T17:50:54.024Z"
   },
   {
    "duration": 7,
    "start_time": "2022-05-25T17:50:54.140Z"
   },
   {
    "duration": 5,
    "start_time": "2022-05-25T17:50:54.631Z"
   },
   {
    "duration": 6,
    "start_time": "2022-05-25T17:50:56.520Z"
   },
   {
    "duration": 5,
    "start_time": "2022-05-25T17:50:56.682Z"
   },
   {
    "duration": 7,
    "start_time": "2022-05-25T17:50:57.001Z"
   },
   {
    "duration": 8,
    "start_time": "2022-05-25T17:50:57.137Z"
   },
   {
    "duration": 7,
    "start_time": "2022-05-25T17:50:58.417Z"
   },
   {
    "duration": 6,
    "start_time": "2022-05-25T17:50:58.554Z"
   },
   {
    "duration": 5,
    "start_time": "2022-05-25T17:50:58.928Z"
   },
   {
    "duration": 5,
    "start_time": "2022-05-25T17:50:59.067Z"
   },
   {
    "duration": 4,
    "start_time": "2022-05-25T17:50:59.734Z"
   },
   {
    "duration": 5,
    "start_time": "2022-05-25T17:50:59.897Z"
   },
   {
    "duration": 7,
    "start_time": "2022-05-25T17:51:00.458Z"
   },
   {
    "duration": 6,
    "start_time": "2022-05-25T17:51:00.617Z"
   },
   {
    "duration": 7,
    "start_time": "2022-05-25T17:51:00.914Z"
   },
   {
    "duration": 4,
    "start_time": "2022-05-25T17:51:01.358Z"
   },
   {
    "duration": 5,
    "start_time": "2022-05-25T17:51:01.600Z"
   },
   {
    "duration": 18,
    "start_time": "2022-05-25T17:51:02.271Z"
   },
   {
    "duration": 18,
    "start_time": "2022-05-25T17:51:02.942Z"
   },
   {
    "duration": 14,
    "start_time": "2022-05-25T17:51:03.487Z"
   },
   {
    "duration": 8,
    "start_time": "2022-05-25T17:51:05.286Z"
   },
   {
    "duration": 27,
    "start_time": "2022-05-25T17:51:05.592Z"
   },
   {
    "duration": 13,
    "start_time": "2022-05-25T17:51:05.825Z"
   },
   {
    "duration": 4,
    "start_time": "2022-05-25T17:51:06.154Z"
   },
   {
    "duration": 251,
    "start_time": "2022-05-25T17:51:06.385Z"
   },
   {
    "duration": 7,
    "start_time": "2022-05-25T17:51:06.664Z"
   },
   {
    "duration": 8,
    "start_time": "2022-05-25T17:51:06.860Z"
   },
   {
    "duration": 34,
    "start_time": "2022-05-25T17:51:07.028Z"
   },
   {
    "duration": 793,
    "start_time": "2022-05-25T17:51:08.401Z"
   },
   {
    "duration": 298,
    "start_time": "2022-05-25T17:51:09.196Z"
   },
   {
    "duration": 261,
    "start_time": "2022-05-25T17:51:09.495Z"
   },
   {
    "duration": 209,
    "start_time": "2022-05-25T17:51:09.759Z"
   },
   {
    "duration": 203,
    "start_time": "2022-05-25T17:51:09.969Z"
   },
   {
    "duration": 390,
    "start_time": "2022-05-25T17:51:10.617Z"
   },
   {
    "duration": 178,
    "start_time": "2022-05-25T17:51:11.418Z"
   },
   {
    "duration": 156,
    "start_time": "2022-05-25T17:51:11.728Z"
   },
   {
    "duration": 11,
    "start_time": "2022-05-25T17:51:12.809Z"
   },
   {
    "duration": 33,
    "start_time": "2022-05-25T17:51:16.585Z"
   },
   {
    "duration": 16,
    "start_time": "2022-05-25T17:51:18.510Z"
   },
   {
    "duration": 4,
    "start_time": "2022-05-25T17:54:21.056Z"
   },
   {
    "duration": 94,
    "start_time": "2022-05-25T17:54:21.657Z"
   },
   {
    "duration": 45,
    "start_time": "2022-05-25T17:54:21.806Z"
   },
   {
    "duration": 15,
    "start_time": "2022-05-25T17:54:21.988Z"
   },
   {
    "duration": 31,
    "start_time": "2022-05-25T17:54:22.841Z"
   },
   {
    "duration": 5,
    "start_time": "2022-05-25T17:54:23.569Z"
   },
   {
    "duration": 11,
    "start_time": "2022-05-25T17:54:23.753Z"
   },
   {
    "duration": 4,
    "start_time": "2022-05-25T17:54:23.904Z"
   },
   {
    "duration": 6,
    "start_time": "2022-05-25T17:54:24.089Z"
   },
   {
    "duration": 7,
    "start_time": "2022-05-25T17:54:24.664Z"
   },
   {
    "duration": 7,
    "start_time": "2022-05-25T17:54:25.259Z"
   },
   {
    "duration": 5,
    "start_time": "2022-05-25T17:54:25.420Z"
   },
   {
    "duration": 5,
    "start_time": "2022-05-25T17:54:25.708Z"
   },
   {
    "duration": 6,
    "start_time": "2022-05-25T17:54:25.856Z"
   },
   {
    "duration": 7,
    "start_time": "2022-05-25T17:54:26.457Z"
   },
   {
    "duration": 5,
    "start_time": "2022-05-25T17:54:26.632Z"
   },
   {
    "duration": 5,
    "start_time": "2022-05-25T17:54:27.132Z"
   },
   {
    "duration": 5,
    "start_time": "2022-05-25T17:54:27.284Z"
   },
   {
    "duration": 4,
    "start_time": "2022-05-25T17:54:27.922Z"
   },
   {
    "duration": 6,
    "start_time": "2022-05-25T17:54:28.077Z"
   },
   {
    "duration": 7,
    "start_time": "2022-05-25T17:54:28.698Z"
   },
   {
    "duration": 6,
    "start_time": "2022-05-25T17:54:28.857Z"
   },
   {
    "duration": 7,
    "start_time": "2022-05-25T17:54:29.138Z"
   },
   {
    "duration": 5,
    "start_time": "2022-05-25T17:54:29.457Z"
   },
   {
    "duration": 5,
    "start_time": "2022-05-25T17:54:29.603Z"
   },
   {
    "duration": 15,
    "start_time": "2022-05-25T17:54:30.105Z"
   },
   {
    "duration": 9,
    "start_time": "2022-05-25T17:54:30.628Z"
   },
   {
    "duration": 26,
    "start_time": "2022-05-25T17:54:31.129Z"
   },
   {
    "duration": 8,
    "start_time": "2022-05-25T17:54:32.256Z"
   },
   {
    "duration": 30,
    "start_time": "2022-05-25T17:54:32.430Z"
   },
   {
    "duration": 13,
    "start_time": "2022-05-25T17:54:32.577Z"
   },
   {
    "duration": 5,
    "start_time": "2022-05-25T17:54:32.750Z"
   },
   {
    "duration": 289,
    "start_time": "2022-05-25T17:54:32.924Z"
   },
   {
    "duration": 9,
    "start_time": "2022-05-25T17:54:33.216Z"
   },
   {
    "duration": 7,
    "start_time": "2022-05-25T17:54:33.264Z"
   },
   {
    "duration": 37,
    "start_time": "2022-05-25T17:54:33.431Z"
   },
   {
    "duration": 257,
    "start_time": "2022-05-25T17:54:34.586Z"
   },
   {
    "duration": 246,
    "start_time": "2022-05-25T17:54:34.848Z"
   },
   {
    "duration": 249,
    "start_time": "2022-05-25T17:54:35.097Z"
   },
   {
    "duration": 171,
    "start_time": "2022-05-25T17:54:35.350Z"
   },
   {
    "duration": 283,
    "start_time": "2022-05-25T17:54:35.523Z"
   },
   {
    "duration": 258,
    "start_time": "2022-05-25T17:54:35.865Z"
   },
   {
    "duration": 150,
    "start_time": "2022-05-25T17:54:36.517Z"
   },
   {
    "duration": 170,
    "start_time": "2022-05-25T17:54:36.900Z"
   },
   {
    "duration": 13,
    "start_time": "2022-05-25T17:54:37.099Z"
   },
   {
    "duration": 35,
    "start_time": "2022-05-25T17:54:40.701Z"
   },
   {
    "duration": 16,
    "start_time": "2022-05-25T17:54:41.866Z"
   },
   {
    "duration": 3,
    "start_time": "2022-05-25T17:57:59.120Z"
   },
   {
    "duration": 104,
    "start_time": "2022-05-25T17:57:59.708Z"
   },
   {
    "duration": 48,
    "start_time": "2022-05-25T17:57:59.884Z"
   },
   {
    "duration": 17,
    "start_time": "2022-05-25T17:58:00.040Z"
   },
   {
    "duration": 26,
    "start_time": "2022-05-25T17:58:00.858Z"
   },
   {
    "duration": 6,
    "start_time": "2022-05-25T17:58:01.624Z"
   },
   {
    "duration": 8,
    "start_time": "2022-05-25T17:58:01.784Z"
   },
   {
    "duration": 6,
    "start_time": "2022-05-25T17:58:01.966Z"
   },
   {
    "duration": 6,
    "start_time": "2022-05-25T17:58:02.119Z"
   },
   {
    "duration": 6,
    "start_time": "2022-05-25T17:58:02.567Z"
   },
   {
    "duration": 8,
    "start_time": "2022-05-25T17:58:03.156Z"
   },
   {
    "duration": 6,
    "start_time": "2022-05-25T17:58:03.329Z"
   },
   {
    "duration": 5,
    "start_time": "2022-05-25T17:58:03.648Z"
   },
   {
    "duration": 5,
    "start_time": "2022-05-25T17:58:03.797Z"
   },
   {
    "duration": 6,
    "start_time": "2022-05-25T17:58:04.494Z"
   },
   {
    "duration": 4,
    "start_time": "2022-05-25T17:58:04.629Z"
   },
   {
    "duration": 5,
    "start_time": "2022-05-25T17:58:05.057Z"
   },
   {
    "duration": 5,
    "start_time": "2022-05-25T17:58:05.225Z"
   },
   {
    "duration": 3,
    "start_time": "2022-05-25T17:58:05.884Z"
   },
   {
    "duration": 5,
    "start_time": "2022-05-25T17:58:06.042Z"
   },
   {
    "duration": 7,
    "start_time": "2022-05-25T17:58:06.695Z"
   },
   {
    "duration": 8,
    "start_time": "2022-05-25T17:58:06.881Z"
   },
   {
    "duration": 6,
    "start_time": "2022-05-25T17:58:07.287Z"
   },
   {
    "duration": 4,
    "start_time": "2022-05-25T17:58:07.679Z"
   },
   {
    "duration": 5,
    "start_time": "2022-05-25T17:58:07.884Z"
   },
   {
    "duration": 14,
    "start_time": "2022-05-25T17:58:08.498Z"
   },
   {
    "duration": 10,
    "start_time": "2022-05-25T17:58:09.113Z"
   },
   {
    "duration": 15,
    "start_time": "2022-05-25T17:58:10.917Z"
   },
   {
    "duration": 9,
    "start_time": "2022-05-25T17:58:12.023Z"
   },
   {
    "duration": 27,
    "start_time": "2022-05-25T17:58:12.167Z"
   },
   {
    "duration": 12,
    "start_time": "2022-05-25T17:58:12.345Z"
   },
   {
    "duration": 3,
    "start_time": "2022-05-25T17:58:12.484Z"
   },
   {
    "duration": 231,
    "start_time": "2022-05-25T17:58:12.597Z"
   },
   {
    "duration": 11,
    "start_time": "2022-05-25T17:58:12.830Z"
   },
   {
    "duration": 6,
    "start_time": "2022-05-25T17:58:12.901Z"
   },
   {
    "duration": 26,
    "start_time": "2022-05-25T17:58:13.083Z"
   },
   {
    "duration": 258,
    "start_time": "2022-05-25T17:58:14.085Z"
   },
   {
    "duration": 262,
    "start_time": "2022-05-25T17:58:14.345Z"
   },
   {
    "duration": 256,
    "start_time": "2022-05-25T17:58:14.609Z"
   },
   {
    "duration": 299,
    "start_time": "2022-05-25T17:58:14.867Z"
   },
   {
    "duration": 199,
    "start_time": "2022-05-25T17:58:15.168Z"
   },
   {
    "duration": 272,
    "start_time": "2022-05-25T17:58:15.369Z"
   },
   {
    "duration": 157,
    "start_time": "2022-05-25T17:58:15.643Z"
   },
   {
    "duration": 150,
    "start_time": "2022-05-25T17:58:15.802Z"
   },
   {
    "duration": 9,
    "start_time": "2022-05-25T17:58:15.955Z"
   },
   {
    "duration": 36,
    "start_time": "2022-05-25T17:58:18.237Z"
   },
   {
    "duration": 15,
    "start_time": "2022-05-25T17:58:20.040Z"
   },
   {
    "duration": 2,
    "start_time": "2022-05-25T17:59:20.523Z"
   },
   {
    "duration": 95,
    "start_time": "2022-05-25T17:59:21.039Z"
   },
   {
    "duration": 39,
    "start_time": "2022-05-25T17:59:21.234Z"
   },
   {
    "duration": 16,
    "start_time": "2022-05-25T17:59:21.468Z"
   },
   {
    "duration": 23,
    "start_time": "2022-05-25T17:59:22.353Z"
   },
   {
    "duration": 5,
    "start_time": "2022-05-25T17:59:23.237Z"
   },
   {
    "duration": 7,
    "start_time": "2022-05-25T17:59:23.401Z"
   },
   {
    "duration": 5,
    "start_time": "2022-05-25T17:59:23.584Z"
   },
   {
    "duration": 6,
    "start_time": "2022-05-25T17:59:23.742Z"
   },
   {
    "duration": 7,
    "start_time": "2022-05-25T17:59:24.235Z"
   },
   {
    "duration": 8,
    "start_time": "2022-05-25T17:59:24.850Z"
   },
   {
    "duration": 5,
    "start_time": "2022-05-25T17:59:24.987Z"
   },
   {
    "duration": 5,
    "start_time": "2022-05-25T17:59:25.369Z"
   },
   {
    "duration": 5,
    "start_time": "2022-05-25T17:59:25.543Z"
   },
   {
    "duration": 6,
    "start_time": "2022-05-25T17:59:26.205Z"
   },
   {
    "duration": 5,
    "start_time": "2022-05-25T17:59:26.384Z"
   },
   {
    "duration": 7,
    "start_time": "2022-05-25T17:59:26.887Z"
   },
   {
    "duration": 6,
    "start_time": "2022-05-25T17:59:27.040Z"
   },
   {
    "duration": 4,
    "start_time": "2022-05-25T17:59:27.686Z"
   },
   {
    "duration": 4,
    "start_time": "2022-05-25T17:59:27.846Z"
   },
   {
    "duration": 6,
    "start_time": "2022-05-25T17:59:28.494Z"
   },
   {
    "duration": 6,
    "start_time": "2022-05-25T17:59:28.688Z"
   },
   {
    "duration": 5,
    "start_time": "2022-05-25T17:59:29.083Z"
   },
   {
    "duration": 4,
    "start_time": "2022-05-25T17:59:29.462Z"
   },
   {
    "duration": 4,
    "start_time": "2022-05-25T17:59:29.661Z"
   },
   {
    "duration": 14,
    "start_time": "2022-05-25T17:59:30.213Z"
   },
   {
    "duration": 12,
    "start_time": "2022-05-25T17:59:30.726Z"
   },
   {
    "duration": 14,
    "start_time": "2022-05-25T17:59:31.257Z"
   },
   {
    "duration": 8,
    "start_time": "2022-05-25T17:59:32.922Z"
   },
   {
    "duration": 29,
    "start_time": "2022-05-25T17:59:33.115Z"
   },
   {
    "duration": 13,
    "start_time": "2022-05-25T17:59:33.338Z"
   },
   {
    "duration": 3,
    "start_time": "2022-05-25T17:59:33.521Z"
   },
   {
    "duration": 244,
    "start_time": "2022-05-25T17:59:33.728Z"
   },
   {
    "duration": 7,
    "start_time": "2022-05-25T17:59:33.974Z"
   },
   {
    "duration": 7,
    "start_time": "2022-05-25T17:59:34.141Z"
   },
   {
    "duration": 25,
    "start_time": "2022-05-25T17:59:34.324Z"
   },
   {
    "duration": 251,
    "start_time": "2022-05-25T17:59:35.422Z"
   },
   {
    "duration": 285,
    "start_time": "2022-05-25T17:59:35.675Z"
   },
   {
    "duration": 252,
    "start_time": "2022-05-25T17:59:35.962Z"
   },
   {
    "duration": 286,
    "start_time": "2022-05-25T17:59:36.216Z"
   },
   {
    "duration": 187,
    "start_time": "2022-05-25T17:59:36.504Z"
   },
   {
    "duration": 318,
    "start_time": "2022-05-25T17:59:36.693Z"
   },
   {
    "duration": 210,
    "start_time": "2022-05-25T17:59:37.013Z"
   },
   {
    "duration": 139,
    "start_time": "2022-05-25T17:59:37.319Z"
   },
   {
    "duration": 10,
    "start_time": "2022-05-25T17:59:37.529Z"
   },
   {
    "duration": 37,
    "start_time": "2022-05-25T17:59:42.185Z"
   },
   {
    "duration": 15,
    "start_time": "2022-05-25T17:59:43.463Z"
   },
   {
    "duration": 2,
    "start_time": "2022-05-25T18:00:49.198Z"
   },
   {
    "duration": 89,
    "start_time": "2022-05-25T18:00:49.403Z"
   },
   {
    "duration": 41,
    "start_time": "2022-05-25T18:00:49.587Z"
   },
   {
    "duration": 15,
    "start_time": "2022-05-25T18:00:49.751Z"
   },
   {
    "duration": 21,
    "start_time": "2022-05-25T18:00:50.517Z"
   },
   {
    "duration": 5,
    "start_time": "2022-05-25T18:00:51.049Z"
   },
   {
    "duration": 7,
    "start_time": "2022-05-25T18:00:51.168Z"
   },
   {
    "duration": 5,
    "start_time": "2022-05-25T18:00:51.296Z"
   },
   {
    "duration": 5,
    "start_time": "2022-05-25T18:00:51.397Z"
   },
   {
    "duration": 6,
    "start_time": "2022-05-25T18:00:51.911Z"
   },
   {
    "duration": 12,
    "start_time": "2022-05-25T18:00:52.397Z"
   },
   {
    "duration": 5,
    "start_time": "2022-05-25T18:00:52.517Z"
   },
   {
    "duration": 4,
    "start_time": "2022-05-25T18:00:52.748Z"
   },
   {
    "duration": 5,
    "start_time": "2022-05-25T18:00:52.883Z"
   },
   {
    "duration": 6,
    "start_time": "2022-05-25T18:00:53.328Z"
   },
   {
    "duration": 5,
    "start_time": "2022-05-25T18:00:53.483Z"
   },
   {
    "duration": 4,
    "start_time": "2022-05-25T18:00:53.910Z"
   },
   {
    "duration": 6,
    "start_time": "2022-05-25T18:00:54.058Z"
   },
   {
    "duration": 4,
    "start_time": "2022-05-25T18:00:54.627Z"
   },
   {
    "duration": 5,
    "start_time": "2022-05-25T18:00:54.758Z"
   },
   {
    "duration": 7,
    "start_time": "2022-05-25T18:00:55.383Z"
   },
   {
    "duration": 7,
    "start_time": "2022-05-25T18:00:55.585Z"
   },
   {
    "duration": 7,
    "start_time": "2022-05-25T18:00:55.886Z"
   },
   {
    "duration": 3,
    "start_time": "2022-05-25T18:00:56.235Z"
   },
   {
    "duration": 4,
    "start_time": "2022-05-25T18:00:56.592Z"
   },
   {
    "duration": 13,
    "start_time": "2022-05-25T18:00:57.222Z"
   },
   {
    "duration": 10,
    "start_time": "2022-05-25T18:00:57.989Z"
   },
   {
    "duration": 18,
    "start_time": "2022-05-25T18:00:58.591Z"
   },
   {
    "duration": 13,
    "start_time": "2022-05-25T18:00:59.646Z"
   },
   {
    "duration": 30,
    "start_time": "2022-05-25T18:00:59.839Z"
   },
   {
    "duration": 13,
    "start_time": "2022-05-25T18:01:00.021Z"
   },
   {
    "duration": 3,
    "start_time": "2022-05-25T18:01:00.247Z"
   },
   {
    "duration": 245,
    "start_time": "2022-05-25T18:01:00.437Z"
   },
   {
    "duration": 8,
    "start_time": "2022-05-25T18:01:00.684Z"
   },
   {
    "duration": 6,
    "start_time": "2022-05-25T18:01:00.890Z"
   },
   {
    "duration": 25,
    "start_time": "2022-05-25T18:01:01.108Z"
   },
   {
    "duration": 245,
    "start_time": "2022-05-25T18:01:02.227Z"
   },
   {
    "duration": 253,
    "start_time": "2022-05-25T18:01:02.474Z"
   },
   {
    "duration": 233,
    "start_time": "2022-05-25T18:01:23.387Z"
   },
   {
    "duration": 160,
    "start_time": "2022-05-25T18:01:23.622Z"
   },
   {
    "duration": 186,
    "start_time": "2022-05-25T18:01:23.785Z"
   },
   {
    "duration": 416,
    "start_time": "2022-05-25T18:01:24.138Z"
   },
   {
    "duration": 161,
    "start_time": "2022-05-25T18:01:24.555Z"
   },
   {
    "duration": 225,
    "start_time": "2022-05-25T18:01:24.718Z"
   },
   {
    "duration": 13,
    "start_time": "2022-05-25T18:01:24.948Z"
   },
   {
    "duration": 36,
    "start_time": "2022-05-25T18:01:27.437Z"
   },
   {
    "duration": 14,
    "start_time": "2022-05-25T18:01:29.001Z"
   },
   {
    "duration": 3,
    "start_time": "2022-05-25T18:02:28.558Z"
   },
   {
    "duration": 86,
    "start_time": "2022-05-25T18:02:28.733Z"
   },
   {
    "duration": 37,
    "start_time": "2022-05-25T18:02:28.896Z"
   },
   {
    "duration": 15,
    "start_time": "2022-05-25T18:02:29.051Z"
   },
   {
    "duration": 27,
    "start_time": "2022-05-25T18:02:29.792Z"
   },
   {
    "duration": 5,
    "start_time": "2022-05-25T18:02:30.524Z"
   },
   {
    "duration": 6,
    "start_time": "2022-05-25T18:02:30.684Z"
   },
   {
    "duration": 4,
    "start_time": "2022-05-25T18:02:30.762Z"
   },
   {
    "duration": 5,
    "start_time": "2022-05-25T18:02:30.912Z"
   },
   {
    "duration": 6,
    "start_time": "2022-05-25T18:02:31.291Z"
   },
   {
    "duration": 9,
    "start_time": "2022-05-25T18:02:31.783Z"
   },
   {
    "duration": 6,
    "start_time": "2022-05-25T18:02:31.892Z"
   },
   {
    "duration": 5,
    "start_time": "2022-05-25T18:02:32.106Z"
   },
   {
    "duration": 5,
    "start_time": "2022-05-25T18:02:32.217Z"
   },
   {
    "duration": 6,
    "start_time": "2022-05-25T18:02:32.754Z"
   },
   {
    "duration": 5,
    "start_time": "2022-05-25T18:02:32.865Z"
   },
   {
    "duration": 5,
    "start_time": "2022-05-25T18:02:33.187Z"
   },
   {
    "duration": 5,
    "start_time": "2022-05-25T18:02:33.383Z"
   },
   {
    "duration": 4,
    "start_time": "2022-05-25T18:02:34.565Z"
   },
   {
    "duration": 5,
    "start_time": "2022-05-25T18:02:34.990Z"
   },
   {
    "duration": 6,
    "start_time": "2022-05-25T18:02:35.495Z"
   },
   {
    "duration": 7,
    "start_time": "2022-05-25T18:02:35.723Z"
   },
   {
    "duration": 6,
    "start_time": "2022-05-25T18:02:36.018Z"
   },
   {
    "duration": 3,
    "start_time": "2022-05-25T18:02:36.217Z"
   },
   {
    "duration": 4,
    "start_time": "2022-05-25T18:02:36.406Z"
   },
   {
    "duration": 21,
    "start_time": "2022-05-25T18:02:36.937Z"
   },
   {
    "duration": 13,
    "start_time": "2022-05-25T18:02:37.438Z"
   },
   {
    "duration": 15,
    "start_time": "2022-05-25T18:02:38.255Z"
   },
   {
    "duration": 9,
    "start_time": "2022-05-25T18:02:39.621Z"
   },
   {
    "duration": 28,
    "start_time": "2022-05-25T18:02:39.768Z"
   },
   {
    "duration": 13,
    "start_time": "2022-05-25T18:02:40.045Z"
   },
   {
    "duration": 4,
    "start_time": "2022-05-25T18:02:40.285Z"
   },
   {
    "duration": 251,
    "start_time": "2022-05-25T18:02:40.418Z"
   },
   {
    "duration": 8,
    "start_time": "2022-05-25T18:02:40.672Z"
   },
   {
    "duration": 7,
    "start_time": "2022-05-25T18:02:40.699Z"
   },
   {
    "duration": 26,
    "start_time": "2022-05-25T18:02:40.817Z"
   },
   {
    "duration": 249,
    "start_time": "2022-05-25T18:02:42.625Z"
   },
   {
    "duration": 267,
    "start_time": "2022-05-25T18:02:42.876Z"
   },
   {
    "duration": 245,
    "start_time": "2022-05-25T18:02:43.146Z"
   },
   {
    "duration": 159,
    "start_time": "2022-05-25T18:02:43.393Z"
   },
   {
    "duration": 182,
    "start_time": "2022-05-25T18:02:43.554Z"
   },
   {
    "duration": 251,
    "start_time": "2022-05-25T18:02:43.937Z"
   },
   {
    "duration": 143,
    "start_time": "2022-05-25T18:02:44.461Z"
   },
   {
    "duration": 143,
    "start_time": "2022-05-25T18:02:44.633Z"
   },
   {
    "duration": 9,
    "start_time": "2022-05-25T18:02:44.778Z"
   },
   {
    "duration": 36,
    "start_time": "2022-05-25T18:02:46.106Z"
   },
   {
    "duration": 19,
    "start_time": "2022-05-25T18:02:49.115Z"
   },
   {
    "duration": 2,
    "start_time": "2022-05-25T18:03:43.836Z"
   },
   {
    "duration": 98,
    "start_time": "2022-05-25T18:03:43.994Z"
   },
   {
    "duration": 43,
    "start_time": "2022-05-25T18:03:44.167Z"
   },
   {
    "duration": 16,
    "start_time": "2022-05-25T18:03:44.334Z"
   },
   {
    "duration": 20,
    "start_time": "2022-05-25T18:03:45.246Z"
   },
   {
    "duration": 5,
    "start_time": "2022-05-25T18:03:45.837Z"
   },
   {
    "duration": 6,
    "start_time": "2022-05-25T18:03:45.960Z"
   },
   {
    "duration": 5,
    "start_time": "2022-05-25T18:03:46.087Z"
   },
   {
    "duration": 5,
    "start_time": "2022-05-25T18:03:46.215Z"
   },
   {
    "duration": 7,
    "start_time": "2022-05-25T18:03:46.501Z"
   },
   {
    "duration": 9,
    "start_time": "2022-05-25T18:03:48.049Z"
   },
   {
    "duration": 6,
    "start_time": "2022-05-25T18:03:48.287Z"
   },
   {
    "duration": 6,
    "start_time": "2022-05-25T18:03:48.526Z"
   },
   {
    "duration": 6,
    "start_time": "2022-05-25T18:03:48.663Z"
   },
   {
    "duration": 7,
    "start_time": "2022-05-25T18:03:49.084Z"
   },
   {
    "duration": 5,
    "start_time": "2022-05-25T18:03:49.187Z"
   },
   {
    "duration": 5,
    "start_time": "2022-05-25T18:03:49.524Z"
   },
   {
    "duration": 6,
    "start_time": "2022-05-25T18:03:50.197Z"
   },
   {
    "duration": 4,
    "start_time": "2022-05-25T18:03:50.814Z"
   },
   {
    "duration": 5,
    "start_time": "2022-05-25T18:03:50.957Z"
   },
   {
    "duration": 7,
    "start_time": "2022-05-25T18:03:51.453Z"
   },
   {
    "duration": 6,
    "start_time": "2022-05-25T18:03:51.598Z"
   },
   {
    "duration": 6,
    "start_time": "2022-05-25T18:03:51.807Z"
   },
   {
    "duration": 4,
    "start_time": "2022-05-25T18:03:52.083Z"
   },
   {
    "duration": 5,
    "start_time": "2022-05-25T18:03:52.177Z"
   },
   {
    "duration": 13,
    "start_time": "2022-05-25T18:03:52.687Z"
   },
   {
    "duration": 9,
    "start_time": "2022-05-25T18:03:53.027Z"
   },
   {
    "duration": 14,
    "start_time": "2022-05-25T18:03:53.466Z"
   },
   {
    "duration": 8,
    "start_time": "2022-05-25T18:03:54.491Z"
   },
   {
    "duration": 27,
    "start_time": "2022-05-25T18:03:55.059Z"
   },
   {
    "duration": 13,
    "start_time": "2022-05-25T18:03:55.216Z"
   },
   {
    "duration": 3,
    "start_time": "2022-05-25T18:03:55.470Z"
   },
   {
    "duration": 233,
    "start_time": "2022-05-25T18:03:55.717Z"
   },
   {
    "duration": 7,
    "start_time": "2022-05-25T18:03:55.952Z"
   },
   {
    "duration": 5,
    "start_time": "2022-05-25T18:03:56.125Z"
   },
   {
    "duration": 32,
    "start_time": "2022-05-25T18:03:56.286Z"
   },
   {
    "duration": 408,
    "start_time": "2022-05-25T18:03:57.894Z"
   },
   {
    "duration": 249,
    "start_time": "2022-05-25T18:03:58.304Z"
   },
   {
    "duration": 256,
    "start_time": "2022-05-25T18:03:58.555Z"
   },
   {
    "duration": 159,
    "start_time": "2022-05-25T18:03:58.812Z"
   },
   {
    "duration": 199,
    "start_time": "2022-05-25T18:03:58.973Z"
   },
   {
    "duration": 260,
    "start_time": "2022-05-25T18:03:59.174Z"
   },
   {
    "duration": 147,
    "start_time": "2022-05-25T18:03:59.441Z"
   },
   {
    "duration": 157,
    "start_time": "2022-05-25T18:03:59.589Z"
   },
   {
    "duration": 10,
    "start_time": "2022-05-25T18:03:59.748Z"
   },
   {
    "duration": 46,
    "start_time": "2022-05-25T18:04:01.179Z"
   },
   {
    "duration": 20,
    "start_time": "2022-05-25T18:04:01.532Z"
   },
   {
    "duration": 3,
    "start_time": "2022-05-25T18:05:23.532Z"
   },
   {
    "duration": 88,
    "start_time": "2022-05-25T18:05:23.713Z"
   },
   {
    "duration": 54,
    "start_time": "2022-05-25T18:05:23.883Z"
   },
   {
    "duration": 21,
    "start_time": "2022-05-25T18:05:24.012Z"
   },
   {
    "duration": 30,
    "start_time": "2022-05-25T18:05:24.745Z"
   },
   {
    "duration": 6,
    "start_time": "2022-05-25T18:05:25.611Z"
   },
   {
    "duration": 7,
    "start_time": "2022-05-25T18:05:25.767Z"
   },
   {
    "duration": 6,
    "start_time": "2022-05-25T18:05:25.918Z"
   },
   {
    "duration": 6,
    "start_time": "2022-05-25T18:05:26.053Z"
   },
   {
    "duration": 6,
    "start_time": "2022-05-25T18:05:26.466Z"
   },
   {
    "duration": 7,
    "start_time": "2022-05-25T18:05:28.607Z"
   },
   {
    "duration": 6,
    "start_time": "2022-05-25T18:05:28.742Z"
   },
   {
    "duration": 7,
    "start_time": "2022-05-25T18:05:29.129Z"
   },
   {
    "duration": 6,
    "start_time": "2022-05-25T18:05:29.276Z"
   },
   {
    "duration": 6,
    "start_time": "2022-05-25T18:05:29.759Z"
   },
   {
    "duration": 6,
    "start_time": "2022-05-25T18:05:29.903Z"
   },
   {
    "duration": 5,
    "start_time": "2022-05-25T18:05:30.369Z"
   },
   {
    "duration": 6,
    "start_time": "2022-05-25T18:05:30.482Z"
   },
   {
    "duration": 4,
    "start_time": "2022-05-25T18:05:30.938Z"
   },
   {
    "duration": 5,
    "start_time": "2022-05-25T18:05:31.045Z"
   },
   {
    "duration": 8,
    "start_time": "2022-05-25T18:05:31.947Z"
   },
   {
    "duration": 7,
    "start_time": "2022-05-25T18:05:32.091Z"
   },
   {
    "duration": 6,
    "start_time": "2022-05-25T18:05:32.344Z"
   },
   {
    "duration": 3,
    "start_time": "2022-05-25T18:05:32.585Z"
   },
   {
    "duration": 4,
    "start_time": "2022-05-25T18:05:32.709Z"
   },
   {
    "duration": 16,
    "start_time": "2022-05-25T18:05:33.044Z"
   },
   {
    "duration": 12,
    "start_time": "2022-05-25T18:05:33.366Z"
   },
   {
    "duration": 15,
    "start_time": "2022-05-25T18:05:33.856Z"
   },
   {
    "duration": 10,
    "start_time": "2022-05-25T18:05:35.054Z"
   },
   {
    "duration": 25,
    "start_time": "2022-05-25T18:05:35.291Z"
   },
   {
    "duration": 12,
    "start_time": "2022-05-25T18:05:35.783Z"
   },
   {
    "duration": 3,
    "start_time": "2022-05-25T18:05:35.940Z"
   },
   {
    "duration": 239,
    "start_time": "2022-05-25T18:05:36.070Z"
   },
   {
    "duration": 7,
    "start_time": "2022-05-25T18:05:36.311Z"
   },
   {
    "duration": 6,
    "start_time": "2022-05-25T18:05:36.488Z"
   },
   {
    "duration": 25,
    "start_time": "2022-05-25T18:05:36.635Z"
   },
   {
    "duration": 249,
    "start_time": "2022-05-25T18:05:37.855Z"
   },
   {
    "duration": 258,
    "start_time": "2022-05-25T18:05:38.106Z"
   },
   {
    "duration": 239,
    "start_time": "2022-05-25T18:05:38.366Z"
   },
   {
    "duration": 153,
    "start_time": "2022-05-25T18:05:38.629Z"
   },
   {
    "duration": 175,
    "start_time": "2022-05-25T18:05:38.799Z"
   },
   {
    "duration": 453,
    "start_time": "2022-05-25T18:05:39.392Z"
   },
   {
    "duration": 165,
    "start_time": "2022-05-25T18:05:39.939Z"
   },
   {
    "duration": 140,
    "start_time": "2022-05-25T18:05:40.331Z"
   },
   {
    "duration": 10,
    "start_time": "2022-05-25T18:05:40.913Z"
   },
   {
    "duration": 33,
    "start_time": "2022-05-25T18:05:47.783Z"
   },
   {
    "duration": 16,
    "start_time": "2022-05-25T18:05:50.369Z"
   },
   {
    "duration": 54,
    "start_time": "2022-05-26T07:32:23.230Z"
   },
   {
    "duration": 793,
    "start_time": "2022-05-26T07:33:42.411Z"
   },
   {
    "duration": 310,
    "start_time": "2022-05-26T07:33:43.206Z"
   },
   {
    "duration": 72,
    "start_time": "2022-05-26T07:33:44.368Z"
   },
   {
    "duration": 19,
    "start_time": "2022-05-26T07:33:44.579Z"
   },
   {
    "duration": 30,
    "start_time": "2022-05-26T07:33:45.659Z"
   },
   {
    "duration": 5,
    "start_time": "2022-05-26T07:33:46.332Z"
   },
   {
    "duration": 6,
    "start_time": "2022-05-26T07:33:46.462Z"
   },
   {
    "duration": 5,
    "start_time": "2022-05-26T07:33:46.577Z"
   },
   {
    "duration": 5,
    "start_time": "2022-05-26T07:33:46.812Z"
   },
   {
    "duration": 6,
    "start_time": "2022-05-26T07:33:47.188Z"
   },
   {
    "duration": 9,
    "start_time": "2022-05-26T07:33:47.650Z"
   },
   {
    "duration": 5,
    "start_time": "2022-05-26T07:33:47.875Z"
   },
   {
    "duration": 6,
    "start_time": "2022-05-26T07:33:48.267Z"
   },
   {
    "duration": 4,
    "start_time": "2022-05-26T07:33:48.404Z"
   },
   {
    "duration": 7,
    "start_time": "2022-05-26T07:33:49.042Z"
   },
   {
    "duration": 5,
    "start_time": "2022-05-26T07:33:49.161Z"
   },
   {
    "duration": 4,
    "start_time": "2022-05-26T07:33:49.547Z"
   },
   {
    "duration": 5,
    "start_time": "2022-05-26T07:33:49.673Z"
   },
   {
    "duration": 3,
    "start_time": "2022-05-26T07:33:50.187Z"
   },
   {
    "duration": 5,
    "start_time": "2022-05-26T07:33:50.347Z"
   },
   {
    "duration": 5,
    "start_time": "2022-05-26T07:33:51.411Z"
   },
   {
    "duration": 7,
    "start_time": "2022-05-26T07:33:51.539Z"
   },
   {
    "duration": 6,
    "start_time": "2022-05-26T07:33:51.811Z"
   },
   {
    "duration": 3,
    "start_time": "2022-05-26T07:33:52.091Z"
   },
   {
    "duration": 5,
    "start_time": "2022-05-26T07:33:52.253Z"
   },
   {
    "duration": 20,
    "start_time": "2022-05-26T07:33:52.716Z"
   },
   {
    "duration": 13,
    "start_time": "2022-05-26T07:33:53.085Z"
   },
   {
    "duration": 13,
    "start_time": "2022-05-26T07:33:53.529Z"
   },
   {
    "duration": 7,
    "start_time": "2022-05-26T07:33:54.611Z"
   },
   {
    "duration": 29,
    "start_time": "2022-05-26T07:33:54.747Z"
   },
   {
    "duration": 12,
    "start_time": "2022-05-26T07:33:54.900Z"
   },
   {
    "duration": 3,
    "start_time": "2022-05-26T07:33:55.042Z"
   },
   {
    "duration": 248,
    "start_time": "2022-05-26T07:33:55.210Z"
   },
   {
    "duration": 8,
    "start_time": "2022-05-26T07:33:55.460Z"
   },
   {
    "duration": 6,
    "start_time": "2022-05-26T07:33:56.004Z"
   },
   {
    "duration": 23,
    "start_time": "2022-05-26T07:33:56.146Z"
   },
   {
    "duration": 709,
    "start_time": "2022-05-26T07:33:57.173Z"
   },
   {
    "duration": 248,
    "start_time": "2022-05-26T07:33:57.884Z"
   },
   {
    "duration": 245,
    "start_time": "2022-05-26T07:33:58.134Z"
   },
   {
    "duration": 167,
    "start_time": "2022-05-26T07:33:58.381Z"
   },
   {
    "duration": 195,
    "start_time": "2022-05-26T07:33:58.549Z"
   },
   {
    "duration": 349,
    "start_time": "2022-05-26T07:33:58.746Z"
   },
   {
    "duration": 147,
    "start_time": "2022-05-26T07:33:59.194Z"
   },
   {
    "duration": 147,
    "start_time": "2022-05-26T07:33:59.343Z"
   },
   {
    "duration": 12,
    "start_time": "2022-05-26T07:33:59.506Z"
   },
   {
    "duration": 42,
    "start_time": "2022-05-26T07:34:00.850Z"
   },
   {
    "duration": 15,
    "start_time": "2022-05-26T07:34:01.466Z"
   },
   {
    "duration": 178,
    "start_time": "2022-05-26T07:34:03.731Z"
   },
   {
    "duration": 5,
    "start_time": "2022-05-26T07:34:03.938Z"
   },
   {
    "duration": 157,
    "start_time": "2022-05-26T07:34:04.283Z"
   },
   {
    "duration": 4,
    "start_time": "2022-05-26T07:34:04.488Z"
   },
   {
    "duration": 179,
    "start_time": "2022-05-26T07:34:04.760Z"
   },
   {
    "duration": 4,
    "start_time": "2022-05-26T07:34:04.941Z"
   },
   {
    "duration": 16,
    "start_time": "2022-05-26T07:34:05.212Z"
   },
   {
    "duration": 170,
    "start_time": "2022-05-26T07:34:05.547Z"
   },
   {
    "duration": 171,
    "start_time": "2022-05-26T07:34:05.875Z"
   },
   {
    "duration": 170,
    "start_time": "2022-05-26T07:34:06.069Z"
   },
   {
    "duration": 177,
    "start_time": "2022-05-26T07:34:06.486Z"
   },
   {
    "duration": 30,
    "start_time": "2022-05-26T07:35:42.414Z"
   },
   {
    "duration": 35,
    "start_time": "2022-05-26T07:49:31.656Z"
   },
   {
    "duration": 44,
    "start_time": "2022-05-26T07:53:34.625Z"
   },
   {
    "duration": 23,
    "start_time": "2022-05-26T07:53:45.885Z"
   },
   {
    "duration": 14,
    "start_time": "2022-05-26T07:53:47.044Z"
   },
   {
    "duration": 42,
    "start_time": "2022-05-26T07:53:47.709Z"
   },
   {
    "duration": 6,
    "start_time": "2022-05-26T07:53:48.219Z"
   },
   {
    "duration": 15,
    "start_time": "2022-05-26T07:53:48.938Z"
   },
   {
    "duration": 176,
    "start_time": "2022-05-26T07:54:10.021Z"
   },
   {
    "duration": 269,
    "start_time": "2022-05-26T07:54:24.791Z"
   },
   {
    "duration": 187,
    "start_time": "2022-05-26T07:54:30.418Z"
   },
   {
    "duration": 27,
    "start_time": "2022-05-26T08:08:23.427Z"
   },
   {
    "duration": 221,
    "start_time": "2022-05-26T08:08:28.253Z"
   },
   {
    "duration": 244,
    "start_time": "2022-05-26T08:08:29.465Z"
   },
   {
    "duration": 118,
    "start_time": "2022-05-26T08:08:30.394Z"
   },
   {
    "duration": 174,
    "start_time": "2022-05-26T08:08:30.514Z"
   },
   {
    "duration": 153,
    "start_time": "2022-05-26T08:08:30.951Z"
   },
   {
    "duration": 5,
    "start_time": "2022-05-26T08:08:31.196Z"
   },
   {
    "duration": 16,
    "start_time": "2022-05-26T08:08:31.662Z"
   },
   {
    "duration": 190,
    "start_time": "2022-05-26T08:08:32.054Z"
   },
   {
    "duration": 4,
    "start_time": "2022-05-26T08:08:32.248Z"
   },
   {
    "duration": 155,
    "start_time": "2022-05-26T08:08:32.670Z"
   },
   {
    "duration": 5,
    "start_time": "2022-05-26T08:08:32.875Z"
   },
   {
    "duration": 243,
    "start_time": "2022-05-26T08:08:33.092Z"
   },
   {
    "duration": 6,
    "start_time": "2022-05-26T08:08:33.336Z"
   },
   {
    "duration": 145,
    "start_time": "2022-05-26T08:08:33.525Z"
   },
   {
    "duration": 5,
    "start_time": "2022-05-26T08:08:33.744Z"
   },
   {
    "duration": 26,
    "start_time": "2022-05-26T08:12:36.520Z"
   },
   {
    "duration": 224,
    "start_time": "2022-05-26T08:12:39.411Z"
   },
   {
    "duration": 264,
    "start_time": "2022-05-26T08:12:39.637Z"
   },
   {
    "duration": 137,
    "start_time": "2022-05-26T08:12:39.904Z"
   },
   {
    "duration": 190,
    "start_time": "2022-05-26T08:12:40.043Z"
   },
   {
    "duration": 141,
    "start_time": "2022-05-26T08:12:40.319Z"
   },
   {
    "duration": 5,
    "start_time": "2022-05-26T08:12:40.466Z"
   },
   {
    "duration": 14,
    "start_time": "2022-05-26T08:12:40.797Z"
   },
   {
    "duration": 176,
    "start_time": "2022-05-26T08:12:41.108Z"
   },
   {
    "duration": 179,
    "start_time": "2022-05-26T08:12:41.444Z"
   },
   {
    "duration": 261,
    "start_time": "2022-05-26T08:12:41.626Z"
   },
   {
    "duration": 236,
    "start_time": "2022-05-26T08:12:41.889Z"
   },
   {
    "duration": 202,
    "start_time": "2022-05-26T08:13:28.486Z"
   },
   {
    "duration": 2,
    "start_time": "2022-05-26T08:35:33.401Z"
   },
   {
    "duration": 94,
    "start_time": "2022-05-26T08:35:33.918Z"
   },
   {
    "duration": 39,
    "start_time": "2022-05-26T08:35:34.061Z"
   },
   {
    "duration": 14,
    "start_time": "2022-05-26T08:35:34.204Z"
   },
   {
    "duration": 22,
    "start_time": "2022-05-26T08:35:34.876Z"
   },
   {
    "duration": 4,
    "start_time": "2022-05-26T08:35:35.502Z"
   },
   {
    "duration": 6,
    "start_time": "2022-05-26T08:35:35.614Z"
   },
   {
    "duration": 5,
    "start_time": "2022-05-26T08:35:35.742Z"
   },
   {
    "duration": 4,
    "start_time": "2022-05-26T08:35:35.852Z"
   },
   {
    "duration": 6,
    "start_time": "2022-05-26T08:35:36.189Z"
   },
   {
    "duration": 6,
    "start_time": "2022-05-26T08:35:36.678Z"
   },
   {
    "duration": 6,
    "start_time": "2022-05-26T08:35:36.808Z"
   },
   {
    "duration": 5,
    "start_time": "2022-05-26T08:35:37.045Z"
   },
   {
    "duration": 7,
    "start_time": "2022-05-26T08:35:37.176Z"
   },
   {
    "duration": 6,
    "start_time": "2022-05-26T08:35:37.899Z"
   },
   {
    "duration": 5,
    "start_time": "2022-05-26T08:35:38.143Z"
   },
   {
    "duration": 5,
    "start_time": "2022-05-26T08:35:38.495Z"
   },
   {
    "duration": 5,
    "start_time": "2022-05-26T08:35:38.629Z"
   },
   {
    "duration": 4,
    "start_time": "2022-05-26T08:35:39.128Z"
   },
   {
    "duration": 6,
    "start_time": "2022-05-26T08:35:39.267Z"
   },
   {
    "duration": 8,
    "start_time": "2022-05-26T08:35:39.774Z"
   },
   {
    "duration": 6,
    "start_time": "2022-05-26T08:35:39.917Z"
   },
   {
    "duration": 6,
    "start_time": "2022-05-26T08:35:40.179Z"
   },
   {
    "duration": 4,
    "start_time": "2022-05-26T08:35:40.430Z"
   },
   {
    "duration": 5,
    "start_time": "2022-05-26T08:35:40.577Z"
   },
   {
    "duration": 17,
    "start_time": "2022-05-26T08:35:40.997Z"
   },
   {
    "duration": 155,
    "start_time": "2022-05-26T08:35:41.413Z"
   },
   {
    "duration": 13,
    "start_time": "2022-05-26T08:35:41.813Z"
   },
   {
    "duration": 13,
    "start_time": "2022-05-26T08:35:42.877Z"
   },
   {
    "duration": 33,
    "start_time": "2022-05-26T08:35:43.004Z"
   },
   {
    "duration": 14,
    "start_time": "2022-05-26T08:35:43.141Z"
   },
   {
    "duration": 4,
    "start_time": "2022-05-26T08:35:43.276Z"
   },
   {
    "duration": 273,
    "start_time": "2022-05-26T08:35:43.403Z"
   },
   {
    "duration": 10,
    "start_time": "2022-05-26T08:35:43.678Z"
   },
   {
    "duration": 38,
    "start_time": "2022-05-26T08:35:43.692Z"
   },
   {
    "duration": 48,
    "start_time": "2022-05-26T08:35:43.853Z"
   },
   {
    "duration": 241,
    "start_time": "2022-05-26T08:35:45.175Z"
   },
   {
    "duration": 244,
    "start_time": "2022-05-26T08:35:45.418Z"
   },
   {
    "duration": 241,
    "start_time": "2022-05-26T08:35:45.664Z"
   },
   {
    "duration": 169,
    "start_time": "2022-05-26T08:35:45.907Z"
   },
   {
    "duration": 172,
    "start_time": "2022-05-26T08:35:46.079Z"
   },
   {
    "duration": 278,
    "start_time": "2022-05-26T08:35:46.414Z"
   },
   {
    "duration": 154,
    "start_time": "2022-05-26T08:35:46.835Z"
   },
   {
    "duration": 167,
    "start_time": "2022-05-26T08:35:47.003Z"
   },
   {
    "duration": 15,
    "start_time": "2022-05-26T08:35:47.175Z"
   },
   {
    "duration": 35,
    "start_time": "2022-05-26T08:35:48.451Z"
   },
   {
    "duration": 18,
    "start_time": "2022-05-26T08:35:49.356Z"
   },
   {
    "duration": 186,
    "start_time": "2022-05-26T08:35:49.750Z"
   },
   {
    "duration": 4,
    "start_time": "2022-05-26T08:35:49.939Z"
   },
   {
    "duration": 174,
    "start_time": "2022-05-26T08:35:50.172Z"
   },
   {
    "duration": 20,
    "start_time": "2022-05-26T08:35:50.348Z"
   },
   {
    "duration": 206,
    "start_time": "2022-05-26T08:35:50.603Z"
   },
   {
    "duration": 5,
    "start_time": "2022-05-26T08:35:50.812Z"
   },
   {
    "duration": 16,
    "start_time": "2022-05-26T08:35:51.019Z"
   },
   {
    "duration": 335,
    "start_time": "2022-05-26T08:35:51.356Z"
   },
   {
    "duration": 216,
    "start_time": "2022-05-26T08:35:51.694Z"
   },
   {
    "duration": 177,
    "start_time": "2022-05-26T08:35:52.173Z"
   },
   {
    "duration": 190,
    "start_time": "2022-05-26T08:35:52.419Z"
   },
   {
    "duration": 33,
    "start_time": "2022-05-26T08:35:52.941Z"
   },
   {
    "duration": 12,
    "start_time": "2022-05-26T08:35:53.300Z"
   },
   {
    "duration": 28,
    "start_time": "2022-05-26T08:35:53.472Z"
   },
   {
    "duration": 6,
    "start_time": "2022-05-26T08:35:53.613Z"
   },
   {
    "duration": 173,
    "start_time": "2022-05-26T08:35:53.780Z"
   },
   {
    "duration": 26,
    "start_time": "2022-05-26T08:35:54.572Z"
   },
   {
    "duration": 247,
    "start_time": "2022-05-26T08:35:55.067Z"
   },
   {
    "duration": 286,
    "start_time": "2022-05-26T08:35:55.316Z"
   },
   {
    "duration": 139,
    "start_time": "2022-05-26T08:35:55.604Z"
   },
   {
    "duration": 173,
    "start_time": "2022-05-26T08:35:55.744Z"
   },
   {
    "duration": 147,
    "start_time": "2022-05-26T08:35:56.013Z"
   },
   {
    "duration": 4,
    "start_time": "2022-05-26T08:35:56.223Z"
   },
   {
    "duration": 14,
    "start_time": "2022-05-26T08:35:56.999Z"
   },
   {
    "duration": 199,
    "start_time": "2022-05-26T08:35:57.420Z"
   },
   {
    "duration": 184,
    "start_time": "2022-05-26T08:35:57.919Z"
   },
   {
    "duration": 195,
    "start_time": "2022-05-26T08:35:58.106Z"
   },
   {
    "duration": 201,
    "start_time": "2022-05-26T08:35:58.304Z"
   },
   {
    "duration": 421,
    "start_time": "2022-05-27T00:43:26.113Z"
   },
   {
    "duration": 88,
    "start_time": "2022-05-27T00:43:26.536Z"
   },
   {
    "duration": 40,
    "start_time": "2022-05-27T00:43:26.626Z"
   },
   {
    "duration": 12,
    "start_time": "2022-05-27T00:43:26.668Z"
   },
   {
    "duration": 19,
    "start_time": "2022-05-27T00:43:26.682Z"
   },
   {
    "duration": 25,
    "start_time": "2022-05-27T00:43:26.702Z"
   },
   {
    "duration": 7,
    "start_time": "2022-05-27T00:43:26.729Z"
   },
   {
    "duration": 5,
    "start_time": "2022-05-27T00:43:26.737Z"
   },
   {
    "duration": 5,
    "start_time": "2022-05-27T00:43:26.743Z"
   },
   {
    "duration": 5,
    "start_time": "2022-05-27T00:43:26.750Z"
   },
   {
    "duration": 6,
    "start_time": "2022-05-27T00:43:26.756Z"
   },
   {
    "duration": 4,
    "start_time": "2022-05-27T00:43:26.763Z"
   },
   {
    "duration": 5,
    "start_time": "2022-05-27T00:43:26.768Z"
   },
   {
    "duration": 4,
    "start_time": "2022-05-27T00:43:26.774Z"
   },
   {
    "duration": 5,
    "start_time": "2022-05-27T00:43:26.779Z"
   },
   {
    "duration": 6,
    "start_time": "2022-05-27T00:43:26.827Z"
   },
   {
    "duration": 7,
    "start_time": "2022-05-27T00:43:26.834Z"
   },
   {
    "duration": 5,
    "start_time": "2022-05-27T00:43:26.842Z"
   },
   {
    "duration": 6,
    "start_time": "2022-05-27T00:43:26.848Z"
   },
   {
    "duration": 3,
    "start_time": "2022-05-27T00:43:26.855Z"
   },
   {
    "duration": 6,
    "start_time": "2022-05-27T00:43:26.860Z"
   },
   {
    "duration": 6,
    "start_time": "2022-05-27T00:43:26.867Z"
   },
   {
    "duration": 4,
    "start_time": "2022-05-27T00:43:26.875Z"
   },
   {
    "duration": 5,
    "start_time": "2022-05-27T00:43:26.880Z"
   },
   {
    "duration": 3,
    "start_time": "2022-05-27T00:43:26.886Z"
   },
   {
    "duration": 36,
    "start_time": "2022-05-27T00:43:26.890Z"
   },
   {
    "duration": 13,
    "start_time": "2022-05-27T00:43:26.928Z"
   },
   {
    "duration": 11,
    "start_time": "2022-05-27T00:43:26.946Z"
   },
   {
    "duration": 13,
    "start_time": "2022-05-27T00:43:26.959Z"
   },
   {
    "duration": 7,
    "start_time": "2022-05-27T00:43:26.974Z"
   },
   {
    "duration": 52,
    "start_time": "2022-05-27T00:43:26.983Z"
   },
   {
    "duration": 12,
    "start_time": "2022-05-27T00:43:27.037Z"
   },
   {
    "duration": 3,
    "start_time": "2022-05-27T00:43:27.050Z"
   },
   {
    "duration": 234,
    "start_time": "2022-05-27T00:43:27.054Z"
   },
   {
    "duration": 6,
    "start_time": "2022-05-27T00:43:27.290Z"
   },
   {
    "duration": 9,
    "start_time": "2022-05-27T00:43:27.298Z"
   },
   {
    "duration": 38,
    "start_time": "2022-05-27T00:43:27.308Z"
   },
   {
    "duration": 449,
    "start_time": "2022-05-27T00:43:27.347Z"
   },
   {
    "duration": 221,
    "start_time": "2022-05-27T00:43:27.798Z"
   },
   {
    "duration": 206,
    "start_time": "2022-05-27T00:43:28.020Z"
   },
   {
    "duration": 133,
    "start_time": "2022-05-27T00:43:28.228Z"
   },
   {
    "duration": 163,
    "start_time": "2022-05-27T00:43:28.363Z"
   },
   {
    "duration": 277,
    "start_time": "2022-05-27T00:43:28.528Z"
   },
   {
    "duration": 135,
    "start_time": "2022-05-27T00:43:28.807Z"
   },
   {
    "duration": 126,
    "start_time": "2022-05-27T00:43:28.944Z"
   },
   {
    "duration": 9,
    "start_time": "2022-05-27T00:43:29.072Z"
   },
   {
    "duration": 46,
    "start_time": "2022-05-27T00:43:29.083Z"
   },
   {
    "duration": 14,
    "start_time": "2022-05-27T00:43:29.130Z"
   },
   {
    "duration": 184,
    "start_time": "2022-05-27T00:43:29.146Z"
   },
   {
    "duration": 5,
    "start_time": "2022-05-27T00:43:29.332Z"
   },
   {
    "duration": 165,
    "start_time": "2022-05-27T00:43:29.339Z"
   },
   {
    "duration": 4,
    "start_time": "2022-05-27T00:43:29.505Z"
   },
   {
    "duration": 186,
    "start_time": "2022-05-27T00:43:29.511Z"
   },
   {
    "duration": 5,
    "start_time": "2022-05-27T00:43:29.699Z"
   },
   {
    "duration": 31,
    "start_time": "2022-05-27T00:43:29.706Z"
   },
   {
    "duration": 156,
    "start_time": "2022-05-27T00:43:29.739Z"
   },
   {
    "duration": 176,
    "start_time": "2022-05-27T00:43:29.897Z"
   },
   {
    "duration": 174,
    "start_time": "2022-05-27T00:43:30.075Z"
   },
   {
    "duration": 179,
    "start_time": "2022-05-27T00:43:30.251Z"
   },
   {
    "duration": 18,
    "start_time": "2022-05-27T00:43:30.432Z"
   },
   {
    "duration": 11,
    "start_time": "2022-05-27T00:43:30.451Z"
   },
   {
    "duration": 44,
    "start_time": "2022-05-27T00:43:30.464Z"
   },
   {
    "duration": 6,
    "start_time": "2022-05-27T00:43:30.509Z"
   },
   {
    "duration": 185,
    "start_time": "2022-05-27T00:43:30.526Z"
   },
   {
    "duration": 26,
    "start_time": "2022-05-27T00:43:30.713Z"
   },
   {
    "duration": 295,
    "start_time": "2022-05-27T00:43:30.741Z"
   },
   {
    "duration": 234,
    "start_time": "2022-05-27T00:43:31.038Z"
   },
   {
    "duration": 116,
    "start_time": "2022-05-27T00:43:31.273Z"
   },
   {
    "duration": 178,
    "start_time": "2022-05-27T00:43:31.391Z"
   },
   {
    "duration": 142,
    "start_time": "2022-05-27T00:43:31.571Z"
   },
   {
    "duration": 11,
    "start_time": "2022-05-27T00:43:31.715Z"
   },
   {
    "duration": 13,
    "start_time": "2022-05-27T00:43:31.728Z"
   },
   {
    "duration": 195,
    "start_time": "2022-05-27T00:43:31.743Z"
   },
   {
    "duration": 170,
    "start_time": "2022-05-27T00:43:31.939Z"
   },
   {
    "duration": 182,
    "start_time": "2022-05-27T00:43:32.111Z"
   },
   {
    "duration": 181,
    "start_time": "2022-05-27T00:43:32.294Z"
   },
   {
    "duration": 24,
    "start_time": "2022-05-27T00:43:58.125Z"
   },
   {
    "duration": 13,
    "start_time": "2022-05-27T00:44:02.500Z"
   },
   {
    "duration": 368,
    "start_time": "2022-05-27T00:47:44.486Z"
   },
   {
    "duration": 89,
    "start_time": "2022-05-27T00:47:44.856Z"
   },
   {
    "duration": 43,
    "start_time": "2022-05-27T00:47:44.946Z"
   },
   {
    "duration": 13,
    "start_time": "2022-05-27T00:47:44.990Z"
   },
   {
    "duration": 37,
    "start_time": "2022-05-27T00:47:45.005Z"
   },
   {
    "duration": 4,
    "start_time": "2022-05-27T00:47:45.044Z"
   },
   {
    "duration": 9,
    "start_time": "2022-05-27T00:47:45.049Z"
   },
   {
    "duration": 5,
    "start_time": "2022-05-27T00:47:45.059Z"
   },
   {
    "duration": 9,
    "start_time": "2022-05-27T00:47:45.065Z"
   },
   {
    "duration": 10,
    "start_time": "2022-05-27T00:47:45.076Z"
   },
   {
    "duration": 7,
    "start_time": "2022-05-27T00:47:45.088Z"
   },
   {
    "duration": 8,
    "start_time": "2022-05-27T00:47:45.096Z"
   },
   {
    "duration": 21,
    "start_time": "2022-05-27T00:47:45.106Z"
   },
   {
    "duration": 2,
    "start_time": "2022-05-27T00:47:45.129Z"
   },
   {
    "duration": 8,
    "start_time": "2022-05-27T00:47:45.133Z"
   },
   {
    "duration": 4,
    "start_time": "2022-05-27T00:47:45.142Z"
   },
   {
    "duration": 8,
    "start_time": "2022-05-27T00:47:45.148Z"
   },
   {
    "duration": 7,
    "start_time": "2022-05-27T00:47:45.157Z"
   },
   {
    "duration": 4,
    "start_time": "2022-05-27T00:47:45.165Z"
   },
   {
    "duration": 6,
    "start_time": "2022-05-27T00:47:45.170Z"
   },
   {
    "duration": 4,
    "start_time": "2022-05-27T00:47:45.177Z"
   },
   {
    "duration": 5,
    "start_time": "2022-05-27T00:47:45.182Z"
   },
   {
    "duration": 5,
    "start_time": "2022-05-27T00:47:45.189Z"
   },
   {
    "duration": 31,
    "start_time": "2022-05-27T00:47:45.196Z"
   },
   {
    "duration": 4,
    "start_time": "2022-05-27T00:47:45.229Z"
   },
   {
    "duration": 5,
    "start_time": "2022-05-27T00:47:45.235Z"
   },
   {
    "duration": 5,
    "start_time": "2022-05-27T00:47:45.242Z"
   },
   {
    "duration": 12,
    "start_time": "2022-05-27T00:47:45.249Z"
   },
   {
    "duration": 10,
    "start_time": "2022-05-27T00:47:45.263Z"
   },
   {
    "duration": 11,
    "start_time": "2022-05-27T00:47:45.274Z"
   },
   {
    "duration": 7,
    "start_time": "2022-05-27T00:47:45.286Z"
   },
   {
    "duration": 52,
    "start_time": "2022-05-27T00:47:45.294Z"
   },
   {
    "duration": 10,
    "start_time": "2022-05-27T00:47:45.348Z"
   },
   {
    "duration": 2,
    "start_time": "2022-05-27T00:47:45.360Z"
   },
   {
    "duration": 243,
    "start_time": "2022-05-27T00:47:45.363Z"
   },
   {
    "duration": 7,
    "start_time": "2022-05-27T00:47:45.608Z"
   },
   {
    "duration": 5,
    "start_time": "2022-05-27T00:47:45.626Z"
   },
   {
    "duration": 38,
    "start_time": "2022-05-27T00:47:45.633Z"
   },
   {
    "duration": 467,
    "start_time": "2022-05-27T00:47:45.672Z"
   },
   {
    "duration": 216,
    "start_time": "2022-05-27T00:47:46.140Z"
   },
   {
    "duration": 211,
    "start_time": "2022-05-27T00:47:46.360Z"
   },
   {
    "duration": 139,
    "start_time": "2022-05-27T00:47:46.572Z"
   },
   {
    "duration": 162,
    "start_time": "2022-05-27T00:47:46.712Z"
   },
   {
    "duration": 287,
    "start_time": "2022-05-27T00:47:46.875Z"
   },
   {
    "duration": 135,
    "start_time": "2022-05-27T00:47:47.164Z"
   },
   {
    "duration": 131,
    "start_time": "2022-05-27T00:47:47.300Z"
   },
   {
    "duration": 9,
    "start_time": "2022-05-27T00:47:47.432Z"
   },
   {
    "duration": 27,
    "start_time": "2022-05-27T00:47:47.442Z"
   },
   {
    "duration": 13,
    "start_time": "2022-05-27T00:47:47.470Z"
   },
   {
    "duration": 186,
    "start_time": "2022-05-27T00:47:47.484Z"
   },
   {
    "duration": 4,
    "start_time": "2022-05-27T00:47:47.671Z"
   },
   {
    "duration": 158,
    "start_time": "2022-05-27T00:47:47.677Z"
   },
   {
    "duration": 4,
    "start_time": "2022-05-27T00:47:47.836Z"
   },
   {
    "duration": 187,
    "start_time": "2022-05-27T00:47:47.841Z"
   },
   {
    "duration": 4,
    "start_time": "2022-05-27T00:47:48.029Z"
   },
   {
    "duration": 15,
    "start_time": "2022-05-27T00:47:48.034Z"
   },
   {
    "duration": 156,
    "start_time": "2022-05-27T00:47:48.050Z"
   },
   {
    "duration": 172,
    "start_time": "2022-05-27T00:47:48.208Z"
   },
   {
    "duration": 170,
    "start_time": "2022-05-27T00:47:48.382Z"
   },
   {
    "duration": 177,
    "start_time": "2022-05-27T00:47:48.553Z"
   },
   {
    "duration": 18,
    "start_time": "2022-05-27T00:47:48.732Z"
   },
   {
    "duration": 9,
    "start_time": "2022-05-27T00:47:48.751Z"
   },
   {
    "duration": 25,
    "start_time": "2022-05-27T00:47:48.761Z"
   },
   {
    "duration": 5,
    "start_time": "2022-05-27T00:47:48.787Z"
   },
   {
    "duration": 185,
    "start_time": "2022-05-27T00:47:48.793Z"
   },
   {
    "duration": 24,
    "start_time": "2022-05-27T00:47:48.979Z"
   },
   {
    "duration": 286,
    "start_time": "2022-05-27T00:47:49.005Z"
   },
   {
    "duration": 246,
    "start_time": "2022-05-27T00:47:49.292Z"
   },
   {
    "duration": 112,
    "start_time": "2022-05-27T00:47:49.539Z"
   },
   {
    "duration": 156,
    "start_time": "2022-05-27T00:47:49.652Z"
   },
   {
    "duration": 143,
    "start_time": "2022-05-27T00:47:49.810Z"
   },
   {
    "duration": 4,
    "start_time": "2022-05-27T00:47:49.955Z"
   },
   {
    "duration": 16,
    "start_time": "2022-05-27T00:47:49.961Z"
   },
   {
    "duration": 218,
    "start_time": "2022-05-27T00:47:49.978Z"
   },
   {
    "duration": 182,
    "start_time": "2022-05-27T00:47:50.198Z"
   },
   {
    "duration": 185,
    "start_time": "2022-05-27T00:47:50.381Z"
   },
   {
    "duration": 201,
    "start_time": "2022-05-27T00:47:50.567Z"
   },
   {
    "duration": 9,
    "start_time": "2022-05-27T00:48:22.702Z"
   },
   {
    "duration": 33,
    "start_time": "2022-05-27T00:48:45.564Z"
   },
   {
    "duration": 28,
    "start_time": "2022-05-27T00:49:18.010Z"
   },
   {
    "duration": 29,
    "start_time": "2022-05-27T00:49:52.806Z"
   },
   {
    "duration": 411,
    "start_time": "2022-05-27T00:55:23.629Z"
   },
   {
    "duration": 88,
    "start_time": "2022-05-27T00:55:24.041Z"
   },
   {
    "duration": 42,
    "start_time": "2022-05-27T00:55:24.131Z"
   },
   {
    "duration": 14,
    "start_time": "2022-05-27T00:55:24.175Z"
   },
   {
    "duration": 41,
    "start_time": "2022-05-27T00:55:24.191Z"
   },
   {
    "duration": 5,
    "start_time": "2022-05-27T00:55:24.233Z"
   },
   {
    "duration": 8,
    "start_time": "2022-05-27T00:55:24.239Z"
   },
   {
    "duration": 4,
    "start_time": "2022-05-27T00:55:24.248Z"
   },
   {
    "duration": 6,
    "start_time": "2022-05-27T00:55:24.254Z"
   },
   {
    "duration": 4,
    "start_time": "2022-05-27T00:55:24.262Z"
   },
   {
    "duration": 5,
    "start_time": "2022-05-27T00:55:24.268Z"
   },
   {
    "duration": 4,
    "start_time": "2022-05-27T00:55:24.275Z"
   },
   {
    "duration": 47,
    "start_time": "2022-05-27T00:55:24.280Z"
   },
   {
    "duration": 4,
    "start_time": "2022-05-27T00:55:24.328Z"
   },
   {
    "duration": 6,
    "start_time": "2022-05-27T00:55:24.334Z"
   },
   {
    "duration": 6,
    "start_time": "2022-05-27T00:55:24.341Z"
   },
   {
    "duration": 5,
    "start_time": "2022-05-27T00:55:24.348Z"
   },
   {
    "duration": 7,
    "start_time": "2022-05-27T00:55:24.354Z"
   },
   {
    "duration": 6,
    "start_time": "2022-05-27T00:55:24.362Z"
   },
   {
    "duration": 5,
    "start_time": "2022-05-27T00:55:24.370Z"
   },
   {
    "duration": 5,
    "start_time": "2022-05-27T00:55:24.376Z"
   },
   {
    "duration": 6,
    "start_time": "2022-05-27T00:55:24.383Z"
   },
   {
    "duration": 37,
    "start_time": "2022-05-27T00:55:24.391Z"
   },
   {
    "duration": 6,
    "start_time": "2022-05-27T00:55:24.430Z"
   },
   {
    "duration": 3,
    "start_time": "2022-05-27T00:55:24.438Z"
   },
   {
    "duration": 5,
    "start_time": "2022-05-27T00:55:24.443Z"
   },
   {
    "duration": 17,
    "start_time": "2022-05-27T00:55:24.449Z"
   },
   {
    "duration": 14,
    "start_time": "2022-05-27T00:55:24.470Z"
   },
   {
    "duration": 43,
    "start_time": "2022-05-27T00:55:24.486Z"
   },
   {
    "duration": 7,
    "start_time": "2022-05-27T00:55:24.531Z"
   },
   {
    "duration": 27,
    "start_time": "2022-05-27T00:55:24.539Z"
   },
   {
    "duration": 11,
    "start_time": "2022-05-27T00:55:24.568Z"
   },
   {
    "duration": 3,
    "start_time": "2022-05-27T00:55:24.581Z"
   },
   {
    "duration": 251,
    "start_time": "2022-05-27T00:55:24.585Z"
   },
   {
    "duration": 7,
    "start_time": "2022-05-27T00:55:24.838Z"
   },
   {
    "duration": 17,
    "start_time": "2022-05-27T00:55:24.846Z"
   },
   {
    "duration": 37,
    "start_time": "2022-05-27T00:55:24.865Z"
   },
   {
    "duration": 480,
    "start_time": "2022-05-27T00:55:24.904Z"
   },
   {
    "duration": 226,
    "start_time": "2022-05-27T00:55:25.385Z"
   },
   {
    "duration": 230,
    "start_time": "2022-05-27T00:55:25.612Z"
   },
   {
    "duration": 137,
    "start_time": "2022-05-27T00:55:25.843Z"
   },
   {
    "duration": 167,
    "start_time": "2022-05-27T00:55:25.981Z"
   },
   {
    "duration": 294,
    "start_time": "2022-05-27T00:55:26.150Z"
   },
   {
    "duration": 140,
    "start_time": "2022-05-27T00:55:26.446Z"
   },
   {
    "duration": 133,
    "start_time": "2022-05-27T00:55:26.587Z"
   },
   {
    "duration": 12,
    "start_time": "2022-05-27T00:55:26.721Z"
   },
   {
    "duration": 28,
    "start_time": "2022-05-27T00:55:26.734Z"
   },
   {
    "duration": 13,
    "start_time": "2022-05-27T00:55:26.763Z"
   },
   {
    "duration": 187,
    "start_time": "2022-05-27T00:55:26.777Z"
   },
   {
    "duration": 5,
    "start_time": "2022-05-27T00:55:26.965Z"
   },
   {
    "duration": 158,
    "start_time": "2022-05-27T00:55:26.971Z"
   },
   {
    "duration": 4,
    "start_time": "2022-05-27T00:55:27.131Z"
   },
   {
    "duration": 180,
    "start_time": "2022-05-27T00:55:27.136Z"
   },
   {
    "duration": 9,
    "start_time": "2022-05-27T00:55:27.318Z"
   },
   {
    "duration": 14,
    "start_time": "2022-05-27T00:55:27.328Z"
   },
   {
    "duration": 162,
    "start_time": "2022-05-27T00:55:27.344Z"
   },
   {
    "duration": 171,
    "start_time": "2022-05-27T00:55:27.507Z"
   },
   {
    "duration": 171,
    "start_time": "2022-05-27T00:55:27.679Z"
   },
   {
    "duration": 170,
    "start_time": "2022-05-27T00:55:27.851Z"
   },
   {
    "duration": 19,
    "start_time": "2022-05-27T00:55:28.026Z"
   },
   {
    "duration": 9,
    "start_time": "2022-05-27T00:55:28.046Z"
   },
   {
    "duration": 24,
    "start_time": "2022-05-27T00:55:28.057Z"
   },
   {
    "duration": 4,
    "start_time": "2022-05-27T00:55:28.083Z"
   },
   {
    "duration": 189,
    "start_time": "2022-05-27T00:55:28.089Z"
   },
   {
    "duration": 24,
    "start_time": "2022-05-27T00:55:28.279Z"
   },
   {
    "duration": 297,
    "start_time": "2022-05-27T00:55:28.305Z"
   },
   {
    "duration": 245,
    "start_time": "2022-05-27T00:55:28.604Z"
   },
   {
    "duration": 118,
    "start_time": "2022-05-27T00:55:28.850Z"
   },
   {
    "duration": 158,
    "start_time": "2022-05-27T00:55:28.970Z"
   },
   {
    "duration": 134,
    "start_time": "2022-05-27T00:55:29.129Z"
   },
   {
    "duration": 4,
    "start_time": "2022-05-27T00:55:29.264Z"
   },
   {
    "duration": 13,
    "start_time": "2022-05-27T00:55:29.270Z"
   },
   {
    "duration": 202,
    "start_time": "2022-05-27T00:55:29.284Z"
   },
   {
    "duration": 205,
    "start_time": "2022-05-27T00:55:29.487Z"
   },
   {
    "duration": 195,
    "start_time": "2022-05-27T00:55:29.693Z"
   },
   {
    "duration": 195,
    "start_time": "2022-05-27T00:55:29.890Z"
   },
   {
    "duration": 4,
    "start_time": "2022-05-27T00:58:04.194Z"
   },
   {
    "duration": 4,
    "start_time": "2022-05-27T01:00:37.693Z"
   },
   {
    "duration": 628,
    "start_time": "2022-06-02T09:36:13.739Z"
   },
   {
    "duration": 573,
    "start_time": "2022-06-02T09:36:14.370Z"
   },
   {
    "duration": 45,
    "start_time": "2022-06-02T09:36:14.944Z"
   },
   {
    "duration": 16,
    "start_time": "2022-06-02T09:36:14.991Z"
   },
   {
    "duration": 39,
    "start_time": "2022-06-02T09:36:15.009Z"
   },
   {
    "duration": 5,
    "start_time": "2022-06-02T09:36:15.491Z"
   },
   {
    "duration": 8,
    "start_time": "2022-06-02T09:36:15.633Z"
   },
   {
    "duration": 7,
    "start_time": "2022-06-02T09:36:15.761Z"
   },
   {
    "duration": 7,
    "start_time": "2022-06-02T09:36:15.899Z"
   },
   {
    "duration": 8,
    "start_time": "2022-06-02T09:36:16.440Z"
   },
   {
    "duration": 10,
    "start_time": "2022-06-02T09:36:16.984Z"
   },
   {
    "duration": 6,
    "start_time": "2022-06-02T09:36:17.105Z"
   },
   {
    "duration": 9,
    "start_time": "2022-06-02T09:36:17.232Z"
   },
   {
    "duration": 6,
    "start_time": "2022-06-02T09:36:17.487Z"
   },
   {
    "duration": 6,
    "start_time": "2022-06-02T09:36:17.617Z"
   },
   {
    "duration": 9,
    "start_time": "2022-06-02T09:36:18.542Z"
   },
   {
    "duration": 4,
    "start_time": "2022-06-02T09:36:18.649Z"
   },
   {
    "duration": 5,
    "start_time": "2022-06-02T09:36:19.048Z"
   },
   {
    "duration": 5,
    "start_time": "2022-06-02T09:36:19.600Z"
   },
   {
    "duration": 4,
    "start_time": "2022-06-02T09:36:20.612Z"
   },
   {
    "duration": 13,
    "start_time": "2022-06-02T09:36:20.619Z"
   },
   {
    "duration": 7,
    "start_time": "2022-06-02T09:36:21.007Z"
   },
   {
    "duration": 7,
    "start_time": "2022-06-02T09:36:21.153Z"
   },
   {
    "duration": 8,
    "start_time": "2022-06-02T09:36:21.456Z"
   },
   {
    "duration": 3,
    "start_time": "2022-06-02T09:36:21.761Z"
   },
   {
    "duration": 5,
    "start_time": "2022-06-02T09:36:21.897Z"
   },
   {
    "duration": 28,
    "start_time": "2022-06-02T09:36:22.328Z"
   },
   {
    "duration": 13,
    "start_time": "2022-06-02T09:36:22.785Z"
   },
   {
    "duration": 13,
    "start_time": "2022-06-02T09:36:23.249Z"
   },
   {
    "duration": 8,
    "start_time": "2022-06-02T09:36:24.296Z"
   },
   {
    "duration": 30,
    "start_time": "2022-06-02T09:36:24.449Z"
   },
   {
    "duration": 13,
    "start_time": "2022-06-02T09:36:24.600Z"
   },
   {
    "duration": 3,
    "start_time": "2022-06-02T09:36:24.777Z"
   },
   {
    "duration": 243,
    "start_time": "2022-06-02T09:36:24.970Z"
   },
   {
    "duration": 8,
    "start_time": "2022-06-02T09:36:25.546Z"
   },
   {
    "duration": 8,
    "start_time": "2022-06-02T09:36:26.002Z"
   },
   {
    "duration": 8,
    "start_time": "2022-06-02T09:38:26.777Z"
   }
  ],
  "kernelspec": {
   "display_name": "Python 3 (ipykernel)",
   "language": "python",
   "name": "python3"
  },
  "language_info": {
   "codemirror_mode": {
    "name": "ipython",
    "version": 3
   },
   "file_extension": ".py",
   "mimetype": "text/x-python",
   "name": "python",
   "nbconvert_exporter": "python",
   "pygments_lexer": "ipython3",
   "version": "3.10.9"
  },
  "toc": {
   "base_numbering": 1,
   "nav_menu": {},
   "number_sections": true,
   "sideBar": true,
   "skip_h1_title": true,
   "title_cell": "Содержание",
   "title_sidebar": "Contents",
   "toc_cell": true,
   "toc_position": {
    "height": "calc(100% - 180px)",
    "left": "10px",
    "top": "150px",
    "width": "289.6px"
   },
   "toc_section_display": true,
   "toc_window_display": true
  }
 },
 "nbformat": 4,
 "nbformat_minor": 4
}
