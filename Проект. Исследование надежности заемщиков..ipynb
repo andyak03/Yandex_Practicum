{
 "cells": [
  {
   "cell_type": "markdown",
   "id": "57672c8f",
   "metadata": {},
   "source": [
    "<div style=\"border:solid green 3px; padding: 20px\">\n",
    "\n",
    "<b>Привет!</b>\n",
    "\n",
    "Меня зовут Сороколетов Илья и я буду проверять твой проект. \n",
    "\n",
    "Предлагаю общаться на «**ты**», но если тебе будет комфортнее общаться на «**вы**», то сообщи об этом в комментариях)\n",
    "\n",
    "\n",
    "Для твоего удобства, я буду выделять свои комментарии следующим образом:\n",
    "\n",
    "<div class=\"alert alert-danger\">\n",
    "<b>❌ Комментарий ревьюера v1:</b> Самые важные замечания. Они указывают на ключевые моменты, которые влияют на конечный результат проекта. </div>\n",
    "\n",
    "<div class=\"alert alert-warning\">\n",
    "<b>⚠️ Комментарий ревьюера v1:</b> Советы или замечания, которые помогут сделать твою работу лучше, но необязательны к выполнению.\n",
    "\n",
    "</div>\n",
    "\n",
    "<div class=\"alert alert-success\">\n",
    "<b>✔️ Комментарий ревьюера v1:</b> Так я выделяю все остальные комментарии.</div>\n",
    "\n",
    "\n",
    "Пометками <b>v1-v2-v3-...</b> я буду отмечать версию проверки. Так ты сможешь быстро найти мои новые комментарии.\n",
    "\n",
    "Давай работать над проектом в диалоге: если ты что-то меняешь в проекте по моим рекомендациям — пиши об этом. Выбери для своих комментариев какой-то заметный цвет, так мне будет легче отследить изменения, например вот так:\n",
    "    \n",
    "<div class=\"alert alert-info\">\n",
    "<b>Комментарий студента:</b>\n",
    "<br>\n",
    "</div>\n",
    "\n",
    "<b>Пожалуйста, не перемещай, не изменяй и не удаляй мои комментарии.</b> Если ты оставляешь свои комментарии, то делай это под моими, чтобы сообщения были расположены в хронологическом порядке. Всё это поможет выполнить повторную проверку твоего проекта быстрее. \n",
    "\n",
    "\n",
    "Перед отправкой работы я рекомендую нажимать Kernel -> Restart & Run All. Это перезапустит ядро и по очереди выполнит все ячейки. Так ты сможешь проверить, что всё работает корректно. Кнопка Kernel находится в панели сверху\n",
    "\n",
    "Обязательно задавай вопросы если они возникнут, а я перехожу к проверке)\n",
    "\n",
    "P.S. На всякий случай, я оставлю пустой шаблон для твоих комментариев ниже. Кликни два раза на мой комментарий, скопируй последние четыре строчки кода и вставляй их в пустую ячейку там, где ты хочешь оставить комментарий. Не забудь только перед этим сменить тип ячейки на Markdown. Быстро это можно сделать так: кликнуть на ячейку - нажать ESC - нажать M. \n",
    "    \n",
    "    \n",
    "<div class=\"alert alert-info\">\n",
    "<b>Комментарий студента:</b>\n",
    "<br>Место для твоего комментария\n",
    "</div>"
   ]
  },
  {
   "cell_type": "markdown",
   "id": "00802c72",
   "metadata": {},
   "source": [
    "# Исследование надежности заемщиков."
   ]
  },
  {
   "cell_type": "markdown",
   "id": "6cd0cc83",
   "metadata": {},
   "source": [
    "<div class=\"alert alert-warning\">\n",
    "<b>⚠️ Комментарий ревьюера v1:</b> \n",
    "<br>Лучше оставляй перед проектом краткое описание задачи. Это поможет тебе быстро вспомнить о чем проект, если спустя время ты решишь к нему вернуться)\n",
    "</div>"
   ]
  },
  {
   "cell_type": "markdown",
   "id": "f932ce63",
   "metadata": {},
   "source": [
    "# Описание проекта"
   ]
  },
  {
   "cell_type": "markdown",
   "id": "594abe70",
   "metadata": {},
   "source": [
    "Заказчик — кредитный отдел банка. Нужно разобраться, влияет ли семейное положение и количество детей клиента на факт погашения кредита в срок. Входные данные от банка — статистика о платёжеспособности клиентов.\n",
    "Результаты исследования будут учтены при построении модели кредитного скоринга — специальной системы, которая оценивает способность потенциального заёмщика вернуть кредит банку."
   ]
  },
  {
   "cell_type": "markdown",
   "id": "f4c6673e",
   "metadata": {},
   "source": [
    "<div class=\"alert alert-info\">\n",
    "<b>Комментарий студента:</b>\n",
    "<br>Выполнил\n",
    "</div>"
   ]
  },
  {
   "cell_type": "markdown",
   "id": "e13e9fc2",
   "metadata": {},
   "source": [
    "<div class=\"alert alert-success\">\n",
    "<b>✔️ Комментарий ревьюера v2:</b>\n",
    "<br>👍\n",
    "</div>"
   ]
  },
  {
   "cell_type": "markdown",
   "id": "ee68626c",
   "metadata": {},
   "source": [
    "### Шаг 1. Обзор данных"
   ]
  },
  {
   "cell_type": "code",
   "execution_count": 1,
   "id": "9c55c4fd",
   "metadata": {},
   "outputs": [],
   "source": [
    "#импортируем библиотеку pandas\n",
    "import pandas as pd"
   ]
  },
  {
   "cell_type": "code",
   "execution_count": 2,
   "id": "8e3ab2a7",
   "metadata": {
    "scrolled": true
   },
   "outputs": [
    {
     "data": {
      "text/html": [
       "<div>\n",
       "<style scoped>\n",
       "    .dataframe tbody tr th:only-of-type {\n",
       "        vertical-align: middle;\n",
       "    }\n",
       "\n",
       "    .dataframe tbody tr th {\n",
       "        vertical-align: top;\n",
       "    }\n",
       "\n",
       "    .dataframe thead th {\n",
       "        text-align: right;\n",
       "    }\n",
       "</style>\n",
       "<table border=\"1\" class=\"dataframe\">\n",
       "  <thead>\n",
       "    <tr style=\"text-align: right;\">\n",
       "      <th></th>\n",
       "      <th>children</th>\n",
       "      <th>days_employed</th>\n",
       "      <th>dob_years</th>\n",
       "      <th>education</th>\n",
       "      <th>education_id</th>\n",
       "      <th>family_status</th>\n",
       "      <th>family_status_id</th>\n",
       "      <th>gender</th>\n",
       "      <th>income_type</th>\n",
       "      <th>debt</th>\n",
       "      <th>total_income</th>\n",
       "      <th>purpose</th>\n",
       "    </tr>\n",
       "  </thead>\n",
       "  <tbody>\n",
       "    <tr>\n",
       "      <th>0</th>\n",
       "      <td>1</td>\n",
       "      <td>-8437.673028</td>\n",
       "      <td>42</td>\n",
       "      <td>высшее</td>\n",
       "      <td>0</td>\n",
       "      <td>женат / замужем</td>\n",
       "      <td>0</td>\n",
       "      <td>F</td>\n",
       "      <td>сотрудник</td>\n",
       "      <td>0</td>\n",
       "      <td>253875.639453</td>\n",
       "      <td>покупка жилья</td>\n",
       "    </tr>\n",
       "    <tr>\n",
       "      <th>1</th>\n",
       "      <td>1</td>\n",
       "      <td>-4024.803754</td>\n",
       "      <td>36</td>\n",
       "      <td>среднее</td>\n",
       "      <td>1</td>\n",
       "      <td>женат / замужем</td>\n",
       "      <td>0</td>\n",
       "      <td>F</td>\n",
       "      <td>сотрудник</td>\n",
       "      <td>0</td>\n",
       "      <td>112080.014102</td>\n",
       "      <td>приобретение автомобиля</td>\n",
       "    </tr>\n",
       "    <tr>\n",
       "      <th>2</th>\n",
       "      <td>0</td>\n",
       "      <td>-5623.422610</td>\n",
       "      <td>33</td>\n",
       "      <td>Среднее</td>\n",
       "      <td>1</td>\n",
       "      <td>женат / замужем</td>\n",
       "      <td>0</td>\n",
       "      <td>M</td>\n",
       "      <td>сотрудник</td>\n",
       "      <td>0</td>\n",
       "      <td>145885.952297</td>\n",
       "      <td>покупка жилья</td>\n",
       "    </tr>\n",
       "    <tr>\n",
       "      <th>3</th>\n",
       "      <td>3</td>\n",
       "      <td>-4124.747207</td>\n",
       "      <td>32</td>\n",
       "      <td>среднее</td>\n",
       "      <td>1</td>\n",
       "      <td>женат / замужем</td>\n",
       "      <td>0</td>\n",
       "      <td>M</td>\n",
       "      <td>сотрудник</td>\n",
       "      <td>0</td>\n",
       "      <td>267628.550329</td>\n",
       "      <td>дополнительное образование</td>\n",
       "    </tr>\n",
       "    <tr>\n",
       "      <th>4</th>\n",
       "      <td>0</td>\n",
       "      <td>340266.072047</td>\n",
       "      <td>53</td>\n",
       "      <td>среднее</td>\n",
       "      <td>1</td>\n",
       "      <td>гражданский брак</td>\n",
       "      <td>1</td>\n",
       "      <td>F</td>\n",
       "      <td>пенсионер</td>\n",
       "      <td>0</td>\n",
       "      <td>158616.077870</td>\n",
       "      <td>сыграть свадьбу</td>\n",
       "    </tr>\n",
       "    <tr>\n",
       "      <th>5</th>\n",
       "      <td>0</td>\n",
       "      <td>-926.185831</td>\n",
       "      <td>27</td>\n",
       "      <td>высшее</td>\n",
       "      <td>0</td>\n",
       "      <td>гражданский брак</td>\n",
       "      <td>1</td>\n",
       "      <td>M</td>\n",
       "      <td>компаньон</td>\n",
       "      <td>0</td>\n",
       "      <td>255763.565419</td>\n",
       "      <td>покупка жилья</td>\n",
       "    </tr>\n",
       "    <tr>\n",
       "      <th>6</th>\n",
       "      <td>0</td>\n",
       "      <td>-2879.202052</td>\n",
       "      <td>43</td>\n",
       "      <td>высшее</td>\n",
       "      <td>0</td>\n",
       "      <td>женат / замужем</td>\n",
       "      <td>0</td>\n",
       "      <td>F</td>\n",
       "      <td>компаньон</td>\n",
       "      <td>0</td>\n",
       "      <td>240525.971920</td>\n",
       "      <td>операции с жильем</td>\n",
       "    </tr>\n",
       "    <tr>\n",
       "      <th>7</th>\n",
       "      <td>0</td>\n",
       "      <td>-152.779569</td>\n",
       "      <td>50</td>\n",
       "      <td>СРЕДНЕЕ</td>\n",
       "      <td>1</td>\n",
       "      <td>женат / замужем</td>\n",
       "      <td>0</td>\n",
       "      <td>M</td>\n",
       "      <td>сотрудник</td>\n",
       "      <td>0</td>\n",
       "      <td>135823.934197</td>\n",
       "      <td>образование</td>\n",
       "    </tr>\n",
       "    <tr>\n",
       "      <th>8</th>\n",
       "      <td>2</td>\n",
       "      <td>-6929.865299</td>\n",
       "      <td>35</td>\n",
       "      <td>ВЫСШЕЕ</td>\n",
       "      <td>0</td>\n",
       "      <td>гражданский брак</td>\n",
       "      <td>1</td>\n",
       "      <td>F</td>\n",
       "      <td>сотрудник</td>\n",
       "      <td>0</td>\n",
       "      <td>95856.832424</td>\n",
       "      <td>на проведение свадьбы</td>\n",
       "    </tr>\n",
       "    <tr>\n",
       "      <th>9</th>\n",
       "      <td>0</td>\n",
       "      <td>-2188.756445</td>\n",
       "      <td>41</td>\n",
       "      <td>среднее</td>\n",
       "      <td>1</td>\n",
       "      <td>женат / замужем</td>\n",
       "      <td>0</td>\n",
       "      <td>M</td>\n",
       "      <td>сотрудник</td>\n",
       "      <td>0</td>\n",
       "      <td>144425.938277</td>\n",
       "      <td>покупка жилья для семьи</td>\n",
       "    </tr>\n",
       "    <tr>\n",
       "      <th>10</th>\n",
       "      <td>2</td>\n",
       "      <td>-4171.483647</td>\n",
       "      <td>36</td>\n",
       "      <td>высшее</td>\n",
       "      <td>0</td>\n",
       "      <td>женат / замужем</td>\n",
       "      <td>0</td>\n",
       "      <td>M</td>\n",
       "      <td>компаньон</td>\n",
       "      <td>0</td>\n",
       "      <td>113943.491460</td>\n",
       "      <td>покупка недвижимости</td>\n",
       "    </tr>\n",
       "    <tr>\n",
       "      <th>11</th>\n",
       "      <td>0</td>\n",
       "      <td>-792.701887</td>\n",
       "      <td>40</td>\n",
       "      <td>среднее</td>\n",
       "      <td>1</td>\n",
       "      <td>женат / замужем</td>\n",
       "      <td>0</td>\n",
       "      <td>F</td>\n",
       "      <td>сотрудник</td>\n",
       "      <td>0</td>\n",
       "      <td>77069.234271</td>\n",
       "      <td>покупка коммерческой недвижимости</td>\n",
       "    </tr>\n",
       "    <tr>\n",
       "      <th>12</th>\n",
       "      <td>0</td>\n",
       "      <td>NaN</td>\n",
       "      <td>65</td>\n",
       "      <td>среднее</td>\n",
       "      <td>1</td>\n",
       "      <td>гражданский брак</td>\n",
       "      <td>1</td>\n",
       "      <td>M</td>\n",
       "      <td>пенсионер</td>\n",
       "      <td>0</td>\n",
       "      <td>NaN</td>\n",
       "      <td>сыграть свадьбу</td>\n",
       "    </tr>\n",
       "    <tr>\n",
       "      <th>13</th>\n",
       "      <td>0</td>\n",
       "      <td>-1846.641941</td>\n",
       "      <td>54</td>\n",
       "      <td>неоконченное высшее</td>\n",
       "      <td>2</td>\n",
       "      <td>женат / замужем</td>\n",
       "      <td>0</td>\n",
       "      <td>F</td>\n",
       "      <td>сотрудник</td>\n",
       "      <td>0</td>\n",
       "      <td>130458.228857</td>\n",
       "      <td>приобретение автомобиля</td>\n",
       "    </tr>\n",
       "    <tr>\n",
       "      <th>14</th>\n",
       "      <td>0</td>\n",
       "      <td>-1844.956182</td>\n",
       "      <td>56</td>\n",
       "      <td>высшее</td>\n",
       "      <td>0</td>\n",
       "      <td>гражданский брак</td>\n",
       "      <td>1</td>\n",
       "      <td>F</td>\n",
       "      <td>компаньон</td>\n",
       "      <td>1</td>\n",
       "      <td>165127.911772</td>\n",
       "      <td>покупка жилой недвижимости</td>\n",
       "    </tr>\n",
       "    <tr>\n",
       "      <th>15</th>\n",
       "      <td>1</td>\n",
       "      <td>-972.364419</td>\n",
       "      <td>26</td>\n",
       "      <td>среднее</td>\n",
       "      <td>1</td>\n",
       "      <td>женат / замужем</td>\n",
       "      <td>0</td>\n",
       "      <td>F</td>\n",
       "      <td>сотрудник</td>\n",
       "      <td>0</td>\n",
       "      <td>116820.904450</td>\n",
       "      <td>строительство собственной недвижимости</td>\n",
       "    </tr>\n",
       "    <tr>\n",
       "      <th>16</th>\n",
       "      <td>0</td>\n",
       "      <td>-1719.934226</td>\n",
       "      <td>35</td>\n",
       "      <td>среднее</td>\n",
       "      <td>1</td>\n",
       "      <td>женат / замужем</td>\n",
       "      <td>0</td>\n",
       "      <td>F</td>\n",
       "      <td>сотрудник</td>\n",
       "      <td>0</td>\n",
       "      <td>289202.704229</td>\n",
       "      <td>недвижимость</td>\n",
       "    </tr>\n",
       "    <tr>\n",
       "      <th>17</th>\n",
       "      <td>0</td>\n",
       "      <td>-2369.999720</td>\n",
       "      <td>33</td>\n",
       "      <td>высшее</td>\n",
       "      <td>0</td>\n",
       "      <td>гражданский брак</td>\n",
       "      <td>1</td>\n",
       "      <td>M</td>\n",
       "      <td>сотрудник</td>\n",
       "      <td>0</td>\n",
       "      <td>90410.586745</td>\n",
       "      <td>строительство недвижимости</td>\n",
       "    </tr>\n",
       "    <tr>\n",
       "      <th>18</th>\n",
       "      <td>0</td>\n",
       "      <td>400281.136913</td>\n",
       "      <td>53</td>\n",
       "      <td>среднее</td>\n",
       "      <td>1</td>\n",
       "      <td>вдовец / вдова</td>\n",
       "      <td>2</td>\n",
       "      <td>F</td>\n",
       "      <td>пенсионер</td>\n",
       "      <td>0</td>\n",
       "      <td>56823.777243</td>\n",
       "      <td>на покупку подержанного автомобиля</td>\n",
       "    </tr>\n",
       "    <tr>\n",
       "      <th>19</th>\n",
       "      <td>0</td>\n",
       "      <td>-10038.818549</td>\n",
       "      <td>48</td>\n",
       "      <td>СРЕДНЕЕ</td>\n",
       "      <td>1</td>\n",
       "      <td>в разводе</td>\n",
       "      <td>3</td>\n",
       "      <td>F</td>\n",
       "      <td>сотрудник</td>\n",
       "      <td>0</td>\n",
       "      <td>242831.107982</td>\n",
       "      <td>на покупку своего автомобиля</td>\n",
       "    </tr>\n",
       "  </tbody>\n",
       "</table>\n",
       "</div>"
      ],
      "text/plain": [
       "    children  days_employed  dob_years            education  education_id  \\\n",
       "0          1   -8437.673028         42               высшее             0   \n",
       "1          1   -4024.803754         36              среднее             1   \n",
       "2          0   -5623.422610         33              Среднее             1   \n",
       "3          3   -4124.747207         32              среднее             1   \n",
       "4          0  340266.072047         53              среднее             1   \n",
       "5          0    -926.185831         27               высшее             0   \n",
       "6          0   -2879.202052         43               высшее             0   \n",
       "7          0    -152.779569         50              СРЕДНЕЕ             1   \n",
       "8          2   -6929.865299         35               ВЫСШЕЕ             0   \n",
       "9          0   -2188.756445         41              среднее             1   \n",
       "10         2   -4171.483647         36               высшее             0   \n",
       "11         0    -792.701887         40              среднее             1   \n",
       "12         0            NaN         65              среднее             1   \n",
       "13         0   -1846.641941         54  неоконченное высшее             2   \n",
       "14         0   -1844.956182         56               высшее             0   \n",
       "15         1    -972.364419         26              среднее             1   \n",
       "16         0   -1719.934226         35              среднее             1   \n",
       "17         0   -2369.999720         33               высшее             0   \n",
       "18         0  400281.136913         53              среднее             1   \n",
       "19         0  -10038.818549         48              СРЕДНЕЕ             1   \n",
       "\n",
       "       family_status  family_status_id gender income_type  debt  \\\n",
       "0    женат / замужем                 0      F   сотрудник     0   \n",
       "1    женат / замужем                 0      F   сотрудник     0   \n",
       "2    женат / замужем                 0      M   сотрудник     0   \n",
       "3    женат / замужем                 0      M   сотрудник     0   \n",
       "4   гражданский брак                 1      F   пенсионер     0   \n",
       "5   гражданский брак                 1      M   компаньон     0   \n",
       "6    женат / замужем                 0      F   компаньон     0   \n",
       "7    женат / замужем                 0      M   сотрудник     0   \n",
       "8   гражданский брак                 1      F   сотрудник     0   \n",
       "9    женат / замужем                 0      M   сотрудник     0   \n",
       "10   женат / замужем                 0      M   компаньон     0   \n",
       "11   женат / замужем                 0      F   сотрудник     0   \n",
       "12  гражданский брак                 1      M   пенсионер     0   \n",
       "13   женат / замужем                 0      F   сотрудник     0   \n",
       "14  гражданский брак                 1      F   компаньон     1   \n",
       "15   женат / замужем                 0      F   сотрудник     0   \n",
       "16   женат / замужем                 0      F   сотрудник     0   \n",
       "17  гражданский брак                 1      M   сотрудник     0   \n",
       "18    вдовец / вдова                 2      F   пенсионер     0   \n",
       "19         в разводе                 3      F   сотрудник     0   \n",
       "\n",
       "     total_income                                 purpose  \n",
       "0   253875.639453                           покупка жилья  \n",
       "1   112080.014102                 приобретение автомобиля  \n",
       "2   145885.952297                           покупка жилья  \n",
       "3   267628.550329              дополнительное образование  \n",
       "4   158616.077870                         сыграть свадьбу  \n",
       "5   255763.565419                           покупка жилья  \n",
       "6   240525.971920                       операции с жильем  \n",
       "7   135823.934197                             образование  \n",
       "8    95856.832424                   на проведение свадьбы  \n",
       "9   144425.938277                 покупка жилья для семьи  \n",
       "10  113943.491460                    покупка недвижимости  \n",
       "11   77069.234271       покупка коммерческой недвижимости  \n",
       "12            NaN                         сыграть свадьбу  \n",
       "13  130458.228857                 приобретение автомобиля  \n",
       "14  165127.911772              покупка жилой недвижимости  \n",
       "15  116820.904450  строительство собственной недвижимости  \n",
       "16  289202.704229                            недвижимость  \n",
       "17   90410.586745              строительство недвижимости  \n",
       "18   56823.777243      на покупку подержанного автомобиля  \n",
       "19  242831.107982            на покупку своего автомобиля  "
      ]
     },
     "metadata": {},
     "output_type": "display_data"
    }
   ],
   "source": [
    "# чтение файла с данными и сохранение в data\n",
    "data=pd.read_csv('/datasets/data.csv')\n",
    "#вывод первых 20-ти строк таблицы\n",
    "display(data.head(20))"
   ]
  },
  {
   "cell_type": "code",
   "execution_count": 3,
   "id": "436f48dd",
   "metadata": {},
   "outputs": [
    {
     "name": "stdout",
     "output_type": "stream",
     "text": [
      "<class 'pandas.core.frame.DataFrame'>\n",
      "RangeIndex: 21525 entries, 0 to 21524\n",
      "Data columns (total 12 columns):\n",
      " #   Column            Non-Null Count  Dtype  \n",
      "---  ------            --------------  -----  \n",
      " 0   children          21525 non-null  int64  \n",
      " 1   days_employed     19351 non-null  float64\n",
      " 2   dob_years         21525 non-null  int64  \n",
      " 3   education         21525 non-null  object \n",
      " 4   education_id      21525 non-null  int64  \n",
      " 5   family_status     21525 non-null  object \n",
      " 6   family_status_id  21525 non-null  int64  \n",
      " 7   gender            21525 non-null  object \n",
      " 8   income_type       21525 non-null  object \n",
      " 9   debt              21525 non-null  int64  \n",
      " 10  total_income      19351 non-null  float64\n",
      " 11  purpose           21525 non-null  object \n",
      "dtypes: float64(2), int64(5), object(5)\n",
      "memory usage: 2.0+ MB\n"
     ]
    }
   ],
   "source": [
    "# получение общей информации о данных в таблице\n",
    "data.info()"
   ]
  },
  {
   "cell_type": "markdown",
   "id": "7b802af0",
   "metadata": {},
   "source": [
    "<div class=\"alert alert-danger\">\n",
    "<b>❌ Комментарий ревьюера v1:</b> \n",
    "<br>Тут необходимо написать короткий вывод о проблемах с данными (пропуски, дубликаты, неверный тип данных, странные значения и т.д.)\n",
    "</div>"
   ]
  },
  {
   "cell_type": "markdown",
   "id": "8cb350d4",
   "metadata": {},
   "source": [
    "Итак, в таблице 11 столбцов. Тип данных во всех столбцах — `object`, `int64`, `float64`\n",
    "\n",
    "Согласно документации к данным:\n",
    "* children — количество детей в семье\n",
    "* days_employed — общий трудовой стаж в днях\n",
    "* dob_years — возраст клиента в годах\n",
    "* education — уровень образования клиента\n",
    "* education_id — идентификатор уровня образования\n",
    "* family_status — семейное положение\n",
    "* family_status_id — идентификатор семейного положения\n",
    "* gender — пол клиента\n",
    "* income_type — тип занятости\n",
    "* debt — имел ли задолженность по возврату кредитов\n",
    "* total_income — ежемесячный доход\n",
    "* purpose — цель получения кредита\n",
    "\n",
    "В названиях колонок нарушений нет.\n",
    "\n",
    "Количество значений в столбцах различается. Значит, в данных есть пропущенные значения."
   ]
  },
  {
   "cell_type": "markdown",
   "id": "9f78df0a",
   "metadata": {},
   "source": [
    "**Выводы**\n",
    "\n",
    "В каждой строке таблицы — данные о платежеспособности клиента. Часть колонок описывают пользователя: количество детей в семье, общий трудовой стаж в днях, возраст, уровень образования, семейное положение, пол, тип занятости.\n",
    "Предварительно можно утверждать, что, данных достаточно для проверки гипотез. Но встречаются пропуски в данных, а в названиях колонок — расхождения с хорошим стилем.\n",
    "\n",
    "Чтобы двигаться дальше, нужно устранить проблемы в данных."
   ]
  },
  {
   "cell_type": "markdown",
   "id": "308b8025",
   "metadata": {},
   "source": [
    "<div class=\"alert alert-info\">\n",
    "<b>Комментарий студента:</b>\n",
    "<br>Выполнил\n",
    "</div>"
   ]
  },
  {
   "cell_type": "markdown",
   "id": "a57eafdf",
   "metadata": {},
   "source": [
    "<div class=\"alert alert-success\">\n",
    "<b>✔️ Комментарий ревьюера v2:</b> \n",
    "<br>Отлично!\n",
    "<br>Во время первичного анализа данных, может помочь метод describe(). Он покажет разброс значений, максимум, минимум, среднее и медиану. \n",
    "</div>"
   ]
  },
  {
   "cell_type": "markdown",
   "id": "8fd2aefc",
   "metadata": {},
   "source": [
    "### Шаг 2.1 Заполнение пропусков"
   ]
  },
  {
   "cell_type": "code",
   "execution_count": 29,
   "id": "3e933bb2",
   "metadata": {},
   "outputs": [
    {
     "data": {
      "text/plain": [
       "children            0\n",
       "days_employed       0\n",
       "dob_years           0\n",
       "education           0\n",
       "education_id        0\n",
       "family_status       0\n",
       "family_status_id    0\n",
       "gender              0\n",
       "income_type         0\n",
       "debt                0\n",
       "total_income        0\n",
       "purpose             0\n",
       "dtype: int64"
      ]
     },
     "execution_count": 29,
     "metadata": {},
     "output_type": "execute_result"
    }
   ],
   "source": [
    "#поиск количества пропусков в каждом столбце\n",
    "data.isna().sum()"
   ]
  },
  {
   "cell_type": "code",
   "execution_count": 30,
   "id": "0f609217",
   "metadata": {},
   "outputs": [
    {
     "name": "stdout",
     "output_type": "stream",
     "text": [
      "0.0\n"
     ]
    },
    {
     "data": {
      "text/plain": [
       "children            0.0\n",
       "days_employed       0.0\n",
       "dob_years           0.0\n",
       "education           0.0\n",
       "education_id        0.0\n",
       "family_status       0.0\n",
       "family_status_id    0.0\n",
       "gender              0.0\n",
       "income_type         0.0\n",
       "debt                0.0\n",
       "total_income        0.0\n",
       "purpose             0.0\n",
       "dtype: float64"
      ]
     },
     "execution_count": 30,
     "metadata": {},
     "output_type": "execute_result"
    }
   ],
   "source": [
    "#доля пропущенных значений в столбце \"days_employed\"\n",
    "print(data[data['days_employed'].isnull()]['children'].count()/len(data['days_employed']))\n",
    "data.isna().mean()#для себя"
   ]
  },
  {
   "cell_type": "code",
   "execution_count": 31,
   "id": "fd41431f",
   "metadata": {},
   "outputs": [
    {
     "data": {
      "text/plain": [
       "0.0"
      ]
     },
     "execution_count": 31,
     "metadata": {},
     "output_type": "execute_result"
    }
   ],
   "source": [
    "#доля пропущенных значений в столбце \"total_income\"\n",
    "data[data['total_income'].isnull()]['children'].count()/len(data['total_income'])"
   ]
  },
  {
   "cell_type": "markdown",
   "id": "b82306af",
   "metadata": {},
   "source": [
    "<div class=\"alert alert-success\">\n",
    "<b>✔️ Комментарий ревьюера v1:</b> \n",
    "<br>Ещё можно посмотреть долю пропущенных значений среди всех данных следующим способом\n",
    "    \n",
    "    df.isna().mean()\n",
    "</div>"
   ]
  },
  {
   "cell_type": "markdown",
   "id": "ced74fb8",
   "metadata": {},
   "source": [
    "Мы выяснили, что количество пропусков равно 2174. Попробуем предположить с чем связаны эти пропуски: случайны ли они."
   ]
  },
  {
   "cell_type": "code",
   "execution_count": 32,
   "id": "6886bc84",
   "metadata": {
    "scrolled": true
   },
   "outputs": [
    {
     "data": {
      "text/html": [
       "<div>\n",
       "<style scoped>\n",
       "    .dataframe tbody tr th:only-of-type {\n",
       "        vertical-align: middle;\n",
       "    }\n",
       "\n",
       "    .dataframe tbody tr th {\n",
       "        vertical-align: top;\n",
       "    }\n",
       "\n",
       "    .dataframe thead th {\n",
       "        text-align: right;\n",
       "    }\n",
       "</style>\n",
       "<table border=\"1\" class=\"dataframe\">\n",
       "  <thead>\n",
       "    <tr style=\"text-align: right;\">\n",
       "      <th></th>\n",
       "      <th>children</th>\n",
       "      <th>days_employed</th>\n",
       "      <th>dob_years</th>\n",
       "      <th>education</th>\n",
       "      <th>education_id</th>\n",
       "      <th>family_status</th>\n",
       "      <th>family_status_id</th>\n",
       "      <th>gender</th>\n",
       "      <th>income_type</th>\n",
       "      <th>debt</th>\n",
       "      <th>total_income</th>\n",
       "      <th>purpose</th>\n",
       "    </tr>\n",
       "  </thead>\n",
       "  <tbody>\n",
       "  </tbody>\n",
       "</table>\n",
       "</div>"
      ],
      "text/plain": [
       "Empty DataFrame\n",
       "Columns: [children, days_employed, dob_years, education, education_id, family_status, family_status_id, gender, income_type, debt, total_income, purpose]\n",
       "Index: []"
      ]
     },
     "metadata": {},
     "output_type": "display_data"
    }
   ],
   "source": [
    "display(data[data['days_employed'].isnull()].head(20))"
   ]
  },
  {
   "cell_type": "markdown",
   "id": "e010ebca",
   "metadata": {},
   "source": [
    "Глядя на таблицу, проверим связь пропусков со столбцами 'income_type', 'education' и 'debt'"
   ]
  },
  {
   "cell_type": "code",
   "execution_count": 33,
   "id": "a7fb9a87",
   "metadata": {},
   "outputs": [
    {
     "data": {
      "text/plain": [
       "income_type\n",
       "безработный            2\n",
       "в декрете              1\n",
       "госслужащий         1459\n",
       "компаньон           5085\n",
       "пенсионер           3856\n",
       "предприниматель        2\n",
       "сотрудник          11119\n",
       "студент                1\n",
       "Name: children, dtype: int64"
      ]
     },
     "execution_count": 33,
     "metadata": {},
     "output_type": "execute_result"
    }
   ],
   "source": [
    "data.groupby('income_type')['children'].count()"
   ]
  },
  {
   "cell_type": "code",
   "execution_count": 34,
   "id": "4a3ab136",
   "metadata": {},
   "outputs": [
    {
     "data": {
      "text/plain": [
       "education\n",
       "ВЫСШЕЕ                   274\n",
       "Высшее                   268\n",
       "НАЧАЛЬНОЕ                 17\n",
       "НЕОКОНЧЕННОЕ ВЫСШЕЕ       29\n",
       "Начальное                 15\n",
       "Неоконченное высшее       47\n",
       "СРЕДНЕЕ                  772\n",
       "Среднее                  711\n",
       "УЧЕНАЯ СТЕПЕНЬ             1\n",
       "Ученая степень             1\n",
       "высшее                  4718\n",
       "начальное                250\n",
       "неоконченное высшее      668\n",
       "среднее                13750\n",
       "ученая степень             4\n",
       "Name: children, dtype: int64"
      ]
     },
     "execution_count": 34,
     "metadata": {},
     "output_type": "execute_result"
    }
   ],
   "source": [
    "data.groupby('education')['children'].count()"
   ]
  },
  {
   "cell_type": "code",
   "execution_count": 35,
   "id": "8b086d4f",
   "metadata": {},
   "outputs": [
    {
     "data": {
      "text/plain": [
       "0    19784\n",
       "1     1741\n",
       "Name: debt, dtype: int64"
      ]
     },
     "execution_count": 35,
     "metadata": {},
     "output_type": "execute_result"
    }
   ],
   "source": [
    "data['debt'].value_counts()"
   ]
  },
  {
   "cell_type": "markdown",
   "id": "c751ffb1",
   "metadata": {},
   "source": [
    "Глядя на полученные значения и сравнивая их с количеством пропусков в каждом столбце, можно сделать вывод, что пропуски не зависят от других значений в таблице и они полностью случайны."
   ]
  },
  {
   "cell_type": "markdown",
   "id": "d2228923",
   "metadata": {},
   "source": [
    "Возможные причины появления пропусков: если оценивать по колонкам - есть понимание, что значения в них разные и уникальных значений в этих колонках больше 2. Тогда предположим, что кредиторы не указывали свое место работы."
   ]
  },
  {
   "cell_type": "markdown",
   "id": "fb6ec787",
   "metadata": {},
   "source": [
    "Почему лучше заполнить медианным значением: среднее значение некорректно характеризует данные, когда некоторые значения сильно выделяются среди большинства."
   ]
  },
  {
   "cell_type": "markdown",
   "id": "4de19b49",
   "metadata": {},
   "source": [
    "### Шаг 2.2 Проверка данных на аномалии и исправления."
   ]
  },
  {
   "cell_type": "code",
   "execution_count": 36,
   "id": "0b339ff7",
   "metadata": {},
   "outputs": [
    {
     "data": {
      "text/html": [
       "<div>\n",
       "<style scoped>\n",
       "    .dataframe tbody tr th:only-of-type {\n",
       "        vertical-align: middle;\n",
       "    }\n",
       "\n",
       "    .dataframe tbody tr th {\n",
       "        vertical-align: top;\n",
       "    }\n",
       "\n",
       "    .dataframe thead th {\n",
       "        text-align: right;\n",
       "    }\n",
       "</style>\n",
       "<table border=\"1\" class=\"dataframe\">\n",
       "  <thead>\n",
       "    <tr style=\"text-align: right;\">\n",
       "      <th></th>\n",
       "      <th>children</th>\n",
       "      <th>days_employed</th>\n",
       "      <th>dob_years</th>\n",
       "      <th>education</th>\n",
       "      <th>education_id</th>\n",
       "      <th>family_status</th>\n",
       "      <th>family_status_id</th>\n",
       "      <th>gender</th>\n",
       "      <th>income_type</th>\n",
       "      <th>debt</th>\n",
       "      <th>total_income</th>\n",
       "      <th>purpose</th>\n",
       "    </tr>\n",
       "  </thead>\n",
       "  <tbody>\n",
       "    <tr>\n",
       "      <th>0</th>\n",
       "      <td>1</td>\n",
       "      <td>8437.673028</td>\n",
       "      <td>42</td>\n",
       "      <td>высшее</td>\n",
       "      <td>0</td>\n",
       "      <td>женат / замужем</td>\n",
       "      <td>0</td>\n",
       "      <td>F</td>\n",
       "      <td>сотрудник</td>\n",
       "      <td>0</td>\n",
       "      <td>253875.639453</td>\n",
       "      <td>покупка жилья</td>\n",
       "    </tr>\n",
       "    <tr>\n",
       "      <th>1</th>\n",
       "      <td>1</td>\n",
       "      <td>4024.803754</td>\n",
       "      <td>36</td>\n",
       "      <td>среднее</td>\n",
       "      <td>1</td>\n",
       "      <td>женат / замужем</td>\n",
       "      <td>0</td>\n",
       "      <td>F</td>\n",
       "      <td>сотрудник</td>\n",
       "      <td>0</td>\n",
       "      <td>112080.014102</td>\n",
       "      <td>приобретение автомобиля</td>\n",
       "    </tr>\n",
       "    <tr>\n",
       "      <th>2</th>\n",
       "      <td>0</td>\n",
       "      <td>5623.422610</td>\n",
       "      <td>33</td>\n",
       "      <td>Среднее</td>\n",
       "      <td>1</td>\n",
       "      <td>женат / замужем</td>\n",
       "      <td>0</td>\n",
       "      <td>M</td>\n",
       "      <td>сотрудник</td>\n",
       "      <td>0</td>\n",
       "      <td>145885.952297</td>\n",
       "      <td>покупка жилья</td>\n",
       "    </tr>\n",
       "    <tr>\n",
       "      <th>3</th>\n",
       "      <td>3</td>\n",
       "      <td>4124.747207</td>\n",
       "      <td>32</td>\n",
       "      <td>среднее</td>\n",
       "      <td>1</td>\n",
       "      <td>женат / замужем</td>\n",
       "      <td>0</td>\n",
       "      <td>M</td>\n",
       "      <td>сотрудник</td>\n",
       "      <td>0</td>\n",
       "      <td>267628.550329</td>\n",
       "      <td>дополнительное образование</td>\n",
       "    </tr>\n",
       "    <tr>\n",
       "      <th>4</th>\n",
       "      <td>0</td>\n",
       "      <td>3402.660720</td>\n",
       "      <td>53</td>\n",
       "      <td>среднее</td>\n",
       "      <td>1</td>\n",
       "      <td>гражданский брак</td>\n",
       "      <td>1</td>\n",
       "      <td>F</td>\n",
       "      <td>пенсионер</td>\n",
       "      <td>0</td>\n",
       "      <td>158616.077870</td>\n",
       "      <td>сыграть свадьбу</td>\n",
       "    </tr>\n",
       "    <tr>\n",
       "      <th>5</th>\n",
       "      <td>0</td>\n",
       "      <td>926.185831</td>\n",
       "      <td>27</td>\n",
       "      <td>высшее</td>\n",
       "      <td>0</td>\n",
       "      <td>гражданский брак</td>\n",
       "      <td>1</td>\n",
       "      <td>M</td>\n",
       "      <td>компаньон</td>\n",
       "      <td>0</td>\n",
       "      <td>255763.565419</td>\n",
       "      <td>покупка жилья</td>\n",
       "    </tr>\n",
       "    <tr>\n",
       "      <th>6</th>\n",
       "      <td>0</td>\n",
       "      <td>2879.202052</td>\n",
       "      <td>43</td>\n",
       "      <td>высшее</td>\n",
       "      <td>0</td>\n",
       "      <td>женат / замужем</td>\n",
       "      <td>0</td>\n",
       "      <td>F</td>\n",
       "      <td>компаньон</td>\n",
       "      <td>0</td>\n",
       "      <td>240525.971920</td>\n",
       "      <td>операции с жильем</td>\n",
       "    </tr>\n",
       "    <tr>\n",
       "      <th>7</th>\n",
       "      <td>0</td>\n",
       "      <td>152.779569</td>\n",
       "      <td>50</td>\n",
       "      <td>СРЕДНЕЕ</td>\n",
       "      <td>1</td>\n",
       "      <td>женат / замужем</td>\n",
       "      <td>0</td>\n",
       "      <td>M</td>\n",
       "      <td>сотрудник</td>\n",
       "      <td>0</td>\n",
       "      <td>135823.934197</td>\n",
       "      <td>образование</td>\n",
       "    </tr>\n",
       "    <tr>\n",
       "      <th>8</th>\n",
       "      <td>2</td>\n",
       "      <td>6929.865299</td>\n",
       "      <td>35</td>\n",
       "      <td>ВЫСШЕЕ</td>\n",
       "      <td>0</td>\n",
       "      <td>гражданский брак</td>\n",
       "      <td>1</td>\n",
       "      <td>F</td>\n",
       "      <td>сотрудник</td>\n",
       "      <td>0</td>\n",
       "      <td>95856.832424</td>\n",
       "      <td>на проведение свадьбы</td>\n",
       "    </tr>\n",
       "    <tr>\n",
       "      <th>9</th>\n",
       "      <td>0</td>\n",
       "      <td>2188.756445</td>\n",
       "      <td>41</td>\n",
       "      <td>среднее</td>\n",
       "      <td>1</td>\n",
       "      <td>женат / замужем</td>\n",
       "      <td>0</td>\n",
       "      <td>M</td>\n",
       "      <td>сотрудник</td>\n",
       "      <td>0</td>\n",
       "      <td>144425.938277</td>\n",
       "      <td>покупка жилья для семьи</td>\n",
       "    </tr>\n",
       "    <tr>\n",
       "      <th>10</th>\n",
       "      <td>2</td>\n",
       "      <td>4171.483647</td>\n",
       "      <td>36</td>\n",
       "      <td>высшее</td>\n",
       "      <td>0</td>\n",
       "      <td>женат / замужем</td>\n",
       "      <td>0</td>\n",
       "      <td>M</td>\n",
       "      <td>компаньон</td>\n",
       "      <td>0</td>\n",
       "      <td>113943.491460</td>\n",
       "      <td>покупка недвижимости</td>\n",
       "    </tr>\n",
       "    <tr>\n",
       "      <th>11</th>\n",
       "      <td>0</td>\n",
       "      <td>792.701887</td>\n",
       "      <td>40</td>\n",
       "      <td>среднее</td>\n",
       "      <td>1</td>\n",
       "      <td>женат / замужем</td>\n",
       "      <td>0</td>\n",
       "      <td>F</td>\n",
       "      <td>сотрудник</td>\n",
       "      <td>0</td>\n",
       "      <td>77069.234271</td>\n",
       "      <td>покупка коммерческой недвижимости</td>\n",
       "    </tr>\n",
       "    <tr>\n",
       "      <th>12</th>\n",
       "      <td>0</td>\n",
       "      <td>2194.220567</td>\n",
       "      <td>65</td>\n",
       "      <td>среднее</td>\n",
       "      <td>1</td>\n",
       "      <td>гражданский брак</td>\n",
       "      <td>1</td>\n",
       "      <td>M</td>\n",
       "      <td>пенсионер</td>\n",
       "      <td>0</td>\n",
       "      <td>145017.937533</td>\n",
       "      <td>сыграть свадьбу</td>\n",
       "    </tr>\n",
       "    <tr>\n",
       "      <th>13</th>\n",
       "      <td>0</td>\n",
       "      <td>1846.641941</td>\n",
       "      <td>54</td>\n",
       "      <td>неоконченное высшее</td>\n",
       "      <td>2</td>\n",
       "      <td>женат / замужем</td>\n",
       "      <td>0</td>\n",
       "      <td>F</td>\n",
       "      <td>сотрудник</td>\n",
       "      <td>0</td>\n",
       "      <td>130458.228857</td>\n",
       "      <td>приобретение автомобиля</td>\n",
       "    </tr>\n",
       "    <tr>\n",
       "      <th>14</th>\n",
       "      <td>0</td>\n",
       "      <td>1844.956182</td>\n",
       "      <td>56</td>\n",
       "      <td>высшее</td>\n",
       "      <td>0</td>\n",
       "      <td>гражданский брак</td>\n",
       "      <td>1</td>\n",
       "      <td>F</td>\n",
       "      <td>компаньон</td>\n",
       "      <td>1</td>\n",
       "      <td>165127.911772</td>\n",
       "      <td>покупка жилой недвижимости</td>\n",
       "    </tr>\n",
       "  </tbody>\n",
       "</table>\n",
       "</div>"
      ],
      "text/plain": [
       "    children  days_employed  dob_years            education  education_id  \\\n",
       "0          1    8437.673028         42               высшее             0   \n",
       "1          1    4024.803754         36              среднее             1   \n",
       "2          0    5623.422610         33              Среднее             1   \n",
       "3          3    4124.747207         32              среднее             1   \n",
       "4          0    3402.660720         53              среднее             1   \n",
       "5          0     926.185831         27               высшее             0   \n",
       "6          0    2879.202052         43               высшее             0   \n",
       "7          0     152.779569         50              СРЕДНЕЕ             1   \n",
       "8          2    6929.865299         35               ВЫСШЕЕ             0   \n",
       "9          0    2188.756445         41              среднее             1   \n",
       "10         2    4171.483647         36               высшее             0   \n",
       "11         0     792.701887         40              среднее             1   \n",
       "12         0    2194.220567         65              среднее             1   \n",
       "13         0    1846.641941         54  неоконченное высшее             2   \n",
       "14         0    1844.956182         56               высшее             0   \n",
       "\n",
       "       family_status  family_status_id gender income_type  debt  \\\n",
       "0    женат / замужем                 0      F   сотрудник     0   \n",
       "1    женат / замужем                 0      F   сотрудник     0   \n",
       "2    женат / замужем                 0      M   сотрудник     0   \n",
       "3    женат / замужем                 0      M   сотрудник     0   \n",
       "4   гражданский брак                 1      F   пенсионер     0   \n",
       "5   гражданский брак                 1      M   компаньон     0   \n",
       "6    женат / замужем                 0      F   компаньон     0   \n",
       "7    женат / замужем                 0      M   сотрудник     0   \n",
       "8   гражданский брак                 1      F   сотрудник     0   \n",
       "9    женат / замужем                 0      M   сотрудник     0   \n",
       "10   женат / замужем                 0      M   компаньон     0   \n",
       "11   женат / замужем                 0      F   сотрудник     0   \n",
       "12  гражданский брак                 1      M   пенсионер     0   \n",
       "13   женат / замужем                 0      F   сотрудник     0   \n",
       "14  гражданский брак                 1      F   компаньон     1   \n",
       "\n",
       "     total_income                            purpose  \n",
       "0   253875.639453                      покупка жилья  \n",
       "1   112080.014102            приобретение автомобиля  \n",
       "2   145885.952297                      покупка жилья  \n",
       "3   267628.550329         дополнительное образование  \n",
       "4   158616.077870                    сыграть свадьбу  \n",
       "5   255763.565419                      покупка жилья  \n",
       "6   240525.971920                  операции с жильем  \n",
       "7   135823.934197                        образование  \n",
       "8    95856.832424              на проведение свадьбы  \n",
       "9   144425.938277            покупка жилья для семьи  \n",
       "10  113943.491460               покупка недвижимости  \n",
       "11   77069.234271  покупка коммерческой недвижимости  \n",
       "12  145017.937533                    сыграть свадьбу  \n",
       "13  130458.228857            приобретение автомобиля  \n",
       "14  165127.911772         покупка жилой недвижимости  "
      ]
     },
     "metadata": {},
     "output_type": "display_data"
    }
   ],
   "source": [
    "#Выведим первые 15-строк для примерного анализа данных\n",
    "display(data.head(15))"
   ]
  },
  {
   "cell_type": "markdown",
   "id": "4694515c",
   "metadata": {},
   "source": [
    "В столбце 'days_employed' есть значения, либо меньшие 0, либо большие 300000, которые могут искозить ответы на вопросы.\n",
    "В столбце 'total_income' данные выглядят более корректно, но проверим есть ли в нем отрицательные значения."
   ]
  },
  {
   "cell_type": "code",
   "execution_count": 37,
   "id": "308109d0",
   "metadata": {},
   "outputs": [
    {
     "name": "stdout",
     "output_type": "stream",
     "text": [
      "0\n"
     ]
    }
   ],
   "source": [
    "print(data[data['total_income']<0]['total_income'].count())"
   ]
  },
  {
   "cell_type": "markdown",
   "id": "27adef72",
   "metadata": {},
   "source": [
    "Значит данные в этом столбце более чем корректны. Тогда смело заменим пропуски на медианное значение:"
   ]
  },
  {
   "cell_type": "code",
   "execution_count": 38,
   "id": "fd0e1757",
   "metadata": {},
   "outputs": [],
   "source": [
    "data['total_income']=data['total_income'].fillna(data['total_income'].median())"
   ]
  },
  {
   "cell_type": "markdown",
   "id": "7900baeb",
   "metadata": {},
   "source": [
    "<div class=\"alert alert-success\">\n",
    "<b>✔️ Комментарий ревьюера v1:</b> \n",
    "<br>Всё верно! Также здесь можно заполнить пропуски более оптимальным способом - медианой, в зависимости от типа занятости. Для этого отлично подойдёт функция transform:\n",
    "\n",
    "    df['total_income'] = df['total_income'].fillna(df.groupby('income_type')['total_income'].transform(\"median\"))\n",
    "\n",
    "<br>Она создаёт новый столбец, который содержит столько же строк, сколько и изначальный, но только вместо оригинальных значений в каждой строке содержится медиана посчитанная по заданной группе. После этого вместо пропусков в оригинальном столбце мы подставляем значения из созданного столбца, то есть медианы в зависимости от группы.\n",
    "</div>"
   ]
  },
  {
   "cell_type": "code",
   "execution_count": 39,
   "id": "cdb13ada",
   "metadata": {},
   "outputs": [
    {
     "name": "stdout",
     "output_type": "stream",
     "text": [
      "0\n",
      "0\n"
     ]
    }
   ],
   "source": [
    "print(data[data['days_employed']>320000]['days_employed'].count())#количество значений в 'days_employed' большие 320000\n",
    "print(data[data['days_employed']>50000]['days_employed'].count())#количество значений в 'days_employed' большие 50000"
   ]
  },
  {
   "cell_type": "code",
   "execution_count": 40,
   "id": "466623c7",
   "metadata": {
    "scrolled": true
   },
   "outputs": [
    {
     "data": {
      "text/html": [
       "<div>\n",
       "<style scoped>\n",
       "    .dataframe tbody tr th:only-of-type {\n",
       "        vertical-align: middle;\n",
       "    }\n",
       "\n",
       "    .dataframe tbody tr th {\n",
       "        vertical-align: top;\n",
       "    }\n",
       "\n",
       "    .dataframe thead th {\n",
       "        text-align: right;\n",
       "    }\n",
       "</style>\n",
       "<table border=\"1\" class=\"dataframe\">\n",
       "  <thead>\n",
       "    <tr style=\"text-align: right;\">\n",
       "      <th></th>\n",
       "      <th>children</th>\n",
       "      <th>days_employed</th>\n",
       "      <th>dob_years</th>\n",
       "      <th>education</th>\n",
       "      <th>education_id</th>\n",
       "      <th>family_status</th>\n",
       "      <th>family_status_id</th>\n",
       "      <th>gender</th>\n",
       "      <th>income_type</th>\n",
       "      <th>debt</th>\n",
       "      <th>total_income</th>\n",
       "      <th>purpose</th>\n",
       "    </tr>\n",
       "  </thead>\n",
       "  <tbody>\n",
       "  </tbody>\n",
       "</table>\n",
       "</div>"
      ],
      "text/plain": [
       "Empty DataFrame\n",
       "Columns: [children, days_employed, dob_years, education, education_id, family_status, family_status_id, gender, income_type, debt, total_income, purpose]\n",
       "Index: []"
      ]
     },
     "metadata": {},
     "output_type": "display_data"
    }
   ],
   "source": [
    "display(data[data['days_employed']>320000].head(20))"
   ]
  },
  {
   "cell_type": "code",
   "execution_count": 41,
   "id": "2679d33c",
   "metadata": {},
   "outputs": [
    {
     "name": "stdout",
     "output_type": "stream",
     "text": [
      "nan\n",
      "nan\n"
     ]
    }
   ],
   "source": [
    "print(data[data['days_employed']>320000]['days_employed'].mean())#среднее значение в 'days_employed', где в 'days_employed' значения больше 320000\n",
    "print(data[data['days_employed']>320000]['dob_years'].mean())#среднее значение в 'dob_years', где в 'days_employed' значения больше 320000"
   ]
  },
  {
   "cell_type": "code",
   "execution_count": 42,
   "id": "1512ebc8",
   "metadata": {},
   "outputs": [
    {
     "name": "stdout",
     "output_type": "stream",
     "text": [
      "days_employed   NaN\n",
      "dtype: float64\n"
     ]
    }
   ],
   "source": [
    "print(data.loc[data['days_employed']<0,['days_employed']].mean())#среднее значение в 'days_employed', где в 'days_employed' значения меньше 0"
   ]
  },
  {
   "cell_type": "code",
   "execution_count": 43,
   "id": "04be2c88",
   "metadata": {},
   "outputs": [
    {
     "name": "stdout",
     "output_type": "stream",
     "text": [
      "dob_years   NaN\n",
      "dtype: float64\n"
     ]
    }
   ],
   "source": [
    "print(data.loc[data['days_employed']<0,['dob_years']].mean())#средний возраст людей, у которых в 'days_employed' значения меньше 0"
   ]
  },
  {
   "cell_type": "markdown",
   "id": "dde9a983",
   "metadata": {},
   "source": [
    "Учитывая, что средний возраст и среднее значение, где значения в столбце days_employed<0 - 39,8 и -2353 соответственно;         средний возраст и среднее значение, где значения в столбце days_employed>320000 - 59,1 и 365004.3099162686 соответственно, то поделим все значения>320000 на 100"
   ]
  },
  {
   "cell_type": "code",
   "execution_count": 44,
   "id": "6b3f0571",
   "metadata": {},
   "outputs": [],
   "source": [
    "data.loc[data['days_employed']>320000,['days_employed']]=data['days_employed']/100"
   ]
  },
  {
   "cell_type": "markdown",
   "id": "56955d56",
   "metadata": {},
   "source": [
    "<div class=\"alert alert-success\">\n",
    "<b>✔️ Комментарий ревьюера v1:</b> \n",
    "<br>👏🏻👏🏻👏🏻 Отличная работа с аномальными значениями. Молодец!\n",
    "</div>"
   ]
  },
  {
   "cell_type": "code",
   "execution_count": 45,
   "id": "d172ae20",
   "metadata": {},
   "outputs": [
    {
     "data": {
      "text/html": [
       "<div>\n",
       "<style scoped>\n",
       "    .dataframe tbody tr th:only-of-type {\n",
       "        vertical-align: middle;\n",
       "    }\n",
       "\n",
       "    .dataframe tbody tr th {\n",
       "        vertical-align: top;\n",
       "    }\n",
       "\n",
       "    .dataframe thead th {\n",
       "        text-align: right;\n",
       "    }\n",
       "</style>\n",
       "<table border=\"1\" class=\"dataframe\">\n",
       "  <thead>\n",
       "    <tr style=\"text-align: right;\">\n",
       "      <th></th>\n",
       "      <th>children</th>\n",
       "      <th>days_employed</th>\n",
       "      <th>dob_years</th>\n",
       "      <th>education</th>\n",
       "      <th>education_id</th>\n",
       "      <th>family_status</th>\n",
       "      <th>family_status_id</th>\n",
       "      <th>gender</th>\n",
       "      <th>income_type</th>\n",
       "      <th>debt</th>\n",
       "      <th>total_income</th>\n",
       "      <th>purpose</th>\n",
       "    </tr>\n",
       "  </thead>\n",
       "  <tbody>\n",
       "    <tr>\n",
       "      <th>0</th>\n",
       "      <td>1</td>\n",
       "      <td>8437.673028</td>\n",
       "      <td>42</td>\n",
       "      <td>высшее</td>\n",
       "      <td>0</td>\n",
       "      <td>женат / замужем</td>\n",
       "      <td>0</td>\n",
       "      <td>F</td>\n",
       "      <td>сотрудник</td>\n",
       "      <td>0</td>\n",
       "      <td>253875.639453</td>\n",
       "      <td>покупка жилья</td>\n",
       "    </tr>\n",
       "    <tr>\n",
       "      <th>1</th>\n",
       "      <td>1</td>\n",
       "      <td>4024.803754</td>\n",
       "      <td>36</td>\n",
       "      <td>среднее</td>\n",
       "      <td>1</td>\n",
       "      <td>женат / замужем</td>\n",
       "      <td>0</td>\n",
       "      <td>F</td>\n",
       "      <td>сотрудник</td>\n",
       "      <td>0</td>\n",
       "      <td>112080.014102</td>\n",
       "      <td>приобретение автомобиля</td>\n",
       "    </tr>\n",
       "    <tr>\n",
       "      <th>2</th>\n",
       "      <td>0</td>\n",
       "      <td>5623.422610</td>\n",
       "      <td>33</td>\n",
       "      <td>Среднее</td>\n",
       "      <td>1</td>\n",
       "      <td>женат / замужем</td>\n",
       "      <td>0</td>\n",
       "      <td>M</td>\n",
       "      <td>сотрудник</td>\n",
       "      <td>0</td>\n",
       "      <td>145885.952297</td>\n",
       "      <td>покупка жилья</td>\n",
       "    </tr>\n",
       "    <tr>\n",
       "      <th>3</th>\n",
       "      <td>3</td>\n",
       "      <td>4124.747207</td>\n",
       "      <td>32</td>\n",
       "      <td>среднее</td>\n",
       "      <td>1</td>\n",
       "      <td>женат / замужем</td>\n",
       "      <td>0</td>\n",
       "      <td>M</td>\n",
       "      <td>сотрудник</td>\n",
       "      <td>0</td>\n",
       "      <td>267628.550329</td>\n",
       "      <td>дополнительное образование</td>\n",
       "    </tr>\n",
       "    <tr>\n",
       "      <th>4</th>\n",
       "      <td>0</td>\n",
       "      <td>3402.660720</td>\n",
       "      <td>53</td>\n",
       "      <td>среднее</td>\n",
       "      <td>1</td>\n",
       "      <td>гражданский брак</td>\n",
       "      <td>1</td>\n",
       "      <td>F</td>\n",
       "      <td>пенсионер</td>\n",
       "      <td>0</td>\n",
       "      <td>158616.077870</td>\n",
       "      <td>сыграть свадьбу</td>\n",
       "    </tr>\n",
       "    <tr>\n",
       "      <th>5</th>\n",
       "      <td>0</td>\n",
       "      <td>926.185831</td>\n",
       "      <td>27</td>\n",
       "      <td>высшее</td>\n",
       "      <td>0</td>\n",
       "      <td>гражданский брак</td>\n",
       "      <td>1</td>\n",
       "      <td>M</td>\n",
       "      <td>компаньон</td>\n",
       "      <td>0</td>\n",
       "      <td>255763.565419</td>\n",
       "      <td>покупка жилья</td>\n",
       "    </tr>\n",
       "    <tr>\n",
       "      <th>6</th>\n",
       "      <td>0</td>\n",
       "      <td>2879.202052</td>\n",
       "      <td>43</td>\n",
       "      <td>высшее</td>\n",
       "      <td>0</td>\n",
       "      <td>женат / замужем</td>\n",
       "      <td>0</td>\n",
       "      <td>F</td>\n",
       "      <td>компаньон</td>\n",
       "      <td>0</td>\n",
       "      <td>240525.971920</td>\n",
       "      <td>операции с жильем</td>\n",
       "    </tr>\n",
       "    <tr>\n",
       "      <th>7</th>\n",
       "      <td>0</td>\n",
       "      <td>152.779569</td>\n",
       "      <td>50</td>\n",
       "      <td>СРЕДНЕЕ</td>\n",
       "      <td>1</td>\n",
       "      <td>женат / замужем</td>\n",
       "      <td>0</td>\n",
       "      <td>M</td>\n",
       "      <td>сотрудник</td>\n",
       "      <td>0</td>\n",
       "      <td>135823.934197</td>\n",
       "      <td>образование</td>\n",
       "    </tr>\n",
       "    <tr>\n",
       "      <th>8</th>\n",
       "      <td>2</td>\n",
       "      <td>6929.865299</td>\n",
       "      <td>35</td>\n",
       "      <td>ВЫСШЕЕ</td>\n",
       "      <td>0</td>\n",
       "      <td>гражданский брак</td>\n",
       "      <td>1</td>\n",
       "      <td>F</td>\n",
       "      <td>сотрудник</td>\n",
       "      <td>0</td>\n",
       "      <td>95856.832424</td>\n",
       "      <td>на проведение свадьбы</td>\n",
       "    </tr>\n",
       "    <tr>\n",
       "      <th>9</th>\n",
       "      <td>0</td>\n",
       "      <td>2188.756445</td>\n",
       "      <td>41</td>\n",
       "      <td>среднее</td>\n",
       "      <td>1</td>\n",
       "      <td>женат / замужем</td>\n",
       "      <td>0</td>\n",
       "      <td>M</td>\n",
       "      <td>сотрудник</td>\n",
       "      <td>0</td>\n",
       "      <td>144425.938277</td>\n",
       "      <td>покупка жилья для семьи</td>\n",
       "    </tr>\n",
       "    <tr>\n",
       "      <th>10</th>\n",
       "      <td>2</td>\n",
       "      <td>4171.483647</td>\n",
       "      <td>36</td>\n",
       "      <td>высшее</td>\n",
       "      <td>0</td>\n",
       "      <td>женат / замужем</td>\n",
       "      <td>0</td>\n",
       "      <td>M</td>\n",
       "      <td>компаньон</td>\n",
       "      <td>0</td>\n",
       "      <td>113943.491460</td>\n",
       "      <td>покупка недвижимости</td>\n",
       "    </tr>\n",
       "    <tr>\n",
       "      <th>11</th>\n",
       "      <td>0</td>\n",
       "      <td>792.701887</td>\n",
       "      <td>40</td>\n",
       "      <td>среднее</td>\n",
       "      <td>1</td>\n",
       "      <td>женат / замужем</td>\n",
       "      <td>0</td>\n",
       "      <td>F</td>\n",
       "      <td>сотрудник</td>\n",
       "      <td>0</td>\n",
       "      <td>77069.234271</td>\n",
       "      <td>покупка коммерческой недвижимости</td>\n",
       "    </tr>\n",
       "    <tr>\n",
       "      <th>12</th>\n",
       "      <td>0</td>\n",
       "      <td>2194.220567</td>\n",
       "      <td>65</td>\n",
       "      <td>среднее</td>\n",
       "      <td>1</td>\n",
       "      <td>гражданский брак</td>\n",
       "      <td>1</td>\n",
       "      <td>M</td>\n",
       "      <td>пенсионер</td>\n",
       "      <td>0</td>\n",
       "      <td>145017.937533</td>\n",
       "      <td>сыграть свадьбу</td>\n",
       "    </tr>\n",
       "    <tr>\n",
       "      <th>13</th>\n",
       "      <td>0</td>\n",
       "      <td>1846.641941</td>\n",
       "      <td>54</td>\n",
       "      <td>неоконченное высшее</td>\n",
       "      <td>2</td>\n",
       "      <td>женат / замужем</td>\n",
       "      <td>0</td>\n",
       "      <td>F</td>\n",
       "      <td>сотрудник</td>\n",
       "      <td>0</td>\n",
       "      <td>130458.228857</td>\n",
       "      <td>приобретение автомобиля</td>\n",
       "    </tr>\n",
       "    <tr>\n",
       "      <th>14</th>\n",
       "      <td>0</td>\n",
       "      <td>1844.956182</td>\n",
       "      <td>56</td>\n",
       "      <td>высшее</td>\n",
       "      <td>0</td>\n",
       "      <td>гражданский брак</td>\n",
       "      <td>1</td>\n",
       "      <td>F</td>\n",
       "      <td>компаньон</td>\n",
       "      <td>1</td>\n",
       "      <td>165127.911772</td>\n",
       "      <td>покупка жилой недвижимости</td>\n",
       "    </tr>\n",
       "    <tr>\n",
       "      <th>15</th>\n",
       "      <td>1</td>\n",
       "      <td>972.364419</td>\n",
       "      <td>26</td>\n",
       "      <td>среднее</td>\n",
       "      <td>1</td>\n",
       "      <td>женат / замужем</td>\n",
       "      <td>0</td>\n",
       "      <td>F</td>\n",
       "      <td>сотрудник</td>\n",
       "      <td>0</td>\n",
       "      <td>116820.904450</td>\n",
       "      <td>строительство собственной недвижимости</td>\n",
       "    </tr>\n",
       "    <tr>\n",
       "      <th>16</th>\n",
       "      <td>0</td>\n",
       "      <td>1719.934226</td>\n",
       "      <td>35</td>\n",
       "      <td>среднее</td>\n",
       "      <td>1</td>\n",
       "      <td>женат / замужем</td>\n",
       "      <td>0</td>\n",
       "      <td>F</td>\n",
       "      <td>сотрудник</td>\n",
       "      <td>0</td>\n",
       "      <td>289202.704229</td>\n",
       "      <td>недвижимость</td>\n",
       "    </tr>\n",
       "    <tr>\n",
       "      <th>17</th>\n",
       "      <td>0</td>\n",
       "      <td>2369.999720</td>\n",
       "      <td>33</td>\n",
       "      <td>высшее</td>\n",
       "      <td>0</td>\n",
       "      <td>гражданский брак</td>\n",
       "      <td>1</td>\n",
       "      <td>M</td>\n",
       "      <td>сотрудник</td>\n",
       "      <td>0</td>\n",
       "      <td>90410.586745</td>\n",
       "      <td>строительство недвижимости</td>\n",
       "    </tr>\n",
       "    <tr>\n",
       "      <th>18</th>\n",
       "      <td>0</td>\n",
       "      <td>4002.811369</td>\n",
       "      <td>53</td>\n",
       "      <td>среднее</td>\n",
       "      <td>1</td>\n",
       "      <td>вдовец / вдова</td>\n",
       "      <td>2</td>\n",
       "      <td>F</td>\n",
       "      <td>пенсионер</td>\n",
       "      <td>0</td>\n",
       "      <td>56823.777243</td>\n",
       "      <td>на покупку подержанного автомобиля</td>\n",
       "    </tr>\n",
       "    <tr>\n",
       "      <th>19</th>\n",
       "      <td>0</td>\n",
       "      <td>10038.818549</td>\n",
       "      <td>48</td>\n",
       "      <td>СРЕДНЕЕ</td>\n",
       "      <td>1</td>\n",
       "      <td>в разводе</td>\n",
       "      <td>3</td>\n",
       "      <td>F</td>\n",
       "      <td>сотрудник</td>\n",
       "      <td>0</td>\n",
       "      <td>242831.107982</td>\n",
       "      <td>на покупку своего автомобиля</td>\n",
       "    </tr>\n",
       "  </tbody>\n",
       "</table>\n",
       "</div>"
      ],
      "text/plain": [
       "    children  days_employed  dob_years            education  education_id  \\\n",
       "0          1    8437.673028         42               высшее             0   \n",
       "1          1    4024.803754         36              среднее             1   \n",
       "2          0    5623.422610         33              Среднее             1   \n",
       "3          3    4124.747207         32              среднее             1   \n",
       "4          0    3402.660720         53              среднее             1   \n",
       "5          0     926.185831         27               высшее             0   \n",
       "6          0    2879.202052         43               высшее             0   \n",
       "7          0     152.779569         50              СРЕДНЕЕ             1   \n",
       "8          2    6929.865299         35               ВЫСШЕЕ             0   \n",
       "9          0    2188.756445         41              среднее             1   \n",
       "10         2    4171.483647         36               высшее             0   \n",
       "11         0     792.701887         40              среднее             1   \n",
       "12         0    2194.220567         65              среднее             1   \n",
       "13         0    1846.641941         54  неоконченное высшее             2   \n",
       "14         0    1844.956182         56               высшее             0   \n",
       "15         1     972.364419         26              среднее             1   \n",
       "16         0    1719.934226         35              среднее             1   \n",
       "17         0    2369.999720         33               высшее             0   \n",
       "18         0    4002.811369         53              среднее             1   \n",
       "19         0   10038.818549         48              СРЕДНЕЕ             1   \n",
       "\n",
       "       family_status  family_status_id gender income_type  debt  \\\n",
       "0    женат / замужем                 0      F   сотрудник     0   \n",
       "1    женат / замужем                 0      F   сотрудник     0   \n",
       "2    женат / замужем                 0      M   сотрудник     0   \n",
       "3    женат / замужем                 0      M   сотрудник     0   \n",
       "4   гражданский брак                 1      F   пенсионер     0   \n",
       "5   гражданский брак                 1      M   компаньон     0   \n",
       "6    женат / замужем                 0      F   компаньон     0   \n",
       "7    женат / замужем                 0      M   сотрудник     0   \n",
       "8   гражданский брак                 1      F   сотрудник     0   \n",
       "9    женат / замужем                 0      M   сотрудник     0   \n",
       "10   женат / замужем                 0      M   компаньон     0   \n",
       "11   женат / замужем                 0      F   сотрудник     0   \n",
       "12  гражданский брак                 1      M   пенсионер     0   \n",
       "13   женат / замужем                 0      F   сотрудник     0   \n",
       "14  гражданский брак                 1      F   компаньон     1   \n",
       "15   женат / замужем                 0      F   сотрудник     0   \n",
       "16   женат / замужем                 0      F   сотрудник     0   \n",
       "17  гражданский брак                 1      M   сотрудник     0   \n",
       "18    вдовец / вдова                 2      F   пенсионер     0   \n",
       "19         в разводе                 3      F   сотрудник     0   \n",
       "\n",
       "     total_income                                 purpose  \n",
       "0   253875.639453                           покупка жилья  \n",
       "1   112080.014102                 приобретение автомобиля  \n",
       "2   145885.952297                           покупка жилья  \n",
       "3   267628.550329              дополнительное образование  \n",
       "4   158616.077870                         сыграть свадьбу  \n",
       "5   255763.565419                           покупка жилья  \n",
       "6   240525.971920                       операции с жильем  \n",
       "7   135823.934197                             образование  \n",
       "8    95856.832424                   на проведение свадьбы  \n",
       "9   144425.938277                 покупка жилья для семьи  \n",
       "10  113943.491460                    покупка недвижимости  \n",
       "11   77069.234271       покупка коммерческой недвижимости  \n",
       "12  145017.937533                         сыграть свадьбу  \n",
       "13  130458.228857                 приобретение автомобиля  \n",
       "14  165127.911772              покупка жилой недвижимости  \n",
       "15  116820.904450  строительство собственной недвижимости  \n",
       "16  289202.704229                            недвижимость  \n",
       "17   90410.586745              строительство недвижимости  \n",
       "18   56823.777243      на покупку подержанного автомобиля  \n",
       "19  242831.107982            на покупку своего автомобиля  "
      ]
     },
     "metadata": {},
     "output_type": "display_data"
    }
   ],
   "source": [
    "data.loc[data['days_employed']<0,['days_employed']]=abs(data['days_employed'])#поменяем отрицательные значения на положительные\n",
    "display(data.head(20))#выведим первые 15 строк новой таблицы"
   ]
  },
  {
   "cell_type": "code",
   "execution_count": 46,
   "id": "160a6e7e",
   "metadata": {},
   "outputs": [
    {
     "name": "stdout",
     "output_type": "stream",
     "text": [
      "35    617\n",
      "40    609\n",
      "41    607\n",
      "34    603\n",
      "38    598\n",
      "42    597\n",
      "33    581\n",
      "39    573\n",
      "31    560\n",
      "36    555\n",
      "44    547\n",
      "29    545\n",
      "30    540\n",
      "48    538\n",
      "37    537\n",
      "50    514\n",
      "43    513\n",
      "32    510\n",
      "49    508\n",
      "28    503\n",
      "45    497\n",
      "27    493\n",
      "56    487\n",
      "52    484\n",
      "47    480\n",
      "54    479\n",
      "46    475\n",
      "58    461\n",
      "57    460\n",
      "53    459\n",
      "51    448\n",
      "59    444\n",
      "55    443\n",
      "26    408\n",
      "60    377\n",
      "25    357\n",
      "61    355\n",
      "62    352\n",
      "63    269\n",
      "64    265\n",
      "24    264\n",
      "23    254\n",
      "65    194\n",
      "66    183\n",
      "22    183\n",
      "67    167\n",
      "21    111\n",
      "0     101\n",
      "68     99\n",
      "69     85\n",
      "70     65\n",
      "71     58\n",
      "20     51\n",
      "72     33\n",
      "19     14\n",
      "73      8\n",
      "74      6\n",
      "75      1\n",
      "Name: dob_years, dtype: int64\n"
     ]
    }
   ],
   "source": [
    "print(data['dob_years'].value_counts())"
   ]
  },
  {
   "cell_type": "markdown",
   "id": "254bf846",
   "metadata": {},
   "source": [
    "Смог заметить, что в таблице 'dob_years' в строках есть значения равные 0, а такого не может быть. Всего таких строк 101, а значит не будем менять эти значения, т.к. они не сильно будут влиять на статистику. "
   ]
  },
  {
   "cell_type": "code",
   "execution_count": 47,
   "id": "82b7016c",
   "metadata": {},
   "outputs": [],
   "source": [
    "data['days_employed']=data['days_employed'].fillna(data['days_employed'].median())#замена оставшихся пропусков в 'days_employed'"
   ]
  },
  {
   "cell_type": "markdown",
   "id": "f5178106",
   "metadata": {},
   "source": [
    "<div class=\"alert alert-success\">\n",
    "<b>✔️ Комментарий ревьюера v1:</b> \n",
    "<br>Супер) Лучший способ - заменить пропуски в столбце days_employed через медианы с группировкой по возрасту или типу занятости"
   ]
  },
  {
   "cell_type": "code",
   "execution_count": 48,
   "id": "7716275f",
   "metadata": {},
   "outputs": [
    {
     "data": {
      "text/html": [
       "<div>\n",
       "<style scoped>\n",
       "    .dataframe tbody tr th:only-of-type {\n",
       "        vertical-align: middle;\n",
       "    }\n",
       "\n",
       "    .dataframe tbody tr th {\n",
       "        vertical-align: top;\n",
       "    }\n",
       "\n",
       "    .dataframe thead th {\n",
       "        text-align: right;\n",
       "    }\n",
       "</style>\n",
       "<table border=\"1\" class=\"dataframe\">\n",
       "  <thead>\n",
       "    <tr style=\"text-align: right;\">\n",
       "      <th></th>\n",
       "      <th>children</th>\n",
       "      <th>days_employed</th>\n",
       "      <th>dob_years</th>\n",
       "      <th>education</th>\n",
       "      <th>education_id</th>\n",
       "      <th>family_status</th>\n",
       "      <th>family_status_id</th>\n",
       "      <th>gender</th>\n",
       "      <th>income_type</th>\n",
       "      <th>debt</th>\n",
       "      <th>total_income</th>\n",
       "      <th>purpose</th>\n",
       "    </tr>\n",
       "  </thead>\n",
       "  <tbody>\n",
       "    <tr>\n",
       "      <th>0</th>\n",
       "      <td>1</td>\n",
       "      <td>8437.673028</td>\n",
       "      <td>42</td>\n",
       "      <td>высшее</td>\n",
       "      <td>0</td>\n",
       "      <td>женат / замужем</td>\n",
       "      <td>0</td>\n",
       "      <td>F</td>\n",
       "      <td>сотрудник</td>\n",
       "      <td>0</td>\n",
       "      <td>253875.639453</td>\n",
       "      <td>покупка жилья</td>\n",
       "    </tr>\n",
       "    <tr>\n",
       "      <th>1</th>\n",
       "      <td>1</td>\n",
       "      <td>4024.803754</td>\n",
       "      <td>36</td>\n",
       "      <td>среднее</td>\n",
       "      <td>1</td>\n",
       "      <td>женат / замужем</td>\n",
       "      <td>0</td>\n",
       "      <td>F</td>\n",
       "      <td>сотрудник</td>\n",
       "      <td>0</td>\n",
       "      <td>112080.014102</td>\n",
       "      <td>приобретение автомобиля</td>\n",
       "    </tr>\n",
       "    <tr>\n",
       "      <th>2</th>\n",
       "      <td>0</td>\n",
       "      <td>5623.422610</td>\n",
       "      <td>33</td>\n",
       "      <td>Среднее</td>\n",
       "      <td>1</td>\n",
       "      <td>женат / замужем</td>\n",
       "      <td>0</td>\n",
       "      <td>M</td>\n",
       "      <td>сотрудник</td>\n",
       "      <td>0</td>\n",
       "      <td>145885.952297</td>\n",
       "      <td>покупка жилья</td>\n",
       "    </tr>\n",
       "    <tr>\n",
       "      <th>3</th>\n",
       "      <td>3</td>\n",
       "      <td>4124.747207</td>\n",
       "      <td>32</td>\n",
       "      <td>среднее</td>\n",
       "      <td>1</td>\n",
       "      <td>женат / замужем</td>\n",
       "      <td>0</td>\n",
       "      <td>M</td>\n",
       "      <td>сотрудник</td>\n",
       "      <td>0</td>\n",
       "      <td>267628.550329</td>\n",
       "      <td>дополнительное образование</td>\n",
       "    </tr>\n",
       "    <tr>\n",
       "      <th>4</th>\n",
       "      <td>0</td>\n",
       "      <td>3402.660720</td>\n",
       "      <td>53</td>\n",
       "      <td>среднее</td>\n",
       "      <td>1</td>\n",
       "      <td>гражданский брак</td>\n",
       "      <td>1</td>\n",
       "      <td>F</td>\n",
       "      <td>пенсионер</td>\n",
       "      <td>0</td>\n",
       "      <td>158616.077870</td>\n",
       "      <td>сыграть свадьбу</td>\n",
       "    </tr>\n",
       "    <tr>\n",
       "      <th>5</th>\n",
       "      <td>0</td>\n",
       "      <td>926.185831</td>\n",
       "      <td>27</td>\n",
       "      <td>высшее</td>\n",
       "      <td>0</td>\n",
       "      <td>гражданский брак</td>\n",
       "      <td>1</td>\n",
       "      <td>M</td>\n",
       "      <td>компаньон</td>\n",
       "      <td>0</td>\n",
       "      <td>255763.565419</td>\n",
       "      <td>покупка жилья</td>\n",
       "    </tr>\n",
       "    <tr>\n",
       "      <th>6</th>\n",
       "      <td>0</td>\n",
       "      <td>2879.202052</td>\n",
       "      <td>43</td>\n",
       "      <td>высшее</td>\n",
       "      <td>0</td>\n",
       "      <td>женат / замужем</td>\n",
       "      <td>0</td>\n",
       "      <td>F</td>\n",
       "      <td>компаньон</td>\n",
       "      <td>0</td>\n",
       "      <td>240525.971920</td>\n",
       "      <td>операции с жильем</td>\n",
       "    </tr>\n",
       "    <tr>\n",
       "      <th>7</th>\n",
       "      <td>0</td>\n",
       "      <td>152.779569</td>\n",
       "      <td>50</td>\n",
       "      <td>СРЕДНЕЕ</td>\n",
       "      <td>1</td>\n",
       "      <td>женат / замужем</td>\n",
       "      <td>0</td>\n",
       "      <td>M</td>\n",
       "      <td>сотрудник</td>\n",
       "      <td>0</td>\n",
       "      <td>135823.934197</td>\n",
       "      <td>образование</td>\n",
       "    </tr>\n",
       "    <tr>\n",
       "      <th>8</th>\n",
       "      <td>2</td>\n",
       "      <td>6929.865299</td>\n",
       "      <td>35</td>\n",
       "      <td>ВЫСШЕЕ</td>\n",
       "      <td>0</td>\n",
       "      <td>гражданский брак</td>\n",
       "      <td>1</td>\n",
       "      <td>F</td>\n",
       "      <td>сотрудник</td>\n",
       "      <td>0</td>\n",
       "      <td>95856.832424</td>\n",
       "      <td>на проведение свадьбы</td>\n",
       "    </tr>\n",
       "    <tr>\n",
       "      <th>9</th>\n",
       "      <td>0</td>\n",
       "      <td>2188.756445</td>\n",
       "      <td>41</td>\n",
       "      <td>среднее</td>\n",
       "      <td>1</td>\n",
       "      <td>женат / замужем</td>\n",
       "      <td>0</td>\n",
       "      <td>M</td>\n",
       "      <td>сотрудник</td>\n",
       "      <td>0</td>\n",
       "      <td>144425.938277</td>\n",
       "      <td>покупка жилья для семьи</td>\n",
       "    </tr>\n",
       "    <tr>\n",
       "      <th>10</th>\n",
       "      <td>2</td>\n",
       "      <td>4171.483647</td>\n",
       "      <td>36</td>\n",
       "      <td>высшее</td>\n",
       "      <td>0</td>\n",
       "      <td>женат / замужем</td>\n",
       "      <td>0</td>\n",
       "      <td>M</td>\n",
       "      <td>компаньон</td>\n",
       "      <td>0</td>\n",
       "      <td>113943.491460</td>\n",
       "      <td>покупка недвижимости</td>\n",
       "    </tr>\n",
       "    <tr>\n",
       "      <th>11</th>\n",
       "      <td>0</td>\n",
       "      <td>792.701887</td>\n",
       "      <td>40</td>\n",
       "      <td>среднее</td>\n",
       "      <td>1</td>\n",
       "      <td>женат / замужем</td>\n",
       "      <td>0</td>\n",
       "      <td>F</td>\n",
       "      <td>сотрудник</td>\n",
       "      <td>0</td>\n",
       "      <td>77069.234271</td>\n",
       "      <td>покупка коммерческой недвижимости</td>\n",
       "    </tr>\n",
       "    <tr>\n",
       "      <th>12</th>\n",
       "      <td>0</td>\n",
       "      <td>2194.220567</td>\n",
       "      <td>65</td>\n",
       "      <td>среднее</td>\n",
       "      <td>1</td>\n",
       "      <td>гражданский брак</td>\n",
       "      <td>1</td>\n",
       "      <td>M</td>\n",
       "      <td>пенсионер</td>\n",
       "      <td>0</td>\n",
       "      <td>145017.937533</td>\n",
       "      <td>сыграть свадьбу</td>\n",
       "    </tr>\n",
       "    <tr>\n",
       "      <th>13</th>\n",
       "      <td>0</td>\n",
       "      <td>1846.641941</td>\n",
       "      <td>54</td>\n",
       "      <td>неоконченное высшее</td>\n",
       "      <td>2</td>\n",
       "      <td>женат / замужем</td>\n",
       "      <td>0</td>\n",
       "      <td>F</td>\n",
       "      <td>сотрудник</td>\n",
       "      <td>0</td>\n",
       "      <td>130458.228857</td>\n",
       "      <td>приобретение автомобиля</td>\n",
       "    </tr>\n",
       "    <tr>\n",
       "      <th>14</th>\n",
       "      <td>0</td>\n",
       "      <td>1844.956182</td>\n",
       "      <td>56</td>\n",
       "      <td>высшее</td>\n",
       "      <td>0</td>\n",
       "      <td>гражданский брак</td>\n",
       "      <td>1</td>\n",
       "      <td>F</td>\n",
       "      <td>компаньон</td>\n",
       "      <td>1</td>\n",
       "      <td>165127.911772</td>\n",
       "      <td>покупка жилой недвижимости</td>\n",
       "    </tr>\n",
       "    <tr>\n",
       "      <th>15</th>\n",
       "      <td>1</td>\n",
       "      <td>972.364419</td>\n",
       "      <td>26</td>\n",
       "      <td>среднее</td>\n",
       "      <td>1</td>\n",
       "      <td>женат / замужем</td>\n",
       "      <td>0</td>\n",
       "      <td>F</td>\n",
       "      <td>сотрудник</td>\n",
       "      <td>0</td>\n",
       "      <td>116820.904450</td>\n",
       "      <td>строительство собственной недвижимости</td>\n",
       "    </tr>\n",
       "    <tr>\n",
       "      <th>16</th>\n",
       "      <td>0</td>\n",
       "      <td>1719.934226</td>\n",
       "      <td>35</td>\n",
       "      <td>среднее</td>\n",
       "      <td>1</td>\n",
       "      <td>женат / замужем</td>\n",
       "      <td>0</td>\n",
       "      <td>F</td>\n",
       "      <td>сотрудник</td>\n",
       "      <td>0</td>\n",
       "      <td>289202.704229</td>\n",
       "      <td>недвижимость</td>\n",
       "    </tr>\n",
       "    <tr>\n",
       "      <th>17</th>\n",
       "      <td>0</td>\n",
       "      <td>2369.999720</td>\n",
       "      <td>33</td>\n",
       "      <td>высшее</td>\n",
       "      <td>0</td>\n",
       "      <td>гражданский брак</td>\n",
       "      <td>1</td>\n",
       "      <td>M</td>\n",
       "      <td>сотрудник</td>\n",
       "      <td>0</td>\n",
       "      <td>90410.586745</td>\n",
       "      <td>строительство недвижимости</td>\n",
       "    </tr>\n",
       "    <tr>\n",
       "      <th>18</th>\n",
       "      <td>0</td>\n",
       "      <td>4002.811369</td>\n",
       "      <td>53</td>\n",
       "      <td>среднее</td>\n",
       "      <td>1</td>\n",
       "      <td>вдовец / вдова</td>\n",
       "      <td>2</td>\n",
       "      <td>F</td>\n",
       "      <td>пенсионер</td>\n",
       "      <td>0</td>\n",
       "      <td>56823.777243</td>\n",
       "      <td>на покупку подержанного автомобиля</td>\n",
       "    </tr>\n",
       "    <tr>\n",
       "      <th>19</th>\n",
       "      <td>0</td>\n",
       "      <td>10038.818549</td>\n",
       "      <td>48</td>\n",
       "      <td>СРЕДНЕЕ</td>\n",
       "      <td>1</td>\n",
       "      <td>в разводе</td>\n",
       "      <td>3</td>\n",
       "      <td>F</td>\n",
       "      <td>сотрудник</td>\n",
       "      <td>0</td>\n",
       "      <td>242831.107982</td>\n",
       "      <td>на покупку своего автомобиля</td>\n",
       "    </tr>\n",
       "  </tbody>\n",
       "</table>\n",
       "</div>"
      ],
      "text/plain": [
       "    children  days_employed  dob_years            education  education_id  \\\n",
       "0          1    8437.673028         42               высшее             0   \n",
       "1          1    4024.803754         36              среднее             1   \n",
       "2          0    5623.422610         33              Среднее             1   \n",
       "3          3    4124.747207         32              среднее             1   \n",
       "4          0    3402.660720         53              среднее             1   \n",
       "5          0     926.185831         27               высшее             0   \n",
       "6          0    2879.202052         43               высшее             0   \n",
       "7          0     152.779569         50              СРЕДНЕЕ             1   \n",
       "8          2    6929.865299         35               ВЫСШЕЕ             0   \n",
       "9          0    2188.756445         41              среднее             1   \n",
       "10         2    4171.483647         36               высшее             0   \n",
       "11         0     792.701887         40              среднее             1   \n",
       "12         0    2194.220567         65              среднее             1   \n",
       "13         0    1846.641941         54  неоконченное высшее             2   \n",
       "14         0    1844.956182         56               высшее             0   \n",
       "15         1     972.364419         26              среднее             1   \n",
       "16         0    1719.934226         35              среднее             1   \n",
       "17         0    2369.999720         33               высшее             0   \n",
       "18         0    4002.811369         53              среднее             1   \n",
       "19         0   10038.818549         48              СРЕДНЕЕ             1   \n",
       "\n",
       "       family_status  family_status_id gender income_type  debt  \\\n",
       "0    женат / замужем                 0      F   сотрудник     0   \n",
       "1    женат / замужем                 0      F   сотрудник     0   \n",
       "2    женат / замужем                 0      M   сотрудник     0   \n",
       "3    женат / замужем                 0      M   сотрудник     0   \n",
       "4   гражданский брак                 1      F   пенсионер     0   \n",
       "5   гражданский брак                 1      M   компаньон     0   \n",
       "6    женат / замужем                 0      F   компаньон     0   \n",
       "7    женат / замужем                 0      M   сотрудник     0   \n",
       "8   гражданский брак                 1      F   сотрудник     0   \n",
       "9    женат / замужем                 0      M   сотрудник     0   \n",
       "10   женат / замужем                 0      M   компаньон     0   \n",
       "11   женат / замужем                 0      F   сотрудник     0   \n",
       "12  гражданский брак                 1      M   пенсионер     0   \n",
       "13   женат / замужем                 0      F   сотрудник     0   \n",
       "14  гражданский брак                 1      F   компаньон     1   \n",
       "15   женат / замужем                 0      F   сотрудник     0   \n",
       "16   женат / замужем                 0      F   сотрудник     0   \n",
       "17  гражданский брак                 1      M   сотрудник     0   \n",
       "18    вдовец / вдова                 2      F   пенсионер     0   \n",
       "19         в разводе                 3      F   сотрудник     0   \n",
       "\n",
       "     total_income                                 purpose  \n",
       "0   253875.639453                           покупка жилья  \n",
       "1   112080.014102                 приобретение автомобиля  \n",
       "2   145885.952297                           покупка жилья  \n",
       "3   267628.550329              дополнительное образование  \n",
       "4   158616.077870                         сыграть свадьбу  \n",
       "5   255763.565419                           покупка жилья  \n",
       "6   240525.971920                       операции с жильем  \n",
       "7   135823.934197                             образование  \n",
       "8    95856.832424                   на проведение свадьбы  \n",
       "9   144425.938277                 покупка жилья для семьи  \n",
       "10  113943.491460                    покупка недвижимости  \n",
       "11   77069.234271       покупка коммерческой недвижимости  \n",
       "12  145017.937533                         сыграть свадьбу  \n",
       "13  130458.228857                 приобретение автомобиля  \n",
       "14  165127.911772              покупка жилой недвижимости  \n",
       "15  116820.904450  строительство собственной недвижимости  \n",
       "16  289202.704229                            недвижимость  \n",
       "17   90410.586745              строительство недвижимости  \n",
       "18   56823.777243      на покупку подержанного автомобиля  \n",
       "19  242831.107982            на покупку своего автомобиля  "
      ]
     },
     "metadata": {},
     "output_type": "display_data"
    }
   ],
   "source": [
    "display(data.head(20))#выведим первые 20 строк новой таблицы"
   ]
  },
  {
   "cell_type": "markdown",
   "id": "0cded3f7",
   "metadata": {},
   "source": [
    "<div class=\"alert alert-danger\">\n",
    "<b>❌ Комментарий ревьюера v1:</b> \n",
    "<br>Необходимо изучить аномалии в столцбе children и поработать с ними\n",
    "</div>"
   ]
  },
  {
   "cell_type": "code",
   "execution_count": 27,
   "id": "86d04198",
   "metadata": {},
   "outputs": [
    {
     "data": {
      "text/plain": [
       " 0     14149\n",
       " 1      4818\n",
       " 2      2055\n",
       " 3       330\n",
       " 20       76\n",
       "-1        47\n",
       " 4        41\n",
       " 5         9\n",
       "Name: children, dtype: int64"
      ]
     },
     "execution_count": 27,
     "metadata": {},
     "output_type": "execute_result"
    }
   ],
   "source": [
    "data['children'].value_counts()"
   ]
  },
  {
   "cell_type": "markdown",
   "id": "ba102972",
   "metadata": {},
   "source": [
    "Можно заметить, что в столбце children есть значения, равные -1 и 20. Таких строк в общей сложности - 123, и их можно не заменять, т.к. они не сильно повлияют на статистику."
   ]
  },
  {
   "cell_type": "markdown",
   "id": "214db511",
   "metadata": {},
   "source": [
    "<div class=\"alert alert-info\">\n",
    "<b>Комментарий студента:</b>\n",
    "<br>Выполнил\n",
    "</div>"
   ]
  },
  {
   "cell_type": "markdown",
   "id": "c2dcbdfb",
   "metadata": {},
   "source": [
    "<div class=\"alert alert-success\">\n",
    "<b>✔️ Комментарий ревьюера v2:</b>\n",
    "<br>Лучше всё же их убрать)\n",
    "</div>"
   ]
  },
  {
   "cell_type": "markdown",
   "id": "a816d1ea",
   "metadata": {},
   "source": [
    "### Шаг 2.3. Изменение типов данных."
   ]
  },
  {
   "cell_type": "code",
   "execution_count": 49,
   "id": "3b7babaf",
   "metadata": {
    "scrolled": true
   },
   "outputs": [
    {
     "data": {
      "text/html": [
       "<div>\n",
       "<style scoped>\n",
       "    .dataframe tbody tr th:only-of-type {\n",
       "        vertical-align: middle;\n",
       "    }\n",
       "\n",
       "    .dataframe tbody tr th {\n",
       "        vertical-align: top;\n",
       "    }\n",
       "\n",
       "    .dataframe thead th {\n",
       "        text-align: right;\n",
       "    }\n",
       "</style>\n",
       "<table border=\"1\" class=\"dataframe\">\n",
       "  <thead>\n",
       "    <tr style=\"text-align: right;\">\n",
       "      <th></th>\n",
       "      <th>children</th>\n",
       "      <th>days_employed</th>\n",
       "      <th>dob_years</th>\n",
       "      <th>education</th>\n",
       "      <th>education_id</th>\n",
       "      <th>family_status</th>\n",
       "      <th>family_status_id</th>\n",
       "      <th>gender</th>\n",
       "      <th>income_type</th>\n",
       "      <th>debt</th>\n",
       "      <th>total_income</th>\n",
       "      <th>purpose</th>\n",
       "    </tr>\n",
       "  </thead>\n",
       "  <tbody>\n",
       "    <tr>\n",
       "      <th>0</th>\n",
       "      <td>1</td>\n",
       "      <td>8437.673028</td>\n",
       "      <td>42</td>\n",
       "      <td>высшее</td>\n",
       "      <td>0</td>\n",
       "      <td>женат / замужем</td>\n",
       "      <td>0</td>\n",
       "      <td>F</td>\n",
       "      <td>сотрудник</td>\n",
       "      <td>0</td>\n",
       "      <td>253875</td>\n",
       "      <td>покупка жилья</td>\n",
       "    </tr>\n",
       "    <tr>\n",
       "      <th>1</th>\n",
       "      <td>1</td>\n",
       "      <td>4024.803754</td>\n",
       "      <td>36</td>\n",
       "      <td>среднее</td>\n",
       "      <td>1</td>\n",
       "      <td>женат / замужем</td>\n",
       "      <td>0</td>\n",
       "      <td>F</td>\n",
       "      <td>сотрудник</td>\n",
       "      <td>0</td>\n",
       "      <td>112080</td>\n",
       "      <td>приобретение автомобиля</td>\n",
       "    </tr>\n",
       "    <tr>\n",
       "      <th>2</th>\n",
       "      <td>0</td>\n",
       "      <td>5623.422610</td>\n",
       "      <td>33</td>\n",
       "      <td>Среднее</td>\n",
       "      <td>1</td>\n",
       "      <td>женат / замужем</td>\n",
       "      <td>0</td>\n",
       "      <td>M</td>\n",
       "      <td>сотрудник</td>\n",
       "      <td>0</td>\n",
       "      <td>145885</td>\n",
       "      <td>покупка жилья</td>\n",
       "    </tr>\n",
       "    <tr>\n",
       "      <th>3</th>\n",
       "      <td>3</td>\n",
       "      <td>4124.747207</td>\n",
       "      <td>32</td>\n",
       "      <td>среднее</td>\n",
       "      <td>1</td>\n",
       "      <td>женат / замужем</td>\n",
       "      <td>0</td>\n",
       "      <td>M</td>\n",
       "      <td>сотрудник</td>\n",
       "      <td>0</td>\n",
       "      <td>267628</td>\n",
       "      <td>дополнительное образование</td>\n",
       "    </tr>\n",
       "    <tr>\n",
       "      <th>4</th>\n",
       "      <td>0</td>\n",
       "      <td>3402.660720</td>\n",
       "      <td>53</td>\n",
       "      <td>среднее</td>\n",
       "      <td>1</td>\n",
       "      <td>гражданский брак</td>\n",
       "      <td>1</td>\n",
       "      <td>F</td>\n",
       "      <td>пенсионер</td>\n",
       "      <td>0</td>\n",
       "      <td>158616</td>\n",
       "      <td>сыграть свадьбу</td>\n",
       "    </tr>\n",
       "    <tr>\n",
       "      <th>5</th>\n",
       "      <td>0</td>\n",
       "      <td>926.185831</td>\n",
       "      <td>27</td>\n",
       "      <td>высшее</td>\n",
       "      <td>0</td>\n",
       "      <td>гражданский брак</td>\n",
       "      <td>1</td>\n",
       "      <td>M</td>\n",
       "      <td>компаньон</td>\n",
       "      <td>0</td>\n",
       "      <td>255763</td>\n",
       "      <td>покупка жилья</td>\n",
       "    </tr>\n",
       "    <tr>\n",
       "      <th>6</th>\n",
       "      <td>0</td>\n",
       "      <td>2879.202052</td>\n",
       "      <td>43</td>\n",
       "      <td>высшее</td>\n",
       "      <td>0</td>\n",
       "      <td>женат / замужем</td>\n",
       "      <td>0</td>\n",
       "      <td>F</td>\n",
       "      <td>компаньон</td>\n",
       "      <td>0</td>\n",
       "      <td>240525</td>\n",
       "      <td>операции с жильем</td>\n",
       "    </tr>\n",
       "    <tr>\n",
       "      <th>7</th>\n",
       "      <td>0</td>\n",
       "      <td>152.779569</td>\n",
       "      <td>50</td>\n",
       "      <td>СРЕДНЕЕ</td>\n",
       "      <td>1</td>\n",
       "      <td>женат / замужем</td>\n",
       "      <td>0</td>\n",
       "      <td>M</td>\n",
       "      <td>сотрудник</td>\n",
       "      <td>0</td>\n",
       "      <td>135823</td>\n",
       "      <td>образование</td>\n",
       "    </tr>\n",
       "    <tr>\n",
       "      <th>8</th>\n",
       "      <td>2</td>\n",
       "      <td>6929.865299</td>\n",
       "      <td>35</td>\n",
       "      <td>ВЫСШЕЕ</td>\n",
       "      <td>0</td>\n",
       "      <td>гражданский брак</td>\n",
       "      <td>1</td>\n",
       "      <td>F</td>\n",
       "      <td>сотрудник</td>\n",
       "      <td>0</td>\n",
       "      <td>95856</td>\n",
       "      <td>на проведение свадьбы</td>\n",
       "    </tr>\n",
       "    <tr>\n",
       "      <th>9</th>\n",
       "      <td>0</td>\n",
       "      <td>2188.756445</td>\n",
       "      <td>41</td>\n",
       "      <td>среднее</td>\n",
       "      <td>1</td>\n",
       "      <td>женат / замужем</td>\n",
       "      <td>0</td>\n",
       "      <td>M</td>\n",
       "      <td>сотрудник</td>\n",
       "      <td>0</td>\n",
       "      <td>144425</td>\n",
       "      <td>покупка жилья для семьи</td>\n",
       "    </tr>\n",
       "  </tbody>\n",
       "</table>\n",
       "</div>"
      ],
      "text/plain": [
       "   children  days_employed  dob_years education  education_id  \\\n",
       "0         1    8437.673028         42    высшее             0   \n",
       "1         1    4024.803754         36   среднее             1   \n",
       "2         0    5623.422610         33   Среднее             1   \n",
       "3         3    4124.747207         32   среднее             1   \n",
       "4         0    3402.660720         53   среднее             1   \n",
       "5         0     926.185831         27    высшее             0   \n",
       "6         0    2879.202052         43    высшее             0   \n",
       "7         0     152.779569         50   СРЕДНЕЕ             1   \n",
       "8         2    6929.865299         35    ВЫСШЕЕ             0   \n",
       "9         0    2188.756445         41   среднее             1   \n",
       "\n",
       "      family_status  family_status_id gender income_type  debt  total_income  \\\n",
       "0   женат / замужем                 0      F   сотрудник     0        253875   \n",
       "1   женат / замужем                 0      F   сотрудник     0        112080   \n",
       "2   женат / замужем                 0      M   сотрудник     0        145885   \n",
       "3   женат / замужем                 0      M   сотрудник     0        267628   \n",
       "4  гражданский брак                 1      F   пенсионер     0        158616   \n",
       "5  гражданский брак                 1      M   компаньон     0        255763   \n",
       "6   женат / замужем                 0      F   компаньон     0        240525   \n",
       "7   женат / замужем                 0      M   сотрудник     0        135823   \n",
       "8  гражданский брак                 1      F   сотрудник     0         95856   \n",
       "9   женат / замужем                 0      M   сотрудник     0        144425   \n",
       "\n",
       "                      purpose  \n",
       "0               покупка жилья  \n",
       "1     приобретение автомобиля  \n",
       "2               покупка жилья  \n",
       "3  дополнительное образование  \n",
       "4             сыграть свадьбу  \n",
       "5               покупка жилья  \n",
       "6           операции с жильем  \n",
       "7                 образование  \n",
       "8       на проведение свадьбы  \n",
       "9     покупка жилья для семьи  "
      ]
     },
     "metadata": {},
     "output_type": "display_data"
    }
   ],
   "source": [
    "data['total_income']=data['total_income'].astype('int')\n",
    "display(data.head(10))"
   ]
  },
  {
   "cell_type": "markdown",
   "id": "72339ac3",
   "metadata": {},
   "source": [
    "<div class=\"alert alert-success\">\n",
    "<b>✔️ Комментарий ревьюера v1:</b> \n",
    "<br>Тут всё верно!\n",
    "</div>"
   ]
  },
  {
   "cell_type": "markdown",
   "id": "36546a01",
   "metadata": {},
   "source": [
    "### Шаг 2.4. Удаление дубликатов."
   ]
  },
  {
   "cell_type": "code",
   "execution_count": 50,
   "id": "d1ead7f5",
   "metadata": {},
   "outputs": [],
   "source": [
    "data['education']=data['education'].str.lower()#приведем текст в столбце 'education' к нижнему регистру"
   ]
  },
  {
   "cell_type": "code",
   "execution_count": 51,
   "id": "93f06bac",
   "metadata": {},
   "outputs": [
    {
     "data": {
      "text/html": [
       "<div>\n",
       "<style scoped>\n",
       "    .dataframe tbody tr th:only-of-type {\n",
       "        vertical-align: middle;\n",
       "    }\n",
       "\n",
       "    .dataframe tbody tr th {\n",
       "        vertical-align: top;\n",
       "    }\n",
       "\n",
       "    .dataframe thead th {\n",
       "        text-align: right;\n",
       "    }\n",
       "</style>\n",
       "<table border=\"1\" class=\"dataframe\">\n",
       "  <thead>\n",
       "    <tr style=\"text-align: right;\">\n",
       "      <th></th>\n",
       "      <th>children</th>\n",
       "      <th>days_employed</th>\n",
       "      <th>dob_years</th>\n",
       "      <th>education</th>\n",
       "      <th>education_id</th>\n",
       "      <th>family_status</th>\n",
       "      <th>family_status_id</th>\n",
       "      <th>gender</th>\n",
       "      <th>income_type</th>\n",
       "      <th>debt</th>\n",
       "      <th>total_income</th>\n",
       "      <th>purpose</th>\n",
       "    </tr>\n",
       "  </thead>\n",
       "  <tbody>\n",
       "    <tr>\n",
       "      <th>0</th>\n",
       "      <td>1</td>\n",
       "      <td>8437.673028</td>\n",
       "      <td>42</td>\n",
       "      <td>высшее</td>\n",
       "      <td>0</td>\n",
       "      <td>женат / замужем</td>\n",
       "      <td>0</td>\n",
       "      <td>F</td>\n",
       "      <td>сотрудник</td>\n",
       "      <td>0</td>\n",
       "      <td>253875</td>\n",
       "      <td>покупка жилья</td>\n",
       "    </tr>\n",
       "    <tr>\n",
       "      <th>1</th>\n",
       "      <td>1</td>\n",
       "      <td>4024.803754</td>\n",
       "      <td>36</td>\n",
       "      <td>среднее</td>\n",
       "      <td>1</td>\n",
       "      <td>женат / замужем</td>\n",
       "      <td>0</td>\n",
       "      <td>F</td>\n",
       "      <td>сотрудник</td>\n",
       "      <td>0</td>\n",
       "      <td>112080</td>\n",
       "      <td>приобретение автомобиля</td>\n",
       "    </tr>\n",
       "    <tr>\n",
       "      <th>2</th>\n",
       "      <td>0</td>\n",
       "      <td>5623.422610</td>\n",
       "      <td>33</td>\n",
       "      <td>среднее</td>\n",
       "      <td>1</td>\n",
       "      <td>женат / замужем</td>\n",
       "      <td>0</td>\n",
       "      <td>M</td>\n",
       "      <td>сотрудник</td>\n",
       "      <td>0</td>\n",
       "      <td>145885</td>\n",
       "      <td>покупка жилья</td>\n",
       "    </tr>\n",
       "    <tr>\n",
       "      <th>3</th>\n",
       "      <td>3</td>\n",
       "      <td>4124.747207</td>\n",
       "      <td>32</td>\n",
       "      <td>среднее</td>\n",
       "      <td>1</td>\n",
       "      <td>женат / замужем</td>\n",
       "      <td>0</td>\n",
       "      <td>M</td>\n",
       "      <td>сотрудник</td>\n",
       "      <td>0</td>\n",
       "      <td>267628</td>\n",
       "      <td>дополнительное образование</td>\n",
       "    </tr>\n",
       "    <tr>\n",
       "      <th>4</th>\n",
       "      <td>0</td>\n",
       "      <td>3402.660720</td>\n",
       "      <td>53</td>\n",
       "      <td>среднее</td>\n",
       "      <td>1</td>\n",
       "      <td>гражданский брак</td>\n",
       "      <td>1</td>\n",
       "      <td>F</td>\n",
       "      <td>пенсионер</td>\n",
       "      <td>0</td>\n",
       "      <td>158616</td>\n",
       "      <td>сыграть свадьбу</td>\n",
       "    </tr>\n",
       "    <tr>\n",
       "      <th>5</th>\n",
       "      <td>0</td>\n",
       "      <td>926.185831</td>\n",
       "      <td>27</td>\n",
       "      <td>высшее</td>\n",
       "      <td>0</td>\n",
       "      <td>гражданский брак</td>\n",
       "      <td>1</td>\n",
       "      <td>M</td>\n",
       "      <td>компаньон</td>\n",
       "      <td>0</td>\n",
       "      <td>255763</td>\n",
       "      <td>покупка жилья</td>\n",
       "    </tr>\n",
       "    <tr>\n",
       "      <th>6</th>\n",
       "      <td>0</td>\n",
       "      <td>2879.202052</td>\n",
       "      <td>43</td>\n",
       "      <td>высшее</td>\n",
       "      <td>0</td>\n",
       "      <td>женат / замужем</td>\n",
       "      <td>0</td>\n",
       "      <td>F</td>\n",
       "      <td>компаньон</td>\n",
       "      <td>0</td>\n",
       "      <td>240525</td>\n",
       "      <td>операции с жильем</td>\n",
       "    </tr>\n",
       "    <tr>\n",
       "      <th>7</th>\n",
       "      <td>0</td>\n",
       "      <td>152.779569</td>\n",
       "      <td>50</td>\n",
       "      <td>среднее</td>\n",
       "      <td>1</td>\n",
       "      <td>женат / замужем</td>\n",
       "      <td>0</td>\n",
       "      <td>M</td>\n",
       "      <td>сотрудник</td>\n",
       "      <td>0</td>\n",
       "      <td>135823</td>\n",
       "      <td>образование</td>\n",
       "    </tr>\n",
       "    <tr>\n",
       "      <th>8</th>\n",
       "      <td>2</td>\n",
       "      <td>6929.865299</td>\n",
       "      <td>35</td>\n",
       "      <td>высшее</td>\n",
       "      <td>0</td>\n",
       "      <td>гражданский брак</td>\n",
       "      <td>1</td>\n",
       "      <td>F</td>\n",
       "      <td>сотрудник</td>\n",
       "      <td>0</td>\n",
       "      <td>95856</td>\n",
       "      <td>на проведение свадьбы</td>\n",
       "    </tr>\n",
       "    <tr>\n",
       "      <th>9</th>\n",
       "      <td>0</td>\n",
       "      <td>2188.756445</td>\n",
       "      <td>41</td>\n",
       "      <td>среднее</td>\n",
       "      <td>1</td>\n",
       "      <td>женат / замужем</td>\n",
       "      <td>0</td>\n",
       "      <td>M</td>\n",
       "      <td>сотрудник</td>\n",
       "      <td>0</td>\n",
       "      <td>144425</td>\n",
       "      <td>покупка жилья для семьи</td>\n",
       "    </tr>\n",
       "  </tbody>\n",
       "</table>\n",
       "</div>"
      ],
      "text/plain": [
       "   children  days_employed  dob_years education  education_id  \\\n",
       "0         1    8437.673028         42    высшее             0   \n",
       "1         1    4024.803754         36   среднее             1   \n",
       "2         0    5623.422610         33   среднее             1   \n",
       "3         3    4124.747207         32   среднее             1   \n",
       "4         0    3402.660720         53   среднее             1   \n",
       "5         0     926.185831         27    высшее             0   \n",
       "6         0    2879.202052         43    высшее             0   \n",
       "7         0     152.779569         50   среднее             1   \n",
       "8         2    6929.865299         35    высшее             0   \n",
       "9         0    2188.756445         41   среднее             1   \n",
       "\n",
       "      family_status  family_status_id gender income_type  debt  total_income  \\\n",
       "0   женат / замужем                 0      F   сотрудник     0        253875   \n",
       "1   женат / замужем                 0      F   сотрудник     0        112080   \n",
       "2   женат / замужем                 0      M   сотрудник     0        145885   \n",
       "3   женат / замужем                 0      M   сотрудник     0        267628   \n",
       "4  гражданский брак                 1      F   пенсионер     0        158616   \n",
       "5  гражданский брак                 1      M   компаньон     0        255763   \n",
       "6   женат / замужем                 0      F   компаньон     0        240525   \n",
       "7   женат / замужем                 0      M   сотрудник     0        135823   \n",
       "8  гражданский брак                 1      F   сотрудник     0         95856   \n",
       "9   женат / замужем                 0      M   сотрудник     0        144425   \n",
       "\n",
       "                      purpose  \n",
       "0               покупка жилья  \n",
       "1     приобретение автомобиля  \n",
       "2               покупка жилья  \n",
       "3  дополнительное образование  \n",
       "4             сыграть свадьбу  \n",
       "5               покупка жилья  \n",
       "6           операции с жильем  \n",
       "7                 образование  \n",
       "8       на проведение свадьбы  \n",
       "9     покупка жилья для семьи  "
      ]
     },
     "metadata": {},
     "output_type": "display_data"
    }
   ],
   "source": [
    "display(data.head(10))"
   ]
  },
  {
   "cell_type": "code",
   "execution_count": 52,
   "id": "883e556c",
   "metadata": {},
   "outputs": [
    {
     "name": "stdout",
     "output_type": "stream",
     "text": [
      "71\n"
     ]
    }
   ],
   "source": [
    "print(data.duplicated().sum())#посчитаем количество дубликатов"
   ]
  },
  {
   "cell_type": "code",
   "execution_count": 53,
   "id": "66999b00",
   "metadata": {},
   "outputs": [],
   "source": [
    "data=data.drop_duplicates().reset_index(drop=True)#удалим дубликаты и вызовем мето reset_index(), чтобы индексы шли по порядку"
   ]
  },
  {
   "cell_type": "code",
   "execution_count": 54,
   "id": "7fa2ba1a",
   "metadata": {},
   "outputs": [
    {
     "name": "stdout",
     "output_type": "stream",
     "text": [
      "0\n"
     ]
    }
   ],
   "source": [
    "print(data.duplicated().sum())#посчитаем количество дубликатов снова"
   ]
  },
  {
   "cell_type": "markdown",
   "id": "0151aac2",
   "metadata": {},
   "source": [
    "Возможные причины появления дубликатов:\n",
    "    1.Изначально в столбце 'education' не было единого регистра;\n",
    "    2.Человеческий фактор"
   ]
  },
  {
   "cell_type": "markdown",
   "id": "36ac8855",
   "metadata": {},
   "source": [
    "<div class=\"alert alert-success\">\n",
    "<b>✔️ Комментарий ревьюера v1:</b> \n",
    "<br>Супер! От дубликатов тоже избавились\n",
    "</div>"
   ]
  },
  {
   "cell_type": "markdown",
   "id": "afed878c",
   "metadata": {},
   "source": [
    "### Шаг 2.5. Формирование дополнительных датафреймов словарей, декомпозиция исходного датафрейма."
   ]
  },
  {
   "cell_type": "code",
   "execution_count": 55,
   "id": "6bd5420c",
   "metadata": {},
   "outputs": [
    {
     "data": {
      "text/html": [
       "<div>\n",
       "<style scoped>\n",
       "    .dataframe tbody tr th:only-of-type {\n",
       "        vertical-align: middle;\n",
       "    }\n",
       "\n",
       "    .dataframe tbody tr th {\n",
       "        vertical-align: top;\n",
       "    }\n",
       "\n",
       "    .dataframe thead th {\n",
       "        text-align: right;\n",
       "    }\n",
       "</style>\n",
       "<table border=\"1\" class=\"dataframe\">\n",
       "  <thead>\n",
       "    <tr style=\"text-align: right;\">\n",
       "      <th></th>\n",
       "      <th>education_id</th>\n",
       "      <th>education</th>\n",
       "    </tr>\n",
       "  </thead>\n",
       "  <tbody>\n",
       "    <tr>\n",
       "      <th>0</th>\n",
       "      <td>0</td>\n",
       "      <td>высшее</td>\n",
       "    </tr>\n",
       "    <tr>\n",
       "      <th>1</th>\n",
       "      <td>1</td>\n",
       "      <td>среднее</td>\n",
       "    </tr>\n",
       "    <tr>\n",
       "      <th>2</th>\n",
       "      <td>2</td>\n",
       "      <td>неоконченное высшее</td>\n",
       "    </tr>\n",
       "    <tr>\n",
       "      <th>3</th>\n",
       "      <td>3</td>\n",
       "      <td>начальное</td>\n",
       "    </tr>\n",
       "    <tr>\n",
       "      <th>4</th>\n",
       "      <td>4</td>\n",
       "      <td>ученая степень</td>\n",
       "    </tr>\n",
       "  </tbody>\n",
       "</table>\n",
       "</div>"
      ],
      "text/plain": [
       "   education_id            education\n",
       "0             0               высшее\n",
       "1             1              среднее\n",
       "2             2  неоконченное высшее\n",
       "3             3            начальное\n",
       "4             4       ученая степень"
      ]
     },
     "metadata": {},
     "output_type": "display_data"
    }
   ],
   "source": [
    "#Создание датафрейма с уникальным значением для столбца 'education'\n",
    "unique_education=data['education'].unique()\n",
    "data_unique_id_education=[[i,unique_education[i]] for i in range(len(unique_education))]\n",
    "data_education=pd.DataFrame(data=data_unique_id_education,columns=['education_id','education'])\n",
    "display(data_education)"
   ]
  },
  {
   "cell_type": "code",
   "execution_count": 56,
   "id": "8703a4be",
   "metadata": {
    "scrolled": false
   },
   "outputs": [
    {
     "data": {
      "text/html": [
       "<div>\n",
       "<style scoped>\n",
       "    .dataframe tbody tr th:only-of-type {\n",
       "        vertical-align: middle;\n",
       "    }\n",
       "\n",
       "    .dataframe tbody tr th {\n",
       "        vertical-align: top;\n",
       "    }\n",
       "\n",
       "    .dataframe thead th {\n",
       "        text-align: right;\n",
       "    }\n",
       "</style>\n",
       "<table border=\"1\" class=\"dataframe\">\n",
       "  <thead>\n",
       "    <tr style=\"text-align: right;\">\n",
       "      <th></th>\n",
       "      <th>family_status_id</th>\n",
       "      <th>family_status</th>\n",
       "    </tr>\n",
       "  </thead>\n",
       "  <tbody>\n",
       "    <tr>\n",
       "      <th>0</th>\n",
       "      <td>0</td>\n",
       "      <td>женат / замужем</td>\n",
       "    </tr>\n",
       "    <tr>\n",
       "      <th>1</th>\n",
       "      <td>1</td>\n",
       "      <td>гражданский брак</td>\n",
       "    </tr>\n",
       "    <tr>\n",
       "      <th>2</th>\n",
       "      <td>2</td>\n",
       "      <td>вдовец / вдова</td>\n",
       "    </tr>\n",
       "    <tr>\n",
       "      <th>3</th>\n",
       "      <td>3</td>\n",
       "      <td>в разводе</td>\n",
       "    </tr>\n",
       "    <tr>\n",
       "      <th>4</th>\n",
       "      <td>4</td>\n",
       "      <td>Не женат / не замужем</td>\n",
       "    </tr>\n",
       "  </tbody>\n",
       "</table>\n",
       "</div>"
      ],
      "text/plain": [
       "   family_status_id          family_status\n",
       "0                 0        женат / замужем\n",
       "1                 1       гражданский брак\n",
       "2                 2         вдовец / вдова\n",
       "3                 3              в разводе\n",
       "4                 4  Не женат / не замужем"
      ]
     },
     "metadata": {},
     "output_type": "display_data"
    }
   ],
   "source": [
    "#Создание датафрейма с уникальным значением для столбца 'family_status'\n",
    "unique_family_status=data['family_status'].unique()\n",
    "data_unique_id_family_status=[[i,unique_family_status[i]] for i in range(len(unique_family_status))]\n",
    "data_family_status=pd.DataFrame(data=data_unique_id_family_status,columns=['family_status_id','family_status'])\n",
    "display(data_family_status)"
   ]
  },
  {
   "cell_type": "code",
   "execution_count": 57,
   "id": "7734384d",
   "metadata": {},
   "outputs": [],
   "source": [
    "#Удаление столбцов 'education' и 'family_status' из исходного ДатаФрейма\n",
    "data=data.drop(['education','family_status'],axis=1)"
   ]
  },
  {
   "cell_type": "code",
   "execution_count": 58,
   "id": "dc4a93ec",
   "metadata": {},
   "outputs": [
    {
     "data": {
      "text/html": [
       "<div>\n",
       "<style scoped>\n",
       "    .dataframe tbody tr th:only-of-type {\n",
       "        vertical-align: middle;\n",
       "    }\n",
       "\n",
       "    .dataframe tbody tr th {\n",
       "        vertical-align: top;\n",
       "    }\n",
       "\n",
       "    .dataframe thead th {\n",
       "        text-align: right;\n",
       "    }\n",
       "</style>\n",
       "<table border=\"1\" class=\"dataframe\">\n",
       "  <thead>\n",
       "    <tr style=\"text-align: right;\">\n",
       "      <th></th>\n",
       "      <th>children</th>\n",
       "      <th>days_employed</th>\n",
       "      <th>dob_years</th>\n",
       "      <th>education_id</th>\n",
       "      <th>family_status_id</th>\n",
       "      <th>gender</th>\n",
       "      <th>income_type</th>\n",
       "      <th>debt</th>\n",
       "      <th>total_income</th>\n",
       "      <th>purpose</th>\n",
       "    </tr>\n",
       "  </thead>\n",
       "  <tbody>\n",
       "    <tr>\n",
       "      <th>0</th>\n",
       "      <td>1</td>\n",
       "      <td>8437.673028</td>\n",
       "      <td>42</td>\n",
       "      <td>0</td>\n",
       "      <td>0</td>\n",
       "      <td>F</td>\n",
       "      <td>сотрудник</td>\n",
       "      <td>0</td>\n",
       "      <td>253875</td>\n",
       "      <td>покупка жилья</td>\n",
       "    </tr>\n",
       "    <tr>\n",
       "      <th>1</th>\n",
       "      <td>1</td>\n",
       "      <td>4024.803754</td>\n",
       "      <td>36</td>\n",
       "      <td>1</td>\n",
       "      <td>0</td>\n",
       "      <td>F</td>\n",
       "      <td>сотрудник</td>\n",
       "      <td>0</td>\n",
       "      <td>112080</td>\n",
       "      <td>приобретение автомобиля</td>\n",
       "    </tr>\n",
       "    <tr>\n",
       "      <th>2</th>\n",
       "      <td>0</td>\n",
       "      <td>5623.422610</td>\n",
       "      <td>33</td>\n",
       "      <td>1</td>\n",
       "      <td>0</td>\n",
       "      <td>M</td>\n",
       "      <td>сотрудник</td>\n",
       "      <td>0</td>\n",
       "      <td>145885</td>\n",
       "      <td>покупка жилья</td>\n",
       "    </tr>\n",
       "    <tr>\n",
       "      <th>3</th>\n",
       "      <td>3</td>\n",
       "      <td>4124.747207</td>\n",
       "      <td>32</td>\n",
       "      <td>1</td>\n",
       "      <td>0</td>\n",
       "      <td>M</td>\n",
       "      <td>сотрудник</td>\n",
       "      <td>0</td>\n",
       "      <td>267628</td>\n",
       "      <td>дополнительное образование</td>\n",
       "    </tr>\n",
       "    <tr>\n",
       "      <th>4</th>\n",
       "      <td>0</td>\n",
       "      <td>3402.660720</td>\n",
       "      <td>53</td>\n",
       "      <td>1</td>\n",
       "      <td>1</td>\n",
       "      <td>F</td>\n",
       "      <td>пенсионер</td>\n",
       "      <td>0</td>\n",
       "      <td>158616</td>\n",
       "      <td>сыграть свадьбу</td>\n",
       "    </tr>\n",
       "    <tr>\n",
       "      <th>5</th>\n",
       "      <td>0</td>\n",
       "      <td>926.185831</td>\n",
       "      <td>27</td>\n",
       "      <td>0</td>\n",
       "      <td>1</td>\n",
       "      <td>M</td>\n",
       "      <td>компаньон</td>\n",
       "      <td>0</td>\n",
       "      <td>255763</td>\n",
       "      <td>покупка жилья</td>\n",
       "    </tr>\n",
       "    <tr>\n",
       "      <th>6</th>\n",
       "      <td>0</td>\n",
       "      <td>2879.202052</td>\n",
       "      <td>43</td>\n",
       "      <td>0</td>\n",
       "      <td>0</td>\n",
       "      <td>F</td>\n",
       "      <td>компаньон</td>\n",
       "      <td>0</td>\n",
       "      <td>240525</td>\n",
       "      <td>операции с жильем</td>\n",
       "    </tr>\n",
       "    <tr>\n",
       "      <th>7</th>\n",
       "      <td>0</td>\n",
       "      <td>152.779569</td>\n",
       "      <td>50</td>\n",
       "      <td>1</td>\n",
       "      <td>0</td>\n",
       "      <td>M</td>\n",
       "      <td>сотрудник</td>\n",
       "      <td>0</td>\n",
       "      <td>135823</td>\n",
       "      <td>образование</td>\n",
       "    </tr>\n",
       "    <tr>\n",
       "      <th>8</th>\n",
       "      <td>2</td>\n",
       "      <td>6929.865299</td>\n",
       "      <td>35</td>\n",
       "      <td>0</td>\n",
       "      <td>1</td>\n",
       "      <td>F</td>\n",
       "      <td>сотрудник</td>\n",
       "      <td>0</td>\n",
       "      <td>95856</td>\n",
       "      <td>на проведение свадьбы</td>\n",
       "    </tr>\n",
       "    <tr>\n",
       "      <th>9</th>\n",
       "      <td>0</td>\n",
       "      <td>2188.756445</td>\n",
       "      <td>41</td>\n",
       "      <td>1</td>\n",
       "      <td>0</td>\n",
       "      <td>M</td>\n",
       "      <td>сотрудник</td>\n",
       "      <td>0</td>\n",
       "      <td>144425</td>\n",
       "      <td>покупка жилья для семьи</td>\n",
       "    </tr>\n",
       "  </tbody>\n",
       "</table>\n",
       "</div>"
      ],
      "text/plain": [
       "   children  days_employed  dob_years  education_id  family_status_id gender  \\\n",
       "0         1    8437.673028         42             0                 0      F   \n",
       "1         1    4024.803754         36             1                 0      F   \n",
       "2         0    5623.422610         33             1                 0      M   \n",
       "3         3    4124.747207         32             1                 0      M   \n",
       "4         0    3402.660720         53             1                 1      F   \n",
       "5         0     926.185831         27             0                 1      M   \n",
       "6         0    2879.202052         43             0                 0      F   \n",
       "7         0     152.779569         50             1                 0      M   \n",
       "8         2    6929.865299         35             0                 1      F   \n",
       "9         0    2188.756445         41             1                 0      M   \n",
       "\n",
       "  income_type  debt  total_income                     purpose  \n",
       "0   сотрудник     0        253875               покупка жилья  \n",
       "1   сотрудник     0        112080     приобретение автомобиля  \n",
       "2   сотрудник     0        145885               покупка жилья  \n",
       "3   сотрудник     0        267628  дополнительное образование  \n",
       "4   пенсионер     0        158616             сыграть свадьбу  \n",
       "5   компаньон     0        255763               покупка жилья  \n",
       "6   компаньон     0        240525           операции с жильем  \n",
       "7   сотрудник     0        135823                 образование  \n",
       "8   сотрудник     0         95856       на проведение свадьбы  \n",
       "9   сотрудник     0        144425     покупка жилья для семьи  "
      ]
     },
     "metadata": {},
     "output_type": "display_data"
    }
   ],
   "source": [
    "display(data.head(10))"
   ]
  },
  {
   "cell_type": "markdown",
   "id": "8586981a",
   "metadata": {},
   "source": [
    "<div class=\"alert alert-success\">\n",
    "<b>✔️ Комментарий ревьюера v1:</b> \n",
    "<br>Тут всё правильно 👌\n",
    "</div>"
   ]
  },
  {
   "cell_type": "markdown",
   "id": "2d0df5fe",
   "metadata": {},
   "source": [
    "### Шаг 2.6. Категоризация дохода."
   ]
  },
  {
   "cell_type": "code",
   "execution_count": 59,
   "id": "188d9c40",
   "metadata": {},
   "outputs": [],
   "source": [
    "#Создание функции категоризации по столбцу total_income\n",
    "def total_category(total):\n",
    "    if 0<=total<=30000:\n",
    "        return 'E'\n",
    "    elif 30001<=total<=50000:\n",
    "        return 'D'\n",
    "    elif 50001<=total<=200000:\n",
    "        return 'C'\n",
    "    elif 200001<=total<=1000000:\n",
    "        return 'B'\n",
    "    return 'A'"
   ]
  },
  {
   "cell_type": "code",
   "execution_count": 60,
   "id": "34504d25",
   "metadata": {},
   "outputs": [],
   "source": [
    "#Создание колонки total_income_category\n",
    "data['total_income_category']=data['total_income'].apply(total_category)"
   ]
  },
  {
   "cell_type": "code",
   "execution_count": 61,
   "id": "0521631c",
   "metadata": {},
   "outputs": [
    {
     "data": {
      "text/html": [
       "<div>\n",
       "<style scoped>\n",
       "    .dataframe tbody tr th:only-of-type {\n",
       "        vertical-align: middle;\n",
       "    }\n",
       "\n",
       "    .dataframe tbody tr th {\n",
       "        vertical-align: top;\n",
       "    }\n",
       "\n",
       "    .dataframe thead th {\n",
       "        text-align: right;\n",
       "    }\n",
       "</style>\n",
       "<table border=\"1\" class=\"dataframe\">\n",
       "  <thead>\n",
       "    <tr style=\"text-align: right;\">\n",
       "      <th></th>\n",
       "      <th>children</th>\n",
       "      <th>days_employed</th>\n",
       "      <th>dob_years</th>\n",
       "      <th>education_id</th>\n",
       "      <th>family_status_id</th>\n",
       "      <th>gender</th>\n",
       "      <th>income_type</th>\n",
       "      <th>debt</th>\n",
       "      <th>total_income</th>\n",
       "      <th>purpose</th>\n",
       "      <th>total_income_category</th>\n",
       "    </tr>\n",
       "  </thead>\n",
       "  <tbody>\n",
       "    <tr>\n",
       "      <th>0</th>\n",
       "      <td>1</td>\n",
       "      <td>8437.673028</td>\n",
       "      <td>42</td>\n",
       "      <td>0</td>\n",
       "      <td>0</td>\n",
       "      <td>F</td>\n",
       "      <td>сотрудник</td>\n",
       "      <td>0</td>\n",
       "      <td>253875</td>\n",
       "      <td>покупка жилья</td>\n",
       "      <td>B</td>\n",
       "    </tr>\n",
       "    <tr>\n",
       "      <th>1</th>\n",
       "      <td>1</td>\n",
       "      <td>4024.803754</td>\n",
       "      <td>36</td>\n",
       "      <td>1</td>\n",
       "      <td>0</td>\n",
       "      <td>F</td>\n",
       "      <td>сотрудник</td>\n",
       "      <td>0</td>\n",
       "      <td>112080</td>\n",
       "      <td>приобретение автомобиля</td>\n",
       "      <td>C</td>\n",
       "    </tr>\n",
       "    <tr>\n",
       "      <th>2</th>\n",
       "      <td>0</td>\n",
       "      <td>5623.422610</td>\n",
       "      <td>33</td>\n",
       "      <td>1</td>\n",
       "      <td>0</td>\n",
       "      <td>M</td>\n",
       "      <td>сотрудник</td>\n",
       "      <td>0</td>\n",
       "      <td>145885</td>\n",
       "      <td>покупка жилья</td>\n",
       "      <td>C</td>\n",
       "    </tr>\n",
       "    <tr>\n",
       "      <th>3</th>\n",
       "      <td>3</td>\n",
       "      <td>4124.747207</td>\n",
       "      <td>32</td>\n",
       "      <td>1</td>\n",
       "      <td>0</td>\n",
       "      <td>M</td>\n",
       "      <td>сотрудник</td>\n",
       "      <td>0</td>\n",
       "      <td>267628</td>\n",
       "      <td>дополнительное образование</td>\n",
       "      <td>B</td>\n",
       "    </tr>\n",
       "    <tr>\n",
       "      <th>4</th>\n",
       "      <td>0</td>\n",
       "      <td>3402.660720</td>\n",
       "      <td>53</td>\n",
       "      <td>1</td>\n",
       "      <td>1</td>\n",
       "      <td>F</td>\n",
       "      <td>пенсионер</td>\n",
       "      <td>0</td>\n",
       "      <td>158616</td>\n",
       "      <td>сыграть свадьбу</td>\n",
       "      <td>C</td>\n",
       "    </tr>\n",
       "    <tr>\n",
       "      <th>5</th>\n",
       "      <td>0</td>\n",
       "      <td>926.185831</td>\n",
       "      <td>27</td>\n",
       "      <td>0</td>\n",
       "      <td>1</td>\n",
       "      <td>M</td>\n",
       "      <td>компаньон</td>\n",
       "      <td>0</td>\n",
       "      <td>255763</td>\n",
       "      <td>покупка жилья</td>\n",
       "      <td>B</td>\n",
       "    </tr>\n",
       "    <tr>\n",
       "      <th>6</th>\n",
       "      <td>0</td>\n",
       "      <td>2879.202052</td>\n",
       "      <td>43</td>\n",
       "      <td>0</td>\n",
       "      <td>0</td>\n",
       "      <td>F</td>\n",
       "      <td>компаньон</td>\n",
       "      <td>0</td>\n",
       "      <td>240525</td>\n",
       "      <td>операции с жильем</td>\n",
       "      <td>B</td>\n",
       "    </tr>\n",
       "    <tr>\n",
       "      <th>7</th>\n",
       "      <td>0</td>\n",
       "      <td>152.779569</td>\n",
       "      <td>50</td>\n",
       "      <td>1</td>\n",
       "      <td>0</td>\n",
       "      <td>M</td>\n",
       "      <td>сотрудник</td>\n",
       "      <td>0</td>\n",
       "      <td>135823</td>\n",
       "      <td>образование</td>\n",
       "      <td>C</td>\n",
       "    </tr>\n",
       "    <tr>\n",
       "      <th>8</th>\n",
       "      <td>2</td>\n",
       "      <td>6929.865299</td>\n",
       "      <td>35</td>\n",
       "      <td>0</td>\n",
       "      <td>1</td>\n",
       "      <td>F</td>\n",
       "      <td>сотрудник</td>\n",
       "      <td>0</td>\n",
       "      <td>95856</td>\n",
       "      <td>на проведение свадьбы</td>\n",
       "      <td>C</td>\n",
       "    </tr>\n",
       "    <tr>\n",
       "      <th>9</th>\n",
       "      <td>0</td>\n",
       "      <td>2188.756445</td>\n",
       "      <td>41</td>\n",
       "      <td>1</td>\n",
       "      <td>0</td>\n",
       "      <td>M</td>\n",
       "      <td>сотрудник</td>\n",
       "      <td>0</td>\n",
       "      <td>144425</td>\n",
       "      <td>покупка жилья для семьи</td>\n",
       "      <td>C</td>\n",
       "    </tr>\n",
       "  </tbody>\n",
       "</table>\n",
       "</div>"
      ],
      "text/plain": [
       "   children  days_employed  dob_years  education_id  family_status_id gender  \\\n",
       "0         1    8437.673028         42             0                 0      F   \n",
       "1         1    4024.803754         36             1                 0      F   \n",
       "2         0    5623.422610         33             1                 0      M   \n",
       "3         3    4124.747207         32             1                 0      M   \n",
       "4         0    3402.660720         53             1                 1      F   \n",
       "5         0     926.185831         27             0                 1      M   \n",
       "6         0    2879.202052         43             0                 0      F   \n",
       "7         0     152.779569         50             1                 0      M   \n",
       "8         2    6929.865299         35             0                 1      F   \n",
       "9         0    2188.756445         41             1                 0      M   \n",
       "\n",
       "  income_type  debt  total_income                     purpose  \\\n",
       "0   сотрудник     0        253875               покупка жилья   \n",
       "1   сотрудник     0        112080     приобретение автомобиля   \n",
       "2   сотрудник     0        145885               покупка жилья   \n",
       "3   сотрудник     0        267628  дополнительное образование   \n",
       "4   пенсионер     0        158616             сыграть свадьбу   \n",
       "5   компаньон     0        255763               покупка жилья   \n",
       "6   компаньон     0        240525           операции с жильем   \n",
       "7   сотрудник     0        135823                 образование   \n",
       "8   сотрудник     0         95856       на проведение свадьбы   \n",
       "9   сотрудник     0        144425     покупка жилья для семьи   \n",
       "\n",
       "  total_income_category  \n",
       "0                     B  \n",
       "1                     C  \n",
       "2                     C  \n",
       "3                     B  \n",
       "4                     C  \n",
       "5                     B  \n",
       "6                     B  \n",
       "7                     C  \n",
       "8                     C  \n",
       "9                     C  "
      ]
     },
     "metadata": {},
     "output_type": "display_data"
    }
   ],
   "source": [
    "display(data.head(10))"
   ]
  },
  {
   "cell_type": "markdown",
   "id": "698f1d72",
   "metadata": {},
   "source": [
    "<div class=\"alert alert-success\">\n",
    "<b>✔️ Комментарий ревьюера v1:</b> \n",
    "<br>Категоризация клиентов по уровню дохода произведена верно\n",
    "</div>"
   ]
  },
  {
   "cell_type": "markdown",
   "id": "cf15bfac",
   "metadata": {},
   "source": [
    "### Шаг 2.7. Категоризация целей кредита."
   ]
  },
  {
   "cell_type": "code",
   "execution_count": 62,
   "id": "35bfcf04",
   "metadata": {},
   "outputs": [],
   "source": [
    "#Создание функции категоризации по столбцу purpose\n",
    "def purpose_category(purpose):\n",
    "    if 'автомобил' in purpose:\n",
    "        return 'операции с автомобилем'\n",
    "    elif 'недвижимост' in purpose or 'жиль' in purpose:\n",
    "        return 'операции с недвижимостью'\n",
    "    elif 'свадьб' in purpose:\n",
    "        return 'проведение свадьбы'\n",
    "    elif 'образование' in purpose:\n",
    "        return 'получение образования'"
   ]
  },
  {
   "cell_type": "code",
   "execution_count": 63,
   "id": "27d3712d",
   "metadata": {},
   "outputs": [],
   "source": [
    "#Создание колонки total_income_category\n",
    "data['purpose_category']=data['purpose'].apply(purpose_category)"
   ]
  },
  {
   "cell_type": "code",
   "execution_count": 64,
   "id": "dbf1416e",
   "metadata": {},
   "outputs": [
    {
     "data": {
      "text/html": [
       "<div>\n",
       "<style scoped>\n",
       "    .dataframe tbody tr th:only-of-type {\n",
       "        vertical-align: middle;\n",
       "    }\n",
       "\n",
       "    .dataframe tbody tr th {\n",
       "        vertical-align: top;\n",
       "    }\n",
       "\n",
       "    .dataframe thead th {\n",
       "        text-align: right;\n",
       "    }\n",
       "</style>\n",
       "<table border=\"1\" class=\"dataframe\">\n",
       "  <thead>\n",
       "    <tr style=\"text-align: right;\">\n",
       "      <th></th>\n",
       "      <th>children</th>\n",
       "      <th>days_employed</th>\n",
       "      <th>dob_years</th>\n",
       "      <th>education_id</th>\n",
       "      <th>family_status_id</th>\n",
       "      <th>gender</th>\n",
       "      <th>income_type</th>\n",
       "      <th>debt</th>\n",
       "      <th>total_income</th>\n",
       "      <th>purpose</th>\n",
       "      <th>total_income_category</th>\n",
       "      <th>purpose_category</th>\n",
       "    </tr>\n",
       "  </thead>\n",
       "  <tbody>\n",
       "    <tr>\n",
       "      <th>0</th>\n",
       "      <td>1</td>\n",
       "      <td>8437.673028</td>\n",
       "      <td>42</td>\n",
       "      <td>0</td>\n",
       "      <td>0</td>\n",
       "      <td>F</td>\n",
       "      <td>сотрудник</td>\n",
       "      <td>0</td>\n",
       "      <td>253875</td>\n",
       "      <td>покупка жилья</td>\n",
       "      <td>B</td>\n",
       "      <td>операции с недвижимостью</td>\n",
       "    </tr>\n",
       "    <tr>\n",
       "      <th>1</th>\n",
       "      <td>1</td>\n",
       "      <td>4024.803754</td>\n",
       "      <td>36</td>\n",
       "      <td>1</td>\n",
       "      <td>0</td>\n",
       "      <td>F</td>\n",
       "      <td>сотрудник</td>\n",
       "      <td>0</td>\n",
       "      <td>112080</td>\n",
       "      <td>приобретение автомобиля</td>\n",
       "      <td>C</td>\n",
       "      <td>операции с автомобилем</td>\n",
       "    </tr>\n",
       "    <tr>\n",
       "      <th>2</th>\n",
       "      <td>0</td>\n",
       "      <td>5623.422610</td>\n",
       "      <td>33</td>\n",
       "      <td>1</td>\n",
       "      <td>0</td>\n",
       "      <td>M</td>\n",
       "      <td>сотрудник</td>\n",
       "      <td>0</td>\n",
       "      <td>145885</td>\n",
       "      <td>покупка жилья</td>\n",
       "      <td>C</td>\n",
       "      <td>операции с недвижимостью</td>\n",
       "    </tr>\n",
       "    <tr>\n",
       "      <th>3</th>\n",
       "      <td>3</td>\n",
       "      <td>4124.747207</td>\n",
       "      <td>32</td>\n",
       "      <td>1</td>\n",
       "      <td>0</td>\n",
       "      <td>M</td>\n",
       "      <td>сотрудник</td>\n",
       "      <td>0</td>\n",
       "      <td>267628</td>\n",
       "      <td>дополнительное образование</td>\n",
       "      <td>B</td>\n",
       "      <td>получение образования</td>\n",
       "    </tr>\n",
       "    <tr>\n",
       "      <th>4</th>\n",
       "      <td>0</td>\n",
       "      <td>3402.660720</td>\n",
       "      <td>53</td>\n",
       "      <td>1</td>\n",
       "      <td>1</td>\n",
       "      <td>F</td>\n",
       "      <td>пенсионер</td>\n",
       "      <td>0</td>\n",
       "      <td>158616</td>\n",
       "      <td>сыграть свадьбу</td>\n",
       "      <td>C</td>\n",
       "      <td>проведение свадьбы</td>\n",
       "    </tr>\n",
       "    <tr>\n",
       "      <th>5</th>\n",
       "      <td>0</td>\n",
       "      <td>926.185831</td>\n",
       "      <td>27</td>\n",
       "      <td>0</td>\n",
       "      <td>1</td>\n",
       "      <td>M</td>\n",
       "      <td>компаньон</td>\n",
       "      <td>0</td>\n",
       "      <td>255763</td>\n",
       "      <td>покупка жилья</td>\n",
       "      <td>B</td>\n",
       "      <td>операции с недвижимостью</td>\n",
       "    </tr>\n",
       "    <tr>\n",
       "      <th>6</th>\n",
       "      <td>0</td>\n",
       "      <td>2879.202052</td>\n",
       "      <td>43</td>\n",
       "      <td>0</td>\n",
       "      <td>0</td>\n",
       "      <td>F</td>\n",
       "      <td>компаньон</td>\n",
       "      <td>0</td>\n",
       "      <td>240525</td>\n",
       "      <td>операции с жильем</td>\n",
       "      <td>B</td>\n",
       "      <td>операции с недвижимостью</td>\n",
       "    </tr>\n",
       "    <tr>\n",
       "      <th>7</th>\n",
       "      <td>0</td>\n",
       "      <td>152.779569</td>\n",
       "      <td>50</td>\n",
       "      <td>1</td>\n",
       "      <td>0</td>\n",
       "      <td>M</td>\n",
       "      <td>сотрудник</td>\n",
       "      <td>0</td>\n",
       "      <td>135823</td>\n",
       "      <td>образование</td>\n",
       "      <td>C</td>\n",
       "      <td>получение образования</td>\n",
       "    </tr>\n",
       "    <tr>\n",
       "      <th>8</th>\n",
       "      <td>2</td>\n",
       "      <td>6929.865299</td>\n",
       "      <td>35</td>\n",
       "      <td>0</td>\n",
       "      <td>1</td>\n",
       "      <td>F</td>\n",
       "      <td>сотрудник</td>\n",
       "      <td>0</td>\n",
       "      <td>95856</td>\n",
       "      <td>на проведение свадьбы</td>\n",
       "      <td>C</td>\n",
       "      <td>проведение свадьбы</td>\n",
       "    </tr>\n",
       "    <tr>\n",
       "      <th>9</th>\n",
       "      <td>0</td>\n",
       "      <td>2188.756445</td>\n",
       "      <td>41</td>\n",
       "      <td>1</td>\n",
       "      <td>0</td>\n",
       "      <td>M</td>\n",
       "      <td>сотрудник</td>\n",
       "      <td>0</td>\n",
       "      <td>144425</td>\n",
       "      <td>покупка жилья для семьи</td>\n",
       "      <td>C</td>\n",
       "      <td>операции с недвижимостью</td>\n",
       "    </tr>\n",
       "  </tbody>\n",
       "</table>\n",
       "</div>"
      ],
      "text/plain": [
       "   children  days_employed  dob_years  education_id  family_status_id gender  \\\n",
       "0         1    8437.673028         42             0                 0      F   \n",
       "1         1    4024.803754         36             1                 0      F   \n",
       "2         0    5623.422610         33             1                 0      M   \n",
       "3         3    4124.747207         32             1                 0      M   \n",
       "4         0    3402.660720         53             1                 1      F   \n",
       "5         0     926.185831         27             0                 1      M   \n",
       "6         0    2879.202052         43             0                 0      F   \n",
       "7         0     152.779569         50             1                 0      M   \n",
       "8         2    6929.865299         35             0                 1      F   \n",
       "9         0    2188.756445         41             1                 0      M   \n",
       "\n",
       "  income_type  debt  total_income                     purpose  \\\n",
       "0   сотрудник     0        253875               покупка жилья   \n",
       "1   сотрудник     0        112080     приобретение автомобиля   \n",
       "2   сотрудник     0        145885               покупка жилья   \n",
       "3   сотрудник     0        267628  дополнительное образование   \n",
       "4   пенсионер     0        158616             сыграть свадьбу   \n",
       "5   компаньон     0        255763               покупка жилья   \n",
       "6   компаньон     0        240525           операции с жильем   \n",
       "7   сотрудник     0        135823                 образование   \n",
       "8   сотрудник     0         95856       на проведение свадьбы   \n",
       "9   сотрудник     0        144425     покупка жилья для семьи   \n",
       "\n",
       "  total_income_category          purpose_category  \n",
       "0                     B  операции с недвижимостью  \n",
       "1                     C    операции с автомобилем  \n",
       "2                     C  операции с недвижимостью  \n",
       "3                     B     получение образования  \n",
       "4                     C        проведение свадьбы  \n",
       "5                     B  операции с недвижимостью  \n",
       "6                     B  операции с недвижимостью  \n",
       "7                     C     получение образования  \n",
       "8                     C        проведение свадьбы  \n",
       "9                     C  операции с недвижимостью  "
      ]
     },
     "metadata": {},
     "output_type": "display_data"
    }
   ],
   "source": [
    "display(data.head(10))"
   ]
  },
  {
   "cell_type": "markdown",
   "id": "b114265c",
   "metadata": {},
   "source": [
    "<div class=\"alert alert-success\">\n",
    "<b>✔️ Комментарий ревьюера v1:</b> \n",
    "<br>Основные цели кредита определены правильно! 👍\n",
    "</div>"
   ]
  },
  {
   "cell_type": "markdown",
   "id": "ad56a6f4",
   "metadata": {},
   "source": [
    "### Ответы на вопросы."
   ]
  },
  {
   "cell_type": "markdown",
   "id": "129927c3",
   "metadata": {},
   "source": [
    "##### Вопрос 1: eсть ли зависимость между количеством детей и возвратом кредита в срок?"
   ]
  },
  {
   "cell_type": "code",
   "execution_count": 65,
   "id": "134ebe82",
   "metadata": {},
   "outputs": [
    {
     "data": {
      "text/plain": [
       "children\n",
       "-1        47\n",
       " 0     14091\n",
       " 1      4808\n",
       " 2      2052\n",
       " 3       330\n",
       " 4        41\n",
       " 5         9\n",
       " 20       76\n",
       "Name: debt, dtype: int64"
      ]
     },
     "execution_count": 65,
     "metadata": {},
     "output_type": "execute_result"
    }
   ],
   "source": [
    "data.groupby('children')['debt'].count()"
   ]
  },
  {
   "cell_type": "code",
   "execution_count": 66,
   "id": "e1c72b1e",
   "metadata": {},
   "outputs": [
    {
     "name": "stdout",
     "output_type": "stream",
     "text": [
      "children\n",
      "-1     0.021277\n",
      " 0     0.075438\n",
      " 1     0.092346\n",
      " 2     0.094542\n",
      " 3     0.081818\n",
      " 4     0.097561\n",
      " 5     0.000000\n",
      " 20    0.105263\n",
      "Name: debt, dtype: float64\n"
     ]
    }
   ],
   "source": [
    "vopros1=data.groupby('children')['debt'].sum()/data.groupby('children')['debt'].count()#отношение количества задолжников к количеству всех кредиторов по каждой категории столбца 'children'\n",
    "print(vopros1)"
   ]
  },
  {
   "cell_type": "markdown",
   "id": "e1e0cc32",
   "metadata": {},
   "source": [
    "##### Вывод 1:"
   ]
  },
  {
   "cell_type": "markdown",
   "id": "f72d7396",
   "metadata": {},
   "source": [
    "По полученной таблице, в которой к уникальному значению в столбце children присвоили соотношение количество задолжников ко всему количеству строк, можно сделать вывод, что у кредиторов от 0 до 2 и 4 детей зависимости нет - таких от 9,2% до 9,8%. Кредиторы, имеющие 3 ребенка - 8,1%. Кредиторы, у которых было 5 детей, вовремя погашали кредит, но таких всего 9 человек. Неизвестно, какой вывод можно сделать по кредиторам, у которых в столбце 'children' -1 или 20 детей. "
   ]
  },
  {
   "cell_type": "markdown",
   "id": "e3203f90",
   "metadata": {},
   "source": [
    "<div class=\"alert alert-success\">\n",
    "<b>✔️ Комментарий ревьюера v1:</b> \n",
    "<br>Верно! \n",
    "</div>"
   ]
  },
  {
   "cell_type": "markdown",
   "id": "e7483c1e",
   "metadata": {},
   "source": [
    "#### Вопрос 2: eсть ли зависимость между семейным положением и возвратом кредита в срок?"
   ]
  },
  {
   "cell_type": "code",
   "execution_count": 67,
   "id": "b6516487",
   "metadata": {},
   "outputs": [
    {
     "data": {
      "text/plain": [
       "family_status_id\n",
       "0    12339\n",
       "1     4151\n",
       "2      959\n",
       "3     1195\n",
       "4     2810\n",
       "Name: debt, dtype: int64"
      ]
     },
     "execution_count": 67,
     "metadata": {},
     "output_type": "execute_result"
    }
   ],
   "source": [
    "data.groupby('family_status_id')['debt'].count()"
   ]
  },
  {
   "cell_type": "code",
   "execution_count": 68,
   "id": "2c4fa387",
   "metadata": {},
   "outputs": [
    {
     "name": "stdout",
     "output_type": "stream",
     "text": [
      "family_status_id\n",
      "0    0.075452\n",
      "1    0.093471\n",
      "2    0.065693\n",
      "3    0.071130\n",
      "4    0.097509\n",
      "Name: debt, dtype: float64\n"
     ]
    }
   ],
   "source": [
    "vopros2=data.groupby('family_status_id')['debt'].sum()/data.groupby('family_status_id')['debt'].count()#отношение количества задолжников к количеству всех кредиторов по каждой категории столбца 'family_status_id'\n",
    "print(vopros2)"
   ]
  },
  {
   "cell_type": "code",
   "execution_count": 69,
   "id": "5dbb46b6",
   "metadata": {},
   "outputs": [
    {
     "data": {
      "text/html": [
       "<div>\n",
       "<style scoped>\n",
       "    .dataframe tbody tr th:only-of-type {\n",
       "        vertical-align: middle;\n",
       "    }\n",
       "\n",
       "    .dataframe tbody tr th {\n",
       "        vertical-align: top;\n",
       "    }\n",
       "\n",
       "    .dataframe thead th {\n",
       "        text-align: right;\n",
       "    }\n",
       "</style>\n",
       "<table border=\"1\" class=\"dataframe\">\n",
       "  <thead>\n",
       "    <tr style=\"text-align: right;\">\n",
       "      <th></th>\n",
       "      <th>family_status_id</th>\n",
       "      <th>family_status</th>\n",
       "    </tr>\n",
       "  </thead>\n",
       "  <tbody>\n",
       "    <tr>\n",
       "      <th>0</th>\n",
       "      <td>0</td>\n",
       "      <td>женат / замужем</td>\n",
       "    </tr>\n",
       "    <tr>\n",
       "      <th>1</th>\n",
       "      <td>1</td>\n",
       "      <td>гражданский брак</td>\n",
       "    </tr>\n",
       "    <tr>\n",
       "      <th>2</th>\n",
       "      <td>2</td>\n",
       "      <td>вдовец / вдова</td>\n",
       "    </tr>\n",
       "    <tr>\n",
       "      <th>3</th>\n",
       "      <td>3</td>\n",
       "      <td>в разводе</td>\n",
       "    </tr>\n",
       "    <tr>\n",
       "      <th>4</th>\n",
       "      <td>4</td>\n",
       "      <td>Не женат / не замужем</td>\n",
       "    </tr>\n",
       "  </tbody>\n",
       "</table>\n",
       "</div>"
      ],
      "text/plain": [
       "   family_status_id          family_status\n",
       "0                 0        женат / замужем\n",
       "1                 1       гражданский брак\n",
       "2                 2         вдовец / вдова\n",
       "3                 3              в разводе\n",
       "4                 4  Не женат / не замужем"
      ]
     },
     "metadata": {},
     "output_type": "display_data"
    }
   ],
   "source": [
    "display(data_family_status)"
   ]
  },
  {
   "cell_type": "code",
   "execution_count": 82,
   "id": "8645e198",
   "metadata": {},
   "outputs": [
    {
     "data": {
      "text/html": [
       "<div>\n",
       "<style scoped>\n",
       "    .dataframe tbody tr th:only-of-type {\n",
       "        vertical-align: middle;\n",
       "    }\n",
       "\n",
       "    .dataframe tbody tr th {\n",
       "        vertical-align: top;\n",
       "    }\n",
       "\n",
       "    .dataframe thead th {\n",
       "        text-align: right;\n",
       "    }\n",
       "</style>\n",
       "<table border=\"1\" class=\"dataframe\">\n",
       "  <thead>\n",
       "    <tr style=\"text-align: right;\">\n",
       "      <th></th>\n",
       "      <th>debt</th>\n",
       "    </tr>\n",
       "    <tr>\n",
       "      <th>family_status_id</th>\n",
       "      <th></th>\n",
       "    </tr>\n",
       "  </thead>\n",
       "  <tbody>\n",
       "    <tr>\n",
       "      <th>0</th>\n",
       "      <td>0.075452</td>\n",
       "    </tr>\n",
       "    <tr>\n",
       "      <th>1</th>\n",
       "      <td>0.093471</td>\n",
       "    </tr>\n",
       "    <tr>\n",
       "      <th>2</th>\n",
       "      <td>0.065693</td>\n",
       "    </tr>\n",
       "    <tr>\n",
       "      <th>3</th>\n",
       "      <td>0.071130</td>\n",
       "    </tr>\n",
       "    <tr>\n",
       "      <th>4</th>\n",
       "      <td>0.097509</td>\n",
       "    </tr>\n",
       "  </tbody>\n",
       "</table>\n",
       "</div>"
      ],
      "text/plain": [
       "                      debt\n",
       "family_status_id          \n",
       "0                 0.075452\n",
       "1                 0.093471\n",
       "2                 0.065693\n",
       "3                 0.071130\n",
       "4                 0.097509"
      ]
     },
     "execution_count": 82,
     "metadata": {},
     "output_type": "execute_result"
    }
   ],
   "source": [
    "data.pivot_table(values='debt',index=['family_status_id',],aggfunc='mean')"
   ]
  },
  {
   "cell_type": "markdown",
   "id": "b3234b81",
   "metadata": {},
   "source": [
    "<div class=\"alert alert-info\">\n",
    "<b>Комментарий студента:</b>\n",
    "<br>Выполнил\n",
    "</div>"
   ]
  },
  {
   "cell_type": "markdown",
   "id": "f4d07504",
   "metadata": {},
   "source": [
    "<div class=\"alert alert-success\">\n",
    "<b>✔️ Комментарий ревьюера v2:</b>\n",
    "<br>Сводная таблица построена верно!\n",
    "</div>"
   ]
  },
  {
   "cell_type": "markdown",
   "id": "9b00c6ea",
   "metadata": {},
   "source": [
    "##### Вывод 2:"
   ]
  },
  {
   "cell_type": "markdown",
   "id": "5b8506f9",
   "metadata": {},
   "source": [
    "Кредиторов с значением в столбце family_status 'женат / замужем', или 'вдовец / вдова', или 'в разводе', которые имели задолженность по возврату кредитов - от 6,5% до 7,6%;\n",
    "Кредиторов с значением в столбце family_status 'гражданский брак' или 'Не женат / не замужем', которые имели задолженность по возврату кредитов - от 9,3% до 9,8%. Зависимость есть, но не значительная."
   ]
  },
  {
   "cell_type": "markdown",
   "id": "4c766ccd",
   "metadata": {},
   "source": [
    "<div class=\"alert alert-success\">\n",
    "<b>✔️ Комментарий ревьюера v1:</b> \n",
    "<br>Согласен! Идём дальше)\n",
    "</div>"
   ]
  },
  {
   "cell_type": "markdown",
   "id": "4695702f",
   "metadata": {},
   "source": [
    "#### Вопрос 3: есть ли зависимость между уровнем дохода и возвратом кредита в срок?"
   ]
  },
  {
   "cell_type": "code",
   "execution_count": 70,
   "id": "02325e94",
   "metadata": {},
   "outputs": [
    {
     "data": {
      "text/plain": [
       "total_income_category\n",
       "A       25\n",
       "B     5041\n",
       "C    16016\n",
       "D      350\n",
       "E       22\n",
       "Name: debt, dtype: int64"
      ]
     },
     "execution_count": 70,
     "metadata": {},
     "output_type": "execute_result"
    }
   ],
   "source": [
    "data.groupby('total_income_category')['debt'].count()"
   ]
  },
  {
   "cell_type": "code",
   "execution_count": 71,
   "id": "c12db089",
   "metadata": {},
   "outputs": [
    {
     "name": "stdout",
     "output_type": "stream",
     "text": [
      "total_income_category\n",
      "A    0.080000\n",
      "B    0.070621\n",
      "C    0.084915\n",
      "D    0.060000\n",
      "E    0.090909\n",
      "Name: debt, dtype: float64\n"
     ]
    }
   ],
   "source": [
    "vopros3=data.groupby('total_income_category')['debt'].sum()/data.groupby('total_income_category')['debt'].count()#отношение количества задолжников к количеству всех кредиторов по каждой категории столбца 'total_income_category'\n",
    "print(vopros3)"
   ]
  },
  {
   "cell_type": "markdown",
   "id": "d42394eb",
   "metadata": {},
   "source": [
    "##### Вывод 3:"
   ]
  },
  {
   "cell_type": "markdown",
   "id": "f0db5fb6",
   "metadata": {},
   "source": [
    "Зависимость между уровнем дохода и возвратом кредита в срок действительно есть, но не значительная. В каждой категории разный процент кредиторов, имевших задолженность по возврату кредитов, а именно: 'A' - 8%, 'B' - 7%, 'C' - 8,4%, 'D' - 6%, 'E' - 9%"
   ]
  },
  {
   "cell_type": "markdown",
   "id": "290ac68d",
   "metadata": {},
   "source": [
    "<div class=\"alert alert-success\">\n",
    "<b>✔️ Комментарий ревьюера v1:</b> \n",
    "<br>Тут всё правильно\n",
    "</div>"
   ]
  },
  {
   "cell_type": "markdown",
   "id": "a0b3bc2e",
   "metadata": {},
   "source": [
    "#### Вопрос 4:как разные цели кредита влияют на его возврат в срок?"
   ]
  },
  {
   "cell_type": "code",
   "execution_count": 72,
   "id": "f7c1a46b",
   "metadata": {},
   "outputs": [
    {
     "data": {
      "text/plain": [
       "purpose_category\n",
       "операции с автомобилем       4306\n",
       "операции с недвижимостью    10811\n",
       "получение образования        2699\n",
       "проведение свадьбы           2324\n",
       "Name: debt, dtype: int64"
      ]
     },
     "execution_count": 72,
     "metadata": {},
     "output_type": "execute_result"
    }
   ],
   "source": [
    "data.groupby('purpose_category')['debt'].count()"
   ]
  },
  {
   "cell_type": "code",
   "execution_count": 73,
   "id": "830e0216",
   "metadata": {},
   "outputs": [
    {
     "name": "stdout",
     "output_type": "stream",
     "text": [
      "purpose_category\n",
      "операции с автомобилем      0.093590\n",
      "операции с недвижимостью    0.072334\n",
      "получение образования       0.087440\n",
      "проведение свадьбы          0.080034\n",
      "Name: debt, dtype: float64\n"
     ]
    }
   ],
   "source": [
    "vopros4=data.groupby('purpose_category')['debt'].sum()/data.groupby('purpose_category')['debt'].count()#отношение количества задолжников к количеству всех кредиторов по каждой категории столбца 'purpose_category'\n",
    "print(vopros4)"
   ]
  },
  {
   "cell_type": "markdown",
   "id": "7fabc131",
   "metadata": {},
   "source": [
    "##### Вывод 4:"
   ]
  },
  {
   "cell_type": "markdown",
   "id": "584abfa8",
   "metadata": {},
   "source": [
    "Разные цели влияют на его возврат в срок, но не значительно. Так, в каждой категории разный процент кредиторов, имевших задолженность по возврату кредитов, а именно: 'операции с автомобилем' - 9,3%, 'операции с недвижимостью' - 7,2%, 'получение образования' - 8,7%, 'проведение свадьбы' - 8%."
   ]
  },
  {
   "cell_type": "markdown",
   "id": "1ff3fcea",
   "metadata": {},
   "source": [
    "<div class=\"alert alert-success\">\n",
    "<b>✔️ Комментарий ревьюера v1:</b>\n",
    "<br>Абсолютно верно!\n",
    "</div>"
   ]
  },
  {
   "cell_type": "markdown",
   "id": "3f4ac0d7",
   "metadata": {},
   "source": [
    "<div class=\"alert alert-danger\">\n",
    "<b>❌ Комментарий ревьюера v1:</b> \n",
    "<br>У тебя верные расчеты, но давай потренируемся строить сводные таблицы используя метод pivot_table. Построй её для ответа на любой из вопросов и в расчитай внутри таблицы долю должников внутри каждой группы. С этим может помочь aggfunc='mean'\n",
    "</div>"
   ]
  },
  {
   "cell_type": "markdown",
   "id": "df0dac01",
   "metadata": {},
   "source": [
    "## Общий вывод:"
   ]
  },
  {
   "cell_type": "markdown",
   "id": "7e068651",
   "metadata": {},
   "source": [
    "Можно сказать, что количество детей клиента не влияет на факт погашения кредита в срок. Только кредиторы, имеющие 5 детей вовремя погашали кредит, но таких всего 9 человек. Остальные кредиторы имеют кредит с вероятностью от 0,08 до 0,1. Семейное положение, уровень дохода и цель кредита влияют на его погашение в срок, но незначительно. Так между разными категориями процент кредиторов, имеющих задолжность, варьируется до 3,5%. "
   ]
  },
  {
   "cell_type": "markdown",
   "id": "2be9814c",
   "metadata": {},
   "source": [
    "<div class=\"alert alert-success\">\n",
    "<b>✔️ Комментарий ревьюера v1:</b> \n",
    "<br>Общий вывод верный 👍\n",
    "</div>"
   ]
  },
  {
   "cell_type": "markdown",
   "id": "f6e00d9b",
   "metadata": {},
   "source": [
    "<div class=\"alert alert-danger\">\n",
    "<b>❌ Итоговый комментарий ревьюера v1:</b> \n",
    "<br>Ты хорошо потрудился, большая часть работы сделана, но остаётся внести следующие правки:\n",
    "<br>- написать вывод после первичного анализа данных\t\n",
    "<br>- поработать с аномалиями в столбце children\n",
    "<br>- построить сводную таблицу используя метод pivot_table() для любого из вопросов в шаге 3. В таблице нужно произвести расчет доли должников внутри каждой группы клиентов. \n",
    "</div>"
   ]
  },
  {
   "cell_type": "markdown",
   "id": "43b82051",
   "metadata": {},
   "source": [
    "<div class=\"alert alert-info\">\n",
    "<b>Комментарий студента:</b>\n",
    "<br>Комментарии увидел, спасибо! Постарался недочеты исправить верно :)\n",
    "</div>"
   ]
  },
  {
   "cell_type": "markdown",
   "id": "cd05bdcb",
   "metadata": {},
   "source": [
    "<div class=\"alert alert-success\">\n",
    "<b>✔️ Итоговый комментарий ревьюера v2:</b>\n",
    "<br>Все правки выполнены. Молодец!\n",
    "<br>Ты проделал большую работу! У тебя точные выводы с хорошей аргументацией. Здорово, что ты пишешь свои рассуждения и предположения - это помогает видеть ход твоей мысли. Отдельно хочу выделить аккуратность и структурированность твоей работы. Рад был поработать над проверкой твоего проекта! Желаю удачи в дальнейшем обучении! 😉\n",
    "</div>"
   ]
  }
 ],
 "metadata": {
  "ExecuteTimeLog": [
   {
    "duration": 49,
    "start_time": "2022-04-28T13:11:10.053Z"
   },
   {
    "duration": 397,
    "start_time": "2022-04-28T13:11:21.041Z"
   },
   {
    "duration": 86,
    "start_time": "2022-04-28T13:11:21.440Z"
   },
   {
    "duration": 23,
    "start_time": "2022-04-28T13:11:40.057Z"
   },
   {
    "duration": 26,
    "start_time": "2022-04-28T13:13:55.815Z"
   },
   {
    "duration": 17,
    "start_time": "2022-04-28T13:14:04.637Z"
   },
   {
    "duration": 10,
    "start_time": "2022-04-28T13:16:27.203Z"
   },
   {
    "duration": 29,
    "start_time": "2022-04-28T13:18:42.450Z"
   },
   {
    "duration": 18,
    "start_time": "2022-04-28T13:18:48.677Z"
   },
   {
    "duration": 12,
    "start_time": "2022-04-28T13:22:49.162Z"
   },
   {
    "duration": 8,
    "start_time": "2022-04-28T13:24:59.168Z"
   },
   {
    "duration": 26,
    "start_time": "2022-04-28T13:25:05.993Z"
   },
   {
    "duration": 7,
    "start_time": "2022-04-28T13:25:31.745Z"
   },
   {
    "duration": 26,
    "start_time": "2022-04-28T13:26:18.688Z"
   },
   {
    "duration": 19,
    "start_time": "2022-04-28T13:26:32.416Z"
   },
   {
    "duration": 22,
    "start_time": "2022-04-28T13:26:38.272Z"
   },
   {
    "duration": 8,
    "start_time": "2022-04-28T13:32:59.595Z"
   },
   {
    "duration": 18,
    "start_time": "2022-04-28T13:36:55.129Z"
   },
   {
    "duration": 19,
    "start_time": "2022-04-28T13:37:15.242Z"
   },
   {
    "duration": 18,
    "start_time": "2022-04-28T13:37:19.581Z"
   },
   {
    "duration": 10,
    "start_time": "2022-04-28T13:37:49.337Z"
   },
   {
    "duration": 6,
    "start_time": "2022-04-28T13:38:29.619Z"
   },
   {
    "duration": 17,
    "start_time": "2022-04-28T13:38:46.928Z"
   },
   {
    "duration": 8,
    "start_time": "2022-04-28T13:38:55.536Z"
   },
   {
    "duration": 7,
    "start_time": "2022-04-28T13:39:14.568Z"
   },
   {
    "duration": 5,
    "start_time": "2022-04-28T13:39:23.583Z"
   },
   {
    "duration": 6,
    "start_time": "2022-04-28T13:40:08.431Z"
   },
   {
    "duration": 8,
    "start_time": "2022-04-28T13:42:34.077Z"
   },
   {
    "duration": 5,
    "start_time": "2022-04-28T13:45:02.315Z"
   },
   {
    "duration": 9,
    "start_time": "2022-04-28T13:47:47.638Z"
   },
   {
    "duration": 7,
    "start_time": "2022-04-28T13:49:03.709Z"
   },
   {
    "duration": 13,
    "start_time": "2022-04-28T13:49:22.174Z"
   },
   {
    "duration": 4,
    "start_time": "2022-04-28T13:52:16.970Z"
   },
   {
    "duration": 4,
    "start_time": "2022-04-28T13:52:17.884Z"
   },
   {
    "duration": 14,
    "start_time": "2022-04-28T13:52:18.918Z"
   },
   {
    "duration": 296,
    "start_time": "2022-04-28T13:53:57.975Z"
   },
   {
    "duration": 6,
    "start_time": "2022-04-28T13:56:35.881Z"
   },
   {
    "duration": 5,
    "start_time": "2022-04-28T13:56:46.456Z"
   },
   {
    "duration": 22,
    "start_time": "2022-04-28T13:56:52.692Z"
   },
   {
    "duration": 70,
    "start_time": "2022-04-30T13:01:23.265Z"
   },
   {
    "duration": 499,
    "start_time": "2022-04-30T13:01:27.665Z"
   },
   {
    "duration": 103,
    "start_time": "2022-04-30T13:01:28.167Z"
   },
   {
    "duration": 21,
    "start_time": "2022-04-30T13:01:28.272Z"
   },
   {
    "duration": 14,
    "start_time": "2022-04-30T13:01:28.686Z"
   },
   {
    "duration": 9,
    "start_time": "2022-04-30T13:01:28.940Z"
   },
   {
    "duration": 8,
    "start_time": "2022-04-30T13:01:29.169Z"
   },
   {
    "duration": 25,
    "start_time": "2022-04-30T13:01:29.413Z"
   },
   {
    "duration": 10,
    "start_time": "2022-04-30T13:01:29.620Z"
   },
   {
    "duration": 10,
    "start_time": "2022-04-30T13:01:29.818Z"
   },
   {
    "duration": 8,
    "start_time": "2022-04-30T13:01:30.500Z"
   },
   {
    "duration": 8,
    "start_time": "2022-04-30T13:01:30.785Z"
   },
   {
    "duration": 206,
    "start_time": "2022-04-30T13:01:31.138Z"
   },
   {
    "duration": 255,
    "start_time": "2022-04-30T13:01:31.489Z"
   },
   {
    "duration": 8,
    "start_time": "2022-04-30T13:01:32.252Z"
   },
   {
    "duration": 7,
    "start_time": "2022-04-30T13:01:32.612Z"
   },
   {
    "duration": 24,
    "start_time": "2022-04-30T13:01:33.125Z"
   },
   {
    "duration": 16,
    "start_time": "2022-04-30T13:01:33.995Z"
   },
   {
    "duration": 8,
    "start_time": "2022-04-30T13:01:50.107Z"
   },
   {
    "duration": 26,
    "start_time": "2022-04-30T13:02:00.972Z"
   },
   {
    "duration": 14,
    "start_time": "2022-04-30T13:02:24.578Z"
   },
   {
    "duration": 25,
    "start_time": "2022-04-30T13:02:35.682Z"
   },
   {
    "duration": 27,
    "start_time": "2022-04-30T13:02:44.251Z"
   },
   {
    "duration": 10,
    "start_time": "2022-04-30T13:03:03.985Z"
   },
   {
    "duration": 14,
    "start_time": "2022-04-30T13:03:12.963Z"
   },
   {
    "duration": 14,
    "start_time": "2022-04-30T13:03:20.165Z"
   },
   {
    "duration": 19,
    "start_time": "2022-04-30T13:03:25.841Z"
   },
   {
    "duration": 16,
    "start_time": "2022-04-30T13:03:29.410Z"
   },
   {
    "duration": 11,
    "start_time": "2022-04-30T13:03:40.712Z"
   },
   {
    "duration": 7,
    "start_time": "2022-04-30T13:05:09.052Z"
   },
   {
    "duration": 6,
    "start_time": "2022-04-30T13:05:27.417Z"
   },
   {
    "duration": 6,
    "start_time": "2022-04-30T13:08:11.383Z"
   },
   {
    "duration": 9,
    "start_time": "2022-04-30T13:08:27.677Z"
   },
   {
    "duration": 11,
    "start_time": "2022-04-30T13:08:49.493Z"
   },
   {
    "duration": 7,
    "start_time": "2022-04-30T13:09:11.465Z"
   },
   {
    "duration": 9,
    "start_time": "2022-04-30T13:09:17.901Z"
   },
   {
    "duration": 49,
    "start_time": "2022-04-30T13:09:35.582Z"
   },
   {
    "duration": 9,
    "start_time": "2022-04-30T13:09:52.234Z"
   },
   {
    "duration": 8,
    "start_time": "2022-04-30T13:10:27.893Z"
   },
   {
    "duration": 10,
    "start_time": "2022-04-30T13:10:39.843Z"
   },
   {
    "duration": 20,
    "start_time": "2022-04-30T13:10:55.900Z"
   },
   {
    "duration": 21,
    "start_time": "2022-04-30T13:11:03.220Z"
   },
   {
    "duration": 21,
    "start_time": "2022-04-30T13:11:21.323Z"
   },
   {
    "duration": 10,
    "start_time": "2022-04-30T13:11:37.716Z"
   },
   {
    "duration": 12,
    "start_time": "2022-04-30T13:12:13.836Z"
   },
   {
    "duration": 10,
    "start_time": "2022-04-30T13:12:32.149Z"
   },
   {
    "duration": 12,
    "start_time": "2022-04-30T13:12:48.636Z"
   },
   {
    "duration": 434,
    "start_time": "2022-04-30T13:19:29.432Z"
   },
   {
    "duration": 294,
    "start_time": "2022-04-30T13:19:43.169Z"
   },
   {
    "duration": 311,
    "start_time": "2022-04-30T13:19:49.720Z"
   },
   {
    "duration": 8,
    "start_time": "2022-04-30T13:20:30.069Z"
   },
   {
    "duration": 6,
    "start_time": "2022-04-30T13:21:02.330Z"
   },
   {
    "duration": 1682,
    "start_time": "2022-04-30T13:21:19.294Z"
   },
   {
    "duration": 7,
    "start_time": "2022-04-30T13:21:29.612Z"
   },
   {
    "duration": 7,
    "start_time": "2022-04-30T13:21:35.452Z"
   },
   {
    "duration": 20,
    "start_time": "2022-04-30T13:23:54.684Z"
   },
   {
    "duration": 21,
    "start_time": "2022-04-30T13:24:03.872Z"
   },
   {
    "duration": 7,
    "start_time": "2022-04-30T13:24:59.522Z"
   },
   {
    "duration": 53,
    "start_time": "2022-04-30T13:26:28.840Z"
   },
   {
    "duration": 11,
    "start_time": "2022-04-30T13:27:02.947Z"
   },
   {
    "duration": 11,
    "start_time": "2022-04-30T13:27:33.375Z"
   },
   {
    "duration": 11,
    "start_time": "2022-04-30T13:27:51.425Z"
   },
   {
    "duration": 35,
    "start_time": "2022-04-30T13:28:08.913Z"
   },
   {
    "duration": 17,
    "start_time": "2022-04-30T13:28:35.498Z"
   },
   {
    "duration": 13,
    "start_time": "2022-04-30T13:29:41.908Z"
   },
   {
    "duration": 4,
    "start_time": "2022-04-30T13:29:56.917Z"
   },
   {
    "duration": 87,
    "start_time": "2022-04-30T13:29:57.042Z"
   },
   {
    "duration": 20,
    "start_time": "2022-04-30T13:29:57.209Z"
   },
   {
    "duration": 13,
    "start_time": "2022-04-30T13:29:57.464Z"
   },
   {
    "duration": 9,
    "start_time": "2022-04-30T13:29:57.717Z"
   },
   {
    "duration": 9,
    "start_time": "2022-04-30T13:29:57.861Z"
   },
   {
    "duration": 26,
    "start_time": "2022-04-30T13:29:58.133Z"
   },
   {
    "duration": 11,
    "start_time": "2022-04-30T13:29:58.275Z"
   },
   {
    "duration": 12,
    "start_time": "2022-04-30T13:29:58.383Z"
   },
   {
    "duration": 9,
    "start_time": "2022-04-30T13:29:58.510Z"
   },
   {
    "duration": 8,
    "start_time": "2022-04-30T13:29:58.637Z"
   },
   {
    "duration": 99,
    "start_time": "2022-04-30T13:29:58.771Z"
   },
   {
    "duration": 86,
    "start_time": "2022-04-30T13:29:58.892Z"
   },
   {
    "duration": 5,
    "start_time": "2022-04-30T13:29:59.312Z"
   },
   {
    "duration": 5,
    "start_time": "2022-04-30T13:29:59.437Z"
   },
   {
    "duration": 20,
    "start_time": "2022-04-30T13:29:59.743Z"
   },
   {
    "duration": 12,
    "start_time": "2022-04-30T13:29:59.922Z"
   },
   {
    "duration": 24,
    "start_time": "2022-04-30T13:30:00.259Z"
   },
   {
    "duration": 6,
    "start_time": "2022-04-30T13:30:00.430Z"
   },
   {
    "duration": 7,
    "start_time": "2022-04-30T13:30:01.352Z"
   },
   {
    "duration": 7,
    "start_time": "2022-04-30T13:33:20.260Z"
   },
   {
    "duration": 10,
    "start_time": "2022-04-30T13:33:55.084Z"
   },
   {
    "duration": 13,
    "start_time": "2022-04-30T13:34:08.005Z"
   },
   {
    "duration": 25,
    "start_time": "2022-04-30T13:34:19.091Z"
   },
   {
    "duration": 15,
    "start_time": "2022-04-30T13:34:51.045Z"
   },
   {
    "duration": 12,
    "start_time": "2022-04-30T13:35:06.690Z"
   },
   {
    "duration": 11,
    "start_time": "2022-04-30T13:35:12.395Z"
   },
   {
    "duration": 12,
    "start_time": "2022-04-30T13:35:26.938Z"
   },
   {
    "duration": 140,
    "start_time": "2022-04-30T13:35:51.402Z"
   },
   {
    "duration": 14,
    "start_time": "2022-04-30T13:36:04.592Z"
   },
   {
    "duration": 6,
    "start_time": "2022-04-30T13:36:24.778Z"
   },
   {
    "duration": 15,
    "start_time": "2022-04-30T13:36:33.312Z"
   },
   {
    "duration": 24,
    "start_time": "2022-04-30T13:37:12.722Z"
   },
   {
    "duration": 9,
    "start_time": "2022-04-30T13:39:35.608Z"
   },
   {
    "duration": 12,
    "start_time": "2022-04-30T13:46:42.619Z"
   },
   {
    "duration": 5,
    "start_time": "2022-04-30T13:52:01.368Z"
   },
   {
    "duration": 16,
    "start_time": "2022-04-30T13:53:16.835Z"
   },
   {
    "duration": 3,
    "start_time": "2022-04-30T13:55:20.651Z"
   },
   {
    "duration": 88,
    "start_time": "2022-04-30T13:55:20.932Z"
   },
   {
    "duration": 20,
    "start_time": "2022-04-30T13:55:21.145Z"
   },
   {
    "duration": 13,
    "start_time": "2022-04-30T13:55:21.547Z"
   },
   {
    "duration": 8,
    "start_time": "2022-04-30T13:55:21.713Z"
   },
   {
    "duration": 8,
    "start_time": "2022-04-30T13:55:21.882Z"
   },
   {
    "duration": 24,
    "start_time": "2022-04-30T13:55:22.053Z"
   },
   {
    "duration": 9,
    "start_time": "2022-04-30T13:55:22.233Z"
   },
   {
    "duration": 10,
    "start_time": "2022-04-30T13:55:22.394Z"
   },
   {
    "duration": 8,
    "start_time": "2022-04-30T13:55:22.571Z"
   },
   {
    "duration": 8,
    "start_time": "2022-04-30T13:55:22.782Z"
   },
   {
    "duration": 90,
    "start_time": "2022-04-30T13:55:22.930Z"
   },
   {
    "duration": 89,
    "start_time": "2022-04-30T13:55:23.121Z"
   },
   {
    "duration": 3,
    "start_time": "2022-04-30T13:55:23.505Z"
   },
   {
    "duration": 7,
    "start_time": "2022-04-30T13:55:23.698Z"
   },
   {
    "duration": 21,
    "start_time": "2022-04-30T13:55:23.924Z"
   },
   {
    "duration": 13,
    "start_time": "2022-04-30T13:55:24.161Z"
   },
   {
    "duration": 27,
    "start_time": "2022-04-30T13:55:25.300Z"
   },
   {
    "duration": 16,
    "start_time": "2022-04-30T13:55:27.002Z"
   },
   {
    "duration": 5,
    "start_time": "2022-04-30T13:55:30.801Z"
   },
   {
    "duration": 7,
    "start_time": "2022-04-30T13:55:31.201Z"
   },
   {
    "duration": 8,
    "start_time": "2022-04-30T13:55:33.026Z"
   },
   {
    "duration": 17,
    "start_time": "2022-04-30T13:55:34.153Z"
   },
   {
    "duration": 28,
    "start_time": "2022-04-30T14:07:55.001Z"
   },
   {
    "duration": 4,
    "start_time": "2022-04-30T14:08:25.777Z"
   },
   {
    "duration": 89,
    "start_time": "2022-04-30T14:08:25.930Z"
   },
   {
    "duration": 21,
    "start_time": "2022-04-30T14:08:26.106Z"
   },
   {
    "duration": 14,
    "start_time": "2022-04-30T14:08:26.394Z"
   },
   {
    "duration": 9,
    "start_time": "2022-04-30T14:08:26.487Z"
   },
   {
    "duration": 8,
    "start_time": "2022-04-30T14:08:26.608Z"
   },
   {
    "duration": 24,
    "start_time": "2022-04-30T14:08:26.761Z"
   },
   {
    "duration": 9,
    "start_time": "2022-04-30T14:08:26.885Z"
   },
   {
    "duration": 10,
    "start_time": "2022-04-30T14:08:27.002Z"
   },
   {
    "duration": 8,
    "start_time": "2022-04-30T14:08:27.132Z"
   },
   {
    "duration": 8,
    "start_time": "2022-04-30T14:08:27.231Z"
   },
   {
    "duration": 4,
    "start_time": "2022-04-30T14:08:30.105Z"
   },
   {
    "duration": 6,
    "start_time": "2022-04-30T14:08:30.232Z"
   },
   {
    "duration": 21,
    "start_time": "2022-04-30T14:08:30.394Z"
   },
   {
    "duration": 12,
    "start_time": "2022-04-30T14:08:31.034Z"
   },
   {
    "duration": 26,
    "start_time": "2022-04-30T14:08:33.560Z"
   },
   {
    "duration": 16,
    "start_time": "2022-04-30T14:08:34.368Z"
   },
   {
    "duration": 12,
    "start_time": "2022-04-30T14:08:56.128Z"
   },
   {
    "duration": 5,
    "start_time": "2022-04-30T14:10:03.105Z"
   },
   {
    "duration": 17,
    "start_time": "2022-04-30T14:12:25.037Z"
   },
   {
    "duration": 16,
    "start_time": "2022-04-30T14:12:41.453Z"
   },
   {
    "duration": 10,
    "start_time": "2022-04-30T14:13:40.316Z"
   },
   {
    "duration": 12,
    "start_time": "2022-04-30T14:19:17.392Z"
   },
   {
    "duration": 29,
    "start_time": "2022-04-30T14:19:25.299Z"
   },
   {
    "duration": 9,
    "start_time": "2022-04-30T14:19:53.680Z"
   },
   {
    "duration": 27,
    "start_time": "2022-04-30T14:19:54.481Z"
   },
   {
    "duration": 4,
    "start_time": "2022-04-30T14:20:02.608Z"
   },
   {
    "duration": 84,
    "start_time": "2022-04-30T14:20:02.947Z"
   },
   {
    "duration": 20,
    "start_time": "2022-04-30T14:20:03.140Z"
   },
   {
    "duration": 14,
    "start_time": "2022-04-30T14:20:03.481Z"
   },
   {
    "duration": 8,
    "start_time": "2022-04-30T14:20:03.649Z"
   },
   {
    "duration": 9,
    "start_time": "2022-04-30T14:20:03.784Z"
   },
   {
    "duration": 26,
    "start_time": "2022-04-30T14:20:03.922Z"
   },
   {
    "duration": 9,
    "start_time": "2022-04-30T14:20:04.059Z"
   },
   {
    "duration": 10,
    "start_time": "2022-04-30T14:20:04.176Z"
   },
   {
    "duration": 9,
    "start_time": "2022-04-30T14:20:04.296Z"
   },
   {
    "duration": 8,
    "start_time": "2022-04-30T14:20:04.415Z"
   },
   {
    "duration": 3,
    "start_time": "2022-04-30T14:20:05.002Z"
   },
   {
    "duration": 6,
    "start_time": "2022-04-30T14:20:05.352Z"
   },
   {
    "duration": 21,
    "start_time": "2022-04-30T14:20:05.513Z"
   },
   {
    "duration": 12,
    "start_time": "2022-04-30T14:20:05.686Z"
   },
   {
    "duration": 24,
    "start_time": "2022-04-30T14:20:06.049Z"
   },
   {
    "duration": 15,
    "start_time": "2022-04-30T14:20:06.235Z"
   },
   {
    "duration": 17,
    "start_time": "2022-04-30T14:20:06.800Z"
   },
   {
    "duration": 11,
    "start_time": "2022-04-30T14:20:07.002Z"
   },
   {
    "duration": 8,
    "start_time": "2022-04-30T14:20:08.050Z"
   },
   {
    "duration": 27,
    "start_time": "2022-04-30T14:20:08.994Z"
   },
   {
    "duration": 6,
    "start_time": "2022-04-30T14:21:54.431Z"
   },
   {
    "duration": 11,
    "start_time": "2022-04-30T14:21:55.494Z"
   },
   {
    "duration": 7,
    "start_time": "2022-04-30T14:21:56.120Z"
   },
   {
    "duration": 14,
    "start_time": "2022-04-30T14:21:56.801Z"
   },
   {
    "duration": 4,
    "start_time": "2022-04-30T14:22:58.246Z"
   },
   {
    "duration": 84,
    "start_time": "2022-04-30T14:22:58.406Z"
   },
   {
    "duration": 20,
    "start_time": "2022-04-30T14:22:58.544Z"
   },
   {
    "duration": 13,
    "start_time": "2022-04-30T14:22:58.925Z"
   },
   {
    "duration": 8,
    "start_time": "2022-04-30T14:22:59.062Z"
   },
   {
    "duration": 9,
    "start_time": "2022-04-30T14:22:59.165Z"
   },
   {
    "duration": 26,
    "start_time": "2022-04-30T14:22:59.286Z"
   },
   {
    "duration": 10,
    "start_time": "2022-04-30T14:22:59.512Z"
   },
   {
    "duration": 10,
    "start_time": "2022-04-30T14:22:59.622Z"
   },
   {
    "duration": 8,
    "start_time": "2022-04-30T14:22:59.734Z"
   },
   {
    "duration": 8,
    "start_time": "2022-04-30T14:22:59.845Z"
   },
   {
    "duration": 3,
    "start_time": "2022-04-30T14:23:00.336Z"
   },
   {
    "duration": 6,
    "start_time": "2022-04-30T14:23:00.445Z"
   },
   {
    "duration": 21,
    "start_time": "2022-04-30T14:23:00.550Z"
   },
   {
    "duration": 11,
    "start_time": "2022-04-30T14:23:00.678Z"
   },
   {
    "duration": 24,
    "start_time": "2022-04-30T14:23:00.902Z"
   },
   {
    "duration": 15,
    "start_time": "2022-04-30T14:23:01.022Z"
   },
   {
    "duration": 18,
    "start_time": "2022-04-30T14:23:01.256Z"
   },
   {
    "duration": 10,
    "start_time": "2022-04-30T14:23:01.376Z"
   },
   {
    "duration": 8,
    "start_time": "2022-04-30T14:23:01.863Z"
   },
   {
    "duration": 27,
    "start_time": "2022-04-30T14:23:02.023Z"
   },
   {
    "duration": 6,
    "start_time": "2022-04-30T14:23:02.174Z"
   },
   {
    "duration": 15,
    "start_time": "2022-04-30T14:23:02.647Z"
   },
   {
    "duration": 27,
    "start_time": "2022-04-30T14:28:23.350Z"
   },
   {
    "duration": 3,
    "start_time": "2022-04-30T14:43:51.635Z"
   },
   {
    "duration": 91,
    "start_time": "2022-04-30T14:43:51.772Z"
   },
   {
    "duration": 19,
    "start_time": "2022-04-30T14:43:51.940Z"
   },
   {
    "duration": 14,
    "start_time": "2022-04-30T14:43:52.212Z"
   },
   {
    "duration": 8,
    "start_time": "2022-04-30T14:43:52.460Z"
   },
   {
    "duration": 8,
    "start_time": "2022-04-30T14:43:52.586Z"
   },
   {
    "duration": 23,
    "start_time": "2022-04-30T14:43:52.876Z"
   },
   {
    "duration": 117,
    "start_time": "2022-04-30T14:43:53.018Z"
   },
   {
    "duration": 10,
    "start_time": "2022-04-30T14:43:53.387Z"
   },
   {
    "duration": 10,
    "start_time": "2022-04-30T14:43:53.682Z"
   },
   {
    "duration": 7,
    "start_time": "2022-04-30T14:43:53.981Z"
   },
   {
    "duration": 21,
    "start_time": "2022-04-30T14:43:55.859Z"
   },
   {
    "duration": 5,
    "start_time": "2022-04-30T14:49:02.907Z"
   },
   {
    "duration": 123,
    "start_time": "2022-04-30T14:49:59.265Z"
   },
   {
    "duration": 7,
    "start_time": "2022-04-30T14:49:59.681Z"
   },
   {
    "duration": 6,
    "start_time": "2022-04-30T14:50:04.832Z"
   },
   {
    "duration": 11,
    "start_time": "2022-04-30T14:51:26.643Z"
   },
   {
    "duration": 15,
    "start_time": "2022-04-30T14:55:52.437Z"
   },
   {
    "duration": 11,
    "start_time": "2022-04-30T14:58:24.243Z"
   },
   {
    "duration": 11,
    "start_time": "2022-04-30T14:58:24.647Z"
   },
   {
    "duration": 9,
    "start_time": "2022-04-30T14:58:25.538Z"
   },
   {
    "duration": 30,
    "start_time": "2022-04-30T14:58:25.884Z"
   },
   {
    "duration": 27,
    "start_time": "2022-04-30T14:58:40.769Z"
   },
   {
    "duration": 7,
    "start_time": "2022-04-30T14:58:58.233Z"
   },
   {
    "duration": 20,
    "start_time": "2022-04-30T15:01:04.976Z"
   },
   {
    "duration": 6,
    "start_time": "2022-04-30T15:01:16.830Z"
   },
   {
    "duration": 4,
    "start_time": "2022-04-30T15:01:23.816Z"
   },
   {
    "duration": 88,
    "start_time": "2022-04-30T15:01:23.970Z"
   },
   {
    "duration": 19,
    "start_time": "2022-04-30T15:01:24.093Z"
   },
   {
    "duration": 12,
    "start_time": "2022-04-30T15:01:24.340Z"
   },
   {
    "duration": 8,
    "start_time": "2022-04-30T15:01:24.442Z"
   },
   {
    "duration": 8,
    "start_time": "2022-04-30T15:01:24.557Z"
   },
   {
    "duration": 23,
    "start_time": "2022-04-30T15:01:24.761Z"
   },
   {
    "duration": 9,
    "start_time": "2022-04-30T15:01:24.999Z"
   },
   {
    "duration": 10,
    "start_time": "2022-04-30T15:01:25.118Z"
   },
   {
    "duration": 7,
    "start_time": "2022-04-30T15:01:25.234Z"
   },
   {
    "duration": 19,
    "start_time": "2022-04-30T15:01:25.742Z"
   },
   {
    "duration": 7,
    "start_time": "2022-04-30T15:01:25.966Z"
   },
   {
    "duration": 6,
    "start_time": "2022-04-30T15:01:26.238Z"
   },
   {
    "duration": 11,
    "start_time": "2022-04-30T15:01:26.399Z"
   },
   {
    "duration": 26,
    "start_time": "2022-04-30T15:01:26.631Z"
   },
   {
    "duration": 16,
    "start_time": "2022-04-30T15:01:26.819Z"
   },
   {
    "duration": 12,
    "start_time": "2022-04-30T15:01:26.983Z"
   },
   {
    "duration": 12,
    "start_time": "2022-04-30T15:01:27.845Z"
   },
   {
    "duration": 9,
    "start_time": "2022-04-30T15:01:28.134Z"
   },
   {
    "duration": 30,
    "start_time": "2022-04-30T15:01:28.312Z"
   },
   {
    "duration": 7,
    "start_time": "2022-04-30T15:01:28.470Z"
   },
   {
    "duration": 87,
    "start_time": "2022-04-30T15:01:28.645Z"
   },
   {
    "duration": 20,
    "start_time": "2022-04-30T15:01:37.519Z"
   },
   {
    "duration": 5,
    "start_time": "2022-04-30T15:05:01.828Z"
   },
   {
    "duration": 24,
    "start_time": "2022-04-30T15:05:12.889Z"
   },
   {
    "duration": 6,
    "start_time": "2022-04-30T15:07:40.327Z"
   },
   {
    "duration": 21,
    "start_time": "2022-04-30T15:07:55.901Z"
   },
   {
    "duration": 41,
    "start_time": "2022-04-30T15:08:46.740Z"
   },
   {
    "duration": 3,
    "start_time": "2022-04-30T15:09:00.012Z"
   },
   {
    "duration": 85,
    "start_time": "2022-04-30T15:09:00.161Z"
   },
   {
    "duration": 21,
    "start_time": "2022-04-30T15:09:00.273Z"
   },
   {
    "duration": 13,
    "start_time": "2022-04-30T15:09:00.546Z"
   },
   {
    "duration": 8,
    "start_time": "2022-04-30T15:09:00.636Z"
   },
   {
    "duration": 9,
    "start_time": "2022-04-30T15:09:00.766Z"
   },
   {
    "duration": 24,
    "start_time": "2022-04-30T15:09:00.971Z"
   },
   {
    "duration": 10,
    "start_time": "2022-04-30T15:09:01.187Z"
   },
   {
    "duration": 10,
    "start_time": "2022-04-30T15:09:01.305Z"
   },
   {
    "duration": 8,
    "start_time": "2022-04-30T15:09:01.415Z"
   },
   {
    "duration": 21,
    "start_time": "2022-04-30T15:09:02.179Z"
   },
   {
    "duration": 6,
    "start_time": "2022-04-30T15:09:02.545Z"
   },
   {
    "duration": 5,
    "start_time": "2022-04-30T15:09:02.945Z"
   },
   {
    "duration": 9,
    "start_time": "2022-04-30T15:09:03.089Z"
   },
   {
    "duration": 25,
    "start_time": "2022-04-30T15:09:03.378Z"
   },
   {
    "duration": 15,
    "start_time": "2022-04-30T15:09:03.534Z"
   },
   {
    "duration": 10,
    "start_time": "2022-04-30T15:09:03.686Z"
   },
   {
    "duration": 11,
    "start_time": "2022-04-30T15:09:03.816Z"
   },
   {
    "duration": 9,
    "start_time": "2022-04-30T15:09:04.441Z"
   },
   {
    "duration": 29,
    "start_time": "2022-04-30T15:09:04.882Z"
   },
   {
    "duration": 6,
    "start_time": "2022-04-30T15:09:05.049Z"
   },
   {
    "duration": 19,
    "start_time": "2022-04-30T15:09:05.337Z"
   },
   {
    "duration": 6,
    "start_time": "2022-04-30T15:09:05.867Z"
   },
   {
    "duration": 23,
    "start_time": "2022-04-30T15:09:06.170Z"
   },
   {
    "duration": 21,
    "start_time": "2022-04-30T15:09:15.683Z"
   },
   {
    "duration": 14,
    "start_time": "2022-04-30T15:09:37.322Z"
   },
   {
    "duration": 27,
    "start_time": "2022-04-30T15:09:46.434Z"
   },
   {
    "duration": 25,
    "start_time": "2022-04-30T15:09:52.801Z"
   },
   {
    "duration": 27,
    "start_time": "2022-04-30T15:10:02.376Z"
   },
   {
    "duration": 23,
    "start_time": "2022-04-30T15:10:17.619Z"
   },
   {
    "duration": 27,
    "start_time": "2022-04-30T15:10:34.145Z"
   },
   {
    "duration": 4,
    "start_time": "2022-04-30T15:11:06.877Z"
   },
   {
    "duration": 86,
    "start_time": "2022-04-30T15:11:07.033Z"
   },
   {
    "duration": 20,
    "start_time": "2022-04-30T15:11:07.159Z"
   },
   {
    "duration": 14,
    "start_time": "2022-04-30T15:11:07.472Z"
   },
   {
    "duration": 9,
    "start_time": "2022-04-30T15:11:07.614Z"
   },
   {
    "duration": 9,
    "start_time": "2022-04-30T15:11:07.758Z"
   },
   {
    "duration": 25,
    "start_time": "2022-04-30T15:11:08.000Z"
   },
   {
    "duration": 10,
    "start_time": "2022-04-30T15:11:08.248Z"
   },
   {
    "duration": 10,
    "start_time": "2022-04-30T15:11:08.366Z"
   },
   {
    "duration": 7,
    "start_time": "2022-04-30T15:11:08.479Z"
   },
   {
    "duration": 21,
    "start_time": "2022-04-30T15:11:09.199Z"
   },
   {
    "duration": 7,
    "start_time": "2022-04-30T15:11:09.472Z"
   },
   {
    "duration": 7,
    "start_time": "2022-04-30T15:11:09.733Z"
   },
   {
    "duration": 10,
    "start_time": "2022-04-30T15:11:09.976Z"
   },
   {
    "duration": 25,
    "start_time": "2022-04-30T15:11:10.208Z"
   },
   {
    "duration": 16,
    "start_time": "2022-04-30T15:11:10.488Z"
   },
   {
    "duration": 11,
    "start_time": "2022-04-30T15:11:10.621Z"
   },
   {
    "duration": 11,
    "start_time": "2022-04-30T15:11:10.754Z"
   },
   {
    "duration": 9,
    "start_time": "2022-04-30T15:11:11.025Z"
   },
   {
    "duration": 32,
    "start_time": "2022-04-30T15:11:11.151Z"
   },
   {
    "duration": 7,
    "start_time": "2022-04-30T15:11:11.289Z"
   },
   {
    "duration": 20,
    "start_time": "2022-04-30T15:11:12.368Z"
   },
   {
    "duration": 6,
    "start_time": "2022-04-30T15:11:12.511Z"
   },
   {
    "duration": 23,
    "start_time": "2022-04-30T15:11:12.650Z"
   },
   {
    "duration": 20,
    "start_time": "2022-04-30T15:11:14.266Z"
   },
   {
    "duration": 27,
    "start_time": "2022-04-30T15:11:15.653Z"
   },
   {
    "duration": 28,
    "start_time": "2022-04-30T15:11:17.104Z"
   },
   {
    "duration": 27,
    "start_time": "2022-04-30T15:12:37.175Z"
   },
   {
    "duration": 25,
    "start_time": "2022-04-30T15:12:47.393Z"
   },
   {
    "duration": 15,
    "start_time": "2022-04-30T15:14:17.693Z"
   },
   {
    "duration": 18,
    "start_time": "2022-04-30T15:14:18.147Z"
   },
   {
    "duration": 27,
    "start_time": "2022-04-30T15:14:22.102Z"
   },
   {
    "duration": 27,
    "start_time": "2022-04-30T15:14:23.205Z"
   },
   {
    "duration": 26,
    "start_time": "2022-04-30T15:14:24.094Z"
   },
   {
    "duration": 4,
    "start_time": "2022-04-30T15:14:34.516Z"
   },
   {
    "duration": 126,
    "start_time": "2022-04-30T15:14:34.670Z"
   },
   {
    "duration": 20,
    "start_time": "2022-04-30T15:14:34.798Z"
   },
   {
    "duration": 15,
    "start_time": "2022-04-30T15:14:35.088Z"
   },
   {
    "duration": 9,
    "start_time": "2022-04-30T15:14:35.349Z"
   },
   {
    "duration": 8,
    "start_time": "2022-04-30T15:14:35.467Z"
   },
   {
    "duration": 25,
    "start_time": "2022-04-30T15:14:35.693Z"
   },
   {
    "duration": 10,
    "start_time": "2022-04-30T15:14:35.950Z"
   },
   {
    "duration": 11,
    "start_time": "2022-04-30T15:14:36.043Z"
   },
   {
    "duration": 8,
    "start_time": "2022-04-30T15:14:36.155Z"
   },
   {
    "duration": 21,
    "start_time": "2022-04-30T15:14:36.708Z"
   },
   {
    "duration": 7,
    "start_time": "2022-04-30T15:14:36.973Z"
   },
   {
    "duration": 5,
    "start_time": "2022-04-30T15:14:37.230Z"
   },
   {
    "duration": 10,
    "start_time": "2022-04-30T15:14:37.363Z"
   },
   {
    "duration": 24,
    "start_time": "2022-04-30T15:14:37.470Z"
   },
   {
    "duration": 15,
    "start_time": "2022-04-30T15:14:37.641Z"
   },
   {
    "duration": 11,
    "start_time": "2022-04-30T15:14:37.756Z"
   },
   {
    "duration": 10,
    "start_time": "2022-04-30T15:14:37.892Z"
   },
   {
    "duration": 9,
    "start_time": "2022-04-30T15:14:38.189Z"
   },
   {
    "duration": 33,
    "start_time": "2022-04-30T15:14:38.358Z"
   },
   {
    "duration": 7,
    "start_time": "2022-04-30T15:14:38.508Z"
   },
   {
    "duration": 22,
    "start_time": "2022-04-30T15:14:38.963Z"
   },
   {
    "duration": 5,
    "start_time": "2022-04-30T15:14:39.141Z"
   },
   {
    "duration": 22,
    "start_time": "2022-04-30T15:14:39.327Z"
   },
   {
    "duration": 21,
    "start_time": "2022-04-30T15:14:40.502Z"
   },
   {
    "duration": 16,
    "start_time": "2022-04-30T15:14:40.995Z"
   },
   {
    "duration": 20,
    "start_time": "2022-04-30T15:14:41.148Z"
   },
   {
    "duration": 39,
    "start_time": "2022-04-30T15:14:41.318Z"
   },
   {
    "duration": 28,
    "start_time": "2022-04-30T15:14:43.780Z"
   },
   {
    "duration": 26,
    "start_time": "2022-04-30T15:14:44.198Z"
   },
   {
    "duration": 73,
    "start_time": "2022-05-03T05:31:29.199Z"
   },
   {
    "duration": 472,
    "start_time": "2022-05-03T05:31:35.794Z"
   },
   {
    "duration": 105,
    "start_time": "2022-05-03T05:31:36.269Z"
   },
   {
    "duration": 22,
    "start_time": "2022-05-03T05:31:36.376Z"
   },
   {
    "duration": 15,
    "start_time": "2022-05-03T05:31:36.464Z"
   },
   {
    "duration": 9,
    "start_time": "2022-05-03T05:31:36.595Z"
   },
   {
    "duration": 9,
    "start_time": "2022-05-03T05:31:36.769Z"
   },
   {
    "duration": 26,
    "start_time": "2022-05-03T05:31:37.106Z"
   },
   {
    "duration": 11,
    "start_time": "2022-05-03T05:31:37.452Z"
   },
   {
    "duration": 11,
    "start_time": "2022-05-03T05:31:37.609Z"
   },
   {
    "duration": 8,
    "start_time": "2022-05-03T05:31:37.803Z"
   },
   {
    "duration": 22,
    "start_time": "2022-05-03T05:31:38.969Z"
   },
   {
    "duration": 12,
    "start_time": "2022-05-03T05:31:39.283Z"
   },
   {
    "duration": 7,
    "start_time": "2022-05-03T05:31:39.556Z"
   },
   {
    "duration": 10,
    "start_time": "2022-05-03T05:31:39.689Z"
   },
   {
    "duration": 27,
    "start_time": "2022-05-03T05:31:39.826Z"
   },
   {
    "duration": 15,
    "start_time": "2022-05-03T05:31:39.987Z"
   },
   {
    "duration": 11,
    "start_time": "2022-05-03T05:31:40.131Z"
   },
   {
    "duration": 10,
    "start_time": "2022-05-03T05:31:40.299Z"
   },
   {
    "duration": 9,
    "start_time": "2022-05-03T05:31:40.656Z"
   },
   {
    "duration": 30,
    "start_time": "2022-05-03T05:31:40.833Z"
   },
   {
    "duration": 7,
    "start_time": "2022-05-03T05:31:41.025Z"
   },
   {
    "duration": 21,
    "start_time": "2022-05-03T05:31:41.411Z"
   },
   {
    "duration": 6,
    "start_time": "2022-05-03T05:31:41.803Z"
   },
   {
    "duration": 23,
    "start_time": "2022-05-03T05:31:42.051Z"
   },
   {
    "duration": 20,
    "start_time": "2022-05-03T05:31:42.515Z"
   },
   {
    "duration": 15,
    "start_time": "2022-05-03T05:31:43.512Z"
   },
   {
    "duration": 19,
    "start_time": "2022-05-03T05:31:43.785Z"
   },
   {
    "duration": 26,
    "start_time": "2022-05-03T05:31:43.985Z"
   },
   {
    "duration": 30,
    "start_time": "2022-05-03T05:31:44.200Z"
   },
   {
    "duration": 25,
    "start_time": "2022-05-03T05:31:44.417Z"
   },
   {
    "duration": 7,
    "start_time": "2022-05-03T05:31:45.821Z"
   },
   {
    "duration": 4,
    "start_time": "2022-05-03T05:37:32.166Z"
   },
   {
    "duration": 53,
    "start_time": "2022-05-03T05:41:19.668Z"
   },
   {
    "duration": 4,
    "start_time": "2022-05-03T05:41:33.441Z"
   },
   {
    "duration": 86,
    "start_time": "2022-05-03T05:41:33.670Z"
   },
   {
    "duration": 20,
    "start_time": "2022-05-03T05:41:33.842Z"
   },
   {
    "duration": 13,
    "start_time": "2022-05-03T05:41:34.198Z"
   },
   {
    "duration": 8,
    "start_time": "2022-05-03T05:41:34.290Z"
   },
   {
    "duration": 8,
    "start_time": "2022-05-03T05:41:34.443Z"
   },
   {
    "duration": 23,
    "start_time": "2022-05-03T05:41:34.749Z"
   },
   {
    "duration": 9,
    "start_time": "2022-05-03T05:41:35.059Z"
   },
   {
    "duration": 10,
    "start_time": "2022-05-03T05:41:35.209Z"
   },
   {
    "duration": 7,
    "start_time": "2022-05-03T05:41:35.363Z"
   },
   {
    "duration": 23,
    "start_time": "2022-05-03T05:41:36.156Z"
   },
   {
    "duration": 7,
    "start_time": "2022-05-03T05:41:36.513Z"
   },
   {
    "duration": 6,
    "start_time": "2022-05-03T05:41:36.858Z"
   },
   {
    "duration": 9,
    "start_time": "2022-05-03T05:41:37.034Z"
   },
   {
    "duration": 25,
    "start_time": "2022-05-03T05:41:37.224Z"
   },
   {
    "duration": 15,
    "start_time": "2022-05-03T05:41:37.362Z"
   },
   {
    "duration": 11,
    "start_time": "2022-05-03T05:41:37.530Z"
   },
   {
    "duration": 11,
    "start_time": "2022-05-03T05:41:37.690Z"
   },
   {
    "duration": 9,
    "start_time": "2022-05-03T05:41:38.040Z"
   },
   {
    "duration": 31,
    "start_time": "2022-05-03T05:41:38.229Z"
   },
   {
    "duration": 6,
    "start_time": "2022-05-03T05:41:38.404Z"
   },
   {
    "duration": 20,
    "start_time": "2022-05-03T05:41:38.786Z"
   },
   {
    "duration": 6,
    "start_time": "2022-05-03T05:41:38.980Z"
   },
   {
    "duration": 24,
    "start_time": "2022-05-03T05:41:39.157Z"
   },
   {
    "duration": 20,
    "start_time": "2022-05-03T05:41:39.563Z"
   },
   {
    "duration": 15,
    "start_time": "2022-05-03T05:41:40.563Z"
   },
   {
    "duration": 19,
    "start_time": "2022-05-03T05:41:40.907Z"
   },
   {
    "duration": 28,
    "start_time": "2022-05-03T05:41:41.074Z"
   },
   {
    "duration": 29,
    "start_time": "2022-05-03T05:41:41.237Z"
   },
   {
    "duration": 27,
    "start_time": "2022-05-03T05:41:41.409Z"
   },
   {
    "duration": 20,
    "start_time": "2022-05-03T05:41:42.988Z"
   },
   {
    "duration": 18,
    "start_time": "2022-05-03T05:42:23.999Z"
   },
   {
    "duration": 7,
    "start_time": "2022-05-03T05:42:31.755Z"
   },
   {
    "duration": 7,
    "start_time": "2022-05-03T05:42:53.274Z"
   },
   {
    "duration": 13,
    "start_time": "2022-05-03T05:50:41.270Z"
   },
   {
    "duration": 4,
    "start_time": "2022-05-03T05:50:50.836Z"
   },
   {
    "duration": 87,
    "start_time": "2022-05-03T05:50:51.212Z"
   },
   {
    "duration": 21,
    "start_time": "2022-05-03T05:50:51.438Z"
   },
   {
    "duration": 15,
    "start_time": "2022-05-03T05:50:51.811Z"
   },
   {
    "duration": 8,
    "start_time": "2022-05-03T05:50:52.003Z"
   },
   {
    "duration": 8,
    "start_time": "2022-05-03T05:50:52.203Z"
   },
   {
    "duration": 26,
    "start_time": "2022-05-03T05:50:52.579Z"
   },
   {
    "duration": 10,
    "start_time": "2022-05-03T05:50:53.389Z"
   },
   {
    "duration": 10,
    "start_time": "2022-05-03T05:50:53.692Z"
   },
   {
    "duration": 7,
    "start_time": "2022-05-03T05:50:53.873Z"
   },
   {
    "duration": 21,
    "start_time": "2022-05-03T05:50:54.920Z"
   },
   {
    "duration": 6,
    "start_time": "2022-05-03T05:50:55.539Z"
   },
   {
    "duration": 6,
    "start_time": "2022-05-03T05:50:56.256Z"
   },
   {
    "duration": 10,
    "start_time": "2022-05-03T05:50:57.108Z"
   },
   {
    "duration": 25,
    "start_time": "2022-05-03T05:50:57.580Z"
   },
   {
    "duration": 16,
    "start_time": "2022-05-03T05:50:58.812Z"
   },
   {
    "duration": 11,
    "start_time": "2022-05-03T05:50:59.082Z"
   },
   {
    "duration": 11,
    "start_time": "2022-05-03T05:50:59.296Z"
   },
   {
    "duration": 9,
    "start_time": "2022-05-03T05:50:59.656Z"
   },
   {
    "duration": 33,
    "start_time": "2022-05-03T05:51:00.066Z"
   },
   {
    "duration": 7,
    "start_time": "2022-05-03T05:51:00.481Z"
   },
   {
    "duration": 20,
    "start_time": "2022-05-03T05:51:01.339Z"
   },
   {
    "duration": 6,
    "start_time": "2022-05-03T05:51:01.683Z"
   },
   {
    "duration": 24,
    "start_time": "2022-05-03T05:51:01.889Z"
   },
   {
    "duration": 20,
    "start_time": "2022-05-03T05:51:02.523Z"
   },
   {
    "duration": 14,
    "start_time": "2022-05-03T05:51:03.755Z"
   },
   {
    "duration": 19,
    "start_time": "2022-05-03T05:51:04.081Z"
   },
   {
    "duration": 27,
    "start_time": "2022-05-03T05:51:04.545Z"
   },
   {
    "duration": 27,
    "start_time": "2022-05-03T05:51:04.859Z"
   },
   {
    "duration": 25,
    "start_time": "2022-05-03T05:51:05.123Z"
   },
   {
    "duration": 12,
    "start_time": "2022-05-03T05:51:06.619Z"
   },
   {
    "duration": 13,
    "start_time": "2022-05-03T05:52:12.668Z"
   },
   {
    "duration": 10,
    "start_time": "2022-05-03T05:52:57.289Z"
   },
   {
    "duration": 21,
    "start_time": "2022-05-03T05:53:16.783Z"
   },
   {
    "duration": 11,
    "start_time": "2022-05-03T05:53:32.620Z"
   },
   {
    "duration": 17,
    "start_time": "2022-05-03T05:53:45.203Z"
   },
   {
    "duration": 19,
    "start_time": "2022-05-03T05:55:29.264Z"
   },
   {
    "duration": 18,
    "start_time": "2022-05-03T05:55:39.929Z"
   },
   {
    "duration": 15,
    "start_time": "2022-05-03T05:56:48.327Z"
   },
   {
    "duration": 13,
    "start_time": "2022-05-03T05:58:50.600Z"
   },
   {
    "duration": 22,
    "start_time": "2022-05-03T06:12:43.349Z"
   },
   {
    "duration": 14,
    "start_time": "2022-05-03T06:13:14.140Z"
   },
   {
    "duration": 14,
    "start_time": "2022-05-03T06:14:04.404Z"
   },
   {
    "duration": 12,
    "start_time": "2022-05-03T06:14:04.908Z"
   },
   {
    "duration": 4,
    "start_time": "2022-05-03T06:14:11.033Z"
   },
   {
    "duration": 81,
    "start_time": "2022-05-03T06:14:11.145Z"
   },
   {
    "duration": 20,
    "start_time": "2022-05-03T06:14:11.297Z"
   },
   {
    "duration": 13,
    "start_time": "2022-05-03T06:14:11.555Z"
   },
   {
    "duration": 8,
    "start_time": "2022-05-03T06:14:11.674Z"
   },
   {
    "duration": 8,
    "start_time": "2022-05-03T06:14:11.776Z"
   },
   {
    "duration": 24,
    "start_time": "2022-05-03T06:14:12.025Z"
   },
   {
    "duration": 10,
    "start_time": "2022-05-03T06:14:12.394Z"
   },
   {
    "duration": 10,
    "start_time": "2022-05-03T06:14:12.504Z"
   },
   {
    "duration": 8,
    "start_time": "2022-05-03T06:14:12.600Z"
   },
   {
    "duration": 21,
    "start_time": "2022-05-03T06:14:13.187Z"
   },
   {
    "duration": 6,
    "start_time": "2022-05-03T06:14:13.410Z"
   },
   {
    "duration": 6,
    "start_time": "2022-05-03T06:14:13.642Z"
   },
   {
    "duration": 9,
    "start_time": "2022-05-03T06:14:13.891Z"
   },
   {
    "duration": 26,
    "start_time": "2022-05-03T06:14:14.036Z"
   },
   {
    "duration": 15,
    "start_time": "2022-05-03T06:14:14.156Z"
   },
   {
    "duration": 11,
    "start_time": "2022-05-03T06:14:14.281Z"
   },
   {
    "duration": 11,
    "start_time": "2022-05-03T06:14:14.407Z"
   },
   {
    "duration": 9,
    "start_time": "2022-05-03T06:14:14.642Z"
   },
   {
    "duration": 32,
    "start_time": "2022-05-03T06:14:14.769Z"
   },
   {
    "duration": 6,
    "start_time": "2022-05-03T06:14:14.896Z"
   },
   {
    "duration": 20,
    "start_time": "2022-05-03T06:14:15.235Z"
   },
   {
    "duration": 5,
    "start_time": "2022-05-03T06:14:15.401Z"
   },
   {
    "duration": 25,
    "start_time": "2022-05-03T06:14:15.593Z"
   },
   {
    "duration": 21,
    "start_time": "2022-05-03T06:14:15.891Z"
   },
   {
    "duration": 15,
    "start_time": "2022-05-03T06:14:16.898Z"
   },
   {
    "duration": 18,
    "start_time": "2022-05-03T06:14:17.051Z"
   },
   {
    "duration": 28,
    "start_time": "2022-05-03T06:14:20.394Z"
   },
   {
    "duration": 28,
    "start_time": "2022-05-03T06:14:20.651Z"
   },
   {
    "duration": 26,
    "start_time": "2022-05-03T06:14:20.818Z"
   },
   {
    "duration": 15,
    "start_time": "2022-05-03T06:14:23.413Z"
   },
   {
    "duration": 12,
    "start_time": "2022-05-03T06:14:24.064Z"
   },
   {
    "duration": 8,
    "start_time": "2022-05-03T06:14:54.737Z"
   },
   {
    "duration": 19,
    "start_time": "2022-05-03T06:16:52.607Z"
   },
   {
    "duration": 4,
    "start_time": "2022-05-03T06:17:03.255Z"
   },
   {
    "duration": 89,
    "start_time": "2022-05-03T06:17:03.408Z"
   },
   {
    "duration": 20,
    "start_time": "2022-05-03T06:17:03.565Z"
   },
   {
    "duration": 14,
    "start_time": "2022-05-03T06:17:03.849Z"
   },
   {
    "duration": 9,
    "start_time": "2022-05-03T06:17:03.960Z"
   },
   {
    "duration": 8,
    "start_time": "2022-05-03T06:17:04.121Z"
   },
   {
    "duration": 24,
    "start_time": "2022-05-03T06:17:04.362Z"
   },
   {
    "duration": 10,
    "start_time": "2022-05-03T06:17:04.621Z"
   },
   {
    "duration": 10,
    "start_time": "2022-05-03T06:17:04.735Z"
   },
   {
    "duration": 8,
    "start_time": "2022-05-03T06:17:04.872Z"
   },
   {
    "duration": 28,
    "start_time": "2022-05-03T06:17:05.744Z"
   },
   {
    "duration": 7,
    "start_time": "2022-05-03T06:17:06.038Z"
   },
   {
    "duration": 5,
    "start_time": "2022-05-03T06:17:06.289Z"
   },
   {
    "duration": 10,
    "start_time": "2022-05-03T06:17:06.407Z"
   },
   {
    "duration": 26,
    "start_time": "2022-05-03T06:17:06.569Z"
   },
   {
    "duration": 16,
    "start_time": "2022-05-03T06:17:06.747Z"
   },
   {
    "duration": 11,
    "start_time": "2022-05-03T06:17:06.995Z"
   },
   {
    "duration": 10,
    "start_time": "2022-05-03T06:17:09.872Z"
   },
   {
    "duration": 8,
    "start_time": "2022-05-03T06:17:10.152Z"
   },
   {
    "duration": 30,
    "start_time": "2022-05-03T06:17:10.274Z"
   },
   {
    "duration": 6,
    "start_time": "2022-05-03T06:17:10.391Z"
   },
   {
    "duration": 20,
    "start_time": "2022-05-03T06:17:10.639Z"
   },
   {
    "duration": 6,
    "start_time": "2022-05-03T06:17:10.766Z"
   },
   {
    "duration": 22,
    "start_time": "2022-05-03T06:17:10.904Z"
   },
   {
    "duration": 20,
    "start_time": "2022-05-03T06:17:11.192Z"
   },
   {
    "duration": 15,
    "start_time": "2022-05-03T06:17:11.528Z"
   },
   {
    "duration": 19,
    "start_time": "2022-05-03T06:17:11.729Z"
   },
   {
    "duration": 29,
    "start_time": "2022-05-03T06:17:11.879Z"
   },
   {
    "duration": 31,
    "start_time": "2022-05-03T06:17:12.064Z"
   },
   {
    "duration": 30,
    "start_time": "2022-05-03T06:17:12.280Z"
   },
   {
    "duration": 13,
    "start_time": "2022-05-03T06:17:13.055Z"
   },
   {
    "duration": 13,
    "start_time": "2022-05-03T06:17:13.416Z"
   },
   {
    "duration": 8,
    "start_time": "2022-05-03T06:17:13.611Z"
   },
   {
    "duration": 16,
    "start_time": "2022-05-03T06:17:30.810Z"
   },
   {
    "duration": 5,
    "start_time": "2022-05-03T06:21:58.976Z"
   },
   {
    "duration": 213,
    "start_time": "2022-05-03T06:25:49.531Z"
   },
   {
    "duration": 183,
    "start_time": "2022-05-03T06:27:21.707Z"
   },
   {
    "duration": 18,
    "start_time": "2022-05-03T06:27:37.282Z"
   },
   {
    "duration": 14,
    "start_time": "2022-05-03T06:30:49.785Z"
   },
   {
    "duration": 17,
    "start_time": "2022-05-03T06:30:50.498Z"
   },
   {
    "duration": 5,
    "start_time": "2022-05-03T06:31:04.913Z"
   },
   {
    "duration": 185,
    "start_time": "2022-05-03T06:31:05.735Z"
   },
   {
    "duration": 17,
    "start_time": "2022-05-03T06:31:07.585Z"
   },
   {
    "duration": 4,
    "start_time": "2022-05-03T06:35:15.227Z"
   },
   {
    "duration": 155,
    "start_time": "2022-05-03T06:36:18.428Z"
   },
   {
    "duration": 18,
    "start_time": "2022-05-03T06:36:28.643Z"
   },
   {
    "duration": 4,
    "start_time": "2022-05-03T06:37:12.451Z"
   },
   {
    "duration": 164,
    "start_time": "2022-05-03T06:37:12.947Z"
   },
   {
    "duration": 18,
    "start_time": "2022-05-03T06:37:13.785Z"
   },
   {
    "duration": 191,
    "start_time": "2022-05-03T06:44:21.141Z"
   },
   {
    "duration": 18,
    "start_time": "2022-05-03T06:44:21.652Z"
   },
   {
    "duration": 12,
    "start_time": "2022-05-03T06:44:32.004Z"
   },
   {
    "duration": 18,
    "start_time": "2022-05-03T06:44:32.476Z"
   },
   {
    "duration": 20,
    "start_time": "2022-05-03T06:45:04.832Z"
   },
   {
    "duration": 4,
    "start_time": "2022-05-03T06:45:15.959Z"
   },
   {
    "duration": 83,
    "start_time": "2022-05-03T06:45:16.092Z"
   },
   {
    "duration": 19,
    "start_time": "2022-05-03T06:45:16.246Z"
   },
   {
    "duration": 13,
    "start_time": "2022-05-03T06:45:16.485Z"
   },
   {
    "duration": 9,
    "start_time": "2022-05-03T06:45:16.717Z"
   },
   {
    "duration": 8,
    "start_time": "2022-05-03T06:45:16.855Z"
   },
   {
    "duration": 25,
    "start_time": "2022-05-03T06:45:17.087Z"
   },
   {
    "duration": 9,
    "start_time": "2022-05-03T06:45:17.306Z"
   },
   {
    "duration": 10,
    "start_time": "2022-05-03T06:45:17.417Z"
   },
   {
    "duration": 7,
    "start_time": "2022-05-03T06:45:17.523Z"
   },
   {
    "duration": 20,
    "start_time": "2022-05-03T06:45:18.069Z"
   },
   {
    "duration": 7,
    "start_time": "2022-05-03T06:45:18.292Z"
   },
   {
    "duration": 6,
    "start_time": "2022-05-03T06:45:18.532Z"
   },
   {
    "duration": 10,
    "start_time": "2022-05-03T06:45:18.636Z"
   },
   {
    "duration": 25,
    "start_time": "2022-05-03T06:45:18.754Z"
   },
   {
    "duration": 17,
    "start_time": "2022-05-03T06:45:19.221Z"
   },
   {
    "duration": 11,
    "start_time": "2022-05-03T06:45:19.428Z"
   },
   {
    "duration": 13,
    "start_time": "2022-05-03T06:45:19.589Z"
   },
   {
    "duration": 9,
    "start_time": "2022-05-03T06:45:20.029Z"
   },
   {
    "duration": 30,
    "start_time": "2022-05-03T06:45:20.153Z"
   },
   {
    "duration": 6,
    "start_time": "2022-05-03T06:45:20.296Z"
   },
   {
    "duration": 20,
    "start_time": "2022-05-03T06:45:20.496Z"
   },
   {
    "duration": 5,
    "start_time": "2022-05-03T06:45:20.730Z"
   },
   {
    "duration": 24,
    "start_time": "2022-05-03T06:45:20.856Z"
   },
   {
    "duration": 20,
    "start_time": "2022-05-03T06:45:21.087Z"
   },
   {
    "duration": 15,
    "start_time": "2022-05-03T06:45:21.492Z"
   },
   {
    "duration": 18,
    "start_time": "2022-05-03T06:45:22.021Z"
   },
   {
    "duration": 26,
    "start_time": "2022-05-03T06:45:22.163Z"
   },
   {
    "duration": 30,
    "start_time": "2022-05-03T06:45:22.289Z"
   },
   {
    "duration": 27,
    "start_time": "2022-05-03T06:45:22.460Z"
   },
   {
    "duration": 13,
    "start_time": "2022-05-03T06:45:22.847Z"
   },
   {
    "duration": 13,
    "start_time": "2022-05-03T06:45:23.357Z"
   },
   {
    "duration": 7,
    "start_time": "2022-05-03T06:45:23.875Z"
   },
   {
    "duration": 16,
    "start_time": "2022-05-03T06:45:24.665Z"
   },
   {
    "duration": 5,
    "start_time": "2022-05-03T06:45:26.429Z"
   },
   {
    "duration": 15,
    "start_time": "2022-05-03T06:45:26.612Z"
   },
   {
    "duration": 18,
    "start_time": "2022-05-03T06:45:27.946Z"
   },
   {
    "duration": 5,
    "start_time": "2022-05-03T06:45:33.921Z"
   },
   {
    "duration": 13,
    "start_time": "2022-05-03T06:45:34.493Z"
   },
   {
    "duration": 18,
    "start_time": "2022-05-03T06:45:36.172Z"
   },
   {
    "duration": 4,
    "start_time": "2022-05-03T06:58:30.130Z"
   },
   {
    "duration": 87,
    "start_time": "2022-05-03T06:58:30.277Z"
   },
   {
    "duration": 20,
    "start_time": "2022-05-03T06:58:30.376Z"
   },
   {
    "duration": 13,
    "start_time": "2022-05-03T06:58:30.611Z"
   },
   {
    "duration": 8,
    "start_time": "2022-05-03T06:58:30.697Z"
   },
   {
    "duration": 8,
    "start_time": "2022-05-03T06:58:30.825Z"
   },
   {
    "duration": 25,
    "start_time": "2022-05-03T06:58:31.053Z"
   },
   {
    "duration": 10,
    "start_time": "2022-05-03T06:58:31.379Z"
   },
   {
    "duration": 10,
    "start_time": "2022-05-03T06:58:31.762Z"
   },
   {
    "duration": 8,
    "start_time": "2022-05-03T06:58:31.905Z"
   },
   {
    "duration": 21,
    "start_time": "2022-05-03T06:58:32.523Z"
   },
   {
    "duration": 6,
    "start_time": "2022-05-03T06:58:32.762Z"
   },
   {
    "duration": 7,
    "start_time": "2022-05-03T06:58:32.986Z"
   },
   {
    "duration": 11,
    "start_time": "2022-05-03T06:58:33.096Z"
   },
   {
    "duration": 27,
    "start_time": "2022-05-03T06:58:33.266Z"
   },
   {
    "duration": 17,
    "start_time": "2022-05-03T06:58:33.425Z"
   },
   {
    "duration": 11,
    "start_time": "2022-05-03T06:58:33.560Z"
   },
   {
    "duration": 11,
    "start_time": "2022-05-03T06:58:33.688Z"
   },
   {
    "duration": 9,
    "start_time": "2022-05-03T06:58:33.943Z"
   },
   {
    "duration": 31,
    "start_time": "2022-05-03T06:58:34.081Z"
   },
   {
    "duration": 6,
    "start_time": "2022-05-03T06:58:34.217Z"
   },
   {
    "duration": 3,
    "start_time": "2022-05-03T06:58:34.778Z"
   },
   {
    "duration": 5,
    "start_time": "2022-05-03T06:58:34.920Z"
   },
   {
    "duration": 23,
    "start_time": "2022-05-03T06:58:35.069Z"
   },
   {
    "duration": 19,
    "start_time": "2022-05-03T06:58:35.306Z"
   },
   {
    "duration": 15,
    "start_time": "2022-05-03T06:58:35.584Z"
   },
   {
    "duration": 22,
    "start_time": "2022-05-03T06:58:35.722Z"
   },
   {
    "duration": 26,
    "start_time": "2022-05-03T06:58:35.856Z"
   },
   {
    "duration": 30,
    "start_time": "2022-05-03T06:58:36.048Z"
   },
   {
    "duration": 25,
    "start_time": "2022-05-03T06:58:36.152Z"
   },
   {
    "duration": 14,
    "start_time": "2022-05-03T06:58:37.016Z"
   },
   {
    "duration": 13,
    "start_time": "2022-05-03T06:58:37.475Z"
   },
   {
    "duration": 7,
    "start_time": "2022-05-03T06:58:37.951Z"
   },
   {
    "duration": 17,
    "start_time": "2022-05-03T06:58:38.441Z"
   },
   {
    "duration": 5,
    "start_time": "2022-05-03T06:58:40.075Z"
   },
   {
    "duration": 14,
    "start_time": "2022-05-03T06:58:40.691Z"
   },
   {
    "duration": 17,
    "start_time": "2022-05-03T06:58:43.147Z"
   },
   {
    "duration": 4,
    "start_time": "2022-05-03T06:58:45.771Z"
   },
   {
    "duration": 13,
    "start_time": "2022-05-03T06:58:45.994Z"
   },
   {
    "duration": 19,
    "start_time": "2022-05-03T06:58:46.275Z"
   },
   {
    "duration": 12,
    "start_time": "2022-05-03T07:02:16.953Z"
   },
   {
    "duration": 8,
    "start_time": "2022-05-03T07:02:26.288Z"
   },
   {
    "duration": 5,
    "start_time": "2022-05-03T07:04:34.671Z"
   },
   {
    "duration": 5,
    "start_time": "2022-05-03T07:04:41.462Z"
   },
   {
    "duration": 21,
    "start_time": "2022-05-03T07:04:49.628Z"
   },
   {
    "duration": 16,
    "start_time": "2022-05-03T07:05:01.749Z"
   },
   {
    "duration": 8,
    "start_time": "2022-05-03T07:05:22.846Z"
   },
   {
    "duration": 7,
    "start_time": "2022-05-03T07:06:12.525Z"
   },
   {
    "duration": 7,
    "start_time": "2022-05-03T07:13:59.017Z"
   },
   {
    "duration": 7,
    "start_time": "2022-05-03T07:14:06.621Z"
   },
   {
    "duration": 7,
    "start_time": "2022-05-03T07:15:25.710Z"
   },
   {
    "duration": 9,
    "start_time": "2022-05-03T07:27:38.141Z"
   },
   {
    "duration": 8,
    "start_time": "2022-05-03T07:28:41.573Z"
   },
   {
    "duration": 8,
    "start_time": "2022-05-03T07:28:51.609Z"
   },
   {
    "duration": 9,
    "start_time": "2022-05-03T07:29:01.567Z"
   },
   {
    "duration": 2,
    "start_time": "2022-05-03T07:37:12.696Z"
   },
   {
    "duration": 16,
    "start_time": "2022-05-03T07:38:41.176Z"
   },
   {
    "duration": 8,
    "start_time": "2022-05-03T07:39:05.343Z"
   },
   {
    "duration": 9,
    "start_time": "2022-05-03T07:39:37.823Z"
   },
   {
    "duration": 9,
    "start_time": "2022-05-03T07:40:10.301Z"
   },
   {
    "duration": 10,
    "start_time": "2022-05-03T07:47:27.656Z"
   },
   {
    "duration": 13,
    "start_time": "2022-05-03T07:47:58.002Z"
   },
   {
    "duration": 64,
    "start_time": "2022-05-03T14:29:28.775Z"
   },
   {
    "duration": 403,
    "start_time": "2022-05-03T14:29:34.731Z"
   },
   {
    "duration": 85,
    "start_time": "2022-05-03T14:29:35.136Z"
   },
   {
    "duration": 16,
    "start_time": "2022-05-03T14:29:35.223Z"
   },
   {
    "duration": 11,
    "start_time": "2022-05-03T14:29:35.244Z"
   },
   {
    "duration": 7,
    "start_time": "2022-05-03T14:29:35.373Z"
   },
   {
    "duration": 6,
    "start_time": "2022-05-03T14:29:35.486Z"
   },
   {
    "duration": 23,
    "start_time": "2022-05-03T14:29:35.718Z"
   },
   {
    "duration": 11,
    "start_time": "2022-05-03T14:29:35.941Z"
   },
   {
    "duration": 10,
    "start_time": "2022-05-03T14:29:36.053Z"
   },
   {
    "duration": 7,
    "start_time": "2022-05-03T14:29:36.196Z"
   },
   {
    "duration": 21,
    "start_time": "2022-05-03T14:29:36.830Z"
   },
   {
    "duration": 7,
    "start_time": "2022-05-03T14:29:37.064Z"
   },
   {
    "duration": 6,
    "start_time": "2022-05-03T14:29:37.300Z"
   },
   {
    "duration": 9,
    "start_time": "2022-05-03T14:29:37.415Z"
   },
   {
    "duration": 26,
    "start_time": "2022-05-03T14:29:37.533Z"
   },
   {
    "duration": 13,
    "start_time": "2022-05-03T14:29:37.652Z"
   },
   {
    "duration": 9,
    "start_time": "2022-05-03T14:29:37.773Z"
   },
   {
    "duration": 7,
    "start_time": "2022-05-03T14:29:37.868Z"
   },
   {
    "duration": 8,
    "start_time": "2022-05-03T14:29:38.148Z"
   },
   {
    "duration": 31,
    "start_time": "2022-05-03T14:29:38.262Z"
   },
   {
    "duration": 5,
    "start_time": "2022-05-03T14:29:38.396Z"
   },
   {
    "duration": 2,
    "start_time": "2022-05-03T14:29:38.643Z"
   },
   {
    "duration": 5,
    "start_time": "2022-05-03T14:29:38.765Z"
   },
   {
    "duration": 16,
    "start_time": "2022-05-03T14:29:38.894Z"
   },
   {
    "duration": 16,
    "start_time": "2022-05-03T14:29:39.172Z"
   },
   {
    "duration": 21,
    "start_time": "2022-05-03T14:29:39.455Z"
   },
   {
    "duration": 13,
    "start_time": "2022-05-03T14:29:39.581Z"
   },
   {
    "duration": 31,
    "start_time": "2022-05-03T14:29:39.732Z"
   },
   {
    "duration": 30,
    "start_time": "2022-05-03T14:29:39.837Z"
   },
   {
    "duration": 26,
    "start_time": "2022-05-03T14:29:39.967Z"
   },
   {
    "duration": 13,
    "start_time": "2022-05-03T14:29:40.343Z"
   },
   {
    "duration": 10,
    "start_time": "2022-05-03T14:29:40.548Z"
   },
   {
    "duration": 5,
    "start_time": "2022-05-03T14:29:40.708Z"
   },
   {
    "duration": 18,
    "start_time": "2022-05-03T14:29:40.853Z"
   },
   {
    "duration": 3,
    "start_time": "2022-05-03T14:29:41.181Z"
   },
   {
    "duration": 10,
    "start_time": "2022-05-03T14:29:41.341Z"
   },
   {
    "duration": 16,
    "start_time": "2022-05-03T14:29:41.511Z"
   },
   {
    "duration": 4,
    "start_time": "2022-05-03T14:29:41.860Z"
   },
   {
    "duration": 15,
    "start_time": "2022-05-03T14:29:42.012Z"
   },
   {
    "duration": 13,
    "start_time": "2022-05-03T14:29:42.181Z"
   },
   {
    "duration": 8,
    "start_time": "2022-05-03T14:29:43.228Z"
   },
   {
    "duration": 7,
    "start_time": "2022-05-03T14:29:43.682Z"
   },
   {
    "duration": 10,
    "start_time": "2022-05-03T14:29:44.477Z"
   },
   {
    "duration": 6,
    "start_time": "2022-05-03T14:30:06.203Z"
   },
   {
    "duration": 8,
    "start_time": "2022-05-03T14:30:06.340Z"
   },
   {
    "duration": 7,
    "start_time": "2022-05-03T14:30:06.486Z"
   },
   {
    "duration": 7,
    "start_time": "2022-05-03T14:30:07.022Z"
   },
   {
    "duration": 10,
    "start_time": "2022-05-03T14:30:07.165Z"
   },
   {
    "duration": 75,
    "start_time": "2022-05-03T14:30:07.459Z"
   },
   {
    "duration": 3,
    "start_time": "2022-05-03T14:34:13.809Z"
   },
   {
    "duration": 10,
    "start_time": "2022-05-03T14:35:06.967Z"
   },
   {
    "duration": 17,
    "start_time": "2022-05-03T14:35:29.777Z"
   },
   {
    "duration": 9,
    "start_time": "2022-05-03T14:37:13.098Z"
   },
   {
    "duration": 13,
    "start_time": "2022-05-03T14:37:13.299Z"
   },
   {
    "duration": 10,
    "start_time": "2022-05-03T14:37:14.325Z"
   },
   {
    "duration": 15,
    "start_time": "2022-05-03T14:37:14.844Z"
   },
   {
    "duration": 3,
    "start_time": "2022-05-03T15:19:20.307Z"
   },
   {
    "duration": 106,
    "start_time": "2022-05-03T15:19:22.628Z"
   },
   {
    "duration": 26,
    "start_time": "2022-05-03T15:19:22.978Z"
   },
   {
    "duration": 18,
    "start_time": "2022-05-03T15:19:23.307Z"
   },
   {
    "duration": 9,
    "start_time": "2022-05-03T15:19:23.626Z"
   },
   {
    "duration": 8,
    "start_time": "2022-05-03T15:19:23.947Z"
   },
   {
    "duration": 26,
    "start_time": "2022-05-03T15:19:24.267Z"
   },
   {
    "duration": 10,
    "start_time": "2022-05-03T15:19:24.611Z"
   },
   {
    "duration": 11,
    "start_time": "2022-05-03T15:19:24.771Z"
   },
   {
    "duration": 6,
    "start_time": "2022-05-03T15:19:24.931Z"
   },
   {
    "duration": 22,
    "start_time": "2022-05-03T15:19:25.810Z"
   },
   {
    "duration": 6,
    "start_time": "2022-05-03T15:19:26.205Z"
   },
   {
    "duration": 6,
    "start_time": "2022-05-03T15:19:26.627Z"
   },
   {
    "duration": 9,
    "start_time": "2022-05-03T15:19:26.843Z"
   },
   {
    "duration": 29,
    "start_time": "2022-05-03T15:19:27.059Z"
   },
   {
    "duration": 10,
    "start_time": "2022-05-03T15:19:27.258Z"
   },
   {
    "duration": 11,
    "start_time": "2022-05-03T15:19:27.434Z"
   },
   {
    "duration": 11,
    "start_time": "2022-05-03T15:19:27.791Z"
   },
   {
    "duration": 8,
    "start_time": "2022-05-03T15:19:28.163Z"
   },
   {
    "duration": 31,
    "start_time": "2022-05-03T15:19:28.339Z"
   },
   {
    "duration": 6,
    "start_time": "2022-05-03T15:19:28.498Z"
   },
   {
    "duration": 6,
    "start_time": "2022-05-03T15:19:28.865Z"
   },
   {
    "duration": 17,
    "start_time": "2022-05-03T15:19:29.043Z"
   },
   {
    "duration": 16,
    "start_time": "2022-05-03T15:19:29.689Z"
   },
   {
    "duration": 12,
    "start_time": "2022-05-03T15:19:30.194Z"
   },
   {
    "duration": 14,
    "start_time": "2022-05-03T15:19:30.402Z"
   },
   {
    "duration": 31,
    "start_time": "2022-05-03T15:19:30.618Z"
   },
   {
    "duration": 21,
    "start_time": "2022-05-03T15:19:30.906Z"
   },
   {
    "duration": 21,
    "start_time": "2022-05-03T15:19:31.171Z"
   },
   {
    "duration": 11,
    "start_time": "2022-05-03T15:19:31.650Z"
   },
   {
    "duration": 12,
    "start_time": "2022-05-03T15:19:31.817Z"
   },
   {
    "duration": 7,
    "start_time": "2022-05-03T15:19:31.978Z"
   },
   {
    "duration": 18,
    "start_time": "2022-05-03T15:19:32.146Z"
   },
   {
    "duration": 4,
    "start_time": "2022-05-03T15:19:32.481Z"
   },
   {
    "duration": 11,
    "start_time": "2022-05-03T15:19:32.658Z"
   },
   {
    "duration": 20,
    "start_time": "2022-05-03T15:19:32.827Z"
   },
   {
    "duration": 5,
    "start_time": "2022-05-03T15:19:33.170Z"
   },
   {
    "duration": 11,
    "start_time": "2022-05-03T15:19:33.322Z"
   },
   {
    "duration": 14,
    "start_time": "2022-05-03T15:19:33.490Z"
   },
   {
    "duration": 7,
    "start_time": "2022-05-03T15:19:33.969Z"
   },
   {
    "duration": 9,
    "start_time": "2022-05-03T15:19:34.131Z"
   },
   {
    "duration": 8,
    "start_time": "2022-05-03T15:19:34.787Z"
   },
   {
    "duration": 11,
    "start_time": "2022-05-03T15:19:34.978Z"
   },
   {
    "duration": 9,
    "start_time": "2022-05-03T15:19:35.163Z"
   },
   {
    "duration": 8,
    "start_time": "2022-05-03T15:19:35.906Z"
   },
   {
    "duration": 14,
    "start_time": "2022-05-03T15:19:36.090Z"
   },
   {
    "duration": 13,
    "start_time": "2022-05-03T15:19:36.844Z"
   },
   {
    "duration": 10,
    "start_time": "2022-05-03T15:19:37.042Z"
   },
   {
    "duration": 444,
    "start_time": "2022-05-06T12:59:44.060Z"
   },
   {
    "duration": 77,
    "start_time": "2022-05-06T12:59:44.506Z"
   },
   {
    "duration": 22,
    "start_time": "2022-05-06T12:59:44.585Z"
   },
   {
    "duration": 11,
    "start_time": "2022-05-06T12:59:44.608Z"
   },
   {
    "duration": 7,
    "start_time": "2022-05-06T12:59:44.621Z"
   },
   {
    "duration": 6,
    "start_time": "2022-05-06T12:59:44.630Z"
   },
   {
    "duration": 17,
    "start_time": "2022-05-06T12:59:44.638Z"
   },
   {
    "duration": 7,
    "start_time": "2022-05-06T12:59:44.693Z"
   },
   {
    "duration": 9,
    "start_time": "2022-05-06T12:59:44.701Z"
   },
   {
    "duration": 4,
    "start_time": "2022-05-06T12:59:44.712Z"
   },
   {
    "duration": 15,
    "start_time": "2022-05-06T12:59:44.718Z"
   },
   {
    "duration": 8,
    "start_time": "2022-05-06T12:59:44.735Z"
   },
   {
    "duration": 48,
    "start_time": "2022-05-06T12:59:44.745Z"
   },
   {
    "duration": 8,
    "start_time": "2022-05-06T12:59:44.796Z"
   },
   {
    "duration": 28,
    "start_time": "2022-05-06T12:59:44.806Z"
   },
   {
    "duration": 8,
    "start_time": "2022-05-06T12:59:44.835Z"
   },
   {
    "duration": 32,
    "start_time": "2022-05-06T12:59:44.845Z"
   },
   {
    "duration": 15,
    "start_time": "2022-05-06T12:59:44.879Z"
   },
   {
    "duration": 7,
    "start_time": "2022-05-06T12:59:44.896Z"
   },
   {
    "duration": 24,
    "start_time": "2022-05-06T12:59:44.904Z"
   },
   {
    "duration": 4,
    "start_time": "2022-05-06T12:59:44.930Z"
   },
   {
    "duration": 8,
    "start_time": "2022-05-06T12:59:44.936Z"
   },
   {
    "duration": 20,
    "start_time": "2022-05-06T12:59:44.946Z"
   },
   {
    "duration": 38,
    "start_time": "2022-05-06T12:59:44.967Z"
   },
   {
    "duration": 13,
    "start_time": "2022-05-06T12:59:45.007Z"
   },
   {
    "duration": 18,
    "start_time": "2022-05-06T12:59:45.021Z"
   },
   {
    "duration": 51,
    "start_time": "2022-05-06T12:59:45.041Z"
   },
   {
    "duration": 21,
    "start_time": "2022-05-06T12:59:45.094Z"
   },
   {
    "duration": 17,
    "start_time": "2022-05-06T12:59:45.116Z"
   },
   {
    "duration": 10,
    "start_time": "2022-05-06T12:59:45.135Z"
   },
   {
    "duration": 10,
    "start_time": "2022-05-06T12:59:45.147Z"
   },
   {
    "duration": 35,
    "start_time": "2022-05-06T12:59:45.158Z"
   },
   {
    "duration": 13,
    "start_time": "2022-05-06T12:59:45.194Z"
   },
   {
    "duration": 4,
    "start_time": "2022-05-06T12:59:45.209Z"
   },
   {
    "duration": 16,
    "start_time": "2022-05-06T12:59:45.215Z"
   },
   {
    "duration": 11,
    "start_time": "2022-05-06T12:59:45.233Z"
   },
   {
    "duration": 7,
    "start_time": "2022-05-06T12:59:45.246Z"
   },
   {
    "duration": 37,
    "start_time": "2022-05-06T12:59:45.255Z"
   },
   {
    "duration": 13,
    "start_time": "2022-05-06T12:59:45.294Z"
   },
   {
    "duration": 26,
    "start_time": "2022-05-06T12:59:45.309Z"
   },
   {
    "duration": 27,
    "start_time": "2022-05-06T12:59:45.340Z"
   },
   {
    "duration": 17,
    "start_time": "2022-05-06T12:59:45.368Z"
   },
   {
    "duration": 11,
    "start_time": "2022-05-06T12:59:45.386Z"
   },
   {
    "duration": 8,
    "start_time": "2022-05-06T12:59:45.399Z"
   },
   {
    "duration": 11,
    "start_time": "2022-05-06T12:59:45.409Z"
   },
   {
    "duration": 18,
    "start_time": "2022-05-06T12:59:45.422Z"
   },
   {
    "duration": 10,
    "start_time": "2022-05-06T12:59:45.441Z"
   },
   {
    "duration": 11,
    "start_time": "2022-05-06T12:59:45.453Z"
   },
   {
    "duration": 401,
    "start_time": "2022-05-06T15:58:03.103Z"
   },
   {
    "duration": 78,
    "start_time": "2022-05-06T15:58:03.507Z"
   },
   {
    "duration": 20,
    "start_time": "2022-05-06T15:58:03.587Z"
   },
   {
    "duration": 20,
    "start_time": "2022-05-06T15:58:03.610Z"
   },
   {
    "duration": 8,
    "start_time": "2022-05-06T15:58:03.631Z"
   },
   {
    "duration": 9,
    "start_time": "2022-05-06T15:58:03.640Z"
   },
   {
    "duration": 46,
    "start_time": "2022-05-06T15:58:03.651Z"
   },
   {
    "duration": 10,
    "start_time": "2022-05-06T15:58:03.699Z"
   },
   {
    "duration": 12,
    "start_time": "2022-05-06T15:58:03.712Z"
   },
   {
    "duration": 5,
    "start_time": "2022-05-06T15:58:03.727Z"
   },
   {
    "duration": 17,
    "start_time": "2022-05-06T15:58:03.733Z"
   },
   {
    "duration": 11,
    "start_time": "2022-05-06T15:58:03.751Z"
   },
   {
    "duration": 6,
    "start_time": "2022-05-06T15:58:03.798Z"
   },
   {
    "duration": 14,
    "start_time": "2022-05-06T15:58:03.806Z"
   },
   {
    "duration": 19,
    "start_time": "2022-05-06T15:58:03.822Z"
   },
   {
    "duration": 7,
    "start_time": "2022-05-06T15:58:03.843Z"
   },
   {
    "duration": 11,
    "start_time": "2022-05-06T15:58:03.851Z"
   },
   {
    "duration": 34,
    "start_time": "2022-05-06T15:58:03.864Z"
   },
   {
    "duration": 9,
    "start_time": "2022-05-06T15:58:03.901Z"
   },
   {
    "duration": 29,
    "start_time": "2022-05-06T15:58:03.913Z"
   },
   {
    "duration": 4,
    "start_time": "2022-05-06T15:58:03.944Z"
   },
   {
    "duration": 9,
    "start_time": "2022-05-06T15:58:03.950Z"
   },
   {
    "duration": 52,
    "start_time": "2022-05-06T15:58:03.960Z"
   },
   {
    "duration": 16,
    "start_time": "2022-05-06T15:58:04.014Z"
   },
   {
    "duration": 22,
    "start_time": "2022-05-06T15:58:04.032Z"
   },
   {
    "duration": 15,
    "start_time": "2022-05-06T15:58:04.056Z"
   },
   {
    "duration": 41,
    "start_time": "2022-05-06T15:58:04.073Z"
   },
   {
    "duration": 23,
    "start_time": "2022-05-06T15:58:04.117Z"
   },
   {
    "duration": 17,
    "start_time": "2022-05-06T15:58:04.141Z"
   },
   {
    "duration": 32,
    "start_time": "2022-05-06T15:58:04.160Z"
   },
   {
    "duration": 30,
    "start_time": "2022-05-06T15:58:04.194Z"
   },
   {
    "duration": 6,
    "start_time": "2022-05-06T15:58:04.225Z"
   },
   {
    "duration": 13,
    "start_time": "2022-05-06T15:58:04.233Z"
   },
   {
    "duration": 8,
    "start_time": "2022-05-06T15:58:04.247Z"
   },
   {
    "duration": 12,
    "start_time": "2022-05-06T15:58:04.257Z"
   },
   {
    "duration": 11,
    "start_time": "2022-05-06T15:58:04.271Z"
   },
   {
    "duration": 4,
    "start_time": "2022-05-06T15:58:04.293Z"
   },
   {
    "duration": 27,
    "start_time": "2022-05-06T15:58:04.299Z"
   },
   {
    "duration": 17,
    "start_time": "2022-05-06T15:58:04.327Z"
   },
   {
    "duration": 10,
    "start_time": "2022-05-06T15:58:04.346Z"
   },
   {
    "duration": 8,
    "start_time": "2022-05-06T15:58:04.358Z"
   },
   {
    "duration": 13,
    "start_time": "2022-05-06T15:58:04.367Z"
   },
   {
    "duration": 17,
    "start_time": "2022-05-06T15:58:04.382Z"
   },
   {
    "duration": 16,
    "start_time": "2022-05-06T15:58:04.403Z"
   },
   {
    "duration": 12,
    "start_time": "2022-05-06T15:58:04.421Z"
   },
   {
    "duration": 14,
    "start_time": "2022-05-06T15:58:04.435Z"
   },
   {
    "duration": 8,
    "start_time": "2022-05-06T15:58:04.452Z"
   },
   {
    "duration": 11,
    "start_time": "2022-05-06T15:58:04.462Z"
   },
   {
    "duration": 32,
    "start_time": "2022-05-06T16:02:58.053Z"
   },
   {
    "duration": 10,
    "start_time": "2022-05-06T16:04:16.669Z"
   },
   {
    "duration": 71,
    "start_time": "2022-05-06T16:04:43.540Z"
   },
   {
    "duration": 28,
    "start_time": "2022-05-06T16:04:46.442Z"
   },
   {
    "duration": 215,
    "start_time": "2022-05-07T06:07:20.095Z"
   },
   {
    "duration": 423,
    "start_time": "2022-05-08T07:26:11.571Z"
   },
   {
    "duration": 84,
    "start_time": "2022-05-08T07:26:11.996Z"
   },
   {
    "duration": 17,
    "start_time": "2022-05-08T07:26:13.155Z"
   },
   {
    "duration": 10,
    "start_time": "2022-05-08T07:26:14.010Z"
   },
   {
    "duration": 6,
    "start_time": "2022-05-08T07:26:14.630Z"
   },
   {
    "duration": 12,
    "start_time": "2022-05-08T07:26:28.252Z"
   },
   {
    "duration": 13,
    "start_time": "2022-05-08T07:26:57.476Z"
   },
   {
    "duration": 6,
    "start_time": "2022-05-08T07:27:01.953Z"
   },
   {
    "duration": 17,
    "start_time": "2022-05-08T07:27:05.703Z"
   },
   {
    "duration": 8,
    "start_time": "2022-05-08T07:27:07.380Z"
   },
   {
    "duration": 7,
    "start_time": "2022-05-08T07:27:07.760Z"
   },
   {
    "duration": 6,
    "start_time": "2022-05-08T07:27:10.633Z"
   },
   {
    "duration": 14,
    "start_time": "2022-05-08T07:27:12.811Z"
   },
   {
    "duration": 6,
    "start_time": "2022-05-08T07:27:23.344Z"
   },
   {
    "duration": 5,
    "start_time": "2022-05-08T07:27:24.377Z"
   },
   {
    "duration": 4,
    "start_time": "2022-05-08T07:28:53.072Z"
   },
   {
    "duration": 7,
    "start_time": "2022-05-08T07:28:53.559Z"
   },
   {
    "duration": 17,
    "start_time": "2022-05-08T07:28:53.851Z"
   },
   {
    "duration": 7,
    "start_time": "2022-05-08T07:28:54.288Z"
   },
   {
    "duration": 7,
    "start_time": "2022-05-08T07:28:55.239Z"
   },
   {
    "duration": 8,
    "start_time": "2022-05-08T07:28:55.770Z"
   },
   {
    "duration": 9,
    "start_time": "2022-05-08T07:30:06.475Z"
   },
   {
    "duration": 21,
    "start_time": "2022-05-08T07:30:07.585Z"
   },
   {
    "duration": 5,
    "start_time": "2022-05-08T07:30:07.920Z"
   },
   {
    "duration": 5,
    "start_time": "2022-05-08T07:30:08.388Z"
   },
   {
    "duration": 19,
    "start_time": "2022-05-08T07:30:08.894Z"
   },
   {
    "duration": 5,
    "start_time": "2022-05-08T07:30:41.785Z"
   },
   {
    "duration": 104,
    "start_time": "2022-05-08T07:36:56.725Z"
   },
   {
    "duration": 10,
    "start_time": "2022-05-08T07:43:09.563Z"
   },
   {
    "duration": 14,
    "start_time": "2022-05-08T07:43:09.798Z"
   },
   {
    "duration": 5,
    "start_time": "2022-05-08T07:43:10.037Z"
   },
   {
    "duration": 9,
    "start_time": "2022-05-08T07:43:12.962Z"
   },
   {
    "duration": 8,
    "start_time": "2022-05-08T07:43:13.365Z"
   },
   {
    "duration": 7,
    "start_time": "2022-05-08T07:43:13.607Z"
   },
   {
    "duration": 5,
    "start_time": "2022-05-08T07:43:13.789Z"
   },
   {
    "duration": 15,
    "start_time": "2022-05-08T07:43:14.776Z"
   },
   {
    "duration": 5,
    "start_time": "2022-05-08T07:43:15.265Z"
   },
   {
    "duration": 4,
    "start_time": "2022-05-08T07:43:16.187Z"
   },
   {
    "duration": 5,
    "start_time": "2022-05-08T07:43:16.833Z"
   },
   {
    "duration": 9,
    "start_time": "2022-05-08T07:43:17.335Z"
   },
   {
    "duration": 6,
    "start_time": "2022-05-08T07:43:17.541Z"
   },
   {
    "duration": 7,
    "start_time": "2022-05-08T07:43:17.776Z"
   },
   {
    "duration": 6,
    "start_time": "2022-05-08T07:43:18.029Z"
   },
   {
    "duration": 5,
    "start_time": "2022-05-08T07:43:18.402Z"
   },
   {
    "duration": 18,
    "start_time": "2022-05-08T07:43:18.633Z"
   },
   {
    "duration": 5,
    "start_time": "2022-05-08T07:43:18.695Z"
   },
   {
    "duration": 4,
    "start_time": "2022-05-08T07:43:19.295Z"
   },
   {
    "duration": 16,
    "start_time": "2022-05-08T07:43:20.053Z"
   },
   {
    "duration": 14,
    "start_time": "2022-05-08T07:44:01.263Z"
   },
   {
    "duration": 12,
    "start_time": "2022-05-08T07:44:02.683Z"
   },
   {
    "duration": 13,
    "start_time": "2022-05-08T07:44:02.977Z"
   },
   {
    "duration": 20,
    "start_time": "2022-05-08T07:44:03.174Z"
   },
   {
    "duration": 21,
    "start_time": "2022-05-08T07:44:03.848Z"
   },
   {
    "duration": 18,
    "start_time": "2022-05-08T07:44:04.155Z"
   },
   {
    "duration": 9,
    "start_time": "2022-05-08T07:44:08.145Z"
   },
   {
    "duration": 9,
    "start_time": "2022-05-08T07:44:08.666Z"
   },
   {
    "duration": 6,
    "start_time": "2022-05-08T07:44:27.571Z"
   },
   {
    "duration": 11,
    "start_time": "2022-05-08T07:44:28.030Z"
   },
   {
    "duration": 3,
    "start_time": "2022-05-08T07:44:37.579Z"
   },
   {
    "duration": 11,
    "start_time": "2022-05-08T07:44:37.900Z"
   },
   {
    "duration": 12,
    "start_time": "2022-05-08T07:44:38.193Z"
   },
   {
    "duration": 3,
    "start_time": "2022-05-08T07:44:46.739Z"
   },
   {
    "duration": 8,
    "start_time": "2022-05-08T07:44:46.983Z"
   },
   {
    "duration": 13,
    "start_time": "2022-05-08T07:44:47.227Z"
   },
   {
    "duration": 6,
    "start_time": "2022-05-08T07:45:04.072Z"
   },
   {
    "duration": 7,
    "start_time": "2022-05-08T07:45:04.977Z"
   },
   {
    "duration": 6,
    "start_time": "2022-05-08T07:45:10.918Z"
   },
   {
    "duration": 7,
    "start_time": "2022-05-08T07:45:11.523Z"
   },
   {
    "duration": 6,
    "start_time": "2022-05-08T07:45:12.028Z"
   },
   {
    "duration": 7,
    "start_time": "2022-05-08T07:45:27.036Z"
   },
   {
    "duration": 9,
    "start_time": "2022-05-08T07:45:27.455Z"
   },
   {
    "duration": 8,
    "start_time": "2022-05-08T07:45:38.286Z"
   },
   {
    "duration": 10,
    "start_time": "2022-05-08T07:45:38.562Z"
   },
   {
    "duration": 17,
    "start_time": "2022-05-08T07:50:51.768Z"
   },
   {
    "duration": 17,
    "start_time": "2022-05-08T07:51:01.923Z"
   },
   {
    "duration": 15,
    "start_time": "2022-05-08T07:51:16.338Z"
   },
   {
    "duration": 81,
    "start_time": "2022-05-08T07:51:48.958Z"
   },
   {
    "duration": 14,
    "start_time": "2022-05-08T07:52:09.084Z"
   },
   {
    "duration": 13,
    "start_time": "2022-05-08T07:52:15.291Z"
   },
   {
    "duration": 13,
    "start_time": "2022-05-08T07:52:39.843Z"
   },
   {
    "duration": 17,
    "start_time": "2022-05-08T07:52:58.297Z"
   },
   {
    "duration": 18,
    "start_time": "2022-05-08T07:53:08.698Z"
   }
  ],
  "kernelspec": {
   "display_name": "Python 3 (ipykernel)",
   "language": "python",
   "name": "python3"
  },
  "language_info": {
   "codemirror_mode": {
    "name": "ipython",
    "version": 3
   },
   "file_extension": ".py",
   "mimetype": "text/x-python",
   "name": "python",
   "nbconvert_exporter": "python",
   "pygments_lexer": "ipython3",
   "version": "3.9.5"
  },
  "toc": {
   "base_numbering": 1,
   "nav_menu": {},
   "number_sections": true,
   "sideBar": true,
   "skip_h1_title": true,
   "title_cell": "Table of Contents",
   "title_sidebar": "Contents",
   "toc_cell": false,
   "toc_position": {},
   "toc_section_display": true,
   "toc_window_display": false
  }
 },
 "nbformat": 4,
 "nbformat_minor": 5
}
