{
 "cells": [
  {
   "cell_type": "markdown",
   "id": "68df1629",
   "metadata": {},
   "source": [
    "<img src=\"http://s3.amazonaws.com/pix.iemoji.com/images/emoji/apple/ios-12/256/waving-hand.png\" align=left width=44, heigth=44>\n",
    "<div class=\"alert alert-info\">\n",
    "<b> Комментарий ревьюера</b>\n",
    "\n",
    "\n",
    "Привет,  Андрей! Давай знакомиться! Меня зовут Дмитрий Махортов, и я буду проверять твой проект. Сразу предлагаю общение на «ты» 🙂, но если тебе это не комфортно, то дай знать, и мы перейдем на «вы». \n",
    "\n",
    "Моя основная цель — не указать на совершенные тобою ошибки, а поделиться своим опытом и помочь тебе погрузиться в увлекательный мир работы с данными и вырасти в крепкого профи. Это отдаленная цель. А ближайшая - сделать твою работу еще лучше )).\n",
    "   \n",
    "    \n",
    "Все ключевые этапы в работе выполнены, и я вижу что с проектом ты справшяешься. Есть моменты, которые нужно доработать, но я уверен, у тебя все получится.\n",
    "        \n",
    "Расскажу как обычно проходит проверка:    \n",
    "Бывают моменты, которые требуют пристального внимания. Комментарии по ним выделены <span style='background-color:#F7B3A4'> красным цветом </span> и обозначены значком 🛑. После их доработки проект будет принят.  🙂\n",
    " \n",
    "<span style='background-color:#B7EBA7'> Зеленым цветом </span> и значком ✅ отмечены удачные и элегантные решения, на которые можно опираться в будущих проектах. Или советы «со звездочкой», которые помогут тебе в будущем.\n",
    "\n",
    "<span style='background-color:#F9EDA6'>Жёлтым цветом </span> и значком ⚠️ выделено то, что в следующий раз можно сделать по-другому. Ты можешь учесть эти комментарии при выполнении будущих заданий или доработать проект сейчас (однако это не обязательно).\n",
    "\n",
    "Давай работать над проектом в диалоге: **если ты что-то меняешь в проекте по моим рекомендациям — пиши об этом**. Выбери для своих комментариев какой-то заметный цвет, так мне будет легче отследить изменения. Пожалуйста, **не перемещай, не изменяй и не удаляй мои комментарии**. Всё это поможет выполнить повторную проверку твоего проекта оперативнее. \n",
    "</div>"
   ]
  },
  {
   "cell_type": "markdown",
   "id": "61357fc4",
   "metadata": {},
   "source": [
    "# Прогнозирование заказов такси"
   ]
  },
  {
   "cell_type": "markdown",
   "id": "d804b83f",
   "metadata": {},
   "source": [
    "## Описание проекта"
   ]
  },
  {
   "cell_type": "markdown",
   "id": "d3d78441",
   "metadata": {},
   "source": [
    "### Описание целей и задач"
   ]
  },
  {
   "cell_type": "markdown",
   "id": "7b8fc2a6",
   "metadata": {},
   "source": [
    "Компания «Чётенькое такси» собрала исторические данные о заказах такси в аэропортах. Чтобы привлекать больше водителей в период пиковой нагрузки, нужно спрогнозировать количество заказов такси на следующий час. Постройте модель для такого предсказания.\n",
    "Значение метрики RMSE на тестовой выборке должно быть не больше 48."
   ]
  },
  {
   "cell_type": "markdown",
   "id": "d7dc814c",
   "metadata": {},
   "source": [
    "### Описание данных"
   ]
  },
  {
   "cell_type": "markdown",
   "id": "3d5dda28",
   "metadata": {},
   "source": [
    "Данные лежат в файле /datasets/taxi.csv.\n",
    "\n",
    "Количество заказов находится в столбце 'num_orders' (от англ. number of orders, «число заказов»)."
   ]
  },
  {
   "cell_type": "markdown",
   "id": "eaefe634",
   "metadata": {},
   "source": [
    "### План работы"
   ]
  },
  {
   "cell_type": "markdown",
   "id": "f4168a6f",
   "metadata": {},
   "source": [
    "1. Загрузите данные и выполните их ресемплирование по одному часу.\n",
    "2. Проанализируйте данные.\n",
    "3. Обучите разные модели с различными гиперпараметрами. Сделайте тестовую выборку размером 10% от исходных данных.\n",
    "4. Проверьте данные на тестовой выборке и сделайте выводы."
   ]
  },
  {
   "cell_type": "markdown",
   "id": "635fccce",
   "metadata": {},
   "source": [
    "## Загрузка и ресемплирование данных"
   ]
  },
  {
   "cell_type": "code",
   "execution_count": 1,
   "id": "3188513e",
   "metadata": {},
   "outputs": [],
   "source": [
    "import pandas as pd\n",
    "import numpy as np\n",
    "import matplotlib.pyplot as plt\n",
    "\n",
    "from statsmodels.tsa.seasonal import seasonal_decompose\n",
    "\n",
    "from sklearn.model_selection import GridSearchCV\n",
    "from sklearn.preprocessing import StandardScaler\n",
    "from sklearn.linear_model import LinearRegression\n",
    "from sklearn.tree import DecisionTreeClassifier\n",
    "from sklearn.linear_model import LogisticRegression\n",
    "from sklearn.model_selection import train_test_split\n",
    "from sklearn.metrics import mean_squared_error\n",
    "from sklearn.metrics import make_scorer\n",
    "from sklearn.pipeline import make_pipeline\n",
    "from sklearn.pipeline import Pipeline\n",
    "from sklearn import linear_model\n",
    "from sklearn.model_selection import TimeSeriesSplit, cross_val_score, StratifiedKFold, GridSearchCV, cross_validate, KFold\n",
    "from sklearn.impute import SimpleImputer\n",
    "from sklearn.preprocessing import OrdinalEncoder\n",
    "from sklearn.metrics import r2_score\n",
    "\n",
    "from catboost import CatBoostRegressor\n",
    "\n",
    "from sklearn.datasets import make_regression\n",
    "from lightgbm import LGBMRegressor"
   ]
  },
  {
   "cell_type": "markdown",
   "id": "e09ed848",
   "metadata": {},
   "source": [
    "<img src=\"https://emojigraph.org/media/apple/check-mark-button_2705.png\" align=left width=33, heigth=33>\n",
    "<div class=\"alert alert-success\">\n",
    "Отлично, все нужные библиотеки импортированы в начале ноутбука.Это хорошая практика.</div>"
   ]
  },
  {
   "cell_type": "code",
   "execution_count": 2,
   "id": "8e716956",
   "metadata": {},
   "outputs": [
    {
     "data": {
      "text/html": [
       "<div>\n",
       "<style scoped>\n",
       "    .dataframe tbody tr th:only-of-type {\n",
       "        vertical-align: middle;\n",
       "    }\n",
       "\n",
       "    .dataframe tbody tr th {\n",
       "        vertical-align: top;\n",
       "    }\n",
       "\n",
       "    .dataframe thead th {\n",
       "        text-align: right;\n",
       "    }\n",
       "</style>\n",
       "<table border=\"1\" class=\"dataframe\">\n",
       "  <thead>\n",
       "    <tr style=\"text-align: right;\">\n",
       "      <th></th>\n",
       "      <th>num_orders</th>\n",
       "    </tr>\n",
       "    <tr>\n",
       "      <th>datetime</th>\n",
       "      <th></th>\n",
       "    </tr>\n",
       "  </thead>\n",
       "  <tbody>\n",
       "    <tr>\n",
       "      <th>2018-03-01 00:00:00</th>\n",
       "      <td>9</td>\n",
       "    </tr>\n",
       "    <tr>\n",
       "      <th>2018-03-01 00:10:00</th>\n",
       "      <td>14</td>\n",
       "    </tr>\n",
       "    <tr>\n",
       "      <th>2018-03-01 00:20:00</th>\n",
       "      <td>28</td>\n",
       "    </tr>\n",
       "    <tr>\n",
       "      <th>2018-03-01 00:30:00</th>\n",
       "      <td>20</td>\n",
       "    </tr>\n",
       "    <tr>\n",
       "      <th>2018-03-01 00:40:00</th>\n",
       "      <td>32</td>\n",
       "    </tr>\n",
       "    <tr>\n",
       "      <th>2018-03-01 00:50:00</th>\n",
       "      <td>21</td>\n",
       "    </tr>\n",
       "    <tr>\n",
       "      <th>2018-03-01 01:00:00</th>\n",
       "      <td>7</td>\n",
       "    </tr>\n",
       "    <tr>\n",
       "      <th>2018-03-01 01:10:00</th>\n",
       "      <td>5</td>\n",
       "    </tr>\n",
       "    <tr>\n",
       "      <th>2018-03-01 01:20:00</th>\n",
       "      <td>17</td>\n",
       "    </tr>\n",
       "    <tr>\n",
       "      <th>2018-03-01 01:30:00</th>\n",
       "      <td>12</td>\n",
       "    </tr>\n",
       "    <tr>\n",
       "      <th>2018-03-01 01:40:00</th>\n",
       "      <td>19</td>\n",
       "    </tr>\n",
       "    <tr>\n",
       "      <th>2018-03-01 01:50:00</th>\n",
       "      <td>25</td>\n",
       "    </tr>\n",
       "    <tr>\n",
       "      <th>2018-03-01 02:00:00</th>\n",
       "      <td>22</td>\n",
       "    </tr>\n",
       "    <tr>\n",
       "      <th>2018-03-01 02:10:00</th>\n",
       "      <td>12</td>\n",
       "    </tr>\n",
       "    <tr>\n",
       "      <th>2018-03-01 02:20:00</th>\n",
       "      <td>19</td>\n",
       "    </tr>\n",
       "    <tr>\n",
       "      <th>2018-03-01 02:30:00</th>\n",
       "      <td>8</td>\n",
       "    </tr>\n",
       "    <tr>\n",
       "      <th>2018-03-01 02:40:00</th>\n",
       "      <td>6</td>\n",
       "    </tr>\n",
       "    <tr>\n",
       "      <th>2018-03-01 02:50:00</th>\n",
       "      <td>4</td>\n",
       "    </tr>\n",
       "    <tr>\n",
       "      <th>2018-03-01 03:00:00</th>\n",
       "      <td>8</td>\n",
       "    </tr>\n",
       "    <tr>\n",
       "      <th>2018-03-01 03:10:00</th>\n",
       "      <td>17</td>\n",
       "    </tr>\n",
       "    <tr>\n",
       "      <th>2018-03-01 03:20:00</th>\n",
       "      <td>7</td>\n",
       "    </tr>\n",
       "    <tr>\n",
       "      <th>2018-03-01 03:30:00</th>\n",
       "      <td>4</td>\n",
       "    </tr>\n",
       "    <tr>\n",
       "      <th>2018-03-01 03:40:00</th>\n",
       "      <td>10</td>\n",
       "    </tr>\n",
       "    <tr>\n",
       "      <th>2018-03-01 03:50:00</th>\n",
       "      <td>20</td>\n",
       "    </tr>\n",
       "    <tr>\n",
       "      <th>2018-03-01 04:00:00</th>\n",
       "      <td>13</td>\n",
       "    </tr>\n",
       "  </tbody>\n",
       "</table>\n",
       "</div>"
      ],
      "text/plain": [
       "                     num_orders\n",
       "datetime                       \n",
       "2018-03-01 00:00:00           9\n",
       "2018-03-01 00:10:00          14\n",
       "2018-03-01 00:20:00          28\n",
       "2018-03-01 00:30:00          20\n",
       "2018-03-01 00:40:00          32\n",
       "2018-03-01 00:50:00          21\n",
       "2018-03-01 01:00:00           7\n",
       "2018-03-01 01:10:00           5\n",
       "2018-03-01 01:20:00          17\n",
       "2018-03-01 01:30:00          12\n",
       "2018-03-01 01:40:00          19\n",
       "2018-03-01 01:50:00          25\n",
       "2018-03-01 02:00:00          22\n",
       "2018-03-01 02:10:00          12\n",
       "2018-03-01 02:20:00          19\n",
       "2018-03-01 02:30:00           8\n",
       "2018-03-01 02:40:00           6\n",
       "2018-03-01 02:50:00           4\n",
       "2018-03-01 03:00:00           8\n",
       "2018-03-01 03:10:00          17\n",
       "2018-03-01 03:20:00           7\n",
       "2018-03-01 03:30:00           4\n",
       "2018-03-01 03:40:00          10\n",
       "2018-03-01 03:50:00          20\n",
       "2018-03-01 04:00:00          13"
      ]
     },
     "execution_count": 2,
     "metadata": {},
     "output_type": "execute_result"
    }
   ],
   "source": [
    "try:\n",
    "    df = pd.read_csv('C:\\\\Users\\\\ASUS\\\\Downloads\\\\taxi.csv',index_col = [0], parse_dates=[0])\n",
    "except FileNotFoundError:\n",
    "    df = pd.read_csv('/datasets/taxi.csv', index_col = [0],parse_dates=[0])\n",
    "df.head(25)"
   ]
  },
  {
   "cell_type": "markdown",
   "id": "289bbd4b",
   "metadata": {},
   "source": [
    "<img src=\"https://emojigraph.org/media/apple/check-mark-button_2705.png\" align=left width=33, heigth=33>\n",
    "<div class=\"alert alert-success\">\n",
    " 👍 Отлично, при загрузке сразу обрабатываются даты</div>"
   ]
  },
  {
   "cell_type": "code",
   "execution_count": 3,
   "id": "d0160f61",
   "metadata": {},
   "outputs": [],
   "source": [
    "df.sort_index(inplace=True)"
   ]
  },
  {
   "cell_type": "code",
   "execution_count": 4,
   "id": "fde74a0a",
   "metadata": {},
   "outputs": [
    {
     "data": {
      "text/plain": [
       "<AxesSubplot:xlabel='datetime'>"
      ]
     },
     "execution_count": 4,
     "metadata": {},
     "output_type": "execute_result"
    },
    {
     "data": {
      "image/png": "[encoded data removed]",
      "text/plain": [
       "<Figure size 432x288 with 1 Axes>"
      ]
     },
     "metadata": {
      "needs_background": "light"
     },
     "output_type": "display_data"
    }
   ],
   "source": [
    "df = df.resample('1H').sum()\n",
    "df.plot()"
   ]
  },
  {
   "cell_type": "markdown",
   "id": "1d9217f1",
   "metadata": {},
   "source": [
    "<img src=\"https://emojigraph.org/media/apple/check-mark-button_2705.png\" align=left width=33, heigth=33>\n",
    "<div class=\"alert alert-success\">\n",
    " 👍 Да, ресемплирование выполнено верно. И хорошо, что в качестве агрегирующей функции ты используешь сумму, её проще интерпретировать. </div>"
   ]
  },
  {
   "cell_type": "markdown",
   "id": "98da54e7",
   "metadata": {},
   "source": [
    "<img src=\"https://emojigraph.org/media/apple/check-mark-button_2705.png\" align=left width=33, heigth=33>\n",
    "<div class=\"alert alert-success\">\n",
    "ОК, выведен график временного ряда (по часам). Рекомедую наложить на него усредненные данные (например за сутки и неделю), это позволит лучше понять данные.\n",
    "</div>"
   ]
  },
  {
   "cell_type": "markdown",
   "id": "2bb239a8",
   "metadata": {},
   "source": [
    "## Изучеие данных"
   ]
  },
  {
   "cell_type": "markdown",
   "id": "48d721ad",
   "metadata": {},
   "source": [
    "Приведены данные с марта по август 2018 года"
   ]
  },
  {
   "cell_type": "code",
   "execution_count": 5,
   "id": "66959d3d",
   "metadata": {},
   "outputs": [
    {
     "data": {
      "text/html": [
       "<div>\n",
       "<style scoped>\n",
       "    .dataframe tbody tr th:only-of-type {\n",
       "        vertical-align: middle;\n",
       "    }\n",
       "\n",
       "    .dataframe tbody tr th {\n",
       "        vertical-align: top;\n",
       "    }\n",
       "\n",
       "    .dataframe thead th {\n",
       "        text-align: right;\n",
       "    }\n",
       "</style>\n",
       "<table border=\"1\" class=\"dataframe\">\n",
       "  <thead>\n",
       "    <tr style=\"text-align: right;\">\n",
       "      <th></th>\n",
       "      <th>num_orders</th>\n",
       "    </tr>\n",
       "    <tr>\n",
       "      <th>datetime</th>\n",
       "      <th></th>\n",
       "    </tr>\n",
       "  </thead>\n",
       "  <tbody>\n",
       "    <tr>\n",
       "      <th>2018-03-01 00:00:00</th>\n",
       "      <td>124</td>\n",
       "    </tr>\n",
       "    <tr>\n",
       "      <th>2018-03-01 01:00:00</th>\n",
       "      <td>85</td>\n",
       "    </tr>\n",
       "    <tr>\n",
       "      <th>2018-03-01 02:00:00</th>\n",
       "      <td>71</td>\n",
       "    </tr>\n",
       "    <tr>\n",
       "      <th>2018-03-01 03:00:00</th>\n",
       "      <td>66</td>\n",
       "    </tr>\n",
       "    <tr>\n",
       "      <th>2018-03-01 04:00:00</th>\n",
       "      <td>43</td>\n",
       "    </tr>\n",
       "  </tbody>\n",
       "</table>\n",
       "</div>"
      ],
      "text/plain": [
       "                     num_orders\n",
       "datetime                       \n",
       "2018-03-01 00:00:00         124\n",
       "2018-03-01 01:00:00          85\n",
       "2018-03-01 02:00:00          71\n",
       "2018-03-01 03:00:00          66\n",
       "2018-03-01 04:00:00          43"
      ]
     },
     "execution_count": 5,
     "metadata": {},
     "output_type": "execute_result"
    }
   ],
   "source": [
    "df.head()"
   ]
  },
  {
   "cell_type": "code",
   "execution_count": 6,
   "id": "e40e940f",
   "metadata": {},
   "outputs": [
    {
     "name": "stdout",
     "output_type": "stream",
     "text": [
      "<class 'pandas.core.frame.DataFrame'>\n",
      "DatetimeIndex: 4416 entries, 2018-03-01 00:00:00 to 2018-08-31 23:00:00\n",
      "Freq: H\n",
      "Data columns (total 1 columns):\n",
      " #   Column      Non-Null Count  Dtype\n",
      "---  ------      --------------  -----\n",
      " 0   num_orders  4416 non-null   int64\n",
      "dtypes: int64(1)\n",
      "memory usage: 69.0 KB\n"
     ]
    }
   ],
   "source": [
    "df.info()"
   ]
  },
  {
   "cell_type": "code",
   "execution_count": 7,
   "id": "eda01d65",
   "metadata": {},
   "outputs": [
    {
     "data": {
      "text/html": [
       "<div>\n",
       "<style scoped>\n",
       "    .dataframe tbody tr th:only-of-type {\n",
       "        vertical-align: middle;\n",
       "    }\n",
       "\n",
       "    .dataframe tbody tr th {\n",
       "        vertical-align: top;\n",
       "    }\n",
       "\n",
       "    .dataframe thead th {\n",
       "        text-align: right;\n",
       "    }\n",
       "</style>\n",
       "<table border=\"1\" class=\"dataframe\">\n",
       "  <thead>\n",
       "    <tr style=\"text-align: right;\">\n",
       "      <th></th>\n",
       "      <th>num_orders</th>\n",
       "    </tr>\n",
       "  </thead>\n",
       "  <tbody>\n",
       "    <tr>\n",
       "      <th>count</th>\n",
       "      <td>4416.000000</td>\n",
       "    </tr>\n",
       "    <tr>\n",
       "      <th>mean</th>\n",
       "      <td>84.422781</td>\n",
       "    </tr>\n",
       "    <tr>\n",
       "      <th>std</th>\n",
       "      <td>45.023853</td>\n",
       "    </tr>\n",
       "    <tr>\n",
       "      <th>min</th>\n",
       "      <td>0.000000</td>\n",
       "    </tr>\n",
       "    <tr>\n",
       "      <th>25%</th>\n",
       "      <td>54.000000</td>\n",
       "    </tr>\n",
       "    <tr>\n",
       "      <th>50%</th>\n",
       "      <td>78.000000</td>\n",
       "    </tr>\n",
       "    <tr>\n",
       "      <th>75%</th>\n",
       "      <td>107.000000</td>\n",
       "    </tr>\n",
       "    <tr>\n",
       "      <th>max</th>\n",
       "      <td>462.000000</td>\n",
       "    </tr>\n",
       "  </tbody>\n",
       "</table>\n",
       "</div>"
      ],
      "text/plain": [
       "        num_orders\n",
       "count  4416.000000\n",
       "mean     84.422781\n",
       "std      45.023853\n",
       "min       0.000000\n",
       "25%      54.000000\n",
       "50%      78.000000\n",
       "75%     107.000000\n",
       "max     462.000000"
      ]
     },
     "execution_count": 7,
     "metadata": {},
     "output_type": "execute_result"
    }
   ],
   "source": [
    "df.describe()"
   ]
  },
  {
   "cell_type": "code",
   "execution_count": 8,
   "id": "ec4e949c",
   "metadata": {},
   "outputs": [
    {
     "data": {
      "text/plain": [
       "<AxesSubplot:xlabel='datetime'>"
      ]
     },
     "execution_count": 8,
     "metadata": {},
     "output_type": "execute_result"
    },
    {
     "data": {
      "image/png": "[encoded data removed]",
      "text/plain": [
       "<Figure size 432x288 with 1 Axes>"
      ]
     },
     "metadata": {
      "needs_background": "light"
     },
     "output_type": "display_data"
    }
   ],
   "source": [
    "df['mean'] = df['num_orders'].rolling(15).mean()\n",
    "df['std'] = df['num_orders'].rolling(15).std()\n",
    "df.plot() "
   ]
  },
  {
   "cell_type": "code",
   "execution_count": 9,
   "id": "517d38a4",
   "metadata": {},
   "outputs": [
    {
     "data": {
      "text/html": [
       "<div>\n",
       "<style scoped>\n",
       "    .dataframe tbody tr th:only-of-type {\n",
       "        vertical-align: middle;\n",
       "    }\n",
       "\n",
       "    .dataframe tbody tr th {\n",
       "        vertical-align: top;\n",
       "    }\n",
       "\n",
       "    .dataframe thead th {\n",
       "        text-align: right;\n",
       "    }\n",
       "</style>\n",
       "<table border=\"1\" class=\"dataframe\">\n",
       "  <thead>\n",
       "    <tr style=\"text-align: right;\">\n",
       "      <th></th>\n",
       "      <th>num_orders</th>\n",
       "      <th>mean</th>\n",
       "      <th>std</th>\n",
       "    </tr>\n",
       "    <tr>\n",
       "      <th>datetime</th>\n",
       "      <th></th>\n",
       "      <th></th>\n",
       "      <th></th>\n",
       "    </tr>\n",
       "  </thead>\n",
       "  <tbody>\n",
       "    <tr>\n",
       "      <th>2018-03-01 00:00:00</th>\n",
       "      <td>124</td>\n",
       "      <td>NaN</td>\n",
       "      <td>NaN</td>\n",
       "    </tr>\n",
       "    <tr>\n",
       "      <th>2018-03-01 01:00:00</th>\n",
       "      <td>85</td>\n",
       "      <td>NaN</td>\n",
       "      <td>NaN</td>\n",
       "    </tr>\n",
       "    <tr>\n",
       "      <th>2018-03-01 02:00:00</th>\n",
       "      <td>71</td>\n",
       "      <td>NaN</td>\n",
       "      <td>NaN</td>\n",
       "    </tr>\n",
       "    <tr>\n",
       "      <th>2018-03-01 03:00:00</th>\n",
       "      <td>66</td>\n",
       "      <td>NaN</td>\n",
       "      <td>NaN</td>\n",
       "    </tr>\n",
       "    <tr>\n",
       "      <th>2018-03-01 04:00:00</th>\n",
       "      <td>43</td>\n",
       "      <td>NaN</td>\n",
       "      <td>NaN</td>\n",
       "    </tr>\n",
       "    <tr>\n",
       "      <th>2018-03-01 05:00:00</th>\n",
       "      <td>6</td>\n",
       "      <td>NaN</td>\n",
       "      <td>NaN</td>\n",
       "    </tr>\n",
       "    <tr>\n",
       "      <th>2018-03-01 06:00:00</th>\n",
       "      <td>12</td>\n",
       "      <td>NaN</td>\n",
       "      <td>NaN</td>\n",
       "    </tr>\n",
       "    <tr>\n",
       "      <th>2018-03-01 07:00:00</th>\n",
       "      <td>15</td>\n",
       "      <td>NaN</td>\n",
       "      <td>NaN</td>\n",
       "    </tr>\n",
       "    <tr>\n",
       "      <th>2018-03-01 08:00:00</th>\n",
       "      <td>34</td>\n",
       "      <td>NaN</td>\n",
       "      <td>NaN</td>\n",
       "    </tr>\n",
       "    <tr>\n",
       "      <th>2018-03-01 09:00:00</th>\n",
       "      <td>69</td>\n",
       "      <td>NaN</td>\n",
       "      <td>NaN</td>\n",
       "    </tr>\n",
       "    <tr>\n",
       "      <th>2018-03-01 10:00:00</th>\n",
       "      <td>64</td>\n",
       "      <td>NaN</td>\n",
       "      <td>NaN</td>\n",
       "    </tr>\n",
       "    <tr>\n",
       "      <th>2018-03-01 11:00:00</th>\n",
       "      <td>96</td>\n",
       "      <td>NaN</td>\n",
       "      <td>NaN</td>\n",
       "    </tr>\n",
       "    <tr>\n",
       "      <th>2018-03-01 12:00:00</th>\n",
       "      <td>30</td>\n",
       "      <td>NaN</td>\n",
       "      <td>NaN</td>\n",
       "    </tr>\n",
       "    <tr>\n",
       "      <th>2018-03-01 13:00:00</th>\n",
       "      <td>32</td>\n",
       "      <td>NaN</td>\n",
       "      <td>NaN</td>\n",
       "    </tr>\n",
       "    <tr>\n",
       "      <th>2018-03-01 14:00:00</th>\n",
       "      <td>48</td>\n",
       "      <td>53.000000</td>\n",
       "      <td>33.353089</td>\n",
       "    </tr>\n",
       "    <tr>\n",
       "      <th>2018-03-01 15:00:00</th>\n",
       "      <td>66</td>\n",
       "      <td>49.133333</td>\n",
       "      <td>27.357074</td>\n",
       "    </tr>\n",
       "    <tr>\n",
       "      <th>2018-03-01 16:00:00</th>\n",
       "      <td>43</td>\n",
       "      <td>46.333333</td>\n",
       "      <td>25.510969</td>\n",
       "    </tr>\n",
       "    <tr>\n",
       "      <th>2018-03-01 17:00:00</th>\n",
       "      <td>44</td>\n",
       "      <td>44.533333</td>\n",
       "      <td>24.581836</td>\n",
       "    </tr>\n",
       "    <tr>\n",
       "      <th>2018-03-01 18:00:00</th>\n",
       "      <td>73</td>\n",
       "      <td>45.000000</td>\n",
       "      <td>25.079872</td>\n",
       "    </tr>\n",
       "    <tr>\n",
       "      <th>2018-03-01 19:00:00</th>\n",
       "      <td>45</td>\n",
       "      <td>45.133333</td>\n",
       "      <td>25.073796</td>\n",
       "    </tr>\n",
       "  </tbody>\n",
       "</table>\n",
       "</div>"
      ],
      "text/plain": [
       "                     num_orders       mean        std\n",
       "datetime                                             \n",
       "2018-03-01 00:00:00         124        NaN        NaN\n",
       "2018-03-01 01:00:00          85        NaN        NaN\n",
       "2018-03-01 02:00:00          71        NaN        NaN\n",
       "2018-03-01 03:00:00          66        NaN        NaN\n",
       "2018-03-01 04:00:00          43        NaN        NaN\n",
       "2018-03-01 05:00:00           6        NaN        NaN\n",
       "2018-03-01 06:00:00          12        NaN        NaN\n",
       "2018-03-01 07:00:00          15        NaN        NaN\n",
       "2018-03-01 08:00:00          34        NaN        NaN\n",
       "2018-03-01 09:00:00          69        NaN        NaN\n",
       "2018-03-01 10:00:00          64        NaN        NaN\n",
       "2018-03-01 11:00:00          96        NaN        NaN\n",
       "2018-03-01 12:00:00          30        NaN        NaN\n",
       "2018-03-01 13:00:00          32        NaN        NaN\n",
       "2018-03-01 14:00:00          48  53.000000  33.353089\n",
       "2018-03-01 15:00:00          66  49.133333  27.357074\n",
       "2018-03-01 16:00:00          43  46.333333  25.510969\n",
       "2018-03-01 17:00:00          44  44.533333  24.581836\n",
       "2018-03-01 18:00:00          73  45.000000  25.079872\n",
       "2018-03-01 19:00:00          45  45.133333  25.073796"
      ]
     },
     "execution_count": 9,
     "metadata": {},
     "output_type": "execute_result"
    }
   ],
   "source": [
    "df.head(20)"
   ]
  },
  {
   "cell_type": "markdown",
   "id": "c95ed7c3",
   "metadata": {},
   "source": [
    "<img src=\"https://upload.wikimedia.org/wikipedia/commons/b/ba/Warning_sign_4.0.png\" align=left width=44, heigth=33>\n",
    "<div class=\"alert alert-warning\">\n",
    "Ты вывел график - ОК. Но что ты на нем увидел? Почему решил оставить в проекте и показать читателю?</div>"
   ]
  },
  {
   "cell_type": "markdown",
   "id": "a550c2ca",
   "metadata": {},
   "source": [
    "<div class=\"alert alert-block alert-info\">\n",
    "<b>Комментарий студента:</b> Чтобы показать насколько ряд стационарен? Нужно было комментарий написать?</div>"
   ]
  },
  {
   "cell_type": "markdown",
   "id": "01486d25",
   "metadata": {},
   "source": [
    "<img src=\"http://s3.amazonaws.com/pix.iemoji.com/images/emoji/apple/ios-12/256/waving-hand.png\" align=left width=44, heigth=44>\n",
    "<div class=\"alert alert-info\">\n",
    "<b> Комментарий ревьюера v2</b>\n",
    "\n",
    "Да, лучше дать пояснение как с целями рассмотрения графика так и с тем, что ты на этом графике видишь. Я этот проект знаю \"наязусть\" и мне твоя логика понятна. Но будет ли она понятна другому читателю?</div>"
   ]
  },
  {
   "cell_type": "markdown",
   "id": "817fd250",
   "metadata": {},
   "source": [
    "<img src=\"https://upload.wikimedia.org/wikipedia/commons/b/ba/Warning_sign_4.0.png\" align=left width=44, heigth=33>\n",
    "<div class=\"alert alert-warning\">\n",
    "Выбран очень неудачное значение для окна скользящего среднего/стандартного отклонения. Причина очень простая - даные ресемплированы по часу, значит нам нужно использовать следующее \"круглое\" число, но мыслить нужно категориями времени. Это сутки - 24 часа. И если взять сколзящее среднее за сутки, то графики станут гораздо плавнее, т.к. мы очистимся от суточной сезонности. А усреднение за неделю будет еще более плавным.\n",
    "</div>"
   ]
  },
  {
   "cell_type": "code",
   "execution_count": 10,
   "id": "ed899c74",
   "metadata": {},
   "outputs": [
    {
     "data": {
      "text/plain": [
       "<AxesSubplot:xlabel='datetime'>"
      ]
     },
     "execution_count": 10,
     "metadata": {},
     "output_type": "execute_result"
    },
    {
     "data": {
      "image/png": "[encoded data removed]",
      "text/plain": [
       "<Figure size 432x288 with 1 Axes>"
      ]
     },
     "metadata": {
      "needs_background": "light"
     },
     "output_type": "display_data"
    }
   ],
   "source": [
    "#выведем график суммы заказов в день. Сделаю отдельную таблицу ресесмплированную по дням\n",
    "df_day = df.resample('1D').sum()\n",
    "df_day.plot()"
   ]
  },
  {
   "cell_type": "markdown",
   "id": "a0abf58f",
   "metadata": {},
   "source": [
    "<div class=\"alert alert-block alert-info\">\n",
    "<b>Комментарий студента:</b> Да, действительно графики стали плавнее, ряд стал менее стационарен. Но по заданию нас просили по часу. Странно получается, на описании проекта не сказали об этом. Поясни, пожалуйста.</div>"
   ]
  },
  {
   "cell_type": "markdown",
   "id": "2b5f1b5b",
   "metadata": {},
   "source": [
    "<img src=\"http://s3.amazonaws.com/pix.iemoji.com/images/emoji/apple/ios-12/256/waving-hand.png\" align=left width=44, heigth=44>\n",
    "<div class=\"alert alert-info\">\n",
    "<b> Комментарий ревьюера v2</b>\n",
    "\n",
    "Наша задача - прогнозирование заказов на следующий час. Поэтому ресемплирование за сутки нам не подходит. А мой комментарий выше относился к выбору размера окна для сколзящего среднего. Беря сутки или неделю мы получаем более качественое округление и как следствие можем увидеть тренд более отчетливо. Но на стационарность исходого ряда это никак не влияет, просто мы отчетливее видим тренд.\n",
    "\n",
    "А для диагностики станционарности кроме \"на глазок по графику\" на практике исползуются статистические тесты,например Дики-Фулера. \n",
    "</div>"
   ]
  },
  {
   "cell_type": "markdown",
   "id": "759de930",
   "metadata": {},
   "source": [
    "<div class=\"alert alert-block alert-info\">\n",
    "<b>Комментарий студента[2]:</b> Окей, принято</div>"
   ]
  },
  {
   "cell_type": "markdown",
   "id": "518eb7f0",
   "metadata": {},
   "source": [
    "### Создание новых признаков"
   ]
  },
  {
   "cell_type": "markdown",
   "id": "ee07b95f",
   "metadata": {},
   "source": [
    "<img src=\"https://upload.wikimedia.org/wikipedia/commons/b/ba/Warning_sign_4.0.png\" align=left width=44, heigth=33>\n",
    "<div class=\"alert alert-warning\">\n",
    "Мне кажется ты нарушил логику проекта. Вначале мы знакомимся с данными, находим интересные закономерности. И только когда эти закономерности найдены можно приступать к конструированию признаков опираясь на результаты анализа.\n",
    "    \n",
    "Поясню - ты создал календарные признаки. Но в данных есть только суточная и недельная сезонности. Поэтому два признака нам очень нужны, а еще два - лишние и от них нужно избавляться.    \n",
    "    \n",
    "</div>"
   ]
  },
  {
   "cell_type": "markdown",
   "id": "7590a627",
   "metadata": {},
   "source": [
    "<div class=\"alert alert-block alert-info\">\n",
    "<b>Комментарий студента:</b> Признак месяца и дня оказались не нужны совсем. Вопрос: принимать решение по добавлению этих признаков нужно после анализа тренда и сезонности? </div>"
   ]
  },
  {
   "cell_type": "markdown",
   "id": "a5a87018",
   "metadata": {},
   "source": [
    "<img src=\"http://s3.amazonaws.com/pix.iemoji.com/images/emoji/apple/ios-12/256/waving-hand.png\" align=left width=44, heigth=44>\n",
    "<div class=\"alert alert-info\">\n",
    "<b> Комментарий ревьюера v2</b>\n",
    " Мое мнение - вначале проводим исследование, а затем на основании исследования начинаем конструировать признаки.\n",
    "</div>"
   ]
  },
  {
   "cell_type": "code",
   "execution_count": 11,
   "id": "5c893ff3",
   "metadata": {},
   "outputs": [
    {
     "data": {
      "text/html": [
       "<div>\n",
       "<style scoped>\n",
       "    .dataframe tbody tr th:only-of-type {\n",
       "        vertical-align: middle;\n",
       "    }\n",
       "\n",
       "    .dataframe tbody tr th {\n",
       "        vertical-align: top;\n",
       "    }\n",
       "\n",
       "    .dataframe thead th {\n",
       "        text-align: right;\n",
       "    }\n",
       "</style>\n",
       "<table border=\"1\" class=\"dataframe\">\n",
       "  <thead>\n",
       "    <tr style=\"text-align: right;\">\n",
       "      <th></th>\n",
       "      <th>num_orders</th>\n",
       "      <th>mean</th>\n",
       "      <th>std</th>\n",
       "      <th>dayofweek</th>\n",
       "      <th>hour</th>\n",
       "    </tr>\n",
       "    <tr>\n",
       "      <th>datetime</th>\n",
       "      <th></th>\n",
       "      <th></th>\n",
       "      <th></th>\n",
       "      <th></th>\n",
       "      <th></th>\n",
       "    </tr>\n",
       "  </thead>\n",
       "  <tbody>\n",
       "    <tr>\n",
       "      <th>2018-03-01 00:00:00</th>\n",
       "      <td>124</td>\n",
       "      <td>NaN</td>\n",
       "      <td>NaN</td>\n",
       "      <td>3</td>\n",
       "      <td>0</td>\n",
       "    </tr>\n",
       "    <tr>\n",
       "      <th>2018-03-01 01:00:00</th>\n",
       "      <td>85</td>\n",
       "      <td>NaN</td>\n",
       "      <td>NaN</td>\n",
       "      <td>3</td>\n",
       "      <td>1</td>\n",
       "    </tr>\n",
       "    <tr>\n",
       "      <th>2018-03-01 02:00:00</th>\n",
       "      <td>71</td>\n",
       "      <td>NaN</td>\n",
       "      <td>NaN</td>\n",
       "      <td>3</td>\n",
       "      <td>2</td>\n",
       "    </tr>\n",
       "    <tr>\n",
       "      <th>2018-03-01 03:00:00</th>\n",
       "      <td>66</td>\n",
       "      <td>NaN</td>\n",
       "      <td>NaN</td>\n",
       "      <td>3</td>\n",
       "      <td>3</td>\n",
       "    </tr>\n",
       "    <tr>\n",
       "      <th>2018-03-01 04:00:00</th>\n",
       "      <td>43</td>\n",
       "      <td>NaN</td>\n",
       "      <td>NaN</td>\n",
       "      <td>3</td>\n",
       "      <td>4</td>\n",
       "    </tr>\n",
       "  </tbody>\n",
       "</table>\n",
       "</div>"
      ],
      "text/plain": [
       "                     num_orders  mean  std  dayofweek  hour\n",
       "datetime                                                   \n",
       "2018-03-01 00:00:00         124   NaN  NaN          3     0\n",
       "2018-03-01 01:00:00          85   NaN  NaN          3     1\n",
       "2018-03-01 02:00:00          71   NaN  NaN          3     2\n",
       "2018-03-01 03:00:00          66   NaN  NaN          3     3\n",
       "2018-03-01 04:00:00          43   NaN  NaN          3     4"
      ]
     },
     "execution_count": 11,
     "metadata": {},
     "output_type": "execute_result"
    }
   ],
   "source": [
    "df['dayofweek'] = df.index.dayofweek\n",
    "df['hour'] = df.index.hour\n",
    "df_day['dayofweek'] = df_day.index.dayofweek\n",
    "df_day['hour'] = df_day.index.hour\n",
    "df.head()"
   ]
  },
  {
   "cell_type": "markdown",
   "id": "7b9e46cb",
   "metadata": {},
   "source": [
    "<img src=\"https://emojigraph.org/media/apple/check-mark-button_2705.png\" align=left width=33, heigth=33>\n",
    "<div class=\"alert alert-success\">\n",
    "👍 Хорошо, что в признаки ты выносишь час, у нас четкая сезонность внутри суток.\n",
    "Также очень полезный признак день недели, из нашего опыта это понятно, хоть мы и не делали отдельное исследование.\n",
    "        \n",
    "</div>"
   ]
  },
  {
   "cell_type": "markdown",
   "id": "448cd28a",
   "metadata": {},
   "source": [
    "<img src=\"https://upload.wikimedia.org/wikipedia/commons/b/ba/Warning_sign_4.0.png\" align=left width=44, heigth=33>\n",
    "<div class=\"alert alert-warning\">\n",
    "Предлагаю удалить признак \"день\", т.к. сезонность внутри месяца мы не обнаружили.\n",
    "\n",
    "</div>"
   ]
  },
  {
   "cell_type": "markdown",
   "id": "1c69a64e",
   "metadata": {},
   "source": [
    "<img src=\"https://upload.wikimedia.org/wikipedia/commons/thumb/8/81/Stop_sign.png/240px-Stop_sign.png\" align=left width=35, heigth=35>\n",
    "<div class=\"alert alert-danger\">\n",
    "А вот календарный признак \"месяц\" нужно удалить.  Данных у нас немного, всего 6 месяцев. При этом данные тренда мы учтем с помощью скользящего среднего и отстающих значений.\n",
    "</div>\n"
   ]
  },
  {
   "cell_type": "markdown",
   "id": "dd87dbdf",
   "metadata": {},
   "source": [
    "<img src=\"https://upload.wikimedia.org/wikipedia/commons/b/ba/Warning_sign_4.0.png\" align=left width=44, heigth=33>\n",
    "<div class=\"alert alert-warning\">\n",
    "Я вижу, что эти признаки нужны тебе чтобы проанализировать сезонность. Но не стоит изобретать велосипед. В спринте мы изучили инструмент, который нужно обязательно использовать seasonal_decompose. И с помощью этого инструмента очень хорошо находится и сезонность и тренды.\n",
    "    \n",
    "</div>"
   ]
  },
  {
   "cell_type": "markdown",
   "id": "c2453258",
   "metadata": {},
   "source": [
    "<img src=\"https://upload.wikimedia.org/wikipedia/commons/thumb/8/81/Stop_sign.png/240px-Stop_sign.png\" align=left width=35, heigth=35>\n",
    "<div class=\"alert alert-danger\">\n",
    "Пожалуйста построй декомпозицию ряда на сезонность и тренды и продемонстрируй найденную сезонность.\n",
    "</div>\n"
   ]
  },
  {
   "cell_type": "markdown",
   "id": "8b677619",
   "metadata": {},
   "source": [
    "<div class=\"alert alert-block alert-info\">\n",
    "<b>Комментарий студента:</b> Совсем забыл это сделать.</div>"
   ]
  },
  {
   "cell_type": "markdown",
   "id": "95416d42",
   "metadata": {},
   "source": [
    "<img src=\"https://emojigraph.org/media/apple/check-mark-button_2705.png\" align=left width=33, heigth=33>\n",
    "<div class=\"alert alert-success\">\n",
    "<b>v2</b> ОК </div>"
   ]
  },
  {
   "cell_type": "markdown",
   "id": "7d2ebe6c",
   "metadata": {},
   "source": [
    "<img src=\"https://emojigraph.org/media/apple/check-mark-button_2705.png\" align=left width=33, heigth=33>\n",
    "<div class=\"alert alert-success\">\n",
    " 👍 Совет: в данных кроме суточной есть недельная сезонность. Чтобы увидеть её нужно сделать ресемплинг данных по суткам и вновь сделать декомпозицию на сезонность и тренд. Дело в том, что seasonal_decompose настраивается на сезонность с самым маленьким циклом, при ресемпле данных по часу это сутки, при ресемпле по суткам это неделя. </div>"
   ]
  },
  {
   "cell_type": "markdown",
   "id": "afabaa7e",
   "metadata": {},
   "source": [
    "<div class=\"alert alert-block alert-info\">\n",
    "<b>Комментарий студента:</b> Сделал отдельную табличку ресемплирования по дням.</div>"
   ]
  },
  {
   "cell_type": "markdown",
   "id": "c17e3af1",
   "metadata": {},
   "source": [
    "Декомпозиция ряда на сезонность и тренды"
   ]
  },
  {
   "cell_type": "code",
   "execution_count": 12,
   "id": "f3f94942",
   "metadata": {},
   "outputs": [
    {
     "data": {
      "image/png": "[encoded data removed]",
      "text/plain": [
       "<Figure size 432x576 with 3 Axes>"
      ]
     },
     "metadata": {
      "needs_background": "light"
     },
     "output_type": "display_data"
    }
   ],
   "source": [
    "#суточная сезонность\n",
    "decomposed = seasonal_decompose(df['num_orders'])\n",
    "\n",
    "plt.figure(figsize=(6, 8))\n",
    "plt.subplot(311)\n",
    "# Чтобы график корректно отобразился, указываем его оси ax, равными plt.gca()\n",
    "decomposed.trend.plot(ax=plt.gca())\n",
    "plt.title('Trend')\n",
    "plt.subplot(312)\n",
    "\n",
    "decomposed.seasonal.plot(ax=plt.gca())\n",
    "plt.title('Seasonality')\n",
    "plt.subplot(313)\n",
    "decomposed.resid.plot(ax=plt.gca())\n",
    "\n",
    "plt.title('Residuals')\n",
    "plt.tight_layout()"
   ]
  },
  {
   "cell_type": "code",
   "execution_count": 13,
   "id": "fc4c5b78",
   "metadata": {},
   "outputs": [
    {
     "data": {
      "image/png": "[encoded data removed]",
      "text/plain": [
       "<Figure size 432x576 with 3 Axes>"
      ]
     },
     "metadata": {
      "needs_background": "light"
     },
     "output_type": "display_data"
    }
   ],
   "source": [
    "#недельная сезонность\n",
    "decomposed = seasonal_decompose(df_day['num_orders'])\n",
    "\n",
    "plt.figure(figsize=(6, 8))\n",
    "plt.subplot(311)\n",
    "# Чтобы график корректно отобразился, указываем его оси ax, равными plt.gca()\n",
    "decomposed.trend.plot(ax=plt.gca())\n",
    "plt.title('Trend')\n",
    "plt.subplot(312)\n",
    "\n",
    "decomposed.seasonal.plot(ax=plt.gca())\n",
    "plt.title('Seasonality')\n",
    "plt.subplot(313)\n",
    "decomposed.resid.plot(ax=plt.gca())\n",
    "\n",
    "plt.title('Residuals')\n",
    "plt.tight_layout()"
   ]
  },
  {
   "cell_type": "markdown",
   "id": "65181d4d",
   "metadata": {},
   "source": [
    "Летом заказов больше, наверное, связано с тем, что люди чаще всего в это время отправляются в отпуск. Остатки необъяснимы. Изучим сезонность"
   ]
  },
  {
   "cell_type": "code",
   "execution_count": 14,
   "id": "50201bb8",
   "metadata": {},
   "outputs": [
    {
     "data": {
      "text/plain": [
       "<AxesSubplot:xlabel='datetime'>"
      ]
     },
     "execution_count": 14,
     "metadata": {},
     "output_type": "execute_result"
    },
    {
     "data": {
      "image/png": "[encoded data removed]",
      "text/plain": [
       "<Figure size 432x288 with 1 Axes>"
      ]
     },
     "metadata": {
      "needs_background": "light"
     },
     "output_type": "display_data"
    }
   ],
   "source": [
    "decomposed.seasonal['2018-03-01':'2018-03-15'].plot(ax=plt.gca())"
   ]
  },
  {
   "cell_type": "markdown",
   "id": "60d519a3",
   "metadata": {},
   "source": [
    "В понедельник заказов меньше всего. Когда на четверг и воскресенье выпадает наибольшее количество заказов"
   ]
  },
  {
   "cell_type": "code",
   "execution_count": 15,
   "id": "07ccd1b2",
   "metadata": {},
   "outputs": [
    {
     "name": "stdout",
     "output_type": "stream",
     "text": [
      "<class 'pandas.core.frame.DataFrame'>\n",
      "DatetimeIndex: 4416 entries, 2018-03-01 00:00:00 to 2018-08-31 23:00:00\n",
      "Freq: H\n",
      "Data columns (total 5 columns):\n",
      " #   Column      Non-Null Count  Dtype  \n",
      "---  ------      --------------  -----  \n",
      " 0   num_orders  4416 non-null   int64  \n",
      " 1   mean        4402 non-null   float64\n",
      " 2   std         4402 non-null   float64\n",
      " 3   dayofweek   4416 non-null   int64  \n",
      " 4   hour        4416 non-null   int64  \n",
      "dtypes: float64(2), int64(3)\n",
      "memory usage: 207.0 KB\n"
     ]
    }
   ],
   "source": [
    "df.info()"
   ]
  },
  {
   "cell_type": "markdown",
   "id": "c0ec3dc7",
   "metadata": {},
   "source": [
    "<img src=\"https://emojigraph.org/media/apple/check-mark-button_2705.png\" align=left width=33, heigth=33>\n",
    "<div class=\"alert alert-success\">\n",
    "<b>v2</b> 👍 </div>"
   ]
  },
  {
   "cell_type": "markdown",
   "id": "8e8af02e",
   "metadata": {},
   "source": [
    "### Изучение таблицы весны"
   ]
  },
  {
   "cell_type": "code",
   "execution_count": 16,
   "id": "930cc437",
   "metadata": {},
   "outputs": [
    {
     "data": {
      "text/html": [
       "<div>\n",
       "<style scoped>\n",
       "    .dataframe tbody tr th:only-of-type {\n",
       "        vertical-align: middle;\n",
       "    }\n",
       "\n",
       "    .dataframe tbody tr th {\n",
       "        vertical-align: top;\n",
       "    }\n",
       "\n",
       "    .dataframe thead th {\n",
       "        text-align: right;\n",
       "    }\n",
       "</style>\n",
       "<table border=\"1\" class=\"dataframe\">\n",
       "  <thead>\n",
       "    <tr style=\"text-align: right;\">\n",
       "      <th></th>\n",
       "      <th>num_orders</th>\n",
       "      <th>mean</th>\n",
       "      <th>std</th>\n",
       "      <th>dayofweek</th>\n",
       "      <th>hour</th>\n",
       "    </tr>\n",
       "    <tr>\n",
       "      <th>datetime</th>\n",
       "      <th></th>\n",
       "      <th></th>\n",
       "      <th></th>\n",
       "      <th></th>\n",
       "      <th></th>\n",
       "    </tr>\n",
       "  </thead>\n",
       "  <tbody>\n",
       "    <tr>\n",
       "      <th>2018-03-01 00:00:00</th>\n",
       "      <td>124</td>\n",
       "      <td>NaN</td>\n",
       "      <td>NaN</td>\n",
       "      <td>3</td>\n",
       "      <td>0</td>\n",
       "    </tr>\n",
       "    <tr>\n",
       "      <th>2018-03-01 01:00:00</th>\n",
       "      <td>85</td>\n",
       "      <td>NaN</td>\n",
       "      <td>NaN</td>\n",
       "      <td>3</td>\n",
       "      <td>1</td>\n",
       "    </tr>\n",
       "    <tr>\n",
       "      <th>2018-03-01 02:00:00</th>\n",
       "      <td>71</td>\n",
       "      <td>NaN</td>\n",
       "      <td>NaN</td>\n",
       "      <td>3</td>\n",
       "      <td>2</td>\n",
       "    </tr>\n",
       "    <tr>\n",
       "      <th>2018-03-01 03:00:00</th>\n",
       "      <td>66</td>\n",
       "      <td>NaN</td>\n",
       "      <td>NaN</td>\n",
       "      <td>3</td>\n",
       "      <td>3</td>\n",
       "    </tr>\n",
       "    <tr>\n",
       "      <th>2018-03-01 04:00:00</th>\n",
       "      <td>43</td>\n",
       "      <td>NaN</td>\n",
       "      <td>NaN</td>\n",
       "      <td>3</td>\n",
       "      <td>4</td>\n",
       "    </tr>\n",
       "    <tr>\n",
       "      <th>...</th>\n",
       "      <td>...</td>\n",
       "      <td>...</td>\n",
       "      <td>...</td>\n",
       "      <td>...</td>\n",
       "      <td>...</td>\n",
       "    </tr>\n",
       "    <tr>\n",
       "      <th>2018-05-31 19:00:00</th>\n",
       "      <td>62</td>\n",
       "      <td>63.733333</td>\n",
       "      <td>26.633670</td>\n",
       "      <td>3</td>\n",
       "      <td>19</td>\n",
       "    </tr>\n",
       "    <tr>\n",
       "      <th>2018-05-31 20:00:00</th>\n",
       "      <td>75</td>\n",
       "      <td>65.533333</td>\n",
       "      <td>26.405807</td>\n",
       "      <td>3</td>\n",
       "      <td>20</td>\n",
       "    </tr>\n",
       "    <tr>\n",
       "      <th>2018-05-31 21:00:00</th>\n",
       "      <td>107</td>\n",
       "      <td>72.266667</td>\n",
       "      <td>22.767353</td>\n",
       "      <td>3</td>\n",
       "      <td>21</td>\n",
       "    </tr>\n",
       "    <tr>\n",
       "      <th>2018-05-31 22:00:00</th>\n",
       "      <td>93</td>\n",
       "      <td>77.333333</td>\n",
       "      <td>17.417834</td>\n",
       "      <td>3</td>\n",
       "      <td>22</td>\n",
       "    </tr>\n",
       "    <tr>\n",
       "      <th>2018-05-31 23:00:00</th>\n",
       "      <td>129</td>\n",
       "      <td>81.200000</td>\n",
       "      <td>21.798427</td>\n",
       "      <td>3</td>\n",
       "      <td>23</td>\n",
       "    </tr>\n",
       "  </tbody>\n",
       "</table>\n",
       "<p>2208 rows × 5 columns</p>\n",
       "</div>"
      ],
      "text/plain": [
       "                     num_orders       mean        std  dayofweek  hour\n",
       "datetime                                                              \n",
       "2018-03-01 00:00:00         124        NaN        NaN          3     0\n",
       "2018-03-01 01:00:00          85        NaN        NaN          3     1\n",
       "2018-03-01 02:00:00          71        NaN        NaN          3     2\n",
       "2018-03-01 03:00:00          66        NaN        NaN          3     3\n",
       "2018-03-01 04:00:00          43        NaN        NaN          3     4\n",
       "...                         ...        ...        ...        ...   ...\n",
       "2018-05-31 19:00:00          62  63.733333  26.633670          3    19\n",
       "2018-05-31 20:00:00          75  65.533333  26.405807          3    20\n",
       "2018-05-31 21:00:00         107  72.266667  22.767353          3    21\n",
       "2018-05-31 22:00:00          93  77.333333  17.417834          3    22\n",
       "2018-05-31 23:00:00         129  81.200000  21.798427          3    23\n",
       "\n",
       "[2208 rows x 5 columns]"
      ]
     },
     "execution_count": 16,
     "metadata": {},
     "output_type": "execute_result"
    }
   ],
   "source": [
    "#таблица без августа\n",
    "df_spring = df['2018-03':'2018-05']\n",
    "df_spring"
   ]
  },
  {
   "cell_type": "code",
   "execution_count": 17,
   "id": "22760a78",
   "metadata": {},
   "outputs": [
    {
     "data": {
      "text/plain": [
       "<AxesSubplot:xlabel='datetime'>"
      ]
     },
     "execution_count": 17,
     "metadata": {},
     "output_type": "execute_result"
    },
    {
     "data": {
      "image/png": "[encoded data removed]",
      "text/plain": [
       "<Figure size 432x288 with 1 Axes>"
      ]
     },
     "metadata": {
      "needs_background": "light"
     },
     "output_type": "display_data"
    }
   ],
   "source": [
    "df_spring.loc[:,'num_orders':'std'].plot()"
   ]
  },
  {
   "cell_type": "markdown",
   "id": "c615a692",
   "metadata": {},
   "source": [
    "Ряд стационарен, т.к. нет резких скачков среднего значения и стандартного отклонения."
   ]
  },
  {
   "cell_type": "markdown",
   "id": "07a28a49",
   "metadata": {},
   "source": [
    "График значений по месяцам виден сверху. Нет смысла изучать данные по дням месяца, но есть смысл по дням недели, а также по часу."
   ]
  },
  {
   "cell_type": "code",
   "execution_count": 18,
   "id": "66a9ab05",
   "metadata": {},
   "outputs": [],
   "source": [
    "#Создание столбчатой диаграммы\n",
    "def graf(i,df):\n",
    "    df[df['dayofweek']==i].groupby(by=['hour']).sum()['num_orders'].plot.bar(figsize=(11,7))\n",
    "    plt.title('{}'.format(i))\n",
    "    plt.xlabel('Час')\n",
    "    plt.ylabel('Количество')\n",
    "    None"
   ]
  },
  {
   "cell_type": "code",
   "execution_count": 19,
   "id": "2884a590",
   "metadata": {},
   "outputs": [
    {
     "data": {
      "image/png": "[encoded data removed]",
      "text/plain": [
       "<Figure size 792x504 with 1 Axes>"
      ]
     },
     "metadata": {
      "needs_background": "light"
     },
     "output_type": "display_data"
    },
    {
     "data": {
      "image/png": "[encoded data removed]",
      "text/plain": [
       "<Figure size 792x504 with 1 Axes>"
      ]
     },
     "metadata": {
      "needs_background": "light"
     },
     "output_type": "display_data"
    },
    {
     "data": {
      "image/png": "[encoded data removed]",
      "text/plain": [
       "<Figure size 792x504 with 1 Axes>"
      ]
     },
     "metadata": {
      "needs_background": "light"
     },
     "output_type": "display_data"
    },
    {
     "data": {
      "image/png": "[encoded data removed]",
      "text/plain": [
       "<Figure size 792x504 with 1 Axes>"
      ]
     },
     "metadata": {
      "needs_background": "light"
     },
     "output_type": "display_data"
    },
    {
     "data": {
      "image/png": "[encoded data removed]",
      "text/plain": [
       "<Figure size 792x504 with 1 Axes>"
      ]
     },
     "metadata": {
      "needs_background": "light"
     },
     "output_type": "display_data"
    },
    {
     "data": {
      "image/png": "[encoded data removed]",
      "text/plain": [
       "<Figure size 792x504 with 1 Axes>"
      ]
     },
     "metadata": {
      "needs_background": "light"
     },
     "output_type": "display_data"
    },
    {
     "data": {
      "image/png": "[encoded data removed]",
      "text/plain": [
       "<Figure size 792x504 with 1 Axes>"
      ]
     },
     "metadata": {
      "needs_background": "light"
     },
     "output_type": "display_data"
    }
   ],
   "source": [
    "#с понедельника по воскресенье. Понедельник - 0. И тд.\n",
    "a=df_spring.groupby(by=['dayofweek']).sum()\n",
    "for i in a.index:\n",
    "    graf(i,df_spring)\n",
    "    plt.show() # Это строку лучше закинуть в самый конец функции."
   ]
  },
  {
   "cell_type": "markdown",
   "id": "8640969e",
   "metadata": {},
   "source": [
    "Зависимость от дня недели существует. К примеру, первый час: в понедельник - 1800, вторник и среда - по 1250, четверг - 1850."
   ]
  },
  {
   "cell_type": "code",
   "execution_count": 20,
   "id": "4b17587c",
   "metadata": {},
   "outputs": [
    {
     "data": {
      "image/png": "[encoded data removed]",
      "text/plain": [
       "<Figure size 792x504 with 1 Axes>"
      ]
     },
     "metadata": {
      "needs_background": "light"
     },
     "output_type": "display_data"
    }
   ],
   "source": [
    "#столбчатая диаграмма без учета дней недели\n",
    "df_spring.groupby(by=['hour']).sum()['num_orders'].plot.bar(figsize=(11,7))\n",
    "plt.title('Количество за каждый час')\n",
    "plt.xlabel('Час')\n",
    "plt.ylabel('Количество')\n",
    "None"
   ]
  },
  {
   "cell_type": "markdown",
   "id": "577d65c2",
   "metadata": {},
   "source": [
    "Без учета дня недели видно, что в первый час наибольшее количество заказаов - 11000. Также со 2го по 4й остается большое кол-во заказов - от 6,5 до 7 тыс. 5й час - 4,5тыс. с 6 по 8 часы кол-ов заказов снижается - с 1 до 2 тыс. С 9го по 16й значения - от 4 до 6,5 тыс. В 17 час количество превышает 8,5 тыс. С 18 часа идет равномерно увеличение заказов от 5 до 8 тыс."
   ]
  },
  {
   "cell_type": "code",
   "execution_count": 21,
   "id": "de1831da",
   "metadata": {},
   "outputs": [
    {
     "data": {
      "image/png": "[encoded data removed]",
      "text/plain": [
       "<Figure size 864x504 with 1 Axes>"
      ]
     },
     "metadata": {
      "needs_background": "light"
     },
     "output_type": "display_data"
    }
   ],
   "source": [
    "#ящик с усами по часам\n",
    "df_spring.boxplot('num_orders', by='hour', figsize=(12,7))\n",
    "plt.ylim(0,300);"
   ]
  },
  {
   "cell_type": "code",
   "execution_count": 22,
   "id": "8b5a6cdd",
   "metadata": {},
   "outputs": [
    {
     "data": {
      "image/png": "[encoded data removed]",
      "text/plain": [
       "<Figure size 864x504 with 1 Axes>"
      ]
     },
     "metadata": {
      "needs_background": "light"
     },
     "output_type": "display_data"
    }
   ],
   "source": [
    "#ящик с усами по дням недели\n",
    "df_spring.boxplot('num_orders', by='dayofweek', figsize=(12,7))\n",
    "plt.ylim(0,300);"
   ]
  },
  {
   "cell_type": "markdown",
   "id": "4f6e2c33",
   "metadata": {},
   "source": [
    "Больше заказов приходится на Четверг. Наименьшее кол-во заказов - на понедельник. Показатели между днями меняются незначительно."
   ]
  },
  {
   "cell_type": "markdown",
   "id": "ee80af29",
   "metadata": {},
   "source": [
    "### Изучение таблицы лета"
   ]
  },
  {
   "cell_type": "code",
   "execution_count": 23,
   "id": "db2ab429",
   "metadata": {},
   "outputs": [],
   "source": [
    "#таблица августа\n",
    "df_summer = df['2018-06':'2018-08']"
   ]
  },
  {
   "cell_type": "code",
   "execution_count": 24,
   "id": "4f5bd3e0",
   "metadata": {},
   "outputs": [
    {
     "data": {
      "text/html": [
       "<div>\n",
       "<style scoped>\n",
       "    .dataframe tbody tr th:only-of-type {\n",
       "        vertical-align: middle;\n",
       "    }\n",
       "\n",
       "    .dataframe tbody tr th {\n",
       "        vertical-align: top;\n",
       "    }\n",
       "\n",
       "    .dataframe thead th {\n",
       "        text-align: right;\n",
       "    }\n",
       "</style>\n",
       "<table border=\"1\" class=\"dataframe\">\n",
       "  <thead>\n",
       "    <tr style=\"text-align: right;\">\n",
       "      <th></th>\n",
       "      <th>num_orders</th>\n",
       "      <th>mean</th>\n",
       "      <th>std</th>\n",
       "      <th>dayofweek</th>\n",
       "      <th>hour</th>\n",
       "    </tr>\n",
       "    <tr>\n",
       "      <th>datetime</th>\n",
       "      <th></th>\n",
       "      <th></th>\n",
       "      <th></th>\n",
       "      <th></th>\n",
       "      <th></th>\n",
       "    </tr>\n",
       "  </thead>\n",
       "  <tbody>\n",
       "    <tr>\n",
       "      <th>2018-06-01 00:00:00</th>\n",
       "      <td>118</td>\n",
       "      <td>83.000000</td>\n",
       "      <td>23.697498</td>\n",
       "      <td>4</td>\n",
       "      <td>0</td>\n",
       "    </tr>\n",
       "    <tr>\n",
       "      <th>2018-06-01 01:00:00</th>\n",
       "      <td>77</td>\n",
       "      <td>83.266667</td>\n",
       "      <td>23.599233</td>\n",
       "      <td>4</td>\n",
       "      <td>1</td>\n",
       "    </tr>\n",
       "    <tr>\n",
       "      <th>2018-06-01 02:00:00</th>\n",
       "      <td>111</td>\n",
       "      <td>84.800000</td>\n",
       "      <td>24.652441</td>\n",
       "      <td>4</td>\n",
       "      <td>2</td>\n",
       "    </tr>\n",
       "    <tr>\n",
       "      <th>2018-06-01 03:00:00</th>\n",
       "      <td>132</td>\n",
       "      <td>89.266667</td>\n",
       "      <td>26.786102</td>\n",
       "      <td>4</td>\n",
       "      <td>3</td>\n",
       "    </tr>\n",
       "    <tr>\n",
       "      <th>2018-06-01 04:00:00</th>\n",
       "      <td>65</td>\n",
       "      <td>88.933333</td>\n",
       "      <td>27.072566</td>\n",
       "      <td>4</td>\n",
       "      <td>4</td>\n",
       "    </tr>\n",
       "    <tr>\n",
       "      <th>...</th>\n",
       "      <td>...</td>\n",
       "      <td>...</td>\n",
       "      <td>...</td>\n",
       "      <td>...</td>\n",
       "      <td>...</td>\n",
       "    </tr>\n",
       "    <tr>\n",
       "      <th>2018-08-31 19:00:00</th>\n",
       "      <td>136</td>\n",
       "      <td>147.333333</td>\n",
       "      <td>57.917018</td>\n",
       "      <td>4</td>\n",
       "      <td>19</td>\n",
       "    </tr>\n",
       "    <tr>\n",
       "      <th>2018-08-31 20:00:00</th>\n",
       "      <td>154</td>\n",
       "      <td>152.400000</td>\n",
       "      <td>54.650578</td>\n",
       "      <td>4</td>\n",
       "      <td>20</td>\n",
       "    </tr>\n",
       "    <tr>\n",
       "      <th>2018-08-31 21:00:00</th>\n",
       "      <td>159</td>\n",
       "      <td>160.666667</td>\n",
       "      <td>43.955605</td>\n",
       "      <td>4</td>\n",
       "      <td>21</td>\n",
       "    </tr>\n",
       "    <tr>\n",
       "      <th>2018-08-31 22:00:00</th>\n",
       "      <td>223</td>\n",
       "      <td>172.466667</td>\n",
       "      <td>33.485320</td>\n",
       "      <td>4</td>\n",
       "      <td>22</td>\n",
       "    </tr>\n",
       "    <tr>\n",
       "      <th>2018-08-31 23:00:00</th>\n",
       "      <td>205</td>\n",
       "      <td>174.000000</td>\n",
       "      <td>34.465303</td>\n",
       "      <td>4</td>\n",
       "      <td>23</td>\n",
       "    </tr>\n",
       "  </tbody>\n",
       "</table>\n",
       "<p>2208 rows × 5 columns</p>\n",
       "</div>"
      ],
      "text/plain": [
       "                     num_orders        mean        std  dayofweek  hour\n",
       "datetime                                                               \n",
       "2018-06-01 00:00:00         118   83.000000  23.697498          4     0\n",
       "2018-06-01 01:00:00          77   83.266667  23.599233          4     1\n",
       "2018-06-01 02:00:00         111   84.800000  24.652441          4     2\n",
       "2018-06-01 03:00:00         132   89.266667  26.786102          4     3\n",
       "2018-06-01 04:00:00          65   88.933333  27.072566          4     4\n",
       "...                         ...         ...        ...        ...   ...\n",
       "2018-08-31 19:00:00         136  147.333333  57.917018          4    19\n",
       "2018-08-31 20:00:00         154  152.400000  54.650578          4    20\n",
       "2018-08-31 21:00:00         159  160.666667  43.955605          4    21\n",
       "2018-08-31 22:00:00         223  172.466667  33.485320          4    22\n",
       "2018-08-31 23:00:00         205  174.000000  34.465303          4    23\n",
       "\n",
       "[2208 rows x 5 columns]"
      ]
     },
     "execution_count": 24,
     "metadata": {},
     "output_type": "execute_result"
    }
   ],
   "source": [
    "df_summer"
   ]
  },
  {
   "cell_type": "code",
   "execution_count": 25,
   "id": "ef4c8b04",
   "metadata": {},
   "outputs": [
    {
     "data": {
      "text/plain": [
       "<AxesSubplot:xlabel='datetime'>"
      ]
     },
     "execution_count": 25,
     "metadata": {},
     "output_type": "execute_result"
    },
    {
     "data": {
      "image/png": "[encoded data removed]",
      "text/plain": [
       "<Figure size 432x288 with 1 Axes>"
      ]
     },
     "metadata": {
      "needs_background": "light"
     },
     "output_type": "display_data"
    }
   ],
   "source": [
    "df_summer.loc[:,'num_orders':'std'].plot()"
   ]
  },
  {
   "cell_type": "markdown",
   "id": "f5663cfe",
   "metadata": {},
   "source": [
    "Ряд стационарен, т.к. нет резких скачков среднего значения и стандартного отклонения."
   ]
  },
  {
   "cell_type": "code",
   "execution_count": 26,
   "id": "9d80287a",
   "metadata": {},
   "outputs": [
    {
     "data": {
      "image/png": "[encoded data removed]",
      "text/plain": [
       "<Figure size 792x504 with 1 Axes>"
      ]
     },
     "metadata": {
      "needs_background": "light"
     },
     "output_type": "display_data"
    },
    {
     "data": {
      "image/png": "[encoded data removed]",
      "text/plain": [
       "<Figure size 792x504 with 1 Axes>"
      ]
     },
     "metadata": {
      "needs_background": "light"
     },
     "output_type": "display_data"
    },
    {
     "data": {
      "image/png": "[encoded data removed]",
      "text/plain": [
       "<Figure size 792x504 with 1 Axes>"
      ]
     },
     "metadata": {
      "needs_background": "light"
     },
     "output_type": "display_data"
    },
    {
     "data": {
      "image/png": "[encoded data removed]",
      "text/plain": [
       "<Figure size 792x504 with 1 Axes>"
      ]
     },
     "metadata": {
      "needs_background": "light"
     },
     "output_type": "display_data"
    },
    {
     "data": {
      "image/png": "[encoded data removed]",
      "text/plain": [
       "<Figure size 792x504 with 1 Axes>"
      ]
     },
     "metadata": {
      "needs_background": "light"
     },
     "output_type": "display_data"
    },
    {
     "data": {
      "image/png": "[encoded data removed]",
      "text/plain": [
       "<Figure size 792x504 with 1 Axes>"
      ]
     },
     "metadata": {
      "needs_background": "light"
     },
     "output_type": "display_data"
    },
    {
     "data": {
      "image/png": "[encoded data removed]",
      "text/plain": [
       "<Figure size 792x504 with 1 Axes>"
      ]
     },
     "metadata": {
      "needs_background": "light"
     },
     "output_type": "display_data"
    }
   ],
   "source": [
    "#с понедельника по воскресенье. Понедельник - 0. И тд.\n",
    "a=df_summer.groupby(by=['dayofweek']).sum()\n",
    "for i in a.index:\n",
    "    graf(i,df_summer)\n",
    "    plt.show() # Это строку лучше закинуть в самый конец функции."
   ]
  },
  {
   "cell_type": "markdown",
   "id": "c928f625",
   "metadata": {},
   "source": [
    "Зависимость от дня недели есть. Например, если посмотреть на значения 1го часа."
   ]
  },
  {
   "cell_type": "code",
   "execution_count": 27,
   "id": "986b67bd",
   "metadata": {},
   "outputs": [
    {
     "data": {
      "image/png": "[encoded data removed]",
      "text/plain": [
       "<Figure size 792x504 with 1 Axes>"
      ]
     },
     "metadata": {
      "needs_background": "light"
     },
     "output_type": "display_data"
    }
   ],
   "source": [
    "#столбчатая диаграмма без учета дней недели\n",
    "df_summer.groupby(by=['hour']).sum()['num_orders'].plot.bar(figsize=(11,7))\n",
    "plt.title('Количество за каждый час')\n",
    "plt.xlabel('Час')\n",
    "plt.ylabel('Количество')\n",
    "None"
   ]
  },
  {
   "cell_type": "markdown",
   "id": "8f7c93ca",
   "metadata": {},
   "source": [
    "первые 5 часов значения - от 11000 до 16000. С 6го по 8й часы значения - от 3500 до 6000. С 9го по 16й значения - от 8000 до 11000. 17 и 18, 24й часы значения - около 12000. 19 по 21е часы значения - от 7000 до 8000. 22 и 23 часы - от 10000 до 10500."
   ]
  },
  {
   "cell_type": "code",
   "execution_count": 28,
   "id": "25e42763",
   "metadata": {},
   "outputs": [
    {
     "data": {
      "image/png": "[encoded data removed]",
      "text/plain": [
       "<Figure size 864x504 with 1 Axes>"
      ]
     },
     "metadata": {
      "needs_background": "light"
     },
     "output_type": "display_data"
    }
   ],
   "source": [
    "#ящик с усами по часам\n",
    "df_summer.boxplot('num_orders', by='hour', figsize=(12,7))\n",
    "plt.ylim(0,300);"
   ]
  },
  {
   "cell_type": "code",
   "execution_count": 29,
   "id": "e517839d",
   "metadata": {},
   "outputs": [
    {
     "data": {
      "image/png": "[encoded data removed]",
      "text/plain": [
       "<Figure size 864x504 with 1 Axes>"
      ]
     },
     "metadata": {
      "needs_background": "light"
     },
     "output_type": "display_data"
    }
   ],
   "source": [
    "#ящик с усами по дням недели\n",
    "df_summer.boxplot('num_orders', by='dayofweek', figsize=(12,7))\n",
    "plt.ylim(0,300);"
   ]
  },
  {
   "cell_type": "markdown",
   "id": "f052b352",
   "metadata": {},
   "source": [
    "Летом наибольшие значения в пятницу. Наименьшие - во вторник."
   ]
  },
  {
   "cell_type": "markdown",
   "id": "4105cf75",
   "metadata": {},
   "source": [
    "### Вывод"
   ]
  },
  {
   "cell_type": "markdown",
   "id": "316597ea",
   "metadata": {},
   "source": [
    "Ряд и летом, и весной стационарны. Зависимость значения по часам от дня недели существует. Наибольшее кол-во заказаов в 1й, 17й, и 24й часы. Наименьшее кол-во заказов с 6го по 8й часы. В понедельник заказов меньше всего. Когда на четверг и воскресенье выпадает наибольшее количество заказов"
   ]
  },
  {
   "cell_type": "markdown",
   "id": "d696d1d7",
   "metadata": {},
   "source": [
    "<div class=\"alert alert-block alert-info\">\n",
    "<b>Комментарий студента:</b> Напишите пару слов о моем анализе, пожалуйста.</div>"
   ]
  },
  {
   "cell_type": "markdown",
   "id": "a583a852",
   "metadata": {},
   "source": [
    "<img src=\"http://s3.amazonaws.com/pix.iemoji.com/images/emoji/apple/ios-12/256/waving-hand.png\" align=left width=44, heigth=44>\n",
    "<div class=\"alert alert-info\">\n",
    "<b> Комментарий ревьюера v2</b>\n",
    "\n",
    "В этом проекте для проведения анализа вполне достаточно исследования на стационарность + декомпозиции на тренды и сезонность (я рекомендую исследовть суточную и недельную сезонности).  Это позволяет нам сделать основные выводы о наличии тренда, суточной и недельной сезонности.\n",
    "\n",
    "Что касается используемого тобой метода с группировками: ты молодец, что стремишься глубже познакомиться с данными, попробовать скомпоновать иннструменты.  Но простая группировка может сослужить нам плохую службу - т.к. в данных кроме сезонности есть тренд, то применяя просто группировку мы не сможем разделить их и нам будет казаться что в конце периода есть рост (это хорошо заметно если сделать группировку по месяцам).\n",
    "\n",
    "</div>"
   ]
  },
  {
   "cell_type": "markdown",
   "id": "ddc94864",
   "metadata": {},
   "source": [
    "## Обучение моделей"
   ]
  },
  {
   "cell_type": "markdown",
   "id": "5ed2c40c",
   "metadata": {},
   "source": [
    "<img src=\"https://upload.wikimedia.org/wikipedia/commons/thumb/8/81/Stop_sign.png/240px-Stop_sign.png\" align=left width=35, heigth=35>\n",
    "<div class=\"alert alert-danger\">\n",
    "<b>v2</b>\n",
    "    \n",
    "Пожалуйста добавь в наши данные еще два типа признаков - скользящее среднее и отстающие значения.</div>"
   ]
  },
  {
   "cell_type": "markdown",
   "id": "800f7c7c",
   "metadata": {},
   "source": [
    "<img src=\"https://upload.wikimedia.org/wikipedia/commons/thumb/8/81/Stop_sign.png/240px-Stop_sign.png\" align=left width=35, heigth=35>\n",
    "<div class=\"alert alert-danger\">\n",
    "<b>v2</b>\n",
    "    \n",
    "В твоих данных остались признаки \"mean\" и \"std\", которые содержат утечку (они сформированы с учетом предсказываемого значения\"</div>"
   ]
  },
  {
   "cell_type": "markdown",
   "id": "e9ab8466",
   "metadata": {},
   "source": [
    "<div class=\"alert alert-block alert-info\">\n",
    "<b>Комментарий студента2:</b> 'mean' это же и есть скользящее среднее или я что-то путаю? Если оттакливаться от тренажера, то разницы между 'mean' и 'rolling_mean' вроде нет. Возможно я не так понимаю, помогите, пожалуйста. </div>"
   ]
  },
  {
   "cell_type": "code",
   "execution_count": 30,
   "id": "43856a7d",
   "metadata": {},
   "outputs": [],
   "source": [
    "df = df.drop(['mean','std'],axis=1)"
   ]
  },
  {
   "cell_type": "code",
   "execution_count": 31,
   "id": "647c8051",
   "metadata": {},
   "outputs": [],
   "source": [
    "df['rolling_mean'] = df['num_orders'].shift().rolling(168).mean()"
   ]
  },
  {
   "cell_type": "markdown",
   "id": "7650c7c3",
   "metadata": {},
   "source": [
    "<img src=\"https://upload.wikimedia.org/wikipedia/commons/thumb/8/81/Stop_sign.png/240px-Stop_sign.png\" align=left width=35, heigth=35>\n",
    "<div class=\"alert alert-danger\">\n",
    "<b>v3</b>\n",
    "    \n",
    "Эти признаки очень похожи, но не совсем. Давай вспомним, как ты получил признак mean()\n",
    "\n",
    "    df['mean'] = df['num_orders'].rolling(15).mean()\n",
    "    \n",
    "Теперь давай вспомним функцию make_features, которую ты писал в тренажере. Там формирование rolling_mean выглядело вот так\n",
    "    \n",
    "     data['rolling_mean'] = data['PJME_MW'].shift().rolling(rolling_mean_size).mean()\n",
    "    \n",
    "Отличие в том, что мы добавили сдвиг, благодаря которому при формировании mean() не участвует предсказываемое значение, а только отстающие.\n",
    "    \n",
    "   \n",
    "    \n",
    "</div>"
   ]
  },
  {
   "cell_type": "markdown",
   "id": "94e94868",
   "metadata": {},
   "source": [
    "<div class=\"alert alert-block alert-info\">\n",
    "<b>Комментарий студента3:</b> Спасибо! </div>"
   ]
  },
  {
   "cell_type": "code",
   "execution_count": 32,
   "id": "297f7035",
   "metadata": {},
   "outputs": [],
   "source": [
    "for lag in range(1, 169):\n",
    "    df['lag_{}'.format(lag)] = df['num_orders'].shift(lag)"
   ]
  },
  {
   "cell_type": "markdown",
   "id": "87953c2d",
   "metadata": {},
   "source": [
    "<img src=\"https://upload.wikimedia.org/wikipedia/commons/b/ba/Warning_sign_4.0.png\" align=left width=44, heigth=33>\n",
    "<div class=\"alert alert-warning\">\n",
    "<b>v3</b>\n",
    "    \n",
    "Ок, ты добавил признаки. Но почему ты выбрал размер окна 15 а количество отстающих значений 3? Открою секрет - чем большее количество отстающих значений мы используем, тем лучшего качества модели получаются (в среднем) Также очень хорошей практикой является использовать количество отстающих значений совпадающее (или кратное) размеру периода. Т.к. у нас есть суточная и недельная сезонности, то хорошо работают 24 и 168 отстающих значения. Также размер окна 24 или 168. А вот теперь вопрос. Как ты будешь добавлять 168 отстающих значений?\n",
    "    \n",
    "Напоминаю, что в тренажере мы писали функцию make_features. Используй её.    \n",
    "</div>\n",
    "\n"
   ]
  },
  {
   "cell_type": "markdown",
   "id": "29996703",
   "metadata": {},
   "source": [
    "<div class=\"alert alert-block alert-info\">\n",
    "<b>Комментарий студента3:</b> Вроде понял про значения 24 и 168. Я пытался окна больше 15 сделать, но метрики были хуже. </div>"
   ]
  },
  {
   "cell_type": "markdown",
   "id": "4f33fe6b",
   "metadata": {},
   "source": [
    "<div class=\"alert alert-block alert-info\">\n",
    "<b>Комментарий студента2:</b> Вроде понял. mean и std удалил в признаках. </div>"
   ]
  },
  {
   "cell_type": "markdown",
   "id": "37cd7e85",
   "metadata": {},
   "source": [
    "<div class=\"alert alert-block alert-info\">\n",
    "<b>Комментарий студента:</b> Исправил. Когда мы удалили номер месяца и дня, нам стоит не добавлять их в таблицу также? А вдруг обучение по этим признакам понадобится для следующих годов?</div>"
   ]
  },
  {
   "cell_type": "markdown",
   "id": "7f970463",
   "metadata": {},
   "source": [
    "<img src=\"http://s3.amazonaws.com/pix.iemoji.com/images/emoji/apple/ios-12/256/waving-hand.png\" align=left width=44, heigth=44>\n",
    "<div class=\"alert alert-info\">\n",
    "<b> Комментарий ревьюера v2</b>\n",
    "\n",
    "Не стоит усложнять. Универсальных решений нет. Более того, модели машиного обучения имет свойство устаревать, причин множество - изменение в данных, изменения окружающей среды и т.д.  Поэтому через год -два и значимые призаки могут оказаться другими, да и сами данные могут устареть. Ты помнишь, что мы анализируем такси в аэропорт? Произойти может что угодно - COVID и полеты отменяются, просто смена расписания, открытие нового аэроэкспресса.... Поэтому пока используем старую модель, переодически её переобучая, если она начнет \"деградировать\" то тогда уже и озаботимся поиском причин.</div>"
   ]
  },
  {
   "cell_type": "markdown",
   "id": "99bd4afa",
   "metadata": {},
   "source": [
    "### Разбиение данных"
   ]
  },
  {
   "cell_type": "code",
   "execution_count": 33,
   "id": "b21a3522",
   "metadata": {},
   "outputs": [],
   "source": [
    "#пропущенные значения изменим на средние значения, объектов удалим немного\n",
    "df.dropna(inplace=True)"
   ]
  },
  {
   "cell_type": "code",
   "execution_count": 34,
   "id": "1110d939",
   "metadata": {},
   "outputs": [
    {
     "data": {
      "text/html": [
       "<div>\n",
       "<style scoped>\n",
       "    .dataframe tbody tr th:only-of-type {\n",
       "        vertical-align: middle;\n",
       "    }\n",
       "\n",
       "    .dataframe tbody tr th {\n",
       "        vertical-align: top;\n",
       "    }\n",
       "\n",
       "    .dataframe thead th {\n",
       "        text-align: right;\n",
       "    }\n",
       "</style>\n",
       "<table border=\"1\" class=\"dataframe\">\n",
       "  <thead>\n",
       "    <tr style=\"text-align: right;\">\n",
       "      <th></th>\n",
       "      <th>num_orders</th>\n",
       "      <th>dayofweek</th>\n",
       "      <th>hour</th>\n",
       "      <th>rolling_mean</th>\n",
       "      <th>lag_1</th>\n",
       "      <th>lag_2</th>\n",
       "      <th>lag_3</th>\n",
       "      <th>lag_4</th>\n",
       "      <th>lag_5</th>\n",
       "      <th>lag_6</th>\n",
       "      <th>...</th>\n",
       "      <th>lag_159</th>\n",
       "      <th>lag_160</th>\n",
       "      <th>lag_161</th>\n",
       "      <th>lag_162</th>\n",
       "      <th>lag_163</th>\n",
       "      <th>lag_164</th>\n",
       "      <th>lag_165</th>\n",
       "      <th>lag_166</th>\n",
       "      <th>lag_167</th>\n",
       "      <th>lag_168</th>\n",
       "    </tr>\n",
       "    <tr>\n",
       "      <th>datetime</th>\n",
       "      <th></th>\n",
       "      <th></th>\n",
       "      <th></th>\n",
       "      <th></th>\n",
       "      <th></th>\n",
       "      <th></th>\n",
       "      <th></th>\n",
       "      <th></th>\n",
       "      <th></th>\n",
       "      <th></th>\n",
       "      <th></th>\n",
       "      <th></th>\n",
       "      <th></th>\n",
       "      <th></th>\n",
       "      <th></th>\n",
       "      <th></th>\n",
       "      <th></th>\n",
       "      <th></th>\n",
       "      <th></th>\n",
       "      <th></th>\n",
       "      <th></th>\n",
       "    </tr>\n",
       "  </thead>\n",
       "  <tbody>\n",
       "    <tr>\n",
       "      <th>2018-03-08 00:00:00</th>\n",
       "      <td>143</td>\n",
       "      <td>3</td>\n",
       "      <td>0</td>\n",
       "      <td>54.226190</td>\n",
       "      <td>94.0</td>\n",
       "      <td>127.0</td>\n",
       "      <td>108.0</td>\n",
       "      <td>76.0</td>\n",
       "      <td>50.0</td>\n",
       "      <td>99.0</td>\n",
       "      <td>...</td>\n",
       "      <td>69.0</td>\n",
       "      <td>34.0</td>\n",
       "      <td>15.0</td>\n",
       "      <td>12.0</td>\n",
       "      <td>6.0</td>\n",
       "      <td>43.0</td>\n",
       "      <td>66.0</td>\n",
       "      <td>71.0</td>\n",
       "      <td>85.0</td>\n",
       "      <td>124.0</td>\n",
       "    </tr>\n",
       "    <tr>\n",
       "      <th>2018-03-08 01:00:00</th>\n",
       "      <td>78</td>\n",
       "      <td>3</td>\n",
       "      <td>1</td>\n",
       "      <td>54.339286</td>\n",
       "      <td>143.0</td>\n",
       "      <td>94.0</td>\n",
       "      <td>127.0</td>\n",
       "      <td>108.0</td>\n",
       "      <td>76.0</td>\n",
       "      <td>50.0</td>\n",
       "      <td>...</td>\n",
       "      <td>64.0</td>\n",
       "      <td>69.0</td>\n",
       "      <td>34.0</td>\n",
       "      <td>15.0</td>\n",
       "      <td>12.0</td>\n",
       "      <td>6.0</td>\n",
       "      <td>43.0</td>\n",
       "      <td>66.0</td>\n",
       "      <td>71.0</td>\n",
       "      <td>85.0</td>\n",
       "    </tr>\n",
       "    <tr>\n",
       "      <th>2018-03-08 02:00:00</th>\n",
       "      <td>65</td>\n",
       "      <td>3</td>\n",
       "      <td>2</td>\n",
       "      <td>54.297619</td>\n",
       "      <td>78.0</td>\n",
       "      <td>143.0</td>\n",
       "      <td>94.0</td>\n",
       "      <td>127.0</td>\n",
       "      <td>108.0</td>\n",
       "      <td>76.0</td>\n",
       "      <td>...</td>\n",
       "      <td>96.0</td>\n",
       "      <td>64.0</td>\n",
       "      <td>69.0</td>\n",
       "      <td>34.0</td>\n",
       "      <td>15.0</td>\n",
       "      <td>12.0</td>\n",
       "      <td>6.0</td>\n",
       "      <td>43.0</td>\n",
       "      <td>66.0</td>\n",
       "      <td>71.0</td>\n",
       "    </tr>\n",
       "    <tr>\n",
       "      <th>2018-03-08 03:00:00</th>\n",
       "      <td>68</td>\n",
       "      <td>3</td>\n",
       "      <td>3</td>\n",
       "      <td>54.261905</td>\n",
       "      <td>65.0</td>\n",
       "      <td>78.0</td>\n",
       "      <td>143.0</td>\n",
       "      <td>94.0</td>\n",
       "      <td>127.0</td>\n",
       "      <td>108.0</td>\n",
       "      <td>...</td>\n",
       "      <td>30.0</td>\n",
       "      <td>96.0</td>\n",
       "      <td>64.0</td>\n",
       "      <td>69.0</td>\n",
       "      <td>34.0</td>\n",
       "      <td>15.0</td>\n",
       "      <td>12.0</td>\n",
       "      <td>6.0</td>\n",
       "      <td>43.0</td>\n",
       "      <td>66.0</td>\n",
       "    </tr>\n",
       "    <tr>\n",
       "      <th>2018-03-08 04:00:00</th>\n",
       "      <td>60</td>\n",
       "      <td>3</td>\n",
       "      <td>4</td>\n",
       "      <td>54.273810</td>\n",
       "      <td>68.0</td>\n",
       "      <td>65.0</td>\n",
       "      <td>78.0</td>\n",
       "      <td>143.0</td>\n",
       "      <td>94.0</td>\n",
       "      <td>127.0</td>\n",
       "      <td>...</td>\n",
       "      <td>32.0</td>\n",
       "      <td>30.0</td>\n",
       "      <td>96.0</td>\n",
       "      <td>64.0</td>\n",
       "      <td>69.0</td>\n",
       "      <td>34.0</td>\n",
       "      <td>15.0</td>\n",
       "      <td>12.0</td>\n",
       "      <td>6.0</td>\n",
       "      <td>43.0</td>\n",
       "    </tr>\n",
       "  </tbody>\n",
       "</table>\n",
       "<p>5 rows × 172 columns</p>\n",
       "</div>"
      ],
      "text/plain": [
       "                     num_orders  dayofweek  hour  rolling_mean  lag_1  lag_2  \\\n",
       "datetime                                                                       \n",
       "2018-03-08 00:00:00         143          3     0     54.226190   94.0  127.0   \n",
       "2018-03-08 01:00:00          78          3     1     54.339286  143.0   94.0   \n",
       "2018-03-08 02:00:00          65          3     2     54.297619   78.0  143.0   \n",
       "2018-03-08 03:00:00          68          3     3     54.261905   65.0   78.0   \n",
       "2018-03-08 04:00:00          60          3     4     54.273810   68.0   65.0   \n",
       "\n",
       "                     lag_3  lag_4  lag_5  lag_6  ...  lag_159  lag_160  \\\n",
       "datetime                                         ...                     \n",
       "2018-03-08 00:00:00  108.0   76.0   50.0   99.0  ...     69.0     34.0   \n",
       "2018-03-08 01:00:00  127.0  108.0   76.0   50.0  ...     64.0     69.0   \n",
       "2018-03-08 02:00:00   94.0  127.0  108.0   76.0  ...     96.0     64.0   \n",
       "2018-03-08 03:00:00  143.0   94.0  127.0  108.0  ...     30.0     96.0   \n",
       "2018-03-08 04:00:00   78.0  143.0   94.0  127.0  ...     32.0     30.0   \n",
       "\n",
       "                     lag_161  lag_162  lag_163  lag_164  lag_165  lag_166  \\\n",
       "datetime                                                                    \n",
       "2018-03-08 00:00:00     15.0     12.0      6.0     43.0     66.0     71.0   \n",
       "2018-03-08 01:00:00     34.0     15.0     12.0      6.0     43.0     66.0   \n",
       "2018-03-08 02:00:00     69.0     34.0     15.0     12.0      6.0     43.0   \n",
       "2018-03-08 03:00:00     64.0     69.0     34.0     15.0     12.0      6.0   \n",
       "2018-03-08 04:00:00     96.0     64.0     69.0     34.0     15.0     12.0   \n",
       "\n",
       "                     lag_167  lag_168  \n",
       "datetime                               \n",
       "2018-03-08 00:00:00     85.0    124.0  \n",
       "2018-03-08 01:00:00     71.0     85.0  \n",
       "2018-03-08 02:00:00     66.0     71.0  \n",
       "2018-03-08 03:00:00     43.0     66.0  \n",
       "2018-03-08 04:00:00      6.0     43.0  \n",
       "\n",
       "[5 rows x 172 columns]"
      ]
     },
     "execution_count": 34,
     "metadata": {},
     "output_type": "execute_result"
    }
   ],
   "source": [
    "df.head()"
   ]
  },
  {
   "cell_type": "code",
   "execution_count": 35,
   "id": "ab85f7c6",
   "metadata": {},
   "outputs": [],
   "source": [
    "features = df.drop('num_orders', axis=1)\n",
    "# извлекём целевой признак\n",
    "target = df['num_orders']\n",
    "# отделим 20% данных для валидационной и тестовой выборки в совокупности, остальные 0% - это обучающая выборка \n",
    "features_train, features_valid_test, target_train, target_valid_test = \\\n",
    "train_test_split(features,target,shuffle=False,test_size=0.2,random_state=12345)\n",
    "# отделим теперь  50% для тестовой выборки и 50 % для валидационной выборки из валидационной8 и тестовой выборки в совокупности\n",
    "features_valid, features_test, target_valid, target_test =\\\n",
    "train_test_split(features_valid_test,target_valid_test,shuffle=False,test_size=0.5,random_state=12345)"
   ]
  },
  {
   "cell_type": "code",
   "execution_count": 36,
   "id": "beaa3cdb",
   "metadata": {},
   "outputs": [
    {
     "data": {
      "text/html": [
       "<div>\n",
       "<style scoped>\n",
       "    .dataframe tbody tr th:only-of-type {\n",
       "        vertical-align: middle;\n",
       "    }\n",
       "\n",
       "    .dataframe tbody tr th {\n",
       "        vertical-align: top;\n",
       "    }\n",
       "\n",
       "    .dataframe thead th {\n",
       "        text-align: right;\n",
       "    }\n",
       "</style>\n",
       "<table border=\"1\" class=\"dataframe\">\n",
       "  <thead>\n",
       "    <tr style=\"text-align: right;\">\n",
       "      <th></th>\n",
       "      <th>dayofweek</th>\n",
       "      <th>hour</th>\n",
       "      <th>rolling_mean</th>\n",
       "      <th>lag_1</th>\n",
       "      <th>lag_2</th>\n",
       "      <th>lag_3</th>\n",
       "      <th>lag_4</th>\n",
       "      <th>lag_5</th>\n",
       "      <th>lag_6</th>\n",
       "      <th>lag_7</th>\n",
       "      <th>...</th>\n",
       "      <th>lag_159</th>\n",
       "      <th>lag_160</th>\n",
       "      <th>lag_161</th>\n",
       "      <th>lag_162</th>\n",
       "      <th>lag_163</th>\n",
       "      <th>lag_164</th>\n",
       "      <th>lag_165</th>\n",
       "      <th>lag_166</th>\n",
       "      <th>lag_167</th>\n",
       "      <th>lag_168</th>\n",
       "    </tr>\n",
       "    <tr>\n",
       "      <th>datetime</th>\n",
       "      <th></th>\n",
       "      <th></th>\n",
       "      <th></th>\n",
       "      <th></th>\n",
       "      <th></th>\n",
       "      <th></th>\n",
       "      <th></th>\n",
       "      <th></th>\n",
       "      <th></th>\n",
       "      <th></th>\n",
       "      <th></th>\n",
       "      <th></th>\n",
       "      <th></th>\n",
       "      <th></th>\n",
       "      <th></th>\n",
       "      <th></th>\n",
       "      <th></th>\n",
       "      <th></th>\n",
       "      <th></th>\n",
       "      <th></th>\n",
       "      <th></th>\n",
       "    </tr>\n",
       "  </thead>\n",
       "  <tbody>\n",
       "    <tr>\n",
       "      <th>2018-03-08 00:00:00</th>\n",
       "      <td>3</td>\n",
       "      <td>0</td>\n",
       "      <td>54.226190</td>\n",
       "      <td>94.0</td>\n",
       "      <td>127.0</td>\n",
       "      <td>108.0</td>\n",
       "      <td>76.0</td>\n",
       "      <td>50.0</td>\n",
       "      <td>99.0</td>\n",
       "      <td>48.0</td>\n",
       "      <td>...</td>\n",
       "      <td>69.0</td>\n",
       "      <td>34.0</td>\n",
       "      <td>15.0</td>\n",
       "      <td>12.0</td>\n",
       "      <td>6.0</td>\n",
       "      <td>43.0</td>\n",
       "      <td>66.0</td>\n",
       "      <td>71.0</td>\n",
       "      <td>85.0</td>\n",
       "      <td>124.0</td>\n",
       "    </tr>\n",
       "    <tr>\n",
       "      <th>2018-03-08 01:00:00</th>\n",
       "      <td>3</td>\n",
       "      <td>1</td>\n",
       "      <td>54.339286</td>\n",
       "      <td>143.0</td>\n",
       "      <td>94.0</td>\n",
       "      <td>127.0</td>\n",
       "      <td>108.0</td>\n",
       "      <td>76.0</td>\n",
       "      <td>50.0</td>\n",
       "      <td>99.0</td>\n",
       "      <td>...</td>\n",
       "      <td>64.0</td>\n",
       "      <td>69.0</td>\n",
       "      <td>34.0</td>\n",
       "      <td>15.0</td>\n",
       "      <td>12.0</td>\n",
       "      <td>6.0</td>\n",
       "      <td>43.0</td>\n",
       "      <td>66.0</td>\n",
       "      <td>71.0</td>\n",
       "      <td>85.0</td>\n",
       "    </tr>\n",
       "    <tr>\n",
       "      <th>2018-03-08 02:00:00</th>\n",
       "      <td>3</td>\n",
       "      <td>2</td>\n",
       "      <td>54.297619</td>\n",
       "      <td>78.0</td>\n",
       "      <td>143.0</td>\n",
       "      <td>94.0</td>\n",
       "      <td>127.0</td>\n",
       "      <td>108.0</td>\n",
       "      <td>76.0</td>\n",
       "      <td>50.0</td>\n",
       "      <td>...</td>\n",
       "      <td>96.0</td>\n",
       "      <td>64.0</td>\n",
       "      <td>69.0</td>\n",
       "      <td>34.0</td>\n",
       "      <td>15.0</td>\n",
       "      <td>12.0</td>\n",
       "      <td>6.0</td>\n",
       "      <td>43.0</td>\n",
       "      <td>66.0</td>\n",
       "      <td>71.0</td>\n",
       "    </tr>\n",
       "    <tr>\n",
       "      <th>2018-03-08 03:00:00</th>\n",
       "      <td>3</td>\n",
       "      <td>3</td>\n",
       "      <td>54.261905</td>\n",
       "      <td>65.0</td>\n",
       "      <td>78.0</td>\n",
       "      <td>143.0</td>\n",
       "      <td>94.0</td>\n",
       "      <td>127.0</td>\n",
       "      <td>108.0</td>\n",
       "      <td>76.0</td>\n",
       "      <td>...</td>\n",
       "      <td>30.0</td>\n",
       "      <td>96.0</td>\n",
       "      <td>64.0</td>\n",
       "      <td>69.0</td>\n",
       "      <td>34.0</td>\n",
       "      <td>15.0</td>\n",
       "      <td>12.0</td>\n",
       "      <td>6.0</td>\n",
       "      <td>43.0</td>\n",
       "      <td>66.0</td>\n",
       "    </tr>\n",
       "    <tr>\n",
       "      <th>2018-03-08 04:00:00</th>\n",
       "      <td>3</td>\n",
       "      <td>4</td>\n",
       "      <td>54.273810</td>\n",
       "      <td>68.0</td>\n",
       "      <td>65.0</td>\n",
       "      <td>78.0</td>\n",
       "      <td>143.0</td>\n",
       "      <td>94.0</td>\n",
       "      <td>127.0</td>\n",
       "      <td>108.0</td>\n",
       "      <td>...</td>\n",
       "      <td>32.0</td>\n",
       "      <td>30.0</td>\n",
       "      <td>96.0</td>\n",
       "      <td>64.0</td>\n",
       "      <td>69.0</td>\n",
       "      <td>34.0</td>\n",
       "      <td>15.0</td>\n",
       "      <td>12.0</td>\n",
       "      <td>6.0</td>\n",
       "      <td>43.0</td>\n",
       "    </tr>\n",
       "    <tr>\n",
       "      <th>...</th>\n",
       "      <td>...</td>\n",
       "      <td>...</td>\n",
       "      <td>...</td>\n",
       "      <td>...</td>\n",
       "      <td>...</td>\n",
       "      <td>...</td>\n",
       "      <td>...</td>\n",
       "      <td>...</td>\n",
       "      <td>...</td>\n",
       "      <td>...</td>\n",
       "      <td>...</td>\n",
       "      <td>...</td>\n",
       "      <td>...</td>\n",
       "      <td>...</td>\n",
       "      <td>...</td>\n",
       "      <td>...</td>\n",
       "      <td>...</td>\n",
       "      <td>...</td>\n",
       "      <td>...</td>\n",
       "      <td>...</td>\n",
       "      <td>...</td>\n",
       "    </tr>\n",
       "    <tr>\n",
       "      <th>2018-07-27 09:00:00</th>\n",
       "      <td>4</td>\n",
       "      <td>9</td>\n",
       "      <td>104.595238</td>\n",
       "      <td>89.0</td>\n",
       "      <td>44.0</td>\n",
       "      <td>78.0</td>\n",
       "      <td>64.0</td>\n",
       "      <td>109.0</td>\n",
       "      <td>131.0</td>\n",
       "      <td>161.0</td>\n",
       "      <td>...</td>\n",
       "      <td>108.0</td>\n",
       "      <td>143.0</td>\n",
       "      <td>121.0</td>\n",
       "      <td>67.0</td>\n",
       "      <td>98.0</td>\n",
       "      <td>105.0</td>\n",
       "      <td>92.0</td>\n",
       "      <td>110.0</td>\n",
       "      <td>137.0</td>\n",
       "      <td>137.0</td>\n",
       "    </tr>\n",
       "    <tr>\n",
       "      <th>2018-07-27 10:00:00</th>\n",
       "      <td>4</td>\n",
       "      <td>10</td>\n",
       "      <td>104.607143</td>\n",
       "      <td>139.0</td>\n",
       "      <td>89.0</td>\n",
       "      <td>44.0</td>\n",
       "      <td>78.0</td>\n",
       "      <td>64.0</td>\n",
       "      <td>109.0</td>\n",
       "      <td>131.0</td>\n",
       "      <td>...</td>\n",
       "      <td>64.0</td>\n",
       "      <td>108.0</td>\n",
       "      <td>143.0</td>\n",
       "      <td>121.0</td>\n",
       "      <td>67.0</td>\n",
       "      <td>98.0</td>\n",
       "      <td>105.0</td>\n",
       "      <td>92.0</td>\n",
       "      <td>110.0</td>\n",
       "      <td>137.0</td>\n",
       "    </tr>\n",
       "    <tr>\n",
       "      <th>2018-07-27 11:00:00</th>\n",
       "      <td>4</td>\n",
       "      <td>11</td>\n",
       "      <td>104.678571</td>\n",
       "      <td>149.0</td>\n",
       "      <td>139.0</td>\n",
       "      <td>89.0</td>\n",
       "      <td>44.0</td>\n",
       "      <td>78.0</td>\n",
       "      <td>64.0</td>\n",
       "      <td>109.0</td>\n",
       "      <td>...</td>\n",
       "      <td>135.0</td>\n",
       "      <td>64.0</td>\n",
       "      <td>108.0</td>\n",
       "      <td>143.0</td>\n",
       "      <td>121.0</td>\n",
       "      <td>67.0</td>\n",
       "      <td>98.0</td>\n",
       "      <td>105.0</td>\n",
       "      <td>92.0</td>\n",
       "      <td>110.0</td>\n",
       "    </tr>\n",
       "    <tr>\n",
       "      <th>2018-07-27 12:00:00</th>\n",
       "      <td>4</td>\n",
       "      <td>12</td>\n",
       "      <td>104.678571</td>\n",
       "      <td>110.0</td>\n",
       "      <td>149.0</td>\n",
       "      <td>139.0</td>\n",
       "      <td>89.0</td>\n",
       "      <td>44.0</td>\n",
       "      <td>78.0</td>\n",
       "      <td>64.0</td>\n",
       "      <td>...</td>\n",
       "      <td>115.0</td>\n",
       "      <td>135.0</td>\n",
       "      <td>64.0</td>\n",
       "      <td>108.0</td>\n",
       "      <td>143.0</td>\n",
       "      <td>121.0</td>\n",
       "      <td>67.0</td>\n",
       "      <td>98.0</td>\n",
       "      <td>105.0</td>\n",
       "      <td>92.0</td>\n",
       "    </tr>\n",
       "    <tr>\n",
       "      <th>2018-07-27 13:00:00</th>\n",
       "      <td>4</td>\n",
       "      <td>13</td>\n",
       "      <td>104.833333</td>\n",
       "      <td>118.0</td>\n",
       "      <td>110.0</td>\n",
       "      <td>149.0</td>\n",
       "      <td>139.0</td>\n",
       "      <td>89.0</td>\n",
       "      <td>44.0</td>\n",
       "      <td>78.0</td>\n",
       "      <td>...</td>\n",
       "      <td>148.0</td>\n",
       "      <td>115.0</td>\n",
       "      <td>135.0</td>\n",
       "      <td>64.0</td>\n",
       "      <td>108.0</td>\n",
       "      <td>143.0</td>\n",
       "      <td>121.0</td>\n",
       "      <td>67.0</td>\n",
       "      <td>98.0</td>\n",
       "      <td>105.0</td>\n",
       "    </tr>\n",
       "  </tbody>\n",
       "</table>\n",
       "<p>3398 rows × 171 columns</p>\n",
       "</div>"
      ],
      "text/plain": [
       "                     dayofweek  hour  rolling_mean  lag_1  lag_2  lag_3  \\\n",
       "datetime                                                                  \n",
       "2018-03-08 00:00:00          3     0     54.226190   94.0  127.0  108.0   \n",
       "2018-03-08 01:00:00          3     1     54.339286  143.0   94.0  127.0   \n",
       "2018-03-08 02:00:00          3     2     54.297619   78.0  143.0   94.0   \n",
       "2018-03-08 03:00:00          3     3     54.261905   65.0   78.0  143.0   \n",
       "2018-03-08 04:00:00          3     4     54.273810   68.0   65.0   78.0   \n",
       "...                        ...   ...           ...    ...    ...    ...   \n",
       "2018-07-27 09:00:00          4     9    104.595238   89.0   44.0   78.0   \n",
       "2018-07-27 10:00:00          4    10    104.607143  139.0   89.0   44.0   \n",
       "2018-07-27 11:00:00          4    11    104.678571  149.0  139.0   89.0   \n",
       "2018-07-27 12:00:00          4    12    104.678571  110.0  149.0  139.0   \n",
       "2018-07-27 13:00:00          4    13    104.833333  118.0  110.0  149.0   \n",
       "\n",
       "                     lag_4  lag_5  lag_6  lag_7  ...  lag_159  lag_160  \\\n",
       "datetime                                         ...                     \n",
       "2018-03-08 00:00:00   76.0   50.0   99.0   48.0  ...     69.0     34.0   \n",
       "2018-03-08 01:00:00  108.0   76.0   50.0   99.0  ...     64.0     69.0   \n",
       "2018-03-08 02:00:00  127.0  108.0   76.0   50.0  ...     96.0     64.0   \n",
       "2018-03-08 03:00:00   94.0  127.0  108.0   76.0  ...     30.0     96.0   \n",
       "2018-03-08 04:00:00  143.0   94.0  127.0  108.0  ...     32.0     30.0   \n",
       "...                    ...    ...    ...    ...  ...      ...      ...   \n",
       "2018-07-27 09:00:00   64.0  109.0  131.0  161.0  ...    108.0    143.0   \n",
       "2018-07-27 10:00:00   78.0   64.0  109.0  131.0  ...     64.0    108.0   \n",
       "2018-07-27 11:00:00   44.0   78.0   64.0  109.0  ...    135.0     64.0   \n",
       "2018-07-27 12:00:00   89.0   44.0   78.0   64.0  ...    115.0    135.0   \n",
       "2018-07-27 13:00:00  139.0   89.0   44.0   78.0  ...    148.0    115.0   \n",
       "\n",
       "                     lag_161  lag_162  lag_163  lag_164  lag_165  lag_166  \\\n",
       "datetime                                                                    \n",
       "2018-03-08 00:00:00     15.0     12.0      6.0     43.0     66.0     71.0   \n",
       "2018-03-08 01:00:00     34.0     15.0     12.0      6.0     43.0     66.0   \n",
       "2018-03-08 02:00:00     69.0     34.0     15.0     12.0      6.0     43.0   \n",
       "2018-03-08 03:00:00     64.0     69.0     34.0     15.0     12.0      6.0   \n",
       "2018-03-08 04:00:00     96.0     64.0     69.0     34.0     15.0     12.0   \n",
       "...                      ...      ...      ...      ...      ...      ...   \n",
       "2018-07-27 09:00:00    121.0     67.0     98.0    105.0     92.0    110.0   \n",
       "2018-07-27 10:00:00    143.0    121.0     67.0     98.0    105.0     92.0   \n",
       "2018-07-27 11:00:00    108.0    143.0    121.0     67.0     98.0    105.0   \n",
       "2018-07-27 12:00:00     64.0    108.0    143.0    121.0     67.0     98.0   \n",
       "2018-07-27 13:00:00    135.0     64.0    108.0    143.0    121.0     67.0   \n",
       "\n",
       "                     lag_167  lag_168  \n",
       "datetime                               \n",
       "2018-03-08 00:00:00     85.0    124.0  \n",
       "2018-03-08 01:00:00     71.0     85.0  \n",
       "2018-03-08 02:00:00     66.0     71.0  \n",
       "2018-03-08 03:00:00     43.0     66.0  \n",
       "2018-03-08 04:00:00      6.0     43.0  \n",
       "...                      ...      ...  \n",
       "2018-07-27 09:00:00    137.0    137.0  \n",
       "2018-07-27 10:00:00    110.0    137.0  \n",
       "2018-07-27 11:00:00     92.0    110.0  \n",
       "2018-07-27 12:00:00    105.0     92.0  \n",
       "2018-07-27 13:00:00     98.0    105.0  \n",
       "\n",
       "[3398 rows x 171 columns]"
      ]
     },
     "execution_count": 36,
     "metadata": {},
     "output_type": "execute_result"
    }
   ],
   "source": [
    "features_train"
   ]
  },
  {
   "cell_type": "code",
   "execution_count": 37,
   "id": "8097976d",
   "metadata": {},
   "outputs": [
    {
     "data": {
      "text/html": [
       "<div>\n",
       "<style scoped>\n",
       "    .dataframe tbody tr th:only-of-type {\n",
       "        vertical-align: middle;\n",
       "    }\n",
       "\n",
       "    .dataframe tbody tr th {\n",
       "        vertical-align: top;\n",
       "    }\n",
       "\n",
       "    .dataframe thead th {\n",
       "        text-align: right;\n",
       "    }\n",
       "</style>\n",
       "<table border=\"1\" class=\"dataframe\">\n",
       "  <thead>\n",
       "    <tr style=\"text-align: right;\">\n",
       "      <th></th>\n",
       "      <th>dayofweek</th>\n",
       "      <th>hour</th>\n",
       "      <th>rolling_mean</th>\n",
       "      <th>lag_1</th>\n",
       "      <th>lag_2</th>\n",
       "      <th>lag_3</th>\n",
       "      <th>lag_4</th>\n",
       "      <th>lag_5</th>\n",
       "      <th>lag_6</th>\n",
       "      <th>lag_7</th>\n",
       "      <th>...</th>\n",
       "      <th>lag_159</th>\n",
       "      <th>lag_160</th>\n",
       "      <th>lag_161</th>\n",
       "      <th>lag_162</th>\n",
       "      <th>lag_163</th>\n",
       "      <th>lag_164</th>\n",
       "      <th>lag_165</th>\n",
       "      <th>lag_166</th>\n",
       "      <th>lag_167</th>\n",
       "      <th>lag_168</th>\n",
       "    </tr>\n",
       "    <tr>\n",
       "      <th>datetime</th>\n",
       "      <th></th>\n",
       "      <th></th>\n",
       "      <th></th>\n",
       "      <th></th>\n",
       "      <th></th>\n",
       "      <th></th>\n",
       "      <th></th>\n",
       "      <th></th>\n",
       "      <th></th>\n",
       "      <th></th>\n",
       "      <th></th>\n",
       "      <th></th>\n",
       "      <th></th>\n",
       "      <th></th>\n",
       "      <th></th>\n",
       "      <th></th>\n",
       "      <th></th>\n",
       "      <th></th>\n",
       "      <th></th>\n",
       "      <th></th>\n",
       "      <th></th>\n",
       "    </tr>\n",
       "  </thead>\n",
       "  <tbody>\n",
       "    <tr>\n",
       "      <th>2018-07-27 14:00:00</th>\n",
       "      <td>4</td>\n",
       "      <td>14</td>\n",
       "      <td>105.065476</td>\n",
       "      <td>144.0</td>\n",
       "      <td>118.0</td>\n",
       "      <td>110.0</td>\n",
       "      <td>149.0</td>\n",
       "      <td>139.0</td>\n",
       "      <td>89.0</td>\n",
       "      <td>44.0</td>\n",
       "      <td>...</td>\n",
       "      <td>168.0</td>\n",
       "      <td>148.0</td>\n",
       "      <td>115.0</td>\n",
       "      <td>135.0</td>\n",
       "      <td>64.0</td>\n",
       "      <td>108.0</td>\n",
       "      <td>143.0</td>\n",
       "      <td>121.0</td>\n",
       "      <td>67.0</td>\n",
       "      <td>98.0</td>\n",
       "    </tr>\n",
       "    <tr>\n",
       "      <th>2018-07-27 15:00:00</th>\n",
       "      <td>4</td>\n",
       "      <td>15</td>\n",
       "      <td>104.845238</td>\n",
       "      <td>61.0</td>\n",
       "      <td>144.0</td>\n",
       "      <td>118.0</td>\n",
       "      <td>110.0</td>\n",
       "      <td>149.0</td>\n",
       "      <td>139.0</td>\n",
       "      <td>89.0</td>\n",
       "      <td>...</td>\n",
       "      <td>148.0</td>\n",
       "      <td>168.0</td>\n",
       "      <td>148.0</td>\n",
       "      <td>115.0</td>\n",
       "      <td>135.0</td>\n",
       "      <td>64.0</td>\n",
       "      <td>108.0</td>\n",
       "      <td>143.0</td>\n",
       "      <td>121.0</td>\n",
       "      <td>67.0</td>\n",
       "    </tr>\n",
       "    <tr>\n",
       "      <th>2018-07-27 16:00:00</th>\n",
       "      <td>4</td>\n",
       "      <td>16</td>\n",
       "      <td>105.119048</td>\n",
       "      <td>113.0</td>\n",
       "      <td>61.0</td>\n",
       "      <td>144.0</td>\n",
       "      <td>118.0</td>\n",
       "      <td>110.0</td>\n",
       "      <td>149.0</td>\n",
       "      <td>139.0</td>\n",
       "      <td>...</td>\n",
       "      <td>176.0</td>\n",
       "      <td>148.0</td>\n",
       "      <td>168.0</td>\n",
       "      <td>148.0</td>\n",
       "      <td>115.0</td>\n",
       "      <td>135.0</td>\n",
       "      <td>64.0</td>\n",
       "      <td>108.0</td>\n",
       "      <td>143.0</td>\n",
       "      <td>121.0</td>\n",
       "    </tr>\n",
       "    <tr>\n",
       "      <th>2018-07-27 17:00:00</th>\n",
       "      <td>4</td>\n",
       "      <td>17</td>\n",
       "      <td>105.363095</td>\n",
       "      <td>162.0</td>\n",
       "      <td>113.0</td>\n",
       "      <td>61.0</td>\n",
       "      <td>144.0</td>\n",
       "      <td>118.0</td>\n",
       "      <td>110.0</td>\n",
       "      <td>149.0</td>\n",
       "      <td>...</td>\n",
       "      <td>109.0</td>\n",
       "      <td>176.0</td>\n",
       "      <td>148.0</td>\n",
       "      <td>168.0</td>\n",
       "      <td>148.0</td>\n",
       "      <td>115.0</td>\n",
       "      <td>135.0</td>\n",
       "      <td>64.0</td>\n",
       "      <td>108.0</td>\n",
       "      <td>143.0</td>\n",
       "    </tr>\n",
       "    <tr>\n",
       "      <th>2018-07-27 18:00:00</th>\n",
       "      <td>4</td>\n",
       "      <td>18</td>\n",
       "      <td>105.464286</td>\n",
       "      <td>160.0</td>\n",
       "      <td>162.0</td>\n",
       "      <td>113.0</td>\n",
       "      <td>61.0</td>\n",
       "      <td>144.0</td>\n",
       "      <td>118.0</td>\n",
       "      <td>110.0</td>\n",
       "      <td>...</td>\n",
       "      <td>171.0</td>\n",
       "      <td>109.0</td>\n",
       "      <td>176.0</td>\n",
       "      <td>148.0</td>\n",
       "      <td>168.0</td>\n",
       "      <td>148.0</td>\n",
       "      <td>115.0</td>\n",
       "      <td>135.0</td>\n",
       "      <td>64.0</td>\n",
       "      <td>108.0</td>\n",
       "    </tr>\n",
       "    <tr>\n",
       "      <th>...</th>\n",
       "      <td>...</td>\n",
       "      <td>...</td>\n",
       "      <td>...</td>\n",
       "      <td>...</td>\n",
       "      <td>...</td>\n",
       "      <td>...</td>\n",
       "      <td>...</td>\n",
       "      <td>...</td>\n",
       "      <td>...</td>\n",
       "      <td>...</td>\n",
       "      <td>...</td>\n",
       "      <td>...</td>\n",
       "      <td>...</td>\n",
       "      <td>...</td>\n",
       "      <td>...</td>\n",
       "      <td>...</td>\n",
       "      <td>...</td>\n",
       "      <td>...</td>\n",
       "      <td>...</td>\n",
       "      <td>...</td>\n",
       "      <td>...</td>\n",
       "    </tr>\n",
       "    <tr>\n",
       "      <th>2018-08-14 02:00:00</th>\n",
       "      <td>1</td>\n",
       "      <td>2</td>\n",
       "      <td>115.613095</td>\n",
       "      <td>231.0</td>\n",
       "      <td>139.0</td>\n",
       "      <td>134.0</td>\n",
       "      <td>104.0</td>\n",
       "      <td>160.0</td>\n",
       "      <td>82.0</td>\n",
       "      <td>91.0</td>\n",
       "      <td>...</td>\n",
       "      <td>71.0</td>\n",
       "      <td>99.0</td>\n",
       "      <td>120.0</td>\n",
       "      <td>79.0</td>\n",
       "      <td>44.0</td>\n",
       "      <td>46.0</td>\n",
       "      <td>50.0</td>\n",
       "      <td>108.0</td>\n",
       "      <td>121.0</td>\n",
       "      <td>125.0</td>\n",
       "    </tr>\n",
       "    <tr>\n",
       "      <th>2018-08-14 03:00:00</th>\n",
       "      <td>1</td>\n",
       "      <td>3</td>\n",
       "      <td>115.511905</td>\n",
       "      <td>108.0</td>\n",
       "      <td>231.0</td>\n",
       "      <td>139.0</td>\n",
       "      <td>134.0</td>\n",
       "      <td>104.0</td>\n",
       "      <td>160.0</td>\n",
       "      <td>82.0</td>\n",
       "      <td>...</td>\n",
       "      <td>115.0</td>\n",
       "      <td>71.0</td>\n",
       "      <td>99.0</td>\n",
       "      <td>120.0</td>\n",
       "      <td>79.0</td>\n",
       "      <td>44.0</td>\n",
       "      <td>46.0</td>\n",
       "      <td>50.0</td>\n",
       "      <td>108.0</td>\n",
       "      <td>121.0</td>\n",
       "    </tr>\n",
       "    <tr>\n",
       "      <th>2018-08-14 04:00:00</th>\n",
       "      <td>1</td>\n",
       "      <td>4</td>\n",
       "      <td>115.922619</td>\n",
       "      <td>190.0</td>\n",
       "      <td>108.0</td>\n",
       "      <td>231.0</td>\n",
       "      <td>139.0</td>\n",
       "      <td>134.0</td>\n",
       "      <td>104.0</td>\n",
       "      <td>160.0</td>\n",
       "      <td>...</td>\n",
       "      <td>100.0</td>\n",
       "      <td>115.0</td>\n",
       "      <td>71.0</td>\n",
       "      <td>99.0</td>\n",
       "      <td>120.0</td>\n",
       "      <td>79.0</td>\n",
       "      <td>44.0</td>\n",
       "      <td>46.0</td>\n",
       "      <td>50.0</td>\n",
       "      <td>108.0</td>\n",
       "    </tr>\n",
       "    <tr>\n",
       "      <th>2018-08-14 05:00:00</th>\n",
       "      <td>1</td>\n",
       "      <td>5</td>\n",
       "      <td>116.107143</td>\n",
       "      <td>139.0</td>\n",
       "      <td>190.0</td>\n",
       "      <td>108.0</td>\n",
       "      <td>231.0</td>\n",
       "      <td>139.0</td>\n",
       "      <td>134.0</td>\n",
       "      <td>104.0</td>\n",
       "      <td>...</td>\n",
       "      <td>74.0</td>\n",
       "      <td>100.0</td>\n",
       "      <td>115.0</td>\n",
       "      <td>71.0</td>\n",
       "      <td>99.0</td>\n",
       "      <td>120.0</td>\n",
       "      <td>79.0</td>\n",
       "      <td>44.0</td>\n",
       "      <td>46.0</td>\n",
       "      <td>50.0</td>\n",
       "    </tr>\n",
       "    <tr>\n",
       "      <th>2018-08-14 06:00:00</th>\n",
       "      <td>1</td>\n",
       "      <td>6</td>\n",
       "      <td>116.089286</td>\n",
       "      <td>47.0</td>\n",
       "      <td>139.0</td>\n",
       "      <td>190.0</td>\n",
       "      <td>108.0</td>\n",
       "      <td>231.0</td>\n",
       "      <td>139.0</td>\n",
       "      <td>134.0</td>\n",
       "      <td>...</td>\n",
       "      <td>111.0</td>\n",
       "      <td>74.0</td>\n",
       "      <td>100.0</td>\n",
       "      <td>115.0</td>\n",
       "      <td>71.0</td>\n",
       "      <td>99.0</td>\n",
       "      <td>120.0</td>\n",
       "      <td>79.0</td>\n",
       "      <td>44.0</td>\n",
       "      <td>46.0</td>\n",
       "    </tr>\n",
       "  </tbody>\n",
       "</table>\n",
       "<p>425 rows × 171 columns</p>\n",
       "</div>"
      ],
      "text/plain": [
       "                     dayofweek  hour  rolling_mean  lag_1  lag_2  lag_3  \\\n",
       "datetime                                                                  \n",
       "2018-07-27 14:00:00          4    14    105.065476  144.0  118.0  110.0   \n",
       "2018-07-27 15:00:00          4    15    104.845238   61.0  144.0  118.0   \n",
       "2018-07-27 16:00:00          4    16    105.119048  113.0   61.0  144.0   \n",
       "2018-07-27 17:00:00          4    17    105.363095  162.0  113.0   61.0   \n",
       "2018-07-27 18:00:00          4    18    105.464286  160.0  162.0  113.0   \n",
       "...                        ...   ...           ...    ...    ...    ...   \n",
       "2018-08-14 02:00:00          1     2    115.613095  231.0  139.0  134.0   \n",
       "2018-08-14 03:00:00          1     3    115.511905  108.0  231.0  139.0   \n",
       "2018-08-14 04:00:00          1     4    115.922619  190.0  108.0  231.0   \n",
       "2018-08-14 05:00:00          1     5    116.107143  139.0  190.0  108.0   \n",
       "2018-08-14 06:00:00          1     6    116.089286   47.0  139.0  190.0   \n",
       "\n",
       "                     lag_4  lag_5  lag_6  lag_7  ...  lag_159  lag_160  \\\n",
       "datetime                                         ...                     \n",
       "2018-07-27 14:00:00  149.0  139.0   89.0   44.0  ...    168.0    148.0   \n",
       "2018-07-27 15:00:00  110.0  149.0  139.0   89.0  ...    148.0    168.0   \n",
       "2018-07-27 16:00:00  118.0  110.0  149.0  139.0  ...    176.0    148.0   \n",
       "2018-07-27 17:00:00  144.0  118.0  110.0  149.0  ...    109.0    176.0   \n",
       "2018-07-27 18:00:00   61.0  144.0  118.0  110.0  ...    171.0    109.0   \n",
       "...                    ...    ...    ...    ...  ...      ...      ...   \n",
       "2018-08-14 02:00:00  104.0  160.0   82.0   91.0  ...     71.0     99.0   \n",
       "2018-08-14 03:00:00  134.0  104.0  160.0   82.0  ...    115.0     71.0   \n",
       "2018-08-14 04:00:00  139.0  134.0  104.0  160.0  ...    100.0    115.0   \n",
       "2018-08-14 05:00:00  231.0  139.0  134.0  104.0  ...     74.0    100.0   \n",
       "2018-08-14 06:00:00  108.0  231.0  139.0  134.0  ...    111.0     74.0   \n",
       "\n",
       "                     lag_161  lag_162  lag_163  lag_164  lag_165  lag_166  \\\n",
       "datetime                                                                    \n",
       "2018-07-27 14:00:00    115.0    135.0     64.0    108.0    143.0    121.0   \n",
       "2018-07-27 15:00:00    148.0    115.0    135.0     64.0    108.0    143.0   \n",
       "2018-07-27 16:00:00    168.0    148.0    115.0    135.0     64.0    108.0   \n",
       "2018-07-27 17:00:00    148.0    168.0    148.0    115.0    135.0     64.0   \n",
       "2018-07-27 18:00:00    176.0    148.0    168.0    148.0    115.0    135.0   \n",
       "...                      ...      ...      ...      ...      ...      ...   \n",
       "2018-08-14 02:00:00    120.0     79.0     44.0     46.0     50.0    108.0   \n",
       "2018-08-14 03:00:00     99.0    120.0     79.0     44.0     46.0     50.0   \n",
       "2018-08-14 04:00:00     71.0     99.0    120.0     79.0     44.0     46.0   \n",
       "2018-08-14 05:00:00    115.0     71.0     99.0    120.0     79.0     44.0   \n",
       "2018-08-14 06:00:00    100.0    115.0     71.0     99.0    120.0     79.0   \n",
       "\n",
       "                     lag_167  lag_168  \n",
       "datetime                               \n",
       "2018-07-27 14:00:00     67.0     98.0  \n",
       "2018-07-27 15:00:00    121.0     67.0  \n",
       "2018-07-27 16:00:00    143.0    121.0  \n",
       "2018-07-27 17:00:00    108.0    143.0  \n",
       "2018-07-27 18:00:00     64.0    108.0  \n",
       "...                      ...      ...  \n",
       "2018-08-14 02:00:00    121.0    125.0  \n",
       "2018-08-14 03:00:00    108.0    121.0  \n",
       "2018-08-14 04:00:00     50.0    108.0  \n",
       "2018-08-14 05:00:00     46.0     50.0  \n",
       "2018-08-14 06:00:00     44.0     46.0  \n",
       "\n",
       "[425 rows x 171 columns]"
      ]
     },
     "execution_count": 37,
     "metadata": {},
     "output_type": "execute_result"
    }
   ],
   "source": [
    "features_valid"
   ]
  },
  {
   "cell_type": "code",
   "execution_count": 38,
   "id": "4a62dc10",
   "metadata": {},
   "outputs": [
    {
     "data": {
      "text/html": [
       "<div>\n",
       "<style scoped>\n",
       "    .dataframe tbody tr th:only-of-type {\n",
       "        vertical-align: middle;\n",
       "    }\n",
       "\n",
       "    .dataframe tbody tr th {\n",
       "        vertical-align: top;\n",
       "    }\n",
       "\n",
       "    .dataframe thead th {\n",
       "        text-align: right;\n",
       "    }\n",
       "</style>\n",
       "<table border=\"1\" class=\"dataframe\">\n",
       "  <thead>\n",
       "    <tr style=\"text-align: right;\">\n",
       "      <th></th>\n",
       "      <th>dayofweek</th>\n",
       "      <th>hour</th>\n",
       "      <th>rolling_mean</th>\n",
       "      <th>lag_1</th>\n",
       "      <th>lag_2</th>\n",
       "      <th>lag_3</th>\n",
       "      <th>lag_4</th>\n",
       "      <th>lag_5</th>\n",
       "      <th>lag_6</th>\n",
       "      <th>lag_7</th>\n",
       "      <th>...</th>\n",
       "      <th>lag_159</th>\n",
       "      <th>lag_160</th>\n",
       "      <th>lag_161</th>\n",
       "      <th>lag_162</th>\n",
       "      <th>lag_163</th>\n",
       "      <th>lag_164</th>\n",
       "      <th>lag_165</th>\n",
       "      <th>lag_166</th>\n",
       "      <th>lag_167</th>\n",
       "      <th>lag_168</th>\n",
       "    </tr>\n",
       "    <tr>\n",
       "      <th>datetime</th>\n",
       "      <th></th>\n",
       "      <th></th>\n",
       "      <th></th>\n",
       "      <th></th>\n",
       "      <th></th>\n",
       "      <th></th>\n",
       "      <th></th>\n",
       "      <th></th>\n",
       "      <th></th>\n",
       "      <th></th>\n",
       "      <th></th>\n",
       "      <th></th>\n",
       "      <th></th>\n",
       "      <th></th>\n",
       "      <th></th>\n",
       "      <th></th>\n",
       "      <th></th>\n",
       "      <th></th>\n",
       "      <th></th>\n",
       "      <th></th>\n",
       "      <th></th>\n",
       "    </tr>\n",
       "  </thead>\n",
       "  <tbody>\n",
       "    <tr>\n",
       "      <th>2018-08-14 07:00:00</th>\n",
       "      <td>1</td>\n",
       "      <td>7</td>\n",
       "      <td>116.083333</td>\n",
       "      <td>45.0</td>\n",
       "      <td>47.0</td>\n",
       "      <td>139.0</td>\n",
       "      <td>190.0</td>\n",
       "      <td>108.0</td>\n",
       "      <td>231.0</td>\n",
       "      <td>139.0</td>\n",
       "      <td>...</td>\n",
       "      <td>99.0</td>\n",
       "      <td>111.0</td>\n",
       "      <td>74.0</td>\n",
       "      <td>100.0</td>\n",
       "      <td>115.0</td>\n",
       "      <td>71.0</td>\n",
       "      <td>99.0</td>\n",
       "      <td>120.0</td>\n",
       "      <td>79.0</td>\n",
       "      <td>44.0</td>\n",
       "    </tr>\n",
       "    <tr>\n",
       "      <th>2018-08-14 08:00:00</th>\n",
       "      <td>1</td>\n",
       "      <td>8</td>\n",
       "      <td>116.142857</td>\n",
       "      <td>54.0</td>\n",
       "      <td>45.0</td>\n",
       "      <td>47.0</td>\n",
       "      <td>139.0</td>\n",
       "      <td>190.0</td>\n",
       "      <td>108.0</td>\n",
       "      <td>231.0</td>\n",
       "      <td>...</td>\n",
       "      <td>101.0</td>\n",
       "      <td>99.0</td>\n",
       "      <td>111.0</td>\n",
       "      <td>74.0</td>\n",
       "      <td>100.0</td>\n",
       "      <td>115.0</td>\n",
       "      <td>71.0</td>\n",
       "      <td>99.0</td>\n",
       "      <td>120.0</td>\n",
       "      <td>79.0</td>\n",
       "    </tr>\n",
       "    <tr>\n",
       "      <th>2018-08-14 09:00:00</th>\n",
       "      <td>1</td>\n",
       "      <td>9</td>\n",
       "      <td>116.214286</td>\n",
       "      <td>91.0</td>\n",
       "      <td>54.0</td>\n",
       "      <td>45.0</td>\n",
       "      <td>47.0</td>\n",
       "      <td>139.0</td>\n",
       "      <td>190.0</td>\n",
       "      <td>108.0</td>\n",
       "      <td>...</td>\n",
       "      <td>84.0</td>\n",
       "      <td>101.0</td>\n",
       "      <td>99.0</td>\n",
       "      <td>111.0</td>\n",
       "      <td>74.0</td>\n",
       "      <td>100.0</td>\n",
       "      <td>115.0</td>\n",
       "      <td>71.0</td>\n",
       "      <td>99.0</td>\n",
       "      <td>120.0</td>\n",
       "    </tr>\n",
       "    <tr>\n",
       "      <th>2018-08-14 10:00:00</th>\n",
       "      <td>1</td>\n",
       "      <td>10</td>\n",
       "      <td>116.303571</td>\n",
       "      <td>135.0</td>\n",
       "      <td>91.0</td>\n",
       "      <td>54.0</td>\n",
       "      <td>45.0</td>\n",
       "      <td>47.0</td>\n",
       "      <td>139.0</td>\n",
       "      <td>190.0</td>\n",
       "      <td>...</td>\n",
       "      <td>89.0</td>\n",
       "      <td>84.0</td>\n",
       "      <td>101.0</td>\n",
       "      <td>99.0</td>\n",
       "      <td>111.0</td>\n",
       "      <td>74.0</td>\n",
       "      <td>100.0</td>\n",
       "      <td>115.0</td>\n",
       "      <td>71.0</td>\n",
       "      <td>99.0</td>\n",
       "    </tr>\n",
       "    <tr>\n",
       "      <th>2018-08-14 11:00:00</th>\n",
       "      <td>1</td>\n",
       "      <td>11</td>\n",
       "      <td>116.636905</td>\n",
       "      <td>155.0</td>\n",
       "      <td>135.0</td>\n",
       "      <td>91.0</td>\n",
       "      <td>54.0</td>\n",
       "      <td>45.0</td>\n",
       "      <td>47.0</td>\n",
       "      <td>139.0</td>\n",
       "      <td>...</td>\n",
       "      <td>87.0</td>\n",
       "      <td>89.0</td>\n",
       "      <td>84.0</td>\n",
       "      <td>101.0</td>\n",
       "      <td>99.0</td>\n",
       "      <td>111.0</td>\n",
       "      <td>74.0</td>\n",
       "      <td>100.0</td>\n",
       "      <td>115.0</td>\n",
       "      <td>71.0</td>\n",
       "    </tr>\n",
       "    <tr>\n",
       "      <th>...</th>\n",
       "      <td>...</td>\n",
       "      <td>...</td>\n",
       "      <td>...</td>\n",
       "      <td>...</td>\n",
       "      <td>...</td>\n",
       "      <td>...</td>\n",
       "      <td>...</td>\n",
       "      <td>...</td>\n",
       "      <td>...</td>\n",
       "      <td>...</td>\n",
       "      <td>...</td>\n",
       "      <td>...</td>\n",
       "      <td>...</td>\n",
       "      <td>...</td>\n",
       "      <td>...</td>\n",
       "      <td>...</td>\n",
       "      <td>...</td>\n",
       "      <td>...</td>\n",
       "      <td>...</td>\n",
       "      <td>...</td>\n",
       "      <td>...</td>\n",
       "    </tr>\n",
       "    <tr>\n",
       "      <th>2018-08-31 19:00:00</th>\n",
       "      <td>4</td>\n",
       "      <td>19</td>\n",
       "      <td>154.297619</td>\n",
       "      <td>207.0</td>\n",
       "      <td>217.0</td>\n",
       "      <td>197.0</td>\n",
       "      <td>116.0</td>\n",
       "      <td>133.0</td>\n",
       "      <td>166.0</td>\n",
       "      <td>136.0</td>\n",
       "      <td>...</td>\n",
       "      <td>196.0</td>\n",
       "      <td>187.0</td>\n",
       "      <td>160.0</td>\n",
       "      <td>246.0</td>\n",
       "      <td>273.0</td>\n",
       "      <td>173.0</td>\n",
       "      <td>242.0</td>\n",
       "      <td>166.0</td>\n",
       "      <td>179.0</td>\n",
       "      <td>113.0</td>\n",
       "    </tr>\n",
       "    <tr>\n",
       "      <th>2018-08-31 20:00:00</th>\n",
       "      <td>4</td>\n",
       "      <td>20</td>\n",
       "      <td>154.434524</td>\n",
       "      <td>136.0</td>\n",
       "      <td>207.0</td>\n",
       "      <td>217.0</td>\n",
       "      <td>197.0</td>\n",
       "      <td>116.0</td>\n",
       "      <td>133.0</td>\n",
       "      <td>166.0</td>\n",
       "      <td>...</td>\n",
       "      <td>118.0</td>\n",
       "      <td>196.0</td>\n",
       "      <td>187.0</td>\n",
       "      <td>160.0</td>\n",
       "      <td>246.0</td>\n",
       "      <td>273.0</td>\n",
       "      <td>173.0</td>\n",
       "      <td>242.0</td>\n",
       "      <td>166.0</td>\n",
       "      <td>179.0</td>\n",
       "    </tr>\n",
       "    <tr>\n",
       "      <th>2018-08-31 21:00:00</th>\n",
       "      <td>4</td>\n",
       "      <td>21</td>\n",
       "      <td>154.285714</td>\n",
       "      <td>154.0</td>\n",
       "      <td>136.0</td>\n",
       "      <td>207.0</td>\n",
       "      <td>217.0</td>\n",
       "      <td>197.0</td>\n",
       "      <td>116.0</td>\n",
       "      <td>133.0</td>\n",
       "      <td>...</td>\n",
       "      <td>74.0</td>\n",
       "      <td>118.0</td>\n",
       "      <td>196.0</td>\n",
       "      <td>187.0</td>\n",
       "      <td>160.0</td>\n",
       "      <td>246.0</td>\n",
       "      <td>273.0</td>\n",
       "      <td>173.0</td>\n",
       "      <td>242.0</td>\n",
       "      <td>166.0</td>\n",
       "    </tr>\n",
       "    <tr>\n",
       "      <th>2018-08-31 22:00:00</th>\n",
       "      <td>4</td>\n",
       "      <td>22</td>\n",
       "      <td>154.244048</td>\n",
       "      <td>159.0</td>\n",
       "      <td>154.0</td>\n",
       "      <td>136.0</td>\n",
       "      <td>207.0</td>\n",
       "      <td>217.0</td>\n",
       "      <td>197.0</td>\n",
       "      <td>116.0</td>\n",
       "      <td>...</td>\n",
       "      <td>22.0</td>\n",
       "      <td>74.0</td>\n",
       "      <td>118.0</td>\n",
       "      <td>196.0</td>\n",
       "      <td>187.0</td>\n",
       "      <td>160.0</td>\n",
       "      <td>246.0</td>\n",
       "      <td>273.0</td>\n",
       "      <td>173.0</td>\n",
       "      <td>242.0</td>\n",
       "    </tr>\n",
       "    <tr>\n",
       "      <th>2018-08-31 23:00:00</th>\n",
       "      <td>4</td>\n",
       "      <td>23</td>\n",
       "      <td>154.130952</td>\n",
       "      <td>223.0</td>\n",
       "      <td>159.0</td>\n",
       "      <td>154.0</td>\n",
       "      <td>136.0</td>\n",
       "      <td>207.0</td>\n",
       "      <td>217.0</td>\n",
       "      <td>197.0</td>\n",
       "      <td>...</td>\n",
       "      <td>108.0</td>\n",
       "      <td>22.0</td>\n",
       "      <td>74.0</td>\n",
       "      <td>118.0</td>\n",
       "      <td>196.0</td>\n",
       "      <td>187.0</td>\n",
       "      <td>160.0</td>\n",
       "      <td>246.0</td>\n",
       "      <td>273.0</td>\n",
       "      <td>173.0</td>\n",
       "    </tr>\n",
       "  </tbody>\n",
       "</table>\n",
       "<p>425 rows × 171 columns</p>\n",
       "</div>"
      ],
      "text/plain": [
       "                     dayofweek  hour  rolling_mean  lag_1  lag_2  lag_3  \\\n",
       "datetime                                                                  \n",
       "2018-08-14 07:00:00          1     7    116.083333   45.0   47.0  139.0   \n",
       "2018-08-14 08:00:00          1     8    116.142857   54.0   45.0   47.0   \n",
       "2018-08-14 09:00:00          1     9    116.214286   91.0   54.0   45.0   \n",
       "2018-08-14 10:00:00          1    10    116.303571  135.0   91.0   54.0   \n",
       "2018-08-14 11:00:00          1    11    116.636905  155.0  135.0   91.0   \n",
       "...                        ...   ...           ...    ...    ...    ...   \n",
       "2018-08-31 19:00:00          4    19    154.297619  207.0  217.0  197.0   \n",
       "2018-08-31 20:00:00          4    20    154.434524  136.0  207.0  217.0   \n",
       "2018-08-31 21:00:00          4    21    154.285714  154.0  136.0  207.0   \n",
       "2018-08-31 22:00:00          4    22    154.244048  159.0  154.0  136.0   \n",
       "2018-08-31 23:00:00          4    23    154.130952  223.0  159.0  154.0   \n",
       "\n",
       "                     lag_4  lag_5  lag_6  lag_7  ...  lag_159  lag_160  \\\n",
       "datetime                                         ...                     \n",
       "2018-08-14 07:00:00  190.0  108.0  231.0  139.0  ...     99.0    111.0   \n",
       "2018-08-14 08:00:00  139.0  190.0  108.0  231.0  ...    101.0     99.0   \n",
       "2018-08-14 09:00:00   47.0  139.0  190.0  108.0  ...     84.0    101.0   \n",
       "2018-08-14 10:00:00   45.0   47.0  139.0  190.0  ...     89.0     84.0   \n",
       "2018-08-14 11:00:00   54.0   45.0   47.0  139.0  ...     87.0     89.0   \n",
       "...                    ...    ...    ...    ...  ...      ...      ...   \n",
       "2018-08-31 19:00:00  116.0  133.0  166.0  136.0  ...    196.0    187.0   \n",
       "2018-08-31 20:00:00  197.0  116.0  133.0  166.0  ...    118.0    196.0   \n",
       "2018-08-31 21:00:00  217.0  197.0  116.0  133.0  ...     74.0    118.0   \n",
       "2018-08-31 22:00:00  207.0  217.0  197.0  116.0  ...     22.0     74.0   \n",
       "2018-08-31 23:00:00  136.0  207.0  217.0  197.0  ...    108.0     22.0   \n",
       "\n",
       "                     lag_161  lag_162  lag_163  lag_164  lag_165  lag_166  \\\n",
       "datetime                                                                    \n",
       "2018-08-14 07:00:00     74.0    100.0    115.0     71.0     99.0    120.0   \n",
       "2018-08-14 08:00:00    111.0     74.0    100.0    115.0     71.0     99.0   \n",
       "2018-08-14 09:00:00     99.0    111.0     74.0    100.0    115.0     71.0   \n",
       "2018-08-14 10:00:00    101.0     99.0    111.0     74.0    100.0    115.0   \n",
       "2018-08-14 11:00:00     84.0    101.0     99.0    111.0     74.0    100.0   \n",
       "...                      ...      ...      ...      ...      ...      ...   \n",
       "2018-08-31 19:00:00    160.0    246.0    273.0    173.0    242.0    166.0   \n",
       "2018-08-31 20:00:00    187.0    160.0    246.0    273.0    173.0    242.0   \n",
       "2018-08-31 21:00:00    196.0    187.0    160.0    246.0    273.0    173.0   \n",
       "2018-08-31 22:00:00    118.0    196.0    187.0    160.0    246.0    273.0   \n",
       "2018-08-31 23:00:00     74.0    118.0    196.0    187.0    160.0    246.0   \n",
       "\n",
       "                     lag_167  lag_168  \n",
       "datetime                               \n",
       "2018-08-14 07:00:00     79.0     44.0  \n",
       "2018-08-14 08:00:00    120.0     79.0  \n",
       "2018-08-14 09:00:00     99.0    120.0  \n",
       "2018-08-14 10:00:00     71.0     99.0  \n",
       "2018-08-14 11:00:00    115.0     71.0  \n",
       "...                      ...      ...  \n",
       "2018-08-31 19:00:00    179.0    113.0  \n",
       "2018-08-31 20:00:00    166.0    179.0  \n",
       "2018-08-31 21:00:00    242.0    166.0  \n",
       "2018-08-31 22:00:00    173.0    242.0  \n",
       "2018-08-31 23:00:00    273.0    173.0  \n",
       "\n",
       "[425 rows x 171 columns]"
      ]
     },
     "execution_count": 38,
     "metadata": {},
     "output_type": "execute_result"
    }
   ],
   "source": [
    "features_test"
   ]
  },
  {
   "cell_type": "markdown",
   "id": "00f6410a",
   "metadata": {},
   "source": [
    "<img src=\"https://upload.wikimedia.org/wikipedia/commons/b/ba/Warning_sign_4.0.png\" align=left width=44, heigth=33>\n",
    "<div class=\"alert alert-warning\">\n",
    "<b>v2</b>    \n",
    "Советую просто удалить пропущенные значения... Заполнение средним исказит картину.\n",
    "</div>"
   ]
  },
  {
   "cell_type": "markdown",
   "id": "61e87161",
   "metadata": {},
   "source": [
    "<div class=\"alert alert-block alert-info\">\n",
    "    <b>Комментарий студента2:</b> Ок.</div>"
   ]
  },
  {
   "cell_type": "markdown",
   "id": "300a559f",
   "metadata": {},
   "source": [
    "<img src=\"https://upload.wikimedia.org/wikipedia/commons/thumb/8/81/Stop_sign.png/240px-Stop_sign.png\" align=left width=35, heigth=35>\n",
    "<div class=\"alert alert-danger\">\n",
    "При разделении на выборки данные не должны перемешиваться (использй shuffle=False).</div>"
   ]
  },
  {
   "cell_type": "markdown",
   "id": "b31b7004",
   "metadata": {},
   "source": [
    "<div class=\"alert alert-block alert-info\">\n",
    "<b>Комментарий студента:</b> Исправил.</div>"
   ]
  },
  {
   "cell_type": "markdown",
   "id": "df2411ae",
   "metadata": {},
   "source": [
    "<img src=\"https://emojigraph.org/media/apple/check-mark-button_2705.png\" align=left width=33, heigth=33>\n",
    "<div class=\"alert alert-success\">\n",
    "<b>v2</b> 👍 </div>"
   ]
  },
  {
   "cell_type": "markdown",
   "id": "831ed1ca",
   "metadata": {},
   "source": [
    "<img src=\"https://upload.wikimedia.org/wikipedia/commons/b/ba/Warning_sign_4.0.png\" align=left width=44, heigth=33>\n",
    "<div class=\"alert alert-warning\">\n",
    "Советую валидационую выборку взять равной тестовой, или использовть кросс-валидацию. Но для корректной кросс-валидации по временным рядам  нужно использовать  <a href=\"https://scikit-learn.org/stable/modules/generated/sklearn.model_selection.TimeSeriesSplit.html\">TimeSeriesSplit</a>. Объект этого типа можно передать в параметр cv в метод основанный на кросс-валидации.\n",
    "</div>\n",
    "\n",
    "    tscv = TimeSeriesSplit(n_splits=5)\n",
    "    gsearch = GridSearchCV(estimator=model, cv=tscv, param_grid=param_search)\n",
    "    gsearch.fit(X, y).</div>"
   ]
  },
  {
   "cell_type": "markdown",
   "id": "5c47ad7d",
   "metadata": {},
   "source": [
    "<div class=\"alert alert-block alert-info\">\n",
    "<b>Комментарий студента:</b> Про GridSearch понял, но пока нет времени поизучать. Сделал 1 вариант.</div>"
   ]
  },
  {
   "cell_type": "markdown",
   "id": "49d17baa",
   "metadata": {},
   "source": [
    "### Масштабирование признаков"
   ]
  },
  {
   "cell_type": "code",
   "execution_count": 39,
   "id": "d547d860",
   "metadata": {},
   "outputs": [],
   "source": [
    "scaler = StandardScaler()\n",
    "scaler.fit(features_train)\n",
    "\n",
    "features_train = scaler.transform(features_train)\n",
    "features_valid = scaler.transform(features_valid)"
   ]
  },
  {
   "cell_type": "code",
   "execution_count": 40,
   "id": "de196a20",
   "metadata": {},
   "outputs": [],
   "source": [
    "features_test = scaler.transform(features_test)"
   ]
  },
  {
   "cell_type": "markdown",
   "id": "ad097b1a",
   "metadata": {},
   "source": [
    "<img src=\"https://emojigraph.org/media/apple/check-mark-button_2705.png\" align=left width=33, heigth=33>\n",
    "<div class=\"alert alert-success\">\n",
    " 👍 </div>"
   ]
  },
  {
   "cell_type": "markdown",
   "id": "782b8940",
   "metadata": {},
   "source": [
    "### CatBoostRegressor"
   ]
  },
  {
   "cell_type": "code",
   "execution_count": 41,
   "id": "c2fcf6c7",
   "metadata": {},
   "outputs": [
    {
     "name": "stdout",
     "output_type": "stream",
     "text": [
      "Wall time: 23.3 s\n"
     ]
    },
    {
     "data": {
      "text/plain": [
       "<catboost.core.CatBoostRegressor at 0x259a3117940>"
      ]
     },
     "execution_count": 41,
     "metadata": {},
     "output_type": "execute_result"
    }
   ],
   "source": [
    "%%time\n",
    "#обучение модели\n",
    "catboost = CatBoostRegressor(random_state=12345)\n",
    " \n",
    "catboost.fit(features_train, target_train, verbose=False)"
   ]
  },
  {
   "cell_type": "code",
   "execution_count": 42,
   "id": "f2205b37",
   "metadata": {},
   "outputs": [
    {
     "name": "stdout",
     "output_type": "stream",
     "text": [
      "29.916948832974075\n",
      "0.58603\n",
      "Wall time: 9 ms\n"
     ]
    }
   ],
   "source": [
    "%%time\n",
    "#предсказание и оценка модели\n",
    "predicted = catboost.predict(features_valid)\n",
    "mse = mean_squared_error(target_valid,predicted)\n",
    "print(mse ** 0.5)\n",
    "print(r2_score(target_valid, predicted).round(5))"
   ]
  },
  {
   "cell_type": "markdown",
   "id": "f200a0c8",
   "metadata": {},
   "source": [
    "<img src=\"https://upload.wikimedia.org/wikipedia/commons/thumb/8/81/Stop_sign.png/240px-Stop_sign.png\" align=left width=35, heigth=35>\n",
    "<div class=\"alert alert-danger\">\n",
    "Наша целевая метрика - rmse. А ты использовал квадратный корень из mae, как следствие получились слишком низкие значения.</div>"
   ]
  },
  {
   "cell_type": "markdown",
   "id": "67a29fdf",
   "metadata": {},
   "source": [
    "<div class=\"alert alert-block alert-info\">\n",
    "<b>Комментарий студента:</b> Да, невнимателен. Спасибо!</div>"
   ]
  },
  {
   "cell_type": "markdown",
   "id": "da22524e",
   "metadata": {},
   "source": [
    "<img src=\"https://emojigraph.org/media/apple/check-mark-button_2705.png\" align=left width=33, heigth=33>\n",
    "<div class=\"alert alert-success\">\n",
    "<b>v2</b> исправлено </div>"
   ]
  },
  {
   "cell_type": "code",
   "execution_count": 43,
   "id": "35707d58",
   "metadata": {},
   "outputs": [
    {
     "name": "stdout",
     "output_type": "stream",
     "text": [
      "при глубине 1\n",
      "30.82433917547378\n",
      "0.56053\n",
      "при глубине 2\n",
      "30.5714695386364\n",
      "0.56771\n",
      "при глубине 3\n",
      "30.289868300050113\n",
      "0.57564\n",
      "при глубине 4\n",
      "30.42177335443817\n",
      "0.57194\n",
      "при глубине 5\n",
      "30.257222314827015\n",
      "0.57656\n",
      "при глубине 6\n",
      "29.916948832974075\n",
      "0.58603\n",
      "при глубине 7\n",
      "30.02755716453352\n",
      "0.58296\n",
      "при глубине 8\n",
      "30.266980681125986\n",
      "0.57628\n",
      "при глубине 9\n",
      "30.529583362805557\n",
      "0.5689\n",
      "при глубине 10\n",
      "31.083782209206465\n",
      "0.5531\n"
     ]
    }
   ],
   "source": [
    "#подбор гиперпараметров\n",
    "for i in range(1,11):\n",
    "    catboost = CatBoostRegressor(random_state=12345, max_depth=i)\n",
    " \n",
    "    catboost.fit(features_train, target_train, verbose=False)\n",
    "    predicted = catboost.predict(features_valid)\n",
    "    mse = mean_squared_error(target_valid,predicted)\n",
    "    print('при глубине', i)\n",
    "    print(mse ** 0.5)\n",
    "    print(r2_score(target_valid, predicted).round(5))"
   ]
  },
  {
   "cell_type": "markdown",
   "id": "c5ccf824",
   "metadata": {},
   "source": [
    "RMSE = 28.8.\n",
    "Эффективность - 60%.\n",
    "Лучшая модель при  глубине 5."
   ]
  },
  {
   "cell_type": "markdown",
   "id": "92d601e0",
   "metadata": {},
   "source": [
    "### Дерево решений"
   ]
  },
  {
   "cell_type": "code",
   "execution_count": 44,
   "id": "4126b192",
   "metadata": {},
   "outputs": [
    {
     "name": "stdout",
     "output_type": "stream",
     "text": [
      "Wall time: 3.97 s\n"
     ]
    },
    {
     "data": {
      "text/plain": [
       "DecisionTreeClassifier(random_state=12345)"
      ]
     },
     "execution_count": 44,
     "metadata": {},
     "output_type": "execute_result"
    }
   ],
   "source": [
    "%%time\n",
    "#обучение модели\n",
    "model = DecisionTreeClassifier(random_state=12345)\n",
    "model.fit(features_train, target_train) "
   ]
  },
  {
   "cell_type": "code",
   "execution_count": 45,
   "id": "b41f6a4e",
   "metadata": {},
   "outputs": [
    {
     "name": "stdout",
     "output_type": "stream",
     "text": [
      "41.01233673793634\n",
      "0.22202\n",
      "Wall time: 4 ms\n"
     ]
    }
   ],
   "source": [
    "%%time\n",
    "#предсказание и оценка модели\n",
    "predicted = model.predict(features_valid)\n",
    "mse = mean_squared_error(target_valid,predicted)\n",
    "print(mse ** 0.5)\n",
    "print(r2_score(target_valid, predicted).round(5))"
   ]
  },
  {
   "cell_type": "code",
   "execution_count": 46,
   "id": "a0c7c231",
   "metadata": {},
   "outputs": [
    {
     "name": "stdout",
     "output_type": "stream",
     "text": [
      "при глубине 10\n",
      "36.99414898093386\n",
      "0.367\n",
      "при глубине 15\n",
      "39.99955882109643\n",
      "0.25997\n",
      "при глубине 20\n",
      "41.08974396152316\n",
      "0.21908\n",
      "при глубине 25\n",
      "42.17969960565781\n",
      "0.1771\n",
      "при глубине 30\n",
      "41.55280127882652\n",
      "0.20138\n",
      "при глубине 35\n",
      "41.91240164634694\n",
      "0.1875\n",
      "при глубине 40\n",
      "41.00642704288597\n",
      "0.22225\n",
      "при глубине 45\n",
      "40.94926559709192\n",
      "0.22441\n"
     ]
    }
   ],
   "source": [
    "#подбор гиперпараметров\n",
    "for i in range(10,50,5):\n",
    "    model = DecisionTreeClassifier(random_state=12345,max_depth = i)\n",
    "    model.fit(features_train, target_train)\n",
    "    predicted = model.predict(features_valid)\n",
    "    mse = mean_squared_error(target_valid,predicted)\n",
    "    print('при глубине', i)\n",
    "    print(mse ** 0.5)\n",
    "    print(r2_score(target_valid, predicted).round(5))"
   ]
  },
  {
   "cell_type": "markdown",
   "id": "dc57fc82",
   "metadata": {},
   "source": [
    "RMSE = 39. Эффективность - 25%. Неэффективная модель."
   ]
  },
  {
   "cell_type": "markdown",
   "id": "ed2cf575",
   "metadata": {},
   "source": [
    "### LightGBM"
   ]
  },
  {
   "cell_type": "code",
   "execution_count": 47,
   "id": "46f295f4",
   "metadata": {},
   "outputs": [
    {
     "name": "stdout",
     "output_type": "stream",
     "text": [
      "Wall time: 368 ms\n"
     ]
    },
    {
     "data": {
      "text/plain": [
       "LGBMRegressor(random_state=12345)"
      ]
     },
     "execution_count": 47,
     "metadata": {},
     "output_type": "execute_result"
    }
   ],
   "source": [
    "%%time\n",
    "#обучение модели\n",
    "model = LGBMRegressor(random_state=12345)\n",
    "model.fit(features_train,target_train)"
   ]
  },
  {
   "cell_type": "code",
   "execution_count": 48,
   "id": "31c5310b",
   "metadata": {},
   "outputs": [
    {
     "name": "stdout",
     "output_type": "stream",
     "text": [
      "30.138190929834728\n",
      "0.57988\n",
      "Wall time: 4.99 ms\n"
     ]
    }
   ],
   "source": [
    "%%time\n",
    "#предсказание и оценка модели\n",
    "predicted = model.predict(features_valid)\n",
    "mse = mean_squared_error(target_valid,predicted)\n",
    "print(mse ** 0.5)\n",
    "print(r2_score(target_valid, predicted).round(5))"
   ]
  },
  {
   "cell_type": "code",
   "execution_count": 49,
   "id": "2112caa9",
   "metadata": {},
   "outputs": [
    {
     "name": "stdout",
     "output_type": "stream",
     "text": [
      "при глубине 0 кол-ве деревьев 10\n",
      "38.118519577596565\n",
      "0.32794\n",
      "при глубине 1 кол-ве деревьев 10\n",
      "48.33637778635641\n",
      "-0.08065\n",
      "при глубине 2 кол-ве деревьев 10\n",
      "42.52360812199046\n",
      "0.16363\n",
      "при глубине 3 кол-ве деревьев 10\n",
      "41.08691560372604\n",
      "0.21919\n",
      "при глубине 4 кол-ве деревьев 10\n",
      "39.554814607741086\n",
      "0.27634\n",
      "при глубине 5 кол-ве деревьев 10\n",
      "38.65543522814388\n",
      "0.30887\n",
      "при глубине 6 кол-ве деревьев 10\n",
      "38.13746920969284\n",
      "0.32727\n",
      "при глубине 7 кол-ве деревьев 10\n",
      "38.16146808825463\n",
      "0.32642\n",
      "при глубине 8 кол-ве деревьев 10\n",
      "38.21513731454877\n",
      "0.32452\n",
      "при глубине 9 кол-ве деревьев 10\n",
      "38.118519577596565\n",
      "0.32794\n",
      "при глубине 10 кол-ве деревьев 10\n",
      "38.118519577596565\n",
      "0.32794\n",
      "при глубине 0 кол-ве деревьев 50\n",
      "29.765667763398607\n",
      "0.5902\n",
      "при глубине 1 кол-ве деревьев 50\n",
      "34.828237105800994\n",
      "0.43895\n",
      "при глубине 2 кол-ве деревьев 50\n",
      "31.165465535913214\n",
      "0.55075\n",
      "при глубине 3 кол-ве деревьев 50\n",
      "30.959903349445174\n",
      "0.55666\n",
      "при глубине 4 кол-ве деревьев 50\n",
      "30.763923577320163\n",
      "0.56225\n",
      "при глубине 5 кол-ве деревьев 50\n",
      "30.428197464421107\n",
      "0.57176\n",
      "при глубине 6 кол-ве деревьев 50\n",
      "29.915472938600146\n",
      "0.58607\n",
      "при глубине 7 кол-ве деревьев 50\n",
      "29.80706183329292\n",
      "0.58906\n",
      "при глубине 8 кол-ве деревьев 50\n",
      "29.427661033892782\n",
      "0.59946\n",
      "при глубине 9 кол-ве деревьев 50\n",
      "30.363837880296725\n",
      "0.57357\n",
      "при глубине 10 кол-ве деревьев 50\n",
      "30.27975909183441\n",
      "0.57592\n",
      "при глубине 0 кол-ве деревьев 500\n",
      "30.379549386309098\n",
      "0.57312\n",
      "при глубине 1 кол-ве деревьев 500\n",
      "30.76098962988825\n",
      "0.56234\n",
      "при глубине 2 кол-ве деревьев 500\n",
      "30.054625957499645\n",
      "0.58221\n",
      "при глубине 3 кол-ве деревьев 500\n",
      "30.589647523865615\n",
      "0.5672\n",
      "при глубине 4 кол-ве деревьев 500\n",
      "30.838185915164868\n",
      "0.56014\n",
      "при глубине 5 кол-ве деревьев 500\n",
      "30.386319795884585\n",
      "0.57293\n",
      "при глубине 6 кол-ве деревьев 500\n",
      "29.93480926845788\n",
      "0.58553\n",
      "при глубине 7 кол-ве деревьев 500\n",
      "30.202523697698016\n",
      "0.57808\n",
      "при глубине 8 кол-ве деревьев 500\n",
      "29.483787249536213\n",
      "0.59793\n",
      "при глубине 9 кол-ве деревьев 500\n",
      "30.508160202137166\n",
      "0.5695\n",
      "при глубине 10 кол-ве деревьев 500\n",
      "30.416696079832203\n",
      "0.57208\n",
      "при глубине 0 кол-ве деревьев 1000\n",
      "30.375409142552837\n",
      "0.57324\n",
      "при глубине 1 кол-ве деревьев 1000\n",
      "31.02462777067243\n",
      "0.5548\n",
      "при глубине 2 кол-ве деревьев 1000\n",
      "30.373333994137266\n",
      "0.5733\n",
      "при глубине 3 кол-ве деревьев 1000\n",
      "31.040899882681234\n",
      "0.55434\n",
      "при глубине 4 кол-ве деревьев 1000\n",
      "31.00759372486315\n",
      "0.55529\n",
      "при глубине 5 кол-ве деревьев 1000\n",
      "30.524359528536394\n",
      "0.56904\n",
      "при глубине 6 кол-ве деревьев 1000\n",
      "29.91028340413472\n",
      "0.58621\n",
      "при глубине 7 кол-ве деревьев 1000\n",
      "30.220112749209814\n",
      "0.57759\n",
      "при глубине 8 кол-ве деревьев 1000\n",
      "29.50375924081819\n",
      "0.59738\n",
      "при глубине 9 кол-ве деревьев 1000\n",
      "30.511881366549982\n",
      "0.5694\n",
      "при глубине 10 кол-ве деревьев 1000\n",
      "30.41594330239626\n",
      "0.5721\n",
      "при глубине 0 кол-ве деревьев 5000\n",
      "30.372753936453407\n",
      "0.57332\n",
      "при глубине 1 кол-ве деревьев 5000\n",
      "32.267349578976784\n",
      "0.51842\n",
      "при глубине 2 кол-ве деревьев 5000\n",
      "31.70140809175633\n",
      "0.53517\n",
      "при глубине 3 кол-ве деревьев 5000\n",
      "31.607629007335657\n",
      "0.53791\n",
      "при глубине 4 кол-ве деревьев 5000\n",
      "31.07253816688002\n",
      "0.55343\n",
      "при глубине 5 кол-ве деревьев 5000\n",
      "30.54868366089814\n",
      "0.56836\n",
      "при глубине 6 кол-ве деревьев 5000\n",
      "29.90557925974115\n",
      "0.58634\n",
      "при глубине 7 кол-ве деревьев 5000\n",
      "30.218241520804508\n",
      "0.57765\n",
      "при глубине 8 кол-ве деревьев 5000\n",
      "29.49894622662695\n",
      "0.59751\n",
      "при глубине 9 кол-ве деревьев 5000\n",
      "30.51185182658142\n",
      "0.5694\n",
      "при глубине 10 кол-ве деревьев 5000\n",
      "30.414855326334795\n",
      "0.57213\n"
     ]
    }
   ],
   "source": [
    "#подбор гиперпараметров\n",
    "trees = [10, 50, 500, 1000, 5000]\n",
    "for i in trees:\n",
    "    for j in range(11):\n",
    "        model = LGBMRegressor(random_state=12345,n_estimators=i, max_depth=j)\n",
    "        model.fit(features_train,target_train)\n",
    "        predicted = model.predict(features_valid)\n",
    "        mse = mean_squared_error(target_valid,predicted)\n",
    "        print('при глубине', j,'кол-ве деревьев',i)\n",
    "        print(mse ** 0.5)\n",
    "        print(r2_score(target_valid, predicted).round(5))"
   ]
  },
  {
   "cell_type": "markdown",
   "id": "1a6dac98",
   "metadata": {},
   "source": [
    "RMSE = 29.4\n",
    "Эффективность - 59%.\n",
    "Лучшая модель при глубине 8 кол-ве деревьев 500"
   ]
  },
  {
   "cell_type": "markdown",
   "id": "656049b0",
   "metadata": {},
   "source": [
    "<img src=\"https://emojigraph.org/media/apple/check-mark-button_2705.png\" align=left width=33, heigth=33>\n",
    "<div class=\"alert alert-success\">\n",
    " 👍 Модели обучены корректно (за исключением неправильной метрики) </div>"
   ]
  },
  {
   "cell_type": "markdown",
   "id": "ffd0f317",
   "metadata": {},
   "source": [
    "### Вывод"
   ]
  },
  {
   "cell_type": "markdown",
   "id": "85337b7b",
   "metadata": {},
   "source": [
    "Модель дерева решений неэффективна. CatBoostRegressor и LightGBM показывают лучшие показатели при определенных гиперпараметрах. LightGBM при глубине 6 и кол-ве деревьев 100 показывает лучшую модель среди всех обученных."
   ]
  },
  {
   "cell_type": "markdown",
   "id": "b17084a6",
   "metadata": {},
   "source": [
    "## Финальный тест"
   ]
  },
  {
   "cell_type": "code",
   "execution_count": 55,
   "id": "f02bbb54",
   "metadata": {},
   "outputs": [
    {
     "name": "stdout",
     "output_type": "stream",
     "text": [
      "Wall time: 1.76 s\n"
     ]
    },
    {
     "data": {
      "text/plain": [
       "LGBMRegressor(max_depth=8, n_estimators=500, random_state=12345)"
      ]
     },
     "execution_count": 55,
     "metadata": {},
     "output_type": "execute_result"
    }
   ],
   "source": [
    "%%time\n",
    " \n",
    "model = LGBMRegressor(random_state=12345,n_estimators=500, max_depth=8)\n",
    "model.fit(features_train,target_train)"
   ]
  },
  {
   "cell_type": "code",
   "execution_count": 56,
   "id": "e93fbcff",
   "metadata": {},
   "outputs": [
    {
     "name": "stdout",
     "output_type": "stream",
     "text": [
      "44.010210234649534\n",
      "0.4416\n",
      "Wall time: 12 ms\n"
     ]
    }
   ],
   "source": [
    "%%time\n",
    "predicted = model.predict(features_test)\n",
    "mse = mean_squared_error(target_test,predicted)\n",
    "print(mse ** 0.5)\n",
    "print(r2_score(target_test, predicted).round(5))"
   ]
  },
  {
   "cell_type": "markdown",
   "id": "441db259",
   "metadata": {},
   "source": [
    "<img src=\"https://upload.wikimedia.org/wikipedia/commons/thumb/8/81/Stop_sign.png/240px-Stop_sign.png\" align=left width=35, heigth=35>\n",
    "<div class=\"alert alert-danger\">\n",
    "Финальное тестирование производится на тестовой выборке. И пожалуйста используй правильную метрику.</div>"
   ]
  },
  {
   "cell_type": "markdown",
   "id": "fc7826f8",
   "metadata": {},
   "source": [
    "<div class=\"alert alert-block alert-info\">\n",
    "<b>Комментарий студента:</b> Да, все исправил. Спасибо!</div>"
   ]
  },
  {
   "cell_type": "markdown",
   "id": "550e0f31",
   "metadata": {},
   "source": [
    "<img src=\"https://emojigraph.org/media/apple/check-mark-button_2705.png\" align=left width=33, heigth=33>\n",
    "<div class=\"alert alert-success\">\n",
    "<b>v2</b> 👍 </div>"
   ]
  },
  {
   "cell_type": "markdown",
   "id": "ec6f6d24",
   "metadata": {},
   "source": [
    "### Вывод"
   ]
  },
  {
   "cell_type": "markdown",
   "id": "daebe1b6",
   "metadata": {},
   "source": [
    "RMSE= 44\n",
    "Эффективность - 40%."
   ]
  },
  {
   "cell_type": "markdown",
   "id": "aa299b77",
   "metadata": {},
   "source": [
    "## Эксперемент-вопрос(для ревьюера)"
   ]
  },
  {
   "cell_type": "code",
   "execution_count": 53,
   "id": "d9aeb311",
   "metadata": {},
   "outputs": [],
   "source": [
    "#добавим месяц и день\n",
    "df['month'] = df.index.month\n",
    "df['day'] = df.index.day\n",
    "features = df.drop('num_orders', axis=1)\n",
    "# извлекём целевой признак\n",
    "target = df['num_orders']\n",
    "# отделим 20% данных для валидационной и тестовой выборки в совокупности, остальные 0% - это обучающая выборка \n",
    "features_train, features_valid_test, target_train, target_valid_test = \\\n",
    "train_test_split(features,target,shuffle=False,test_size=0.2,random_state=12345)\n",
    "# отделим теперь  50% для тестовой выборки и 50 % для валидационной выборки из валидационной8 и тестовой выборки в совокупности\n",
    "features_valid, features_test, target_valid, target_test =\\\n",
    "train_test_split(features_valid_test,target_valid_test,shuffle=False,test_size=0.5,random_state=12345)\n",
    "features_train = features_train.fillna(features_train.mean())\n",
    "features_valid = features_valid.fillna(features_valid.mean())\n",
    "features_test = features_test.fillna(features_test.mean())\n",
    "scaler = StandardScaler()\n",
    "scaler.fit(features_train)\n",
    "\n",
    "features_train = scaler.transform(features_train)\n",
    "features_valid = scaler.transform(features_valid)\n",
    "features_test = scaler.transform(features_test)"
   ]
  },
  {
   "cell_type": "code",
   "execution_count": 54,
   "id": "5a14a4da",
   "metadata": {
    "scrolled": true
   },
   "outputs": [
    {
     "name": "stdout",
     "output_type": "stream",
     "text": [
      "при глубине 0 кол-ве деревьев 10\n",
      "38.08740589561348\n",
      "0.32903\n",
      "при глубине 1 кол-ве деревьев 10\n",
      "48.33637778635641\n",
      "-0.08065\n",
      "при глубине 2 кол-ве деревьев 10\n",
      "42.52360812199046\n",
      "0.16363\n",
      "при глубине 3 кол-ве деревьев 10\n",
      "41.08691560372604\n",
      "0.21919\n",
      "при глубине 4 кол-ве деревьев 10\n",
      "39.41164546526821\n",
      "0.28156\n",
      "при глубине 5 кол-ве деревьев 10\n",
      "38.656708512330006\n",
      "0.30882\n",
      "при глубине 6 кол-ве деревьев 10\n",
      "38.14238914385637\n",
      "0.32709\n",
      "при глубине 7 кол-ве деревьев 10\n",
      "38.05447411670716\n",
      "0.33019\n",
      "при глубине 8 кол-ве деревьев 10\n",
      "38.319571063996264\n",
      "0.32083\n",
      "при глубине 9 кол-ве деревьев 10\n",
      "38.08740589561348\n",
      "0.32903\n",
      "при глубине 10 кол-ве деревьев 10\n",
      "38.08740589561348\n",
      "0.32903\n",
      "при глубине 0 кол-ве деревьев 50\n",
      "29.81634168333802\n",
      "0.58881\n",
      "при глубине 1 кол-ве деревьев 50\n",
      "34.828237105800994\n",
      "0.43895\n",
      "при глубине 2 кол-ве деревьев 50\n",
      "31.356669225525437\n",
      "0.54522\n",
      "при глубине 3 кол-ве деревьев 50\n",
      "30.517259486629715\n",
      "0.56925\n",
      "при глубине 4 кол-ве деревьев 50\n",
      "30.77590575321124\n",
      "0.56191\n",
      "при глубине 5 кол-ве деревьев 50\n",
      "30.27967035790868\n",
      "0.57593\n",
      "при глубине 6 кол-ве деревьев 50\n",
      "30.54752346469802\n",
      "0.56839\n",
      "при глубине 7 кол-ве деревьев 50\n",
      "30.39822680078206\n",
      "0.5726\n",
      "при глубине 8 кол-ве деревьев 50\n",
      "30.21540963655081\n",
      "0.57772\n",
      "при глубине 9 кол-ве деревьев 50\n",
      "30.463703675215687\n",
      "0.57076\n",
      "при глубине 10 кол-ве деревьев 50\n",
      "30.323975791173133\n",
      "0.57468\n",
      "при глубине 0 кол-ве деревьев 100\n",
      "30.151126182925474\n",
      "0.57952\n",
      "при глубине 1 кол-ве деревьев 100\n",
      "31.8562969256877\n",
      "0.53061\n",
      "при глубине 2 кол-ве деревьев 100\n",
      "30.366965687521166\n",
      "0.57348\n",
      "при глубине 3 кол-ве деревьев 100\n",
      "30.179275308758985\n",
      "0.57873\n",
      "при глубине 4 кол-ве деревьев 100\n",
      "30.527005634581137\n",
      "0.56897\n",
      "при глубине 5 кол-ве деревьев 100\n",
      "30.135809153576357\n",
      "0.57995\n",
      "при глубине 6 кол-ве деревьев 100\n",
      "30.39404479352032\n",
      "0.57272\n",
      "при глубине 7 кол-ве деревьев 100\n",
      "30.374879850181856\n",
      "0.57326\n",
      "при глубине 8 кол-ве деревьев 100\n",
      "30.075021068761338\n",
      "0.58164\n",
      "при глубине 9 кол-ве деревьев 100\n",
      "30.541385111070937\n",
      "0.56856\n",
      "при глубине 10 кол-ве деревьев 100\n",
      "30.51811418901926\n",
      "0.56922\n",
      "при глубине 0 кол-ве деревьев 500\n",
      "30.33878817233191\n",
      "0.57427\n",
      "при глубине 1 кол-ве деревьев 500\n",
      "30.79433885695696\n",
      "0.56139\n",
      "при глубине 2 кол-ве деревьев 500\n",
      "30.34490929338326\n",
      "0.5741\n",
      "при глубине 3 кол-ве деревьев 500\n",
      "30.281591714487213\n",
      "0.57587\n",
      "при глубине 4 кол-ве деревьев 500\n",
      "30.95688693136663\n",
      "0.55675\n",
      "при глубине 5 кол-ве деревьев 500\n",
      "30.25671181608349\n",
      "0.57657\n",
      "при глубине 6 кол-ве деревьев 500\n",
      "30.396487891824854\n",
      "0.57265\n",
      "при глубине 7 кол-ве деревьев 500\n",
      "30.383386214811186\n",
      "0.57302\n",
      "при глубине 8 кол-ве деревьев 500\n",
      "30.116659631552103\n",
      "0.58048\n",
      "при глубине 9 кол-ве деревьев 500\n",
      "30.508351141403946\n",
      "0.5695\n",
      "при глубине 10 кол-ве деревьев 500\n",
      "30.864894111140273\n",
      "0.55938\n",
      "при глубине 0 кол-ве деревьев 1000\n",
      "30.33650785282519\n",
      "0.57433\n",
      "при глубине 1 кол-ве деревьев 1000\n",
      "31.09099913288823\n",
      "0.5529\n",
      "при глубине 2 кол-ве деревьев 1000\n",
      "30.668088247762583\n",
      "0.56498\n",
      "при глубине 3 кол-ве деревьев 1000\n",
      "30.640806106556436\n",
      "0.56575\n",
      "при глубине 4 кол-ве деревьев 1000\n",
      "31.12209049763141\n",
      "0.552\n",
      "при глубине 5 кол-ве деревьев 1000\n",
      "30.28630069054144\n",
      "0.57574\n",
      "при глубине 6 кол-ве деревьев 1000\n",
      "30.43200025769295\n",
      "0.57165\n",
      "при глубине 7 кол-ве деревьев 1000\n",
      "30.36216717411337\n",
      "0.57361\n",
      "при глубине 8 кол-ве деревьев 1000\n",
      "30.138665095697327\n",
      "0.57987\n",
      "при глубине 9 кол-ве деревьев 1000\n",
      "30.511260130895195\n",
      "0.56941\n",
      "при глубине 10 кол-ве деревьев 1000\n",
      "30.864798118985803\n",
      "0.55938\n",
      "при глубине 0 кол-ве деревьев 5000\n",
      "30.334635805008194\n",
      "0.57439\n",
      "при глубине 1 кол-ве деревьев 5000\n",
      "32.2077931877567\n",
      "0.5202\n",
      "при глубине 2 кол-ве деревьев 5000\n",
      "31.685235596407782\n",
      "0.53564\n",
      "при глубине 3 кол-ве деревьев 5000\n",
      "31.120838539210887\n",
      "0.55204\n",
      "при глубине 4 кол-ве деревьев 5000\n",
      "31.199729988773132\n",
      "0.54976\n",
      "при глубине 5 кол-ве деревьев 5000\n",
      "30.276101005754093\n",
      "0.57603\n",
      "при глубине 6 кол-ве деревьев 5000\n",
      "30.436838047932635\n",
      "0.57151\n",
      "при глубине 7 кол-ве деревьев 5000\n",
      "30.3624985039687\n",
      "0.5736\n",
      "при глубине 8 кол-ве деревьев 5000\n",
      "30.134579772049673\n",
      "0.57998\n",
      "при глубине 9 кол-ве деревьев 5000\n",
      "30.510620425927666\n",
      "0.56943\n",
      "при глубине 10 кол-ве деревьев 5000\n",
      "30.861257190383636\n",
      "0.55948\n"
     ]
    }
   ],
   "source": [
    "#подбор гиперпараметров\n",
    "trees = [10, 50, 100, 500, 1000, 5000]\n",
    "for i in trees:\n",
    "    for j in range(11):\n",
    "        model = LGBMRegressor(random_state=12345,n_estimators=i, max_depth=j)\n",
    "        model.fit(features_train,target_train)\n",
    "        predicted = model.predict(features_valid)\n",
    "        mse = mean_squared_error(target_valid,predicted)\n",
    "        print('при глубине', j,'кол-ве деревьев',i)\n",
    "        print(mse ** 0.5)\n",
    "        print(r2_score(target_valid, predicted).round(5))"
   ]
  },
  {
   "cell_type": "markdown",
   "id": "ce307e8e",
   "metadata": {},
   "source": [
    "<div class=\"alert alert-block alert-info\">\n",
    "<b>Комментарий студента:</b> Почему при добавлении месяца и дня модель показывает меньше rmse и больше эффективности, в сравнении без добавления? Как узнать, что добавление месяца и дня - это ошибка(или вовсе не ошибка, ведь больше данных, значит больше эффективности?), смотреть на другие метрики?</div>"
   ]
  },
  {
   "cell_type": "markdown",
   "id": "7b33c015",
   "metadata": {},
   "source": [
    "<img src=\"http://s3.amazonaws.com/pix.iemoji.com/images/emoji/apple/ios-12/256/waving-hand.png\" align=left width=44, heigth=44>\n",
    "<div class=\"alert alert-info\">\n",
    "<b> Комментарий ревьюера v2</b>\n",
    "\n",
    "Потому что ты не использовал отстающие значения и скользящее окно и модели явно не хватает данных. А при наличии восходящего тренда модели настраиваются на признак месяц как вносящий вклад в рост.Но мы не знаем, будет ли этот рост продолжаться.\n",
    "\n",
    "Волшебного рецепта, как сфорировать правильные признаки нет. Мы делаем анализ, думаем, рассуждаем.  Не всегда больше значит лучше. Модели ищут взаимосвязи между признаками, которые мы даем и ответами. Данных о взаимосвязи между месяцем и предсказанием модели за следуюий час просто недостаточно - каждый месяц в данных всего один раз. \n",
    "\n",
    "    \n",
    "Ты молодец, что глубоко копаешь, тогда важно понимать, что подход, который мы рассмотрели в спринте - далеко не единственный, который применяется для анализа временных рядов. Это очень \"старая\" задача и подходов придумали очень много - от авторегрессионных моделей дло  рекурентных нейронных сетей и трансформеров. Наш подход - лишь один из возможных.    \n",
    "</div>"
   ]
  },
  {
   "cell_type": "markdown",
   "id": "6fd0e7a4",
   "metadata": {},
   "source": [
    "## Общий вывод"
   ]
  },
  {
   "cell_type": "markdown",
   "id": "4bc10f09",
   "metadata": {},
   "source": [
    "Ряд и летом, и весной стационарны. В августе количество заказов возрастает. Зависимость значения по часам от дня недели существует. Наибольшее кол-во заказаов в 1й, 17й, и 24й часы. Наименьшее кол-во заказов с 6го по 8й часы. В понедельник заказов меньше всего. Когда на четверг и воскресенье выпадает наибольшее количество заказов\n",
    "\n",
    "LightGBM - эффективная модель, которая на тестовых данных показывает:\n",
    "* RMSE = 45.2\n",
    "* Эффективность - 40%."
   ]
  },
  {
   "cell_type": "markdown",
   "id": "a5b27b01",
   "metadata": {},
   "source": [
    "<img src=\"http://s3.amazonaws.com/pix.iemoji.com/images/emoji/apple/ios-12/256/waving-hand.png\" align=left width=44, heigth=44>\n",
    "<div class=\"alert alert-info\">\n",
    "<b> Заключительный комментарий</b>\n",
    "\n",
    "Привет. Твоя работа показалась мне интересной, но с ней нужно еще хорошо поработать.\n",
    "    \n",
    "Во первых я советую тебе внести корректировки в EDA. Оставлять ли блок с самоятоятельным поиском сезонности - на твое усмотрение (хотя не советую изобретать велосипед), но пожалуйста обязательно исследуй сезонность с помощью seasonal_decompose.\n",
    "    \n",
    "Что нужно доработать обязательно (красные комментарии)\n",
    "    \n",
    "  - удалить календарный признак месяц\n",
    "  - нужно использовать все типы признаков (календарные, отстающие значения, скользящее окно)\n",
    "  - при разделении на выборки даные не должны перемешиваться (это специфика временых рядов)\n",
    "  - пожалуйста, используй правильную метрику (rmse)\n",
    "  - тестирование мы проводим на тестовой выборке  \n",
    " \n",
    "    \n",
    "Желтые комментарии на твое усмотрение.\n",
    "    \n",
    "Жду твой проект на финальное ревью :)\n",
    "</div>"
   ]
  },
  {
   "cell_type": "markdown",
   "id": "fa24f7e3",
   "metadata": {},
   "source": [
    "<img src=\"http://s3.amazonaws.com/pix.iemoji.com/images/emoji/apple/ios-12/256/waving-hand.png\" align=left width=44, heigth=44>\n",
    "<div class=\"alert alert-info\">\n",
    "<b> Заключительный комментарий v2</b>\n",
    "\n",
    "Привет. Нужно еще немного поработать с признаками:\n",
    "\n",
    " - К календарным признакам добавить отстающие признаки и скользящее среднее (есши забыл - можешь посмотреть в тренажере)\n",
    " - нужно удалить признаки mean и std, содержащие утечку.\n",
    "    \n",
    "Позволь сразу дам совет. Когда будешь выбирать размер окна / количство отстающих значений попробуй выбирать из из чисел 24 и 168. Это найденная в данных сезонность (сутки и неделя). По опыту скажу, что чем значение больше, тем качество моделей выше.   \n",
    "\n",
    "</div>"
   ]
  },
  {
   "cell_type": "markdown",
   "id": "ccbada2e",
   "metadata": {},
   "source": [
    "<div class=\"alert alert-block alert-info\">\n",
    "<b>Комментарий студента[2]:</b> Постарался исправить, правда, не совсем точно понял про скользящее среднее. Спасибо!</div>"
   ]
  },
  {
   "cell_type": "markdown",
   "id": "a4c9fd90",
   "metadata": {},
   "source": [
    "<img src=\"http://s3.amazonaws.com/pix.iemoji.com/images/emoji/apple/ios-12/256/waving-hand.png\" align=left width=44, heigth=44>\n",
    "<div class=\"alert alert-info\">\n",
    "<b> Заключительный комментарий v3</b>\n",
    "\n",
    "Вот со скользящим средним как раз проблемы и возникают (утечка). Постарался объяснить. Пожалуйста исправь.\n",
    "</div>"
   ]
  },
  {
   "cell_type": "code",
   "execution_count": null,
   "id": "687774c9",
   "metadata": {},
   "outputs": [],
   "source": []
  }
 ],
 "metadata": {
  "kernelspec": {
   "display_name": "Python 3 (ipykernel)",
   "language": "python",
   "name": "python3"
  },
  "language_info": {
   "codemirror_mode": {
    "name": "ipython",
    "version": 3
   },
   "file_extension": ".py",
   "mimetype": "text/x-python",
   "name": "python",
   "nbconvert_exporter": "python",
   "pygments_lexer": "ipython3",
   "version": "3.10.9"
  },
  "toc": {
   "base_numbering": 1,
   "nav_menu": {},
   "number_sections": true,
   "sideBar": true,
   "skip_h1_title": true,
   "title_cell": "Table of Contents",
   "title_sidebar": "Contents",
   "toc_cell": false,
   "toc_position": {},
   "toc_section_display": true,
   "toc_window_display": false
  }
 },
 "nbformat": 4,
 "nbformat_minor": 5
}
